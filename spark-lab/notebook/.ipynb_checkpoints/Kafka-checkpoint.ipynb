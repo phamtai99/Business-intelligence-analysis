{
 "cells": [
  {
   "cell_type": "code",
   "execution_count": null,
   "metadata": {},
   "outputs": [],
   "source": [
    "!pip install kafka-python\n",
    "!pip install numpy"
   ]
  },
  {
   "cell_type": "code",
   "execution_count": 2,
   "metadata": {},
   "outputs": [],
   "source": [
    "import os \n",
    "\n",
    "packages = \"org.apache.spark:spark-sql-kafka-0-10_2.12:3.0.1\"\n",
    "os.environ[\"PYSPARK_PYTHON\"]=\"python3.7\"\n",
    "os.environ[\"PYSPARK_DRIVER_PYTHON\"]=\"python3.7\"\n",
    "os.environ[\"PYSPARK_SUBMIT_ARGS\"] = (\"--packages {0} pyspark-shell\".format(packages))"
   ]
  },
  {
   "cell_type": "code",
   "execution_count": 3,
   "metadata": {},
   "outputs": [],
   "source": [
    "from pyspark.sql import SparkSession, DataFrame\n",
    "from pyspark.sql.functions import *\n",
    "from pyspark.sql.types import *\n",
    "from pyspark.context import SparkContext\n",
    "KAFKA_BROKER = \"kafka:9092\"\n",
    "KAFKA_TOPIC = \"fixcer\"\n",
    "\n",
    "# spark = SparkSession \\\n",
    "#         .builder \\\n",
    "#         .master(\"spark://spark-master:7077\") \\\n",
    "#         .appName(\"Kafka\") \\\n",
    "#         .getOrCreate()\n",
    "sc = SparkContext('local')\n",
    "spark = SparkSession(sc)"
   ]
  },
  {
   "cell_type": "code",
   "execution_count": 4,
   "metadata": {},
   "outputs": [],
   "source": [
    "# static = spark.read.json(\"../data/activity-data/\")\n"
   ]
  },
  {
   "cell_type": "code",
   "execution_count": 5,
   "metadata": {},
   "outputs": [],
   "source": [
    "static=spark.read.format(\"json\").option(\"mode\", \"FAILFAST\")\\\n",
    ".option(\"inferSchema\", \"true\").load(\"hdfs://namenode/user/root/data170001-187000.json\")  \n",
    "dataSchema =static.schema\n",
    "df = spark.readStream.schema(dataSchema).json(\"hdfs://namenode/user/root/data170001-187000.json\")"
   ]
  },
  {
   "cell_type": "code",
   "execution_count": null,
   "metadata": {},
   "outputs": [],
   "source": []
  },
  {
   "cell_type": "code",
   "execution_count": 6,
   "metadata": {},
   "outputs": [],
   "source": [
    "# df.printSchema()"
   ]
  },
  {
   "cell_type": "code",
   "execution_count": 7,
   "metadata": {},
   "outputs": [],
   "source": [
    "df = df.na.drop().dropDuplicates()"
   ]
  },
  {
   "cell_type": "code",
   "execution_count": 8,
   "metadata": {},
   "outputs": [],
   "source": [
    "df = df.filter(size(df['comments']) >= 30)"
   ]
  },
  {
   "cell_type": "code",
   "execution_count": 9,
   "metadata": {},
   "outputs": [],
   "source": [
    "import re\n",
    "\n",
    "def convertString(string):\n",
    "    try:\n",
    "        string = re.sub('\\D', '', string)\n",
    "        return int(string)\n",
    "    except:\n",
    "        return 0\n",
    "        \n",
    "\n",
    "convert = udf(convertString, IntegerType())\n",
    "df = df.withColumn(\"androidVersion\", convert(col(\"androidVersion\")))\n",
    "df = df.withColumn(\"currentVersion\", convert(col(\"currentVersion\")))\n",
    "df = df.withColumn(\"size\", convert(col(\"size\")))"
   ]
  },
  {
   "cell_type": "code",
   "execution_count": null,
   "metadata": {},
   "outputs": [],
   "source": [
    "# df.show()"
   ]
  },
  {
   "cell_type": "code",
   "execution_count": null,
   "metadata": {},
   "outputs": [],
   "source": [
    "# df.printSchema()"
   ]
  },
  {
   "cell_type": "code",
   "execution_count": 12,
   "metadata": {},
   "outputs": [
    {
     "ename": "AnalysisException",
     "evalue": "cannot resolve '`size`' given input columns: [androidVersion, category, comments, contentRating, currentVersion, installs, lastUpdate, price, ratings, reviews, score, sizeInt, title];;\n'Project [androidVersion#73, category#34, comments#35, contentRating#36, currentVersion#88, installs#38L, lastUpdate#39L, price#40, ratings#41L, reviews#42L, score#43, title#45, convertSize('size) AS sizeInt#147]\n+- Project [androidVersion#73, category#34, comments#35, contentRating#36, currentVersion#88, installs#38L, lastUpdate#39L, price#40, ratings#41L, reviews#42L, score#43, title#45, sizeInt#118]\n   +- Project [androidVersion#73, category#34, comments#35, contentRating#36, currentVersion#88, installs#38L, lastUpdate#39L, price#40, ratings#41L, reviews#42L, score#43, size#103, title#45, convertSize(size#103) AS sizeInt#118]\n      +- Project [androidVersion#73, category#34, comments#35, contentRating#36, currentVersion#88, installs#38L, lastUpdate#39L, price#40, ratings#41L, reviews#42L, score#43, convertString(size#44) AS size#103, title#45]\n         +- Project [androidVersion#73, category#34, comments#35, contentRating#36, convertString(currentVersion#37) AS currentVersion#88, installs#38L, lastUpdate#39L, price#40, ratings#41L, reviews#42L, score#43, size#44, title#45]\n            +- Project [convertString(androidVersion#33) AS androidVersion#73, category#34, comments#35, contentRating#36, currentVersion#37, installs#38L, lastUpdate#39L, price#40, ratings#41L, reviews#42L, score#43, size#44, title#45]\n               +- Filter (size(comments#35, true) >= 30)\n                  +- Deduplicate [androidVersion#33, category#34, comments#35, contentRating#36, currentVersion#37, installs#38L, lastUpdate#39L, price#40, ratings#41L, reviews#42L, score#43, size#44, title#45]\n                     +- Filter AtLeastNNulls(n, androidVersion#33,category#34,comments#35,contentRating#36,currentVersion#37,installs#38L,lastUpdate#39L,price#40,ratings#41L,reviews#42L,score#43,size#44,title#45)\n                        +- StreamingRelation DataSource(org.apache.spark.sql.SparkSession@236c3c92,json,List(),Some(StructType(StructField(androidVersion,StringType,true), StructField(category,StringType,true), StructField(comments,ArrayType(StringType,true),true), StructField(contentRating,StringType,true), StructField(currentVersion,StringType,true), StructField(installs,LongType,true), StructField(lastUpdate,LongType,true), StructField(price,DoubleType,true), StructField(ratings,LongType,true), StructField(reviews,LongType,true), StructField(score,DoubleType,true), StructField(size,StringType,true), StructField(title,StringType,true))),List(),None,Map(maxFilesPerTrigger -> 1, path -> hdfs://namenode/user/root/data170001-187000.json),None), FileSource[hdfs://namenode/user/root/data170001-187000.json], [androidVersion#33, category#34, comments#35, contentRating#36, currentVersion#37, installs#38L, lastUpdate#39L, price#40, ratings#41L, reviews#42L, score#43, size#44, title#45]\n",
     "output_type": "error",
     "traceback": [
      "\u001b[0;31m---------------------------------------------------------------------------\u001b[0m",
      "\u001b[0;31mAnalysisException\u001b[0m                         Traceback (most recent call last)",
      "\u001b[0;32m<ipython-input-12-79e76613b996>\u001b[0m in \u001b[0;36m<module>\u001b[0;34m\u001b[0m\n\u001b[1;32m      8\u001b[0m     \u001b[0;32mreturn\u001b[0m \u001b[0mnp\u001b[0m\u001b[0;34m.\u001b[0m\u001b[0mnan\u001b[0m\u001b[0;34m\u001b[0m\u001b[0;34m\u001b[0m\u001b[0m\n\u001b[1;32m      9\u001b[0m \u001b[0mconvert\u001b[0m \u001b[0;34m=\u001b[0m \u001b[0mudf\u001b[0m\u001b[0;34m(\u001b[0m\u001b[0mconvertSize\u001b[0m\u001b[0;34m,\u001b[0m \u001b[0mDoubleType\u001b[0m\u001b[0;34m(\u001b[0m\u001b[0;34m)\u001b[0m\u001b[0;34m)\u001b[0m\u001b[0;34m\u001b[0m\u001b[0;34m\u001b[0m\u001b[0m\n\u001b[0;32m---> 10\u001b[0;31m \u001b[0mdf\u001b[0m \u001b[0;34m=\u001b[0m \u001b[0mdf\u001b[0m\u001b[0;34m.\u001b[0m\u001b[0mwithColumn\u001b[0m\u001b[0;34m(\u001b[0m\u001b[0;34m\"sizeInt\"\u001b[0m\u001b[0;34m,\u001b[0m \u001b[0mconvert\u001b[0m\u001b[0;34m(\u001b[0m\u001b[0mcol\u001b[0m\u001b[0;34m(\u001b[0m\u001b[0;34m\"size\"\u001b[0m\u001b[0;34m)\u001b[0m\u001b[0;34m)\u001b[0m\u001b[0;34m)\u001b[0m\u001b[0;34m\u001b[0m\u001b[0;34m\u001b[0m\u001b[0m\n\u001b[0m\u001b[1;32m     11\u001b[0m \u001b[0mdf\u001b[0m \u001b[0;34m=\u001b[0m \u001b[0mdf\u001b[0m\u001b[0;34m.\u001b[0m\u001b[0mdrop\u001b[0m\u001b[0;34m(\u001b[0m\u001b[0;34m\"size\"\u001b[0m\u001b[0;34m)\u001b[0m\u001b[0;34m\u001b[0m\u001b[0;34m\u001b[0m\u001b[0m\n",
      "\u001b[0;32m/usr/local/lib/python3.7/dist-packages/pyspark/sql/dataframe.py\u001b[0m in \u001b[0;36mwithColumn\u001b[0;34m(self, colName, col)\u001b[0m\n\u001b[1;32m   2094\u001b[0m         \"\"\"\n\u001b[1;32m   2095\u001b[0m         \u001b[0;32massert\u001b[0m \u001b[0misinstance\u001b[0m\u001b[0;34m(\u001b[0m\u001b[0mcol\u001b[0m\u001b[0;34m,\u001b[0m \u001b[0mColumn\u001b[0m\u001b[0;34m)\u001b[0m\u001b[0;34m,\u001b[0m \u001b[0;34m\"col should be Column\"\u001b[0m\u001b[0;34m\u001b[0m\u001b[0;34m\u001b[0m\u001b[0m\n\u001b[0;32m-> 2096\u001b[0;31m         \u001b[0;32mreturn\u001b[0m \u001b[0mDataFrame\u001b[0m\u001b[0;34m(\u001b[0m\u001b[0mself\u001b[0m\u001b[0;34m.\u001b[0m\u001b[0m_jdf\u001b[0m\u001b[0;34m.\u001b[0m\u001b[0mwithColumn\u001b[0m\u001b[0;34m(\u001b[0m\u001b[0mcolName\u001b[0m\u001b[0;34m,\u001b[0m \u001b[0mcol\u001b[0m\u001b[0;34m.\u001b[0m\u001b[0m_jc\u001b[0m\u001b[0;34m)\u001b[0m\u001b[0;34m,\u001b[0m \u001b[0mself\u001b[0m\u001b[0;34m.\u001b[0m\u001b[0msql_ctx\u001b[0m\u001b[0;34m)\u001b[0m\u001b[0;34m\u001b[0m\u001b[0;34m\u001b[0m\u001b[0m\n\u001b[0m\u001b[1;32m   2097\u001b[0m \u001b[0;34m\u001b[0m\u001b[0m\n\u001b[1;32m   2098\u001b[0m     \u001b[0;34m@\u001b[0m\u001b[0mignore_unicode_prefix\u001b[0m\u001b[0;34m\u001b[0m\u001b[0;34m\u001b[0m\u001b[0m\n",
      "\u001b[0;32m/usr/local/lib/python3.7/dist-packages/py4j/java_gateway.py\u001b[0m in \u001b[0;36m__call__\u001b[0;34m(self, *args)\u001b[0m\n\u001b[1;32m   1303\u001b[0m         \u001b[0manswer\u001b[0m \u001b[0;34m=\u001b[0m \u001b[0mself\u001b[0m\u001b[0;34m.\u001b[0m\u001b[0mgateway_client\u001b[0m\u001b[0;34m.\u001b[0m\u001b[0msend_command\u001b[0m\u001b[0;34m(\u001b[0m\u001b[0mcommand\u001b[0m\u001b[0;34m)\u001b[0m\u001b[0;34m\u001b[0m\u001b[0;34m\u001b[0m\u001b[0m\n\u001b[1;32m   1304\u001b[0m         return_value = get_return_value(\n\u001b[0;32m-> 1305\u001b[0;31m             answer, self.gateway_client, self.target_id, self.name)\n\u001b[0m\u001b[1;32m   1306\u001b[0m \u001b[0;34m\u001b[0m\u001b[0m\n\u001b[1;32m   1307\u001b[0m         \u001b[0;32mfor\u001b[0m \u001b[0mtemp_arg\u001b[0m \u001b[0;32min\u001b[0m \u001b[0mtemp_args\u001b[0m\u001b[0;34m:\u001b[0m\u001b[0;34m\u001b[0m\u001b[0;34m\u001b[0m\u001b[0m\n",
      "\u001b[0;32m/usr/local/lib/python3.7/dist-packages/pyspark/sql/utils.py\u001b[0m in \u001b[0;36mdeco\u001b[0;34m(*a, **kw)\u001b[0m\n\u001b[1;32m    135\u001b[0m                 \u001b[0;31m# Hide where the exception came from that shows a non-Pythonic\u001b[0m\u001b[0;34m\u001b[0m\u001b[0;34m\u001b[0m\u001b[0;34m\u001b[0m\u001b[0m\n\u001b[1;32m    136\u001b[0m                 \u001b[0;31m# JVM exception message.\u001b[0m\u001b[0;34m\u001b[0m\u001b[0;34m\u001b[0m\u001b[0;34m\u001b[0m\u001b[0m\n\u001b[0;32m--> 137\u001b[0;31m                 \u001b[0mraise_from\u001b[0m\u001b[0;34m(\u001b[0m\u001b[0mconverted\u001b[0m\u001b[0;34m)\u001b[0m\u001b[0;34m\u001b[0m\u001b[0;34m\u001b[0m\u001b[0m\n\u001b[0m\u001b[1;32m    138\u001b[0m             \u001b[0;32melse\u001b[0m\u001b[0;34m:\u001b[0m\u001b[0;34m\u001b[0m\u001b[0;34m\u001b[0m\u001b[0m\n\u001b[1;32m    139\u001b[0m                 \u001b[0;32mraise\u001b[0m\u001b[0;34m\u001b[0m\u001b[0;34m\u001b[0m\u001b[0m\n",
      "\u001b[0;32m/usr/local/lib/python3.7/dist-packages/pyspark/sql/utils.py\u001b[0m in \u001b[0;36mraise_from\u001b[0;34m(e)\u001b[0m\n",
      "\u001b[0;31mAnalysisException\u001b[0m: cannot resolve '`size`' given input columns: [androidVersion, category, comments, contentRating, currentVersion, installs, lastUpdate, price, ratings, reviews, score, sizeInt, title];;\n'Project [androidVersion#73, category#34, comments#35, contentRating#36, currentVersion#88, installs#38L, lastUpdate#39L, price#40, ratings#41L, reviews#42L, score#43, title#45, convertSize('size) AS sizeInt#147]\n+- Project [androidVersion#73, category#34, comments#35, contentRating#36, currentVersion#88, installs#38L, lastUpdate#39L, price#40, ratings#41L, reviews#42L, score#43, title#45, sizeInt#118]\n   +- Project [androidVersion#73, category#34, comments#35, contentRating#36, currentVersion#88, installs#38L, lastUpdate#39L, price#40, ratings#41L, reviews#42L, score#43, size#103, title#45, convertSize(size#103) AS sizeInt#118]\n      +- Project [androidVersion#73, category#34, comments#35, contentRating#36, currentVersion#88, installs#38L, lastUpdate#39L, price#40, ratings#41L, reviews#42L, score#43, convertString(size#44) AS size#103, title#45]\n         +- Project [androidVersion#73, category#34, comments#35, contentRating#36, convertString(currentVersion#37) AS currentVersion#88, installs#38L, lastUpdate#39L, price#40, ratings#41L, reviews#42L, score#43, size#44, title#45]\n            +- Project [convertString(androidVersion#33) AS androidVersion#73, category#34, comments#35, contentRating#36, currentVersion#37, installs#38L, lastUpdate#39L, price#40, ratings#41L, reviews#42L, score#43, size#44, title#45]\n               +- Filter (size(comments#35, true) >= 30)\n                  +- Deduplicate [androidVersion#33, category#34, comments#35, contentRating#36, currentVersion#37, installs#38L, lastUpdate#39L, price#40, ratings#41L, reviews#42L, score#43, size#44, title#45]\n                     +- Filter AtLeastNNulls(n, androidVersion#33,category#34,comments#35,contentRating#36,currentVersion#37,installs#38L,lastUpdate#39L,price#40,ratings#41L,reviews#42L,score#43,size#44,title#45)\n                        +- StreamingRelation DataSource(org.apache.spark.sql.SparkSession@236c3c92,json,List(),Some(StructType(StructField(androidVersion,StringType,true), StructField(category,StringType,true), StructField(comments,ArrayType(StringType,true),true), StructField(contentRating,StringType,true), StructField(currentVersion,StringType,true), StructField(installs,LongType,true), StructField(lastUpdate,LongType,true), StructField(price,DoubleType,true), StructField(ratings,LongType,true), StructField(reviews,LongType,true), StructField(score,DoubleType,true), StructField(size,StringType,true), StructField(title,StringType,true))),List(),None,Map(maxFilesPerTrigger -> 1, path -> hdfs://namenode/user/root/data170001-187000.json),None), FileSource[hdfs://namenode/user/root/data170001-187000.json], [androidVersion#33, category#34, comments#35, contentRating#36, currentVersion#37, installs#38L, lastUpdate#39L, price#40, ratings#41L, reviews#42L, score#43, size#44, title#45]\n"
     ]
    }
   ],
   "source": [
    "# import numpy as np\n",
    "# def convertSize(string):\n",
    "#     string=string.replace(',','')\n",
    "#     if string[-1]=='k':\n",
    "#         return float(string.rstrip('k'))/1024\n",
    "#     if string[-1]=='M':\n",
    "#         return float(string.rstrip('M'))\n",
    "#     return np.nan\n",
    "# convert = udf(convertSize, DoubleType())\n",
    "# df = df.withColumn(\"sizeInt\", convert(col(\"size\")))\n",
    "# df = df.drop(\"size\")\n"
   ]
  },
  {
   "cell_type": "code",
   "execution_count": 10,
   "metadata": {},
   "outputs": [],
   "source": [
    "df = df.withColumn('value' ,to_json(struct([df[x] for x in df.columns])))\n",
    "\n",
    "# df.selectExpr(\"CAST(title AS STRING) as key\", \"CAST(value AS STRING) as value\").show(5)"
   ]
  },
  {
   "cell_type": "code",
   "execution_count": 11,
   "metadata": {},
   "outputs": [
    {
     "ename": "AnalysisException",
     "evalue": "checkpointLocation must be specified either through option(\"checkpointLocation\", ...) or SparkSession.conf.set(\"spark.sql.streaming.checkpointLocation\", ...);",
     "output_type": "error",
     "traceback": [
      "\u001b[0;31m---------------------------------------------------------------------------\u001b[0m",
      "\u001b[0;31mAnalysisException\u001b[0m                         Traceback (most recent call last)",
      "\u001b[0;32m<ipython-input-11-dabc60d82220>\u001b[0m in \u001b[0;36m<module>\u001b[0;34m\u001b[0m\n\u001b[1;32m      3\u001b[0m   \u001b[0;34m.\u001b[0m\u001b[0mformat\u001b[0m\u001b[0;34m(\u001b[0m\u001b[0;34m\"kafka\"\u001b[0m\u001b[0;34m)\u001b[0m\u001b[0;31m \u001b[0m\u001b[0;31m\\\u001b[0m\u001b[0;34m\u001b[0m\u001b[0;34m\u001b[0m\u001b[0m\n\u001b[1;32m      4\u001b[0m   \u001b[0;34m.\u001b[0m\u001b[0moption\u001b[0m\u001b[0;34m(\u001b[0m\u001b[0;34m\"kafka.bootstrap.servers\"\u001b[0m\u001b[0;34m,\u001b[0m \u001b[0mKAFKA_BROKER\u001b[0m\u001b[0;34m)\u001b[0m\u001b[0;31m \u001b[0m\u001b[0;31m\\\u001b[0m\u001b[0;34m\u001b[0m\u001b[0;34m\u001b[0m\u001b[0m\n\u001b[0;32m----> 5\u001b[0;31m   \u001b[0;34m.\u001b[0m\u001b[0moption\u001b[0m\u001b[0;34m(\u001b[0m\u001b[0;34m\"topic\"\u001b[0m\u001b[0;34m,\u001b[0m \u001b[0mKAFKA_TOPIC\u001b[0m\u001b[0;34m)\u001b[0m\u001b[0;31m \u001b[0m\u001b[0;31m\\\u001b[0m\u001b[0;34m\u001b[0m\u001b[0;34m\u001b[0m\u001b[0m\n\u001b[0m\u001b[1;32m      6\u001b[0m   \u001b[0;34m.\u001b[0m\u001b[0mstart\u001b[0m\u001b[0;34m(\u001b[0m\u001b[0;34m)\u001b[0m\u001b[0;34m\u001b[0m\u001b[0;34m\u001b[0m\u001b[0m\n",
      "\u001b[0;32m/usr/local/lib/python3.7/dist-packages/pyspark/sql/streaming.py\u001b[0m in \u001b[0;36mstart\u001b[0;34m(self, path, format, outputMode, partitionBy, queryName, **options)\u001b[0m\n\u001b[1;32m   1209\u001b[0m             \u001b[0mself\u001b[0m\u001b[0;34m.\u001b[0m\u001b[0mqueryName\u001b[0m\u001b[0;34m(\u001b[0m\u001b[0mqueryName\u001b[0m\u001b[0;34m)\u001b[0m\u001b[0;34m\u001b[0m\u001b[0;34m\u001b[0m\u001b[0m\n\u001b[1;32m   1210\u001b[0m         \u001b[0;32mif\u001b[0m \u001b[0mpath\u001b[0m \u001b[0;32mis\u001b[0m \u001b[0;32mNone\u001b[0m\u001b[0;34m:\u001b[0m\u001b[0;34m\u001b[0m\u001b[0;34m\u001b[0m\u001b[0m\n\u001b[0;32m-> 1211\u001b[0;31m             \u001b[0;32mreturn\u001b[0m \u001b[0mself\u001b[0m\u001b[0;34m.\u001b[0m\u001b[0m_sq\u001b[0m\u001b[0;34m(\u001b[0m\u001b[0mself\u001b[0m\u001b[0;34m.\u001b[0m\u001b[0m_jwrite\u001b[0m\u001b[0;34m.\u001b[0m\u001b[0mstart\u001b[0m\u001b[0;34m(\u001b[0m\u001b[0;34m)\u001b[0m\u001b[0;34m)\u001b[0m\u001b[0;34m\u001b[0m\u001b[0;34m\u001b[0m\u001b[0m\n\u001b[0m\u001b[1;32m   1212\u001b[0m         \u001b[0;32melse\u001b[0m\u001b[0;34m:\u001b[0m\u001b[0;34m\u001b[0m\u001b[0;34m\u001b[0m\u001b[0m\n\u001b[1;32m   1213\u001b[0m             \u001b[0;32mreturn\u001b[0m \u001b[0mself\u001b[0m\u001b[0;34m.\u001b[0m\u001b[0m_sq\u001b[0m\u001b[0;34m(\u001b[0m\u001b[0mself\u001b[0m\u001b[0;34m.\u001b[0m\u001b[0m_jwrite\u001b[0m\u001b[0;34m.\u001b[0m\u001b[0mstart\u001b[0m\u001b[0;34m(\u001b[0m\u001b[0mpath\u001b[0m\u001b[0;34m)\u001b[0m\u001b[0;34m)\u001b[0m\u001b[0;34m\u001b[0m\u001b[0;34m\u001b[0m\u001b[0m\n",
      "\u001b[0;32m/usr/local/lib/python3.7/dist-packages/py4j/java_gateway.py\u001b[0m in \u001b[0;36m__call__\u001b[0;34m(self, *args)\u001b[0m\n\u001b[1;32m   1303\u001b[0m         \u001b[0manswer\u001b[0m \u001b[0;34m=\u001b[0m \u001b[0mself\u001b[0m\u001b[0;34m.\u001b[0m\u001b[0mgateway_client\u001b[0m\u001b[0;34m.\u001b[0m\u001b[0msend_command\u001b[0m\u001b[0;34m(\u001b[0m\u001b[0mcommand\u001b[0m\u001b[0;34m)\u001b[0m\u001b[0;34m\u001b[0m\u001b[0;34m\u001b[0m\u001b[0m\n\u001b[1;32m   1304\u001b[0m         return_value = get_return_value(\n\u001b[0;32m-> 1305\u001b[0;31m             answer, self.gateway_client, self.target_id, self.name)\n\u001b[0m\u001b[1;32m   1306\u001b[0m \u001b[0;34m\u001b[0m\u001b[0m\n\u001b[1;32m   1307\u001b[0m         \u001b[0;32mfor\u001b[0m \u001b[0mtemp_arg\u001b[0m \u001b[0;32min\u001b[0m \u001b[0mtemp_args\u001b[0m\u001b[0;34m:\u001b[0m\u001b[0;34m\u001b[0m\u001b[0;34m\u001b[0m\u001b[0m\n",
      "\u001b[0;32m/usr/local/lib/python3.7/dist-packages/pyspark/sql/utils.py\u001b[0m in \u001b[0;36mdeco\u001b[0;34m(*a, **kw)\u001b[0m\n\u001b[1;32m    135\u001b[0m                 \u001b[0;31m# Hide where the exception came from that shows a non-Pythonic\u001b[0m\u001b[0;34m\u001b[0m\u001b[0;34m\u001b[0m\u001b[0;34m\u001b[0m\u001b[0m\n\u001b[1;32m    136\u001b[0m                 \u001b[0;31m# JVM exception message.\u001b[0m\u001b[0;34m\u001b[0m\u001b[0;34m\u001b[0m\u001b[0;34m\u001b[0m\u001b[0m\n\u001b[0;32m--> 137\u001b[0;31m                 \u001b[0mraise_from\u001b[0m\u001b[0;34m(\u001b[0m\u001b[0mconverted\u001b[0m\u001b[0;34m)\u001b[0m\u001b[0;34m\u001b[0m\u001b[0;34m\u001b[0m\u001b[0m\n\u001b[0m\u001b[1;32m    138\u001b[0m             \u001b[0;32melse\u001b[0m\u001b[0;34m:\u001b[0m\u001b[0;34m\u001b[0m\u001b[0;34m\u001b[0m\u001b[0m\n\u001b[1;32m    139\u001b[0m                 \u001b[0;32mraise\u001b[0m\u001b[0;34m\u001b[0m\u001b[0;34m\u001b[0m\u001b[0m\n",
      "\u001b[0;32m/usr/local/lib/python3.7/dist-packages/pyspark/sql/utils.py\u001b[0m in \u001b[0;36mraise_from\u001b[0;34m(e)\u001b[0m\n",
      "\u001b[0;31mAnalysisException\u001b[0m: checkpointLocation must be specified either through option(\"checkpointLocation\", ...) or SparkSession.conf.set(\"spark.sql.streaming.checkpointLocation\", ...);"
     ]
    }
   ],
   "source": [
    "df.selectExpr(\"CAST(title AS STRING) as key\", \"CAST(value AS STRING)\") \\\n",
    "  .writeStream \\\n",
    "  .format(\"kafka\") \\\n",
    "  .option(\"kafka.bootstrap.servers\", KAFKA_BROKER) \\\n",
    "  .option(\"topic\", KAFKA_TOPIC) \\\n",
    "  .start()"
   ]
  },
  {
   "cell_type": "code",
   "execution_count": null,
   "metadata": {},
   "outputs": [],
   "source": []
  }
 ],
 "metadata": {
  "kernelspec": {
   "display_name": "Python 3",
   "language": "python",
   "name": "python3"
  },
  "language_info": {
   "codemirror_mode": {
    "name": "ipython",
    "version": 3
   },
   "file_extension": ".py",
   "mimetype": "text/x-python",
   "name": "python",
   "nbconvert_exporter": "python",
   "pygments_lexer": "ipython3",
   "version": "3.7.3"
  }
 },
 "nbformat": 4,
 "nbformat_minor": 4
}
