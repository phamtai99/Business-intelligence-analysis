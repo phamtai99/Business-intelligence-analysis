{
 "cells": [
  {
   "cell_type": "code",
   "execution_count": 185,
   "metadata": {},
   "outputs": [
    {
     "ename": "ValueError",
     "evalue": "Cannot run multiple SparkContexts at once; existing SparkContext(app=pyspark-shell, master=local) created by __init__ at <ipython-input-1-5796b8bfe42c>:3 ",
     "output_type": "error",
     "traceback": [
      "\u001b[0;31m---------------------------------------------------------------------------\u001b[0m",
      "\u001b[0;31mValueError\u001b[0m                                Traceback (most recent call last)",
      "\u001b[0;32m<ipython-input-185-5796b8bfe42c>\u001b[0m in \u001b[0;36m<module>\u001b[0;34m\u001b[0m\n\u001b[1;32m      1\u001b[0m \u001b[0;32mfrom\u001b[0m \u001b[0mpyspark\u001b[0m\u001b[0;34m.\u001b[0m\u001b[0mcontext\u001b[0m \u001b[0;32mimport\u001b[0m \u001b[0mSparkContext\u001b[0m\u001b[0;34m\u001b[0m\u001b[0;34m\u001b[0m\u001b[0m\n\u001b[1;32m      2\u001b[0m \u001b[0;32mfrom\u001b[0m \u001b[0mpyspark\u001b[0m\u001b[0;34m.\u001b[0m\u001b[0msql\u001b[0m\u001b[0;34m.\u001b[0m\u001b[0msession\u001b[0m \u001b[0;32mimport\u001b[0m \u001b[0mSparkSession\u001b[0m\u001b[0;34m\u001b[0m\u001b[0;34m\u001b[0m\u001b[0m\n\u001b[0;32m----> 3\u001b[0;31m \u001b[0msc\u001b[0m \u001b[0;34m=\u001b[0m \u001b[0mSparkContext\u001b[0m\u001b[0;34m(\u001b[0m\u001b[0;34m'local'\u001b[0m\u001b[0;34m)\u001b[0m\u001b[0;34m\u001b[0m\u001b[0;34m\u001b[0m\u001b[0m\n\u001b[0m\u001b[1;32m      4\u001b[0m \u001b[0mspark\u001b[0m \u001b[0;34m=\u001b[0m \u001b[0mSparkSession\u001b[0m\u001b[0;34m(\u001b[0m\u001b[0msc\u001b[0m\u001b[0;34m)\u001b[0m\u001b[0;34m\u001b[0m\u001b[0;34m\u001b[0m\u001b[0m\n",
      "\u001b[0;32m/usr/local/spark/python/pyspark/context.py\u001b[0m in \u001b[0;36m__init__\u001b[0;34m(self, master, appName, sparkHome, pyFiles, environment, batchSize, serializer, conf, gateway, jsc, profiler_cls)\u001b[0m\n\u001b[1;32m    131\u001b[0m                 \" is not allowed as it is a security risk.\")\n\u001b[1;32m    132\u001b[0m \u001b[0;34m\u001b[0m\u001b[0m\n\u001b[0;32m--> 133\u001b[0;31m         \u001b[0mSparkContext\u001b[0m\u001b[0;34m.\u001b[0m\u001b[0m_ensure_initialized\u001b[0m\u001b[0;34m(\u001b[0m\u001b[0mself\u001b[0m\u001b[0;34m,\u001b[0m \u001b[0mgateway\u001b[0m\u001b[0;34m=\u001b[0m\u001b[0mgateway\u001b[0m\u001b[0;34m,\u001b[0m \u001b[0mconf\u001b[0m\u001b[0;34m=\u001b[0m\u001b[0mconf\u001b[0m\u001b[0;34m)\u001b[0m\u001b[0;34m\u001b[0m\u001b[0;34m\u001b[0m\u001b[0m\n\u001b[0m\u001b[1;32m    134\u001b[0m         \u001b[0;32mtry\u001b[0m\u001b[0;34m:\u001b[0m\u001b[0;34m\u001b[0m\u001b[0;34m\u001b[0m\u001b[0m\n\u001b[1;32m    135\u001b[0m             self._do_init(master, appName, sparkHome, pyFiles, environment, batchSize, serializer,\n",
      "\u001b[0;32m/usr/local/spark/python/pyspark/context.py\u001b[0m in \u001b[0;36m_ensure_initialized\u001b[0;34m(cls, instance, gateway, conf)\u001b[0m\n\u001b[1;32m    334\u001b[0m \u001b[0;34m\u001b[0m\u001b[0m\n\u001b[1;32m    335\u001b[0m                     \u001b[0;31m# Raise error if there is already a running Spark context\u001b[0m\u001b[0;34m\u001b[0m\u001b[0;34m\u001b[0m\u001b[0;34m\u001b[0m\u001b[0m\n\u001b[0;32m--> 336\u001b[0;31m                     raise ValueError(\n\u001b[0m\u001b[1;32m    337\u001b[0m                         \u001b[0;34m\"Cannot run multiple SparkContexts at once; \"\u001b[0m\u001b[0;34m\u001b[0m\u001b[0;34m\u001b[0m\u001b[0m\n\u001b[1;32m    338\u001b[0m                         \u001b[0;34m\"existing SparkContext(app=%s, master=%s)\"\u001b[0m\u001b[0;34m\u001b[0m\u001b[0;34m\u001b[0m\u001b[0m\n",
      "\u001b[0;31mValueError\u001b[0m: Cannot run multiple SparkContexts at once; existing SparkContext(app=pyspark-shell, master=local) created by __init__ at <ipython-input-1-5796b8bfe42c>:3 "
     ]
    }
   ],
   "source": [
    "from pyspark.context import SparkContext\n",
    "from pyspark.sql.session import SparkSession\n",
    "sc = SparkContext('local')\n",
    "spark = SparkSession(sc)"
   ]
  },
  {
   "cell_type": "code",
   "execution_count": 186,
   "metadata": {},
   "outputs": [
    {
     "name": "stdout",
     "output_type": "stream",
     "text": [
      "root\n",
      " |-- androidVersion: string (nullable = true)\n",
      " |-- category: string (nullable = true)\n",
      " |-- comments: array (nullable = true)\n",
      " |    |-- element: string (containsNull = true)\n",
      " |-- contentRating: string (nullable = true)\n",
      " |-- currentVersion: string (nullable = true)\n",
      " |-- installs: long (nullable = true)\n",
      " |-- lastUpdate: long (nullable = true)\n",
      " |-- price: double (nullable = true)\n",
      " |-- ratings: long (nullable = true)\n",
      " |-- reviews: long (nullable = true)\n",
      " |-- score: double (nullable = true)\n",
      " |-- size: string (nullable = true)\n",
      " |-- title: string (nullable = true)\n",
      "\n"
     ]
    }
   ],
   "source": [
    "df = spark.read.format(\"json\").load(\"hdfs://namenode:9000/user/root/input/data.json\")\n",
    "df=df.dropna(how='any')\n",
    "df.printSchema()"
   ]
  },
  {
   "cell_type": "code",
   "execution_count": 187,
   "metadata": {
    "scrolled": true
   },
   "outputs": [
    {
     "data": {
      "text/plain": [
       "3040"
      ]
     },
     "execution_count": 187,
     "metadata": {},
     "output_type": "execute_result"
    }
   ],
   "source": [
    "df.count()\n"
   ]
  },
  {
   "cell_type": "code",
   "execution_count": 188,
   "metadata": {},
   "outputs": [],
   "source": [
    "from pyspark.ml.feature import RFormula\n",
    "supervised = RFormula(formula=\"score ~ . + title:ratings + title:reviews + title:installs +title:lastUpdate\")"
   ]
  },
  {
   "cell_type": "code",
   "execution_count": 189,
   "metadata": {},
   "outputs": [
    {
     "name": "stdout",
     "output_type": "stream",
     "text": [
      "+--------------+-----------------+--------------------+-------------+------------------+--------+----------+-----+-------+-------+---------+------------------+--------------------+--------------------+---------+\n",
      "|androidVersion|         category|            comments|contentRating|    currentVersion|installs|lastUpdate|price|ratings|reviews|    score|              size|               title|            features|    label|\n",
      "+--------------+-----------------+--------------------+-------------+------------------+--------+----------+-----+-------+-------+---------+------------------+--------------------+--------------------+---------+\n",
      "|           4.1|      Educational|[It is a good app...|     Everyone|               3.2|  100000|1589321647|  0.0|   1989|    929|4.3779902|               20M|Math games: learn...|(16879,[1,47,66,1...|4.3779902|\n",
      "|           4.1|        Education|[it really helps ...|     Everyone|               1.2|   50000|1521562525|  0.0|    208|     76|     3.93|              3.6M|   English Assistant|(16879,[1,25,66,7...|     3.93|\n",
      "|           5.0|        Education|[3stars. Love the...|     Everyone|             1.060|  500000|1603730781|  0.0|   5262|   2153| 4.532197|               16M|Qlango: Learning ...|(16879,[0,25,66,5...| 4.532197|\n",
      "|           5.0|Books & Reference|[Just like the re...|     Everyone|             4.2.0|    1000|1603127815|  0.0|      7|      2| 3.857143|              2.9M|LexisNexis® Digit...|(16879,[0,26,66,1...| 3.857143|\n",
      "|        Varies|        Education|[My almost 3 year...|     Everyone|Varies with device|    5000|1603499980| 4.99|     49|      6| 4.122449|Varies with device|    Starfall Numbers|(16879,[3,25,66,6...| 4.122449|\n",
      "|           5.0|    Entertainment|[I like it becaus...|     Everyone|            4.16.1|  100000|1603822608|  0.0|    674|    320|3.9306931|              105M|Azoomee - Games &...|(16879,[0,38,66,1...|3.9306931|\n",
      "|           4.4|           Puzzle|[This game is ove...|     Everyone|             1.9.2| 1000000|1596466224|  0.0|  19043|  10122|4.4514613|               39M|Toon Math: Endles...|(16879,[2,49,66,1...|4.4514613|\n",
      "|           4.1|           Sports|[Really challengi...|     Everyone|               2.5| 1000000|1590005674|  0.0|  18544|   5406|4.2394824|               28M|Basketball: Shoot...|(16879,[1,30,66,9...|4.2394824|\n",
      "|           5.0|           Arcade|[Worst game ever....|     Everyone|               1.4|   10000|1579895442|  0.0|    111|     29|3.5135136|               35M|             Donutti|(16879,[0,54,66,8...|3.5135136|\n",
      "|        Varies|            Tools|[App not opening ...|     Everyone|Varies with device|   10000|1602156808|  0.0|    141|     54| 4.366337|Varies with device|           MyCOMPANY|(16879,[3,24,66,6...| 4.366337|\n",
      "|         4.0.3|            Tools|[Thx dev's its re...|     Everyone|             1.1.1|  100000|1602981289|  0.0|   5940|   1532| 4.207071|              3.3M|WiFi Analyzer - N...|(16879,[5,24,66,7...| 4.207071|\n",
      "|           4.1|           Puzzle|[Way too many ads...|     Everyone|         1.66-free| 1000000|1604429652|  0.0|  20042|   8086| 4.295262|              6.9M|Math games - Brai...|(16879,[1,49,66,7...| 4.295262|\n",
      "|           4.1|        Education|[Good app! Great ...|     Everyone|             3.2.1|  100000|1603878541|  0.0|    801|    467|     3.67|               48M|BIGBOX – The Fun ...|(16879,[1,25,66,1...|     3.67|\n",
      "|           4.1|      Educational|[The only app wor...|     Everyone|             1.0.5|  100000|1603901682|  0.0|    585|    271|4.3461537|               18M|Math Games - Addi...|(16879,[1,47,66,8...|4.3461537|\n",
      "|           4.3|      Educational|[I like this game...|     Everyone|           1.1.2.5|   10000|1567030670|  0.0|    236|    117|     4.27|               15M|Space Math 🚀 Lea...|(16879,[8,47,66,5...|     4.27|\n",
      "|           4.1|      Educational|[it's really good...|     Everyone|               2.5|  100000|1596117439|  0.0|    394|    175|     4.41|Varies with device|Learn times table...|(16879,[1,47,66,9...|     4.41|\n",
      "|           4.0|     Productivity|[This is a recomm...|     Everyone|               1.6|   50000|1525166565|  0.0|    432|    168|     4.03|               14M|   SQA My Study Plan|(16879,[4,28,66,8...|     4.03|\n",
      "|           4.1|        Education|[This is literall...|     Everyone|             1.4.4|  100000|1592714586|  0.0|   1521|    954| 4.487013|               13M|Egenda - School P...|(16879,[1,25,66,1...| 4.487013|\n",
      "|        Varies|        Education|[Fun game for kid...|     Everyone|Varies with device|    5000|1596760950| 1.99|     47|     12|4.1489363|Varies with device|Starfall All Abou...|(16879,[3,25,66,6...|4.1489363|\n",
      "|           5.0|  Auto & Vehicles|                  []|     Everyone|              1.22|   10000|1592127605|  0.0|     65|     38|3.3846154|              4.0M|Расписание пригор...|(16879,[0,46,66,2...|3.3846154|\n",
      "+--------------+-----------------+--------------------+-------------+------------------+--------+----------+-----+-------+-------+---------+------------------+--------------------+--------------------+---------+\n",
      "only showing top 20 rows\n",
      "\n"
     ]
    }
   ],
   "source": [
    "fittedRF = supervised.fit(df)\n",
    "preparedDF = fittedRF.transform(df)\n",
    "preparedDF.show()"
   ]
  },
  {
   "cell_type": "code",
   "execution_count": 190,
   "metadata": {},
   "outputs": [],
   "source": [
    "train, test = preparedDF.randomSplit([0.7, 0.3])"
   ]
  },
  {
   "cell_type": "code",
   "execution_count": 191,
   "metadata": {},
   "outputs": [],
   "source": [
    "from pyspark.ml.regression import LinearRegression\n",
    "lr = LinearRegression(labelCol=\"score\",featuresCol=\"features\")"
   ]
  },
  {
   "cell_type": "code",
   "execution_count": 192,
   "metadata": {},
   "outputs": [],
   "source": [
    "fittedLR = lr.fit(train)\n"
   ]
  },
  {
   "cell_type": "code",
   "execution_count": 193,
   "metadata": {},
   "outputs": [],
   "source": [
    "pre=fittedLR.transform(test).select(\"score\", \"prediction\")"
   ]
  },
  {
   "cell_type": "code",
   "execution_count": 194,
   "metadata": {},
   "outputs": [
    {
     "name": "stdout",
     "output_type": "stream",
     "text": [
      "+---------+------------------+\n",
      "|    score|        prediction|\n",
      "+---------+------------------+\n",
      "|3.4166667| 4.247252586806968|\n",
      "|      3.5| 4.247655770449603|\n",
      "|      3.5| 4.092909362319947|\n",
      "| 4.923077| 4.228409115841343|\n",
      "|     4.67|4.1489989027409315|\n",
      "|4.5116277| 4.070028314395811|\n",
      "|4.7222223|4.2090864049761745|\n",
      "|     4.63| 4.282635909284977|\n",
      "|     4.66| 4.197679163421576|\n",
      "|     4.64| 4.200595321887435|\n",
      "|     4.66| 4.266105894978478|\n",
      "| 4.841584| 4.193951179644701|\n",
      "|3.6555555| 4.124764628255166|\n",
      "| 3.767857| 4.124761907570486|\n",
      "|4.4742374| 4.096381991766409|\n",
      "|4.4814816| 4.169710395289747|\n",
      "|   3.6875|  4.12938740252123|\n",
      "|    4.025|4.0151548053134904|\n",
      "| 3.892857| 4.101387206598939|\n",
      "|     4.12| 4.191214473166099|\n",
      "+---------+------------------+\n",
      "only showing top 20 rows\n",
      "\n"
     ]
    }
   ],
   "source": [
    "pre.show()\n",
    "pre.createOrReplaceTempView(\"dfTable\")"
   ]
  },
  {
   "cell_type": "code",
   "execution_count": 195,
   "metadata": {},
   "outputs": [
    {
     "name": "stdout",
     "output_type": "stream",
     "text": [
      "+-----------------+\n",
      "|             loss|\n",
      "+-----------------+\n",
      "|0.454457771473922|\n",
      "+-----------------+\n",
      "\n"
     ]
    }
   ],
   "source": [
    "spark.sql('SELECT avg(abs(score-prediction)) as loss from dfTable').show()"
   ]
  },
  {
   "cell_type": "code",
   "execution_count": null,
   "metadata": {},
   "outputs": [],
   "source": []
  },
  {
   "cell_type": "code",
   "execution_count": null,
   "metadata": {},
   "outputs": [],
   "source": []
  },
  {
   "cell_type": "code",
   "execution_count": null,
   "metadata": {},
   "outputs": [],
   "source": []
  },
  {
   "cell_type": "code",
   "execution_count": null,
   "metadata": {},
   "outputs": [],
   "source": []
  },
  {
   "cell_type": "code",
   "execution_count": null,
   "metadata": {},
   "outputs": [],
   "source": []
  },
  {
   "cell_type": "code",
   "execution_count": null,
   "metadata": {},
   "outputs": [],
   "source": []
  }
 ],
 "metadata": {
  "kernelspec": {
   "display_name": "Python 3",
   "language": "python",
   "name": "python3"
  },
  "language_info": {
   "codemirror_mode": {
    "name": "ipython",
    "version": 3
   },
   "file_extension": ".py",
   "mimetype": "text/x-python",
   "name": "python",
   "nbconvert_exporter": "python",
   "pygments_lexer": "ipython3",
   "version": "3.8.6"
  }
 },
 "nbformat": 4,
 "nbformat_minor": 4
}
