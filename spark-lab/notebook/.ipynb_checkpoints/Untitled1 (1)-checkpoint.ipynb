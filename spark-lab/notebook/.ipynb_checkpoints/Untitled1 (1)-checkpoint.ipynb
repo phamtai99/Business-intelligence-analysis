{
 "cells": [
  {
   "cell_type": "code",
   "execution_count": 1,
   "metadata": {},
   "outputs": [
    {
     "data": {
      "text/html": [
       "        <script type=\"text/javascript\">\n",
       "        window.PlotlyConfig = {MathJaxConfig: 'local'};\n",
       "        if (window.MathJax) {MathJax.Hub.Config({SVG: {font: \"STIX-Web\"}});}\n",
       "        if (typeof require !== 'undefined') {\n",
       "        require.undef(\"plotly\");\n",
       "        requirejs.config({\n",
       "            paths: {\n",
       "                'plotly': ['https://cdn.plot.ly/plotly-latest.min']\n",
       "            }\n",
       "        });\n",
       "        require(['plotly'], function(Plotly) {\n",
       "            window._Plotly = Plotly;\n",
       "        });\n",
       "        }\n",
       "        </script>\n",
       "        "
      ]
     },
     "metadata": {},
     "output_type": "display_data"
    }
   ],
   "source": [
    "import pandas as pd\n",
    "import numpy as np\n",
    "from matplotlib import pyplot as plt\n",
    "plt.style.use('ggplot')\n",
    "import seaborn as sns\n",
    "color = sns.color_palette()\n",
    "sns.set(rc={'figure.figsize':(25,15)})\n",
    "import plotly\n",
    "plotly.offline.init_notebook_mode(connected=True)\n",
    "import plotly.graph_objs as go\n",
    "\n",
    "import plotly.figure_factory as ff\n",
    "import cufflinks as cf\n",
    "\n",
    "\n",
    "import warnings\n",
    "warnings.filterwarnings('ignore')\n",
    "\n",
    "%matplotlib inline"
   ]
  },
  {
   "cell_type": "markdown",
   "metadata": {},
   "source": [
    "# Đọc dữ liệu từ file json"
   ]
  },
  {
   "cell_type": "code",
   "execution_count": 2,
   "metadata": {},
   "outputs": [],
   "source": [
    "df = pd.read_json(r'Data_set/dataset.json')"
   ]
  },
  {
   "cell_type": "code",
   "execution_count": 3,
   "metadata": {},
   "outputs": [
    {
     "name": "stdout",
     "output_type": "stream",
     "text": [
      "Tổng số bản ghi là 19023\n",
      "Dữ liệu có tất cả 12 trường thuộc tính\n"
     ]
    }
   ],
   "source": [
    "total = df.shape\n",
    "print(\"Tổng số bản ghi là {}\".format(total[0]))\n",
    "print(\"Dữ liệu có tất cả {} trường thuộc tính\".format(total[1]))"
   ]
  },
  {
   "cell_type": "code",
   "execution_count": 4,
   "metadata": {},
   "outputs": [
    {
     "name": "stdout",
     "output_type": "stream",
     "text": [
      "Các trường của dữ liệu là: title, size, installs, reviews, rating, price, category, contentRating, lastUpdate, currentVersion, androidVersion, comments\n"
     ]
    }
   ],
   "source": [
    "columns = list(df.columns)\n",
    "print(\"Các trường của dữ liệu là: {}\".format(', '.join(columns)))"
   ]
  },
  {
   "cell_type": "code",
   "execution_count": 5,
   "metadata": {},
   "outputs": [
    {
     "data": {
      "text/html": [
       "<div>\n",
       "<style scoped>\n",
       "    .dataframe tbody tr th:only-of-type {\n",
       "        vertical-align: middle;\n",
       "    }\n",
       "\n",
       "    .dataframe tbody tr th {\n",
       "        vertical-align: top;\n",
       "    }\n",
       "\n",
       "    .dataframe thead th {\n",
       "        text-align: right;\n",
       "    }\n",
       "</style>\n",
       "<table border=\"1\" class=\"dataframe\">\n",
       "  <thead>\n",
       "    <tr style=\"text-align: right;\">\n",
       "      <th></th>\n",
       "      <th>title</th>\n",
       "      <th>size</th>\n",
       "      <th>installs</th>\n",
       "      <th>reviews</th>\n",
       "      <th>rating</th>\n",
       "      <th>price</th>\n",
       "      <th>category</th>\n",
       "      <th>contentRating</th>\n",
       "      <th>lastUpdate</th>\n",
       "      <th>currentVersion</th>\n",
       "      <th>androidVersion</th>\n",
       "      <th>comments</th>\n",
       "    </tr>\n",
       "  </thead>\n",
       "  <tbody>\n",
       "    <tr>\n",
       "      <th>12098</th>\n",
       "      <td>[My Town : Fashion Show]</td>\n",
       "      <td>[48M]</td>\n",
       "      <td>[10,000,000+]</td>\n",
       "      <td>[75,094]</td>\n",
       "      <td>[4.0]</td>\n",
       "      <td>[Install]</td>\n",
       "      <td>[Educational]</td>\n",
       "      <td>[Rated for 3+]</td>\n",
       "      <td>[August 6, 2020]</td>\n",
       "      <td>[1.80]</td>\n",
       "      <td>[4.4 and up]</td>\n",
       "      <td>[ This game is super duper nice I play this ga...</td>\n",
       "    </tr>\n",
       "    <tr>\n",
       "      <th>14453</th>\n",
       "      <td>[Reigns: Her Majesty]</td>\n",
       "      <td>[October 15, 2019]</td>\n",
       "      <td>[91M]</td>\n",
       "      <td>[21,845]</td>\n",
       "      <td>[4.6]</td>\n",
       "      <td>[ ₫23,000 Buy]</td>\n",
       "      <td>[Card]</td>\n",
       "      <td>[None]</td>\n",
       "      <td>[None]</td>\n",
       "      <td>[100,000+]</td>\n",
       "      <td>[1.0]</td>\n",
       "      <td>[ This game was nice for me, till I played for...</td>\n",
       "    </tr>\n",
       "    <tr>\n",
       "      <th>13476</th>\n",
       "      <td>[Straight Gin Rummy - Online and Free]</td>\n",
       "      <td>[Varies with device]</td>\n",
       "      <td>[500,000+]</td>\n",
       "      <td>[9,519]</td>\n",
       "      <td>[4.4]</td>\n",
       "      <td>[Install]</td>\n",
       "      <td>[Card]</td>\n",
       "      <td>[Rated for 12+]</td>\n",
       "      <td>[September 8, 2020]</td>\n",
       "      <td>[101.1.71]</td>\n",
       "      <td>[4.0 and up]</td>\n",
       "      <td>[ Not Worth The Trouble.,  Awful]</td>\n",
       "    </tr>\n",
       "    <tr>\n",
       "      <th>9128</th>\n",
       "      <td>[Lemo Lite]</td>\n",
       "      <td>[47M]</td>\n",
       "      <td>[100,000+]</td>\n",
       "      <td>[3,490]</td>\n",
       "      <td>[4.4]</td>\n",
       "      <td>[Install]</td>\n",
       "      <td>[Social]</td>\n",
       "      <td>[Rated for 12+]</td>\n",
       "      <td>[October 20, 2020]</td>\n",
       "      <td>[1.31.2]</td>\n",
       "      <td>[5.0 and up]</td>\n",
       "      <td>[ So very bad and fake app,  So good to chat w...</td>\n",
       "    </tr>\n",
       "    <tr>\n",
       "      <th>13547</th>\n",
       "      <td>[Golf Battle]</td>\n",
       "      <td>[52M]</td>\n",
       "      <td>[10,000,000+]</td>\n",
       "      <td>[461,334]</td>\n",
       "      <td>[4.0]</td>\n",
       "      <td>[Install]</td>\n",
       "      <td>[Sports]</td>\n",
       "      <td>[Rated for 3+]</td>\n",
       "      <td>[October 5, 2020]</td>\n",
       "      <td>[1.16.0]</td>\n",
       "      <td>[4.1 and up]</td>\n",
       "      <td>[ I have been playing this game for a while no...</td>\n",
       "    </tr>\n",
       "  </tbody>\n",
       "</table>\n",
       "</div>"
      ],
      "text/plain": [
       "                                        title                  size  \\\n",
       "12098                [My Town : Fashion Show]                 [48M]   \n",
       "14453                   [Reigns: Her Majesty]    [October 15, 2019]   \n",
       "13476  [Straight Gin Rummy - Online and Free]  [Varies with device]   \n",
       "9128                              [Lemo Lite]                 [47M]   \n",
       "13547                           [Golf Battle]                 [52M]   \n",
       "\n",
       "            installs    reviews rating           price       category  \\\n",
       "12098  [10,000,000+]   [75,094]  [4.0]       [Install]  [Educational]   \n",
       "14453          [91M]   [21,845]  [4.6]  [ ₫23,000 Buy]         [Card]   \n",
       "13476     [500,000+]    [9,519]  [4.4]       [Install]         [Card]   \n",
       "9128      [100,000+]    [3,490]  [4.4]       [Install]       [Social]   \n",
       "13547  [10,000,000+]  [461,334]  [4.0]       [Install]       [Sports]   \n",
       "\n",
       "         contentRating           lastUpdate currentVersion androidVersion  \\\n",
       "12098   [Rated for 3+]     [August 6, 2020]         [1.80]   [4.4 and up]   \n",
       "14453           [None]               [None]     [100,000+]          [1.0]   \n",
       "13476  [Rated for 12+]  [September 8, 2020]     [101.1.71]   [4.0 and up]   \n",
       "9128   [Rated for 12+]   [October 20, 2020]       [1.31.2]   [5.0 and up]   \n",
       "13547   [Rated for 3+]    [October 5, 2020]       [1.16.0]   [4.1 and up]   \n",
       "\n",
       "                                                comments  \n",
       "12098  [ This game is super duper nice I play this ga...  \n",
       "14453  [ This game was nice for me, till I played for...  \n",
       "13476                  [ Not Worth The Trouble.,  Awful]  \n",
       "9128   [ So very bad and fake app,  So good to chat w...  \n",
       "13547  [ I have been playing this game for a while no...  "
      ]
     },
     "execution_count": 5,
     "metadata": {},
     "output_type": "execute_result"
    }
   ],
   "source": [
    "df.sample(5)"
   ]
  },
  {
   "cell_type": "markdown",
   "metadata": {},
   "source": [
    "# Xử lý dữ liệu\n",
    "\n",
    "## Các dữ liệu đầu vào dạng mảng được đưa về String"
   ]
  },
  {
   "cell_type": "code",
   "execution_count": 6,
   "metadata": {},
   "outputs": [],
   "source": [
    "def convert_to_string(x):\n",
    "    try:\n",
    "        tmp = list(x)\n",
    "        return tmp[0]\n",
    "    except:\n",
    "        return np.nan"
   ]
  },
  {
   "cell_type": "code",
   "execution_count": 7,
   "metadata": {},
   "outputs": [],
   "source": [
    "titles = list(df.columns)"
   ]
  },
  {
   "cell_type": "code",
   "execution_count": 8,
   "metadata": {},
   "outputs": [
    {
     "data": {
      "text/plain": [
       "['title',\n",
       " 'size',\n",
       " 'installs',\n",
       " 'reviews',\n",
       " 'rating',\n",
       " 'price',\n",
       " 'category',\n",
       " 'contentRating',\n",
       " 'lastUpdate',\n",
       " 'currentVersion',\n",
       " 'androidVersion']"
      ]
     },
     "execution_count": 8,
     "metadata": {},
     "output_type": "execute_result"
    }
   ],
   "source": [
    "titles.remove('comments')\n",
    "titles"
   ]
  },
  {
   "cell_type": "code",
   "execution_count": 9,
   "metadata": {},
   "outputs": [
    {
     "data": {
      "text/html": [
       "<div>\n",
       "<style scoped>\n",
       "    .dataframe tbody tr th:only-of-type {\n",
       "        vertical-align: middle;\n",
       "    }\n",
       "\n",
       "    .dataframe tbody tr th {\n",
       "        vertical-align: top;\n",
       "    }\n",
       "\n",
       "    .dataframe thead th {\n",
       "        text-align: right;\n",
       "    }\n",
       "</style>\n",
       "<table border=\"1\" class=\"dataframe\">\n",
       "  <thead>\n",
       "    <tr style=\"text-align: right;\">\n",
       "      <th></th>\n",
       "      <th>title</th>\n",
       "      <th>size</th>\n",
       "      <th>installs</th>\n",
       "      <th>reviews</th>\n",
       "      <th>rating</th>\n",
       "      <th>price</th>\n",
       "      <th>category</th>\n",
       "      <th>contentRating</th>\n",
       "      <th>lastUpdate</th>\n",
       "      <th>currentVersion</th>\n",
       "      <th>androidVersion</th>\n",
       "      <th>comments</th>\n",
       "    </tr>\n",
       "  </thead>\n",
       "  <tbody>\n",
       "    <tr>\n",
       "      <th>0</th>\n",
       "      <td>X Launcher Prime | Stylish OS Theme Phone X Max</td>\n",
       "      <td>April 28, 2019</td>\n",
       "      <td>8.6M</td>\n",
       "      <td>1,790</td>\n",
       "      <td>4.5</td>\n",
       "      <td>₫46,000 Buy</td>\n",
       "      <td>Art &amp; Design</td>\n",
       "      <td>None</td>\n",
       "      <td>Eligible if bought after 7/2/2016.\\n</td>\n",
       "      <td>10,000+</td>\n",
       "      <td>1.1.1</td>\n",
       "      <td>[ Really nice, I like it and the simplicity iO...</td>\n",
       "    </tr>\n",
       "    <tr>\n",
       "      <th>1</th>\n",
       "      <td>X Launcher Lite: With OS13 Style Theme &amp; Wallp...</td>\n",
       "      <td>Varies with device</td>\n",
       "      <td>5,000,000+</td>\n",
       "      <td>53,707</td>\n",
       "      <td>4.5</td>\n",
       "      <td>Install</td>\n",
       "      <td>Art &amp; Design</td>\n",
       "      <td>Rated for 3+</td>\n",
       "      <td>November 23, 2020</td>\n",
       "      <td>Varies with device</td>\n",
       "      <td>Varies with device</td>\n",
       "      <td>[ I really do love this app, is a very good an...</td>\n",
       "    </tr>\n",
       "    <tr>\n",
       "      <th>2</th>\n",
       "      <td>Toca Life: Hospital</td>\n",
       "      <td>October 7, 2020</td>\n",
       "      <td>46M</td>\n",
       "      <td>5,488</td>\n",
       "      <td>4.5</td>\n",
       "      <td>₫89,000 Buy</td>\n",
       "      <td>Education</td>\n",
       "      <td>None</td>\n",
       "      <td>Eligible if bought after 7/2/2016.\\n</td>\n",
       "      <td>100,000+</td>\n",
       "      <td>1.2-play</td>\n",
       "      <td>[ I would love if you could add more sounds an...</td>\n",
       "    </tr>\n",
       "    <tr>\n",
       "      <th>3</th>\n",
       "      <td>Locus Map Pro - Outdoor GPS navigation and maps</td>\n",
       "      <td>November 10, 2020</td>\n",
       "      <td>39M</td>\n",
       "      <td>37,320</td>\n",
       "      <td>4.8</td>\n",
       "      <td>₫170,000 Buy</td>\n",
       "      <td>Maps &amp; Navigation</td>\n",
       "      <td>None</td>\n",
       "      <td>None</td>\n",
       "      <td>100,000+</td>\n",
       "      <td>3.49.1</td>\n",
       "      <td>[ Galaxy Watch 3: wasted $$$ getting a watch t...</td>\n",
       "    </tr>\n",
       "    <tr>\n",
       "      <th>4</th>\n",
       "      <td>Material Style Watch Face</td>\n",
       "      <td>April 4, 2020</td>\n",
       "      <td>1.6M</td>\n",
       "      <td>27</td>\n",
       "      <td>4.4</td>\n",
       "      <td>₫20,000 Buy</td>\n",
       "      <td>Personalization</td>\n",
       "      <td>None</td>\n",
       "      <td>Eligible if bought after 7/2/2016.\\n</td>\n",
       "      <td>1,000+</td>\n",
       "      <td>1.1.2</td>\n",
       "      <td>[ Any chance complications can be made availab...</td>\n",
       "    </tr>\n",
       "  </tbody>\n",
       "</table>\n",
       "</div>"
      ],
      "text/plain": [
       "                                               title                size  \\\n",
       "0    X Launcher Prime | Stylish OS Theme Phone X Max      April 28, 2019   \n",
       "1  X Launcher Lite: With OS13 Style Theme & Wallp...  Varies with device   \n",
       "2                                Toca Life: Hospital     October 7, 2020   \n",
       "3    Locus Map Pro - Outdoor GPS navigation and maps   November 10, 2020   \n",
       "4                          Material Style Watch Face       April 4, 2020   \n",
       "\n",
       "     installs reviews rating         price           category contentRating  \\\n",
       "0        8.6M   1,790    4.5   ₫46,000 Buy       Art & Design          None   \n",
       "1  5,000,000+  53,707    4.5       Install       Art & Design  Rated for 3+   \n",
       "2         46M   5,488    4.5   ₫89,000 Buy          Education          None   \n",
       "3         39M  37,320    4.8  ₫170,000 Buy  Maps & Navigation          None   \n",
       "4        1.6M      27    4.4   ₫20,000 Buy    Personalization          None   \n",
       "\n",
       "                             lastUpdate      currentVersion  \\\n",
       "0  Eligible if bought after 7/2/2016.\\n             10,000+   \n",
       "1                     November 23, 2020  Varies with device   \n",
       "2  Eligible if bought after 7/2/2016.\\n            100,000+   \n",
       "3                                  None            100,000+   \n",
       "4  Eligible if bought after 7/2/2016.\\n              1,000+   \n",
       "\n",
       "       androidVersion                                           comments  \n",
       "0               1.1.1  [ Really nice, I like it and the simplicity iO...  \n",
       "1  Varies with device  [ I really do love this app, is a very good an...  \n",
       "2            1.2-play  [ I would love if you could add more sounds an...  \n",
       "3              3.49.1  [ Galaxy Watch 3: wasted $$$ getting a watch t...  \n",
       "4               1.1.2  [ Any chance complications can be made availab...  "
      ]
     },
     "execution_count": 9,
     "metadata": {},
     "output_type": "execute_result"
    }
   ],
   "source": [
    "for title in titles:\n",
    "    df[title] = df[title].apply(convert_to_string)\n",
    "\n",
    "df.head()"
   ]
  },
  {
   "cell_type": "code",
   "execution_count": 10,
   "metadata": {},
   "outputs": [
    {
     "name": "stdout",
     "output_type": "stream",
     "text": [
      "<class 'pandas.core.frame.DataFrame'>\n",
      "RangeIndex: 19023 entries, 0 to 19022\n",
      "Data columns (total 12 columns):\n",
      " #   Column          Non-Null Count  Dtype \n",
      "---  ------          --------------  ----- \n",
      " 0   title           19023 non-null  object\n",
      " 1   size            19023 non-null  object\n",
      " 2   installs        19023 non-null  object\n",
      " 3   reviews         18824 non-null  object\n",
      " 4   rating          18824 non-null  object\n",
      " 5   price           19022 non-null  object\n",
      " 6   category        19023 non-null  object\n",
      " 7   contentRating   17068 non-null  object\n",
      " 8   lastUpdate      18425 non-null  object\n",
      " 9   currentVersion  19023 non-null  object\n",
      " 10  androidVersion  19004 non-null  object\n",
      " 11  comments        19023 non-null  object\n",
      "dtypes: object(12)\n",
      "memory usage: 1.7+ MB\n"
     ]
    }
   ],
   "source": [
    "df.info()"
   ]
  },
  {
   "cell_type": "markdown",
   "metadata": {},
   "source": [
    "## Xóa các dữ liệu sai lệch do quá trình lấy dữ liệu"
   ]
  },
  {
   "cell_type": "code",
   "execution_count": 11,
   "metadata": {},
   "outputs": [
    {
     "data": {
      "text/plain": [
       "array(['April 28, 2019', 'Varies with device', 'October 7, 2020',\n",
       "       'November 10, 2020', 'April 4, 2020', 'July 20, 2020',\n",
       "       'July 21, 2020', 'March 3, 2020', 'October 15, 2019',\n",
       "       'October 16, 2020', 'December 20, 2018', 'July 16, 2019', '83M',\n",
       "       '45M', '77M', 'November 6, 2020', '79M', '137M', '31M', '236M',\n",
       "       '72M', '93M', '55M', '106M', '67M', '90M', '3.0M', '128M', '37M',\n",
       "       '36M', '23M', '20M', '190M', '22M', '70M', '24M', '38M', '50M',\n",
       "       '25M', '68M', '39M', '41M', '87M', '46M', '64M', '95M', '63M',\n",
       "       '99M', '44M', '14M', '92M', '71M', '13M', 'August 15, 2020',\n",
       "       '3.9M', '9.2M', '30M', '86M', '96M', '108M', '57M', '53M', '60M',\n",
       "       '28M', '40M', '59M', '54M', '29M', '18M', '82M', '49M', '3.5M',\n",
       "       '34M', '4.2M', '7.2M', '74M', '102M', '88M', '26M', '8.2M', '16M',\n",
       "       '11M', '9.1M', '58M', '43M', '100M', '76M', '47M', '66M', '35M',\n",
       "       '61M', '85M', '51M', '33M', '52M', '8.7M', '89M', '9.8M', '10M',\n",
       "       '134M', '27M', '48M', '105M', '84M', '56M', '65M', '8.0M', '32M',\n",
       "       '42M', '9.0M', '117M', '126M', '94M', '138M', '6.9M', '159M',\n",
       "       '19M', '114M', '139M', '107M', '15M', '120M', '110M', '109M',\n",
       "       '146M', '75M', '21M', 'October 30, 2020', 'September 26, 2020',\n",
       "       'December 12, 2020', 'November 3, 2020', 'December 22, 2020',\n",
       "       'October 4, 2020', 'August 6, 2020', 'June 8, 2018',\n",
       "       'December 8, 2020', 'August 27, 2018', 'June 19, 2020',\n",
       "       'November 27, 2020', 'December 23, 2020', 'May 25, 2020',\n",
       "       'November 21, 2018', 'October 25, 2017', 'May 5, 2018',\n",
       "       'April 21, 2017', 'March 16, 2020', 'October 28, 2018',\n",
       "       'June 23, 2019', 'September 2, 2020', 'October 27, 2018',\n",
       "       'December 14, 2020', 'December 17, 2020', '104M', '80M', '62M',\n",
       "       '17M', '2.9M', '6.5M', '2.5M', '3.8M', 'May 11, 2020', '6.7M',\n",
       "       '12M', '78M', '81M', '147M', 'October 8, 2020', '1.1M', '130M',\n",
       "       '152M', '98M', '133M', '6.4M', '3.3M', '2.8M', '122M', '168M',\n",
       "       '9.4M', 'December 9, 2019', '9.9M', 'December 1, 2020',\n",
       "       'December 10, 2020', 'October 20, 2020', 'June 24, 2020',\n",
       "       'July 5, 2018', '119M', '115M', '143M', '5.8M', '4.4M',\n",
       "       'December 15, 2020', 'November 5, 2020', 'September 24, 2017',\n",
       "       'April 6, 2020', 'August 4, 2017', 'October 18, 2018',\n",
       "       'December 25, 2020', 'October 24, 2018', 'July 15, 2020',\n",
       "       'December 13, 2018', 'May 12, 2017', 'September 2, 2019',\n",
       "       'April 21, 2020', 'July 7, 2020', 'August 8, 2020',\n",
       "       'February 21, 2019', 'December 1, 2019', 'September 8, 2020',\n",
       "       'November 16, 2020', 'April 29, 2020', 'November 30, 2020',\n",
       "       'June 4, 2020', 'December 18, 2020', 'December 9, 2020',\n",
       "       'July 5, 2017', 'October 11, 2018', 'December 7, 2020',\n",
       "       'December 11, 2019', 'August 22, 2016', 'April 9, 2015',\n",
       "       'November 6, 2017', 'May 19, 2020', 'November 20, 2020',\n",
       "       'November 3, 2016', 'February 19, 2020', '129M', '179M', '111M',\n",
       "       '5.6M', '148M', '69M', '125M', 'December 20, 2020',\n",
       "       'December 14, 2016', '97M', 'December 19, 2020', 'March 17, 2019',\n",
       "       'September 3, 2020', 'October 14, 2015', 'May 31, 2020',\n",
       "       'April 2, 2015', 'June 30, 2016', 'October 6, 2020', '6.0M',\n",
       "       '150M', '331M', '383M', 'July 10, 2020', 'April 13, 2020',\n",
       "       'January 7, 2020', '157M', '101M', '123M', 'February 18, 2020',\n",
       "       'May 13, 2020', 'December 16, 2020', 'March 28, 2020', '73M',\n",
       "       '116M', '140M', '131M', '156M', '103M', '132M',\n",
       "       'February 26, 2016', 'December 11, 2020', '3.7M',\n",
       "       'November 11, 2020', '5.9M', '160M', 'July 26, 2019',\n",
       "       'October 27, 2020', 'September 21, 2020', 'March 17, 2020',\n",
       "       'July 22, 2020', '91M', '7.0M', '4.3M', '118M', '112M',\n",
       "       'November 7, 2020', 'September 28, 2020', 'April 2, 2020',\n",
       "       'March 13, 2020', 'July 1, 2020', 'February 26, 2020',\n",
       "       'November 17, 2020', 'November 4, 2020', 'July 17, 2020',\n",
       "       'December 26, 2020', '142M', '162M', '7.7M', '4.5M', '6.1M', '40k',\n",
       "       '4.6M', '4.9M', '2.6M', '4.8M', 'October 11, 2020',\n",
       "       'July 16, 2020', 'October 26, 2020', 'June 2, 2020', '7.8M',\n",
       "       '6.8M', '161M', 'June 16, 2020', 'December 6, 2020',\n",
       "       'July 22, 2019', 'October 25, 2019', 'September 20, 2020',\n",
       "       'April 20, 2020', 'July 18, 2020', 'March 27, 2019', '7.4M',\n",
       "       '7.1M', '8.8M', '4.1M', '8.4M', 'May 3, 2020', 'April 16, 2020',\n",
       "       '3.4M', 'October 6, 2019', 'November 18, 2020',\n",
       "       'February 16, 2017', 'December 24, 2020', '127M', '124M', '151M',\n",
       "       'May 10, 2020', 'May 11, 2015', 'November 26, 2019',\n",
       "       'April 10, 2017', 'January 6, 2014', 'May 8, 2020', 'May 9, 2020',\n",
       "       'December 20, 2019', 'June 12, 2019', 'January 25, 2017',\n",
       "       'April 9, 2019', 'August 27, 2020', 'September 20, 2019',\n",
       "       'November 28, 2013', 'September 20, 2017', 'December 5, 2019',\n",
       "       'June 14, 2019', 'January 14, 2020', '244M', '113M',\n",
       "       'October 12, 2020', 'September 4, 2020', '6.3M', 'August 1, 2020',\n",
       "       'August 29, 2019', 'August 19, 2020', 'November 7, 2018',\n",
       "       'October 1, 2020', 'August 24, 2020', '141M', '167M', '149M',\n",
       "       '145M', 'April 27, 2020', '9.6M', '121M', '163M', '174M', '175M',\n",
       "       'January 23, 2020', 'November 24, 2020', 'May 14, 2020',\n",
       "       'December 8, 2015', 'November 2, 2020', '8.1M',\n",
       "       'September 18, 2020', 'July 9, 2020', 'June 23, 2020', '3.6M',\n",
       "       'July 30, 2020', 'December 3, 2020', 'May 27, 2020',\n",
       "       'December 3, 2019', 'September 10, 2020', 'October 14, 2020',\n",
       "       'October 2, 2019', 'April 17, 2020', '7.3M', '201M', '8.3M',\n",
       "       '1.3M', '8.6M', '199M', '10.0M', 'July 24, 2020', 'July 24, 2019',\n",
       "       'February 6, 2019', 'March 21, 2017', '8.5M', 'November 15, 2017',\n",
       "       'November 28, 2020', '8.9M', '1.4M', 'July 15, 2019',\n",
       "       'August 28, 2020', 'December 21, 2020', 'November 19, 2020',\n",
       "       '2.3M', '181M', '165M', '144M', 'December 2, 2020',\n",
       "       'June 19, 2019', 'May 5, 2020', 'July 27, 2020',\n",
       "       'September 24, 2020', 'January 31, 2020', 'December 27, 2016',\n",
       "       'October 29, 2020', 'May 23, 2013', 'October 21, 2020',\n",
       "       'December 13, 2020', 'October 31, 2020', 'September 16, 2020',\n",
       "       'September 13, 2020', '2.2M', '9.7M', '7.9M', '5.4M',\n",
       "       'May 20, 2020', 'May 4, 2020', 'April 5, 2019', '191M', '2.4M',\n",
       "       '5.1M', '6.2M', '5.0M', '4.7M', '5.7M', '148k', 'August 7, 2020',\n",
       "       'March 27, 2018', 'May 22, 2019', 'September 27, 2020',\n",
       "       'December 4, 2020', 'December 5, 2020', 'August 31, 2019', '1.2M',\n",
       "       '5.5M', '261k', '136M', '3.2M', '6.6M', '7.5M',\n",
       "       'September 28, 2019', 'November 6, 2019', 'July 26, 2018',\n",
       "       'September 25, 2020', 'November 23, 2020', 'November 8, 2020',\n",
       "       'July 28, 2019', '253M', 'June 25, 2018', '164M', '1.1G', '9.5M',\n",
       "       'January 30, 2017', 'January 29, 2017', 'July 15, 2018',\n",
       "       'May 2, 2016', 'April 26, 2017', 'October 24, 2020',\n",
       "       'August 1, 2014', 'June 24, 2019', 'September 17, 2020',\n",
       "       'October 25, 2020', 'March 19, 2020', 'January 20, 2020',\n",
       "       'April 24, 2020', '5.2M', '2.0M', 'February 8, 2017',\n",
       "       'January 27, 2017', 'June 28, 2017', 'July 28, 2017',\n",
       "       'November 30, 2014', 'August 21, 2020', 'August 30, 2019',\n",
       "       'January 24, 2020', 'May 16, 2019', 'September 12, 2019',\n",
       "       'October 15, 2020', 'February 5, 2020', 'July 28, 2020',\n",
       "       'February 13, 2019', 'November 27, 2019', 'October 4, 2018',\n",
       "       'May 4, 2019', 'March 1, 2020', 'October 23, 2020', 'May 13, 2019',\n",
       "       'June 17, 2020', 'March 5, 2020', 'July 20, 2019',\n",
       "       'August 11, 2017', 'September 4, 2018', 'October 21, 2019',\n",
       "       'December 6, 2017', 'July 30, 2019', 'April 26, 2020',\n",
       "       'June 12, 2020', 'August 3, 2020', 'March 4, 2019', '2.7M',\n",
       "       'July 5, 2019', 'October 25, 2018', 'December 15, 2018',\n",
       "       'October 22, 2020', 'March 11, 2020', 'August 21, 2019',\n",
       "       'June 26, 2020', 'October 9, 2019', '227M', '1.8M', '2.1M', '527k',\n",
       "       '135M', 'October 5, 2020', '222M', 'November 9, 2020',\n",
       "       'January 30, 2020', 'September 9, 2020', 'November 13, 2019',\n",
       "       'September 25, 2014', '154M', '153M', 'January 4, 2020',\n",
       "       'September 19, 2020', 'January 23, 2019', 'August 25, 2020',\n",
       "       'September 14, 2020', 'April 3, 2018', 'January 6, 2017',\n",
       "       'September 15, 2018', 'September 6, 2018', 'July 16, 2018',\n",
       "       'June 12, 2018', 'July 2, 2018', 'May 9, 2017', 'June 14, 2018',\n",
       "       'February 8, 2019', 'October 17, 2018', 'October 5, 2017',\n",
       "       'August 9, 2018', 'August 25, 2017', 'July 13, 2017',\n",
       "       'May 16, 2018', 'July 17, 2017', 'September 21, 2017',\n",
       "       'March 2, 2018', 'January 25, 2018', 'January 20, 2017',\n",
       "       'May 21, 2018', 'April 4, 2017', 'November 1, 2017',\n",
       "       'December 15, 2017', 'May 17, 2017', 'December 29, 2017',\n",
       "       'December 8, 2017', 'May 15, 2017', 'August 2, 2017',\n",
       "       'April 23, 2018', 'May 3, 2017', 'July 10, 2018',\n",
       "       'December 4, 2019', 'January 22, 2020', 'November 12, 2020',\n",
       "       'January 21, 2020', 'March 9, 2020', 'July 30, 2018',\n",
       "       'November 26, 2020', 'November 29, 2020', 'September 20, 2018',\n",
       "       'September 5, 2020', 'October 31, 2018', 'February 7, 2020',\n",
       "       'February 3, 2020', '5.3M', 'October 19, 2020', 'August 5, 2020',\n",
       "       'September 7, 2020', 'February 28, 2020', 'October 3, 2020',\n",
       "       '3.1M', '44k', '1.9M', 'August 2, 2019', 'December 8, 2018',\n",
       "       'January 5, 2018', 'April 17, 2017', 'September 15, 2020',\n",
       "       'May 24, 2018', '4.0M', '525M', '835M', '328M', 'March 24, 2020',\n",
       "       'September 23, 2020', 'August 20, 2020', 'July 29, 2019',\n",
       "       'November 6, 2015', 'November 21, 2020', 'December 13, 2015',\n",
       "       'November 10, 2019', 'September 21, 2018', 'June 5, 2017',\n",
       "       'August 13, 2020', 'May 26, 2020', '307M', '9.3M', '478M',\n",
       "       'May 22, 2018', 'October 16, 2019', 'May 24, 2020', '219M',\n",
       "       'September 10, 2019', 'January 17, 2020', 'July 6, 2020',\n",
       "       'May 15, 2020', 'September 11, 2020', 'June 10, 2017',\n",
       "       'December 15, 2014', 'August 18, 2020', 'August 17, 2020',\n",
       "       'April 9, 2020', 'November 7, 2019', 'September 17, 2019',\n",
       "       'September 30, 2020', 'November 24, 2019', 'September 29, 2018',\n",
       "       'February 28, 2019', 'November 13, 2020', 'March 21, 2019',\n",
       "       'July 29, 2020', '180M', 'August 31, 2018', 'October 11, 2019',\n",
       "       'November 25, 2020', 'December 12, 2019', 'October 1, 2019',\n",
       "       'August 1, 2019', 'August 30, 2020', '7.6M', '658k', '232M',\n",
       "       '425M', '509k', 'May 31, 2018', '1.5M', 'May 24, 2019',\n",
       "       'March 6, 2019', 'July 12, 2020', '108k', 'October 17, 2020',\n",
       "       'June 18, 2013', 'November 8, 2019', 'November 24, 2018',\n",
       "       'October 2, 2020', '1.0M', 'November 5, 2018', 'August 28, 2019',\n",
       "       'April 25, 2017', '85k', 'May 7, 2017', 'February 14, 2020',\n",
       "       'February 17, 2018', 'July 8, 2018', 'January 13, 2018',\n",
       "       'July 14, 2020', 'January 3, 2018', 'August 10, 2020',\n",
       "       'January 12, 2020', 'January 16, 2020', '169M', 'April 13, 2019',\n",
       "       '575M', 'July 4, 2020', '1,018M', 'February 27, 2020', '503M',\n",
       "       'August 6, 2018', 'May 29, 2020', 'June 27, 2014', '177M',\n",
       "       'May 15, 2019', 'February 4, 2019', 'November 14, 2020', '158M',\n",
       "       'October 17, 2016', '274k', 'November 15, 2020',\n",
       "       'December 7, 2019', 'June 5, 2020', '224M', 'January 5, 2019',\n",
       "       '344k', 'September 8, 2016', 'February 2, 2019',\n",
       "       'November 5, 2017', '186M', 'July 11, 2018', 'October 13, 2018',\n",
       "       'November 18, 2019', 'October 21, 2016', 'November 5, 2014',\n",
       "       'January 22, 2019', 'November 18, 2015', 'February 6, 2017',\n",
       "       'August 4, 2020', 'June 13, 2016', 'December 24, 2019',\n",
       "       'April 10, 2020', 'October 28, 2020', 'September 22, 2019', '26k',\n",
       "       'August 26, 2020', '534k', 'September 9, 2019', '1.6M', '763k',\n",
       "       '318M', '1.7M', '796M', '176M', '185M', '621M', '409k', '52k',\n",
       "       '90k', '319k', '460k', '834k', '55k', '58k', '37k', '141k', '758k',\n",
       "       '104k', '171k', '31k', 'April 5, 2017', 'April 10, 2018', '471k',\n",
       "       '533k', 'August 3, 2019', 'December 31, 2018',\n",
       "       'September 22, 2020', 'February 7, 2017', 'February 4, 2020',\n",
       "       'February 21, 2017', 'June 3, 2019', 'October 13, 2020',\n",
       "       'February 22, 2020', 'October 18, 2020', '397k', '235M', '577k',\n",
       "       '437M', '277M', '390k', 'April 9, 2018', '479k',\n",
       "       'November 1, 2018', '305M', 'April 15, 2018', '1,004k', '628k',\n",
       "       '993k', '30k', 'November 2, 2019', '317M', 'June 5, 2019',\n",
       "       'September 28, 2018', '254M', 'October 9, 2020', '881k',\n",
       "       'April 4, 2016', '178M', 'March 14, 2020', 'October 27, 2019',\n",
       "       '722k', '726k', '528k', 'July 25, 2019', '1,005k', '237k', '223M',\n",
       "       '463k', '521k', '163k', '1,000k', '155M', 'January 18, 2019',\n",
       "       'June 8, 2020', '230k', 'May 21, 2020', '196M', 'January 9, 2020',\n",
       "       'December 20, 2016', 'March 12, 2020', 'July 3, 2019',\n",
       "       'June 23, 2018', 'April 24, 2018', '171M', 'January 6, 2020',\n",
       "       'June 10, 2020', '713k', 'July 5, 2020', '250M', 'June 30, 2020',\n",
       "       '236k', '462k', 'September 26, 2019', 'May 7, 2020',\n",
       "       'February 11, 2015', 'August 31, 2020', 'March 10, 2020',\n",
       "       'June 11, 2020', 'November 11, 2019', 'November 21, 2019',\n",
       "       'August 17, 2019', '198M', 'July 19, 2018', '46k',\n",
       "       'August 12, 2020', 'March 2, 2020', 'September 29, 2020',\n",
       "       'June 13, 2018', '172M', 'July 2, 2020', 'February 16, 2020',\n",
       "       'July 29, 2015', 'July 8, 2020', '285M', 'August 16, 2020',\n",
       "       'March 25, 2020', 'May 2, 2019', 'August 7, 2019',\n",
       "       'October 31, 2019', 'September 23, 2019', 'October 29, 2019',\n",
       "       'December 15, 2015', 'February 19, 2018', '257k',\n",
       "       'December 23, 2019', 'April 22, 2020', 'October 24, 2019',\n",
       "       'September 3, 2019', 'June 29, 2020', 'February 14, 2019',\n",
       "       'May 22, 2020', '47k', '45k', '496k', '974k', 'October 4, 2019',\n",
       "       'November 7, 2017', 'February 2, 2017', 'December 26, 2013',\n",
       "       'May 19, 2016', 'May 12, 2020', 'December 5, 2018', 'May 17, 2020',\n",
       "       'February 17, 2020', 'October 22, 2015', 'August 9, 2020', '478k',\n",
       "       'April 25, 2020', 'July 12, 2018', 'November 25, 2019',\n",
       "       'March 16, 2018', 'March 4, 2020', 'January 31, 2015',\n",
       "       'December 16, 2016', 'March 6, 2015', 'December 3, 2014',\n",
       "       'December 13, 2019', 'December 31, 2016', 'January 2, 2020',\n",
       "       'December 2, 2019', 'April 24, 2019', 'September 1, 2020', '170M',\n",
       "       'August 11, 2020', '349M', '502M', '183M', 'December 9, 2014',\n",
       "       'May 22, 2013', 'November 22, 2016', 'October 10, 2020',\n",
       "       'April 18, 2020', 'July 4, 2019', 'March 10, 2016', '208M',\n",
       "       'August 3, 2018', 'January 8, 2020', 'August 6, 2019',\n",
       "       'August 12, 2019', 'December 10, 2014'], dtype=object)"
      ]
     },
     "execution_count": 11,
     "metadata": {},
     "output_type": "execute_result"
    }
   ],
   "source": [
    "df['size'].unique()"
   ]
  },
  {
   "cell_type": "code",
   "execution_count": 12,
   "metadata": {},
   "outputs": [
    {
     "data": {
      "text/plain": [
       "array(['8.6M', '5,000,000+', '46M', '39M', '1.6M', '111M', '83M',\n",
       "       'Varies with device', '91M', '36M', '100,000,000+', '50,000,000+',\n",
       "       '54M', '75M', '10,000,000+', '10,000+', '1,000,000+', '100,000+',\n",
       "       '500,000+', '50,000+', '93M', '1,000+', '147M', '500,000,000+',\n",
       "       '58M', '65M', '150M', '13M', '113M', '5.0M', '8.4M', '8.5M',\n",
       "       '4.0M', '8.3M', '16M', '7.3M', '5,000+', '20M', '52M', '100M',\n",
       "       '70M', '95M', '23M', '30M', '2.0M', '27M', '87M', '37M', '45M',\n",
       "       '43M', '32M', '19M', '51M', '112M', '49M', '119M', '74M', '28M',\n",
       "       '63M', '621M', '129M', '50M', '17M', '44M', '1.0M', '77M', '109M',\n",
       "       '22M', '1.8M', '6.5M', '5.7M', '38M', '3.0M', '1.9M', '3.8M',\n",
       "       '107M', '60M', '35M', '135M', '140M', '53M', '24M', '108M', '31M',\n",
       "       '55M', '1,000,000,000+', '89M', '68M', '141M', '48M', '98M', '79M',\n",
       "       '103M', '71M', '97M', '2.8M', '5.5M', '5.1M', '29M', '25M', '3.2M',\n",
       "       '101M', '15M', '1.1M', '3.6M', '11M', '7.9M', '3.1M', '9.6M',\n",
       "       '2.7M', '26M', '47M', '3.3M', '6.3M', '18M', '2.3M', '168M', '1+',\n",
       "       '5,000,000,000+', '57M', '124M', '796M', '110M', '69M', '174M',\n",
       "       '176M', '34M', '41M', '88M', '42M', '72M', '6.2M', '3.7M', '5.8M',\n",
       "       '1.4M', '6.0M', '763k', '318M', '14M', '7.0M', '85M', '96M', '21M',\n",
       "       '8.2M', '4.7M', '67M', '117M', '73M', '7.4M', '76M', '81M', '33M',\n",
       "       '7.8M', '5.2M', '12M', '5.3M', '143M', '1.7M', '3.4M', '3.5M',\n",
       "       '9.0M', '90k', '409k', '6.7M', '100+', '4.8M', '9.2M', '66M',\n",
       "       '2.5M', '1.3M', '4.2M', '319k', '5.4M', '7.6M', '9.1M', '7.5M',\n",
       "       '3.9M', '704k', '6.8M', '460k', '9.9M', '56M', '834k', '121M',\n",
       "       '8.8M', '1.2M', '500+', '7.1M', '78M', '37k', '6.1M', '9.4M',\n",
       "       '4.5M', '7.2M', '160M', '48k', '10M', '9.5M', '4.9M', '1.5M',\n",
       "       '8.9M', '82M', '40M', '94M', '6.6M', '6.4M', '8.0M', '84M', '116M',\n",
       "       '5.9M', '104k', '59M', '171k', '31k', '115M', '4.3M', '92M',\n",
       "       '185M', '161M', '99M', '102M', '58k', '528k', '758k', '2.4M',\n",
       "       '141k', '148M', '90M', '52k', '142M', '55k', '4.6M', '146M',\n",
       "       '8.1M', '4.4M', '10+', '50+', '5+', '2.9M', '2.2M', '6.9M', '139M',\n",
       "       '61M', '4.1M', '396k', '982k', '9.8M', '173M', '144M',\n",
       "       '1.400041.463624', '80M', '62M', '118M', '106M', '130M', '5.6M',\n",
       "       '134M', '495k', '152M', '10.0M', '126M', '127M', '862k', '2.1M',\n",
       "       '64M', '179M', '149M', '7.7M', '86M', '128k', '606M', '128M',\n",
       "       '114M'], dtype=object)"
      ]
     },
     "execution_count": 12,
     "metadata": {},
     "output_type": "execute_result"
    }
   ],
   "source": [
    "df['installs'].unique()"
   ]
  },
  {
   "cell_type": "code",
   "execution_count": 13,
   "metadata": {},
   "outputs": [],
   "source": [
    "def drop_except(x):\n",
    "    months = ['Jan', 'Feb', 'Mar', \"Apr\", \"May\", \"Jun\", \"Jul\", \"Aug\", \"Oct\", \"Nov\", \"Dec\", \"Sep\"]\n",
    "    for m in months:\n",
    "        if x.find(m) > -1:\n",
    "            return False\n",
    "    return True"
   ]
  },
  {
   "cell_type": "code",
   "execution_count": 14,
   "metadata": {},
   "outputs": [
    {
     "name": "stdout",
     "output_type": "stream",
     "text": [
      "Số bản ghi không hợp lệ là 1939\n"
     ]
    }
   ],
   "source": [
    "total = df.shape\n",
    "df = df[df['size'].apply(drop_except)]\n",
    "print(\"Số bản ghi không hợp lệ là {}\".format(total[0] - df.shape[0]))"
   ]
  },
  {
   "cell_type": "code",
   "execution_count": 15,
   "metadata": {},
   "outputs": [
    {
     "data": {
      "text/plain": [
       "array(['5,000,000+', '100,000,000+', '50,000,000+', '10,000,000+',\n",
       "       '10,000+', '1,000,000+', '100,000+', '500,000+', '50,000+',\n",
       "       '1,000+', '500,000,000+', '5,000+', '1,000,000,000+', '1+',\n",
       "       '5,000,000,000+', '100+', '500+', '10+', '50+', '5+',\n",
       "       '1.400041.463624'], dtype=object)"
      ]
     },
     "execution_count": 15,
     "metadata": {},
     "output_type": "execute_result"
    }
   ],
   "source": [
    "df['installs'].unique()"
   ]
  },
  {
   "cell_type": "markdown",
   "metadata": {},
   "source": [
    "## Xóa các dữ liệu trùng lặp thông qua title"
   ]
  },
  {
   "cell_type": "code",
   "execution_count": 16,
   "metadata": {},
   "outputs": [
    {
     "name": "stdout",
     "output_type": "stream",
     "text": [
      "Số bản ghi bị trùng lặp là 5833\n"
     ]
    }
   ],
   "source": [
    "df = df.drop_duplicates(subset=['title','installs','size'])\n",
    "print(\"Số bản ghi bị trùng lặp là {}\".format(total[0]-df.shape[0]))"
   ]
  },
  {
   "cell_type": "markdown",
   "metadata": {},
   "source": [
    "## Đưa các giá trị của trường size về kiểu số thực thang đo là Mb"
   ]
  },
  {
   "cell_type": "code",
   "execution_count": 17,
   "metadata": {},
   "outputs": [],
   "source": [
    "def format_size(x):\n",
    "    if str(x) == 'Varies with device':\n",
    "        return np.nan\n",
    "    x = str(x).replace(',','');\n",
    "    if 'M' in x:\n",
    "        return float(str(x).replace('M', ''))\n",
    "    if 'k' in x:\n",
    "        return float(str(x).replace('k', '')) / 1000"
   ]
  },
  {
   "cell_type": "code",
   "execution_count": 18,
   "metadata": {},
   "outputs": [],
   "source": [
    "df['size'] = df['size'].apply(format_size)\n",
    "df['size'] = df['size'].astype('float')"
   ]
  },
  {
   "cell_type": "markdown",
   "metadata": {},
   "source": [
    "## Đưa các dữ liệu installs, review, rating về kiểu số"
   ]
  },
  {
   "cell_type": "code",
   "execution_count": 19,
   "metadata": {},
   "outputs": [],
   "source": [
    "def format_installs(x):\n",
    "    x = str(x).replace(',','')\n",
    "    x = str(x).replace('+','')\n",
    "    try:\n",
    "        return int(x)\n",
    "    except:\n",
    "        return np.nan"
   ]
  },
  {
   "cell_type": "code",
   "execution_count": 20,
   "metadata": {},
   "outputs": [],
   "source": [
    "df['installs'] = df['installs'].apply(format_installs)"
   ]
  },
  {
   "cell_type": "code",
   "execution_count": 21,
   "metadata": {},
   "outputs": [],
   "source": [
    "df['reviews'] = df['reviews'].apply(format_installs)"
   ]
  },
  {
   "cell_type": "code",
   "execution_count": 22,
   "metadata": {},
   "outputs": [],
   "source": [
    "def format_rating(x):\n",
    "    try:\n",
    "        return float(x)\n",
    "    except:\n",
    "        return np.nan"
   ]
  },
  {
   "cell_type": "code",
   "execution_count": 23,
   "metadata": {},
   "outputs": [],
   "source": [
    "df['score'] = df['rating'].apply(format_rating)\n",
    "df = df.drop(['rating'], axis=1)"
   ]
  },
  {
   "cell_type": "code",
   "execution_count": 24,
   "metadata": {},
   "outputs": [],
   "source": [
    "df['category'] = df['category'].astype('category')"
   ]
  },
  {
   "cell_type": "markdown",
   "metadata": {},
   "source": [
    "## Đưa trường thời gian về kiểu số\n",
    "\n",
    "Với trường thời gian thì ý tưởng của nhóm em là tính nó bằng thời gian hiện tại trừ đi thời gian cập nhật lần cuối"
   ]
  },
  {
   "cell_type": "code",
   "execution_count": 25,
   "metadata": {
    "scrolled": true
   },
   "outputs": [
    {
     "data": {
      "text/html": [
       "<div>\n",
       "<style scoped>\n",
       "    .dataframe tbody tr th:only-of-type {\n",
       "        vertical-align: middle;\n",
       "    }\n",
       "\n",
       "    .dataframe tbody tr th {\n",
       "        vertical-align: top;\n",
       "    }\n",
       "\n",
       "    .dataframe thead th {\n",
       "        text-align: right;\n",
       "    }\n",
       "</style>\n",
       "<table border=\"1\" class=\"dataframe\">\n",
       "  <thead>\n",
       "    <tr style=\"text-align: right;\">\n",
       "      <th></th>\n",
       "      <th>title</th>\n",
       "      <th>size</th>\n",
       "      <th>installs</th>\n",
       "      <th>reviews</th>\n",
       "      <th>price</th>\n",
       "      <th>category</th>\n",
       "      <th>contentRating</th>\n",
       "      <th>currentVersion</th>\n",
       "      <th>androidVersion</th>\n",
       "      <th>comments</th>\n",
       "      <th>score</th>\n",
       "      <th>UpdatedAt</th>\n",
       "    </tr>\n",
       "  </thead>\n",
       "  <tbody>\n",
       "    <tr>\n",
       "      <th>1</th>\n",
       "      <td>X Launcher Lite: With OS13 Style Theme &amp; Wallp...</td>\n",
       "      <td>NaN</td>\n",
       "      <td>5000000.0</td>\n",
       "      <td>53707.0</td>\n",
       "      <td>Install</td>\n",
       "      <td>Art &amp; Design</td>\n",
       "      <td>Rated for 3+</td>\n",
       "      <td>Varies with device</td>\n",
       "      <td>Varies with device</td>\n",
       "      <td>[ I really do love this app, is a very good an...</td>\n",
       "      <td>4.5</td>\n",
       "      <td>2</td>\n",
       "    </tr>\n",
       "    <tr>\n",
       "      <th>12</th>\n",
       "      <td>Moto Rider GO: Highway Traffic</td>\n",
       "      <td>NaN</td>\n",
       "      <td>100000000.0</td>\n",
       "      <td>670760.0</td>\n",
       "      <td>Install</td>\n",
       "      <td>Racing</td>\n",
       "      <td>Rated for 3+</td>\n",
       "      <td>1.28.4</td>\n",
       "      <td>4.1 and up</td>\n",
       "      <td>[ Graphics are ok, but controls are too basic,...</td>\n",
       "      <td>4.3</td>\n",
       "      <td>2</td>\n",
       "    </tr>\n",
       "    <tr>\n",
       "      <th>13</th>\n",
       "      <td>Ultimate Car Driving Simulator</td>\n",
       "      <td>83.0</td>\n",
       "      <td>50000000.0</td>\n",
       "      <td>425068.0</td>\n",
       "      <td>Install</td>\n",
       "      <td>Racing</td>\n",
       "      <td>Rated for 3+</td>\n",
       "      <td>3.3</td>\n",
       "      <td>4.4 and up</td>\n",
       "      <td>[ I love the graphics and the challenges are a...</td>\n",
       "      <td>4.2</td>\n",
       "      <td>9</td>\n",
       "    </tr>\n",
       "    <tr>\n",
       "      <th>14</th>\n",
       "      <td>Asphalt Nitro</td>\n",
       "      <td>45.0</td>\n",
       "      <td>50000000.0</td>\n",
       "      <td>1560327.0</td>\n",
       "      <td>Install</td>\n",
       "      <td>Racing</td>\n",
       "      <td>Rated for 3+</td>\n",
       "      <td>1.7.4a</td>\n",
       "      <td>4.1 and up</td>\n",
       "      <td>[ Ok so, this have is really good, but actuall...</td>\n",
       "      <td>4.3</td>\n",
       "      <td>10</td>\n",
       "    </tr>\n",
       "    <tr>\n",
       "      <th>15</th>\n",
       "      <td>Need for Speed™ No Limits</td>\n",
       "      <td>77.0</td>\n",
       "      <td>100000000.0</td>\n",
       "      <td>4361325.0</td>\n",
       "      <td>Install</td>\n",
       "      <td>Racing</td>\n",
       "      <td>Rated for 7+</td>\n",
       "      <td>4.9.1</td>\n",
       "      <td>5.0 and up</td>\n",
       "      <td>[ This game pre chooses your prize before you ...</td>\n",
       "      <td>4.1</td>\n",
       "      <td>1</td>\n",
       "    </tr>\n",
       "  </tbody>\n",
       "</table>\n",
       "</div>"
      ],
      "text/plain": [
       "                                                title  size     installs  \\\n",
       "1   X Launcher Lite: With OS13 Style Theme & Wallp...   NaN    5000000.0   \n",
       "12                     Moto Rider GO: Highway Traffic   NaN  100000000.0   \n",
       "13                     Ultimate Car Driving Simulator  83.0   50000000.0   \n",
       "14                                      Asphalt Nitro  45.0   50000000.0   \n",
       "15                          Need for Speed™ No Limits  77.0  100000000.0   \n",
       "\n",
       "      reviews    price      category contentRating      currentVersion  \\\n",
       "1     53707.0  Install  Art & Design  Rated for 3+  Varies with device   \n",
       "12   670760.0  Install        Racing  Rated for 3+              1.28.4   \n",
       "13   425068.0  Install        Racing  Rated for 3+                 3.3   \n",
       "14  1560327.0  Install        Racing  Rated for 3+              1.7.4a   \n",
       "15  4361325.0  Install        Racing  Rated for 7+               4.9.1   \n",
       "\n",
       "        androidVersion                                           comments  \\\n",
       "1   Varies with device  [ I really do love this app, is a very good an...   \n",
       "12          4.1 and up  [ Graphics are ok, but controls are too basic,...   \n",
       "13          4.4 and up  [ I love the graphics and the challenges are a...   \n",
       "14          4.1 and up  [ Ok so, this have is really good, but actuall...   \n",
       "15          5.0 and up  [ This game pre chooses your prize before you ...   \n",
       "\n",
       "    score  UpdatedAt  \n",
       "1     4.5          2  \n",
       "12    4.3          2  \n",
       "13    4.2          9  \n",
       "14    4.3         10  \n",
       "15    4.1          1  "
      ]
     },
     "execution_count": 25,
     "metadata": {},
     "output_type": "execute_result"
    }
   ],
   "source": [
    "from datetime import datetime\n",
    "from dateutil.relativedelta import relativedelta\n",
    "n = 1\n",
    "last_updated_list = (df[\"lastUpdate\"]).values\n",
    "last_n_months = list()\n",
    "for (index, last_updated) in enumerate(last_updated_list):\n",
    "    window2 = datetime.today()\n",
    "    window1 = window2 - relativedelta(months=+n)\n",
    "    date_bin = 1\n",
    "    last_update_date = datetime.strptime(last_updated, \"%B %d, %Y\")\n",
    "    while(not(window1 < last_update_date < window2)):\n",
    "        date_bin = date_bin + 1\n",
    "        window2 = window2 - relativedelta(months=+n)\n",
    "        window1 = window1 - relativedelta(months=+n)\n",
    "    last_n_months.append(date_bin)\n",
    "    \n",
    "df[\"UpdatedAt\"] = last_n_months\n",
    "df = df.drop(labels = [\"lastUpdate\"], axis = 1)\n",
    "df.head()"
   ]
  },
  {
   "cell_type": "code",
   "execution_count": 26,
   "metadata": {},
   "outputs": [
    {
     "data": {
      "text/plain": [
       "title                0\n",
       "size              1877\n",
       "installs             1\n",
       "reviews             99\n",
       "price                1\n",
       "category             0\n",
       "contentRating       14\n",
       "currentVersion       0\n",
       "androidVersion      14\n",
       "comments             0\n",
       "score               99\n",
       "UpdatedAt            0\n",
       "dtype: int64"
      ]
     },
     "execution_count": 26,
     "metadata": {},
     "output_type": "execute_result"
    }
   ],
   "source": [
    "df.isnull().sum()"
   ]
  },
  {
   "cell_type": "markdown",
   "metadata": {},
   "source": [
    "## Convert price to int"
   ]
  },
  {
   "cell_type": "code",
   "execution_count": 27,
   "metadata": {},
   "outputs": [
    {
     "data": {
      "text/plain": [
       "array(['Install', ' Install', '₫42,000 Buy', '₫41,684 Buy', '₫41,180 Buy',\n",
       "       '₫41,964 Buy', '₫41,000 Buy', '₫42,765 Buy', '₫197,000 Buy',\n",
       "       '₫36,000 Buy', '₫42,761 Buy', '₫24,000 Buy', '₫40,202 Buy',\n",
       "       '₫40,292 Buy', '₫39,305 Buy', '₫39,674 Buy', '₫116,000 Buy',\n",
       "       '₫40,063 Buy', '₫131,000 Buy', '₫28,000 Buy', '₫311,000 Buy',\n",
       "       '₫44,367 Buy', '₫114,000 Buy', '₫43,107 Buy', '₫102,000 Buy',\n",
       "       '₫87,000 Buy', '₫48,000 Buy', '₫20,000 Buy', '₫44,735 Buy',\n",
       "       '₫67,000 Buy', '₫31,000 Buy', '₫23,000 Buy', '₫22,000 Buy',\n",
       "       '₫49,000 Buy', '₫65,000 Buy', '₫75,000 Buy', '₫121,000 Buy',\n",
       "       '₫69,000 Buy', ' ₫43,000 Buy', '₫93,000 Buy', '₫153,000 Buy',\n",
       "       '₫55,000 Buy', ' ₫53,000 Buy', ' ₫6,000 Buy', ' ₫18,000 Buy',\n",
       "       '₫6,000 Buy', '₫21,000 Buy', '₫9,000 Buy', '₫211,000 Buy',\n",
       "       '₫85,000 Buy', '₫129,000 Buy', '₫139,000 Buy', '₫45,000 Buy',\n",
       "       '₫45,999 Buy', '₫162,000 Buy', ' ₫38,000 Buy', '₫47,000 Buy',\n",
       "       '₫10,000 Buy', ' ₫34,000 Buy', ' ₫23,000 Buy', '₫175,000 Buy',\n",
       "       ' ₫104,000 Buy', '₫279,000 Buy', ' ₫46,000 Buy', '₫56,000 Buy',\n",
       "       ' ₫45,000 Buy', '₫43,000 Buy', '₫29,000 Buy', '₫58,000 Buy',\n",
       "       '₫106,000 Buy', '₫80,600 Buy', '₫33,000 Buy', '₫89,000 Buy',\n",
       "       '₫99,999 Buy', '₫63,000 Buy', '₫231,000 Buy', '₫117,000 Buy',\n",
       "       '₫148,000 Buy', '₫68,000 Buy', ' ₫31,000 Buy', '₫180,000 Buy',\n",
       "       ' ₫65,000 Buy', '₫141,000 Buy', ' ₫140,000 Buy', ' ₫79,000 Buy',\n",
       "       '₫125,000 Buy', '₫72,000 Buy', '₫78,000 Buy', '₫120,000 Buy',\n",
       "       '₫146,000 Buy', '₫145,000 Buy', '₫109,000 Buy', ' ₫59,000 Buy',\n",
       "       '₫86,000 Buy', '₫71,000 Buy', '₫163,000 Buy', '₫19,999 Buy',\n",
       "       '₫25,000 Buy', ' ₫27,000 Buy', '₫46,000 Buy', '₫30,000 Buy',\n",
       "       '₫199,000 Buy', '₫178,000 Buy', '₫150,000 Buy', '₫297,000 Buy',\n",
       "       '₫21,943 Buy', '₫214,000 Buy', '₫226,000 Buy', '₫232,000 Buy',\n",
       "       '₫649,000 Buy', ' ₫94,000 Buy', '₫94,000 Buy', '₫59,999 Buy',\n",
       "       '₫39,000 Buy', '₫73,900 Buy', '₫210,000 Buy', '₫53,000 Buy',\n",
       "       '₫468,000 Buy', '₫169,000 Buy', '₫198,000 Buy', '₫183,000 Buy',\n",
       "       '₫193,000 Buy', '₫113,000 Buy', '₫35,000 Buy', '₫12,000 Buy',\n",
       "       '₫144,000 Buy', '₫57,000 Buy', ' ₫8,500 Buy', '₫70,000 Buy',\n",
       "       '₫115,000 Buy', '₫52,000 Buy', '₫340,000 Buy', '₫8,500 Buy',\n",
       "       '₫24,096 Buy', '₫219,000 Buy', '₫40,000 Buy', '₫38,000 Buy',\n",
       "       '₫27,000 Buy', '₫79,000 Buy', '₫159,000 Buy', '₫32,000 Buy',\n",
       "       '₫78,348 Buy', '₫170,000 Buy', '₫62,000 Buy', '₫44,000 Buy',\n",
       "       '₫158,000 Buy', '₫88,000 Buy', '₫45,900 Buy', ' ₫115,000 Buy',\n",
       "       ' ₫36,000 Buy', '₫122,000 Buy', '₫465,000 Buy', '₫403,000 Buy',\n",
       "       '₫111,000 Buy', '₫73,000 Buy', '₫90,000 Buy', '₫33,275 Buy',\n",
       "       '₫130,000 Buy', ' ₫22,000 Buy', '₫68,998 Buy', '₫77,000 Buy',\n",
       "       '₫51,000 Buy', '₫110,000 Buy', '₫26,000 Buy', '₫17,000 Buy',\n",
       "       ' ₫24,000 Buy', '₫173,000 Buy', '₫288,000 Buy', '₫65,882 Buy',\n",
       "       '₫151,000 Buy', '₫27,454 Buy', '₫107,000 Buy', '₫133,000 Buy',\n",
       "       '₫96,000 Buy', '₫99,000 Buy', '₫136,000 Buy', '₫76,000 Buy',\n",
       "       '₫80,000 Buy', '₫413,000 Buy', '₫19,000 Buy', '₫7,500 Buy',\n",
       "       '₫152,000 Buy', '₫225,000 Buy', '₫329,000 Buy', '₫92,000 Buy',\n",
       "       ' ₫44,000 Buy', '₫104,000 Buy', '₫156,000 Buy', ' ₫47,000 Buy',\n",
       "       '₫105,000 Buy', '₫154,000 Buy', '₫292,522 Buy', '₫16,000 Buy',\n",
       "       '₫147,000 Buy', '₫101,000 Buy', '₫301,000 Buy', '₫79,999 Buy',\n",
       "       '₫15,000 Buy', '₫349,000 Buy', '₫190,000 Buy', '₫634,000 Buy',\n",
       "       '₫127,000 Buy', '₫243,000 Buy', ' ₫150,000 Buy', ' ₫13,000 Buy',\n",
       "       ' ₫16,000 Buy', '₫61,000 Buy', '₫100,000 Buy', '₫98,000 Buy',\n",
       "       '₫406,000 Buy', '₫82,000 Buy', '₫124,000 Buy', '₫138,000 Buy',\n",
       "       '₫59,000 Buy', '₫66,000 Buy', ' ₫158,000 Buy', '₫212,000 Buy',\n",
       "       '₫233,000 Buy', '₫1,850,000 Buy', '₫1,699,000 Buy', '₫953,000 Buy',\n",
       "       '₫1,005,541 Buy', '₫2,300,000 Buy', '₫723,089 Buy',\n",
       "       '₫1,440,000 Buy', '₫1,025,357 Buy', '₫1,114,800 Buy',\n",
       "       '₫81,000 Buy', '₫71,532 Buy', '₫160,000 Buy', '₫347,000 Buy',\n",
       "       '₫34,000 Buy', ' ₫60,000 Buy', '₫192,000 Buy', '₫323,000 Buy',\n",
       "       '₫165,000 Buy', '₫83,000 Buy', '₫6,500 Buy', '₫172,000 Buy',\n",
       "       '₫809,000 Buy', '₫91,000 Buy', '₫129,354 Buy', '₫272,000 Buy',\n",
       "       ' ₫15,000 Buy', '₫60,000 Buy', '₫355,538 Buy', '₫296,000 Buy',\n",
       "       '₫578,000 Buy', '₫227,000 Buy', '₫348,000 Buy', '₫206,000 Buy',\n",
       "       '₫633,000 Buy', '₫787,000 Buy', '₫59,900 Buy', '₫179,140 Buy',\n",
       "       '₫107,709 Buy', '₫37,085 Buy', '₫123,000 Buy', '₫115,984 Buy',\n",
       "       '₫64,000 Buy', '₫185,000 Buy', '₫37,000 Buy', '₫572,000 Buy',\n",
       "       '₫235,000 Buy', '₫14,000 Buy', '₫184,000 Buy', '₫128,000 Buy',\n",
       "       '₫42,228 Buy', '₫7,000 Buy', '₫157,000 Buy', '₫222,000 Buy',\n",
       "       '₫102,168 Buy', ' ₫28,000 Buy', '₫167,000 Buy', '₫108,000 Buy',\n",
       "       ' ₫69,000 Buy', '₫268,000 Buy', '₫54,000 Buy', '₫85,840 Buy',\n",
       "       '₫208,000 Buy', '₫1,034,000 Buy', '₫362,000 Buy', '₫103,000 Buy',\n",
       "       '₫256,000 Buy', '₫229,000 Buy', '₫173,760 Buy', '₫71,333 Buy',\n",
       "       '₫469,000 Buy', '₫462,000 Buy', '₫119,000 Buy', '₫394,000 Buy',\n",
       "       '₫50,000 Buy', ' ₫81,000 Buy', ' ₫112,000 Buy', None], dtype=object)"
      ]
     },
     "execution_count": 27,
     "metadata": {},
     "output_type": "execute_result"
    }
   ],
   "source": [
    "df['price'].unique()"
   ]
  },
  {
   "cell_type": "code",
   "execution_count": 28,
   "metadata": {},
   "outputs": [
    {
     "data": {
      "text/plain": [
       "10614       0.0\n",
       "14016       0.0\n",
       "1578        0.0\n",
       "9262        0.0\n",
       "7167     6000.0\n",
       "Name: price, dtype: float64"
      ]
     },
     "execution_count": 28,
     "metadata": {},
     "output_type": "execute_result"
    }
   ],
   "source": [
    "import re\n",
    "def convert_price(x):\n",
    "    if x == 'Install' or x == ' Install':\n",
    "        return 0\n",
    "    try:\n",
    "        num = re.findall('[0-9]+', x)\n",
    "        return int(''.join(num))\n",
    "    except:\n",
    "        return np.nan\n",
    "\n",
    "df['price'] = df['price'].apply(convert_price)\n",
    "df['price'].sample(5)"
   ]
  },
  {
   "cell_type": "markdown",
   "metadata": {},
   "source": [
    "# Visualize Data\n",
    "\n",
    "## Sự phân bố của điểm đánh giá"
   ]
  },
  {
   "cell_type": "code",
   "execution_count": 29,
   "metadata": {},
   "outputs": [
    {
     "name": "stdout",
     "output_type": "stream",
     "text": [
      "Average app rating =  4.22575815445726\n"
     ]
    },
    {
     "data": {
      "application/vnd.plotly.v1+json": {
       "config": {
        "linkText": "Export to plot.ly",
        "plotlyServerURL": "https://plot.ly",
        "showLink": false
       },
       "data": [
        {
         "type": "histogram",
         "x": [
          4.5,
          4.3,
          4.2,
          4.3,
          4.1,
          4.4,
          4.4,
          4,
          4.3,
          4.2,
          4.3,
          4.5,
          4.3,
          4.4,
          4.4,
          4.3,
          4,
          4.4,
          4.7,
          4.8,
          4.4,
          4.2,
          4.1,
          3.7,
          3.8,
          4.2,
          4.4,
          4.4,
          4.2,
          3.2,
          4,
          4.2,
          3.7,
          4.1,
          4.5,
          4.1,
          4.5,
          4.3,
          4,
          4.5,
          4.5,
          4.1,
          4,
          4.1,
          4.1,
          4.3,
          4.4,
          4.3,
          4.3,
          4.6,
          4.4,
          4.1,
          4.3,
          4,
          4.3,
          4.2,
          4.3,
          4.3,
          4.4,
          4.4,
          4.5,
          4.2,
          4.3,
          4.5,
          4.6,
          4.7,
          4.1,
          4.6,
          4,
          4,
          4.4,
          3.8,
          4,
          4.3,
          4,
          3.9,
          4.2,
          4,
          4.1,
          3.8,
          3.6,
          4.2,
          4.1,
          4.3,
          4.2,
          3.9,
          4,
          4.7,
          3.9,
          4.3,
          4.9,
          3.8,
          3.7,
          4.7,
          4.3,
          4.7,
          4.1,
          3.7,
          4.2,
          3.9,
          4.2,
          4.2,
          4.1,
          4,
          3.1,
          4.8,
          4,
          3.8,
          3.7,
          3.1,
          3.9,
          4.7,
          4.2,
          3.7,
          4.2,
          4.1,
          4.1,
          4.8,
          4.6,
          4.3,
          4,
          3.9,
          3.8,
          4.2,
          4,
          3.8,
          4.3,
          4.2,
          4,
          3.9,
          4.2,
          4,
          4.1,
          4.2,
          3.8,
          4.2,
          4.3,
          4.2,
          3.9,
          4.3,
          4.1,
          4.2,
          4.3,
          4.6,
          4.2,
          4.2,
          3.8,
          4.2,
          4.3,
          3.9,
          2.5,
          4.1,
          4.3,
          4.2,
          4.4,
          4.1,
          2.3,
          3.2,
          4.2,
          4.4,
          4.2,
          4.3,
          4.3,
          4.1,
          4.3,
          4.2,
          4.1,
          4.7,
          3.9,
          4.2,
          4.3,
          4.1,
          4.4,
          4.1,
          4,
          4.1,
          4.1,
          4.1,
          4,
          4,
          4.2,
          4.3,
          4.8,
          4.4,
          4.3,
          4.1,
          3.7,
          4.5,
          4.4,
          4.2,
          4.2,
          4,
          3.9,
          4.4,
          4.4,
          4.3,
          4.2,
          4.2,
          3,
          3.9,
          4,
          4.2,
          4.5,
          3.9,
          4.2,
          4.3,
          4.4,
          3.8,
          3.9,
          4,
          4.6,
          4.2,
          4.2,
          4.2,
          3.9,
          4.2,
          3.6,
          4,
          4.2,
          3.9,
          4.4,
          4.1,
          4.4,
          4,
          4.1,
          4.1,
          4,
          4.4,
          4,
          4.7,
          4.4,
          4.1,
          4.3,
          4,
          4.2,
          3.9,
          4.1,
          4.4,
          4.2,
          4.2,
          4.1,
          4.2,
          4.4,
          4.1,
          4.3,
          4.3,
          4.3,
          3.8,
          3.9,
          3.9,
          4.5,
          4.2,
          4.4,
          4.3,
          4.3,
          4.4,
          3.8,
          3.9,
          4.3,
          4.2,
          3.9,
          4.3,
          4,
          4.5,
          4.1,
          4.4,
          3.8,
          4,
          4.1,
          3.9,
          4.3,
          4.1,
          4.4,
          4.2,
          4.2,
          4.2,
          4.3,
          4.6,
          4.5,
          4.2,
          4.4,
          4.1,
          4.5,
          4.4,
          4.3,
          4.5,
          4.2,
          4.2,
          4.1,
          4.4,
          4.3,
          4.3,
          4.2,
          4.5,
          4.2,
          4.3,
          4.5,
          4.2,
          4.4,
          4.2,
          4.4,
          4.3,
          4.5,
          4.4,
          4.3,
          4.5,
          4.5,
          4.1,
          4.6,
          4.5,
          4.2,
          4.1,
          4.1,
          4.6,
          4.4,
          4.3,
          4.2,
          4.2,
          4.1,
          4.3,
          4.3,
          4.5,
          4.4,
          4.2,
          4.3,
          4.3,
          4.3,
          4.3,
          4.2,
          4.3,
          4.3,
          4.6,
          4,
          4.5,
          4.2,
          4.4,
          4.4,
          4.2,
          4.2,
          4.2,
          4.3,
          4.1,
          4.1,
          4.4,
          4.2,
          4.2,
          4.1,
          4.1,
          4.2,
          4.2,
          4.5,
          4,
          4.1,
          4.2,
          4.1,
          4,
          4.2,
          4.2,
          4.2,
          4.2,
          4.2,
          4.3,
          4,
          4.4,
          4.2,
          4.1,
          4.3,
          4.1,
          4,
          4.7,
          2.8,
          4.1,
          3.8,
          3.5,
          4.3,
          4.3,
          4.3,
          4.4,
          4,
          4.3,
          4.6,
          4.3,
          4.1,
          4.6,
          4,
          4.5,
          4.1,
          4.2,
          4.3,
          4.4,
          4.2,
          4.1,
          4.2,
          4.3,
          4.6,
          4.3,
          4.4,
          4.2,
          4.1,
          4.5,
          4.3,
          4,
          3.2,
          4.1,
          4.2,
          4,
          4.2,
          4.1,
          3.9,
          4.2,
          4.1,
          4.3,
          4.2,
          4.1,
          4.3,
          4.3,
          4.2,
          4.3,
          4.2,
          4.2,
          4.3,
          4.4,
          4.1,
          4.2,
          3.9,
          4.1,
          3.3,
          4.3,
          3.6,
          4,
          4.5,
          3.8,
          4.1,
          4.4,
          4.4,
          3.9,
          4.3,
          4.2,
          3.8,
          3.8,
          4.1,
          4.2,
          4.3,
          4.5,
          4,
          4.2,
          4.3,
          4.3,
          4.2,
          4.3,
          4.2,
          3.6,
          4.3,
          4.6,
          4.5,
          3.3,
          3.7,
          4.2,
          4.2,
          4.1,
          4.1,
          4.1,
          4.4,
          4.3,
          4.3,
          4.2,
          4.1,
          3.7,
          4.6,
          4,
          4.3,
          4,
          3.4,
          4.1,
          4,
          4.3,
          4.4,
          4.2,
          3.9,
          4.3,
          4.3,
          4.2,
          4.2,
          3.9,
          4.3,
          4.2,
          3.7,
          4.2,
          4.1,
          4.1,
          4.2,
          4.3,
          3.9,
          4.3,
          3.9,
          4.1,
          4,
          4.2,
          3.9,
          4.3,
          4,
          3.9,
          3.8,
          4.2,
          4.1,
          4.1,
          4.1,
          3.9,
          4.2,
          4.6,
          4.5,
          4.4,
          4.5,
          4.1,
          4.1,
          4.6,
          4.6,
          4.4,
          4.6,
          4.2,
          4.5,
          4.1,
          4.7,
          3.9,
          3.7,
          4.3,
          4.3,
          4.5,
          4.6,
          4.3,
          4.1,
          4.4,
          4.4,
          4.4,
          4.4,
          4.1,
          4.3,
          4.3,
          4.2,
          4.3,
          3.9,
          4.5,
          4.3,
          3.9,
          4.3,
          3.7,
          3.2,
          4.1,
          4.2,
          4.6,
          4.3,
          3.1,
          4.5,
          4.1,
          4.5,
          4.2,
          4.6,
          4.4,
          4.4,
          4.3,
          3.9,
          5,
          4.6,
          4.4,
          4.5,
          4.3,
          4.1,
          4.6,
          4.4,
          4.2,
          4.7,
          4.6,
          4.2,
          4.8,
          4.5,
          4.3,
          4.6,
          4.2,
          4.3,
          4.2,
          4.5,
          4.5,
          4.3,
          4.4,
          4.3,
          4.5,
          4.4,
          4.3,
          4.6,
          4.4,
          4.2,
          4.4,
          4.4,
          4.5,
          4.7,
          4.5,
          4.4,
          4.3,
          4.4,
          4.3,
          4.3,
          4.5,
          4,
          4.5,
          4.3,
          4,
          4.6,
          4.4,
          4.6,
          4.5,
          4.1,
          3.8,
          4.1,
          3.8,
          4.6,
          4.5,
          4.6,
          4.6,
          4.2,
          4,
          4,
          4.2,
          3.9,
          4.5,
          4.3,
          4.1,
          4.6,
          4.3,
          4.4,
          4.2,
          4.5,
          4.4,
          4.1,
          4.5,
          3.6,
          4.5,
          4.3,
          4.5,
          4.1,
          4.2,
          4.2,
          4.5,
          4.5,
          4.3,
          4.1,
          4,
          4.2,
          4.4,
          4.3,
          4.4,
          4.5,
          4.5,
          4.3,
          4.2,
          4.8,
          4.3,
          4.8,
          4.2,
          4.6,
          4.3,
          4.5,
          4.5,
          4.2,
          4.3,
          4.2,
          4.6,
          4.5,
          4.4,
          4.2,
          4.1,
          4.3,
          4.2,
          4.2,
          4.3,
          4.3,
          4.2,
          3.8,
          4.3,
          3.9,
          4.5,
          4.3,
          4.3,
          4.5,
          4.6,
          4.6,
          4.4,
          4.3,
          4,
          4.7,
          4.4,
          4.2,
          4.1,
          4.2,
          4.1,
          4.5,
          4.4,
          4.3,
          4,
          4.3,
          4.4,
          4.1,
          4.2,
          4.2,
          4.3,
          4.3,
          4.2,
          4.3,
          4.7,
          4.5,
          4.7,
          4.6,
          4.3,
          4.3,
          4.4,
          4.3,
          4.4,
          4.3,
          4.1,
          4.4,
          4.6,
          4.6,
          4,
          4,
          4.4,
          4.2,
          4.2,
          4.2,
          3.9,
          4.4,
          4.4,
          4.6,
          4.5,
          4.4,
          4,
          4.1,
          4,
          3.8,
          4.4,
          4.4,
          4.3,
          4.4,
          4.4,
          4.4,
          4.2,
          4.4,
          4.1,
          4.4,
          4.2,
          4.2,
          4.4,
          4.1,
          4.3,
          4.7,
          4.2,
          4.3,
          4.2,
          4.1,
          4.2,
          4.2,
          4,
          4.2,
          4.5,
          4.5,
          4.5,
          4.2,
          4.1,
          4.5,
          4.4,
          4.3,
          4.2,
          4.6,
          4.1,
          3.8,
          4.3,
          4.2,
          4.5,
          4.7,
          4.6,
          4.4,
          4.4,
          4.3,
          4.5,
          4.5,
          4.5,
          4.4,
          4.6,
          4.6,
          4.1,
          4.6,
          4.5,
          4.3,
          4.6,
          4.2,
          4.6,
          4.5,
          4.2,
          4.5,
          4.4,
          4.6,
          4.3,
          4.3,
          4.6,
          4.5,
          4.5,
          4.6,
          4.8,
          4.8,
          4.8,
          4.5,
          4.6,
          4.6,
          4.8,
          4.6,
          4.7,
          4.6,
          4.5,
          4.3,
          4.5,
          4.4,
          4.6,
          4.6,
          4.2,
          4.8,
          3.9,
          4,
          4.2,
          3.6,
          4.1,
          4.7,
          4.9,
          4.4,
          4.7,
          4.6,
          4.7,
          4.3,
          4.5,
          4.2,
          4.6,
          4.2,
          4.3,
          4,
          4.2,
          4.3,
          4.6,
          4.5,
          4.2,
          4.3,
          4.5,
          4.3,
          4.2,
          3.9,
          4.1,
          4.3,
          4.2,
          4.1,
          4.6,
          4.5,
          3.9,
          4.4,
          4.4,
          4.5,
          4,
          3.9,
          4.3,
          4.4,
          4.4,
          4.5,
          4.5,
          4.1,
          4.4,
          4.5,
          4.5,
          4.3,
          4.2,
          4.3,
          4.4,
          4.4,
          4.2,
          4.2,
          4.6,
          4.3,
          4.3,
          4.6,
          4,
          4.3,
          4.5,
          3.9,
          4.4,
          4.3,
          4.2,
          4.5,
          4.4,
          4.6,
          4.4,
          4.5,
          4.7,
          4.3,
          4.4,
          4.3,
          4.4,
          4.2,
          4.4,
          4.6,
          4.3,
          4.3,
          4.5,
          4,
          4.4,
          4.4,
          4.7,
          4.5,
          4.1,
          4.6,
          4.4,
          4.4,
          4.1,
          4.3,
          4.5,
          3.5,
          4.4,
          4.6,
          4.4,
          4.5,
          4.7,
          4.4,
          4.3,
          4.4,
          3.1,
          4.5,
          4.5,
          4.7,
          4.4,
          4.3,
          4.3,
          4.2,
          4.2,
          4.4,
          4.5,
          4.5,
          4.7,
          4.6,
          4.5,
          4.2,
          4.1,
          4.7,
          4.4,
          4.2,
          4.4,
          4.5,
          4.5,
          4.3,
          4.3,
          4.1,
          4.2,
          4.5,
          3.9,
          4.6,
          4.4,
          4.5,
          4.3,
          4.1,
          4.6,
          3.8,
          4.7,
          4.4,
          3.9,
          4.6,
          4.8,
          4.3,
          4.5,
          4.6,
          4.5,
          4.5,
          4.4,
          4.3,
          4.2,
          4.3,
          4.7,
          4.5,
          4.2,
          4.7,
          4.6,
          4.5,
          4.5,
          3.9,
          4.4,
          4.5,
          4.6,
          4.3,
          4.2,
          4.3,
          4.3,
          4.3,
          4.1,
          4.2,
          4.6,
          4.6,
          4.6,
          4.7,
          4.6,
          4.6,
          4.4,
          4.5,
          4.7,
          4.2,
          4.3,
          4.1,
          4.2,
          4.5,
          4.4,
          4.2,
          4.5,
          4.6,
          4.6,
          4.4,
          4.3,
          3.5,
          4.6,
          4.6,
          4.4,
          4.6,
          4.5,
          4.2,
          4.7,
          4.5,
          4.6,
          4.1,
          4.2,
          4.6,
          4.5,
          4.6,
          4.7,
          4.6,
          4.6,
          4.7,
          4.5,
          4.6,
          4.6,
          4.6,
          4.6,
          4.6,
          4.6,
          4.6,
          4.4,
          4.2,
          4.5,
          4.5,
          4.7,
          4.7,
          4.7,
          4.2,
          4.6,
          4.3,
          3.8,
          4.7,
          4.1,
          4.8,
          4.5,
          4.3,
          3.9,
          3,
          4.6,
          4.7,
          4.4,
          4.6,
          4.2,
          4.5,
          4.5,
          4.5,
          4.4,
          4.2,
          4.5,
          4.8,
          4.7,
          4.6,
          4.7,
          4.4,
          4.2,
          4.3,
          4.7,
          4.4,
          4.1,
          4.8,
          4.3,
          3.4,
          4.5,
          4.4,
          4.7,
          4.8,
          4.6,
          4.5,
          4.5,
          3.6,
          3.6,
          4.2,
          4,
          4,
          2.7,
          4.6,
          3.7,
          4.2,
          4.4,
          3.1,
          3.5,
          3.7,
          4,
          4.5,
          4.5,
          3.9,
          4.6,
          4,
          4.2,
          1.9,
          4.7,
          2.8,
          4.6,
          4.1,
          3.7,
          3.3,
          4.2,
          4,
          4.6,
          4.7,
          4.6,
          4.5,
          4.6,
          4.3,
          4,
          3.9,
          4.4,
          4.2,
          4.6,
          4.8,
          4.6,
          4.5,
          4.2,
          4.8,
          4.4,
          4.5,
          4.4,
          4.3,
          3.8,
          3.8,
          4.6,
          4.4,
          4.2,
          4.3,
          4.3,
          4.6,
          4.2,
          3.4,
          4.6,
          4.5,
          3.2,
          4.4,
          4.5,
          4.5,
          4.4,
          4.6,
          4.4,
          4.9,
          4.3,
          3.9,
          4.5,
          4.3,
          4.6,
          4.2,
          4.2,
          4.2,
          4.2,
          4.1,
          4.2,
          4.5,
          4.2,
          4.4,
          4.6,
          4.5,
          4.2,
          4.6,
          4.6,
          4.6,
          4.5,
          4.6,
          4,
          4.1,
          4.4,
          5,
          4.5,
          4.7,
          4.8,
          4.7,
          4.6,
          4,
          4.4,
          4.8,
          4.4,
          4.4,
          4.8,
          4.5,
          4.9,
          4.1,
          4.3,
          4.2,
          4.6,
          4.6,
          4.5,
          4.7,
          4.8,
          4,
          4.3,
          4.3,
          4.4,
          4.3,
          4.7,
          5,
          4,
          3.9,
          4.4,
          4.3,
          4.4,
          4.7,
          4.5,
          4.5,
          3.9,
          4.4,
          4.5,
          4.3,
          4.1,
          4.2,
          4.7,
          4.4,
          4.6,
          4.2,
          4.6,
          4.8,
          3.9,
          4.7,
          4.4,
          4.5,
          3.9,
          4.6,
          4.5,
          4.7,
          4.6,
          4.7,
          4.5,
          4.1,
          4.3,
          4.2,
          4.7,
          4.6,
          4.6,
          4.1,
          4.3,
          4.2,
          4,
          4.2,
          4.5,
          4.6,
          4.6,
          4.5,
          4.2,
          4.5,
          4.4,
          4.6,
          4.2,
          4.3,
          4.6,
          4.3,
          4.3,
          4.6,
          4.5,
          4.6,
          4.3,
          4.5,
          4.6,
          4.5,
          4.2,
          4.6,
          4.3,
          4.2,
          4.3,
          4.7,
          4.7,
          4.5,
          4.6,
          4.4,
          4.3,
          4.4,
          4.2,
          4.6,
          4.8,
          4.5,
          4.4,
          4.3,
          4.5,
          4.6,
          4.8,
          4.6,
          4.5,
          4.4,
          4.6,
          4.8,
          2.9,
          4.2,
          3.4,
          4,
          3.7,
          4.2,
          4.4,
          3.5,
          4.6,
          4.8,
          4.4,
          3.7,
          4.1,
          4.2,
          3.7,
          4,
          4.4,
          3.9,
          4.3,
          4.1,
          4.5,
          4.7,
          4.4,
          4.5,
          4,
          4.4,
          4.4,
          4,
          4.3,
          4.3,
          4,
          4.2,
          4.8,
          4.3,
          4.5,
          3.8,
          4.5,
          4.5,
          4.1,
          4.4,
          4.3,
          4.2,
          4.1,
          4.7,
          4.3,
          4.3,
          4.4,
          4.4,
          4.3,
          4,
          4.5,
          4,
          4.4,
          4.6,
          3.7,
          4.4,
          4.4,
          4.3,
          4.3,
          4.6,
          4.3,
          4.5,
          4.4,
          4.3,
          4.3,
          null,
          3.8,
          4.4,
          4.7,
          4.3,
          4.6,
          4.4,
          4.2,
          4.4,
          4.6,
          4.1,
          4.3,
          4.4,
          4.4,
          4.3,
          4.3,
          4.5,
          4.4,
          4.2,
          4.3,
          4.1,
          4.2,
          4.1,
          4.4,
          4.3,
          4.3,
          4.5,
          4.6,
          4.4,
          4.5,
          4.5,
          4.8,
          4,
          4.7,
          4.3,
          4.4,
          4.1,
          4.4,
          4.2,
          4.2,
          3.8,
          4.7,
          4.3,
          4.6,
          4.5,
          4.6,
          4.3,
          4.5,
          4.2,
          4.5,
          4.3,
          4.6,
          4.6,
          4.6,
          4.6,
          4.4,
          4.6,
          4.1,
          4.5,
          4.4,
          4.2,
          4.4,
          4.7,
          4,
          3.5,
          4.6,
          4.7,
          4.5,
          4.3,
          4.6,
          4.1,
          4.2,
          4.7,
          4.7,
          4.5,
          4.6,
          4.4,
          3.9,
          4.4,
          4.2,
          4.3,
          4.5,
          4.3,
          4.2,
          4.3,
          4.4,
          4.5,
          4.1,
          4,
          4.5,
          4.2,
          4.4,
          4,
          4.6,
          4.5,
          4,
          3.7,
          4.5,
          4.5,
          4.6,
          4.1,
          4.4,
          3.5,
          3.8,
          4.2,
          4.3,
          4,
          4.4,
          4.4,
          4.6,
          4.5,
          4.3,
          4.2,
          3.8,
          4,
          4.2,
          4.6,
          4.5,
          4.4,
          2.7,
          4.2,
          4.3,
          4.3,
          4,
          4.5,
          4.5,
          4.3,
          4.2,
          4.2,
          4.5,
          4.2,
          4.5,
          4.3,
          4.4,
          4.6,
          4.5,
          4.3,
          4.5,
          4.6,
          4.4,
          4.7,
          4.6,
          4.4,
          4.8,
          4.4,
          4.5,
          4.3,
          4.5,
          4.5,
          3.8,
          4.5,
          4.2,
          4.3,
          4.5,
          4.3,
          4.4,
          4.4,
          4.6,
          4.6,
          4.3,
          4.2,
          4.8,
          4.3,
          4.5,
          4.3,
          4.4,
          4.5,
          4.1,
          4.6,
          4.4,
          4.5,
          4.6,
          4.1,
          4.5,
          4.5,
          4.5,
          4.6,
          4.2,
          4.5,
          4.5,
          4.1,
          4.2,
          4.5,
          4.2,
          4.3,
          4,
          3.5,
          4.4,
          4.5,
          4.5,
          4.4,
          4.4,
          4.1,
          4.5,
          4.1,
          4.3,
          4.2,
          4.3,
          4.2,
          4.2,
          4.2,
          4.6,
          4.6,
          4.7,
          4.3,
          4.6,
          4.3,
          4.3,
          4.5,
          4.4,
          4.4,
          4.7,
          4.2,
          4.6,
          4.5,
          4.2,
          4.5,
          4.1,
          4.4,
          4.4,
          4.5,
          4.4,
          4.3,
          4.4,
          4.5,
          4.2,
          4.2,
          4.4,
          4.5,
          4.4,
          4.6,
          4.4,
          4.4,
          4.3,
          4.2,
          4.4,
          4.6,
          4.3,
          4.5,
          4.2,
          4.3,
          4.5,
          4.3,
          4,
          4.1,
          4.3,
          4.4,
          4.1,
          4.1,
          4.4,
          4.3,
          4.3,
          4.6,
          4.2,
          4.3,
          4.2,
          4.6,
          4.2,
          3.9,
          4.5,
          4.3,
          4.3,
          4.4,
          4.5,
          4.4,
          4.6,
          4.5,
          4.3,
          4.4,
          4.1,
          4.5,
          4.2,
          4.6,
          4.4,
          4.1,
          4.4,
          4.1,
          4,
          4.1,
          4.2,
          4,
          4.2,
          4.3,
          4,
          4.1,
          3.9,
          4.3,
          4.2,
          4.5,
          4.2,
          4.6,
          4.2,
          4.6,
          4.5,
          4.6,
          4.3,
          4,
          4.4,
          4.5,
          4.7,
          4.1,
          4.3,
          4.5,
          3.9,
          4.3,
          4.5,
          4.3,
          4.5,
          4.3,
          4.1,
          4.3,
          3.8,
          4,
          4.4,
          4,
          4.1,
          4.4,
          4,
          4.3,
          4.5,
          4.3,
          4.4,
          4.2,
          3.9,
          3.8,
          4.8,
          3.6,
          4.5,
          4.8,
          4.1,
          2.2,
          4.7,
          4.8,
          4.2,
          4.6,
          3.7,
          4.7,
          4.8,
          3.6,
          4.7,
          4.3,
          3.8,
          4.6,
          3.8,
          4,
          4.6,
          4.7,
          3.4,
          4.6,
          4.3,
          3.2,
          3.3,
          3.5,
          3.4,
          3.7,
          3.4,
          4.6,
          3.5,
          4.2,
          4.7,
          3,
          4.3,
          3.9,
          4.6,
          4.7,
          4.6,
          4.2,
          4.1,
          4,
          3.6,
          4.6,
          4.4,
          4.2,
          3.7,
          4.6,
          4.5,
          3.6,
          4.4,
          4.2,
          4.1,
          4.4,
          4.1,
          4.2,
          4.5,
          4.4,
          4.4,
          4.3,
          4,
          4.3,
          4.3,
          4.4,
          4.2,
          4.1,
          4.5,
          4,
          4.4,
          4.4,
          4.1,
          4.4,
          4.3,
          4.6,
          4.4,
          4.3,
          3.9,
          3.6,
          4.1,
          4.5,
          4.4,
          4.3,
          4.6,
          4.4,
          4.4,
          4.4,
          4.6,
          4.7,
          4.7,
          4.1,
          4.4,
          4.7,
          4.9,
          4.6,
          4.2,
          4.5,
          4.1,
          4.6,
          4.3,
          4.6,
          4.3,
          4.5,
          4.5,
          4.7,
          4.8,
          4.2,
          3.8,
          4.5,
          4.5,
          4.3,
          4.7,
          4.4,
          4.4,
          4.8,
          4.9,
          4,
          4.6,
          4.8,
          4.8,
          4.8,
          4.6,
          4.4,
          3.9,
          4.4,
          4.1,
          4.4,
          4.1,
          4.3,
          4.2,
          4.2,
          4.6,
          4.6,
          4.2,
          4,
          4.3,
          4.3,
          4.4,
          4.3,
          4.6,
          4,
          4.4,
          4.6,
          4.2,
          4.6,
          4.4,
          4.3,
          4.6,
          3.9,
          4.6,
          3.7,
          4.4,
          4.2,
          4.2,
          4.3,
          4.3,
          4.6,
          3.7,
          4.3,
          4.2,
          3.6,
          3.9,
          4.4,
          4.6,
          3.5,
          3.8,
          4.2,
          4.2,
          4.5,
          4.6,
          4.5,
          4.3,
          4.3,
          4,
          4.4,
          4.1,
          4.3,
          4.6,
          4.6,
          4.5,
          4.4,
          4.3,
          4.5,
          4.3,
          4.5,
          4.5,
          4.1,
          3.9,
          4.6,
          4.4,
          4.3,
          4.6,
          4.4,
          4.1,
          4.6,
          4.3,
          4.4,
          4.6,
          4.3,
          4.1,
          4.5,
          4.4,
          4.4,
          4.2,
          4.3,
          4.5,
          4.4,
          4.3,
          4.1,
          4.2,
          4.4,
          4.4,
          4.7,
          4.4,
          4.7,
          4.3,
          4.5,
          4.2,
          4.2,
          4.3,
          4.6,
          4.7,
          4.3,
          4.8,
          4.2,
          4.2,
          3.9,
          4.7,
          4.3,
          4.4,
          4.4,
          4.2,
          4.5,
          3.6,
          4.7,
          4.3,
          4.5,
          4.1,
          3.8,
          4,
          4.5,
          4,
          4.1,
          4.3,
          4.1,
          4.2,
          4.5,
          4.5,
          4.5,
          3.7,
          4.5,
          4.6,
          4.4,
          4,
          4.6,
          4.7,
          4.6,
          4.8,
          4.2,
          4.4,
          4.3,
          4.3,
          4.2,
          4.5,
          4.2,
          4.2,
          4.3,
          4.3,
          4.5,
          4.8,
          4.5,
          4.4,
          4.3,
          4.1,
          4,
          4.6,
          4.5,
          4.6,
          4.5,
          3.6,
          4.4,
          4.3,
          4.1,
          4.3,
          4.7,
          3.9,
          4.3,
          4.3,
          3.1,
          4.7,
          4.4,
          4.3,
          4.6,
          3.7,
          4.6,
          4.6,
          4.2,
          4.8,
          3.7,
          4.5,
          4.7,
          4.5,
          4.2,
          4.2,
          4.1,
          4.5,
          4.4,
          4.3,
          4.8,
          4.1,
          4.3,
          4.2,
          4.2,
          4.5,
          3.9,
          4.8,
          4.8,
          4,
          4.5,
          4.1,
          4.8,
          4.8,
          4.6,
          4.5,
          4.4,
          4.5,
          4.3,
          4.3,
          4,
          4.7,
          4.3,
          4.4,
          4.3,
          4.2,
          4,
          4.5,
          4.8,
          4.6,
          4.1,
          4.5,
          4.4,
          4.6,
          4.4,
          4.6,
          4.6,
          4.6,
          4.5,
          4.5,
          3.6,
          4.8,
          4.5,
          4.5,
          4.5,
          4.5,
          4.2,
          4.7,
          4.1,
          4.4,
          4.1,
          4.2,
          4.4,
          4.6,
          4.1,
          4.8,
          4.9,
          4.1,
          4,
          3.4,
          3.8,
          4.2,
          3.8,
          4.1,
          3.8,
          4,
          4.6,
          4.4,
          3.7,
          4.8,
          3.2,
          4.3,
          4.2,
          3.8,
          3.9,
          4.5,
          3.3,
          4.1,
          3.9,
          4.1,
          4.7,
          3.3,
          4.6,
          4.6,
          4.4,
          4.4,
          4.4,
          3.6,
          4.4,
          4.5,
          4.2,
          4.4,
          4.1,
          3.7,
          4.5,
          4.4,
          4.7,
          2.5,
          4.4,
          4.2,
          4.3,
          4.6,
          4.3,
          4.5,
          3.3,
          4.4,
          4.4,
          4.3,
          4.4,
          4.6,
          4.6,
          4.6,
          3.2,
          4.7,
          4.2,
          4.2,
          4.3,
          4.5,
          4.1,
          4.4,
          4.9,
          4.4,
          4.3,
          3.7,
          4.4,
          4.5,
          4.6,
          4.6,
          4,
          4.2,
          4.6,
          4.3,
          4.3,
          4.7,
          4.5,
          4.4,
          4.5,
          4.7,
          3.6,
          4.6,
          4.1,
          4.1,
          3.7,
          4,
          4.2,
          3.6,
          3.7,
          4,
          4.4,
          4.5,
          4.3,
          4.5,
          4.5,
          4.3,
          4.4,
          4,
          3.9,
          4.1,
          4.5,
          4.6,
          4.5,
          3.8,
          4.5,
          4.4,
          4.5,
          4.2,
          4.4,
          4.1,
          4.5,
          4.5,
          4.5,
          4.5,
          4.4,
          4.7,
          4.2,
          3.6,
          4.3,
          4.4,
          4.8,
          4.3,
          4.6,
          4.4,
          3.9,
          4.6,
          4.4,
          4.4,
          4.5,
          4.5,
          4.1,
          4.4,
          4.3,
          4.6,
          4.3,
          4.6,
          4.5,
          4.5,
          3.8,
          4.5,
          4.2,
          3.7,
          2.6,
          3.4,
          4.6,
          3.2,
          4.7,
          4.4,
          4.5,
          4.3,
          4.5,
          4.3,
          4.8,
          4.6,
          4.7,
          4.6,
          4.6,
          4.3,
          4,
          4.6,
          3.6,
          4,
          4.3,
          4.6,
          4.9,
          4,
          4.4,
          3.8,
          4.7,
          4.6,
          4.6,
          4.7,
          4.4,
          4.5,
          4.3,
          3.9,
          4.3,
          3.6,
          4.1,
          4.1,
          3.2,
          3.9,
          4.5,
          4.2,
          4.5,
          4.5,
          4.8,
          4.4,
          4.6,
          4.6,
          4.2,
          3.8,
          4.6,
          3.9,
          3.9,
          4,
          3.9,
          4.3,
          4.3,
          3.8,
          3.5,
          3.8,
          4.1,
          4.4,
          3.7,
          4.1,
          4.1,
          4.2,
          4.2,
          4.1,
          4,
          4.1,
          4.2,
          4.4,
          4,
          4,
          4.2,
          2.7,
          4.4,
          4.4,
          3.4,
          3.8,
          4.4,
          4.5,
          4.3,
          4.3,
          null,
          3.4,
          4.5,
          3.3,
          4.5,
          4.7,
          4.1,
          4.3,
          4.1,
          4.7,
          4.6,
          4.3,
          4.4,
          4.7,
          4.7,
          3.1,
          4.9,
          2.6,
          4.3,
          3.5,
          4.4,
          4.8,
          4.1,
          4.4,
          3.7,
          3,
          4.2,
          3.8,
          4.5,
          4.7,
          4.5,
          4.4,
          4.5,
          4.2,
          3.7,
          4,
          4.4,
          4.4,
          4.7,
          3.9,
          4,
          4.5,
          4.4,
          4.5,
          4.5,
          4.7,
          4.1,
          4.5,
          4.7,
          4.3,
          3.8,
          4.3,
          4.3,
          3.4,
          4.1,
          4.1,
          4.7,
          4.5,
          4.3,
          4.2,
          4.7,
          4.8,
          4.5,
          4.3,
          4.7,
          4.7,
          4.5,
          4.7,
          4.7,
          4.7,
          4.6,
          4.6,
          4.5,
          4.3,
          4.3,
          4.3,
          4.1,
          4.8,
          4.6,
          4.6,
          4.6,
          4.6,
          4.3,
          4.4,
          4.5,
          4.7,
          4.7,
          4.8,
          4.4,
          4.6,
          3.9,
          4.2,
          4.4,
          4.6,
          4.5,
          4.3,
          4.6,
          4.3,
          4.4,
          4.3,
          4.4,
          4.4,
          4.4,
          4.3,
          4.4,
          4.2,
          4.6,
          4.5,
          4.1,
          4.3,
          4.7,
          3.7,
          4.7,
          4.6,
          4,
          4.6,
          3.3,
          4.4,
          4.3,
          4.1,
          4.1,
          3.6,
          2.5,
          4.6,
          4,
          4.2,
          4.6,
          2.9,
          4.3,
          4.2,
          4.2,
          4.7,
          4.2,
          4.5,
          4.4,
          4.3,
          4.8,
          4.3,
          2.5,
          4.5,
          4.6,
          4.3,
          4.4,
          3.4,
          3.8,
          4.8,
          4.2,
          4.3,
          null,
          4.7,
          3.1,
          null,
          4.6,
          4.4,
          1.5,
          4.5,
          4.5,
          3.1,
          3.3,
          4.7,
          4.5,
          3.8,
          3.9,
          4.5,
          3.4,
          4.1,
          4.4,
          4.3,
          4.4,
          4.6,
          4.4,
          4.2,
          4.4,
          4.6,
          4.6,
          4.7,
          3.7,
          4.4,
          4.2,
          2.8,
          4.6,
          3.5,
          4.6,
          2.8,
          4.3,
          4.6,
          4.1,
          4.5,
          4.6,
          4.4,
          4.7,
          4.4,
          4.4,
          4.4,
          4.6,
          4.5,
          4.6,
          4.4,
          3.6,
          4.7,
          4.5,
          3.8,
          4.5,
          4.6,
          4.5,
          4.2,
          4.4,
          4.6,
          4.8,
          4.1,
          4.4,
          4.5,
          4.1,
          4.1,
          3.6,
          4.1,
          4.6,
          null,
          null,
          4.8,
          4.5,
          4.4,
          4.4,
          4,
          4.3,
          4,
          4.5,
          3.7,
          4.1,
          3.2,
          2.9,
          4.5,
          3.8,
          3.6,
          4.6,
          3.1,
          4.8,
          4.6,
          4.1,
          3.8,
          3.9,
          4.6,
          4.3,
          4.6,
          3.8,
          4.8,
          2.8,
          4.8,
          4.9,
          4,
          4.1,
          4.2,
          4.8,
          4.5,
          3.7,
          3.9,
          4.5,
          4.6,
          4.3,
          4.1,
          2.7,
          4.3,
          4.4,
          2.8,
          4.4,
          4.2,
          4.6,
          4,
          3.9,
          4.2,
          4.1,
          4.5,
          3.9,
          4.5,
          4.2,
          4,
          4.6,
          4,
          3.7,
          4,
          4.1,
          3.5,
          4.5,
          2.9,
          4.1,
          3.6,
          3.6,
          4,
          4.1,
          3.8,
          4.3,
          4.9,
          4.3,
          4,
          4,
          3.5,
          4.3,
          2.9,
          4.5,
          3.8,
          4.3,
          4.4,
          3.4,
          4.2,
          4.7,
          4.1,
          4,
          4.5,
          4.3,
          4.3,
          4.5,
          4.6,
          4.2,
          4.3,
          4.4,
          3.5,
          4.3,
          4.3,
          4.4,
          4.5,
          4.1,
          4.4,
          3.1,
          4.4,
          4.3,
          4.1,
          4.1,
          3.9,
          4.5,
          4.3,
          4.6,
          4.2,
          3.7,
          4.3,
          4.2,
          4.5,
          4.2,
          4.4,
          4,
          4.2,
          4.2,
          4,
          4.2,
          3.4,
          4.3,
          4.6,
          4.6,
          4.5,
          4.5,
          4.3,
          4.4,
          4.6,
          2.7,
          4.6,
          4,
          4.7,
          3.6,
          2.7,
          3.8,
          3.8,
          3.6,
          4.7,
          4.4,
          3.2,
          3.9,
          4.4,
          4.7,
          4.5,
          4.5,
          4,
          4.1,
          4,
          4.4,
          4,
          4.2,
          2.4,
          4.4,
          4.8,
          4.3,
          4.6,
          4.3,
          4.7,
          4.5,
          4.3,
          4.7,
          3.8,
          4.5,
          4.7,
          4.6,
          3.9,
          4.8,
          3.9,
          4.6,
          4.4,
          4,
          4,
          4.6,
          4.5,
          4.7,
          4.4,
          4.6,
          4.2,
          4.2,
          3.7,
          4.3,
          4.1,
          4.5,
          4.1,
          4.6,
          4,
          4.2,
          4.1,
          4.5,
          4.7,
          3.9,
          4.4,
          4.5,
          4,
          4.4,
          4.3,
          4.7,
          4.3,
          4.4,
          4.5,
          2.7,
          4.4,
          4.4,
          3.8,
          4.4,
          4.5,
          4.1,
          4.5,
          4.2,
          4.3,
          4.6,
          4.4,
          4.2,
          4.4,
          4.5,
          4.8,
          4.6,
          4.5,
          4.3,
          4.3,
          4.8,
          4.4,
          4.3,
          4.5,
          4.4,
          4.5,
          4.5,
          4.4,
          4.8,
          4.8,
          4.5,
          4.2,
          4.3,
          2.7,
          2.9,
          4.7,
          3.2,
          3.3,
          4.8,
          4.1,
          4.6,
          4.2,
          4.8,
          4.4,
          4.2,
          3.4,
          4.4,
          4.3,
          4.6,
          3.7,
          3.9,
          4.1,
          4.1,
          4,
          4,
          4.4,
          4.2,
          4.1,
          4.4,
          3.9,
          3.6,
          4.7,
          4.7,
          3.8,
          4.2,
          3.7,
          4.2,
          4.5,
          2.4,
          3.8,
          2.8,
          4,
          4.3,
          4.7,
          4.7,
          2.3,
          4.7,
          4.4,
          3.5,
          3.6,
          3.7,
          4.6,
          4,
          4.6,
          4.5,
          2.9,
          4.5,
          4.7,
          4,
          3.2,
          4.1,
          3.8,
          2.9,
          4.4,
          4,
          4.3,
          4.6,
          4.5,
          4.5,
          4.3,
          4.6,
          4.6,
          3.1,
          4.3,
          3.2,
          4.3,
          4.2,
          4.5,
          4.4,
          4.5,
          4.4,
          4.6,
          4.1,
          4.4,
          4,
          4.3,
          4,
          4.6,
          4.5,
          4.2,
          4.5,
          4.6,
          3.8,
          4.3,
          4.4,
          4.5,
          3.8,
          4.4,
          4.5,
          4.5,
          4.7,
          4.7,
          4.2,
          2.7,
          4.4,
          4.4,
          4.1,
          3.9,
          4.4,
          3.7,
          4.6,
          3.5,
          4.3,
          3.9,
          4.1,
          4.5,
          4.5,
          4,
          4.5,
          4.1,
          4.5,
          4.7,
          4.2,
          4.4,
          3.8,
          4.3,
          4.4,
          4.3,
          3.8,
          4.3,
          4.2,
          3.5,
          4.5,
          4.1,
          3.9,
          4.5,
          4.3,
          4.3,
          4.3,
          4,
          4.2,
          4.1,
          4.4,
          4.4,
          4.4,
          4.4,
          4.3,
          4.3,
          3.5,
          4.1,
          4.4,
          4.4,
          4.3,
          3,
          3.6,
          4.2,
          4,
          4.1,
          3.5,
          4.3,
          4.1,
          4.1,
          4.3,
          4.4,
          3.9,
          4.7,
          4,
          4.5,
          4.2,
          4.7,
          4.6,
          3.8,
          4.2,
          4.3,
          4.6,
          4.4,
          4.6,
          4.1,
          4,
          4.5,
          3.6,
          4.3,
          4.6,
          3.6,
          4.3,
          3.9,
          4.3,
          4.6,
          4.5,
          4.4,
          4.2,
          4.6,
          3.6,
          3.8,
          4.1,
          3.4,
          4.5,
          3.9,
          4.4,
          3.4,
          4.3,
          4.4,
          4.6,
          4.2,
          4.3,
          4.3,
          3.4,
          4.3,
          4.5,
          4.3,
          4.3,
          4.4,
          4.2,
          4.3,
          4.4,
          4.5,
          3.3,
          4.5,
          4.8,
          4.6,
          4.8,
          4.7,
          4.2,
          4.4,
          4.4,
          4.6,
          4.3,
          4.4,
          4.2,
          4.2,
          4.4,
          4.8,
          4.4,
          4.1,
          4.4,
          3.4,
          4.1,
          4.1,
          4.5,
          4.3,
          4.7,
          4.6,
          4.2,
          4.7,
          4.5,
          3.9,
          4.7,
          4.5,
          4.1,
          4.1,
          4.2,
          4.7,
          4.2,
          3.8,
          4.3,
          4.5,
          4.3,
          4.5,
          4.2,
          4.4,
          4.5,
          3.5,
          4.4,
          3.8,
          4.1,
          4.4,
          4.2,
          4.5,
          4.6,
          4.7,
          4.3,
          4.4,
          3.5,
          4.2,
          4.2,
          3.6,
          4.6,
          3.9,
          4.7,
          3.8,
          4.4,
          3.7,
          3.8,
          4.2,
          4.6,
          3.5,
          4.1,
          3.5,
          4.7,
          4.2,
          4.5,
          3.8,
          3.3,
          4.3,
          4.2,
          4.6,
          3.8,
          4.3,
          4.3,
          4.4,
          4.1,
          4.7,
          4.4,
          3.5,
          3.7,
          4.8,
          2.8,
          4.4,
          3.6,
          4.3,
          4.6,
          4.6,
          2.6,
          4.5,
          3.9,
          4.7,
          4.1,
          4.4,
          4.4,
          3.6,
          3.9,
          3.5,
          3.7,
          4.2,
          4.2,
          4.4,
          2.5,
          2.5,
          4,
          4,
          3.7,
          4.8,
          4.5,
          4.7,
          4.4,
          4,
          4.4,
          4.4,
          4.3,
          4.2,
          4.3,
          4.3,
          4.7,
          4.4,
          4.2,
          4.5,
          4.4,
          4.6,
          3.3,
          4.6,
          4.3,
          3.2,
          null,
          4.2,
          4.7,
          4.2,
          4.1,
          4.1,
          3.9,
          4.4,
          null,
          4.6,
          4.2,
          4.6,
          3.7,
          5,
          3,
          4.4,
          3.9,
          4.5,
          4,
          4.3,
          4.6,
          3.7,
          null,
          3.7,
          null,
          4.2,
          4.5,
          3.3,
          4.2,
          3.8,
          3.8,
          4.2,
          4.6,
          4.4,
          4.3,
          4.2,
          3.8,
          4.1,
          4.4,
          4.6,
          null,
          4,
          4,
          4,
          4.3,
          4.3,
          3.7,
          3.4,
          4,
          3.5,
          4.4,
          2.7,
          4.4,
          3.1,
          4.6,
          4.3,
          4.7,
          4.4,
          4.3,
          3.7,
          3.8,
          4.2,
          3.8,
          3.4,
          3,
          4.6,
          3.6,
          4.1,
          4.2,
          3.4,
          4.2,
          4.3,
          4.5,
          4.4,
          4.4,
          4.7,
          4.2,
          3.7,
          4.3,
          4.1,
          4,
          4.4,
          4.5,
          4.8,
          4.3,
          4,
          4.3,
          4.1,
          4,
          null,
          3.9,
          4.1,
          3.5,
          null,
          null,
          null,
          3.8,
          4.2,
          3.7,
          3.9,
          3.8,
          null,
          4.2,
          3.1,
          3.9,
          null,
          4.3,
          3.8,
          null,
          4.1,
          3.9,
          4.3,
          4.5,
          4.4,
          4.5,
          4,
          3.9,
          4.4,
          4,
          4.1,
          2.6,
          4.3,
          3.4,
          4.6,
          4.5,
          4.5,
          4.7,
          4.6,
          4.3,
          4.3,
          4.6,
          4.5,
          3.3,
          3.8,
          4.9,
          4.1,
          4.8,
          4.4,
          3.9,
          4.6,
          3.7,
          4.8,
          4.8,
          4.5,
          4.8,
          4.6,
          4.8,
          4.9,
          3.8,
          3.7,
          4.5,
          3.3,
          4.4,
          4.9,
          4.3,
          3.3,
          4.4,
          4.5,
          4.3,
          4.3,
          3.8,
          4.2,
          4.1,
          4.5,
          4.6,
          3.8,
          3.6,
          4.3,
          4.4,
          4.3,
          4.3,
          4.6,
          3.7,
          4,
          4.7,
          4.4,
          4.1,
          4.4,
          4.5,
          4.3,
          3.9,
          3.6,
          4.2,
          4.4,
          4.6,
          4.3,
          4.5,
          4.3,
          3.4,
          4.6,
          4,
          4.3,
          4.4,
          4.6,
          4.3,
          4,
          4,
          3.8,
          4.3,
          3.9,
          4.7,
          4.6,
          3.8,
          4.3,
          3.2,
          4.5,
          3.9,
          4.5,
          4.8,
          4.3,
          4.1,
          4.1,
          3.9,
          4.5,
          4.9,
          4.4,
          4.6,
          4.7,
          3.8,
          3.2,
          3.6,
          3.4,
          4.5,
          4.2,
          3.9,
          5,
          4,
          3.2,
          null,
          4.8,
          null,
          3.4,
          4.4,
          4.3,
          null,
          3.6,
          4,
          4,
          3.8,
          3.5,
          4.1,
          4.3,
          3.7,
          3.9,
          4.7,
          4.6,
          3.9,
          4.1,
          4,
          4.6,
          4.3,
          3.1,
          4.4,
          4.4,
          4.1,
          4.2,
          4.4,
          4.7,
          4.2,
          4.4,
          4.5,
          3.9,
          4.5,
          4.4,
          4.3,
          4.3,
          3.3,
          4.5,
          4.6,
          4.7,
          3.6,
          4.3,
          4,
          4.2,
          4.1,
          4.7,
          3.8,
          4.1,
          3.9,
          3.8,
          4.2,
          4.5,
          4,
          3.7,
          3.7,
          3.7,
          4.5,
          4,
          4.5,
          4.4,
          4.7,
          3.8,
          4.2,
          4.5,
          2.7,
          4.1,
          3.7,
          3.6,
          3.8,
          4.8,
          4.1,
          4.2,
          4.5,
          4.4,
          3.9,
          3.5,
          3.6,
          3.8,
          4.5,
          4.3,
          3.9,
          4.5,
          3.3,
          2.7,
          3.9,
          3.8,
          4.3,
          4.7,
          4.2,
          4.3,
          4.5,
          4.1,
          4.5,
          4.2,
          4.4,
          4.5,
          3.8,
          4,
          3.7,
          3.7,
          4.4,
          4.6,
          4.2,
          3.9,
          4.8,
          4.6,
          4.4,
          4.2,
          3.9,
          4,
          4,
          4.1,
          4.5,
          4,
          4.1,
          4.6,
          4.6,
          4.1,
          4.1,
          4.1,
          4.4,
          4.1,
          4.7,
          4.1,
          4.7,
          4.1,
          4.6,
          4.3,
          4.1,
          4.4,
          4.2,
          4.1,
          4.4,
          4.1,
          4.3,
          4,
          4,
          4,
          4,
          4.6,
          4.3,
          4.1,
          4.4,
          4.2,
          4.6,
          4.1,
          4.1,
          4.1,
          4.4,
          3.5,
          3.5,
          4.5,
          3.8,
          4.5,
          4.6,
          4,
          4.1,
          4.2,
          5,
          3.6,
          3.9,
          4.3,
          4.5,
          4.6,
          4.2,
          4.4,
          4.5,
          4.2,
          4.2,
          4.1,
          4.2,
          4.5,
          4.6,
          3.9,
          4.4,
          4.1,
          4.2,
          4.2,
          4.2,
          4.7,
          5,
          4.4,
          4.3,
          4.4,
          4.2,
          4.5,
          4.5,
          3.6,
          4.7,
          4.4,
          4.5,
          4.4,
          3.6,
          4.6,
          4.5,
          4.6,
          4.4,
          2.3,
          4.6,
          4.6,
          3.9,
          4.6,
          4.2,
          4.2,
          4.4,
          4.7,
          4.5,
          3.9,
          4.7,
          4.2,
          4.9,
          3.2,
          4.3,
          3.9,
          4.2,
          4.1,
          4.2,
          4.3,
          4.4,
          4.1,
          4.3,
          3.8,
          4.4,
          4.6,
          4,
          4,
          4.6,
          4.3,
          4.6,
          4.1,
          4.3,
          4,
          4,
          4.2,
          2.9,
          4.1,
          4.1,
          4.3,
          4.6,
          4.4,
          4,
          4.7,
          4.5,
          4.2,
          4.3,
          4.5,
          4.4,
          4,
          4.6,
          4.4,
          4.1,
          4.9,
          4.5,
          4.3,
          4.5,
          3.4,
          3.8,
          3.8,
          3.7,
          4.1,
          4,
          3.6,
          4.2,
          4.1,
          4.4,
          4.3,
          4.6,
          4.4,
          2.7,
          4.6,
          4.2,
          2.3,
          4.4,
          4.6,
          3.3,
          4.4,
          4.5,
          4.2,
          4.4,
          3,
          4.7,
          3.5,
          4.1,
          4.1,
          4.4,
          4.5,
          4.8,
          4.2,
          3.4,
          4.2,
          3.6,
          3.8,
          4.5,
          4.6,
          4,
          4.5,
          2.8,
          4.3,
          3.8,
          4.5,
          4.7,
          4.7,
          4.3,
          4.2,
          4,
          2.8,
          2,
          4.8,
          3.3,
          4,
          4.6,
          3.4,
          4.7,
          3.8,
          3.4,
          4.3,
          4.7,
          4.3,
          3.1,
          4.2,
          4.2,
          4.7,
          4.3,
          4.4,
          4,
          3.7,
          4.2,
          3.2,
          4.5,
          3.9,
          4.4,
          4.1,
          4.2,
          3.2,
          4,
          3.6,
          4.2,
          4.2,
          4.3,
          4.6,
          4.6,
          4,
          4.2,
          3.8,
          4.6,
          4.5,
          4.6,
          4.4,
          4.4,
          4.4,
          4.6,
          4.4,
          4.5,
          4.5,
          4.2,
          4.8,
          4.7,
          4.5,
          4.2,
          4.3,
          4.4,
          4.1,
          4,
          4.6,
          4.8,
          4.4,
          4.3,
          4.2,
          4.5,
          4.5,
          4.3,
          4.8,
          4.6,
          4.2,
          4.6,
          4.5,
          4.4,
          4.4,
          4.5,
          4.5,
          3.8,
          4.2,
          4.4,
          4.4,
          4.5,
          4.3,
          4.3,
          4.5,
          4.2,
          3.9,
          4,
          4,
          4.3,
          4.5,
          3.9,
          4.7,
          4.7,
          4.8,
          2.6,
          4.5,
          4.3,
          4.6,
          4.8,
          3.5,
          4.3,
          4,
          3.3,
          4,
          4.4,
          4.7,
          4,
          4.3,
          4.3,
          4.4,
          2.2,
          4.3,
          4.3,
          4.5,
          4.7,
          4,
          3.1,
          4.4,
          4.4,
          3.1,
          3.7,
          4,
          3.5,
          3.7,
          4.2,
          4.8,
          4.1,
          4.4,
          4.2,
          4,
          3.9,
          4.5,
          null,
          4.1,
          4,
          4.2,
          4.3,
          4.3,
          4.3,
          4,
          4,
          4,
          4.4,
          4.4,
          3.7,
          3.3,
          4.1,
          4.3,
          2.9,
          4.8,
          4.3,
          4.1,
          4.3,
          4.7,
          3.9,
          3.5,
          4.7,
          4.1,
          3.7,
          3.4,
          3.2,
          4.1,
          3.4,
          4,
          4.1,
          4.5,
          3.6,
          4.7,
          4,
          4.1,
          4.3,
          3.4,
          4.4,
          4.2,
          4.5,
          4.5,
          4,
          4.2,
          4.3,
          4.1,
          4.4,
          4,
          4.6,
          4.2,
          4,
          null,
          4.6,
          4.4,
          4.5,
          4.4,
          4.5,
          4.5,
          4.5,
          4.2,
          4.1,
          4.3,
          4.5,
          4.4,
          4.2,
          4.1,
          4.1,
          4.1,
          4.3,
          4.3,
          4.4,
          4.4,
          4.1,
          4.3,
          4.2,
          4,
          4.3,
          4.2,
          4.3,
          4.2,
          3.8,
          4.5,
          4.4,
          4.5,
          4.3,
          4.3,
          3.9,
          4.4,
          4.3,
          4.5,
          4.3,
          4.6,
          4.4,
          3.7,
          3.9,
          4.1,
          4.1,
          4,
          3.9,
          4.6,
          4.4,
          4.5,
          4.3,
          4.4,
          4.4,
          4.3,
          4.1,
          3.9,
          4.1,
          4.6,
          4.1,
          4.7,
          4.4,
          4.3,
          3.7,
          3.7,
          4.5,
          4.4,
          null,
          4.3,
          4.4,
          4.3,
          3.9,
          4.3,
          4.5,
          4.2,
          4.4,
          3.8,
          4,
          4.2,
          4.2,
          4.4,
          4.4,
          4.3,
          3.3,
          4.5,
          3.8,
          4.6,
          4.6,
          3.8,
          4.7,
          2.9,
          4.2,
          4.2,
          4.8,
          4.4,
          4.2,
          3.5,
          2.7,
          4.9,
          4.4,
          5,
          3.3,
          4.5,
          4.6,
          4.8,
          3.9,
          4.9,
          3.5,
          4.4,
          4.4,
          4.8,
          4.5,
          4.6,
          4.6,
          4.7,
          4.2,
          4.8,
          4.5,
          4,
          4.6,
          4.4,
          4.3,
          4.5,
          4.5,
          4.6,
          4.8,
          4.5,
          4.5,
          4.1,
          4.7,
          4,
          4.1,
          4.6,
          4.4,
          4,
          3.6,
          4.7,
          4.6,
          4.5,
          4.2,
          4.5,
          3.9,
          2.7,
          4.5,
          3.7,
          4.8,
          2.6,
          4.5,
          2.5,
          4,
          3.3,
          4.5,
          4.3,
          4.7,
          4.4,
          4.4,
          4.4,
          4.6,
          4,
          4.3,
          4.3,
          4.5,
          4.7,
          4.4,
          4.7,
          4.2,
          4.2,
          4.5,
          4.7,
          4.5,
          4.5,
          4.2,
          4.5,
          4.7,
          4.2,
          4.6,
          4.4,
          4.4,
          4.6,
          4.4,
          4.3,
          4.5,
          4.4,
          4.3,
          4.4,
          4.7,
          4.6,
          4.6,
          4.5,
          4.8,
          4.5,
          4.1,
          4.7,
          3.6,
          4,
          4.4,
          4.7,
          4.6,
          4.5,
          4.3,
          4.5,
          4.4,
          4.7,
          4.3,
          4.7,
          4.3,
          3.5,
          4.5,
          4.6,
          4.5,
          4.2,
          4,
          4.5,
          4.7,
          null,
          4.8,
          4.2,
          4.1,
          4.3,
          4.5,
          3.6,
          4,
          4.2,
          4,
          3.9,
          4,
          4.3,
          4.6,
          4.1,
          4.5,
          4,
          4.3,
          4.1,
          4.3,
          4.6,
          4.4,
          4.7,
          4.5,
          4.2,
          4.4,
          4.5,
          4.8,
          4.3,
          4.6,
          4.3,
          4.7,
          4.5,
          4.4,
          4.6,
          4.3,
          4.5,
          4.3,
          4.6,
          4.4,
          4.5,
          4.5,
          4.7,
          3.1,
          4.2,
          4.6,
          4.6,
          4.1,
          4.7,
          4.4,
          4.5,
          3.9,
          3.9,
          4.6,
          3.9,
          3.7,
          4.3,
          3.1,
          4.5,
          4,
          4,
          3.5,
          4.7,
          4.5,
          4.5,
          4.1,
          4.3,
          null,
          4.1,
          4.4,
          4.6,
          4,
          4.5,
          4.5,
          4.7,
          4.7,
          4.2,
          4.2,
          4.2,
          4,
          3.9,
          4.6,
          4.4,
          4.3,
          4.2,
          3.8,
          3.3,
          4.2,
          4,
          4.8,
          4.7,
          4.6,
          4.3,
          4.4,
          4.5,
          4.6,
          4.5,
          4.6,
          4.5,
          4.6,
          4.5,
          4.2,
          4.3,
          4.5,
          4.3,
          3.5,
          4.9,
          null,
          4.4,
          4.5,
          4.6,
          4.5,
          4.6,
          4.6,
          4,
          4.7,
          4.5,
          4.5,
          4.4,
          4.6,
          4.5,
          4.7,
          4.8,
          4.6,
          4.5,
          4.7,
          4.5,
          4.6,
          4.9,
          4.7,
          4.6,
          4.7,
          4.8,
          4.5,
          4.2,
          4.6,
          4.7,
          4,
          4.4,
          2.5,
          4.6,
          4.5,
          3.5,
          4.5,
          4.5,
          4.4,
          4.9,
          4.6,
          4.4,
          4.6,
          4.6,
          4.2,
          4.4,
          4.6,
          4.6,
          4.3,
          4.7,
          4.4,
          4.5,
          4.3,
          4.7,
          4.6,
          4.3,
          4.8,
          4.6,
          4.5,
          4.4,
          4.7,
          4.4,
          3.3,
          3.3,
          2.8,
          4.8,
          3.1,
          4.1,
          4.6,
          4.7,
          4.8,
          4.8,
          4.6,
          4,
          4.2,
          4.7,
          4.3,
          4.4,
          4.2,
          4.2,
          4.4,
          3.3,
          5,
          4.4,
          4.3,
          4.9,
          4.5,
          4.9,
          4.8,
          3.2,
          4.8,
          4.4,
          4.6,
          4.5,
          4.2,
          4.7,
          4.7,
          4.3,
          4.4,
          4.5,
          3.8,
          4.2,
          4.3,
          4.8,
          4.3,
          4.6,
          4.7,
          4.3,
          4.5,
          4.4,
          4.1,
          4.5,
          4.4,
          4.4,
          4.3,
          4.6,
          4.5,
          4.2,
          4.5,
          4.3,
          4.8,
          4.7,
          4.8,
          4.4,
          4.4,
          3.6,
          4.4,
          4.2,
          4.6,
          4.7,
          4.7,
          4.6,
          4.6,
          4.5,
          4.1,
          4.4,
          4.6,
          4.7,
          4.1,
          4.6,
          4.7,
          4,
          4.6,
          null,
          3.7,
          4.2,
          4.4,
          4.5,
          4,
          4.5,
          4.4,
          4.3,
          4.5,
          4.5,
          4.3,
          4.5,
          4.7,
          3.8,
          4.5,
          4.1,
          4.1,
          4.6,
          3.7,
          3.8,
          3.9,
          3.9,
          3.9,
          4.7,
          4.3,
          2.6,
          3.9,
          4.1,
          4.6,
          3.6,
          4.1,
          4.3,
          4.8,
          3.9,
          4,
          4.5,
          3.8,
          4,
          3.1,
          4.2,
          4,
          4.7,
          4.4,
          4,
          4.6,
          4.4,
          4.3,
          4,
          4.4,
          4.7,
          4.1,
          4,
          4.8,
          3.7,
          4.5,
          4.6,
          4.3,
          4.6,
          4.2,
          4.4,
          4.8,
          4.7,
          4.5,
          4.7,
          4.2,
          4.5,
          4.8,
          4.6,
          4,
          2.2,
          4.2,
          4.7,
          4.7,
          4.7,
          3.6,
          4.5,
          3.4,
          4.3,
          4.2,
          4.7,
          4.5,
          4.7,
          4.2,
          4.4,
          3.8,
          4.5,
          3.8,
          4.3,
          4.3,
          4.9,
          3.4,
          3.8,
          4,
          3.8,
          4.1,
          3.7,
          4.5,
          4,
          4.5,
          3.6,
          4.1,
          3.5,
          3.2,
          4.2,
          4.7,
          4.5,
          4.2,
          4.9,
          3.4,
          4.3,
          4.8,
          4.6,
          4.3,
          5,
          4.1,
          4.2,
          4,
          4,
          4.2,
          4.5,
          3.5,
          4,
          4.4,
          3.3,
          4.8,
          4.7,
          4.5,
          4.2,
          4.2,
          4.1,
          4.4,
          4.5,
          3.5,
          4.7,
          4.5,
          3.7,
          4.1,
          3.7,
          4.2,
          4.7,
          4,
          4.4,
          3.2,
          4.1,
          4.3,
          4.6,
          3.9,
          4.4,
          4.7,
          4.3,
          4.7,
          4.7,
          4.1,
          4.2,
          4.3,
          4.1,
          4.4,
          4,
          4.5,
          4.3,
          4.7,
          4.5,
          4.6,
          4.6,
          4.7,
          4.6,
          4.5,
          4.1,
          4.2,
          4.8,
          3.8,
          3.9,
          4,
          4,
          4.7,
          4.4,
          4.2,
          4.3,
          4.2,
          3.7,
          4.4,
          3.8,
          3.9,
          4.6,
          4.3,
          3.9,
          4.3,
          4.5,
          4.4,
          4.3,
          4.5,
          2.5,
          3.7,
          4.5,
          3.3,
          3,
          4.2,
          4.4,
          4.7,
          4.3,
          4.4,
          4.2,
          3.8,
          4.7,
          4.5,
          4.6,
          4.5,
          4.1,
          4.6,
          4.3,
          4.5,
          4.3,
          4.3,
          4.4,
          3.3,
          null,
          4.2,
          3.8,
          4.3,
          4.7,
          3.8,
          4.8,
          4.7,
          4.1,
          4.8,
          4.1,
          4.3,
          4.3,
          3.9,
          4.6,
          4.3,
          4.4,
          3.9,
          4.1,
          3.5,
          4.4,
          2.8,
          3.9,
          4.1,
          4.2,
          4.3,
          4.2,
          4.6,
          4.1,
          4.3,
          4.2,
          4.6,
          4.5,
          4.7,
          3.6,
          4.2,
          4.6,
          4.2,
          4.4,
          3.8,
          3.9,
          4.5,
          4.4,
          4.4,
          4.5,
          3.6,
          3.4,
          4.5,
          3.5,
          4.5,
          4.6,
          4.7,
          4.4,
          4.3,
          4.2,
          4.4,
          4.6,
          4.2,
          4.5,
          3.9,
          4.6,
          3.1,
          3.2,
          4.6,
          4.7,
          4,
          4.8,
          5,
          3.7,
          2.8,
          4.2,
          3.4,
          4.6,
          4.4,
          4.3,
          4.4,
          3.8,
          4,
          4.3,
          4.7,
          4.5,
          3.6,
          4.3,
          3.4,
          4.7,
          4.3,
          4.4,
          4.3,
          4.6,
          4.3,
          4.1,
          4.3,
          4.5,
          4.7,
          4.7,
          4.4,
          4.4,
          3.5,
          4.5,
          4.4,
          4,
          4.3,
          2.7,
          3.8,
          4.2,
          4,
          4.5,
          4.4,
          4.2,
          4.3,
          3.8,
          4.2,
          3.4,
          4.3,
          4.5,
          4.8,
          4.3,
          4,
          4.4,
          4.4,
          3.9,
          4.3,
          4,
          4.2,
          4.6,
          4.3,
          4.3,
          4.2,
          4.4,
          4.3,
          4.5,
          4.2,
          4.2,
          4.4,
          4.3,
          4.6,
          4.1,
          4.1,
          4.4,
          4.3,
          4.3,
          4.1,
          4.9,
          3.2,
          4.1,
          4.4,
          4,
          4.3,
          4,
          4.1,
          4.2,
          4.2,
          4.2,
          4.3,
          4.3,
          4.2,
          4.3,
          4.3,
          4.3,
          4.4,
          4.4,
          4.3,
          4,
          4.1,
          4.2,
          4.5,
          4.5,
          4.2,
          4.2,
          4.2,
          4.6,
          4,
          4.9,
          3.9,
          4,
          4.5,
          3.8,
          2.8,
          3.6,
          4.7,
          4.6,
          4.5,
          4.4,
          4.7,
          4.4,
          4.5,
          4.7,
          4.6,
          4.4,
          4.2,
          4.1,
          4.3,
          4.3,
          4.4,
          3.8,
          3.9,
          4.7,
          4.4,
          4.2,
          4.6,
          3.8,
          4.3,
          4.4,
          4.4,
          4.3,
          4.4,
          4,
          4.4,
          4.3,
          4,
          4,
          4.7,
          4,
          4,
          4.5,
          4,
          4.2,
          4,
          4.5,
          4.1,
          4.4,
          4.3,
          4.1,
          4.2,
          4,
          4,
          4.1,
          3.9,
          4.1,
          4.5,
          4.1,
          4.2,
          4.2,
          4.2,
          4.2,
          4.6,
          4.5,
          4.5,
          4.1,
          4.8,
          4.7,
          4.2,
          3.9,
          4.1,
          4.2,
          4.2,
          4.6,
          4.7,
          4.3,
          4.2,
          4.6,
          4.6,
          4.7,
          4.5,
          4.3,
          4.6,
          4.5,
          4.3,
          4.2,
          4.2,
          3.6,
          4.6,
          4.6,
          4.7,
          4.7,
          4.5,
          4.4,
          4.4,
          4.7,
          4.4,
          4.4,
          4.7,
          4.1,
          4.6,
          4.3,
          4.8,
          4.1,
          4.4,
          3.8,
          4.4,
          4.3,
          4.2,
          4.2,
          4.2,
          4.3,
          4.7,
          4.2,
          3.9,
          4.3,
          3.5,
          3.9,
          4.2,
          4.3,
          4.4,
          4,
          4.2,
          4.3,
          4.7,
          4.3,
          4.6,
          4.8,
          4.5,
          4.6,
          4.8,
          4.3,
          4.5,
          4.7,
          4.7,
          4.8,
          4.8,
          4.7,
          2.1,
          4.6,
          3.2,
          4.4,
          4.6,
          3.9,
          4.3,
          4.1,
          4.2,
          3.8,
          4.2,
          4.2,
          4.3,
          4.3,
          4.1,
          4.1,
          4.3,
          4.1,
          4.2,
          4,
          4.1,
          4,
          4.1,
          4.3,
          4.5,
          4.4,
          4.5,
          3.6,
          4.5,
          4.3,
          4.6,
          4.4,
          4.7,
          4.4,
          4.1,
          4.4,
          4.4,
          4.6,
          4.2,
          4.4,
          4.1,
          4.3,
          3.9,
          4.2,
          4.5,
          4.7,
          4.6,
          4.3,
          4.5,
          4.3,
          4.2,
          4.3,
          4,
          4.1,
          3.5,
          4.4,
          4.5,
          4.1,
          4.1,
          4.3,
          4.4,
          4.7,
          4.3,
          4.7,
          4.2,
          4.5,
          4.6,
          4.4,
          4.7,
          4.5,
          4.7,
          4.3,
          3.2,
          3.7,
          4.3,
          4.4,
          4,
          4.4,
          4.3,
          3.9,
          4.2,
          4.5,
          3.9,
          4.4,
          4.3,
          4.1,
          3.7,
          4.6,
          4,
          4.7,
          4.2,
          4.3,
          4.8,
          4.4,
          4.3,
          4.4,
          4.3,
          4.4,
          4.2,
          4.7,
          4.4,
          4.6,
          4.6,
          4.4,
          4.1,
          3.6,
          4.2,
          4.3,
          4.2,
          4.4,
          4.7,
          4.6,
          4.7,
          4.6,
          4.6,
          4.6,
          4.5,
          4.6,
          4.5,
          4.3,
          4.4,
          4.7,
          4.6,
          4.6,
          4.4,
          4.8,
          4.7,
          4.7,
          4.8,
          4.6,
          4.4,
          4.6,
          4.6,
          4.8,
          4.7,
          4.6,
          4.6,
          4.2,
          4,
          4.6,
          4.4,
          4.6,
          4.7,
          4.3,
          4.5,
          3,
          4.5,
          3.9,
          3.3,
          4.3,
          4,
          3.1,
          3.7,
          4.3,
          4.4,
          3.8,
          3.5,
          4.3,
          4.5,
          4.1,
          4.6,
          3.9,
          4.2,
          3,
          4,
          3.9,
          4.4,
          3.6,
          4.3,
          4.3,
          4,
          4.4,
          4.4,
          4.2,
          4.4,
          4.4,
          4.4,
          3.8,
          4.5,
          3.4,
          4.5,
          4.5,
          4.7,
          4,
          4.6,
          4.3,
          3.9,
          4.6,
          4,
          3.9,
          4,
          3.5,
          4.2,
          4,
          4.7,
          4.6,
          4.3,
          4,
          4.3,
          4.5,
          4.3,
          3.8,
          4.7,
          4.9,
          4.8,
          4.2,
          3.9,
          4,
          4.4,
          4.6,
          3.4,
          4.6,
          2.7,
          3.6,
          4.4,
          null,
          4.9,
          4,
          4.5,
          4.9,
          4.8,
          4.7,
          4.1,
          4.6,
          4.4,
          4.4,
          4.2,
          4.5,
          4.5,
          4.7,
          4.7,
          4.8,
          4.4,
          4.5,
          4.5,
          4.9,
          4.7,
          4.3,
          4.3,
          4.9,
          4.4,
          4.5,
          4.7,
          4.2,
          4.2,
          3.8,
          4.2,
          4.5,
          2.1,
          4,
          4.5,
          3.8,
          4.3,
          4.5,
          4.3,
          4.6,
          4.3,
          4.5,
          4.2,
          4.4,
          4.2,
          4.4,
          4.2,
          4,
          4.2,
          4.3,
          4.4,
          4.2,
          4.8,
          4.3,
          4.5,
          4.6,
          4.3,
          3.9,
          4.2,
          4.3,
          4.5,
          4.3,
          3.1,
          4.9,
          4.3,
          4.6,
          4.1,
          4.6,
          3.8,
          4.6,
          3,
          3.5,
          4.7,
          4.7,
          4.6,
          4.7,
          4.8,
          3.5,
          4.9,
          4.9,
          4.2,
          4.1,
          4.6,
          3.5,
          4.1,
          4.2,
          4.9,
          4.6,
          4.4,
          4.1,
          4.3,
          4.7,
          4.4,
          4.5,
          4.4,
          4.4,
          4.3,
          4,
          4.5,
          4.1,
          4.5,
          4.3,
          4.2,
          4.3,
          4.5,
          4.4,
          4.2,
          4.5,
          4.6,
          4.3,
          4.4,
          4.5,
          4.3,
          4.9,
          4.2,
          4.2,
          4.7,
          4.2,
          4.9,
          3.9,
          4.3,
          4.5,
          4.3,
          4.5,
          4.5,
          2.1,
          4.4,
          4.5,
          4.5,
          4.4,
          2.7,
          4.7,
          4.2,
          3.9,
          4.2,
          3.6,
          4.4,
          4.8,
          4.6,
          4.8,
          4.5,
          4.8,
          4.7,
          4.5,
          4.5,
          4.4,
          4.1,
          4.5,
          4.1,
          3.9,
          3.3,
          4.2,
          2.9,
          4.9,
          4.8,
          3.8,
          3.9,
          4.4,
          4.3,
          4.6,
          4.3,
          3.9,
          3.6,
          2.3,
          3.9,
          4.7,
          4.3,
          4.6,
          4.5,
          3.9,
          4.2,
          4.3,
          4.4,
          3.9,
          4.3,
          4.1,
          4.5,
          4.8,
          4.7,
          2.7,
          4.7,
          4.9,
          4.6,
          4.5,
          4.6,
          3.2,
          4.1,
          3.6,
          4.6,
          4.3,
          4.5,
          3.6,
          4.2,
          4.4,
          4.7,
          3,
          3.9,
          4,
          4.2,
          4.2,
          4,
          4.3,
          3.8,
          4.4,
          4.1,
          4.1,
          4.1,
          4.1,
          3.4,
          4.3,
          3.8,
          4.3,
          4,
          3.3,
          3.7,
          4.2,
          4.1,
          3.5,
          4.2,
          4.7,
          4.1,
          4.1,
          4.1,
          4.5,
          4.4,
          3.8,
          4.4,
          4.7,
          4.1,
          4,
          4.6,
          4.7,
          4.3,
          4.2,
          4.6,
          4.1,
          4.5,
          4.1,
          4,
          2,
          4,
          3.4,
          4.3,
          4.1,
          4.5,
          3.4,
          2.8,
          3.4,
          4,
          4.7,
          4.2,
          3.8,
          3.6,
          4.1,
          4.4,
          4.6,
          4.7,
          3.9,
          3,
          4.7,
          3.7,
          4.7,
          3.8,
          4.5,
          3.9,
          4.4,
          4.1,
          3.5,
          4.5,
          4.1,
          4.2,
          4.2,
          4.4,
          3.9,
          4.2,
          4,
          4.2,
          4.2,
          4.3,
          4.6,
          4.1,
          3.7,
          3.8,
          4.6,
          3.8,
          4.4,
          3.6,
          4.1,
          2,
          3.2,
          3.5,
          4.3,
          4.1,
          2.1,
          3.9,
          4,
          3.6,
          4.2,
          4,
          4.2,
          4.2,
          4.3,
          4.4,
          4.6,
          4.2,
          2.5,
          4.2,
          3.8,
          4.5,
          4.5,
          3.2,
          3.6,
          4.4,
          4.4,
          4.5,
          4.3,
          4.7,
          4.8,
          2.9,
          4.3,
          3.9,
          4.6,
          4.6,
          4.7,
          4.6,
          3.7,
          4,
          4.3,
          3.2,
          4.8,
          3.9,
          3.4,
          4.5,
          4.2,
          4.7,
          4.3,
          4.2,
          4.8,
          4,
          4.5,
          4.7,
          4.3,
          4.5,
          4.8,
          4.6,
          4.5,
          4.4,
          4.5,
          4.7,
          4.4,
          3.5,
          3.5,
          4,
          4.8,
          4.2,
          4.7,
          4.6,
          4.6,
          4.3,
          4,
          4.6,
          4.6,
          3.7,
          3.6,
          3.7,
          4.3,
          4.7,
          3.1,
          4.1,
          4.7,
          4.8,
          4.4,
          4,
          4,
          4.2,
          4.2,
          4.5,
          3.1,
          4.2,
          4.5,
          3.4,
          4.3,
          4.5,
          4.2,
          4.6,
          4.2,
          4.3,
          4.2,
          4.2,
          4.3,
          3.9,
          4.7,
          3.3,
          3.2,
          4.8,
          3.8,
          4.5,
          4.2,
          4.2,
          4.7,
          4.1,
          3.2,
          4.6,
          4.2,
          4,
          4.7,
          3.6,
          4.6,
          4.4,
          4.1,
          4.5,
          3.8,
          4.3,
          4.5,
          3.9,
          4.2,
          4.5,
          4,
          4.6,
          3.8,
          4.3,
          4.2,
          4.5,
          4.6,
          4.3,
          4.1,
          3.5,
          4.7,
          4.5,
          4.3,
          4.5,
          4.7,
          4.4,
          3.2,
          3.2,
          4.2,
          4.5,
          4.2,
          3.6,
          4.2,
          4.5,
          4.4,
          4.7,
          4.6,
          4.1,
          3.6,
          4.7,
          4.1,
          4.3,
          2.4,
          4.1,
          3.3,
          3.9,
          4.4,
          4.8,
          4.1,
          2.6,
          2.3,
          4.6,
          4.6,
          4.8,
          4.8,
          3.9,
          4.5,
          4,
          4.5,
          4.4,
          4.4,
          4.2,
          4.6,
          4.3,
          3.3,
          3.1,
          4.8,
          4.5,
          3.3,
          4.8,
          4.6,
          4.3,
          4.5,
          3.4,
          4.7,
          4.6,
          4.6,
          4.6,
          4.8,
          4.4,
          4.6,
          4.4,
          4.6,
          4.7,
          4.4,
          4.5,
          4.8,
          4.2,
          4.4,
          4.4,
          4.4,
          4.3,
          4.6,
          4.5,
          4.4,
          4.4,
          4.5,
          4.2,
          4.4,
          2.7,
          4.5,
          4.4,
          4.3,
          4,
          4.9,
          4.4,
          4.2,
          2.6,
          4.2,
          4.5,
          4.7,
          4.6,
          3.9,
          4.4,
          4.5,
          4.7,
          3.9,
          3.8,
          3.9,
          4.7,
          4.5,
          4.7,
          4.1,
          4.5,
          4.3,
          4.3,
          4.2,
          3.1,
          4.2,
          4.4,
          4.3,
          4.5,
          4,
          4.4,
          4.3,
          4.9,
          4.7,
          3.5,
          4.4,
          4.6,
          3.5,
          3.3,
          4.3,
          4.2,
          3.4,
          4.2,
          4.5,
          4.4,
          3.6,
          4.3,
          3.7,
          4.2,
          4.3,
          4,
          4.6,
          4.4,
          4.2,
          4.5,
          4.4,
          3.1,
          4.2,
          4.6,
          4.5,
          4.5,
          4.3,
          4.3,
          4,
          4.1,
          4.1,
          4.1,
          4.7,
          4.1,
          4.5,
          4.5,
          4.5,
          4.1,
          4.8,
          4,
          4.5,
          3,
          4.2,
          4.3,
          4.3,
          4.4,
          null,
          4.5,
          4.4,
          4.2,
          4.2,
          3.7,
          4.3,
          4.1,
          4.3,
          4,
          4.3,
          3.9,
          4.3,
          4.1,
          4.1,
          4.2,
          4.4,
          4.7,
          4.6,
          4.7,
          4.2,
          4.3,
          3.4,
          4.2,
          3.5,
          3.1,
          4.2,
          4.3,
          4,
          3.8,
          4.3,
          4.3,
          4.1,
          4.2,
          4.5,
          4.2,
          4.4,
          4,
          4.8,
          2.9,
          4.3,
          4.2,
          4.1,
          3.9,
          4,
          4.4,
          3.9,
          3.9,
          3.6,
          4.1,
          3.5,
          4.3,
          4.6,
          4.7,
          4.7,
          4.1,
          4.6,
          4,
          4.5,
          4.1,
          4.2,
          4.4,
          4.3,
          4.2,
          3.6,
          4.3,
          4.4,
          4.6,
          4.7,
          4.3,
          3.9,
          3.7,
          3.7,
          3.9,
          3.9,
          4.4,
          4.3,
          2.6,
          3,
          4.5,
          3.8,
          3.8,
          4.4,
          3.8,
          4.4,
          4.3,
          4.1,
          4.3,
          4.2,
          4,
          4.6,
          4.6,
          4.4,
          3.4,
          4,
          3.4,
          4.3,
          3.8,
          4.6,
          4.3,
          4.3,
          4.4,
          4.4,
          2.6,
          4.5,
          3.9,
          4,
          3.7,
          4.4,
          4.1,
          3.8,
          4.2,
          4.1,
          4.2,
          4.2,
          3.3,
          4.5,
          4.5,
          3.6,
          4.5,
          null,
          4.6,
          4.5,
          4.4,
          3.7,
          4.8,
          4.7,
          3.8,
          4.6,
          4,
          2.5,
          4.4,
          4.1,
          4.5,
          4.6,
          4,
          3.8,
          4.1,
          4.1,
          4.2,
          4.1,
          3.2,
          4.3,
          4.3,
          4.6,
          3.8,
          4.2,
          3.9,
          4.1,
          4.1,
          4.2,
          4.3,
          4.4,
          3.5,
          4.3,
          4.3,
          4.2,
          4.1,
          4.3,
          4,
          4.4,
          4.2,
          4.1,
          4.2,
          4,
          4.3,
          4.2,
          4.1,
          3.9,
          3.6,
          4.3,
          4.1,
          4,
          4.3,
          4.1,
          4,
          3.9,
          4.1,
          4.2,
          3.8,
          4.6,
          4.2,
          3.9,
          4.1,
          4,
          3.7,
          4.3,
          4.2,
          4.3,
          4.2,
          4.5,
          3.7,
          4.6,
          3.7,
          3.9,
          3.5,
          4.2,
          1.7,
          3.6,
          4.4,
          4.4,
          4.6,
          4.3,
          4.6,
          4.4,
          4.4,
          4.4,
          4.6,
          4.3,
          3,
          4.5,
          4,
          3.9,
          3.8,
          3.9,
          4.1,
          4.5,
          3.6,
          4.4,
          4.2,
          4.4,
          4.6,
          4.4,
          4.4,
          4.7,
          4.8,
          2.5,
          3.6,
          4.5,
          4.8,
          3,
          4.1,
          3.9,
          4.6,
          4.5,
          4.9,
          3.4,
          4.3,
          4.4,
          3.5,
          4.4,
          3.2,
          4.4,
          4.5,
          4.4,
          2.7,
          3.2,
          4.5,
          3.2,
          4.2,
          null,
          4.2,
          3.5,
          2.5,
          3.9,
          3.8,
          2.8,
          3.3,
          4.5,
          3.8,
          4.4,
          3.2,
          4.2,
          3.6,
          3.8,
          2.3,
          4.4,
          4.4,
          4.6,
          4.9,
          4.5,
          4.6,
          4.6,
          4,
          4,
          4.2,
          4.7,
          4.4,
          3.1,
          2.6,
          3.7,
          4.1,
          4.7,
          3.3,
          4.6,
          3.8,
          3.6,
          3.9,
          4.6,
          2.9,
          4.7,
          3.9,
          3.5,
          3,
          4.8,
          4.3,
          2.5,
          4.1,
          4.3,
          4.6,
          4.4,
          4.8,
          3.7,
          4.3,
          4.7,
          4.6,
          3.7,
          3.9,
          4.9,
          4.5,
          4.4,
          4.4,
          4.7,
          4.4,
          4.4,
          4.1,
          4.4,
          4.7,
          4.5,
          3.4,
          4.3,
          4.4,
          3.7,
          4.2,
          4.1,
          4.2,
          3.9,
          4.1,
          4.1,
          4,
          4.7,
          4,
          4,
          4.6,
          4.1,
          4.2,
          4.2,
          4.3,
          4.4,
          3.2,
          3.3,
          4.6,
          2.8,
          3.1,
          4.2,
          3.3,
          4.7,
          4.3,
          4.2,
          3.8,
          4.2,
          4.3,
          4.1,
          4.3,
          3.7,
          3.9,
          4,
          3.5,
          4,
          4.2,
          4.2,
          3.8,
          4.8,
          4.5,
          4.2,
          4.8,
          3.7,
          4.2,
          3.2,
          4.3,
          4.4,
          3.8,
          4.7,
          4.4,
          4.3,
          4.3,
          4.7,
          4.5,
          4.1,
          4.3,
          4.5,
          4.4,
          4.4,
          4.2,
          4.7,
          4.2,
          4.5,
          4.4,
          4.3,
          4.4,
          4.3,
          4.5,
          4.4,
          4.4,
          4.4,
          4.4,
          4.6,
          4.4,
          4.3,
          4.5,
          4.2,
          3.9,
          4.3,
          4.5,
          4,
          4.4,
          4.5,
          4.3,
          4.5,
          4,
          4.6,
          4.6,
          3.6,
          4,
          4.3,
          4.4,
          3.9,
          4.3,
          4.5,
          4.7,
          3.8,
          3.1,
          3.6,
          4.1,
          4.4,
          4.3,
          3.7,
          4.6,
          4.6,
          4.3,
          4,
          2.5,
          4.1,
          3.9,
          3.9,
          4.4,
          3.3,
          3.9,
          4.1,
          4.3,
          4.4,
          4.4,
          4.7,
          3.6,
          4.4,
          4.4,
          4.1,
          4.5,
          4.5,
          4.2,
          4,
          4.1,
          3.8,
          4.6,
          4.4,
          4.3,
          4.4,
          4,
          4.5,
          4.3,
          4.1,
          4.5,
          4.4,
          4.6,
          4.3,
          4.6,
          4,
          4,
          4.1,
          4.5,
          3.7,
          4,
          4.4,
          3.2,
          4.5,
          4,
          4.7,
          4.3,
          4.5,
          4,
          4.4,
          4.5,
          3.5,
          4.5,
          4.5,
          4.5,
          4.2,
          4.3,
          4.5,
          4.6,
          3.9,
          4.2,
          4.4,
          4.7,
          4.3,
          4.1,
          4.2,
          4.4,
          4.8,
          4.9,
          4.6,
          4.2,
          4.6,
          3.8,
          4.9,
          4.8,
          4.7,
          4.7,
          4.8,
          4.8,
          4.4,
          4.9,
          4.7,
          4.9,
          4.9,
          4.7,
          4.4,
          3.9,
          4.8,
          4.6,
          4.8,
          4.8,
          4.8,
          4.9,
          4.8,
          4.3,
          4.8,
          2.3,
          4.2,
          4.4,
          4,
          4.7,
          2.7,
          4,
          4.4,
          3.9,
          3.7,
          3,
          3,
          3.5,
          4.9,
          4.4,
          3.5,
          2.4,
          3.5,
          2.3,
          4.3,
          4,
          3.3,
          4.1,
          3.4,
          3.8,
          3.6,
          2.2,
          3.8,
          2.5,
          4.1,
          3.5,
          4.6,
          2.1,
          4,
          4.5,
          4,
          4.1,
          3.5,
          4.1,
          4.2,
          3.3,
          3.1,
          4.3,
          3,
          4.8,
          3.8,
          4.4,
          3.6,
          4.8,
          4.2,
          4.1,
          4.7,
          4.1,
          4.7,
          4.5,
          3.7,
          4.3,
          3.8,
          4,
          4.6,
          3.2,
          4.3,
          4.1,
          4.2,
          3.7,
          4.2,
          4.5,
          4.1,
          4.7,
          3.7,
          1.5,
          4.5,
          4.2,
          4,
          4.6,
          3.8,
          3.9,
          4.2,
          4.4,
          3.6,
          4.3,
          4.4,
          4.5,
          3.7,
          4.6,
          2.9,
          4,
          4.5,
          3.2,
          4.5,
          4.2,
          3.3,
          3.5,
          5,
          4.5,
          2.5,
          2.7,
          3.5,
          4.2,
          4.2,
          3.8,
          4.5,
          4.1,
          4,
          4.5,
          4.3,
          4.6,
          4.2,
          4.4,
          3.8,
          3.8,
          4.6,
          4.3,
          4.4,
          4.2,
          4.4,
          4.3,
          3.3,
          3.8,
          3.8,
          3.9,
          3.9,
          4.3,
          3,
          4.4,
          3.6,
          4.1,
          4.2,
          3.8,
          4.1,
          3.9,
          null,
          4.1,
          3,
          3.3,
          4.2,
          4.6,
          4.3,
          4.1,
          3.7,
          4.4,
          4,
          4.6,
          4.2,
          2.8,
          4.8,
          null,
          4.4,
          4.1,
          4.3,
          4.3,
          4.6,
          3.8,
          4,
          3.8,
          4.2,
          4.4,
          4.1,
          4.2,
          4.4,
          4.6,
          4.4,
          4.6,
          4.4,
          4.8,
          4.2,
          4.2,
          4.6,
          4.7,
          4.7,
          4.7,
          4.7,
          4,
          4.7,
          3.8,
          4.3,
          4.6,
          4.4,
          4.6,
          4.4,
          4.5,
          4.2,
          4.1,
          3.9,
          4.6,
          3.7,
          4.6,
          4.5,
          3.2,
          4.1,
          3.9,
          4.2,
          4.2,
          4.7,
          4,
          4.3,
          4.6,
          4.6,
          4.7,
          4.6,
          4.6,
          4.3,
          4.6,
          4.6,
          4.6,
          4.5,
          4.6,
          4.8,
          4.7,
          3.9,
          4.4,
          4.6,
          4.1,
          4.8,
          3.3,
          4,
          4.3,
          4.9,
          4.2,
          4.5,
          4.5,
          4.6,
          4.7,
          4.5,
          4.3,
          2.9,
          4.1,
          4.4,
          4.3,
          4.8,
          4.2,
          3.6,
          4.4,
          4.1,
          4.3,
          4.3,
          4.3,
          4.7,
          4.6,
          4.3,
          4.8,
          4.9,
          4.8,
          4.5,
          4.8,
          4.2,
          4.3,
          4.7,
          4,
          4.7,
          4.1,
          4.2,
          4.6,
          4.4,
          4.2,
          4.6,
          4.6,
          4.4,
          4.2,
          4.1,
          4.3,
          3.8,
          4.1,
          4.4,
          4.5,
          4.5,
          4.5,
          4.8,
          4,
          4.1,
          4.1,
          4.5,
          3.8,
          3.7,
          4.4,
          4.8,
          3.5,
          3.8,
          4.6,
          4,
          4.4,
          3.6,
          4.3,
          4.2,
          4.2,
          4.5,
          4.5,
          4.5,
          4.4,
          4.7,
          3.9,
          4.7,
          3.7,
          4.5,
          3.7,
          4.5,
          4.7,
          4.5,
          4.7,
          4.8,
          4.1,
          4.6,
          4.4,
          4.5,
          4.4,
          4.7,
          4.8,
          4.2,
          4.5,
          3.7,
          4.2,
          4.6,
          4.4,
          4.3,
          4.6,
          4.4,
          4.3,
          4.6,
          4.5,
          4.7,
          4.5,
          4,
          4.2,
          3.8,
          4.4,
          4.3,
          4.4,
          3.3,
          3.1,
          4.7,
          3.9,
          2.5,
          3.8,
          3.9,
          4.3,
          null,
          4.4,
          3.9,
          4,
          null,
          4,
          4,
          4.1,
          4.2,
          4.2,
          4.4,
          3.3,
          null,
          4.7,
          4,
          4.6,
          3.7,
          3.9,
          4.6,
          4.5,
          null,
          4.3,
          4,
          3.8,
          4.7,
          3.9,
          4.2,
          4,
          3.3,
          4.7,
          4.2,
          4,
          3.9,
          2.8,
          4.6,
          4.5,
          3.9,
          3,
          2.4,
          2.9,
          4.3,
          4.7,
          4.8,
          4.6,
          4.1,
          4.6,
          4.5,
          4.1,
          4.5,
          4.7,
          4.5,
          3.9,
          3.8,
          4.4,
          4.1,
          3.4,
          4.3,
          3.3,
          4.2,
          3.7,
          4.5,
          4.8,
          4.5,
          4.6,
          4.4,
          4,
          4.6,
          4.6,
          4.8,
          4.6,
          4.6,
          4.6,
          4.6,
          4.7,
          4,
          4.9,
          4.3,
          4.5,
          4,
          3.5,
          4.5,
          4.2,
          3.7,
          4.3,
          4.7,
          4.5,
          4.6,
          4.4,
          4.2,
          4.4,
          4.1,
          4.2,
          4.8,
          4,
          2.1,
          3.4,
          3.3,
          4.5,
          4.3,
          4.6,
          4.1,
          null,
          4.6,
          4.7,
          4.3,
          4.4,
          4.6,
          4.2,
          4.5,
          4.2,
          4.4,
          4.7,
          4.1,
          4.3,
          4.5,
          4.7,
          4.7,
          4.4,
          4.2,
          4.2,
          4.1,
          4.4,
          4.7,
          4.4,
          4.3,
          4.7,
          3.8,
          4.5,
          4.4,
          4.6,
          4.5,
          4.3,
          4.3,
          3.7,
          4.4,
          4.6,
          4.5,
          4.4,
          4.5,
          4.4,
          4.4,
          4.6,
          4.3,
          4.8,
          4.2,
          3.8,
          4,
          4.3,
          4.7,
          4.2,
          4.5,
          4.8,
          4,
          4.7,
          4.8,
          4.6,
          4.3,
          4.7,
          4.6,
          4.4,
          4.8,
          3.5,
          4.8,
          4.6,
          4.7,
          4.6,
          4.8,
          4.8,
          4.9,
          4.6,
          4.2,
          4.8,
          4.4,
          4.6,
          4.2,
          4.8,
          4.5,
          4.1,
          4.6,
          4.5,
          4.8,
          4.4,
          4.2,
          4.4,
          4.7,
          4.5,
          4.7,
          4.4,
          4.7,
          4.8,
          null,
          4.8,
          4.6,
          4.1,
          4.4,
          4,
          4.8,
          4.6,
          4.3,
          4.6,
          4.2,
          4.9,
          3.9,
          4.8,
          4.3,
          4.5,
          4.3,
          3.2,
          3.9,
          4.8,
          3.7,
          4.5,
          4,
          4.5,
          4.6,
          4.6,
          3.9,
          4.7,
          4.7,
          4.6,
          4.7,
          4.6,
          4.2,
          3.4,
          4.6,
          4.3,
          4.3,
          4.5,
          4.8,
          3.8,
          3.8,
          4.7,
          null,
          4.9,
          null,
          4.1,
          4.8,
          null,
          null,
          null,
          null,
          3.7,
          3.7,
          4.7,
          4.5,
          3.6,
          4.7,
          4.7,
          3.9,
          4.1,
          4.8,
          4.2,
          4.4,
          4,
          4.6,
          4.2,
          4.2,
          4.6,
          4.2,
          4.5,
          4.1,
          4.4,
          4.3,
          4.6,
          4.3,
          4.4,
          3.6,
          4.5,
          4.6,
          4.3,
          4.2,
          4,
          3.2,
          3.2,
          4.2,
          4.6,
          3.5,
          4.4,
          4.9,
          null,
          null,
          4.4,
          4.5,
          3.5,
          3.9,
          4.1,
          4.7,
          3.3,
          4.6,
          4.6,
          4.6,
          4.3,
          4.5,
          4.2,
          4.1,
          2.3,
          4.3,
          4.4,
          4.5,
          4.8,
          4.2,
          3.2,
          4.6,
          4.1,
          4.9,
          4.8,
          4.7,
          2.4,
          4.5,
          4.6,
          2.3,
          4.6,
          4.8,
          4.7,
          3.7,
          4.3,
          4.6,
          4.5,
          4.3,
          3.4,
          4.1,
          4.7,
          4.5,
          3.8,
          4.4,
          4.5,
          2.9,
          4.7,
          4.7,
          3.5,
          4.5,
          4.2,
          3.9,
          3.9,
          4.6,
          4.6,
          4.2,
          4.8,
          4.1,
          4.4,
          4.3,
          4.6,
          4.7,
          4.6,
          4.3,
          3.8,
          3.2,
          4.5,
          4.2,
          4.2,
          4.4,
          4.3,
          4.2,
          4.3,
          4.6,
          4.7,
          4.5,
          3.6,
          4.7,
          4.2,
          4.6,
          4.7,
          3.6,
          4.3,
          null,
          null,
          3.6,
          4.6,
          3.4,
          4.5,
          4.5,
          4.8,
          4.3,
          4.3,
          4.3,
          4.5,
          4.5,
          4.3,
          4.7,
          3.9,
          4.3,
          4,
          4.3,
          3.7,
          4,
          3.4,
          3.8,
          4,
          4.3,
          3.1,
          4,
          4.4,
          4.4,
          4.3,
          4.9,
          3.9,
          4.2,
          4.5,
          4.3,
          4.1,
          4.6,
          4.5,
          3.8,
          4.6,
          3.7,
          null,
          4.2,
          null,
          4.2,
          3.6,
          null,
          null,
          4.9,
          4,
          4.2,
          null,
          4.1,
          5,
          null,
          null,
          4.3,
          4.2,
          3.8,
          null,
          4.6,
          null,
          null,
          null,
          null,
          null,
          null,
          5,
          4.8,
          3.9,
          4,
          4.1,
          4.3,
          4.6,
          2.9,
          4.3,
          4.7,
          4.3,
          4.6,
          4.3,
          4.2,
          4.7,
          4.6,
          4.4,
          4.4,
          4,
          4,
          4,
          4.2,
          4.2,
          3.6,
          4.2,
          4.5,
          4.3,
          4.4,
          4.3,
          3.9,
          4.2,
          4.5,
          4.5,
          4.8,
          4.5,
          4.6,
          3.6,
          4.8,
          4.4,
          4.8,
          4.4,
          4.6,
          4.4,
          4.1,
          4.5,
          4,
          4.8,
          4.7,
          4,
          4.5,
          4.3,
          4.1,
          4.6,
          4.7,
          4.4,
          4.8,
          4.6,
          4.4,
          4.3,
          4.4,
          4.5,
          4.5,
          4,
          4.9,
          4.4,
          3.8,
          4.3,
          4.3,
          4,
          3.7,
          4.6,
          4.2,
          4.3,
          4.1,
          4.1,
          4.5,
          4.7,
          4.4,
          4.3,
          4.5,
          4.3,
          4.8,
          4.4,
          4.6,
          4.5,
          4.6,
          4.8,
          4.4,
          4.2,
          4.5,
          4.4,
          4.4,
          4.3,
          4.5,
          4.9,
          4.5,
          4.8,
          4.4,
          4.5,
          4.2,
          3,
          4.5,
          4.3,
          2.9,
          4.4,
          4.5,
          4.7,
          4.5,
          3.9,
          4.1,
          4.7,
          4.3,
          4.2,
          4.5,
          4.6,
          4.5,
          4.6,
          4.5,
          4.8,
          4.4,
          4.8,
          4.5,
          4.2,
          4.6,
          3.9,
          4,
          4.2,
          4.4,
          4.4,
          4.3,
          3.5,
          3.8,
          4.4,
          4.4,
          3.1,
          2.7,
          1.8,
          4.2,
          3.5,
          4.4,
          4.8,
          2.7,
          4.4,
          4.2,
          4.2,
          3.4,
          4.4,
          4,
          4.4,
          4.2,
          4.3,
          4.2,
          4.9,
          4.2,
          4.5,
          3.6,
          4.5,
          4.2,
          4.8,
          4,
          4.1,
          4.6,
          3.7,
          4.7,
          3.8,
          3.7,
          4.5,
          4.4,
          4.4,
          4.5,
          4.1,
          4.2,
          4.7,
          4.5,
          4.3,
          2.9,
          4.6,
          4.6,
          4.7,
          4.7,
          4.2,
          4.8,
          4.6,
          4.6,
          4.3,
          4.7,
          4.5,
          4.3,
          4.7,
          4.4,
          4.6,
          4.6,
          4.8,
          4,
          4.5,
          4.7,
          4.6,
          4.6,
          4.4,
          5,
          4.4,
          4.8,
          4.4,
          2.7,
          4,
          4.3,
          4.4,
          3.5,
          4.5,
          4.6,
          3.4,
          4.6,
          4.6,
          4.4,
          4.8,
          4.8,
          3.7,
          4.4,
          4.3,
          4.6,
          4.4,
          4.7,
          4.5,
          4.2,
          4.3,
          4,
          4.2,
          4,
          2.7,
          4.5,
          3.9,
          4.4,
          4.6,
          2.7,
          4.6,
          4.4,
          4.2,
          4.6,
          4.1,
          4.5,
          4,
          4.4,
          4.4,
          4.5,
          4.2,
          4.2,
          4.2,
          4.7,
          4.4,
          4.7,
          4.4,
          4.4,
          3.4,
          3.7,
          4.3,
          4.1,
          3.8,
          4.3,
          3.9,
          3.6,
          4.2,
          3.2,
          4.7,
          4.2,
          4.1,
          4.2,
          4.2,
          4.1,
          4.1,
          4.4,
          4.1,
          4,
          4.2,
          4,
          4.1,
          4.1,
          4.3,
          4.2,
          4.5,
          4.2,
          4.4,
          4.3,
          4.4,
          4.3,
          4.3,
          4.5,
          3.9,
          3.7,
          4.2,
          4.6,
          4.3,
          4.2,
          4.7,
          4.7,
          4.4,
          4.6,
          4.6,
          3.9,
          4.6,
          4,
          4.1,
          3.8,
          4.2,
          4,
          3.9,
          4.2,
          4.3,
          3.9,
          4.1,
          4.1,
          4.4,
          4.2,
          4.4,
          4.1,
          4.1,
          3.8,
          4.4,
          4.7,
          4.8,
          4.7,
          4.7,
          4.4,
          4.3,
          4.5,
          4.3,
          4.5,
          4.7,
          4.3,
          4.6,
          4.4,
          4,
          3.8,
          4,
          3.9,
          4.4,
          4.4,
          4.1,
          4.5,
          4.5,
          4.3,
          4.1,
          4.3,
          4.4,
          4.3,
          4.6,
          4.2,
          4.7,
          4.6,
          4.4,
          4.5,
          4.5,
          4.4,
          4.3,
          4.3,
          4.3,
          4.3,
          4.4,
          4.2,
          4.5,
          4.6,
          4.4,
          4.3,
          4.4,
          4.6,
          4.4,
          4,
          3.4,
          4.4,
          4.2,
          4.4,
          4.4,
          4.2,
          4,
          4.2,
          4,
          4.5,
          4.3,
          4.2,
          4.1,
          4.2,
          4.4,
          4,
          4.4,
          4.6,
          4,
          4.2,
          4.1,
          4.4,
          4.3,
          3.5,
          4.3,
          3.8,
          4.3,
          4.3,
          3.9,
          4.5,
          4.2,
          4.3,
          4.5,
          4.4,
          4.3,
          4.3,
          4.4,
          4.6,
          4.4,
          4.4,
          4.2,
          4.7,
          4.2,
          4.3,
          4.4,
          4,
          4.4,
          4,
          3.9,
          4.5,
          4.2,
          4.2,
          4.5,
          3.8,
          4.2,
          4.4,
          4.4,
          4.4,
          3.8,
          4.8,
          4.1,
          null,
          3.9,
          4.2,
          4.6,
          4.1,
          4.3,
          4.2,
          4.2,
          4.4,
          4.3,
          4.3,
          4.2,
          4.2,
          4.2,
          4.3,
          4.4,
          4.1,
          4.3,
          4.3,
          4.5,
          4.6,
          4.3,
          4.3,
          4.6,
          4.4,
          4.6,
          4.3,
          4.4,
          4.6,
          4.6,
          4.1,
          4.9,
          4,
          4.3,
          3.9,
          3.7,
          4.6,
          4,
          4.1,
          4.2,
          4.1,
          3.9,
          4.5,
          4,
          4.4,
          4.5,
          3.8,
          4,
          4.2,
          4.2,
          4.2,
          3.9,
          4,
          4.3,
          4.5,
          4.6,
          4.3,
          4.5,
          4.1,
          4.3,
          4.2,
          4.4,
          3.6,
          4.6,
          4.2,
          3.7,
          4.7,
          4.6,
          4.3,
          4.5,
          3.1,
          4.3,
          4.4,
          4.1,
          4.5,
          4.2,
          4.4,
          4.3,
          4.4,
          4.2,
          4.2,
          4.2,
          2.3,
          2.9,
          3.2,
          2.9,
          3.8,
          2.9,
          4,
          4.4,
          4.1,
          3.9,
          4.3,
          4.4,
          4.6,
          3.9,
          3.8,
          4.2,
          4.4,
          3.5,
          4.2,
          4.2,
          3.8,
          4.2,
          3.8,
          3.9,
          4.2,
          4.4,
          4.1,
          4.6,
          4.6,
          4.4,
          4.6,
          4.6,
          4.4,
          4.6,
          4.4,
          4.5,
          3.7,
          3.9,
          3.1,
          4.6,
          4.3,
          4.4,
          3.5,
          4.5,
          4.3,
          4.2,
          4.2,
          4.4,
          4.2,
          4.1,
          4.4,
          4.3,
          4,
          4.2,
          4.1,
          4.6,
          4.3,
          4.7,
          4.6,
          4.5,
          3.9,
          3.9,
          4.4,
          4.5,
          4.3,
          3.8,
          3.9,
          4.4,
          4.4,
          4.2,
          4.4,
          3.9,
          4.5,
          4.3,
          4.1,
          4.3,
          4.2,
          4.5,
          4.4,
          4.5,
          4.5,
          3.2,
          4.1,
          3.9,
          3.5,
          3.8,
          4.4,
          3.5,
          3.9,
          4.1,
          4.6,
          4.2,
          3.2,
          3.8,
          4.4,
          2.7,
          4.1,
          3.6,
          4.5,
          4.2,
          4,
          4.2,
          4.3,
          4.5,
          4.4,
          3.9,
          3.3,
          4.5,
          4.2,
          2.9,
          3.7,
          4.4,
          2.9,
          4.5,
          4.4,
          3.6,
          4.6,
          3.8,
          4.5,
          4.7,
          4.7,
          4.3,
          4.6,
          4.4,
          4.4,
          4.6,
          4.2,
          4.5,
          3.9,
          3.9,
          4.7,
          4.4,
          4.7,
          4.7,
          4.4,
          4.6,
          4.6,
          3.3,
          4.5,
          4.5,
          4.7,
          4.6,
          4.4,
          4.1,
          4.2,
          4.7,
          4.5,
          4.6,
          4.8,
          4.1,
          4.8,
          4.8,
          4.3,
          4.5,
          4.8,
          4.5,
          4.6,
          4.4,
          4.6,
          4.6,
          4.4,
          4.6,
          4.2,
          4.5,
          4.8,
          4.7,
          4.9,
          4.5,
          4,
          4.6,
          4.6,
          4.4,
          4.3,
          4.3,
          4.4,
          4,
          4.2,
          4.3,
          3.9,
          4,
          4.6,
          4.1,
          4.6,
          4.5,
          4.4,
          4.3,
          4.3,
          4.5,
          3.8,
          4.4,
          4.6,
          4.3,
          4.4,
          4.2,
          4.6,
          4.4,
          4.5,
          3.7,
          4.8,
          4.6,
          4,
          4.5,
          4.5,
          4.5,
          4.7,
          4.3,
          4.7,
          4.2,
          4.6,
          4.7,
          4.7,
          4.6,
          4.3,
          4.3,
          4.4,
          4.8,
          4.5,
          4.5,
          4.2,
          3.9,
          4.6,
          4.4,
          4.4,
          4.6,
          4.6,
          3.9,
          4.5,
          4.4,
          4.2,
          4.4,
          null,
          4.5,
          4.5,
          4.3,
          4.3,
          4.2,
          4,
          4.2,
          4.3,
          4.5,
          3.5,
          4.2,
          4.2,
          4.4,
          4.4,
          4.6,
          4.4,
          4,
          3.6,
          4.8,
          4.5,
          4.7,
          4.6,
          4.6,
          4.4,
          4.6,
          4.1,
          1.7,
          4.1,
          2.5,
          4.3,
          2.3,
          4.7,
          4.5,
          4.4,
          4.4,
          4.4,
          2.9,
          4.1,
          4.3,
          4.7,
          4.1,
          4.6,
          3.8,
          4.2,
          2.3,
          4.7,
          null,
          3.9,
          4.3,
          3.9,
          4.5,
          4.4,
          4.3,
          4.6,
          3.9,
          3.5,
          3.9,
          4.5,
          4.1,
          4.5,
          4.5,
          4.6,
          4.5,
          4.7,
          4.4,
          3.8,
          4.5,
          3.2,
          4.1,
          4.6,
          4.6,
          4.4,
          4.7,
          4.4,
          4.4,
          4.5,
          4.3,
          3.7,
          4.1,
          4.4,
          4.6,
          4.9,
          3.8,
          4.8,
          4.4,
          3.5,
          4.2,
          3.9,
          3.7,
          4.2,
          3.5,
          4.5,
          4,
          4.1,
          4.2,
          4.4,
          4.9,
          1.9,
          4.5,
          4.3,
          4.7,
          4.5,
          4.4,
          4.3,
          3,
          4.2,
          4,
          4.6,
          3.6,
          4.3,
          4.4,
          3,
          4.1,
          4.2,
          4.2,
          4.5,
          4.6,
          4.5,
          3.9,
          4.2,
          4.4,
          4.6,
          4.5,
          4.2,
          4.4,
          4.5,
          4.3,
          4.5,
          4.7,
          4,
          2.5,
          4.4,
          4.2,
          4.3,
          3.6,
          3.9,
          null,
          4.2,
          3.6,
          4.6,
          3.3,
          4.3,
          4,
          4.2,
          2.9,
          4.4,
          4.1,
          4.6,
          4.6,
          4.5,
          4.6,
          4.2,
          4.4,
          3.9,
          4.6,
          4.4,
          3.2,
          4.5,
          4.3,
          4.7,
          4.4,
          4.6,
          4.3,
          4.6,
          4.2,
          4.3,
          4.7,
          4.6,
          3.4,
          4.6,
          4.5,
          4.3,
          4.1,
          3,
          3.6,
          4.4,
          4.9,
          4.4,
          4.7,
          4.7,
          4,
          4.7,
          4.2,
          4.1,
          4.2,
          4.4,
          4.7,
          4.5,
          4.4,
          4.2,
          4.5,
          4.3,
          4.5,
          4.4,
          4.2,
          4.3,
          4.6,
          4.2,
          4.1,
          4.1,
          4,
          4.1,
          4.3,
          4.4,
          4.5,
          4.4,
          4.2,
          4.6,
          4.4,
          4.5,
          4.2,
          4.1,
          3.7,
          4.1,
          4.2,
          4,
          4.4,
          4.3,
          4.3,
          4.5,
          4.5,
          4.7,
          4.4,
          3.9,
          4.5,
          4,
          4.6,
          4.1,
          4.4,
          4.5,
          4.4,
          4.1,
          4.5,
          4.4,
          4.6,
          4.7,
          4.5,
          4.3,
          4.4,
          3.7,
          4.5,
          4.5,
          4.7,
          4.5,
          3.9,
          4,
          4.8,
          4.5,
          4.3,
          4.4,
          4.5,
          4.8,
          4.7,
          4.5,
          4.8,
          4.5,
          4.6,
          4.6,
          4.7,
          4.5,
          4.6,
          4.4,
          4.4,
          4.3,
          4.3,
          4.7,
          4.2,
          4.6,
          4.6,
          4.7,
          4.5,
          4.7,
          4.5,
          4.5,
          4.6,
          4.6,
          4.5,
          4.1,
          4.5,
          4.2,
          4.5,
          4.5,
          4.3,
          4.6,
          3.5,
          4.5,
          4.5,
          3.5,
          4.1,
          3.6,
          3.7,
          4.3,
          4.6,
          4.2,
          4.5,
          4.7,
          4.1,
          4.2,
          4.6,
          4.5,
          4.9,
          4.2,
          4.8,
          4.4,
          4.1,
          3.4,
          4.1,
          4.3,
          3.9,
          4.2,
          4.4,
          4.6,
          4.2,
          4.3,
          4.6,
          3.6,
          4.5,
          4.5,
          3.8,
          4.4,
          4.4,
          4.4,
          4.3,
          4.2,
          4.5,
          4,
          4.5,
          4.4,
          4.6,
          4.8,
          4.1,
          4.5,
          null,
          4.2,
          null,
          4.5,
          4.3,
          4.5,
          4.4,
          4.7,
          4,
          4.6,
          4.5,
          4.5,
          4.3,
          4.5,
          4.2,
          4.5,
          4.5,
          4.5,
          4.5,
          4.8,
          4.5,
          4.2,
          4.3,
          4.3,
          4.4,
          4.5,
          4.5,
          4.4,
          4,
          4.2,
          4,
          4.6,
          4.5,
          4.3,
          4.3,
          4.6,
          4.6,
          4.7,
          4.2,
          4.3,
          4.6,
          4.2,
          4.5,
          4.7,
          4.4,
          4.5,
          3.6,
          4,
          3,
          4.2,
          4.4,
          4.2,
          4.3,
          4.3,
          4.6,
          4.4,
          4.6,
          4.3,
          4.3,
          4.3,
          4.3,
          4.8,
          4.3,
          4.4,
          4.2,
          4.2,
          4.4,
          4.8,
          4.4,
          4.2,
          4.2,
          4.4,
          3.3,
          3.3,
          4.6,
          4,
          4.9,
          4.4,
          4.1,
          4.3,
          4.7,
          4.3,
          4.3,
          4.2,
          4.2,
          3.7,
          4.7,
          4.4,
          2.5,
          3.9,
          3.6,
          4.3,
          4.3,
          3.7,
          null,
          4,
          4.6,
          4,
          4.7,
          4.4,
          4.5,
          3.6,
          4.8,
          4.6,
          4.5,
          4.1,
          3.8,
          4.8,
          4.7,
          4.2,
          3.8,
          3.8,
          4.2,
          4.3,
          4.8,
          4.6,
          4.5,
          4.3,
          4.2,
          3.3,
          4,
          4.2,
          2.9,
          4.5,
          4.3,
          4.1,
          4.3,
          4.4,
          3.4,
          4.3,
          4.3,
          3.6,
          4.4,
          3.3,
          4.2,
          3.9,
          4.5,
          3.2,
          4.4,
          4.4,
          4.4,
          3,
          4.2,
          3.4,
          4.5,
          3.4,
          4.5,
          4.5,
          4.3,
          4,
          4.6,
          4.3,
          4.4,
          4,
          4.3,
          4.2,
          3.9,
          4.5,
          4,
          3.8,
          3.8,
          4.5,
          3.8,
          4.2,
          3.8,
          4.3,
          4.3,
          4.5,
          4.1,
          3.6,
          4.4,
          4.5,
          4.2,
          4.1,
          null,
          4.5,
          4.3,
          4,
          4.2,
          3.6,
          4.5,
          4.1,
          4.3,
          2.9,
          3.6,
          4.4,
          4.6,
          4.3,
          3.8,
          4.6,
          3.4,
          3,
          4,
          3.5,
          2.8,
          4.2,
          4.4,
          4,
          4.2,
          3.2,
          4.5,
          4.4,
          4,
          4.1,
          3.8,
          2.7,
          2.5,
          4,
          3.8,
          4.4,
          3.7,
          4,
          4,
          3.5,
          4.2,
          3.4,
          3.6,
          4.7,
          4.4,
          4.3,
          4.4,
          4.2,
          4.5,
          4.3,
          4.1,
          4.4,
          3.4,
          3.5,
          4,
          4.6,
          4.5,
          3.9,
          4.2,
          4.4,
          4.1,
          4.2,
          4.6,
          4,
          4,
          4.2,
          3.4,
          4.4,
          4.3,
          2.9,
          2.6,
          4.1,
          3.5,
          4.6,
          4.8,
          4.4,
          4.3,
          4.5,
          4.3,
          4.5,
          4.4,
          4.4,
          4.4,
          4.1,
          3.9,
          4.7,
          4.7,
          4.3,
          4.4,
          4.5,
          4.3,
          4.4,
          4.3,
          3.4,
          4.5,
          3.8,
          4.1,
          4.3,
          3.7,
          4.7,
          4,
          4.2,
          4.5,
          4,
          4.5,
          4.3,
          4.4,
          4.6,
          4.4,
          4.2,
          4.4,
          4,
          3.6,
          4.5,
          4,
          4.7,
          4.1,
          3.6,
          4.6,
          4.6,
          4.3,
          2.7,
          4.4,
          4.4,
          4.6,
          4.3,
          4.5,
          4.6,
          4.2,
          4.6,
          4.5,
          4.7,
          3.8,
          4.4,
          4.3,
          4.1,
          4.5,
          4,
          4.3,
          4.6,
          4.2,
          4.2,
          4.6,
          4.5,
          4,
          4.4,
          4.4,
          4.1,
          4.5,
          4.1,
          3.8,
          4.1,
          4.1,
          4.3,
          4.3,
          4.5,
          4,
          4.4,
          4.4,
          4.3,
          3.9,
          4.4,
          3.8,
          4.3,
          4.2,
          4.4,
          4.5,
          3.9,
          4,
          4.1,
          3.5,
          4.4,
          4.4,
          4.5,
          3.9,
          4.2,
          4.4,
          4.6,
          4.4,
          4.1,
          4.5,
          4.6,
          4.1,
          4.6,
          4.2,
          4.4,
          4.6,
          4.1,
          4.1,
          4.6,
          4.6,
          4.6,
          4.6,
          4.5,
          4.5,
          3.3,
          4.5,
          4.4,
          4.3,
          4.8,
          2.9,
          4.6,
          4.3,
          2.8,
          4.2,
          4.5,
          4.5,
          4.2,
          4.5,
          3.8,
          4.1,
          4.2,
          4.7,
          4.2,
          4.4,
          4.4,
          4.5,
          4.4,
          4.5,
          4.3,
          4.5,
          4.5,
          4.5,
          4.4,
          4.7,
          4.4,
          4.5,
          4.5,
          4.2,
          4.2,
          4.3,
          4.3,
          4.5,
          4.4,
          4.5,
          4.3,
          4.4,
          4.6,
          4.5,
          4,
          4.7,
          4.7,
          4.4,
          4.4,
          4.6,
          4.5,
          4.6,
          4.3,
          4.6,
          4.2,
          4.6,
          4.2,
          4.4,
          4.4,
          2.7,
          4.5,
          4.3,
          4.6,
          4.5,
          4.7,
          4.3,
          4.3,
          4.1,
          4.3,
          4.3,
          4.5,
          4.7,
          4.7,
          3.6,
          4.5,
          4.3,
          4.5,
          4.4,
          4.2,
          4.3,
          4.6,
          4.4,
          4.3,
          4.8,
          4.3,
          4.2,
          4.4,
          4.2,
          4.3,
          4.6,
          4.6,
          4.4,
          4.5,
          4.4,
          4.6,
          4.6,
          4.5,
          4.2,
          3.8,
          3.8,
          4.5,
          4.5,
          4.7,
          4.7,
          4.3,
          4,
          4.1,
          4.2,
          4.5,
          4,
          4.5,
          4.3,
          4.4,
          4.4,
          4.1,
          4.4,
          4.6,
          4.4,
          4.3,
          4.5,
          4.2,
          4.4,
          4.3,
          4.5,
          3.7,
          3.4,
          4.4,
          4.8,
          4.5,
          4.4,
          4,
          4.3,
          4.7,
          3.5,
          4.1,
          4.1,
          4.2,
          4.3,
          4.6,
          4.1,
          4.4,
          4.3,
          4.4,
          3.8,
          4.6,
          4.3,
          4.6,
          4.1,
          4.3,
          4.5,
          4.5,
          4.4,
          4.4,
          4.5,
          4.4,
          4.6,
          4.4,
          4.5,
          4.6,
          4.5,
          4.7,
          4.7,
          4.6,
          4.7,
          4.6,
          4.3,
          4.6,
          4.3,
          4.6,
          4.7,
          4.4,
          4.5,
          4.3,
          4.5,
          4.4,
          4.8,
          4.6,
          4.5,
          4.5,
          4.5,
          4.2,
          4.7,
          4.4,
          4.5,
          3.8,
          4.2,
          2.2,
          4.6,
          4.7,
          4.6,
          4.1,
          4.4,
          4.6,
          4.3,
          3.5,
          3.9,
          4.2,
          3,
          4.7,
          4,
          4.3,
          4.6,
          4.6,
          4.5,
          4,
          3.8,
          3.4,
          4.6,
          4.6,
          4,
          4,
          3.2,
          4.6,
          4.3,
          4.4,
          1.9,
          4,
          4.3,
          4.4,
          4.3,
          3.8,
          4.5,
          4.5,
          4.3,
          4.4,
          3.8,
          4.1,
          3.2,
          3.7,
          4.3,
          4.1,
          4.3,
          3.1,
          4.1,
          4.3,
          4.2,
          4,
          2.6,
          4.3,
          4.1,
          4.2,
          4.2,
          4.4,
          4.4,
          3.9,
          4.2,
          4.7,
          4.4,
          4.3,
          4.2,
          3.6,
          4.1,
          4.5,
          3.9,
          2.9,
          4.3,
          4.1,
          3.9,
          3.7,
          4.7,
          4.3,
          4.1,
          3.7,
          3.8,
          4.5,
          4.3,
          3.8,
          4.4,
          4.3,
          3.6,
          3.8,
          4.8,
          4.1,
          3.2,
          4.3,
          2.7,
          4.5,
          4.2,
          4.3,
          3.9,
          2.9,
          4.6,
          4.4,
          4,
          4.8,
          4.2,
          3.5,
          4.4,
          4.7,
          3.9,
          4.8,
          2.9,
          4.5,
          4.7,
          4.4,
          4.8,
          3.5,
          4.9,
          3.9,
          4,
          3.4,
          3.5,
          4.3,
          4.7,
          3.3,
          4.5,
          3.8,
          4,
          4.3,
          4.5,
          4.8,
          4.4,
          4.6,
          3.8,
          4.1,
          4.7,
          4.1,
          4.4,
          4.2,
          4.9,
          4.4,
          3.5,
          2.8,
          4.7,
          4.2,
          4.5,
          4.7,
          4.1,
          4.7,
          4.2,
          3.7,
          2.8,
          4.3,
          4.2,
          3.9,
          4.4,
          3.7,
          4.6,
          4.4,
          4.3,
          3.1,
          4.4,
          4.6,
          4.7,
          4.6,
          4.8,
          4.5,
          4.7,
          4.7,
          4.1,
          4.3,
          4.6,
          4.8,
          3.6,
          4.5,
          4.7,
          4.6,
          4.5,
          4.4,
          4,
          4.4,
          4.5,
          3.5,
          4.6,
          2.7,
          3.7,
          4.5,
          2.8,
          4.4,
          2.3,
          4.5,
          4.2,
          3.3,
          3.9,
          3.6,
          4.5,
          3.6,
          3.8,
          4.5,
          4.4,
          4.6,
          3.8,
          4.6,
          4.4,
          4.2,
          4.1,
          3.8,
          2.9,
          3.7,
          4.5,
          3.3,
          4.2,
          3,
          2.6,
          3.8,
          4.2,
          3.7,
          2.1,
          4.7,
          4.3,
          4,
          4.9,
          3.3,
          3.6,
          3.7,
          4.4,
          4.5,
          4.4,
          4,
          4.2,
          4.1,
          4.4,
          3.6,
          3.6,
          4.3,
          3.7,
          4.1,
          4.5,
          4,
          3.4,
          4.2,
          3,
          3.2,
          4,
          3.9,
          3.5,
          3.7,
          4.4,
          4.4,
          3.9,
          3.9,
          2.6,
          4.4,
          4.3,
          4.8,
          4.5,
          4.5,
          4.8,
          4.5,
          4.3,
          4,
          4.5,
          4.5,
          4.2,
          4.5,
          3.9,
          4.2,
          4.2,
          3.2,
          4.4,
          4.2,
          3.3,
          3.3,
          3.9,
          3.7,
          4.1,
          4.2,
          3.9,
          3.8,
          3.3,
          3.9,
          4.4,
          3.4,
          4.2,
          3.5,
          4,
          4.8,
          3.9,
          3.4,
          4,
          3.7,
          4.4,
          4.2,
          4.2,
          4.1,
          4,
          3.7,
          4.6,
          4.5,
          3.1,
          4.6,
          4.1,
          4.2,
          4.2,
          4.1,
          4.5,
          4.5,
          4.1,
          4.3,
          4.4,
          4.3,
          4,
          4.6,
          4.4,
          4.7,
          4.5,
          4.6,
          4.1,
          4.6,
          4.6,
          4.3,
          3.9,
          3.3,
          3.7,
          4.2,
          2.6,
          3.8,
          3.4,
          3.6,
          3.3,
          2.9,
          1.9,
          3.1,
          4.5,
          3.4,
          4.6,
          3.2,
          3.3,
          3.5,
          3.6,
          3.8,
          3.4,
          3.5,
          4.2,
          3.9,
          4.6,
          3.2,
          3.5,
          4.7,
          4.3,
          4.7,
          4.3,
          3.5,
          3.5,
          3.1,
          3.7,
          3.6,
          4.4,
          3.3,
          4.3,
          4.3,
          4.5,
          2.7,
          4.3,
          4.3,
          3.5,
          3.9,
          4.3,
          4.2,
          4.5,
          4.5,
          3.7,
          4.2,
          3.5,
          2.4,
          4,
          3.3,
          3.6,
          4.2,
          4.2,
          4.9,
          4.3,
          4,
          2.8,
          4.3,
          null,
          4.4,
          4.3,
          3.7,
          4.2,
          4.5,
          4.6,
          4.4,
          4.5,
          4,
          3.1,
          4.6,
          4.3,
          4.6,
          4,
          4.6,
          4.8,
          4.5,
          3.2,
          4.2,
          3.3,
          4.1,
          3.7,
          3.7,
          4.3,
          3.4,
          4.7,
          4.3,
          3,
          4.2,
          4.5,
          4.7,
          4.5,
          4.6,
          3.4,
          4,
          3.5,
          4.3,
          4.6,
          3.5,
          4.4,
          4.6,
          4.5,
          4,
          3.9,
          4.1,
          4.7,
          4.2,
          3.6,
          3.2,
          2.5,
          4.4,
          4.4,
          4.3,
          2.6,
          4.4,
          3.9,
          4.4,
          2.8,
          4.3,
          4.6,
          4.7,
          4.3,
          4.4,
          4.2,
          4.8,
          4,
          4.4,
          4.1,
          4.6,
          4.3,
          3.8,
          4.2,
          4.6,
          4.4,
          4.5,
          4,
          4.3,
          4.7,
          3.3,
          4,
          3.8,
          4.8,
          4.7,
          4.2,
          4.5,
          3.3,
          3.8,
          4.5,
          4.4,
          3.7,
          4.1,
          4.4,
          3.8,
          4.5,
          4,
          4.4,
          4.3,
          4.1,
          4.4,
          3.9,
          4.1,
          4.4,
          4.4,
          4.1,
          4.4,
          3.9,
          4.5,
          4.4,
          3.5,
          4.4,
          4.1,
          4.4,
          4.4,
          4.1,
          4.4,
          4.3,
          4.1,
          4.4,
          4.1,
          4,
          4.3,
          4.3,
          4.2,
          4.2,
          4.1,
          4.2,
          3.9,
          4.3,
          3,
          4.2,
          4,
          4.3,
          4.3,
          4.2,
          3.8,
          4.5,
          4.3,
          4.3,
          4.6,
          4.3,
          3.9,
          3.4,
          3.3,
          4.5,
          3.8,
          4.3,
          4.2,
          2.9,
          4.5,
          4.5,
          4.6,
          4.5,
          4.3,
          4.2,
          4.4,
          4.2,
          4.5,
          4.4,
          3.9,
          4.3,
          4.3,
          4.3,
          4.4,
          4.4,
          4.3,
          4.5,
          4.4,
          4.3,
          4.8,
          4.1,
          4.5,
          4.7,
          4.6,
          4.4,
          4.5,
          4.4,
          4.2,
          4.2,
          4.4,
          4.5,
          4.4,
          3.5,
          3.8,
          4.7,
          4.7,
          4.8,
          4.2,
          4.2,
          4.7,
          4.4,
          3.9,
          4.2,
          4.5,
          4.5,
          4.3,
          4.4,
          4.4,
          4.5,
          3.9,
          4.5,
          4.3,
          1.8,
          3.5,
          4.7,
          2.6,
          2.2,
          3.7,
          4.6,
          3.8,
          2.2,
          4.7,
          4.2,
          4.8,
          3.1,
          3.5,
          4.4,
          null,
          4,
          3.8,
          3.9,
          4.3,
          4.6,
          4.4,
          3.9,
          4.8,
          4.5,
          4.6,
          4.2,
          4.3,
          3.2,
          4.3,
          4.4,
          4.5,
          4.2,
          4.6,
          4.5,
          4.4,
          4.2,
          4.7,
          4.7,
          3.8,
          4,
          3.7,
          4.2,
          3.8,
          3.4,
          4.5,
          4.3,
          3.4,
          4.2,
          4.2,
          3.9,
          4.6,
          4.5,
          4.3,
          4.2,
          4.8,
          4,
          4.6,
          1.9,
          4.3,
          3.6,
          3.7,
          4.2,
          3.9,
          3.3,
          3.7,
          4.3,
          4,
          3.3,
          3,
          3.9,
          3.2,
          4.7,
          3.8,
          4.5,
          3.1,
          3.9,
          4.5,
          4.2,
          4,
          3.8,
          4.1,
          4.2,
          4.7,
          4,
          4.5,
          3.3,
          4.2,
          2.6,
          4.1,
          3.8,
          4.1,
          3.7,
          3.1,
          3.4,
          4.3,
          4.1,
          4.1,
          3.6,
          3.9,
          4.4,
          3.6,
          4.6,
          4,
          4.5,
          4.2,
          2.3,
          4.1,
          4.4,
          4,
          3.2,
          3.6,
          4.3,
          4.3,
          3.7,
          4.1,
          3.4,
          4.3,
          4.5,
          4.3,
          3.7,
          4.3,
          4.4,
          3.8,
          4.5,
          4.2,
          2.7,
          4.4,
          4,
          3.3,
          4.2,
          4.2,
          4.6,
          4.2,
          3.2,
          4,
          4.3,
          3.5,
          4.5,
          4.3,
          4.1,
          4.6,
          4,
          4.3,
          4,
          4.2,
          4.3,
          4,
          4.6,
          3.9,
          3.6,
          4.1,
          3.6,
          4,
          4.2,
          4.7,
          3.7,
          3.8,
          4.5,
          3.6,
          2.7,
          3.9,
          3.9,
          3.9,
          4.5,
          4.4,
          4.3,
          4.4,
          4.3,
          4.4,
          4.4,
          3.8,
          4.8,
          4.4,
          3.9,
          4,
          3.6,
          4.4,
          4.1,
          4.5,
          4.3,
          4.6,
          4.4,
          4.3,
          4.3,
          4.5,
          4.2,
          4.3,
          3.9,
          3.7,
          4.7,
          4.5,
          3.1,
          4.6,
          4.4,
          2.9,
          3.4,
          4,
          1.9,
          4.5,
          4.4,
          4.2,
          4.6,
          3.9,
          4.6,
          4.5,
          4.1,
          4.4,
          4.1,
          4.2,
          4.1,
          4.2,
          4,
          3.5,
          4.1,
          3.4,
          4.2,
          2.8,
          3.4,
          4,
          4.5,
          3.7,
          4.6,
          2.5,
          4.3,
          3.2,
          3.8,
          4.5,
          4.2,
          4.7,
          4.3,
          4,
          4.3,
          4.2,
          2.6,
          2.4,
          3.2,
          3.6,
          3.2,
          4,
          4.3,
          4.2,
          4.2,
          4.6,
          4.8,
          4.4,
          2.9,
          3.5,
          3.9,
          4.5,
          4.6,
          4.4,
          4.2,
          2.5,
          2.8,
          3.9,
          4.1,
          4.4,
          4.3,
          4.5,
          2.6,
          3.7,
          4.1,
          4.4,
          3.9,
          4.5,
          3.7,
          4.2,
          4.3,
          4.5,
          4.3,
          4.1,
          4.7,
          3.9,
          4.2,
          3.9,
          4.1,
          3.9,
          4.5,
          4.3,
          4,
          4.6,
          3.4,
          4.2,
          4.2,
          4.3,
          3.9,
          4.1,
          4.3,
          3.4,
          4.1,
          4.4,
          3.6,
          1.6,
          4.4,
          3.4,
          4.4,
          4.6,
          4.7,
          4.3,
          4,
          3.8,
          4,
          3.6,
          4.5,
          3,
          4.5,
          4.3,
          4.5,
          4.7,
          4,
          4.2,
          4.6,
          3.4,
          4.2,
          4.7,
          4.4,
          4.5,
          4,
          4.8,
          4.4,
          4.4,
          4.3,
          3.8,
          4.6,
          4.1,
          4.3,
          4.2,
          3.8,
          2,
          4.8,
          4.5,
          2.9,
          4,
          4.5,
          4.5,
          4.7,
          4.8,
          4.8,
          4.4,
          4.6,
          2.1,
          4.7,
          4.4,
          3.6,
          4.5,
          4.5,
          4.7,
          4,
          4.4,
          3.6,
          4,
          3.3,
          4.3,
          3.5,
          4.8,
          4.2,
          4.7,
          4.1,
          4,
          4.1,
          4.3,
          4.3,
          4.2,
          4.3,
          4.2,
          3.7,
          3.6,
          4.7,
          3.7,
          4.8,
          3.8,
          4.1,
          4.6,
          4,
          4.2,
          4.5,
          3.9,
          4.3,
          3.5,
          4.4,
          1.9,
          4.4,
          4.4,
          4.2,
          4.3,
          4,
          4.3,
          4.4,
          4.3,
          4.4,
          4.6,
          4.5,
          4.2,
          4.6,
          4.1,
          4.6,
          4.6,
          3.2,
          4.5,
          4,
          3.9,
          4.3,
          4.6,
          4.5,
          4.1,
          3.9,
          4.3,
          5,
          3.9,
          3.9,
          4.4,
          3.4,
          4.3,
          3.4,
          4.4,
          4.3,
          4.3,
          3.8,
          4.2,
          4,
          4.1,
          4.4,
          3.4,
          4.4,
          4.4,
          4.5,
          4.5,
          3.3,
          3.8,
          4.2,
          4.5,
          4.4,
          4.5,
          3.8,
          4.4,
          3.4,
          4.6,
          4.4,
          3,
          4.3,
          4.2,
          4.6,
          4.7,
          4.4,
          4.5,
          4.6,
          4.3,
          4.6,
          4.4,
          4.4,
          4.6,
          4.5,
          4.7,
          4.2,
          4.2,
          4.3,
          4.5,
          4.5,
          4.6,
          4.1,
          3.9,
          4.3,
          3.3,
          4.4,
          3.6,
          4.3,
          4.4,
          4.4,
          4.6,
          4.5,
          4.7,
          4.4,
          3.8,
          4.2,
          3.7,
          4.1,
          4.6,
          4.4,
          4.3,
          4.7,
          4.5,
          4.5,
          3.6,
          4.2,
          4.2,
          4.6,
          4.3,
          4.3,
          4.1,
          4.6,
          null,
          4.8,
          4.7,
          4.2,
          4.1,
          4,
          4.2,
          4.4,
          4.8,
          4.4,
          3.9,
          4.7,
          4.2,
          4.5,
          4.7,
          4.5,
          4.6,
          4.3,
          4.5,
          4.1,
          3.5,
          4.3,
          4.5,
          4.3,
          4.2,
          4.5,
          4.3,
          3.9,
          3.3,
          4.1,
          4.6,
          4.3,
          4.1,
          4.7,
          4.3,
          4.1,
          4,
          4.5,
          4.6,
          4.6,
          4.6,
          4.6,
          4.7,
          4.7,
          3.8,
          3.7,
          2.9,
          4.6,
          4.3,
          4.8,
          3,
          3.9,
          4.7,
          3.9,
          3.3,
          3.3,
          4.2,
          2.2,
          4.5,
          4.6,
          3.6,
          4.1,
          3.6,
          4.5,
          3.9,
          4.5,
          4.1,
          4.4,
          4.5,
          4.4,
          4.4,
          4.4,
          4.1,
          4.4,
          4.1,
          3.5,
          4.5,
          4.2,
          4.2,
          4,
          4.3,
          4.4,
          4.1,
          4.6,
          4.1,
          4.1,
          4.3,
          4,
          4.4,
          4.2,
          4.3,
          4.1,
          4.3,
          4.3,
          4.3,
          4.4,
          4.4,
          4.4,
          4.2,
          4.1,
          4.5,
          4.3,
          4.2,
          3.8,
          4,
          4.3,
          4.4,
          4.2,
          4.7,
          4.3,
          4.4,
          4.2,
          4.6,
          4,
          4.4,
          4.2,
          4.5,
          4.2,
          4.6,
          4.5,
          4.1,
          4.5,
          4.6,
          3.6,
          4.7,
          4.4,
          4.5,
          4.4,
          3.6,
          4.1,
          4.6,
          4.4,
          4.7,
          4.2,
          4.8,
          4.4,
          4.4,
          4,
          4.7,
          4.9,
          4.4,
          4.7,
          4.5,
          4.6,
          4.6,
          3.1,
          4.3,
          3.4,
          4.4,
          4,
          2.7,
          4.2,
          4.4,
          3.4,
          4.4,
          4.7,
          4.5,
          4.3,
          4.5,
          4.2,
          4.5,
          4.7,
          4.5,
          4,
          4.5,
          4.1,
          4,
          4.3,
          2.8,
          4.6,
          4.7,
          4.5,
          4.5,
          4.5,
          4.5,
          4.1,
          4.4,
          4.3,
          4.5,
          4.3,
          4.6,
          4,
          4.8,
          4.4,
          3.9,
          4.7,
          3.9,
          4.5,
          4.5,
          3.7,
          2.5,
          4.3,
          4.2,
          4.1,
          4.1,
          4.2,
          4.3,
          4.7,
          4.7,
          4.6,
          4.4,
          4.5,
          4.5,
          4.5,
          4.5,
          4.4,
          4.4,
          4.3,
          4.7,
          4.7,
          4.3,
          4.5,
          4.6,
          4.5,
          4.3,
          4.6,
          2.8,
          4,
          4,
          3,
          4.5,
          4.4,
          3.6,
          4.3,
          3.1,
          3.8,
          4.2,
          4.2,
          4.6,
          4.2,
          3.7,
          4.7,
          4.2,
          4.7,
          3.8,
          4.3,
          4.6,
          3.9,
          4.3,
          4.2,
          4.2,
          4.1,
          4.4,
          4.5,
          4.6,
          4.3,
          4.1,
          4.3,
          4.5,
          4.6,
          4,
          4.4,
          4.8,
          4.5,
          4.6,
          4.7,
          4.6,
          3.8,
          4.7,
          3.6,
          4,
          4.2,
          3.6,
          4.5,
          3.2,
          4.4,
          2.4,
          3.7,
          4.2,
          4.3,
          4.4,
          3.1,
          3.8,
          4.3,
          4.3,
          4.4,
          4,
          4.2,
          4.5,
          3.2,
          4.3,
          4.2,
          4.6,
          4.4,
          3.8,
          4.2,
          4.1,
          3.1,
          4.5,
          3.9,
          3.4,
          3.9,
          4.3,
          4.1,
          4.4,
          4.4,
          3.7,
          4.1,
          4.4,
          3.2,
          4.6,
          4.6,
          4.5,
          4.6,
          4.5,
          4.1,
          4.2,
          3.7,
          4.5,
          2.8,
          4.1,
          4.7,
          4.2,
          4.4,
          4.6,
          3.7,
          3.5,
          4.3,
          4.4,
          3.9,
          4.4,
          4.4,
          4.2,
          4,
          4,
          4.7,
          2.9,
          4.4,
          4.4,
          4.2,
          4.4,
          4.4,
          4.2,
          4.2,
          4.6,
          3.9,
          4.6,
          4.8,
          4,
          4.1,
          3.9,
          3.2,
          3.9,
          4.5,
          4,
          4.3,
          4.9,
          2.5,
          4.4,
          4.4,
          4.5,
          4,
          4.5,
          3.8,
          4.6,
          3.2,
          1.8,
          4.6,
          3.9,
          3.8,
          3.4,
          4.4,
          3.8,
          3.8,
          3.6,
          4.7,
          4.8,
          4.7,
          4.3,
          4,
          4.3,
          4.6,
          4.5,
          3.8,
          4.1,
          4.4,
          2.1,
          3.1,
          4.6,
          4.5,
          4.2,
          3.9,
          2.9,
          4.4,
          4.2,
          4.4,
          4.1,
          4.4,
          4.2,
          4.3,
          4.2,
          4,
          4,
          3.9,
          4.4,
          4.7,
          4.5,
          4.7,
          4.1,
          4.3,
          4.4,
          2,
          4.3,
          3.3,
          4.1,
          4.3,
          3.3,
          4.6,
          4.2,
          4.4,
          4.4,
          4.2,
          3.9,
          4.5,
          4.4,
          4,
          4.3,
          4.5,
          4.7,
          4.2,
          3.1,
          4.4,
          4.1,
          4.5,
          4.3,
          4.5,
          4.3,
          4.4,
          4,
          4.4,
          4.5,
          2.7,
          4.2,
          4.6,
          2.1,
          3.5,
          2.1,
          4,
          4,
          4.2,
          3.7,
          4.3,
          4.5,
          4.6,
          4.2,
          4.1,
          4,
          4.1,
          3,
          3.3,
          4.5,
          4.5,
          2.2,
          4.8,
          4.2,
          3.9,
          5,
          4.5,
          4.1,
          3.6,
          1.7,
          2.3,
          3.8,
          4.5,
          4.5,
          4.2,
          4.4,
          4.2,
          2.3,
          2.6,
          3.4,
          4.5,
          3.6,
          2.4,
          4,
          3.9,
          4.4,
          4.6,
          4.6,
          4,
          4.5,
          4.1,
          3.2,
          4.1,
          4.2,
          4.4,
          4,
          4.2,
          4.1,
          3,
          4.2,
          4.2,
          3.6,
          4.1,
          4.3,
          4,
          4.1,
          3.7,
          null,
          4.6,
          4.1,
          4.1,
          3.2,
          4.4,
          4.4,
          null,
          3.9,
          4.5,
          4.5,
          4,
          2.7,
          4.4,
          4.7,
          4.3,
          3.8,
          4.5,
          4,
          1.6,
          4.5,
          4.3,
          4.7,
          4.6,
          null,
          4.3,
          4.5,
          3.9,
          4.4,
          3.9,
          4.1,
          4.5,
          4.5,
          4,
          4.6,
          2.4,
          4.2,
          3.6,
          4.1,
          4.2,
          4.8,
          null,
          4.6,
          4.2,
          4.4,
          3.9,
          3.7,
          3.9,
          4.5,
          4.1,
          2.2,
          4.6,
          4.6,
          4.6,
          4.7,
          3.5,
          4.9,
          4.7,
          4.6,
          4.8,
          4,
          4.9,
          4.8,
          4.4,
          4.2,
          3.6,
          3.2,
          4,
          4.7,
          3.8,
          4.7,
          4.9,
          4,
          4.7,
          3.3,
          4.5,
          4.6,
          3.9,
          3.1,
          4.6,
          3.6,
          4.2,
          3.7,
          3.3,
          4.4,
          3.1,
          4.7,
          null,
          4.5,
          4.7,
          4.7,
          4.7,
          4.8,
          4.8,
          4.8,
          4.7,
          4.1,
          2.3,
          4.7,
          4.4,
          4.8,
          4.7,
          4.5,
          3.1,
          4.9,
          4.7,
          4.7,
          4.5,
          4.4,
          4.3,
          4.4,
          4.7,
          4,
          4.3,
          4.1,
          4.1,
          4.5,
          3.9,
          4.3,
          3.6,
          4.6,
          4.3,
          4.6,
          4.2,
          4.5,
          4.2,
          4.3,
          4.3,
          4.4,
          4.6,
          4.8,
          4.5,
          4.5,
          4.4,
          4.6,
          4.7,
          4.3,
          4.4,
          4.4,
          4.4,
          4.2,
          4.5,
          3.8,
          4.3,
          4.4,
          2.9,
          4.5,
          3.9,
          4.4,
          3.5,
          3.9,
          4.8,
          4.7,
          4.1,
          4.6,
          4.6,
          4.1,
          4.6,
          4.5,
          4.2,
          4.3,
          4.4,
          4.4,
          2.6,
          4.8,
          4.1,
          4.5,
          4.5,
          4.6,
          2,
          4.3,
          4,
          4.6,
          3.8,
          4.6,
          4.4,
          3.5,
          4.6,
          4.6,
          4.2,
          4.8,
          4,
          4.6,
          4.3,
          4.7,
          4.7,
          4.3,
          4.7,
          4.3,
          4.2,
          4.4,
          4.3,
          4.7,
          4.8,
          4.6,
          4.5,
          3.9,
          4.2,
          4.1,
          4.3,
          4,
          3.8,
          4.6,
          4.2,
          3.9,
          4.5,
          4.3,
          4.5,
          3.3,
          4.2,
          4.4,
          4.3,
          4.2,
          4.4,
          3.6,
          4.7,
          4,
          3.5,
          null,
          4.2,
          4.8,
          4.7,
          4.9,
          4.8,
          4.8,
          4.8,
          4.8,
          4.1,
          3.7,
          4.7,
          4.8,
          4.7,
          4.4,
          4.7,
          4.7,
          4.9,
          4.1,
          4.3,
          3.8,
          4,
          3.9,
          4.1,
          4.2,
          3,
          4.7,
          4.7,
          3.5,
          3.3,
          4.4,
          4.2,
          3.8,
          4.6,
          4.2,
          4.2,
          4.8,
          2.5,
          4.1,
          4.7,
          3.8,
          4.3,
          4.2,
          4.6,
          4.4,
          3.9,
          4.1,
          4.6,
          3.8,
          4,
          4.7,
          4.4,
          4.3,
          4.6,
          4.1,
          3.9,
          4.1,
          4.5,
          4,
          3.9,
          4.1,
          4.3,
          3.9,
          4.1,
          4.6,
          4.1,
          4.3,
          4.1,
          4.1,
          4.2,
          4.5,
          4.3,
          4.1,
          4.1,
          4.1,
          4.3,
          4.6,
          4.6,
          4.2,
          4,
          4.3,
          4.2,
          4.2,
          3.9,
          4.2,
          3.8,
          4.6,
          4.6,
          4.1,
          4.1,
          4.4,
          4.5,
          4.3,
          4.1,
          4.3,
          4.2,
          4.4,
          4.2,
          4.2,
          4.2,
          4.1,
          4.4,
          4.3,
          4.2,
          4.4,
          4.4,
          4.1,
          4.3,
          3.9,
          4.2,
          4.5,
          3.8,
          4.6,
          4.2,
          4.3,
          4.1,
          4.3,
          4.1,
          4,
          4.1,
          4.2,
          4.4,
          4.7,
          4.1,
          4.3,
          4.2,
          4.5,
          3.7,
          4.2,
          4,
          4.4,
          4.6,
          4.2,
          4.3,
          4,
          4,
          4.3,
          4.6,
          4.4,
          4.3,
          4.3,
          4.6,
          4.4,
          3.7,
          4.1,
          3.9,
          4.4,
          4.3,
          4.3,
          4.5,
          2.9,
          4.2,
          4.2,
          4.5,
          4.1,
          3.2,
          4.1,
          4.4,
          3.1,
          4.1,
          2.7,
          4.3,
          4.2,
          4.7,
          3.9,
          4.5,
          4.5,
          3.1,
          4.4,
          4.3,
          4.7,
          2.4,
          4.2,
          4.8,
          4.2,
          3.9,
          4.6,
          3.3,
          1.6,
          4.7,
          4.8,
          4.3,
          4.8,
          3.9,
          4.5,
          4.4,
          4.2,
          4.4,
          4.8,
          4.2,
          3.8,
          4.5,
          4.6,
          4.8,
          4.6,
          4.7,
          4.3,
          1.5,
          4.5,
          4.4,
          4.5,
          3.9,
          4.3,
          3.7,
          4.3,
          4.1,
          3.9,
          4.9,
          4.5,
          4.4,
          4.6,
          4.3,
          4.8,
          4.5,
          4.1,
          4.6,
          4.4,
          4.4,
          4.6,
          3.8,
          4.6,
          4.4,
          3.8,
          2.5,
          3.3,
          4.4,
          4.5,
          3.5,
          3.7,
          3.5,
          3.9,
          3.8,
          4.1,
          3.3,
          4.2,
          4,
          4.2,
          3.4,
          3.4,
          4.1,
          3.6,
          4,
          4.4,
          4,
          3.2,
          4.6,
          4.6,
          3.7,
          4.7,
          4.6,
          4,
          4.7,
          4.5,
          4.1,
          4.2,
          4.3,
          4.2,
          4,
          4.1,
          4.6,
          4.7,
          4.5,
          3.5,
          4.3,
          4.3,
          4.5,
          4.4,
          4.5,
          4.4,
          4,
          4.2,
          4.5,
          4.4,
          4.4,
          3.7,
          4.5,
          4.4,
          4.5,
          3.7,
          4.4,
          4.8,
          4.1,
          4.3,
          4.3,
          4.7,
          4.3,
          4.3,
          4.1,
          4.2,
          4.4,
          3.9,
          2.7,
          3.6,
          4.4,
          4,
          4.5,
          4.5,
          2.8,
          4.4,
          3.8,
          3.9,
          4.2,
          4.9,
          4.3,
          4.6,
          4.6,
          4.7,
          4.7,
          3.9,
          3.9,
          4.2,
          4.4,
          4.4,
          4.3,
          4.5,
          4.2,
          3.9,
          4.5,
          3.8,
          4.2,
          4.2,
          4.5,
          4.4,
          4.7,
          4.5,
          4.3,
          4.4,
          4.4,
          4,
          4.6,
          4.4,
          4.1,
          4.6,
          4.1,
          3.7,
          4,
          4.4,
          4.3,
          4.1,
          4.4,
          3.7,
          4.4,
          4.3,
          4.4,
          4.6,
          4.8,
          4.5,
          3,
          4.1,
          4.3,
          4.5,
          3.5,
          4.5,
          3.9,
          4.6,
          4.5,
          4.1,
          4,
          4.6,
          4.1,
          4.6,
          4.2,
          3.9,
          4.3,
          4,
          4.4,
          3.9,
          4.2,
          4,
          4.3,
          3.3,
          4.8,
          4.1,
          3.8,
          4,
          4.4,
          3.7,
          2.8,
          4.1,
          4.4,
          3.9,
          4.5,
          4.4,
          4.5,
          4.1,
          4.6,
          4.3,
          4.1,
          4.1,
          2.8,
          4.7,
          2.2,
          3.6,
          3.3,
          4.9,
          3.9,
          4,
          3.6,
          2.8,
          3.8,
          4.5,
          3.2,
          3.2,
          4.6,
          3.6,
          4.4,
          4.9,
          4.5,
          4.1,
          4.3,
          4.2,
          4.5,
          3.3,
          4.4,
          4.4,
          4.5,
          3.6,
          4,
          3.6,
          3.7,
          4.5,
          4.6,
          3.1,
          3.4,
          3.8,
          4.2,
          3.8,
          4.4,
          4.6,
          null,
          4.4,
          4.4,
          4.5,
          4.3,
          4.2,
          3.8,
          3.7,
          4.3,
          3.6,
          3.7,
          4.6,
          4.4,
          4.3,
          4.3,
          4.3,
          4.4,
          4.3,
          4.4,
          4.3,
          4.8,
          4.7,
          4.4,
          4.5,
          4.4,
          3,
          5,
          4,
          4.6,
          4.4,
          4,
          4.1,
          4.5,
          4.5,
          4.2,
          4.4,
          4.5,
          4.4,
          4.5,
          4.2,
          4.5,
          null,
          4.4,
          4.3,
          4.3,
          4.6,
          4.3,
          4.3,
          4.4,
          4.3,
          4.1,
          4.1,
          4.3,
          4.4,
          3.9,
          4.3,
          4.2,
          4.1,
          3.7,
          3.6,
          3.7,
          3.4,
          3.9,
          4.2,
          4,
          4.4,
          4.1,
          4.4,
          4.4,
          4.2,
          4.3,
          4.1,
          4.2,
          4.4,
          4.5,
          4.3,
          4.2,
          4.3,
          4.5,
          4.3,
          4,
          4.5,
          4.5,
          4.2,
          4.3,
          4.5,
          4.3,
          4.4,
          4.3,
          4.4,
          4.5,
          null,
          4.3,
          4.4,
          null,
          4.3,
          4,
          4.1,
          4.3,
          4.6,
          4.4,
          4,
          4,
          4.6,
          4.3,
          4.5,
          4.2,
          4.4,
          4.2,
          4.3,
          4.3,
          4.5,
          3.9,
          4.4,
          4.3,
          4.5,
          4.3,
          4.4,
          4.5,
          4.2,
          4.3,
          4.4,
          4.2,
          4,
          4.6,
          4.5,
          4.5,
          4.5,
          4.3,
          4,
          4,
          4.3,
          4.2,
          4,
          4.1,
          4,
          4.4,
          4.3,
          4.3,
          4.1,
          4.1,
          4.2,
          4.3,
          4,
          4.3,
          4.3,
          4.1,
          3.5,
          4.2,
          4.2,
          4.5,
          4.1,
          3.8,
          3.9,
          4.3,
          1.8,
          3.4,
          1.9,
          3.1,
          4,
          4.4,
          4.2,
          4.3,
          3.7,
          4.2,
          4.4,
          4.5,
          4.6,
          4.3,
          4.4,
          4.5,
          4.8,
          4.4,
          4.4,
          4.6,
          4.3,
          4.1,
          4.2,
          4.4,
          4.3,
          4.1,
          3.8,
          4.3,
          4,
          4.2,
          3.9,
          4.2,
          4,
          4,
          4.5,
          3.9,
          4.1,
          4.1,
          4,
          4,
          4.1,
          3,
          2.9,
          2.5,
          3.8,
          3.2,
          4,
          3.8,
          4,
          1.9,
          3.6,
          4.3,
          4.3,
          3.8,
          4.1,
          4,
          4.1,
          3.8,
          4.7,
          3.6,
          4.1,
          4.4,
          4.5,
          1.8,
          4.3,
          4,
          3.5,
          3.9,
          3.9,
          3.5,
          4.3,
          4.6,
          4.2,
          3.9,
          4.5,
          4.7,
          4.2,
          4.6,
          4.3,
          4.2,
          4,
          4,
          3.8,
          4.2,
          4.2,
          4.2,
          4.3,
          4.2,
          4.1,
          3.9,
          4,
          4.4,
          4,
          4.3,
          2.6,
          4.6,
          4.2,
          4.8,
          4.3,
          4.6,
          4.4,
          4.7,
          4.5,
          4.3,
          4.6,
          4.5,
          4.5,
          4.5,
          4.8,
          4.6,
          4.6,
          4.4,
          4.6,
          4.6,
          4.4,
          4.1,
          4.2,
          4,
          4,
          4.2,
          4.4,
          4.2,
          4.2,
          4,
          4.1,
          4.2,
          4,
          4.4,
          4.5,
          3.8,
          4.4,
          3.9,
          4.3,
          4.3,
          4.2,
          3.8,
          4,
          4,
          4,
          3.8,
          4.1,
          4,
          4.1,
          3.9,
          4.1,
          4.1,
          4,
          4.4,
          4.4,
          4.2,
          3.9,
          3.9,
          4.4,
          3.7,
          3.6,
          3.9,
          4.5,
          3.9,
          3.9,
          4.1,
          4.1,
          4.3,
          4.7,
          4.6,
          4.4,
          4.6,
          4,
          4.3,
          4.3,
          4.4,
          4.6,
          4.4,
          4.3,
          4.3,
          4.1,
          4.1,
          4.2,
          4.4,
          4.6,
          4.4,
          4.5,
          4,
          4.3,
          4.6,
          4.1,
          4.2,
          3.4,
          4.1,
          4.6,
          4,
          4.4,
          4.1,
          4.4,
          4.4,
          4.5,
          2.9,
          4.4,
          4.3,
          4.2,
          4.3,
          4.1,
          3,
          3.9,
          4,
          4.2,
          4.4,
          4.5,
          4.8,
          4.7,
          3.9,
          4.2,
          4.5,
          4.5,
          4.6,
          4.4,
          4.8,
          4.6,
          4.3,
          4.4,
          4.7,
          4.4,
          null,
          4.5,
          4.1,
          4.4,
          4.6,
          4.2,
          4.3,
          4.7,
          4.5,
          4.6,
          4.8,
          4.5,
          4.6,
          4.4,
          4.4,
          4.6,
          4.7,
          4.5,
          4.6,
          4.6,
          4.4,
          4.4,
          4.6,
          4.7,
          4.5,
          4.7,
          4.1,
          4.2,
          4.2,
          4.6,
          4.5,
          4.6,
          4.4,
          4.6,
          4.6,
          4.6,
          4.6,
          4.2,
          4.5,
          4.4,
          4.4,
          4.1,
          4.7,
          3.8,
          4.7,
          4.3,
          4.4,
          4.4,
          4.3,
          4.3,
          4.2,
          4.5,
          4.6,
          4.3,
          4.5,
          4.5,
          4.4,
          4.3,
          4.6,
          4.5,
          4.5,
          4.6,
          4.5,
          4.4,
          4.3,
          4.3,
          4.7,
          4.6,
          4.2,
          4.2,
          4.4,
          4.4,
          4.2,
          4.2,
          4,
          4.1,
          4.4,
          4.2,
          3.4,
          4.4,
          4.4,
          4.5,
          4.2,
          4.4,
          4.1,
          4.4,
          4.2,
          4.6,
          4.1,
          4.4,
          null,
          4.4,
          4.2,
          4.1,
          4.2,
          4.3,
          4.1,
          4.3,
          4.5,
          4.6,
          3.6,
          4.4,
          4.5,
          4.3,
          4.1,
          3.9,
          4.2,
          4.4,
          4.4,
          4.5,
          4.8,
          4.4,
          4.6,
          3.8,
          4.4,
          4.2,
          4.4,
          4.5,
          3.8,
          4.5,
          4.3,
          4.3,
          4.3,
          3.9,
          4.5,
          3.9,
          null,
          3.9,
          4.4,
          4,
          4.2,
          4.7,
          4.3,
          3.9,
          3.5,
          3.8,
          4.6,
          4.4,
          4.6,
          4.6,
          4.5,
          4.3,
          3.9,
          4.3,
          null,
          4,
          4.4,
          4.6,
          4.5,
          4,
          4.1,
          4.7,
          4.6,
          4.6,
          3.8,
          4.3,
          4.2,
          4.6,
          4.6,
          4.3,
          4.6,
          4.3,
          3.8,
          4.3,
          4.5,
          4.3,
          4.2,
          4.2,
          4.4,
          4.4,
          4.1,
          4.4,
          4.2,
          4.4,
          4.4,
          4.6,
          4.4,
          4.2,
          4.4,
          4,
          4.4,
          4.6,
          4.4,
          4.4,
          4.4,
          4.3,
          4.3,
          4.4,
          4.1,
          4.3,
          3.9,
          4,
          4.1,
          4.1,
          4.4,
          4.1,
          4,
          3.9,
          4.3,
          4.8,
          4.5,
          4.2,
          4.2,
          4.4,
          4.4,
          4.5,
          4.5,
          4.3,
          4.2,
          3.7,
          3.9,
          3.4,
          3.6,
          3.8,
          3.9,
          3.9,
          4.3,
          4.3,
          4,
          3.6,
          3.8,
          3.4,
          4.2,
          4,
          4.3,
          4,
          3.9,
          null,
          4.1,
          3.2,
          4.4,
          4.3,
          4.7,
          4,
          4,
          4.1,
          3.7,
          3.6,
          4.5,
          4.5,
          4.1,
          4.1,
          4.1,
          4,
          4,
          4.1,
          4,
          4.2,
          4.7,
          4.8,
          4.5,
          4.5,
          4,
          4.4,
          4,
          3.2,
          4.2,
          3.6,
          4.4,
          4.2,
          3.9,
          4,
          4.3,
          4.5,
          4.2,
          4.3,
          4.7,
          4.1,
          4.2,
          4.4,
          3.8,
          4.4,
          4,
          4.3,
          4.1,
          3.9,
          4.3,
          4.5,
          4.5,
          4.4,
          4.5,
          4.5,
          4.8,
          3.9,
          4.4,
          4.4,
          4.3,
          4.4,
          4.5,
          4.4,
          3.8,
          4.5,
          4,
          4.1,
          4.1,
          4.4,
          4.4,
          4.8,
          4.3,
          4.3,
          4.5,
          4.7,
          4.3,
          4.3,
          4.3,
          4.2,
          4.4,
          4.7,
          4.9,
          4.5,
          4.4,
          4.4,
          4.5,
          4.3,
          4.6,
          4.6,
          4.5,
          4.2,
          3.9,
          4.2,
          4.2,
          4.1,
          4.3,
          4.2,
          4.2,
          4.4,
          4.2,
          4.5,
          3.6,
          4.7,
          4.3,
          4,
          3.9,
          4,
          3.9,
          4.4,
          2.8,
          4.8,
          3.9,
          4.1,
          3.8,
          3.7,
          3.4,
          4.1,
          4.2,
          4.1,
          4.1,
          3.5,
          4.3,
          4.3,
          4.4,
          3.2,
          3.7,
          3.2,
          4.1,
          3.9,
          4.4,
          3.7,
          3.8,
          4.4,
          4.6,
          2.9,
          3.6,
          4.2,
          3.2,
          4.4,
          3.9,
          4.6,
          4.7,
          3.8,
          3,
          4.6,
          4.7,
          4,
          4.1,
          4.3,
          4.2,
          3.8,
          3.9,
          3.8,
          4,
          4.6,
          4.3,
          4.5,
          null,
          3.4,
          3.6,
          4.5,
          4.2,
          3.5,
          4.8,
          4.9,
          4.3,
          4.6,
          4.6,
          4.5,
          3.7,
          3.9,
          4.5,
          4.5,
          4,
          4.2,
          4.2,
          4.4,
          4.6,
          null,
          4.3,
          4.2,
          4.2,
          4.1,
          4.4,
          4.1,
          2.2,
          4.9,
          4.6,
          4.7,
          4.5,
          4.6,
          4.6,
          4.7,
          4.4,
          4.5,
          3.7,
          4.7,
          4.3,
          4.6,
          4.8,
          4.4,
          4.1,
          4.5,
          4.7,
          4.6,
          4.7,
          4.6,
          4.6,
          3.6,
          4.4,
          4.5,
          4.7,
          4.6,
          4.4,
          4.5,
          4.3,
          4.1,
          4.2,
          4.6,
          4.3,
          4.8,
          4.6,
          4.6,
          4.6,
          4.4,
          4.4,
          2.7,
          4.5,
          4.6,
          4.5,
          4.1,
          4.7,
          4.5,
          3.5,
          3.9,
          4.4,
          4.2,
          2.8,
          4.1,
          4.3,
          3.8,
          4.3,
          4.3,
          3.7,
          4.2,
          4,
          4.5,
          4,
          4.2,
          4.3,
          4.1,
          4,
          4.7,
          4.3,
          4.4,
          4,
          4.3,
          3.6,
          4.1,
          2.9,
          3.9,
          3.5,
          4.2,
          4,
          4.7,
          4.5,
          4.1,
          4.2,
          4.6,
          4.1,
          4.5,
          4.4,
          4.5,
          4.8,
          4.5,
          4.4,
          4.6,
          4.5,
          3.9,
          4,
          4.3,
          3.9,
          4.1,
          4.2,
          4,
          4.3,
          4.1,
          4.7,
          4.4,
          4.4,
          4.5,
          4.5,
          4.5,
          4.4,
          4.3,
          4.5,
          4.4,
          4.7,
          4.6,
          4.1,
          4.3,
          4.5,
          4.4,
          4.4,
          4.7,
          4.1,
          4.4,
          4.6,
          4.3,
          4.2,
          4.3,
          4.3,
          4.3,
          4,
          4.3,
          4.4,
          3.8,
          4.4,
          4.5,
          4.6,
          4.3,
          4.7,
          4.7,
          4.4,
          4.5,
          4.3,
          4.4,
          4.6,
          4.4,
          4.3,
          4.3,
          4.5,
          4.5,
          4.5,
          4.2,
          3.4,
          4.5,
          4.4,
          4.4,
          4.3,
          4.4,
          4,
          4.4,
          4.3,
          4.7,
          4.4,
          4.7,
          4.6,
          4.4,
          4.7,
          4.5,
          4.7,
          4.6,
          4.5,
          4.2,
          4.5,
          4.6,
          4.5,
          4.6,
          4.4,
          4.6,
          4.6,
          4.5,
          4.5,
          4.3,
          4.2,
          4.4,
          4.6,
          4.4,
          4.5,
          4.4,
          4.2,
          4.3,
          4.4,
          4.5,
          4.6,
          4.5,
          4.6,
          4.3,
          4.4,
          4.5,
          4.5,
          4.3,
          4.5,
          4.2,
          4.5,
          4.6,
          4.4,
          4.3,
          4.6,
          4.4,
          3.9,
          4.1,
          4.4,
          4.3,
          4.7,
          4.1,
          4.4,
          4.6,
          4.2,
          4.2,
          4.2,
          4.5,
          3.8,
          4.4,
          4.3,
          4.6,
          4.6,
          4.4,
          4.7,
          4.3,
          4.5,
          4.6,
          4.1,
          4.6,
          4.3,
          4.2,
          4.2,
          4.3,
          4.5,
          4.5,
          4.5,
          4.4,
          4.6,
          4.1,
          4.5,
          4.5,
          4.1,
          4.4,
          4.3,
          4.5,
          4.3,
          4,
          4.5,
          4,
          4.6,
          4.3,
          4.5,
          4.5,
          4.3,
          4.5,
          4.4,
          4.4,
          4.6,
          4.4,
          4.4,
          3.8,
          3.8,
          4.4,
          4.4,
          4.2,
          4.5,
          4.2,
          4,
          4.3,
          4,
          4.3,
          3.8,
          4.8,
          4.4,
          2.4,
          3.7,
          3.3,
          4.4,
          4.2,
          3.6,
          4.3,
          4.6,
          4.2,
          4.1,
          4.5,
          4.2,
          4.4,
          4.5,
          4.5,
          4.2,
          3.7,
          4.6,
          3.9,
          4.5,
          4.4,
          4.5,
          4.1,
          4.7,
          4.5,
          4.2,
          4.7,
          4.5,
          3.9,
          4.8,
          4.1,
          4.1,
          4.2,
          4,
          4.2,
          4,
          4.4,
          4.3,
          4.2,
          4.4,
          4.3,
          4.4,
          4.3,
          4.2,
          4.5,
          4.3,
          4.3,
          4.4,
          4.6,
          4.5,
          4.9,
          4.6,
          4.3,
          3.6,
          4.5,
          3.5,
          4.6,
          4.5,
          4.3,
          4.2,
          4.2,
          4.5,
          4.1,
          4.3,
          3.6,
          4.3,
          4.7,
          3.4,
          4.3,
          4.3,
          3.5,
          4.2,
          4.3,
          4,
          4.2,
          3,
          3.2,
          4.6,
          4.7,
          4.7,
          4.1,
          4.5,
          4.5,
          4.3,
          4.4,
          4.3,
          3.6,
          3.7,
          4.7,
          4.8,
          4.3,
          3.7,
          4.5,
          4.4,
          4.4,
          3.4,
          4.5,
          4.8,
          4.5,
          4.1,
          4.5,
          4.6,
          4.2,
          3.3,
          4.7,
          3.9,
          3.5,
          4.4,
          4.6,
          4.1,
          4.6,
          4.6,
          4.3,
          4.3,
          4.5,
          4.7,
          4.2,
          4.6,
          4.6,
          4,
          4.6,
          4.4,
          4.7,
          4.3,
          4.4,
          4.7,
          4.5,
          4.5,
          3.9,
          4,
          4.2,
          4,
          4.1,
          4.3,
          4.4,
          4.3,
          3.9,
          4.6,
          3.8,
          3.2,
          4.1,
          3.7,
          4.1,
          3,
          4.4,
          3.3,
          3.9,
          4.2,
          4.5,
          3.6,
          4.3,
          4.2,
          4.4,
          3.8,
          4.7,
          4.6,
          4.3,
          4.4,
          4.1,
          4.1,
          4.5,
          4.5,
          3.3,
          3.8,
          4.5,
          4.4,
          4.5,
          4,
          4.5,
          4.8,
          4.6,
          4.3,
          4.3,
          4.1,
          4.2,
          4.5,
          4.6,
          4.5,
          4.4,
          4,
          3.5,
          4,
          3.1,
          4.2,
          4.3,
          4.6,
          4,
          3.7,
          3.4,
          3.6,
          4.4,
          5,
          4.9,
          4.4,
          3.9,
          4,
          4,
          4.3,
          3.3,
          4.6,
          4.2,
          3.9,
          4.1,
          4.5,
          4.4,
          4.2,
          4,
          4.2,
          3.2,
          4.4,
          4.5,
          3.7,
          3.7,
          null,
          4,
          4.5,
          4.7,
          4.4,
          4.5,
          4.2,
          4,
          4,
          4.2,
          4,
          4.6,
          4.1,
          4.3,
          4.2,
          4.3,
          4.2,
          4.2,
          4.4,
          4.1,
          4.2,
          4.1,
          4.6,
          3.5,
          4.2,
          4.2,
          3.8,
          3.8,
          4.7,
          4.3,
          4.2,
          4.5,
          4.4,
          3.9,
          4.7,
          null,
          4.2,
          4.1,
          4,
          4.7,
          4.4,
          4,
          null,
          4.3,
          5,
          4.2,
          4.5,
          4.4,
          4.5,
          4.4,
          4.2,
          2.6,
          2.9,
          4.2,
          4,
          4.5,
          4.7,
          3.9,
          4.1,
          3.9,
          4.5,
          4.4,
          4.2,
          3.4,
          3.6,
          4.2,
          4.2,
          3.5,
          4.6,
          3.8,
          3.3,
          4.3,
          4.4,
          3.9,
          3.7,
          4.5,
          4.5,
          3.6,
          3.8,
          3.6,
          4.3,
          4.5,
          4.3,
          4.2,
          4.3,
          4.6,
          4.4,
          4.4,
          4.2,
          4.7,
          3.7,
          3.8,
          2.1,
          4.2,
          2.9,
          2.7,
          3.5,
          4.1,
          4.7,
          4.4,
          3.7,
          4.4,
          4.3,
          2.7,
          4.6,
          4.1,
          3,
          3.1,
          3.7,
          2.6,
          3.4,
          4.5,
          4.4,
          4.2,
          4.1,
          4.4,
          3.3,
          3.8,
          4.4,
          4.2,
          3.8,
          3.4,
          4.2,
          3.8,
          4.4,
          3.9,
          3.3,
          3.3,
          4.7,
          4.5,
          4.6,
          4,
          4.2,
          4.7,
          4.4,
          4.3,
          4.4,
          4.2,
          4,
          4.6,
          3.5,
          3.9,
          4.5,
          4.3,
          4.3,
          4.2,
          4.5,
          4,
          4,
          4.3,
          4.5,
          4.1,
          4.2,
          4.5,
          4.5,
          4.1,
          4,
          4.2,
          4.5,
          4.1,
          4.2,
          4.6,
          4.4,
          3.9,
          4.2,
          4.5,
          4.3,
          3,
          4.8,
          4,
          4.1,
          4.3,
          4.1,
          4.6,
          4.6,
          3.4,
          4.3,
          4.5,
          4.2,
          4.8,
          4.1,
          4.5,
          4.4,
          4.1,
          3.3,
          4.5,
          4.5,
          4.4,
          4.4,
          4.4,
          4.8,
          3.8,
          4.2,
          4.3,
          4.4,
          4.2,
          4.7,
          4.7,
          4.8,
          4.5,
          4.6,
          4.7,
          4.5,
          4.6,
          4.7,
          3,
          4.6,
          4.3,
          4.6,
          3.8,
          4,
          4.4,
          4.3,
          3.8,
          4.3,
          4.2,
          4,
          4.5,
          4.2,
          4.6,
          4.7,
          4.6,
          4.4,
          4.5,
          4.7,
          4.8,
          4.6,
          4.5,
          4.5,
          4.6,
          4,
          4.5,
          4.2,
          4.7,
          4.1,
          4.3,
          4.3,
          4.2,
          4.3,
          4.5,
          4.2,
          4.5,
          4.5,
          4.3,
          4.5,
          4.4,
          4.6,
          4.5,
          4.4,
          4.6,
          4.6,
          4.6,
          4.2,
          4.6,
          4.6,
          4.6,
          4.6,
          4,
          4.2,
          4.7,
          4.6,
          4.1,
          4.1,
          4.3,
          4.5,
          4.3,
          4.1,
          4.5,
          4.5,
          4.2,
          4.4,
          4.6,
          4.3,
          4.5,
          4.7,
          4.6,
          4.7,
          4.4,
          4.6,
          4.5,
          4.2,
          4.4,
          4.7,
          4.5,
          4.1,
          4.4,
          4.2,
          4.8,
          4.5,
          4.5,
          4,
          4.1,
          4.4,
          4.2,
          4.4,
          4.5,
          4.3,
          4,
          4.2,
          4.2,
          4,
          4.4,
          4.2,
          4.1,
          4.4,
          4.6,
          4.3,
          4.1,
          4.3,
          4.4,
          4.1,
          3.9,
          4.6,
          4.4,
          4.7,
          4.5,
          4.4,
          4.3,
          4.4,
          4.5,
          4.4,
          4.4,
          4.5,
          4.2,
          4.3,
          4.2,
          4.3,
          4.3,
          4.1,
          4.3,
          3.8,
          4.2,
          4.1,
          4,
          4.4,
          4.4,
          4.3,
          4.4,
          4.4,
          4.4,
          4,
          4,
          4.4,
          4.2,
          3.9,
          3.8,
          4.3,
          4.8,
          4.1,
          4.3,
          4.3,
          4.1,
          4.4,
          4.4,
          4.3,
          3.7,
          4,
          4.6,
          4,
          4,
          4,
          4.7,
          4.5,
          4.1,
          4.3,
          4,
          4.1,
          4,
          3.9,
          4.2,
          4.3,
          3.9,
          4.4,
          4.7,
          4.1,
          3.2,
          4.3,
          4.6,
          3.7,
          4.1,
          4,
          4.3,
          4.4,
          4.3,
          4.5,
          4.3,
          4.5,
          4.5,
          4.2,
          4.4,
          3.8,
          4.6,
          4.3,
          4.5,
          3.8,
          4.2,
          3.9,
          3.6,
          4,
          4.1,
          4.3,
          4.6,
          4.4,
          4.3,
          4.2,
          4.3,
          4.3,
          4.3,
          4.4,
          3.9,
          3.7,
          4.2,
          4.4,
          4.3,
          3.7,
          4.6,
          4.2,
          4.4,
          4.2,
          4.3,
          4.5,
          4.3,
          3.8,
          4.3,
          4.6,
          4,
          4.4,
          4.4,
          4.5,
          3.6,
          4.6,
          4.5,
          4.5,
          4,
          4.2,
          4.4,
          4.5,
          4.5,
          4.5,
          4.2,
          4.4,
          4.3,
          4.5,
          4.5,
          4.4,
          4,
          4.8,
          4.6,
          4.3,
          4.1,
          4.3,
          4.3,
          4.3,
          4.3,
          4.6,
          4.6,
          4.4,
          4.4,
          4.3,
          4.3,
          4.5,
          4,
          4.3,
          4.5,
          4.3,
          4.4,
          4.3,
          4.4,
          4.6,
          4.6,
          4.3,
          4.2,
          4.6,
          4.3,
          4.4,
          4.4,
          4.3,
          4.4,
          4.5,
          4,
          4.8,
          4.1,
          4.3,
          4,
          4.4,
          4.1,
          4.2,
          4.3,
          4.3,
          4,
          4.1,
          4.2,
          3.9,
          4.3,
          4.6,
          4.4,
          4.3,
          4.4,
          4.1,
          4.4,
          3.8,
          4.2,
          4.5,
          4.5,
          4.3,
          4.2,
          4.6,
          4.8,
          4,
          4.6,
          4.2,
          4.6,
          4.6,
          4.5,
          4.6,
          4.6,
          4.1,
          4.5,
          4.4,
          4.8,
          4.7,
          4.9,
          4.5,
          4.6,
          4.9,
          4.6,
          4.7,
          4.6,
          4.5,
          4.6,
          4.9,
          4.3,
          4.4,
          4.9,
          4.3,
          4.4,
          4.7,
          4.3,
          4.2,
          4.4,
          4.3,
          4.5,
          4.1,
          4.5,
          4.3,
          4.7,
          4.2,
          4.6,
          4.3,
          4.6,
          4.3,
          4.5,
          4.4,
          4.3,
          4.6,
          4.7,
          4.4,
          4.5,
          4.2,
          3.7,
          4.6,
          4.4,
          4.4,
          4.4,
          4.3,
          4,
          4.4,
          4.2,
          4.6,
          4.4,
          4.4,
          4.4,
          4.4,
          4.6,
          4.7,
          4.2,
          4.5,
          4.6,
          4.5,
          4.4,
          4.4,
          4.4,
          4.2,
          4.6,
          4.5,
          4.6,
          4.5,
          4.5,
          4.7,
          4.4,
          4,
          4.4,
          4.6,
          4.5,
          4.5,
          4.4,
          4.6,
          4.5,
          4.6,
          4.4,
          4.1,
          4.5,
          4.5,
          4.4,
          4.8,
          4.3,
          4.5,
          4.3,
          4.3,
          4.3,
          4.5,
          4.4,
          4.5,
          4.6,
          4.5,
          4.5,
          4.1,
          4.3,
          4.5,
          4.6,
          4.6,
          4.5,
          4.5,
          4.4,
          4.6,
          4.5,
          4.4,
          4.5,
          4.6,
          4.4,
          4.4,
          4.2,
          4.4,
          4.8,
          4.5,
          4.6,
          4.5,
          4.5,
          4.1,
          4.3,
          4.8,
          4.2,
          4.5,
          4.6,
          4.3,
          4.5,
          4.6,
          4.5,
          4.6,
          4.6,
          4.7,
          4.6,
          4.4,
          4.5,
          4.4,
          4.6,
          4.3,
          4.2,
          4.5,
          4.4,
          4.4,
          4.7,
          4.4,
          4.7,
          4.3,
          4.5,
          4.1,
          4.4,
          4.4,
          4.5,
          4.2,
          4.4,
          4.4,
          4.3,
          4.4,
          4,
          4.5,
          4.5,
          4.5,
          4.3,
          4.8,
          4.7,
          4.3,
          3.9,
          4.5,
          4.6,
          4.2,
          4.2,
          4.2,
          4.7,
          4.4,
          4.4,
          4.4,
          3.8,
          4.6,
          4.6,
          4.4,
          4.1,
          4.2,
          4.3,
          4.2,
          4.5,
          4,
          4.1,
          4.3,
          4.5,
          4.6,
          4.4,
          4.2,
          4.4,
          4.3,
          4.2,
          4.1,
          4.3,
          4,
          3.9,
          4.5,
          4.1,
          4.4,
          4.2,
          4,
          4.3,
          4.4,
          4,
          4.5,
          4.1,
          4,
          4.4,
          4.6,
          4.5,
          4.5,
          4.2,
          4.4,
          4.7,
          4.4,
          4.4,
          4.3,
          3.9,
          4.4,
          4.5,
          4.1,
          4.7,
          4.5,
          4.2,
          4.7,
          4.3,
          4.4,
          4.3,
          4.8,
          4.8,
          4.7,
          4.5,
          4.4,
          4.6,
          4.2,
          4.7,
          4.4,
          4.6,
          4.8,
          4.8,
          4.5,
          4.8,
          4.4,
          4.5,
          4,
          4.5,
          4.3,
          4.2,
          4,
          3.9,
          4.6,
          4.4,
          4,
          4.2,
          4.4,
          3.8,
          4.4,
          4.2,
          4.7,
          4.3,
          4.2,
          3.9,
          null,
          null,
          4.7,
          null,
          4.1,
          4.4,
          4.4,
          4.4,
          4,
          4.2,
          4.7,
          4.4,
          4.4,
          4.6,
          4.6,
          4.5,
          4.3,
          4.3,
          4,
          4.5,
          3.6,
          4.4,
          4.3,
          4,
          4.2,
          4,
          4.3,
          4.7,
          4.6,
          4.7,
          4.5,
          4.2,
          4.3,
          4.7,
          4.7,
          4.8,
          4.7,
          4.3,
          4,
          4,
          4.8,
          4.8,
          4.8,
          4.7,
          4.8,
          4.8,
          4.2,
          4.7,
          4.6,
          4.8,
          4.4,
          4.3,
          4.2,
          4.2,
          4.3,
          4.5,
          4.2,
          4,
          4,
          4.2,
          4.4,
          4.2,
          4.5,
          3.7,
          4,
          4.2,
          3.8,
          4,
          3.6,
          4.1,
          4.1,
          4.3,
          4.5,
          4.4,
          4.5,
          4.2,
          4.1,
          4.2,
          4,
          4.3,
          4.2,
          4.5,
          4,
          4.5,
          4.3,
          4.5,
          4.2,
          4.6,
          4.6,
          4.6,
          4.1,
          4.1,
          4.4,
          4.5,
          4.1,
          4.3,
          4.5,
          4.2,
          4,
          3.9,
          3.5,
          4.6,
          4,
          3.9,
          3.9,
          4.2,
          4.3,
          4.2,
          4.3,
          4,
          4.3,
          4.1,
          4.4,
          4.2,
          4.1,
          4,
          3.6,
          3.9,
          4.2,
          4.5,
          4.3,
          4.1,
          4,
          4.4,
          4.3,
          4.4,
          4.3,
          4.2,
          4.3,
          4.5,
          4.2,
          4.2,
          4.6,
          4.7,
          4,
          4.5,
          4.1,
          4.3,
          4.1,
          4.1,
          4.3,
          4.6,
          3.6,
          4,
          4.4,
          4.4,
          3.5,
          4.7,
          4.2,
          5,
          3.6,
          3.8,
          4,
          4.3,
          3.8,
          4.5,
          3.9,
          3.4,
          4.6,
          4.5,
          4.7,
          4.1,
          4.4,
          4.4,
          4.6,
          4.6,
          4.6,
          4,
          4.8,
          4.6,
          4.1,
          4,
          3.8,
          4.3,
          4,
          3.9,
          4.2,
          4.6,
          4.7,
          4,
          4.2,
          4.6,
          3.4,
          4.7,
          3.7,
          4.5,
          4.5,
          4.5,
          2.9,
          4.5,
          4.6,
          3.6,
          4.6,
          4.4,
          4.6,
          3.9,
          4.7,
          4.3,
          4.5,
          4.6,
          4.8,
          2.8,
          4.1,
          4.7,
          4.2,
          4.6,
          3.1,
          4.6,
          3.1,
          3.8,
          3.7,
          3.5,
          3.5,
          4.4,
          4.5,
          3.8,
          3.9,
          4.2,
          4.2,
          3.3,
          4.4,
          3.4,
          3,
          4.3,
          3.9,
          3.9,
          4,
          4.1,
          4.3,
          3.7,
          2.7,
          3.1,
          3.7,
          3.1,
          3.8,
          4.3,
          4.3,
          4.4,
          3.9,
          4.4,
          4,
          3.6,
          3.7,
          3.4,
          3.7,
          4.7,
          4.8,
          4.2,
          3.7,
          4.5,
          4.7,
          3.3,
          4.6,
          4.2,
          4.1,
          4.1,
          4.1,
          4.7,
          4.8,
          4.7,
          4.2,
          4.8,
          3.9,
          4.7,
          4.6,
          3.9,
          4.6,
          3,
          4.3,
          4.4,
          4.3,
          4.7,
          4.4,
          4.4,
          4.6,
          4.6,
          4.6,
          4.6,
          4.2,
          4.9,
          4.6,
          4.8,
          4.3,
          4.1,
          3.7,
          4.6,
          4.2,
          3.3,
          4.4,
          4.3,
          4.6,
          4.5,
          4.3,
          3.7,
          4.3,
          4.4,
          4.2,
          4.5,
          4.3,
          4.3,
          4.6,
          4.7,
          4,
          4.5,
          4,
          3.8,
          4.4,
          4.5,
          2.1,
          4,
          4.6,
          2.6,
          4.3,
          4.8,
          4.5,
          4.4,
          4.6,
          4.6,
          4.2,
          3.8,
          4.6,
          4.5,
          4.5,
          4.3,
          4,
          4.6,
          4.2,
          4.1,
          3.6,
          4.1,
          4.7,
          3.8,
          4.4,
          4.3,
          4.4,
          4.2,
          4.6,
          3.8,
          4.5,
          3.8,
          4.5,
          4.1,
          3.3,
          2.5,
          4.1,
          3.5,
          3.1,
          3.8,
          4.6,
          3.3,
          4.6,
          4.4,
          3.8,
          4,
          3.9,
          3.4,
          4.6,
          3,
          2.2,
          2.9,
          3.5,
          3.4,
          4.1,
          4.5,
          4.1,
          2.8,
          2.7,
          3.9,
          3.9,
          4.6,
          4.3,
          4.1,
          2.9,
          4.2,
          2.1,
          3.4,
          4.5,
          3.3,
          4,
          3.3,
          4.3,
          4.5,
          4.4,
          4.2,
          4.3,
          4.1
         ],
         "xbins": {
          "end": 5,
          "size": 0.1,
          "start": 1
         }
        }
       ],
       "layout": {
        "font": {
         "color": "RebeccaPurple",
         "family": "Courier New, monospace",
         "size": 18
        },
        "template": {
         "data": {
          "bar": [
           {
            "error_x": {
             "color": "#2a3f5f"
            },
            "error_y": {
             "color": "#2a3f5f"
            },
            "marker": {
             "line": {
              "color": "#E5ECF6",
              "width": 0.5
             }
            },
            "type": "bar"
           }
          ],
          "barpolar": [
           {
            "marker": {
             "line": {
              "color": "#E5ECF6",
              "width": 0.5
             }
            },
            "type": "barpolar"
           }
          ],
          "carpet": [
           {
            "aaxis": {
             "endlinecolor": "#2a3f5f",
             "gridcolor": "white",
             "linecolor": "white",
             "minorgridcolor": "white",
             "startlinecolor": "#2a3f5f"
            },
            "baxis": {
             "endlinecolor": "#2a3f5f",
             "gridcolor": "white",
             "linecolor": "white",
             "minorgridcolor": "white",
             "startlinecolor": "#2a3f5f"
            },
            "type": "carpet"
           }
          ],
          "choropleth": [
           {
            "colorbar": {
             "outlinewidth": 0,
             "ticks": ""
            },
            "type": "choropleth"
           }
          ],
          "contour": [
           {
            "colorbar": {
             "outlinewidth": 0,
             "ticks": ""
            },
            "colorscale": [
             [
              0,
              "#0d0887"
             ],
             [
              0.1111111111111111,
              "#46039f"
             ],
             [
              0.2222222222222222,
              "#7201a8"
             ],
             [
              0.3333333333333333,
              "#9c179e"
             ],
             [
              0.4444444444444444,
              "#bd3786"
             ],
             [
              0.5555555555555556,
              "#d8576b"
             ],
             [
              0.6666666666666666,
              "#ed7953"
             ],
             [
              0.7777777777777778,
              "#fb9f3a"
             ],
             [
              0.8888888888888888,
              "#fdca26"
             ],
             [
              1,
              "#f0f921"
             ]
            ],
            "type": "contour"
           }
          ],
          "contourcarpet": [
           {
            "colorbar": {
             "outlinewidth": 0,
             "ticks": ""
            },
            "type": "contourcarpet"
           }
          ],
          "heatmap": [
           {
            "colorbar": {
             "outlinewidth": 0,
             "ticks": ""
            },
            "colorscale": [
             [
              0,
              "#0d0887"
             ],
             [
              0.1111111111111111,
              "#46039f"
             ],
             [
              0.2222222222222222,
              "#7201a8"
             ],
             [
              0.3333333333333333,
              "#9c179e"
             ],
             [
              0.4444444444444444,
              "#bd3786"
             ],
             [
              0.5555555555555556,
              "#d8576b"
             ],
             [
              0.6666666666666666,
              "#ed7953"
             ],
             [
              0.7777777777777778,
              "#fb9f3a"
             ],
             [
              0.8888888888888888,
              "#fdca26"
             ],
             [
              1,
              "#f0f921"
             ]
            ],
            "type": "heatmap"
           }
          ],
          "heatmapgl": [
           {
            "colorbar": {
             "outlinewidth": 0,
             "ticks": ""
            },
            "colorscale": [
             [
              0,
              "#0d0887"
             ],
             [
              0.1111111111111111,
              "#46039f"
             ],
             [
              0.2222222222222222,
              "#7201a8"
             ],
             [
              0.3333333333333333,
              "#9c179e"
             ],
             [
              0.4444444444444444,
              "#bd3786"
             ],
             [
              0.5555555555555556,
              "#d8576b"
             ],
             [
              0.6666666666666666,
              "#ed7953"
             ],
             [
              0.7777777777777778,
              "#fb9f3a"
             ],
             [
              0.8888888888888888,
              "#fdca26"
             ],
             [
              1,
              "#f0f921"
             ]
            ],
            "type": "heatmapgl"
           }
          ],
          "histogram": [
           {
            "marker": {
             "colorbar": {
              "outlinewidth": 0,
              "ticks": ""
             }
            },
            "type": "histogram"
           }
          ],
          "histogram2d": [
           {
            "colorbar": {
             "outlinewidth": 0,
             "ticks": ""
            },
            "colorscale": [
             [
              0,
              "#0d0887"
             ],
             [
              0.1111111111111111,
              "#46039f"
             ],
             [
              0.2222222222222222,
              "#7201a8"
             ],
             [
              0.3333333333333333,
              "#9c179e"
             ],
             [
              0.4444444444444444,
              "#bd3786"
             ],
             [
              0.5555555555555556,
              "#d8576b"
             ],
             [
              0.6666666666666666,
              "#ed7953"
             ],
             [
              0.7777777777777778,
              "#fb9f3a"
             ],
             [
              0.8888888888888888,
              "#fdca26"
             ],
             [
              1,
              "#f0f921"
             ]
            ],
            "type": "histogram2d"
           }
          ],
          "histogram2dcontour": [
           {
            "colorbar": {
             "outlinewidth": 0,
             "ticks": ""
            },
            "colorscale": [
             [
              0,
              "#0d0887"
             ],
             [
              0.1111111111111111,
              "#46039f"
             ],
             [
              0.2222222222222222,
              "#7201a8"
             ],
             [
              0.3333333333333333,
              "#9c179e"
             ],
             [
              0.4444444444444444,
              "#bd3786"
             ],
             [
              0.5555555555555556,
              "#d8576b"
             ],
             [
              0.6666666666666666,
              "#ed7953"
             ],
             [
              0.7777777777777778,
              "#fb9f3a"
             ],
             [
              0.8888888888888888,
              "#fdca26"
             ],
             [
              1,
              "#f0f921"
             ]
            ],
            "type": "histogram2dcontour"
           }
          ],
          "mesh3d": [
           {
            "colorbar": {
             "outlinewidth": 0,
             "ticks": ""
            },
            "type": "mesh3d"
           }
          ],
          "parcoords": [
           {
            "line": {
             "colorbar": {
              "outlinewidth": 0,
              "ticks": ""
             }
            },
            "type": "parcoords"
           }
          ],
          "pie": [
           {
            "automargin": true,
            "type": "pie"
           }
          ],
          "scatter": [
           {
            "marker": {
             "colorbar": {
              "outlinewidth": 0,
              "ticks": ""
             }
            },
            "type": "scatter"
           }
          ],
          "scatter3d": [
           {
            "line": {
             "colorbar": {
              "outlinewidth": 0,
              "ticks": ""
             }
            },
            "marker": {
             "colorbar": {
              "outlinewidth": 0,
              "ticks": ""
             }
            },
            "type": "scatter3d"
           }
          ],
          "scattercarpet": [
           {
            "marker": {
             "colorbar": {
              "outlinewidth": 0,
              "ticks": ""
             }
            },
            "type": "scattercarpet"
           }
          ],
          "scattergeo": [
           {
            "marker": {
             "colorbar": {
              "outlinewidth": 0,
              "ticks": ""
             }
            },
            "type": "scattergeo"
           }
          ],
          "scattergl": [
           {
            "marker": {
             "colorbar": {
              "outlinewidth": 0,
              "ticks": ""
             }
            },
            "type": "scattergl"
           }
          ],
          "scattermapbox": [
           {
            "marker": {
             "colorbar": {
              "outlinewidth": 0,
              "ticks": ""
             }
            },
            "type": "scattermapbox"
           }
          ],
          "scatterpolar": [
           {
            "marker": {
             "colorbar": {
              "outlinewidth": 0,
              "ticks": ""
             }
            },
            "type": "scatterpolar"
           }
          ],
          "scatterpolargl": [
           {
            "marker": {
             "colorbar": {
              "outlinewidth": 0,
              "ticks": ""
             }
            },
            "type": "scatterpolargl"
           }
          ],
          "scatterternary": [
           {
            "marker": {
             "colorbar": {
              "outlinewidth": 0,
              "ticks": ""
             }
            },
            "type": "scatterternary"
           }
          ],
          "surface": [
           {
            "colorbar": {
             "outlinewidth": 0,
             "ticks": ""
            },
            "colorscale": [
             [
              0,
              "#0d0887"
             ],
             [
              0.1111111111111111,
              "#46039f"
             ],
             [
              0.2222222222222222,
              "#7201a8"
             ],
             [
              0.3333333333333333,
              "#9c179e"
             ],
             [
              0.4444444444444444,
              "#bd3786"
             ],
             [
              0.5555555555555556,
              "#d8576b"
             ],
             [
              0.6666666666666666,
              "#ed7953"
             ],
             [
              0.7777777777777778,
              "#fb9f3a"
             ],
             [
              0.8888888888888888,
              "#fdca26"
             ],
             [
              1,
              "#f0f921"
             ]
            ],
            "type": "surface"
           }
          ],
          "table": [
           {
            "cells": {
             "fill": {
              "color": "#EBF0F8"
             },
             "line": {
              "color": "white"
             }
            },
            "header": {
             "fill": {
              "color": "#C8D4E3"
             },
             "line": {
              "color": "white"
             }
            },
            "type": "table"
           }
          ]
         },
         "layout": {
          "annotationdefaults": {
           "arrowcolor": "#2a3f5f",
           "arrowhead": 0,
           "arrowwidth": 1
          },
          "coloraxis": {
           "colorbar": {
            "outlinewidth": 0,
            "ticks": ""
           }
          },
          "colorscale": {
           "diverging": [
            [
             0,
             "#8e0152"
            ],
            [
             0.1,
             "#c51b7d"
            ],
            [
             0.2,
             "#de77ae"
            ],
            [
             0.3,
             "#f1b6da"
            ],
            [
             0.4,
             "#fde0ef"
            ],
            [
             0.5,
             "#f7f7f7"
            ],
            [
             0.6,
             "#e6f5d0"
            ],
            [
             0.7,
             "#b8e186"
            ],
            [
             0.8,
             "#7fbc41"
            ],
            [
             0.9,
             "#4d9221"
            ],
            [
             1,
             "#276419"
            ]
           ],
           "sequential": [
            [
             0,
             "#0d0887"
            ],
            [
             0.1111111111111111,
             "#46039f"
            ],
            [
             0.2222222222222222,
             "#7201a8"
            ],
            [
             0.3333333333333333,
             "#9c179e"
            ],
            [
             0.4444444444444444,
             "#bd3786"
            ],
            [
             0.5555555555555556,
             "#d8576b"
            ],
            [
             0.6666666666666666,
             "#ed7953"
            ],
            [
             0.7777777777777778,
             "#fb9f3a"
            ],
            [
             0.8888888888888888,
             "#fdca26"
            ],
            [
             1,
             "#f0f921"
            ]
           ],
           "sequentialminus": [
            [
             0,
             "#0d0887"
            ],
            [
             0.1111111111111111,
             "#46039f"
            ],
            [
             0.2222222222222222,
             "#7201a8"
            ],
            [
             0.3333333333333333,
             "#9c179e"
            ],
            [
             0.4444444444444444,
             "#bd3786"
            ],
            [
             0.5555555555555556,
             "#d8576b"
            ],
            [
             0.6666666666666666,
             "#ed7953"
            ],
            [
             0.7777777777777778,
             "#fb9f3a"
            ],
            [
             0.8888888888888888,
             "#fdca26"
            ],
            [
             1,
             "#f0f921"
            ]
           ]
          },
          "colorway": [
           "#636efa",
           "#EF553B",
           "#00cc96",
           "#ab63fa",
           "#FFA15A",
           "#19d3f3",
           "#FF6692",
           "#B6E880",
           "#FF97FF",
           "#FECB52"
          ],
          "font": {
           "color": "#2a3f5f"
          },
          "geo": {
           "bgcolor": "white",
           "lakecolor": "white",
           "landcolor": "#E5ECF6",
           "showlakes": true,
           "showland": true,
           "subunitcolor": "white"
          },
          "hoverlabel": {
           "align": "left"
          },
          "hovermode": "closest",
          "mapbox": {
           "style": "light"
          },
          "paper_bgcolor": "white",
          "plot_bgcolor": "#E5ECF6",
          "polar": {
           "angularaxis": {
            "gridcolor": "white",
            "linecolor": "white",
            "ticks": ""
           },
           "bgcolor": "#E5ECF6",
           "radialaxis": {
            "gridcolor": "white",
            "linecolor": "white",
            "ticks": ""
           }
          },
          "scene": {
           "xaxis": {
            "backgroundcolor": "#E5ECF6",
            "gridcolor": "white",
            "gridwidth": 2,
            "linecolor": "white",
            "showbackground": true,
            "ticks": "",
            "zerolinecolor": "white"
           },
           "yaxis": {
            "backgroundcolor": "#E5ECF6",
            "gridcolor": "white",
            "gridwidth": 2,
            "linecolor": "white",
            "showbackground": true,
            "ticks": "",
            "zerolinecolor": "white"
           },
           "zaxis": {
            "backgroundcolor": "#E5ECF6",
            "gridcolor": "white",
            "gridwidth": 2,
            "linecolor": "white",
            "showbackground": true,
            "ticks": "",
            "zerolinecolor": "white"
           }
          },
          "shapedefaults": {
           "line": {
            "color": "#2a3f5f"
           }
          },
          "ternary": {
           "aaxis": {
            "gridcolor": "white",
            "linecolor": "white",
            "ticks": ""
           },
           "baxis": {
            "gridcolor": "white",
            "linecolor": "white",
            "ticks": ""
           },
           "bgcolor": "#E5ECF6",
           "caxis": {
            "gridcolor": "white",
            "linecolor": "white",
            "ticks": ""
           }
          },
          "title": {
           "x": 0.05
          },
          "xaxis": {
           "automargin": true,
           "gridcolor": "white",
           "linecolor": "white",
           "ticks": "",
           "title": {
            "standoff": 15
           },
           "zerolinecolor": "white",
           "zerolinewidth": 2
          },
          "yaxis": {
           "automargin": true,
           "gridcolor": "white",
           "linecolor": "white",
           "ticks": "",
           "title": {
            "standoff": 15
           },
           "zerolinecolor": "white",
           "zerolinewidth": 2
          }
         }
        },
        "title": {
         "text": "Overall rating distribution"
        },
        "xaxis": {
         "title": {
          "text": "Rating"
         }
        },
        "yaxis": {
         "title": {
          "text": "Number of app"
         }
        }
       }
      },
      "text/html": [
       "<div>                            <div id=\"089b43eb-76a2-418a-87a8-7e2a21728c5f\" class=\"plotly-graph-div\" style=\"height:525px; width:100%;\"></div>            <script type=\"text/javascript\">                require([\"plotly\"], function(Plotly) {                    window.PLOTLYENV=window.PLOTLYENV || {};                                    if (document.getElementById(\"089b43eb-76a2-418a-87a8-7e2a21728c5f\")) {                    Plotly.newPlot(                        \"089b43eb-76a2-418a-87a8-7e2a21728c5f\",                        [{\"type\": \"histogram\", \"x\": [4.5, 4.3, 4.2, 4.3, 4.1, 4.4, 4.4, 4.0, 4.3, 4.2, 4.3, 4.5, 4.3, 4.4, 4.4, 4.3, 4.0, 4.4, 4.7, 4.8, 4.4, 4.2, 4.1, 3.7, 3.8, 4.2, 4.4, 4.4, 4.2, 3.2, 4.0, 4.2, 3.7, 4.1, 4.5, 4.1, 4.5, 4.3, 4.0, 4.5, 4.5, 4.1, 4.0, 4.1, 4.1, 4.3, 4.4, 4.3, 4.3, 4.6, 4.4, 4.1, 4.3, 4.0, 4.3, 4.2, 4.3, 4.3, 4.4, 4.4, 4.5, 4.2, 4.3, 4.5, 4.6, 4.7, 4.1, 4.6, 4.0, 4.0, 4.4, 3.8, 4.0, 4.3, 4.0, 3.9, 4.2, 4.0, 4.1, 3.8, 3.6, 4.2, 4.1, 4.3, 4.2, 3.9, 4.0, 4.7, 3.9, 4.3, 4.9, 3.8, 3.7, 4.7, 4.3, 4.7, 4.1, 3.7, 4.2, 3.9, 4.2, 4.2, 4.1, 4.0, 3.1, 4.8, 4.0, 3.8, 3.7, 3.1, 3.9, 4.7, 4.2, 3.7, 4.2, 4.1, 4.1, 4.8, 4.6, 4.3, 4.0, 3.9, 3.8, 4.2, 4.0, 3.8, 4.3, 4.2, 4.0, 3.9, 4.2, 4.0, 4.1, 4.2, 3.8, 4.2, 4.3, 4.2, 3.9, 4.3, 4.1, 4.2, 4.3, 4.6, 4.2, 4.2, 3.8, 4.2, 4.3, 3.9, 2.5, 4.1, 4.3, 4.2, 4.4, 4.1, 2.3, 3.2, 4.2, 4.4, 4.2, 4.3, 4.3, 4.1, 4.3, 4.2, 4.1, 4.7, 3.9, 4.2, 4.3, 4.1, 4.4, 4.1, 4.0, 4.1, 4.1, 4.1, 4.0, 4.0, 4.2, 4.3, 4.8, 4.4, 4.3, 4.1, 3.7, 4.5, 4.4, 4.2, 4.2, 4.0, 3.9, 4.4, 4.4, 4.3, 4.2, 4.2, 3.0, 3.9, 4.0, 4.2, 4.5, 3.9, 4.2, 4.3, 4.4, 3.8, 3.9, 4.0, 4.6, 4.2, 4.2, 4.2, 3.9, 4.2, 3.6, 4.0, 4.2, 3.9, 4.4, 4.1, 4.4, 4.0, 4.1, 4.1, 4.0, 4.4, 4.0, 4.7, 4.4, 4.1, 4.3, 4.0, 4.2, 3.9, 4.1, 4.4, 4.2, 4.2, 4.1, 4.2, 4.4, 4.1, 4.3, 4.3, 4.3, 3.8, 3.9, 3.9, 4.5, 4.2, 4.4, 4.3, 4.3, 4.4, 3.8, 3.9, 4.3, 4.2, 3.9, 4.3, 4.0, 4.5, 4.1, 4.4, 3.8, 4.0, 4.1, 3.9, 4.3, 4.1, 4.4, 4.2, 4.2, 4.2, 4.3, 4.6, 4.5, 4.2, 4.4, 4.1, 4.5, 4.4, 4.3, 4.5, 4.2, 4.2, 4.1, 4.4, 4.3, 4.3, 4.2, 4.5, 4.2, 4.3, 4.5, 4.2, 4.4, 4.2, 4.4, 4.3, 4.5, 4.4, 4.3, 4.5, 4.5, 4.1, 4.6, 4.5, 4.2, 4.1, 4.1, 4.6, 4.4, 4.3, 4.2, 4.2, 4.1, 4.3, 4.3, 4.5, 4.4, 4.2, 4.3, 4.3, 4.3, 4.3, 4.2, 4.3, 4.3, 4.6, 4.0, 4.5, 4.2, 4.4, 4.4, 4.2, 4.2, 4.2, 4.3, 4.1, 4.1, 4.4, 4.2, 4.2, 4.1, 4.1, 4.2, 4.2, 4.5, 4.0, 4.1, 4.2, 4.1, 4.0, 4.2, 4.2, 4.2, 4.2, 4.2, 4.3, 4.0, 4.4, 4.2, 4.1, 4.3, 4.1, 4.0, 4.7, 2.8, 4.1, 3.8, 3.5, 4.3, 4.3, 4.3, 4.4, 4.0, 4.3, 4.6, 4.3, 4.1, 4.6, 4.0, 4.5, 4.1, 4.2, 4.3, 4.4, 4.2, 4.1, 4.2, 4.3, 4.6, 4.3, 4.4, 4.2, 4.1, 4.5, 4.3, 4.0, 3.2, 4.1, 4.2, 4.0, 4.2, 4.1, 3.9, 4.2, 4.1, 4.3, 4.2, 4.1, 4.3, 4.3, 4.2, 4.3, 4.2, 4.2, 4.3, 4.4, 4.1, 4.2, 3.9, 4.1, 3.3, 4.3, 3.6, 4.0, 4.5, 3.8, 4.1, 4.4, 4.4, 3.9, 4.3, 4.2, 3.8, 3.8, 4.1, 4.2, 4.3, 4.5, 4.0, 4.2, 4.3, 4.3, 4.2, 4.3, 4.2, 3.6, 4.3, 4.6, 4.5, 3.3, 3.7, 4.2, 4.2, 4.1, 4.1, 4.1, 4.4, 4.3, 4.3, 4.2, 4.1, 3.7, 4.6, 4.0, 4.3, 4.0, 3.4, 4.1, 4.0, 4.3, 4.4, 4.2, 3.9, 4.3, 4.3, 4.2, 4.2, 3.9, 4.3, 4.2, 3.7, 4.2, 4.1, 4.1, 4.2, 4.3, 3.9, 4.3, 3.9, 4.1, 4.0, 4.2, 3.9, 4.3, 4.0, 3.9, 3.8, 4.2, 4.1, 4.1, 4.1, 3.9, 4.2, 4.6, 4.5, 4.4, 4.5, 4.1, 4.1, 4.6, 4.6, 4.4, 4.6, 4.2, 4.5, 4.1, 4.7, 3.9, 3.7, 4.3, 4.3, 4.5, 4.6, 4.3, 4.1, 4.4, 4.4, 4.4, 4.4, 4.1, 4.3, 4.3, 4.2, 4.3, 3.9, 4.5, 4.3, 3.9, 4.3, 3.7, 3.2, 4.1, 4.2, 4.6, 4.3, 3.1, 4.5, 4.1, 4.5, 4.2, 4.6, 4.4, 4.4, 4.3, 3.9, 5.0, 4.6, 4.4, 4.5, 4.3, 4.1, 4.6, 4.4, 4.2, 4.7, 4.6, 4.2, 4.8, 4.5, 4.3, 4.6, 4.2, 4.3, 4.2, 4.5, 4.5, 4.3, 4.4, 4.3, 4.5, 4.4, 4.3, 4.6, 4.4, 4.2, 4.4, 4.4, 4.5, 4.7, 4.5, 4.4, 4.3, 4.4, 4.3, 4.3, 4.5, 4.0, 4.5, 4.3, 4.0, 4.6, 4.4, 4.6, 4.5, 4.1, 3.8, 4.1, 3.8, 4.6, 4.5, 4.6, 4.6, 4.2, 4.0, 4.0, 4.2, 3.9, 4.5, 4.3, 4.1, 4.6, 4.3, 4.4, 4.2, 4.5, 4.4, 4.1, 4.5, 3.6, 4.5, 4.3, 4.5, 4.1, 4.2, 4.2, 4.5, 4.5, 4.3, 4.1, 4.0, 4.2, 4.4, 4.3, 4.4, 4.5, 4.5, 4.3, 4.2, 4.8, 4.3, 4.8, 4.2, 4.6, 4.3, 4.5, 4.5, 4.2, 4.3, 4.2, 4.6, 4.5, 4.4, 4.2, 4.1, 4.3, 4.2, 4.2, 4.3, 4.3, 4.2, 3.8, 4.3, 3.9, 4.5, 4.3, 4.3, 4.5, 4.6, 4.6, 4.4, 4.3, 4.0, 4.7, 4.4, 4.2, 4.1, 4.2, 4.1, 4.5, 4.4, 4.3, 4.0, 4.3, 4.4, 4.1, 4.2, 4.2, 4.3, 4.3, 4.2, 4.3, 4.7, 4.5, 4.7, 4.6, 4.3, 4.3, 4.4, 4.3, 4.4, 4.3, 4.1, 4.4, 4.6, 4.6, 4.0, 4.0, 4.4, 4.2, 4.2, 4.2, 3.9, 4.4, 4.4, 4.6, 4.5, 4.4, 4.0, 4.1, 4.0, 3.8, 4.4, 4.4, 4.3, 4.4, 4.4, 4.4, 4.2, 4.4, 4.1, 4.4, 4.2, 4.2, 4.4, 4.1, 4.3, 4.7, 4.2, 4.3, 4.2, 4.1, 4.2, 4.2, 4.0, 4.2, 4.5, 4.5, 4.5, 4.2, 4.1, 4.5, 4.4, 4.3, 4.2, 4.6, 4.1, 3.8, 4.3, 4.2, 4.5, 4.7, 4.6, 4.4, 4.4, 4.3, 4.5, 4.5, 4.5, 4.4, 4.6, 4.6, 4.1, 4.6, 4.5, 4.3, 4.6, 4.2, 4.6, 4.5, 4.2, 4.5, 4.4, 4.6, 4.3, 4.3, 4.6, 4.5, 4.5, 4.6, 4.8, 4.8, 4.8, 4.5, 4.6, 4.6, 4.8, 4.6, 4.7, 4.6, 4.5, 4.3, 4.5, 4.4, 4.6, 4.6, 4.2, 4.8, 3.9, 4.0, 4.2, 3.6, 4.1, 4.7, 4.9, 4.4, 4.7, 4.6, 4.7, 4.3, 4.5, 4.2, 4.6, 4.2, 4.3, 4.0, 4.2, 4.3, 4.6, 4.5, 4.2, 4.3, 4.5, 4.3, 4.2, 3.9, 4.1, 4.3, 4.2, 4.1, 4.6, 4.5, 3.9, 4.4, 4.4, 4.5, 4.0, 3.9, 4.3, 4.4, 4.4, 4.5, 4.5, 4.1, 4.4, 4.5, 4.5, 4.3, 4.2, 4.3, 4.4, 4.4, 4.2, 4.2, 4.6, 4.3, 4.3, 4.6, 4.0, 4.3, 4.5, 3.9, 4.4, 4.3, 4.2, 4.5, 4.4, 4.6, 4.4, 4.5, 4.7, 4.3, 4.4, 4.3, 4.4, 4.2, 4.4, 4.6, 4.3, 4.3, 4.5, 4.0, 4.4, 4.4, 4.7, 4.5, 4.1, 4.6, 4.4, 4.4, 4.1, 4.3, 4.5, 3.5, 4.4, 4.6, 4.4, 4.5, 4.7, 4.4, 4.3, 4.4, 3.1, 4.5, 4.5, 4.7, 4.4, 4.3, 4.3, 4.2, 4.2, 4.4, 4.5, 4.5, 4.7, 4.6, 4.5, 4.2, 4.1, 4.7, 4.4, 4.2, 4.4, 4.5, 4.5, 4.3, 4.3, 4.1, 4.2, 4.5, 3.9, 4.6, 4.4, 4.5, 4.3, 4.1, 4.6, 3.8, 4.7, 4.4, 3.9, 4.6, 4.8, 4.3, 4.5, 4.6, 4.5, 4.5, 4.4, 4.3, 4.2, 4.3, 4.7, 4.5, 4.2, 4.7, 4.6, 4.5, 4.5, 3.9, 4.4, 4.5, 4.6, 4.3, 4.2, 4.3, 4.3, 4.3, 4.1, 4.2, 4.6, 4.6, 4.6, 4.7, 4.6, 4.6, 4.4, 4.5, 4.7, 4.2, 4.3, 4.1, 4.2, 4.5, 4.4, 4.2, 4.5, 4.6, 4.6, 4.4, 4.3, 3.5, 4.6, 4.6, 4.4, 4.6, 4.5, 4.2, 4.7, 4.5, 4.6, 4.1, 4.2, 4.6, 4.5, 4.6, 4.7, 4.6, 4.6, 4.7, 4.5, 4.6, 4.6, 4.6, 4.6, 4.6, 4.6, 4.6, 4.4, 4.2, 4.5, 4.5, 4.7, 4.7, 4.7, 4.2, 4.6, 4.3, 3.8, 4.7, 4.1, 4.8, 4.5, 4.3, 3.9, 3.0, 4.6, 4.7, 4.4, 4.6, 4.2, 4.5, 4.5, 4.5, 4.4, 4.2, 4.5, 4.8, 4.7, 4.6, 4.7, 4.4, 4.2, 4.3, 4.7, 4.4, 4.1, 4.8, 4.3, 3.4, 4.5, 4.4, 4.7, 4.8, 4.6, 4.5, 4.5, 3.6, 3.6, 4.2, 4.0, 4.0, 2.7, 4.6, 3.7, 4.2, 4.4, 3.1, 3.5, 3.7, 4.0, 4.5, 4.5, 3.9, 4.6, 4.0, 4.2, 1.9, 4.7, 2.8, 4.6, 4.1, 3.7, 3.3, 4.2, 4.0, 4.6, 4.7, 4.6, 4.5, 4.6, 4.3, 4.0, 3.9, 4.4, 4.2, 4.6, 4.8, 4.6, 4.5, 4.2, 4.8, 4.4, 4.5, 4.4, 4.3, 3.8, 3.8, 4.6, 4.4, 4.2, 4.3, 4.3, 4.6, 4.2, 3.4, 4.6, 4.5, 3.2, 4.4, 4.5, 4.5, 4.4, 4.6, 4.4, 4.9, 4.3, 3.9, 4.5, 4.3, 4.6, 4.2, 4.2, 4.2, 4.2, 4.1, 4.2, 4.5, 4.2, 4.4, 4.6, 4.5, 4.2, 4.6, 4.6, 4.6, 4.5, 4.6, 4.0, 4.1, 4.4, 5.0, 4.5, 4.7, 4.8, 4.7, 4.6, 4.0, 4.4, 4.8, 4.4, 4.4, 4.8, 4.5, 4.9, 4.1, 4.3, 4.2, 4.6, 4.6, 4.5, 4.7, 4.8, 4.0, 4.3, 4.3, 4.4, 4.3, 4.7, 5.0, 4.0, 3.9, 4.4, 4.3, 4.4, 4.7, 4.5, 4.5, 3.9, 4.4, 4.5, 4.3, 4.1, 4.2, 4.7, 4.4, 4.6, 4.2, 4.6, 4.8, 3.9, 4.7, 4.4, 4.5, 3.9, 4.6, 4.5, 4.7, 4.6, 4.7, 4.5, 4.1, 4.3, 4.2, 4.7, 4.6, 4.6, 4.1, 4.3, 4.2, 4.0, 4.2, 4.5, 4.6, 4.6, 4.5, 4.2, 4.5, 4.4, 4.6, 4.2, 4.3, 4.6, 4.3, 4.3, 4.6, 4.5, 4.6, 4.3, 4.5, 4.6, 4.5, 4.2, 4.6, 4.3, 4.2, 4.3, 4.7, 4.7, 4.5, 4.6, 4.4, 4.3, 4.4, 4.2, 4.6, 4.8, 4.5, 4.4, 4.3, 4.5, 4.6, 4.8, 4.6, 4.5, 4.4, 4.6, 4.8, 2.9, 4.2, 3.4, 4.0, 3.7, 4.2, 4.4, 3.5, 4.6, 4.8, 4.4, 3.7, 4.1, 4.2, 3.7, 4.0, 4.4, 3.9, 4.3, 4.1, 4.5, 4.7, 4.4, 4.5, 4.0, 4.4, 4.4, 4.0, 4.3, 4.3, 4.0, 4.2, 4.8, 4.3, 4.5, 3.8, 4.5, 4.5, 4.1, 4.4, 4.3, 4.2, 4.1, 4.7, 4.3, 4.3, 4.4, 4.4, 4.3, 4.0, 4.5, 4.0, 4.4, 4.6, 3.7, 4.4, 4.4, 4.3, 4.3, 4.6, 4.3, 4.5, 4.4, 4.3, 4.3, null, 3.8, 4.4, 4.7, 4.3, 4.6, 4.4, 4.2, 4.4, 4.6, 4.1, 4.3, 4.4, 4.4, 4.3, 4.3, 4.5, 4.4, 4.2, 4.3, 4.1, 4.2, 4.1, 4.4, 4.3, 4.3, 4.5, 4.6, 4.4, 4.5, 4.5, 4.8, 4.0, 4.7, 4.3, 4.4, 4.1, 4.4, 4.2, 4.2, 3.8, 4.7, 4.3, 4.6, 4.5, 4.6, 4.3, 4.5, 4.2, 4.5, 4.3, 4.6, 4.6, 4.6, 4.6, 4.4, 4.6, 4.1, 4.5, 4.4, 4.2, 4.4, 4.7, 4.0, 3.5, 4.6, 4.7, 4.5, 4.3, 4.6, 4.1, 4.2, 4.7, 4.7, 4.5, 4.6, 4.4, 3.9, 4.4, 4.2, 4.3, 4.5, 4.3, 4.2, 4.3, 4.4, 4.5, 4.1, 4.0, 4.5, 4.2, 4.4, 4.0, 4.6, 4.5, 4.0, 3.7, 4.5, 4.5, 4.6, 4.1, 4.4, 3.5, 3.8, 4.2, 4.3, 4.0, 4.4, 4.4, 4.6, 4.5, 4.3, 4.2, 3.8, 4.0, 4.2, 4.6, 4.5, 4.4, 2.7, 4.2, 4.3, 4.3, 4.0, 4.5, 4.5, 4.3, 4.2, 4.2, 4.5, 4.2, 4.5, 4.3, 4.4, 4.6, 4.5, 4.3, 4.5, 4.6, 4.4, 4.7, 4.6, 4.4, 4.8, 4.4, 4.5, 4.3, 4.5, 4.5, 3.8, 4.5, 4.2, 4.3, 4.5, 4.3, 4.4, 4.4, 4.6, 4.6, 4.3, 4.2, 4.8, 4.3, 4.5, 4.3, 4.4, 4.5, 4.1, 4.6, 4.4, 4.5, 4.6, 4.1, 4.5, 4.5, 4.5, 4.6, 4.2, 4.5, 4.5, 4.1, 4.2, 4.5, 4.2, 4.3, 4.0, 3.5, 4.4, 4.5, 4.5, 4.4, 4.4, 4.1, 4.5, 4.1, 4.3, 4.2, 4.3, 4.2, 4.2, 4.2, 4.6, 4.6, 4.7, 4.3, 4.6, 4.3, 4.3, 4.5, 4.4, 4.4, 4.7, 4.2, 4.6, 4.5, 4.2, 4.5, 4.1, 4.4, 4.4, 4.5, 4.4, 4.3, 4.4, 4.5, 4.2, 4.2, 4.4, 4.5, 4.4, 4.6, 4.4, 4.4, 4.3, 4.2, 4.4, 4.6, 4.3, 4.5, 4.2, 4.3, 4.5, 4.3, 4.0, 4.1, 4.3, 4.4, 4.1, 4.1, 4.4, 4.3, 4.3, 4.6, 4.2, 4.3, 4.2, 4.6, 4.2, 3.9, 4.5, 4.3, 4.3, 4.4, 4.5, 4.4, 4.6, 4.5, 4.3, 4.4, 4.1, 4.5, 4.2, 4.6, 4.4, 4.1, 4.4, 4.1, 4.0, 4.1, 4.2, 4.0, 4.2, 4.3, 4.0, 4.1, 3.9, 4.3, 4.2, 4.5, 4.2, 4.6, 4.2, 4.6, 4.5, 4.6, 4.3, 4.0, 4.4, 4.5, 4.7, 4.1, 4.3, 4.5, 3.9, 4.3, 4.5, 4.3, 4.5, 4.3, 4.1, 4.3, 3.8, 4.0, 4.4, 4.0, 4.1, 4.4, 4.0, 4.3, 4.5, 4.3, 4.4, 4.2, 3.9, 3.8, 4.8, 3.6, 4.5, 4.8, 4.1, 2.2, 4.7, 4.8, 4.2, 4.6, 3.7, 4.7, 4.8, 3.6, 4.7, 4.3, 3.8, 4.6, 3.8, 4.0, 4.6, 4.7, 3.4, 4.6, 4.3, 3.2, 3.3, 3.5, 3.4, 3.7, 3.4, 4.6, 3.5, 4.2, 4.7, 3.0, 4.3, 3.9, 4.6, 4.7, 4.6, 4.2, 4.1, 4.0, 3.6, 4.6, 4.4, 4.2, 3.7, 4.6, 4.5, 3.6, 4.4, 4.2, 4.1, 4.4, 4.1, 4.2, 4.5, 4.4, 4.4, 4.3, 4.0, 4.3, 4.3, 4.4, 4.2, 4.1, 4.5, 4.0, 4.4, 4.4, 4.1, 4.4, 4.3, 4.6, 4.4, 4.3, 3.9, 3.6, 4.1, 4.5, 4.4, 4.3, 4.6, 4.4, 4.4, 4.4, 4.6, 4.7, 4.7, 4.1, 4.4, 4.7, 4.9, 4.6, 4.2, 4.5, 4.1, 4.6, 4.3, 4.6, 4.3, 4.5, 4.5, 4.7, 4.8, 4.2, 3.8, 4.5, 4.5, 4.3, 4.7, 4.4, 4.4, 4.8, 4.9, 4.0, 4.6, 4.8, 4.8, 4.8, 4.6, 4.4, 3.9, 4.4, 4.1, 4.4, 4.1, 4.3, 4.2, 4.2, 4.6, 4.6, 4.2, 4.0, 4.3, 4.3, 4.4, 4.3, 4.6, 4.0, 4.4, 4.6, 4.2, 4.6, 4.4, 4.3, 4.6, 3.9, 4.6, 3.7, 4.4, 4.2, 4.2, 4.3, 4.3, 4.6, 3.7, 4.3, 4.2, 3.6, 3.9, 4.4, 4.6, 3.5, 3.8, 4.2, 4.2, 4.5, 4.6, 4.5, 4.3, 4.3, 4.0, 4.4, 4.1, 4.3, 4.6, 4.6, 4.5, 4.4, 4.3, 4.5, 4.3, 4.5, 4.5, 4.1, 3.9, 4.6, 4.4, 4.3, 4.6, 4.4, 4.1, 4.6, 4.3, 4.4, 4.6, 4.3, 4.1, 4.5, 4.4, 4.4, 4.2, 4.3, 4.5, 4.4, 4.3, 4.1, 4.2, 4.4, 4.4, 4.7, 4.4, 4.7, 4.3, 4.5, 4.2, 4.2, 4.3, 4.6, 4.7, 4.3, 4.8, 4.2, 4.2, 3.9, 4.7, 4.3, 4.4, 4.4, 4.2, 4.5, 3.6, 4.7, 4.3, 4.5, 4.1, 3.8, 4.0, 4.5, 4.0, 4.1, 4.3, 4.1, 4.2, 4.5, 4.5, 4.5, 3.7, 4.5, 4.6, 4.4, 4.0, 4.6, 4.7, 4.6, 4.8, 4.2, 4.4, 4.3, 4.3, 4.2, 4.5, 4.2, 4.2, 4.3, 4.3, 4.5, 4.8, 4.5, 4.4, 4.3, 4.1, 4.0, 4.6, 4.5, 4.6, 4.5, 3.6, 4.4, 4.3, 4.1, 4.3, 4.7, 3.9, 4.3, 4.3, 3.1, 4.7, 4.4, 4.3, 4.6, 3.7, 4.6, 4.6, 4.2, 4.8, 3.7, 4.5, 4.7, 4.5, 4.2, 4.2, 4.1, 4.5, 4.4, 4.3, 4.8, 4.1, 4.3, 4.2, 4.2, 4.5, 3.9, 4.8, 4.8, 4.0, 4.5, 4.1, 4.8, 4.8, 4.6, 4.5, 4.4, 4.5, 4.3, 4.3, 4.0, 4.7, 4.3, 4.4, 4.3, 4.2, 4.0, 4.5, 4.8, 4.6, 4.1, 4.5, 4.4, 4.6, 4.4, 4.6, 4.6, 4.6, 4.5, 4.5, 3.6, 4.8, 4.5, 4.5, 4.5, 4.5, 4.2, 4.7, 4.1, 4.4, 4.1, 4.2, 4.4, 4.6, 4.1, 4.8, 4.9, 4.1, 4.0, 3.4, 3.8, 4.2, 3.8, 4.1, 3.8, 4.0, 4.6, 4.4, 3.7, 4.8, 3.2, 4.3, 4.2, 3.8, 3.9, 4.5, 3.3, 4.1, 3.9, 4.1, 4.7, 3.3, 4.6, 4.6, 4.4, 4.4, 4.4, 3.6, 4.4, 4.5, 4.2, 4.4, 4.1, 3.7, 4.5, 4.4, 4.7, 2.5, 4.4, 4.2, 4.3, 4.6, 4.3, 4.5, 3.3, 4.4, 4.4, 4.3, 4.4, 4.6, 4.6, 4.6, 3.2, 4.7, 4.2, 4.2, 4.3, 4.5, 4.1, 4.4, 4.9, 4.4, 4.3, 3.7, 4.4, 4.5, 4.6, 4.6, 4.0, 4.2, 4.6, 4.3, 4.3, 4.7, 4.5, 4.4, 4.5, 4.7, 3.6, 4.6, 4.1, 4.1, 3.7, 4.0, 4.2, 3.6, 3.7, 4.0, 4.4, 4.5, 4.3, 4.5, 4.5, 4.3, 4.4, 4.0, 3.9, 4.1, 4.5, 4.6, 4.5, 3.8, 4.5, 4.4, 4.5, 4.2, 4.4, 4.1, 4.5, 4.5, 4.5, 4.5, 4.4, 4.7, 4.2, 3.6, 4.3, 4.4, 4.8, 4.3, 4.6, 4.4, 3.9, 4.6, 4.4, 4.4, 4.5, 4.5, 4.1, 4.4, 4.3, 4.6, 4.3, 4.6, 4.5, 4.5, 3.8, 4.5, 4.2, 3.7, 2.6, 3.4, 4.6, 3.2, 4.7, 4.4, 4.5, 4.3, 4.5, 4.3, 4.8, 4.6, 4.7, 4.6, 4.6, 4.3, 4.0, 4.6, 3.6, 4.0, 4.3, 4.6, 4.9, 4.0, 4.4, 3.8, 4.7, 4.6, 4.6, 4.7, 4.4, 4.5, 4.3, 3.9, 4.3, 3.6, 4.1, 4.1, 3.2, 3.9, 4.5, 4.2, 4.5, 4.5, 4.8, 4.4, 4.6, 4.6, 4.2, 3.8, 4.6, 3.9, 3.9, 4.0, 3.9, 4.3, 4.3, 3.8, 3.5, 3.8, 4.1, 4.4, 3.7, 4.1, 4.1, 4.2, 4.2, 4.1, 4.0, 4.1, 4.2, 4.4, 4.0, 4.0, 4.2, 2.7, 4.4, 4.4, 3.4, 3.8, 4.4, 4.5, 4.3, 4.3, null, 3.4, 4.5, 3.3, 4.5, 4.7, 4.1, 4.3, 4.1, 4.7, 4.6, 4.3, 4.4, 4.7, 4.7, 3.1, 4.9, 2.6, 4.3, 3.5, 4.4, 4.8, 4.1, 4.4, 3.7, 3.0, 4.2, 3.8, 4.5, 4.7, 4.5, 4.4, 4.5, 4.2, 3.7, 4.0, 4.4, 4.4, 4.7, 3.9, 4.0, 4.5, 4.4, 4.5, 4.5, 4.7, 4.1, 4.5, 4.7, 4.3, 3.8, 4.3, 4.3, 3.4, 4.1, 4.1, 4.7, 4.5, 4.3, 4.2, 4.7, 4.8, 4.5, 4.3, 4.7, 4.7, 4.5, 4.7, 4.7, 4.7, 4.6, 4.6, 4.5, 4.3, 4.3, 4.3, 4.1, 4.8, 4.6, 4.6, 4.6, 4.6, 4.3, 4.4, 4.5, 4.7, 4.7, 4.8, 4.4, 4.6, 3.9, 4.2, 4.4, 4.6, 4.5, 4.3, 4.6, 4.3, 4.4, 4.3, 4.4, 4.4, 4.4, 4.3, 4.4, 4.2, 4.6, 4.5, 4.1, 4.3, 4.7, 3.7, 4.7, 4.6, 4.0, 4.6, 3.3, 4.4, 4.3, 4.1, 4.1, 3.6, 2.5, 4.6, 4.0, 4.2, 4.6, 2.9, 4.3, 4.2, 4.2, 4.7, 4.2, 4.5, 4.4, 4.3, 4.8, 4.3, 2.5, 4.5, 4.6, 4.3, 4.4, 3.4, 3.8, 4.8, 4.2, 4.3, null, 4.7, 3.1, null, 4.6, 4.4, 1.5, 4.5, 4.5, 3.1, 3.3, 4.7, 4.5, 3.8, 3.9, 4.5, 3.4, 4.1, 4.4, 4.3, 4.4, 4.6, 4.4, 4.2, 4.4, 4.6, 4.6, 4.7, 3.7, 4.4, 4.2, 2.8, 4.6, 3.5, 4.6, 2.8, 4.3, 4.6, 4.1, 4.5, 4.6, 4.4, 4.7, 4.4, 4.4, 4.4, 4.6, 4.5, 4.6, 4.4, 3.6, 4.7, 4.5, 3.8, 4.5, 4.6, 4.5, 4.2, 4.4, 4.6, 4.8, 4.1, 4.4, 4.5, 4.1, 4.1, 3.6, 4.1, 4.6, null, null, 4.8, 4.5, 4.4, 4.4, 4.0, 4.3, 4.0, 4.5, 3.7, 4.1, 3.2, 2.9, 4.5, 3.8, 3.6, 4.6, 3.1, 4.8, 4.6, 4.1, 3.8, 3.9, 4.6, 4.3, 4.6, 3.8, 4.8, 2.8, 4.8, 4.9, 4.0, 4.1, 4.2, 4.8, 4.5, 3.7, 3.9, 4.5, 4.6, 4.3, 4.1, 2.7, 4.3, 4.4, 2.8, 4.4, 4.2, 4.6, 4.0, 3.9, 4.2, 4.1, 4.5, 3.9, 4.5, 4.2, 4.0, 4.6, 4.0, 3.7, 4.0, 4.1, 3.5, 4.5, 2.9, 4.1, 3.6, 3.6, 4.0, 4.1, 3.8, 4.3, 4.9, 4.3, 4.0, 4.0, 3.5, 4.3, 2.9, 4.5, 3.8, 4.3, 4.4, 3.4, 4.2, 4.7, 4.1, 4.0, 4.5, 4.3, 4.3, 4.5, 4.6, 4.2, 4.3, 4.4, 3.5, 4.3, 4.3, 4.4, 4.5, 4.1, 4.4, 3.1, 4.4, 4.3, 4.1, 4.1, 3.9, 4.5, 4.3, 4.6, 4.2, 3.7, 4.3, 4.2, 4.5, 4.2, 4.4, 4.0, 4.2, 4.2, 4.0, 4.2, 3.4, 4.3, 4.6, 4.6, 4.5, 4.5, 4.3, 4.4, 4.6, 2.7, 4.6, 4.0, 4.7, 3.6, 2.7, 3.8, 3.8, 3.6, 4.7, 4.4, 3.2, 3.9, 4.4, 4.7, 4.5, 4.5, 4.0, 4.1, 4.0, 4.4, 4.0, 4.2, 2.4, 4.4, 4.8, 4.3, 4.6, 4.3, 4.7, 4.5, 4.3, 4.7, 3.8, 4.5, 4.7, 4.6, 3.9, 4.8, 3.9, 4.6, 4.4, 4.0, 4.0, 4.6, 4.5, 4.7, 4.4, 4.6, 4.2, 4.2, 3.7, 4.3, 4.1, 4.5, 4.1, 4.6, 4.0, 4.2, 4.1, 4.5, 4.7, 3.9, 4.4, 4.5, 4.0, 4.4, 4.3, 4.7, 4.3, 4.4, 4.5, 2.7, 4.4, 4.4, 3.8, 4.4, 4.5, 4.1, 4.5, 4.2, 4.3, 4.6, 4.4, 4.2, 4.4, 4.5, 4.8, 4.6, 4.5, 4.3, 4.3, 4.8, 4.4, 4.3, 4.5, 4.4, 4.5, 4.5, 4.4, 4.8, 4.8, 4.5, 4.2, 4.3, 2.7, 2.9, 4.7, 3.2, 3.3, 4.8, 4.1, 4.6, 4.2, 4.8, 4.4, 4.2, 3.4, 4.4, 4.3, 4.6, 3.7, 3.9, 4.1, 4.1, 4.0, 4.0, 4.4, 4.2, 4.1, 4.4, 3.9, 3.6, 4.7, 4.7, 3.8, 4.2, 3.7, 4.2, 4.5, 2.4, 3.8, 2.8, 4.0, 4.3, 4.7, 4.7, 2.3, 4.7, 4.4, 3.5, 3.6, 3.7, 4.6, 4.0, 4.6, 4.5, 2.9, 4.5, 4.7, 4.0, 3.2, 4.1, 3.8, 2.9, 4.4, 4.0, 4.3, 4.6, 4.5, 4.5, 4.3, 4.6, 4.6, 3.1, 4.3, 3.2, 4.3, 4.2, 4.5, 4.4, 4.5, 4.4, 4.6, 4.1, 4.4, 4.0, 4.3, 4.0, 4.6, 4.5, 4.2, 4.5, 4.6, 3.8, 4.3, 4.4, 4.5, 3.8, 4.4, 4.5, 4.5, 4.7, 4.7, 4.2, 2.7, 4.4, 4.4, 4.1, 3.9, 4.4, 3.7, 4.6, 3.5, 4.3, 3.9, 4.1, 4.5, 4.5, 4.0, 4.5, 4.1, 4.5, 4.7, 4.2, 4.4, 3.8, 4.3, 4.4, 4.3, 3.8, 4.3, 4.2, 3.5, 4.5, 4.1, 3.9, 4.5, 4.3, 4.3, 4.3, 4.0, 4.2, 4.1, 4.4, 4.4, 4.4, 4.4, 4.3, 4.3, 3.5, 4.1, 4.4, 4.4, 4.3, 3.0, 3.6, 4.2, 4.0, 4.1, 3.5, 4.3, 4.1, 4.1, 4.3, 4.4, 3.9, 4.7, 4.0, 4.5, 4.2, 4.7, 4.6, 3.8, 4.2, 4.3, 4.6, 4.4, 4.6, 4.1, 4.0, 4.5, 3.6, 4.3, 4.6, 3.6, 4.3, 3.9, 4.3, 4.6, 4.5, 4.4, 4.2, 4.6, 3.6, 3.8, 4.1, 3.4, 4.5, 3.9, 4.4, 3.4, 4.3, 4.4, 4.6, 4.2, 4.3, 4.3, 3.4, 4.3, 4.5, 4.3, 4.3, 4.4, 4.2, 4.3, 4.4, 4.5, 3.3, 4.5, 4.8, 4.6, 4.8, 4.7, 4.2, 4.4, 4.4, 4.6, 4.3, 4.4, 4.2, 4.2, 4.4, 4.8, 4.4, 4.1, 4.4, 3.4, 4.1, 4.1, 4.5, 4.3, 4.7, 4.6, 4.2, 4.7, 4.5, 3.9, 4.7, 4.5, 4.1, 4.1, 4.2, 4.7, 4.2, 3.8, 4.3, 4.5, 4.3, 4.5, 4.2, 4.4, 4.5, 3.5, 4.4, 3.8, 4.1, 4.4, 4.2, 4.5, 4.6, 4.7, 4.3, 4.4, 3.5, 4.2, 4.2, 3.6, 4.6, 3.9, 4.7, 3.8, 4.4, 3.7, 3.8, 4.2, 4.6, 3.5, 4.1, 3.5, 4.7, 4.2, 4.5, 3.8, 3.3, 4.3, 4.2, 4.6, 3.8, 4.3, 4.3, 4.4, 4.1, 4.7, 4.4, 3.5, 3.7, 4.8, 2.8, 4.4, 3.6, 4.3, 4.6, 4.6, 2.6, 4.5, 3.9, 4.7, 4.1, 4.4, 4.4, 3.6, 3.9, 3.5, 3.7, 4.2, 4.2, 4.4, 2.5, 2.5, 4.0, 4.0, 3.7, 4.8, 4.5, 4.7, 4.4, 4.0, 4.4, 4.4, 4.3, 4.2, 4.3, 4.3, 4.7, 4.4, 4.2, 4.5, 4.4, 4.6, 3.3, 4.6, 4.3, 3.2, null, 4.2, 4.7, 4.2, 4.1, 4.1, 3.9, 4.4, null, 4.6, 4.2, 4.6, 3.7, 5.0, 3.0, 4.4, 3.9, 4.5, 4.0, 4.3, 4.6, 3.7, null, 3.7, null, 4.2, 4.5, 3.3, 4.2, 3.8, 3.8, 4.2, 4.6, 4.4, 4.3, 4.2, 3.8, 4.1, 4.4, 4.6, null, 4.0, 4.0, 4.0, 4.3, 4.3, 3.7, 3.4, 4.0, 3.5, 4.4, 2.7, 4.4, 3.1, 4.6, 4.3, 4.7, 4.4, 4.3, 3.7, 3.8, 4.2, 3.8, 3.4, 3.0, 4.6, 3.6, 4.1, 4.2, 3.4, 4.2, 4.3, 4.5, 4.4, 4.4, 4.7, 4.2, 3.7, 4.3, 4.1, 4.0, 4.4, 4.5, 4.8, 4.3, 4.0, 4.3, 4.1, 4.0, null, 3.9, 4.1, 3.5, null, null, null, 3.8, 4.2, 3.7, 3.9, 3.8, null, 4.2, 3.1, 3.9, null, 4.3, 3.8, null, 4.1, 3.9, 4.3, 4.5, 4.4, 4.5, 4.0, 3.9, 4.4, 4.0, 4.1, 2.6, 4.3, 3.4, 4.6, 4.5, 4.5, 4.7, 4.6, 4.3, 4.3, 4.6, 4.5, 3.3, 3.8, 4.9, 4.1, 4.8, 4.4, 3.9, 4.6, 3.7, 4.8, 4.8, 4.5, 4.8, 4.6, 4.8, 4.9, 3.8, 3.7, 4.5, 3.3, 4.4, 4.9, 4.3, 3.3, 4.4, 4.5, 4.3, 4.3, 3.8, 4.2, 4.1, 4.5, 4.6, 3.8, 3.6, 4.3, 4.4, 4.3, 4.3, 4.6, 3.7, 4.0, 4.7, 4.4, 4.1, 4.4, 4.5, 4.3, 3.9, 3.6, 4.2, 4.4, 4.6, 4.3, 4.5, 4.3, 3.4, 4.6, 4.0, 4.3, 4.4, 4.6, 4.3, 4.0, 4.0, 3.8, 4.3, 3.9, 4.7, 4.6, 3.8, 4.3, 3.2, 4.5, 3.9, 4.5, 4.8, 4.3, 4.1, 4.1, 3.9, 4.5, 4.9, 4.4, 4.6, 4.7, 3.8, 3.2, 3.6, 3.4, 4.5, 4.2, 3.9, 5.0, 4.0, 3.2, null, 4.8, null, 3.4, 4.4, 4.3, null, 3.6, 4.0, 4.0, 3.8, 3.5, 4.1, 4.3, 3.7, 3.9, 4.7, 4.6, 3.9, 4.1, 4.0, 4.6, 4.3, 3.1, 4.4, 4.4, 4.1, 4.2, 4.4, 4.7, 4.2, 4.4, 4.5, 3.9, 4.5, 4.4, 4.3, 4.3, 3.3, 4.5, 4.6, 4.7, 3.6, 4.3, 4.0, 4.2, 4.1, 4.7, 3.8, 4.1, 3.9, 3.8, 4.2, 4.5, 4.0, 3.7, 3.7, 3.7, 4.5, 4.0, 4.5, 4.4, 4.7, 3.8, 4.2, 4.5, 2.7, 4.1, 3.7, 3.6, 3.8, 4.8, 4.1, 4.2, 4.5, 4.4, 3.9, 3.5, 3.6, 3.8, 4.5, 4.3, 3.9, 4.5, 3.3, 2.7, 3.9, 3.8, 4.3, 4.7, 4.2, 4.3, 4.5, 4.1, 4.5, 4.2, 4.4, 4.5, 3.8, 4.0, 3.7, 3.7, 4.4, 4.6, 4.2, 3.9, 4.8, 4.6, 4.4, 4.2, 3.9, 4.0, 4.0, 4.1, 4.5, 4.0, 4.1, 4.6, 4.6, 4.1, 4.1, 4.1, 4.4, 4.1, 4.7, 4.1, 4.7, 4.1, 4.6, 4.3, 4.1, 4.4, 4.2, 4.1, 4.4, 4.1, 4.3, 4.0, 4.0, 4.0, 4.0, 4.6, 4.3, 4.1, 4.4, 4.2, 4.6, 4.1, 4.1, 4.1, 4.4, 3.5, 3.5, 4.5, 3.8, 4.5, 4.6, 4.0, 4.1, 4.2, 5.0, 3.6, 3.9, 4.3, 4.5, 4.6, 4.2, 4.4, 4.5, 4.2, 4.2, 4.1, 4.2, 4.5, 4.6, 3.9, 4.4, 4.1, 4.2, 4.2, 4.2, 4.7, 5.0, 4.4, 4.3, 4.4, 4.2, 4.5, 4.5, 3.6, 4.7, 4.4, 4.5, 4.4, 3.6, 4.6, 4.5, 4.6, 4.4, 2.3, 4.6, 4.6, 3.9, 4.6, 4.2, 4.2, 4.4, 4.7, 4.5, 3.9, 4.7, 4.2, 4.9, 3.2, 4.3, 3.9, 4.2, 4.1, 4.2, 4.3, 4.4, 4.1, 4.3, 3.8, 4.4, 4.6, 4.0, 4.0, 4.6, 4.3, 4.6, 4.1, 4.3, 4.0, 4.0, 4.2, 2.9, 4.1, 4.1, 4.3, 4.6, 4.4, 4.0, 4.7, 4.5, 4.2, 4.3, 4.5, 4.4, 4.0, 4.6, 4.4, 4.1, 4.9, 4.5, 4.3, 4.5, 3.4, 3.8, 3.8, 3.7, 4.1, 4.0, 3.6, 4.2, 4.1, 4.4, 4.3, 4.6, 4.4, 2.7, 4.6, 4.2, 2.3, 4.4, 4.6, 3.3, 4.4, 4.5, 4.2, 4.4, 3.0, 4.7, 3.5, 4.1, 4.1, 4.4, 4.5, 4.8, 4.2, 3.4, 4.2, 3.6, 3.8, 4.5, 4.6, 4.0, 4.5, 2.8, 4.3, 3.8, 4.5, 4.7, 4.7, 4.3, 4.2, 4.0, 2.8, 2.0, 4.8, 3.3, 4.0, 4.6, 3.4, 4.7, 3.8, 3.4, 4.3, 4.7, 4.3, 3.1, 4.2, 4.2, 4.7, 4.3, 4.4, 4.0, 3.7, 4.2, 3.2, 4.5, 3.9, 4.4, 4.1, 4.2, 3.2, 4.0, 3.6, 4.2, 4.2, 4.3, 4.6, 4.6, 4.0, 4.2, 3.8, 4.6, 4.5, 4.6, 4.4, 4.4, 4.4, 4.6, 4.4, 4.5, 4.5, 4.2, 4.8, 4.7, 4.5, 4.2, 4.3, 4.4, 4.1, 4.0, 4.6, 4.8, 4.4, 4.3, 4.2, 4.5, 4.5, 4.3, 4.8, 4.6, 4.2, 4.6, 4.5, 4.4, 4.4, 4.5, 4.5, 3.8, 4.2, 4.4, 4.4, 4.5, 4.3, 4.3, 4.5, 4.2, 3.9, 4.0, 4.0, 4.3, 4.5, 3.9, 4.7, 4.7, 4.8, 2.6, 4.5, 4.3, 4.6, 4.8, 3.5, 4.3, 4.0, 3.3, 4.0, 4.4, 4.7, 4.0, 4.3, 4.3, 4.4, 2.2, 4.3, 4.3, 4.5, 4.7, 4.0, 3.1, 4.4, 4.4, 3.1, 3.7, 4.0, 3.5, 3.7, 4.2, 4.8, 4.1, 4.4, 4.2, 4.0, 3.9, 4.5, null, 4.1, 4.0, 4.2, 4.3, 4.3, 4.3, 4.0, 4.0, 4.0, 4.4, 4.4, 3.7, 3.3, 4.1, 4.3, 2.9, 4.8, 4.3, 4.1, 4.3, 4.7, 3.9, 3.5, 4.7, 4.1, 3.7, 3.4, 3.2, 4.1, 3.4, 4.0, 4.1, 4.5, 3.6, 4.7, 4.0, 4.1, 4.3, 3.4, 4.4, 4.2, 4.5, 4.5, 4.0, 4.2, 4.3, 4.1, 4.4, 4.0, 4.6, 4.2, 4.0, null, 4.6, 4.4, 4.5, 4.4, 4.5, 4.5, 4.5, 4.2, 4.1, 4.3, 4.5, 4.4, 4.2, 4.1, 4.1, 4.1, 4.3, 4.3, 4.4, 4.4, 4.1, 4.3, 4.2, 4.0, 4.3, 4.2, 4.3, 4.2, 3.8, 4.5, 4.4, 4.5, 4.3, 4.3, 3.9, 4.4, 4.3, 4.5, 4.3, 4.6, 4.4, 3.7, 3.9, 4.1, 4.1, 4.0, 3.9, 4.6, 4.4, 4.5, 4.3, 4.4, 4.4, 4.3, 4.1, 3.9, 4.1, 4.6, 4.1, 4.7, 4.4, 4.3, 3.7, 3.7, 4.5, 4.4, null, 4.3, 4.4, 4.3, 3.9, 4.3, 4.5, 4.2, 4.4, 3.8, 4.0, 4.2, 4.2, 4.4, 4.4, 4.3, 3.3, 4.5, 3.8, 4.6, 4.6, 3.8, 4.7, 2.9, 4.2, 4.2, 4.8, 4.4, 4.2, 3.5, 2.7, 4.9, 4.4, 5.0, 3.3, 4.5, 4.6, 4.8, 3.9, 4.9, 3.5, 4.4, 4.4, 4.8, 4.5, 4.6, 4.6, 4.7, 4.2, 4.8, 4.5, 4.0, 4.6, 4.4, 4.3, 4.5, 4.5, 4.6, 4.8, 4.5, 4.5, 4.1, 4.7, 4.0, 4.1, 4.6, 4.4, 4.0, 3.6, 4.7, 4.6, 4.5, 4.2, 4.5, 3.9, 2.7, 4.5, 3.7, 4.8, 2.6, 4.5, 2.5, 4.0, 3.3, 4.5, 4.3, 4.7, 4.4, 4.4, 4.4, 4.6, 4.0, 4.3, 4.3, 4.5, 4.7, 4.4, 4.7, 4.2, 4.2, 4.5, 4.7, 4.5, 4.5, 4.2, 4.5, 4.7, 4.2, 4.6, 4.4, 4.4, 4.6, 4.4, 4.3, 4.5, 4.4, 4.3, 4.4, 4.7, 4.6, 4.6, 4.5, 4.8, 4.5, 4.1, 4.7, 3.6, 4.0, 4.4, 4.7, 4.6, 4.5, 4.3, 4.5, 4.4, 4.7, 4.3, 4.7, 4.3, 3.5, 4.5, 4.6, 4.5, 4.2, 4.0, 4.5, 4.7, null, 4.8, 4.2, 4.1, 4.3, 4.5, 3.6, 4.0, 4.2, 4.0, 3.9, 4.0, 4.3, 4.6, 4.1, 4.5, 4.0, 4.3, 4.1, 4.3, 4.6, 4.4, 4.7, 4.5, 4.2, 4.4, 4.5, 4.8, 4.3, 4.6, 4.3, 4.7, 4.5, 4.4, 4.6, 4.3, 4.5, 4.3, 4.6, 4.4, 4.5, 4.5, 4.7, 3.1, 4.2, 4.6, 4.6, 4.1, 4.7, 4.4, 4.5, 3.9, 3.9, 4.6, 3.9, 3.7, 4.3, 3.1, 4.5, 4.0, 4.0, 3.5, 4.7, 4.5, 4.5, 4.1, 4.3, null, 4.1, 4.4, 4.6, 4.0, 4.5, 4.5, 4.7, 4.7, 4.2, 4.2, 4.2, 4.0, 3.9, 4.6, 4.4, 4.3, 4.2, 3.8, 3.3, 4.2, 4.0, 4.8, 4.7, 4.6, 4.3, 4.4, 4.5, 4.6, 4.5, 4.6, 4.5, 4.6, 4.5, 4.2, 4.3, 4.5, 4.3, 3.5, 4.9, null, 4.4, 4.5, 4.6, 4.5, 4.6, 4.6, 4.0, 4.7, 4.5, 4.5, 4.4, 4.6, 4.5, 4.7, 4.8, 4.6, 4.5, 4.7, 4.5, 4.6, 4.9, 4.7, 4.6, 4.7, 4.8, 4.5, 4.2, 4.6, 4.7, 4.0, 4.4, 2.5, 4.6, 4.5, 3.5, 4.5, 4.5, 4.4, 4.9, 4.6, 4.4, 4.6, 4.6, 4.2, 4.4, 4.6, 4.6, 4.3, 4.7, 4.4, 4.5, 4.3, 4.7, 4.6, 4.3, 4.8, 4.6, 4.5, 4.4, 4.7, 4.4, 3.3, 3.3, 2.8, 4.8, 3.1, 4.1, 4.6, 4.7, 4.8, 4.8, 4.6, 4.0, 4.2, 4.7, 4.3, 4.4, 4.2, 4.2, 4.4, 3.3, 5.0, 4.4, 4.3, 4.9, 4.5, 4.9, 4.8, 3.2, 4.8, 4.4, 4.6, 4.5, 4.2, 4.7, 4.7, 4.3, 4.4, 4.5, 3.8, 4.2, 4.3, 4.8, 4.3, 4.6, 4.7, 4.3, 4.5, 4.4, 4.1, 4.5, 4.4, 4.4, 4.3, 4.6, 4.5, 4.2, 4.5, 4.3, 4.8, 4.7, 4.8, 4.4, 4.4, 3.6, 4.4, 4.2, 4.6, 4.7, 4.7, 4.6, 4.6, 4.5, 4.1, 4.4, 4.6, 4.7, 4.1, 4.6, 4.7, 4.0, 4.6, null, 3.7, 4.2, 4.4, 4.5, 4.0, 4.5, 4.4, 4.3, 4.5, 4.5, 4.3, 4.5, 4.7, 3.8, 4.5, 4.1, 4.1, 4.6, 3.7, 3.8, 3.9, 3.9, 3.9, 4.7, 4.3, 2.6, 3.9, 4.1, 4.6, 3.6, 4.1, 4.3, 4.8, 3.9, 4.0, 4.5, 3.8, 4.0, 3.1, 4.2, 4.0, 4.7, 4.4, 4.0, 4.6, 4.4, 4.3, 4.0, 4.4, 4.7, 4.1, 4.0, 4.8, 3.7, 4.5, 4.6, 4.3, 4.6, 4.2, 4.4, 4.8, 4.7, 4.5, 4.7, 4.2, 4.5, 4.8, 4.6, 4.0, 2.2, 4.2, 4.7, 4.7, 4.7, 3.6, 4.5, 3.4, 4.3, 4.2, 4.7, 4.5, 4.7, 4.2, 4.4, 3.8, 4.5, 3.8, 4.3, 4.3, 4.9, 3.4, 3.8, 4.0, 3.8, 4.1, 3.7, 4.5, 4.0, 4.5, 3.6, 4.1, 3.5, 3.2, 4.2, 4.7, 4.5, 4.2, 4.9, 3.4, 4.3, 4.8, 4.6, 4.3, 5.0, 4.1, 4.2, 4.0, 4.0, 4.2, 4.5, 3.5, 4.0, 4.4, 3.3, 4.8, 4.7, 4.5, 4.2, 4.2, 4.1, 4.4, 4.5, 3.5, 4.7, 4.5, 3.7, 4.1, 3.7, 4.2, 4.7, 4.0, 4.4, 3.2, 4.1, 4.3, 4.6, 3.9, 4.4, 4.7, 4.3, 4.7, 4.7, 4.1, 4.2, 4.3, 4.1, 4.4, 4.0, 4.5, 4.3, 4.7, 4.5, 4.6, 4.6, 4.7, 4.6, 4.5, 4.1, 4.2, 4.8, 3.8, 3.9, 4.0, 4.0, 4.7, 4.4, 4.2, 4.3, 4.2, 3.7, 4.4, 3.8, 3.9, 4.6, 4.3, 3.9, 4.3, 4.5, 4.4, 4.3, 4.5, 2.5, 3.7, 4.5, 3.3, 3.0, 4.2, 4.4, 4.7, 4.3, 4.4, 4.2, 3.8, 4.7, 4.5, 4.6, 4.5, 4.1, 4.6, 4.3, 4.5, 4.3, 4.3, 4.4, 3.3, null, 4.2, 3.8, 4.3, 4.7, 3.8, 4.8, 4.7, 4.1, 4.8, 4.1, 4.3, 4.3, 3.9, 4.6, 4.3, 4.4, 3.9, 4.1, 3.5, 4.4, 2.8, 3.9, 4.1, 4.2, 4.3, 4.2, 4.6, 4.1, 4.3, 4.2, 4.6, 4.5, 4.7, 3.6, 4.2, 4.6, 4.2, 4.4, 3.8, 3.9, 4.5, 4.4, 4.4, 4.5, 3.6, 3.4, 4.5, 3.5, 4.5, 4.6, 4.7, 4.4, 4.3, 4.2, 4.4, 4.6, 4.2, 4.5, 3.9, 4.6, 3.1, 3.2, 4.6, 4.7, 4.0, 4.8, 5.0, 3.7, 2.8, 4.2, 3.4, 4.6, 4.4, 4.3, 4.4, 3.8, 4.0, 4.3, 4.7, 4.5, 3.6, 4.3, 3.4, 4.7, 4.3, 4.4, 4.3, 4.6, 4.3, 4.1, 4.3, 4.5, 4.7, 4.7, 4.4, 4.4, 3.5, 4.5, 4.4, 4.0, 4.3, 2.7, 3.8, 4.2, 4.0, 4.5, 4.4, 4.2, 4.3, 3.8, 4.2, 3.4, 4.3, 4.5, 4.8, 4.3, 4.0, 4.4, 4.4, 3.9, 4.3, 4.0, 4.2, 4.6, 4.3, 4.3, 4.2, 4.4, 4.3, 4.5, 4.2, 4.2, 4.4, 4.3, 4.6, 4.1, 4.1, 4.4, 4.3, 4.3, 4.1, 4.9, 3.2, 4.1, 4.4, 4.0, 4.3, 4.0, 4.1, 4.2, 4.2, 4.2, 4.3, 4.3, 4.2, 4.3, 4.3, 4.3, 4.4, 4.4, 4.3, 4.0, 4.1, 4.2, 4.5, 4.5, 4.2, 4.2, 4.2, 4.6, 4.0, 4.9, 3.9, 4.0, 4.5, 3.8, 2.8, 3.6, 4.7, 4.6, 4.5, 4.4, 4.7, 4.4, 4.5, 4.7, 4.6, 4.4, 4.2, 4.1, 4.3, 4.3, 4.4, 3.8, 3.9, 4.7, 4.4, 4.2, 4.6, 3.8, 4.3, 4.4, 4.4, 4.3, 4.4, 4.0, 4.4, 4.3, 4.0, 4.0, 4.7, 4.0, 4.0, 4.5, 4.0, 4.2, 4.0, 4.5, 4.1, 4.4, 4.3, 4.1, 4.2, 4.0, 4.0, 4.1, 3.9, 4.1, 4.5, 4.1, 4.2, 4.2, 4.2, 4.2, 4.6, 4.5, 4.5, 4.1, 4.8, 4.7, 4.2, 3.9, 4.1, 4.2, 4.2, 4.6, 4.7, 4.3, 4.2, 4.6, 4.6, 4.7, 4.5, 4.3, 4.6, 4.5, 4.3, 4.2, 4.2, 3.6, 4.6, 4.6, 4.7, 4.7, 4.5, 4.4, 4.4, 4.7, 4.4, 4.4, 4.7, 4.1, 4.6, 4.3, 4.8, 4.1, 4.4, 3.8, 4.4, 4.3, 4.2, 4.2, 4.2, 4.3, 4.7, 4.2, 3.9, 4.3, 3.5, 3.9, 4.2, 4.3, 4.4, 4.0, 4.2, 4.3, 4.7, 4.3, 4.6, 4.8, 4.5, 4.6, 4.8, 4.3, 4.5, 4.7, 4.7, 4.8, 4.8, 4.7, 2.1, 4.6, 3.2, 4.4, 4.6, 3.9, 4.3, 4.1, 4.2, 3.8, 4.2, 4.2, 4.3, 4.3, 4.1, 4.1, 4.3, 4.1, 4.2, 4.0, 4.1, 4.0, 4.1, 4.3, 4.5, 4.4, 4.5, 3.6, 4.5, 4.3, 4.6, 4.4, 4.7, 4.4, 4.1, 4.4, 4.4, 4.6, 4.2, 4.4, 4.1, 4.3, 3.9, 4.2, 4.5, 4.7, 4.6, 4.3, 4.5, 4.3, 4.2, 4.3, 4.0, 4.1, 3.5, 4.4, 4.5, 4.1, 4.1, 4.3, 4.4, 4.7, 4.3, 4.7, 4.2, 4.5, 4.6, 4.4, 4.7, 4.5, 4.7, 4.3, 3.2, 3.7, 4.3, 4.4, 4.0, 4.4, 4.3, 3.9, 4.2, 4.5, 3.9, 4.4, 4.3, 4.1, 3.7, 4.6, 4.0, 4.7, 4.2, 4.3, 4.8, 4.4, 4.3, 4.4, 4.3, 4.4, 4.2, 4.7, 4.4, 4.6, 4.6, 4.4, 4.1, 3.6, 4.2, 4.3, 4.2, 4.4, 4.7, 4.6, 4.7, 4.6, 4.6, 4.6, 4.5, 4.6, 4.5, 4.3, 4.4, 4.7, 4.6, 4.6, 4.4, 4.8, 4.7, 4.7, 4.8, 4.6, 4.4, 4.6, 4.6, 4.8, 4.7, 4.6, 4.6, 4.2, 4.0, 4.6, 4.4, 4.6, 4.7, 4.3, 4.5, 3.0, 4.5, 3.9, 3.3, 4.3, 4.0, 3.1, 3.7, 4.3, 4.4, 3.8, 3.5, 4.3, 4.5, 4.1, 4.6, 3.9, 4.2, 3.0, 4.0, 3.9, 4.4, 3.6, 4.3, 4.3, 4.0, 4.4, 4.4, 4.2, 4.4, 4.4, 4.4, 3.8, 4.5, 3.4, 4.5, 4.5, 4.7, 4.0, 4.6, 4.3, 3.9, 4.6, 4.0, 3.9, 4.0, 3.5, 4.2, 4.0, 4.7, 4.6, 4.3, 4.0, 4.3, 4.5, 4.3, 3.8, 4.7, 4.9, 4.8, 4.2, 3.9, 4.0, 4.4, 4.6, 3.4, 4.6, 2.7, 3.6, 4.4, null, 4.9, 4.0, 4.5, 4.9, 4.8, 4.7, 4.1, 4.6, 4.4, 4.4, 4.2, 4.5, 4.5, 4.7, 4.7, 4.8, 4.4, 4.5, 4.5, 4.9, 4.7, 4.3, 4.3, 4.9, 4.4, 4.5, 4.7, 4.2, 4.2, 3.8, 4.2, 4.5, 2.1, 4.0, 4.5, 3.8, 4.3, 4.5, 4.3, 4.6, 4.3, 4.5, 4.2, 4.4, 4.2, 4.4, 4.2, 4.0, 4.2, 4.3, 4.4, 4.2, 4.8, 4.3, 4.5, 4.6, 4.3, 3.9, 4.2, 4.3, 4.5, 4.3, 3.1, 4.9, 4.3, 4.6, 4.1, 4.6, 3.8, 4.6, 3.0, 3.5, 4.7, 4.7, 4.6, 4.7, 4.8, 3.5, 4.9, 4.9, 4.2, 4.1, 4.6, 3.5, 4.1, 4.2, 4.9, 4.6, 4.4, 4.1, 4.3, 4.7, 4.4, 4.5, 4.4, 4.4, 4.3, 4.0, 4.5, 4.1, 4.5, 4.3, 4.2, 4.3, 4.5, 4.4, 4.2, 4.5, 4.6, 4.3, 4.4, 4.5, 4.3, 4.9, 4.2, 4.2, 4.7, 4.2, 4.9, 3.9, 4.3, 4.5, 4.3, 4.5, 4.5, 2.1, 4.4, 4.5, 4.5, 4.4, 2.7, 4.7, 4.2, 3.9, 4.2, 3.6, 4.4, 4.8, 4.6, 4.8, 4.5, 4.8, 4.7, 4.5, 4.5, 4.4, 4.1, 4.5, 4.1, 3.9, 3.3, 4.2, 2.9, 4.9, 4.8, 3.8, 3.9, 4.4, 4.3, 4.6, 4.3, 3.9, 3.6, 2.3, 3.9, 4.7, 4.3, 4.6, 4.5, 3.9, 4.2, 4.3, 4.4, 3.9, 4.3, 4.1, 4.5, 4.8, 4.7, 2.7, 4.7, 4.9, 4.6, 4.5, 4.6, 3.2, 4.1, 3.6, 4.6, 4.3, 4.5, 3.6, 4.2, 4.4, 4.7, 3.0, 3.9, 4.0, 4.2, 4.2, 4.0, 4.3, 3.8, 4.4, 4.1, 4.1, 4.1, 4.1, 3.4, 4.3, 3.8, 4.3, 4.0, 3.3, 3.7, 4.2, 4.1, 3.5, 4.2, 4.7, 4.1, 4.1, 4.1, 4.5, 4.4, 3.8, 4.4, 4.7, 4.1, 4.0, 4.6, 4.7, 4.3, 4.2, 4.6, 4.1, 4.5, 4.1, 4.0, 2.0, 4.0, 3.4, 4.3, 4.1, 4.5, 3.4, 2.8, 3.4, 4.0, 4.7, 4.2, 3.8, 3.6, 4.1, 4.4, 4.6, 4.7, 3.9, 3.0, 4.7, 3.7, 4.7, 3.8, 4.5, 3.9, 4.4, 4.1, 3.5, 4.5, 4.1, 4.2, 4.2, 4.4, 3.9, 4.2, 4.0, 4.2, 4.2, 4.3, 4.6, 4.1, 3.7, 3.8, 4.6, 3.8, 4.4, 3.6, 4.1, 2.0, 3.2, 3.5, 4.3, 4.1, 2.1, 3.9, 4.0, 3.6, 4.2, 4.0, 4.2, 4.2, 4.3, 4.4, 4.6, 4.2, 2.5, 4.2, 3.8, 4.5, 4.5, 3.2, 3.6, 4.4, 4.4, 4.5, 4.3, 4.7, 4.8, 2.9, 4.3, 3.9, 4.6, 4.6, 4.7, 4.6, 3.7, 4.0, 4.3, 3.2, 4.8, 3.9, 3.4, 4.5, 4.2, 4.7, 4.3, 4.2, 4.8, 4.0, 4.5, 4.7, 4.3, 4.5, 4.8, 4.6, 4.5, 4.4, 4.5, 4.7, 4.4, 3.5, 3.5, 4.0, 4.8, 4.2, 4.7, 4.6, 4.6, 4.3, 4.0, 4.6, 4.6, 3.7, 3.6, 3.7, 4.3, 4.7, 3.1, 4.1, 4.7, 4.8, 4.4, 4.0, 4.0, 4.2, 4.2, 4.5, 3.1, 4.2, 4.5, 3.4, 4.3, 4.5, 4.2, 4.6, 4.2, 4.3, 4.2, 4.2, 4.3, 3.9, 4.7, 3.3, 3.2, 4.8, 3.8, 4.5, 4.2, 4.2, 4.7, 4.1, 3.2, 4.6, 4.2, 4.0, 4.7, 3.6, 4.6, 4.4, 4.1, 4.5, 3.8, 4.3, 4.5, 3.9, 4.2, 4.5, 4.0, 4.6, 3.8, 4.3, 4.2, 4.5, 4.6, 4.3, 4.1, 3.5, 4.7, 4.5, 4.3, 4.5, 4.7, 4.4, 3.2, 3.2, 4.2, 4.5, 4.2, 3.6, 4.2, 4.5, 4.4, 4.7, 4.6, 4.1, 3.6, 4.7, 4.1, 4.3, 2.4, 4.1, 3.3, 3.9, 4.4, 4.8, 4.1, 2.6, 2.3, 4.6, 4.6, 4.8, 4.8, 3.9, 4.5, 4.0, 4.5, 4.4, 4.4, 4.2, 4.6, 4.3, 3.3, 3.1, 4.8, 4.5, 3.3, 4.8, 4.6, 4.3, 4.5, 3.4, 4.7, 4.6, 4.6, 4.6, 4.8, 4.4, 4.6, 4.4, 4.6, 4.7, 4.4, 4.5, 4.8, 4.2, 4.4, 4.4, 4.4, 4.3, 4.6, 4.5, 4.4, 4.4, 4.5, 4.2, 4.4, 2.7, 4.5, 4.4, 4.3, 4.0, 4.9, 4.4, 4.2, 2.6, 4.2, 4.5, 4.7, 4.6, 3.9, 4.4, 4.5, 4.7, 3.9, 3.8, 3.9, 4.7, 4.5, 4.7, 4.1, 4.5, 4.3, 4.3, 4.2, 3.1, 4.2, 4.4, 4.3, 4.5, 4.0, 4.4, 4.3, 4.9, 4.7, 3.5, 4.4, 4.6, 3.5, 3.3, 4.3, 4.2, 3.4, 4.2, 4.5, 4.4, 3.6, 4.3, 3.7, 4.2, 4.3, 4.0, 4.6, 4.4, 4.2, 4.5, 4.4, 3.1, 4.2, 4.6, 4.5, 4.5, 4.3, 4.3, 4.0, 4.1, 4.1, 4.1, 4.7, 4.1, 4.5, 4.5, 4.5, 4.1, 4.8, 4.0, 4.5, 3.0, 4.2, 4.3, 4.3, 4.4, null, 4.5, 4.4, 4.2, 4.2, 3.7, 4.3, 4.1, 4.3, 4.0, 4.3, 3.9, 4.3, 4.1, 4.1, 4.2, 4.4, 4.7, 4.6, 4.7, 4.2, 4.3, 3.4, 4.2, 3.5, 3.1, 4.2, 4.3, 4.0, 3.8, 4.3, 4.3, 4.1, 4.2, 4.5, 4.2, 4.4, 4.0, 4.8, 2.9, 4.3, 4.2, 4.1, 3.9, 4.0, 4.4, 3.9, 3.9, 3.6, 4.1, 3.5, 4.3, 4.6, 4.7, 4.7, 4.1, 4.6, 4.0, 4.5, 4.1, 4.2, 4.4, 4.3, 4.2, 3.6, 4.3, 4.4, 4.6, 4.7, 4.3, 3.9, 3.7, 3.7, 3.9, 3.9, 4.4, 4.3, 2.6, 3.0, 4.5, 3.8, 3.8, 4.4, 3.8, 4.4, 4.3, 4.1, 4.3, 4.2, 4.0, 4.6, 4.6, 4.4, 3.4, 4.0, 3.4, 4.3, 3.8, 4.6, 4.3, 4.3, 4.4, 4.4, 2.6, 4.5, 3.9, 4.0, 3.7, 4.4, 4.1, 3.8, 4.2, 4.1, 4.2, 4.2, 3.3, 4.5, 4.5, 3.6, 4.5, null, 4.6, 4.5, 4.4, 3.7, 4.8, 4.7, 3.8, 4.6, 4.0, 2.5, 4.4, 4.1, 4.5, 4.6, 4.0, 3.8, 4.1, 4.1, 4.2, 4.1, 3.2, 4.3, 4.3, 4.6, 3.8, 4.2, 3.9, 4.1, 4.1, 4.2, 4.3, 4.4, 3.5, 4.3, 4.3, 4.2, 4.1, 4.3, 4.0, 4.4, 4.2, 4.1, 4.2, 4.0, 4.3, 4.2, 4.1, 3.9, 3.6, 4.3, 4.1, 4.0, 4.3, 4.1, 4.0, 3.9, 4.1, 4.2, 3.8, 4.6, 4.2, 3.9, 4.1, 4.0, 3.7, 4.3, 4.2, 4.3, 4.2, 4.5, 3.7, 4.6, 3.7, 3.9, 3.5, 4.2, 1.7, 3.6, 4.4, 4.4, 4.6, 4.3, 4.6, 4.4, 4.4, 4.4, 4.6, 4.3, 3.0, 4.5, 4.0, 3.9, 3.8, 3.9, 4.1, 4.5, 3.6, 4.4, 4.2, 4.4, 4.6, 4.4, 4.4, 4.7, 4.8, 2.5, 3.6, 4.5, 4.8, 3.0, 4.1, 3.9, 4.6, 4.5, 4.9, 3.4, 4.3, 4.4, 3.5, 4.4, 3.2, 4.4, 4.5, 4.4, 2.7, 3.2, 4.5, 3.2, 4.2, null, 4.2, 3.5, 2.5, 3.9, 3.8, 2.8, 3.3, 4.5, 3.8, 4.4, 3.2, 4.2, 3.6, 3.8, 2.3, 4.4, 4.4, 4.6, 4.9, 4.5, 4.6, 4.6, 4.0, 4.0, 4.2, 4.7, 4.4, 3.1, 2.6, 3.7, 4.1, 4.7, 3.3, 4.6, 3.8, 3.6, 3.9, 4.6, 2.9, 4.7, 3.9, 3.5, 3.0, 4.8, 4.3, 2.5, 4.1, 4.3, 4.6, 4.4, 4.8, 3.7, 4.3, 4.7, 4.6, 3.7, 3.9, 4.9, 4.5, 4.4, 4.4, 4.7, 4.4, 4.4, 4.1, 4.4, 4.7, 4.5, 3.4, 4.3, 4.4, 3.7, 4.2, 4.1, 4.2, 3.9, 4.1, 4.1, 4.0, 4.7, 4.0, 4.0, 4.6, 4.1, 4.2, 4.2, 4.3, 4.4, 3.2, 3.3, 4.6, 2.8, 3.1, 4.2, 3.3, 4.7, 4.3, 4.2, 3.8, 4.2, 4.3, 4.1, 4.3, 3.7, 3.9, 4.0, 3.5, 4.0, 4.2, 4.2, 3.8, 4.8, 4.5, 4.2, 4.8, 3.7, 4.2, 3.2, 4.3, 4.4, 3.8, 4.7, 4.4, 4.3, 4.3, 4.7, 4.5, 4.1, 4.3, 4.5, 4.4, 4.4, 4.2, 4.7, 4.2, 4.5, 4.4, 4.3, 4.4, 4.3, 4.5, 4.4, 4.4, 4.4, 4.4, 4.6, 4.4, 4.3, 4.5, 4.2, 3.9, 4.3, 4.5, 4.0, 4.4, 4.5, 4.3, 4.5, 4.0, 4.6, 4.6, 3.6, 4.0, 4.3, 4.4, 3.9, 4.3, 4.5, 4.7, 3.8, 3.1, 3.6, 4.1, 4.4, 4.3, 3.7, 4.6, 4.6, 4.3, 4.0, 2.5, 4.1, 3.9, 3.9, 4.4, 3.3, 3.9, 4.1, 4.3, 4.4, 4.4, 4.7, 3.6, 4.4, 4.4, 4.1, 4.5, 4.5, 4.2, 4.0, 4.1, 3.8, 4.6, 4.4, 4.3, 4.4, 4.0, 4.5, 4.3, 4.1, 4.5, 4.4, 4.6, 4.3, 4.6, 4.0, 4.0, 4.1, 4.5, 3.7, 4.0, 4.4, 3.2, 4.5, 4.0, 4.7, 4.3, 4.5, 4.0, 4.4, 4.5, 3.5, 4.5, 4.5, 4.5, 4.2, 4.3, 4.5, 4.6, 3.9, 4.2, 4.4, 4.7, 4.3, 4.1, 4.2, 4.4, 4.8, 4.9, 4.6, 4.2, 4.6, 3.8, 4.9, 4.8, 4.7, 4.7, 4.8, 4.8, 4.4, 4.9, 4.7, 4.9, 4.9, 4.7, 4.4, 3.9, 4.8, 4.6, 4.8, 4.8, 4.8, 4.9, 4.8, 4.3, 4.8, 2.3, 4.2, 4.4, 4.0, 4.7, 2.7, 4.0, 4.4, 3.9, 3.7, 3.0, 3.0, 3.5, 4.9, 4.4, 3.5, 2.4, 3.5, 2.3, 4.3, 4.0, 3.3, 4.1, 3.4, 3.8, 3.6, 2.2, 3.8, 2.5, 4.1, 3.5, 4.6, 2.1, 4.0, 4.5, 4.0, 4.1, 3.5, 4.1, 4.2, 3.3, 3.1, 4.3, 3.0, 4.8, 3.8, 4.4, 3.6, 4.8, 4.2, 4.1, 4.7, 4.1, 4.7, 4.5, 3.7, 4.3, 3.8, 4.0, 4.6, 3.2, 4.3, 4.1, 4.2, 3.7, 4.2, 4.5, 4.1, 4.7, 3.7, 1.5, 4.5, 4.2, 4.0, 4.6, 3.8, 3.9, 4.2, 4.4, 3.6, 4.3, 4.4, 4.5, 3.7, 4.6, 2.9, 4.0, 4.5, 3.2, 4.5, 4.2, 3.3, 3.5, 5.0, 4.5, 2.5, 2.7, 3.5, 4.2, 4.2, 3.8, 4.5, 4.1, 4.0, 4.5, 4.3, 4.6, 4.2, 4.4, 3.8, 3.8, 4.6, 4.3, 4.4, 4.2, 4.4, 4.3, 3.3, 3.8, 3.8, 3.9, 3.9, 4.3, 3.0, 4.4, 3.6, 4.1, 4.2, 3.8, 4.1, 3.9, null, 4.1, 3.0, 3.3, 4.2, 4.6, 4.3, 4.1, 3.7, 4.4, 4.0, 4.6, 4.2, 2.8, 4.8, null, 4.4, 4.1, 4.3, 4.3, 4.6, 3.8, 4.0, 3.8, 4.2, 4.4, 4.1, 4.2, 4.4, 4.6, 4.4, 4.6, 4.4, 4.8, 4.2, 4.2, 4.6, 4.7, 4.7, 4.7, 4.7, 4.0, 4.7, 3.8, 4.3, 4.6, 4.4, 4.6, 4.4, 4.5, 4.2, 4.1, 3.9, 4.6, 3.7, 4.6, 4.5, 3.2, 4.1, 3.9, 4.2, 4.2, 4.7, 4.0, 4.3, 4.6, 4.6, 4.7, 4.6, 4.6, 4.3, 4.6, 4.6, 4.6, 4.5, 4.6, 4.8, 4.7, 3.9, 4.4, 4.6, 4.1, 4.8, 3.3, 4.0, 4.3, 4.9, 4.2, 4.5, 4.5, 4.6, 4.7, 4.5, 4.3, 2.9, 4.1, 4.4, 4.3, 4.8, 4.2, 3.6, 4.4, 4.1, 4.3, 4.3, 4.3, 4.7, 4.6, 4.3, 4.8, 4.9, 4.8, 4.5, 4.8, 4.2, 4.3, 4.7, 4.0, 4.7, 4.1, 4.2, 4.6, 4.4, 4.2, 4.6, 4.6, 4.4, 4.2, 4.1, 4.3, 3.8, 4.1, 4.4, 4.5, 4.5, 4.5, 4.8, 4.0, 4.1, 4.1, 4.5, 3.8, 3.7, 4.4, 4.8, 3.5, 3.8, 4.6, 4.0, 4.4, 3.6, 4.3, 4.2, 4.2, 4.5, 4.5, 4.5, 4.4, 4.7, 3.9, 4.7, 3.7, 4.5, 3.7, 4.5, 4.7, 4.5, 4.7, 4.8, 4.1, 4.6, 4.4, 4.5, 4.4, 4.7, 4.8, 4.2, 4.5, 3.7, 4.2, 4.6, 4.4, 4.3, 4.6, 4.4, 4.3, 4.6, 4.5, 4.7, 4.5, 4.0, 4.2, 3.8, 4.4, 4.3, 4.4, 3.3, 3.1, 4.7, 3.9, 2.5, 3.8, 3.9, 4.3, null, 4.4, 3.9, 4.0, null, 4.0, 4.0, 4.1, 4.2, 4.2, 4.4, 3.3, null, 4.7, 4.0, 4.6, 3.7, 3.9, 4.6, 4.5, null, 4.3, 4.0, 3.8, 4.7, 3.9, 4.2, 4.0, 3.3, 4.7, 4.2, 4.0, 3.9, 2.8, 4.6, 4.5, 3.9, 3.0, 2.4, 2.9, 4.3, 4.7, 4.8, 4.6, 4.1, 4.6, 4.5, 4.1, 4.5, 4.7, 4.5, 3.9, 3.8, 4.4, 4.1, 3.4, 4.3, 3.3, 4.2, 3.7, 4.5, 4.8, 4.5, 4.6, 4.4, 4.0, 4.6, 4.6, 4.8, 4.6, 4.6, 4.6, 4.6, 4.7, 4.0, 4.9, 4.3, 4.5, 4.0, 3.5, 4.5, 4.2, 3.7, 4.3, 4.7, 4.5, 4.6, 4.4, 4.2, 4.4, 4.1, 4.2, 4.8, 4.0, 2.1, 3.4, 3.3, 4.5, 4.3, 4.6, 4.1, null, 4.6, 4.7, 4.3, 4.4, 4.6, 4.2, 4.5, 4.2, 4.4, 4.7, 4.1, 4.3, 4.5, 4.7, 4.7, 4.4, 4.2, 4.2, 4.1, 4.4, 4.7, 4.4, 4.3, 4.7, 3.8, 4.5, 4.4, 4.6, 4.5, 4.3, 4.3, 3.7, 4.4, 4.6, 4.5, 4.4, 4.5, 4.4, 4.4, 4.6, 4.3, 4.8, 4.2, 3.8, 4.0, 4.3, 4.7, 4.2, 4.5, 4.8, 4.0, 4.7, 4.8, 4.6, 4.3, 4.7, 4.6, 4.4, 4.8, 3.5, 4.8, 4.6, 4.7, 4.6, 4.8, 4.8, 4.9, 4.6, 4.2, 4.8, 4.4, 4.6, 4.2, 4.8, 4.5, 4.1, 4.6, 4.5, 4.8, 4.4, 4.2, 4.4, 4.7, 4.5, 4.7, 4.4, 4.7, 4.8, null, 4.8, 4.6, 4.1, 4.4, 4.0, 4.8, 4.6, 4.3, 4.6, 4.2, 4.9, 3.9, 4.8, 4.3, 4.5, 4.3, 3.2, 3.9, 4.8, 3.7, 4.5, 4.0, 4.5, 4.6, 4.6, 3.9, 4.7, 4.7, 4.6, 4.7, 4.6, 4.2, 3.4, 4.6, 4.3, 4.3, 4.5, 4.8, 3.8, 3.8, 4.7, null, 4.9, null, 4.1, 4.8, null, null, null, null, 3.7, 3.7, 4.7, 4.5, 3.6, 4.7, 4.7, 3.9, 4.1, 4.8, 4.2, 4.4, 4.0, 4.6, 4.2, 4.2, 4.6, 4.2, 4.5, 4.1, 4.4, 4.3, 4.6, 4.3, 4.4, 3.6, 4.5, 4.6, 4.3, 4.2, 4.0, 3.2, 3.2, 4.2, 4.6, 3.5, 4.4, 4.9, null, null, 4.4, 4.5, 3.5, 3.9, 4.1, 4.7, 3.3, 4.6, 4.6, 4.6, 4.3, 4.5, 4.2, 4.1, 2.3, 4.3, 4.4, 4.5, 4.8, 4.2, 3.2, 4.6, 4.1, 4.9, 4.8, 4.7, 2.4, 4.5, 4.6, 2.3, 4.6, 4.8, 4.7, 3.7, 4.3, 4.6, 4.5, 4.3, 3.4, 4.1, 4.7, 4.5, 3.8, 4.4, 4.5, 2.9, 4.7, 4.7, 3.5, 4.5, 4.2, 3.9, 3.9, 4.6, 4.6, 4.2, 4.8, 4.1, 4.4, 4.3, 4.6, 4.7, 4.6, 4.3, 3.8, 3.2, 4.5, 4.2, 4.2, 4.4, 4.3, 4.2, 4.3, 4.6, 4.7, 4.5, 3.6, 4.7, 4.2, 4.6, 4.7, 3.6, 4.3, null, null, 3.6, 4.6, 3.4, 4.5, 4.5, 4.8, 4.3, 4.3, 4.3, 4.5, 4.5, 4.3, 4.7, 3.9, 4.3, 4.0, 4.3, 3.7, 4.0, 3.4, 3.8, 4.0, 4.3, 3.1, 4.0, 4.4, 4.4, 4.3, 4.9, 3.9, 4.2, 4.5, 4.3, 4.1, 4.6, 4.5, 3.8, 4.6, 3.7, null, 4.2, null, 4.2, 3.6, null, null, 4.9, 4.0, 4.2, null, 4.1, 5.0, null, null, 4.3, 4.2, 3.8, null, 4.6, null, null, null, null, null, null, 5.0, 4.8, 3.9, 4.0, 4.1, 4.3, 4.6, 2.9, 4.3, 4.7, 4.3, 4.6, 4.3, 4.2, 4.7, 4.6, 4.4, 4.4, 4.0, 4.0, 4.0, 4.2, 4.2, 3.6, 4.2, 4.5, 4.3, 4.4, 4.3, 3.9, 4.2, 4.5, 4.5, 4.8, 4.5, 4.6, 3.6, 4.8, 4.4, 4.8, 4.4, 4.6, 4.4, 4.1, 4.5, 4.0, 4.8, 4.7, 4.0, 4.5, 4.3, 4.1, 4.6, 4.7, 4.4, 4.8, 4.6, 4.4, 4.3, 4.4, 4.5, 4.5, 4.0, 4.9, 4.4, 3.8, 4.3, 4.3, 4.0, 3.7, 4.6, 4.2, 4.3, 4.1, 4.1, 4.5, 4.7, 4.4, 4.3, 4.5, 4.3, 4.8, 4.4, 4.6, 4.5, 4.6, 4.8, 4.4, 4.2, 4.5, 4.4, 4.4, 4.3, 4.5, 4.9, 4.5, 4.8, 4.4, 4.5, 4.2, 3.0, 4.5, 4.3, 2.9, 4.4, 4.5, 4.7, 4.5, 3.9, 4.1, 4.7, 4.3, 4.2, 4.5, 4.6, 4.5, 4.6, 4.5, 4.8, 4.4, 4.8, 4.5, 4.2, 4.6, 3.9, 4.0, 4.2, 4.4, 4.4, 4.3, 3.5, 3.8, 4.4, 4.4, 3.1, 2.7, 1.8, 4.2, 3.5, 4.4, 4.8, 2.7, 4.4, 4.2, 4.2, 3.4, 4.4, 4.0, 4.4, 4.2, 4.3, 4.2, 4.9, 4.2, 4.5, 3.6, 4.5, 4.2, 4.8, 4.0, 4.1, 4.6, 3.7, 4.7, 3.8, 3.7, 4.5, 4.4, 4.4, 4.5, 4.1, 4.2, 4.7, 4.5, 4.3, 2.9, 4.6, 4.6, 4.7, 4.7, 4.2, 4.8, 4.6, 4.6, 4.3, 4.7, 4.5, 4.3, 4.7, 4.4, 4.6, 4.6, 4.8, 4.0, 4.5, 4.7, 4.6, 4.6, 4.4, 5.0, 4.4, 4.8, 4.4, 2.7, 4.0, 4.3, 4.4, 3.5, 4.5, 4.6, 3.4, 4.6, 4.6, 4.4, 4.8, 4.8, 3.7, 4.4, 4.3, 4.6, 4.4, 4.7, 4.5, 4.2, 4.3, 4.0, 4.2, 4.0, 2.7, 4.5, 3.9, 4.4, 4.6, 2.7, 4.6, 4.4, 4.2, 4.6, 4.1, 4.5, 4.0, 4.4, 4.4, 4.5, 4.2, 4.2, 4.2, 4.7, 4.4, 4.7, 4.4, 4.4, 3.4, 3.7, 4.3, 4.1, 3.8, 4.3, 3.9, 3.6, 4.2, 3.2, 4.7, 4.2, 4.1, 4.2, 4.2, 4.1, 4.1, 4.4, 4.1, 4.0, 4.2, 4.0, 4.1, 4.1, 4.3, 4.2, 4.5, 4.2, 4.4, 4.3, 4.4, 4.3, 4.3, 4.5, 3.9, 3.7, 4.2, 4.6, 4.3, 4.2, 4.7, 4.7, 4.4, 4.6, 4.6, 3.9, 4.6, 4.0, 4.1, 3.8, 4.2, 4.0, 3.9, 4.2, 4.3, 3.9, 4.1, 4.1, 4.4, 4.2, 4.4, 4.1, 4.1, 3.8, 4.4, 4.7, 4.8, 4.7, 4.7, 4.4, 4.3, 4.5, 4.3, 4.5, 4.7, 4.3, 4.6, 4.4, 4.0, 3.8, 4.0, 3.9, 4.4, 4.4, 4.1, 4.5, 4.5, 4.3, 4.1, 4.3, 4.4, 4.3, 4.6, 4.2, 4.7, 4.6, 4.4, 4.5, 4.5, 4.4, 4.3, 4.3, 4.3, 4.3, 4.4, 4.2, 4.5, 4.6, 4.4, 4.3, 4.4, 4.6, 4.4, 4.0, 3.4, 4.4, 4.2, 4.4, 4.4, 4.2, 4.0, 4.2, 4.0, 4.5, 4.3, 4.2, 4.1, 4.2, 4.4, 4.0, 4.4, 4.6, 4.0, 4.2, 4.1, 4.4, 4.3, 3.5, 4.3, 3.8, 4.3, 4.3, 3.9, 4.5, 4.2, 4.3, 4.5, 4.4, 4.3, 4.3, 4.4, 4.6, 4.4, 4.4, 4.2, 4.7, 4.2, 4.3, 4.4, 4.0, 4.4, 4.0, 3.9, 4.5, 4.2, 4.2, 4.5, 3.8, 4.2, 4.4, 4.4, 4.4, 3.8, 4.8, 4.1, null, 3.9, 4.2, 4.6, 4.1, 4.3, 4.2, 4.2, 4.4, 4.3, 4.3, 4.2, 4.2, 4.2, 4.3, 4.4, 4.1, 4.3, 4.3, 4.5, 4.6, 4.3, 4.3, 4.6, 4.4, 4.6, 4.3, 4.4, 4.6, 4.6, 4.1, 4.9, 4.0, 4.3, 3.9, 3.7, 4.6, 4.0, 4.1, 4.2, 4.1, 3.9, 4.5, 4.0, 4.4, 4.5, 3.8, 4.0, 4.2, 4.2, 4.2, 3.9, 4.0, 4.3, 4.5, 4.6, 4.3, 4.5, 4.1, 4.3, 4.2, 4.4, 3.6, 4.6, 4.2, 3.7, 4.7, 4.6, 4.3, 4.5, 3.1, 4.3, 4.4, 4.1, 4.5, 4.2, 4.4, 4.3, 4.4, 4.2, 4.2, 4.2, 2.3, 2.9, 3.2, 2.9, 3.8, 2.9, 4.0, 4.4, 4.1, 3.9, 4.3, 4.4, 4.6, 3.9, 3.8, 4.2, 4.4, 3.5, 4.2, 4.2, 3.8, 4.2, 3.8, 3.9, 4.2, 4.4, 4.1, 4.6, 4.6, 4.4, 4.6, 4.6, 4.4, 4.6, 4.4, 4.5, 3.7, 3.9, 3.1, 4.6, 4.3, 4.4, 3.5, 4.5, 4.3, 4.2, 4.2, 4.4, 4.2, 4.1, 4.4, 4.3, 4.0, 4.2, 4.1, 4.6, 4.3, 4.7, 4.6, 4.5, 3.9, 3.9, 4.4, 4.5, 4.3, 3.8, 3.9, 4.4, 4.4, 4.2, 4.4, 3.9, 4.5, 4.3, 4.1, 4.3, 4.2, 4.5, 4.4, 4.5, 4.5, 3.2, 4.1, 3.9, 3.5, 3.8, 4.4, 3.5, 3.9, 4.1, 4.6, 4.2, 3.2, 3.8, 4.4, 2.7, 4.1, 3.6, 4.5, 4.2, 4.0, 4.2, 4.3, 4.5, 4.4, 3.9, 3.3, 4.5, 4.2, 2.9, 3.7, 4.4, 2.9, 4.5, 4.4, 3.6, 4.6, 3.8, 4.5, 4.7, 4.7, 4.3, 4.6, 4.4, 4.4, 4.6, 4.2, 4.5, 3.9, 3.9, 4.7, 4.4, 4.7, 4.7, 4.4, 4.6, 4.6, 3.3, 4.5, 4.5, 4.7, 4.6, 4.4, 4.1, 4.2, 4.7, 4.5, 4.6, 4.8, 4.1, 4.8, 4.8, 4.3, 4.5, 4.8, 4.5, 4.6, 4.4, 4.6, 4.6, 4.4, 4.6, 4.2, 4.5, 4.8, 4.7, 4.9, 4.5, 4.0, 4.6, 4.6, 4.4, 4.3, 4.3, 4.4, 4.0, 4.2, 4.3, 3.9, 4.0, 4.6, 4.1, 4.6, 4.5, 4.4, 4.3, 4.3, 4.5, 3.8, 4.4, 4.6, 4.3, 4.4, 4.2, 4.6, 4.4, 4.5, 3.7, 4.8, 4.6, 4.0, 4.5, 4.5, 4.5, 4.7, 4.3, 4.7, 4.2, 4.6, 4.7, 4.7, 4.6, 4.3, 4.3, 4.4, 4.8, 4.5, 4.5, 4.2, 3.9, 4.6, 4.4, 4.4, 4.6, 4.6, 3.9, 4.5, 4.4, 4.2, 4.4, null, 4.5, 4.5, 4.3, 4.3, 4.2, 4.0, 4.2, 4.3, 4.5, 3.5, 4.2, 4.2, 4.4, 4.4, 4.6, 4.4, 4.0, 3.6, 4.8, 4.5, 4.7, 4.6, 4.6, 4.4, 4.6, 4.1, 1.7, 4.1, 2.5, 4.3, 2.3, 4.7, 4.5, 4.4, 4.4, 4.4, 2.9, 4.1, 4.3, 4.7, 4.1, 4.6, 3.8, 4.2, 2.3, 4.7, null, 3.9, 4.3, 3.9, 4.5, 4.4, 4.3, 4.6, 3.9, 3.5, 3.9, 4.5, 4.1, 4.5, 4.5, 4.6, 4.5, 4.7, 4.4, 3.8, 4.5, 3.2, 4.1, 4.6, 4.6, 4.4, 4.7, 4.4, 4.4, 4.5, 4.3, 3.7, 4.1, 4.4, 4.6, 4.9, 3.8, 4.8, 4.4, 3.5, 4.2, 3.9, 3.7, 4.2, 3.5, 4.5, 4.0, 4.1, 4.2, 4.4, 4.9, 1.9, 4.5, 4.3, 4.7, 4.5, 4.4, 4.3, 3.0, 4.2, 4.0, 4.6, 3.6, 4.3, 4.4, 3.0, 4.1, 4.2, 4.2, 4.5, 4.6, 4.5, 3.9, 4.2, 4.4, 4.6, 4.5, 4.2, 4.4, 4.5, 4.3, 4.5, 4.7, 4.0, 2.5, 4.4, 4.2, 4.3, 3.6, 3.9, null, 4.2, 3.6, 4.6, 3.3, 4.3, 4.0, 4.2, 2.9, 4.4, 4.1, 4.6, 4.6, 4.5, 4.6, 4.2, 4.4, 3.9, 4.6, 4.4, 3.2, 4.5, 4.3, 4.7, 4.4, 4.6, 4.3, 4.6, 4.2, 4.3, 4.7, 4.6, 3.4, 4.6, 4.5, 4.3, 4.1, 3.0, 3.6, 4.4, 4.9, 4.4, 4.7, 4.7, 4.0, 4.7, 4.2, 4.1, 4.2, 4.4, 4.7, 4.5, 4.4, 4.2, 4.5, 4.3, 4.5, 4.4, 4.2, 4.3, 4.6, 4.2, 4.1, 4.1, 4.0, 4.1, 4.3, 4.4, 4.5, 4.4, 4.2, 4.6, 4.4, 4.5, 4.2, 4.1, 3.7, 4.1, 4.2, 4.0, 4.4, 4.3, 4.3, 4.5, 4.5, 4.7, 4.4, 3.9, 4.5, 4.0, 4.6, 4.1, 4.4, 4.5, 4.4, 4.1, 4.5, 4.4, 4.6, 4.7, 4.5, 4.3, 4.4, 3.7, 4.5, 4.5, 4.7, 4.5, 3.9, 4.0, 4.8, 4.5, 4.3, 4.4, 4.5, 4.8, 4.7, 4.5, 4.8, 4.5, 4.6, 4.6, 4.7, 4.5, 4.6, 4.4, 4.4, 4.3, 4.3, 4.7, 4.2, 4.6, 4.6, 4.7, 4.5, 4.7, 4.5, 4.5, 4.6, 4.6, 4.5, 4.1, 4.5, 4.2, 4.5, 4.5, 4.3, 4.6, 3.5, 4.5, 4.5, 3.5, 4.1, 3.6, 3.7, 4.3, 4.6, 4.2, 4.5, 4.7, 4.1, 4.2, 4.6, 4.5, 4.9, 4.2, 4.8, 4.4, 4.1, 3.4, 4.1, 4.3, 3.9, 4.2, 4.4, 4.6, 4.2, 4.3, 4.6, 3.6, 4.5, 4.5, 3.8, 4.4, 4.4, 4.4, 4.3, 4.2, 4.5, 4.0, 4.5, 4.4, 4.6, 4.8, 4.1, 4.5, null, 4.2, null, 4.5, 4.3, 4.5, 4.4, 4.7, 4.0, 4.6, 4.5, 4.5, 4.3, 4.5, 4.2, 4.5, 4.5, 4.5, 4.5, 4.8, 4.5, 4.2, 4.3, 4.3, 4.4, 4.5, 4.5, 4.4, 4.0, 4.2, 4.0, 4.6, 4.5, 4.3, 4.3, 4.6, 4.6, 4.7, 4.2, 4.3, 4.6, 4.2, 4.5, 4.7, 4.4, 4.5, 3.6, 4.0, 3.0, 4.2, 4.4, 4.2, 4.3, 4.3, 4.6, 4.4, 4.6, 4.3, 4.3, 4.3, 4.3, 4.8, 4.3, 4.4, 4.2, 4.2, 4.4, 4.8, 4.4, 4.2, 4.2, 4.4, 3.3, 3.3, 4.6, 4.0, 4.9, 4.4, 4.1, 4.3, 4.7, 4.3, 4.3, 4.2, 4.2, 3.7, 4.7, 4.4, 2.5, 3.9, 3.6, 4.3, 4.3, 3.7, null, 4.0, 4.6, 4.0, 4.7, 4.4, 4.5, 3.6, 4.8, 4.6, 4.5, 4.1, 3.8, 4.8, 4.7, 4.2, 3.8, 3.8, 4.2, 4.3, 4.8, 4.6, 4.5, 4.3, 4.2, 3.3, 4.0, 4.2, 2.9, 4.5, 4.3, 4.1, 4.3, 4.4, 3.4, 4.3, 4.3, 3.6, 4.4, 3.3, 4.2, 3.9, 4.5, 3.2, 4.4, 4.4, 4.4, 3.0, 4.2, 3.4, 4.5, 3.4, 4.5, 4.5, 4.3, 4.0, 4.6, 4.3, 4.4, 4.0, 4.3, 4.2, 3.9, 4.5, 4.0, 3.8, 3.8, 4.5, 3.8, 4.2, 3.8, 4.3, 4.3, 4.5, 4.1, 3.6, 4.4, 4.5, 4.2, 4.1, null, 4.5, 4.3, 4.0, 4.2, 3.6, 4.5, 4.1, 4.3, 2.9, 3.6, 4.4, 4.6, 4.3, 3.8, 4.6, 3.4, 3.0, 4.0, 3.5, 2.8, 4.2, 4.4, 4.0, 4.2, 3.2, 4.5, 4.4, 4.0, 4.1, 3.8, 2.7, 2.5, 4.0, 3.8, 4.4, 3.7, 4.0, 4.0, 3.5, 4.2, 3.4, 3.6, 4.7, 4.4, 4.3, 4.4, 4.2, 4.5, 4.3, 4.1, 4.4, 3.4, 3.5, 4.0, 4.6, 4.5, 3.9, 4.2, 4.4, 4.1, 4.2, 4.6, 4.0, 4.0, 4.2, 3.4, 4.4, 4.3, 2.9, 2.6, 4.1, 3.5, 4.6, 4.8, 4.4, 4.3, 4.5, 4.3, 4.5, 4.4, 4.4, 4.4, 4.1, 3.9, 4.7, 4.7, 4.3, 4.4, 4.5, 4.3, 4.4, 4.3, 3.4, 4.5, 3.8, 4.1, 4.3, 3.7, 4.7, 4.0, 4.2, 4.5, 4.0, 4.5, 4.3, 4.4, 4.6, 4.4, 4.2, 4.4, 4.0, 3.6, 4.5, 4.0, 4.7, 4.1, 3.6, 4.6, 4.6, 4.3, 2.7, 4.4, 4.4, 4.6, 4.3, 4.5, 4.6, 4.2, 4.6, 4.5, 4.7, 3.8, 4.4, 4.3, 4.1, 4.5, 4.0, 4.3, 4.6, 4.2, 4.2, 4.6, 4.5, 4.0, 4.4, 4.4, 4.1, 4.5, 4.1, 3.8, 4.1, 4.1, 4.3, 4.3, 4.5, 4.0, 4.4, 4.4, 4.3, 3.9, 4.4, 3.8, 4.3, 4.2, 4.4, 4.5, 3.9, 4.0, 4.1, 3.5, 4.4, 4.4, 4.5, 3.9, 4.2, 4.4, 4.6, 4.4, 4.1, 4.5, 4.6, 4.1, 4.6, 4.2, 4.4, 4.6, 4.1, 4.1, 4.6, 4.6, 4.6, 4.6, 4.5, 4.5, 3.3, 4.5, 4.4, 4.3, 4.8, 2.9, 4.6, 4.3, 2.8, 4.2, 4.5, 4.5, 4.2, 4.5, 3.8, 4.1, 4.2, 4.7, 4.2, 4.4, 4.4, 4.5, 4.4, 4.5, 4.3, 4.5, 4.5, 4.5, 4.4, 4.7, 4.4, 4.5, 4.5, 4.2, 4.2, 4.3, 4.3, 4.5, 4.4, 4.5, 4.3, 4.4, 4.6, 4.5, 4.0, 4.7, 4.7, 4.4, 4.4, 4.6, 4.5, 4.6, 4.3, 4.6, 4.2, 4.6, 4.2, 4.4, 4.4, 2.7, 4.5, 4.3, 4.6, 4.5, 4.7, 4.3, 4.3, 4.1, 4.3, 4.3, 4.5, 4.7, 4.7, 3.6, 4.5, 4.3, 4.5, 4.4, 4.2, 4.3, 4.6, 4.4, 4.3, 4.8, 4.3, 4.2, 4.4, 4.2, 4.3, 4.6, 4.6, 4.4, 4.5, 4.4, 4.6, 4.6, 4.5, 4.2, 3.8, 3.8, 4.5, 4.5, 4.7, 4.7, 4.3, 4.0, 4.1, 4.2, 4.5, 4.0, 4.5, 4.3, 4.4, 4.4, 4.1, 4.4, 4.6, 4.4, 4.3, 4.5, 4.2, 4.4, 4.3, 4.5, 3.7, 3.4, 4.4, 4.8, 4.5, 4.4, 4.0, 4.3, 4.7, 3.5, 4.1, 4.1, 4.2, 4.3, 4.6, 4.1, 4.4, 4.3, 4.4, 3.8, 4.6, 4.3, 4.6, 4.1, 4.3, 4.5, 4.5, 4.4, 4.4, 4.5, 4.4, 4.6, 4.4, 4.5, 4.6, 4.5, 4.7, 4.7, 4.6, 4.7, 4.6, 4.3, 4.6, 4.3, 4.6, 4.7, 4.4, 4.5, 4.3, 4.5, 4.4, 4.8, 4.6, 4.5, 4.5, 4.5, 4.2, 4.7, 4.4, 4.5, 3.8, 4.2, 2.2, 4.6, 4.7, 4.6, 4.1, 4.4, 4.6, 4.3, 3.5, 3.9, 4.2, 3.0, 4.7, 4.0, 4.3, 4.6, 4.6, 4.5, 4.0, 3.8, 3.4, 4.6, 4.6, 4.0, 4.0, 3.2, 4.6, 4.3, 4.4, 1.9, 4.0, 4.3, 4.4, 4.3, 3.8, 4.5, 4.5, 4.3, 4.4, 3.8, 4.1, 3.2, 3.7, 4.3, 4.1, 4.3, 3.1, 4.1, 4.3, 4.2, 4.0, 2.6, 4.3, 4.1, 4.2, 4.2, 4.4, 4.4, 3.9, 4.2, 4.7, 4.4, 4.3, 4.2, 3.6, 4.1, 4.5, 3.9, 2.9, 4.3, 4.1, 3.9, 3.7, 4.7, 4.3, 4.1, 3.7, 3.8, 4.5, 4.3, 3.8, 4.4, 4.3, 3.6, 3.8, 4.8, 4.1, 3.2, 4.3, 2.7, 4.5, 4.2, 4.3, 3.9, 2.9, 4.6, 4.4, 4.0, 4.8, 4.2, 3.5, 4.4, 4.7, 3.9, 4.8, 2.9, 4.5, 4.7, 4.4, 4.8, 3.5, 4.9, 3.9, 4.0, 3.4, 3.5, 4.3, 4.7, 3.3, 4.5, 3.8, 4.0, 4.3, 4.5, 4.8, 4.4, 4.6, 3.8, 4.1, 4.7, 4.1, 4.4, 4.2, 4.9, 4.4, 3.5, 2.8, 4.7, 4.2, 4.5, 4.7, 4.1, 4.7, 4.2, 3.7, 2.8, 4.3, 4.2, 3.9, 4.4, 3.7, 4.6, 4.4, 4.3, 3.1, 4.4, 4.6, 4.7, 4.6, 4.8, 4.5, 4.7, 4.7, 4.1, 4.3, 4.6, 4.8, 3.6, 4.5, 4.7, 4.6, 4.5, 4.4, 4.0, 4.4, 4.5, 3.5, 4.6, 2.7, 3.7, 4.5, 2.8, 4.4, 2.3, 4.5, 4.2, 3.3, 3.9, 3.6, 4.5, 3.6, 3.8, 4.5, 4.4, 4.6, 3.8, 4.6, 4.4, 4.2, 4.1, 3.8, 2.9, 3.7, 4.5, 3.3, 4.2, 3.0, 2.6, 3.8, 4.2, 3.7, 2.1, 4.7, 4.3, 4.0, 4.9, 3.3, 3.6, 3.7, 4.4, 4.5, 4.4, 4.0, 4.2, 4.1, 4.4, 3.6, 3.6, 4.3, 3.7, 4.1, 4.5, 4.0, 3.4, 4.2, 3.0, 3.2, 4.0, 3.9, 3.5, 3.7, 4.4, 4.4, 3.9, 3.9, 2.6, 4.4, 4.3, 4.8, 4.5, 4.5, 4.8, 4.5, 4.3, 4.0, 4.5, 4.5, 4.2, 4.5, 3.9, 4.2, 4.2, 3.2, 4.4, 4.2, 3.3, 3.3, 3.9, 3.7, 4.1, 4.2, 3.9, 3.8, 3.3, 3.9, 4.4, 3.4, 4.2, 3.5, 4.0, 4.8, 3.9, 3.4, 4.0, 3.7, 4.4, 4.2, 4.2, 4.1, 4.0, 3.7, 4.6, 4.5, 3.1, 4.6, 4.1, 4.2, 4.2, 4.1, 4.5, 4.5, 4.1, 4.3, 4.4, 4.3, 4.0, 4.6, 4.4, 4.7, 4.5, 4.6, 4.1, 4.6, 4.6, 4.3, 3.9, 3.3, 3.7, 4.2, 2.6, 3.8, 3.4, 3.6, 3.3, 2.9, 1.9, 3.1, 4.5, 3.4, 4.6, 3.2, 3.3, 3.5, 3.6, 3.8, 3.4, 3.5, 4.2, 3.9, 4.6, 3.2, 3.5, 4.7, 4.3, 4.7, 4.3, 3.5, 3.5, 3.1, 3.7, 3.6, 4.4, 3.3, 4.3, 4.3, 4.5, 2.7, 4.3, 4.3, 3.5, 3.9, 4.3, 4.2, 4.5, 4.5, 3.7, 4.2, 3.5, 2.4, 4.0, 3.3, 3.6, 4.2, 4.2, 4.9, 4.3, 4.0, 2.8, 4.3, null, 4.4, 4.3, 3.7, 4.2, 4.5, 4.6, 4.4, 4.5, 4.0, 3.1, 4.6, 4.3, 4.6, 4.0, 4.6, 4.8, 4.5, 3.2, 4.2, 3.3, 4.1, 3.7, 3.7, 4.3, 3.4, 4.7, 4.3, 3.0, 4.2, 4.5, 4.7, 4.5, 4.6, 3.4, 4.0, 3.5, 4.3, 4.6, 3.5, 4.4, 4.6, 4.5, 4.0, 3.9, 4.1, 4.7, 4.2, 3.6, 3.2, 2.5, 4.4, 4.4, 4.3, 2.6, 4.4, 3.9, 4.4, 2.8, 4.3, 4.6, 4.7, 4.3, 4.4, 4.2, 4.8, 4.0, 4.4, 4.1, 4.6, 4.3, 3.8, 4.2, 4.6, 4.4, 4.5, 4.0, 4.3, 4.7, 3.3, 4.0, 3.8, 4.8, 4.7, 4.2, 4.5, 3.3, 3.8, 4.5, 4.4, 3.7, 4.1, 4.4, 3.8, 4.5, 4.0, 4.4, 4.3, 4.1, 4.4, 3.9, 4.1, 4.4, 4.4, 4.1, 4.4, 3.9, 4.5, 4.4, 3.5, 4.4, 4.1, 4.4, 4.4, 4.1, 4.4, 4.3, 4.1, 4.4, 4.1, 4.0, 4.3, 4.3, 4.2, 4.2, 4.1, 4.2, 3.9, 4.3, 3.0, 4.2, 4.0, 4.3, 4.3, 4.2, 3.8, 4.5, 4.3, 4.3, 4.6, 4.3, 3.9, 3.4, 3.3, 4.5, 3.8, 4.3, 4.2, 2.9, 4.5, 4.5, 4.6, 4.5, 4.3, 4.2, 4.4, 4.2, 4.5, 4.4, 3.9, 4.3, 4.3, 4.3, 4.4, 4.4, 4.3, 4.5, 4.4, 4.3, 4.8, 4.1, 4.5, 4.7, 4.6, 4.4, 4.5, 4.4, 4.2, 4.2, 4.4, 4.5, 4.4, 3.5, 3.8, 4.7, 4.7, 4.8, 4.2, 4.2, 4.7, 4.4, 3.9, 4.2, 4.5, 4.5, 4.3, 4.4, 4.4, 4.5, 3.9, 4.5, 4.3, 1.8, 3.5, 4.7, 2.6, 2.2, 3.7, 4.6, 3.8, 2.2, 4.7, 4.2, 4.8, 3.1, 3.5, 4.4, null, 4.0, 3.8, 3.9, 4.3, 4.6, 4.4, 3.9, 4.8, 4.5, 4.6, 4.2, 4.3, 3.2, 4.3, 4.4, 4.5, 4.2, 4.6, 4.5, 4.4, 4.2, 4.7, 4.7, 3.8, 4.0, 3.7, 4.2, 3.8, 3.4, 4.5, 4.3, 3.4, 4.2, 4.2, 3.9, 4.6, 4.5, 4.3, 4.2, 4.8, 4.0, 4.6, 1.9, 4.3, 3.6, 3.7, 4.2, 3.9, 3.3, 3.7, 4.3, 4.0, 3.3, 3.0, 3.9, 3.2, 4.7, 3.8, 4.5, 3.1, 3.9, 4.5, 4.2, 4.0, 3.8, 4.1, 4.2, 4.7, 4.0, 4.5, 3.3, 4.2, 2.6, 4.1, 3.8, 4.1, 3.7, 3.1, 3.4, 4.3, 4.1, 4.1, 3.6, 3.9, 4.4, 3.6, 4.6, 4.0, 4.5, 4.2, 2.3, 4.1, 4.4, 4.0, 3.2, 3.6, 4.3, 4.3, 3.7, 4.1, 3.4, 4.3, 4.5, 4.3, 3.7, 4.3, 4.4, 3.8, 4.5, 4.2, 2.7, 4.4, 4.0, 3.3, 4.2, 4.2, 4.6, 4.2, 3.2, 4.0, 4.3, 3.5, 4.5, 4.3, 4.1, 4.6, 4.0, 4.3, 4.0, 4.2, 4.3, 4.0, 4.6, 3.9, 3.6, 4.1, 3.6, 4.0, 4.2, 4.7, 3.7, 3.8, 4.5, 3.6, 2.7, 3.9, 3.9, 3.9, 4.5, 4.4, 4.3, 4.4, 4.3, 4.4, 4.4, 3.8, 4.8, 4.4, 3.9, 4.0, 3.6, 4.4, 4.1, 4.5, 4.3, 4.6, 4.4, 4.3, 4.3, 4.5, 4.2, 4.3, 3.9, 3.7, 4.7, 4.5, 3.1, 4.6, 4.4, 2.9, 3.4, 4.0, 1.9, 4.5, 4.4, 4.2, 4.6, 3.9, 4.6, 4.5, 4.1, 4.4, 4.1, 4.2, 4.1, 4.2, 4.0, 3.5, 4.1, 3.4, 4.2, 2.8, 3.4, 4.0, 4.5, 3.7, 4.6, 2.5, 4.3, 3.2, 3.8, 4.5, 4.2, 4.7, 4.3, 4.0, 4.3, 4.2, 2.6, 2.4, 3.2, 3.6, 3.2, 4.0, 4.3, 4.2, 4.2, 4.6, 4.8, 4.4, 2.9, 3.5, 3.9, 4.5, 4.6, 4.4, 4.2, 2.5, 2.8, 3.9, 4.1, 4.4, 4.3, 4.5, 2.6, 3.7, 4.1, 4.4, 3.9, 4.5, 3.7, 4.2, 4.3, 4.5, 4.3, 4.1, 4.7, 3.9, 4.2, 3.9, 4.1, 3.9, 4.5, 4.3, 4.0, 4.6, 3.4, 4.2, 4.2, 4.3, 3.9, 4.1, 4.3, 3.4, 4.1, 4.4, 3.6, 1.6, 4.4, 3.4, 4.4, 4.6, 4.7, 4.3, 4.0, 3.8, 4.0, 3.6, 4.5, 3.0, 4.5, 4.3, 4.5, 4.7, 4.0, 4.2, 4.6, 3.4, 4.2, 4.7, 4.4, 4.5, 4.0, 4.8, 4.4, 4.4, 4.3, 3.8, 4.6, 4.1, 4.3, 4.2, 3.8, 2.0, 4.8, 4.5, 2.9, 4.0, 4.5, 4.5, 4.7, 4.8, 4.8, 4.4, 4.6, 2.1, 4.7, 4.4, 3.6, 4.5, 4.5, 4.7, 4.0, 4.4, 3.6, 4.0, 3.3, 4.3, 3.5, 4.8, 4.2, 4.7, 4.1, 4.0, 4.1, 4.3, 4.3, 4.2, 4.3, 4.2, 3.7, 3.6, 4.7, 3.7, 4.8, 3.8, 4.1, 4.6, 4.0, 4.2, 4.5, 3.9, 4.3, 3.5, 4.4, 1.9, 4.4, 4.4, 4.2, 4.3, 4.0, 4.3, 4.4, 4.3, 4.4, 4.6, 4.5, 4.2, 4.6, 4.1, 4.6, 4.6, 3.2, 4.5, 4.0, 3.9, 4.3, 4.6, 4.5, 4.1, 3.9, 4.3, 5.0, 3.9, 3.9, 4.4, 3.4, 4.3, 3.4, 4.4, 4.3, 4.3, 3.8, 4.2, 4.0, 4.1, 4.4, 3.4, 4.4, 4.4, 4.5, 4.5, 3.3, 3.8, 4.2, 4.5, 4.4, 4.5, 3.8, 4.4, 3.4, 4.6, 4.4, 3.0, 4.3, 4.2, 4.6, 4.7, 4.4, 4.5, 4.6, 4.3, 4.6, 4.4, 4.4, 4.6, 4.5, 4.7, 4.2, 4.2, 4.3, 4.5, 4.5, 4.6, 4.1, 3.9, 4.3, 3.3, 4.4, 3.6, 4.3, 4.4, 4.4, 4.6, 4.5, 4.7, 4.4, 3.8, 4.2, 3.7, 4.1, 4.6, 4.4, 4.3, 4.7, 4.5, 4.5, 3.6, 4.2, 4.2, 4.6, 4.3, 4.3, 4.1, 4.6, null, 4.8, 4.7, 4.2, 4.1, 4.0, 4.2, 4.4, 4.8, 4.4, 3.9, 4.7, 4.2, 4.5, 4.7, 4.5, 4.6, 4.3, 4.5, 4.1, 3.5, 4.3, 4.5, 4.3, 4.2, 4.5, 4.3, 3.9, 3.3, 4.1, 4.6, 4.3, 4.1, 4.7, 4.3, 4.1, 4.0, 4.5, 4.6, 4.6, 4.6, 4.6, 4.7, 4.7, 3.8, 3.7, 2.9, 4.6, 4.3, 4.8, 3.0, 3.9, 4.7, 3.9, 3.3, 3.3, 4.2, 2.2, 4.5, 4.6, 3.6, 4.1, 3.6, 4.5, 3.9, 4.5, 4.1, 4.4, 4.5, 4.4, 4.4, 4.4, 4.1, 4.4, 4.1, 3.5, 4.5, 4.2, 4.2, 4.0, 4.3, 4.4, 4.1, 4.6, 4.1, 4.1, 4.3, 4.0, 4.4, 4.2, 4.3, 4.1, 4.3, 4.3, 4.3, 4.4, 4.4, 4.4, 4.2, 4.1, 4.5, 4.3, 4.2, 3.8, 4.0, 4.3, 4.4, 4.2, 4.7, 4.3, 4.4, 4.2, 4.6, 4.0, 4.4, 4.2, 4.5, 4.2, 4.6, 4.5, 4.1, 4.5, 4.6, 3.6, 4.7, 4.4, 4.5, 4.4, 3.6, 4.1, 4.6, 4.4, 4.7, 4.2, 4.8, 4.4, 4.4, 4.0, 4.7, 4.9, 4.4, 4.7, 4.5, 4.6, 4.6, 3.1, 4.3, 3.4, 4.4, 4.0, 2.7, 4.2, 4.4, 3.4, 4.4, 4.7, 4.5, 4.3, 4.5, 4.2, 4.5, 4.7, 4.5, 4.0, 4.5, 4.1, 4.0, 4.3, 2.8, 4.6, 4.7, 4.5, 4.5, 4.5, 4.5, 4.1, 4.4, 4.3, 4.5, 4.3, 4.6, 4.0, 4.8, 4.4, 3.9, 4.7, 3.9, 4.5, 4.5, 3.7, 2.5, 4.3, 4.2, 4.1, 4.1, 4.2, 4.3, 4.7, 4.7, 4.6, 4.4, 4.5, 4.5, 4.5, 4.5, 4.4, 4.4, 4.3, 4.7, 4.7, 4.3, 4.5, 4.6, 4.5, 4.3, 4.6, 2.8, 4.0, 4.0, 3.0, 4.5, 4.4, 3.6, 4.3, 3.1, 3.8, 4.2, 4.2, 4.6, 4.2, 3.7, 4.7, 4.2, 4.7, 3.8, 4.3, 4.6, 3.9, 4.3, 4.2, 4.2, 4.1, 4.4, 4.5, 4.6, 4.3, 4.1, 4.3, 4.5, 4.6, 4.0, 4.4, 4.8, 4.5, 4.6, 4.7, 4.6, 3.8, 4.7, 3.6, 4.0, 4.2, 3.6, 4.5, 3.2, 4.4, 2.4, 3.7, 4.2, 4.3, 4.4, 3.1, 3.8, 4.3, 4.3, 4.4, 4.0, 4.2, 4.5, 3.2, 4.3, 4.2, 4.6, 4.4, 3.8, 4.2, 4.1, 3.1, 4.5, 3.9, 3.4, 3.9, 4.3, 4.1, 4.4, 4.4, 3.7, 4.1, 4.4, 3.2, 4.6, 4.6, 4.5, 4.6, 4.5, 4.1, 4.2, 3.7, 4.5, 2.8, 4.1, 4.7, 4.2, 4.4, 4.6, 3.7, 3.5, 4.3, 4.4, 3.9, 4.4, 4.4, 4.2, 4.0, 4.0, 4.7, 2.9, 4.4, 4.4, 4.2, 4.4, 4.4, 4.2, 4.2, 4.6, 3.9, 4.6, 4.8, 4.0, 4.1, 3.9, 3.2, 3.9, 4.5, 4.0, 4.3, 4.9, 2.5, 4.4, 4.4, 4.5, 4.0, 4.5, 3.8, 4.6, 3.2, 1.8, 4.6, 3.9, 3.8, 3.4, 4.4, 3.8, 3.8, 3.6, 4.7, 4.8, 4.7, 4.3, 4.0, 4.3, 4.6, 4.5, 3.8, 4.1, 4.4, 2.1, 3.1, 4.6, 4.5, 4.2, 3.9, 2.9, 4.4, 4.2, 4.4, 4.1, 4.4, 4.2, 4.3, 4.2, 4.0, 4.0, 3.9, 4.4, 4.7, 4.5, 4.7, 4.1, 4.3, 4.4, 2.0, 4.3, 3.3, 4.1, 4.3, 3.3, 4.6, 4.2, 4.4, 4.4, 4.2, 3.9, 4.5, 4.4, 4.0, 4.3, 4.5, 4.7, 4.2, 3.1, 4.4, 4.1, 4.5, 4.3, 4.5, 4.3, 4.4, 4.0, 4.4, 4.5, 2.7, 4.2, 4.6, 2.1, 3.5, 2.1, 4.0, 4.0, 4.2, 3.7, 4.3, 4.5, 4.6, 4.2, 4.1, 4.0, 4.1, 3.0, 3.3, 4.5, 4.5, 2.2, 4.8, 4.2, 3.9, 5.0, 4.5, 4.1, 3.6, 1.7, 2.3, 3.8, 4.5, 4.5, 4.2, 4.4, 4.2, 2.3, 2.6, 3.4, 4.5, 3.6, 2.4, 4.0, 3.9, 4.4, 4.6, 4.6, 4.0, 4.5, 4.1, 3.2, 4.1, 4.2, 4.4, 4.0, 4.2, 4.1, 3.0, 4.2, 4.2, 3.6, 4.1, 4.3, 4.0, 4.1, 3.7, null, 4.6, 4.1, 4.1, 3.2, 4.4, 4.4, null, 3.9, 4.5, 4.5, 4.0, 2.7, 4.4, 4.7, 4.3, 3.8, 4.5, 4.0, 1.6, 4.5, 4.3, 4.7, 4.6, null, 4.3, 4.5, 3.9, 4.4, 3.9, 4.1, 4.5, 4.5, 4.0, 4.6, 2.4, 4.2, 3.6, 4.1, 4.2, 4.8, null, 4.6, 4.2, 4.4, 3.9, 3.7, 3.9, 4.5, 4.1, 2.2, 4.6, 4.6, 4.6, 4.7, 3.5, 4.9, 4.7, 4.6, 4.8, 4.0, 4.9, 4.8, 4.4, 4.2, 3.6, 3.2, 4.0, 4.7, 3.8, 4.7, 4.9, 4.0, 4.7, 3.3, 4.5, 4.6, 3.9, 3.1, 4.6, 3.6, 4.2, 3.7, 3.3, 4.4, 3.1, 4.7, null, 4.5, 4.7, 4.7, 4.7, 4.8, 4.8, 4.8, 4.7, 4.1, 2.3, 4.7, 4.4, 4.8, 4.7, 4.5, 3.1, 4.9, 4.7, 4.7, 4.5, 4.4, 4.3, 4.4, 4.7, 4.0, 4.3, 4.1, 4.1, 4.5, 3.9, 4.3, 3.6, 4.6, 4.3, 4.6, 4.2, 4.5, 4.2, 4.3, 4.3, 4.4, 4.6, 4.8, 4.5, 4.5, 4.4, 4.6, 4.7, 4.3, 4.4, 4.4, 4.4, 4.2, 4.5, 3.8, 4.3, 4.4, 2.9, 4.5, 3.9, 4.4, 3.5, 3.9, 4.8, 4.7, 4.1, 4.6, 4.6, 4.1, 4.6, 4.5, 4.2, 4.3, 4.4, 4.4, 2.6, 4.8, 4.1, 4.5, 4.5, 4.6, 2.0, 4.3, 4.0, 4.6, 3.8, 4.6, 4.4, 3.5, 4.6, 4.6, 4.2, 4.8, 4.0, 4.6, 4.3, 4.7, 4.7, 4.3, 4.7, 4.3, 4.2, 4.4, 4.3, 4.7, 4.8, 4.6, 4.5, 3.9, 4.2, 4.1, 4.3, 4.0, 3.8, 4.6, 4.2, 3.9, 4.5, 4.3, 4.5, 3.3, 4.2, 4.4, 4.3, 4.2, 4.4, 3.6, 4.7, 4.0, 3.5, null, 4.2, 4.8, 4.7, 4.9, 4.8, 4.8, 4.8, 4.8, 4.1, 3.7, 4.7, 4.8, 4.7, 4.4, 4.7, 4.7, 4.9, 4.1, 4.3, 3.8, 4.0, 3.9, 4.1, 4.2, 3.0, 4.7, 4.7, 3.5, 3.3, 4.4, 4.2, 3.8, 4.6, 4.2, 4.2, 4.8, 2.5, 4.1, 4.7, 3.8, 4.3, 4.2, 4.6, 4.4, 3.9, 4.1, 4.6, 3.8, 4.0, 4.7, 4.4, 4.3, 4.6, 4.1, 3.9, 4.1, 4.5, 4.0, 3.9, 4.1, 4.3, 3.9, 4.1, 4.6, 4.1, 4.3, 4.1, 4.1, 4.2, 4.5, 4.3, 4.1, 4.1, 4.1, 4.3, 4.6, 4.6, 4.2, 4.0, 4.3, 4.2, 4.2, 3.9, 4.2, 3.8, 4.6, 4.6, 4.1, 4.1, 4.4, 4.5, 4.3, 4.1, 4.3, 4.2, 4.4, 4.2, 4.2, 4.2, 4.1, 4.4, 4.3, 4.2, 4.4, 4.4, 4.1, 4.3, 3.9, 4.2, 4.5, 3.8, 4.6, 4.2, 4.3, 4.1, 4.3, 4.1, 4.0, 4.1, 4.2, 4.4, 4.7, 4.1, 4.3, 4.2, 4.5, 3.7, 4.2, 4.0, 4.4, 4.6, 4.2, 4.3, 4.0, 4.0, 4.3, 4.6, 4.4, 4.3, 4.3, 4.6, 4.4, 3.7, 4.1, 3.9, 4.4, 4.3, 4.3, 4.5, 2.9, 4.2, 4.2, 4.5, 4.1, 3.2, 4.1, 4.4, 3.1, 4.1, 2.7, 4.3, 4.2, 4.7, 3.9, 4.5, 4.5, 3.1, 4.4, 4.3, 4.7, 2.4, 4.2, 4.8, 4.2, 3.9, 4.6, 3.3, 1.6, 4.7, 4.8, 4.3, 4.8, 3.9, 4.5, 4.4, 4.2, 4.4, 4.8, 4.2, 3.8, 4.5, 4.6, 4.8, 4.6, 4.7, 4.3, 1.5, 4.5, 4.4, 4.5, 3.9, 4.3, 3.7, 4.3, 4.1, 3.9, 4.9, 4.5, 4.4, 4.6, 4.3, 4.8, 4.5, 4.1, 4.6, 4.4, 4.4, 4.6, 3.8, 4.6, 4.4, 3.8, 2.5, 3.3, 4.4, 4.5, 3.5, 3.7, 3.5, 3.9, 3.8, 4.1, 3.3, 4.2, 4.0, 4.2, 3.4, 3.4, 4.1, 3.6, 4.0, 4.4, 4.0, 3.2, 4.6, 4.6, 3.7, 4.7, 4.6, 4.0, 4.7, 4.5, 4.1, 4.2, 4.3, 4.2, 4.0, 4.1, 4.6, 4.7, 4.5, 3.5, 4.3, 4.3, 4.5, 4.4, 4.5, 4.4, 4.0, 4.2, 4.5, 4.4, 4.4, 3.7, 4.5, 4.4, 4.5, 3.7, 4.4, 4.8, 4.1, 4.3, 4.3, 4.7, 4.3, 4.3, 4.1, 4.2, 4.4, 3.9, 2.7, 3.6, 4.4, 4.0, 4.5, 4.5, 2.8, 4.4, 3.8, 3.9, 4.2, 4.9, 4.3, 4.6, 4.6, 4.7, 4.7, 3.9, 3.9, 4.2, 4.4, 4.4, 4.3, 4.5, 4.2, 3.9, 4.5, 3.8, 4.2, 4.2, 4.5, 4.4, 4.7, 4.5, 4.3, 4.4, 4.4, 4.0, 4.6, 4.4, 4.1, 4.6, 4.1, 3.7, 4.0, 4.4, 4.3, 4.1, 4.4, 3.7, 4.4, 4.3, 4.4, 4.6, 4.8, 4.5, 3.0, 4.1, 4.3, 4.5, 3.5, 4.5, 3.9, 4.6, 4.5, 4.1, 4.0, 4.6, 4.1, 4.6, 4.2, 3.9, 4.3, 4.0, 4.4, 3.9, 4.2, 4.0, 4.3, 3.3, 4.8, 4.1, 3.8, 4.0, 4.4, 3.7, 2.8, 4.1, 4.4, 3.9, 4.5, 4.4, 4.5, 4.1, 4.6, 4.3, 4.1, 4.1, 2.8, 4.7, 2.2, 3.6, 3.3, 4.9, 3.9, 4.0, 3.6, 2.8, 3.8, 4.5, 3.2, 3.2, 4.6, 3.6, 4.4, 4.9, 4.5, 4.1, 4.3, 4.2, 4.5, 3.3, 4.4, 4.4, 4.5, 3.6, 4.0, 3.6, 3.7, 4.5, 4.6, 3.1, 3.4, 3.8, 4.2, 3.8, 4.4, 4.6, null, 4.4, 4.4, 4.5, 4.3, 4.2, 3.8, 3.7, 4.3, 3.6, 3.7, 4.6, 4.4, 4.3, 4.3, 4.3, 4.4, 4.3, 4.4, 4.3, 4.8, 4.7, 4.4, 4.5, 4.4, 3.0, 5.0, 4.0, 4.6, 4.4, 4.0, 4.1, 4.5, 4.5, 4.2, 4.4, 4.5, 4.4, 4.5, 4.2, 4.5, null, 4.4, 4.3, 4.3, 4.6, 4.3, 4.3, 4.4, 4.3, 4.1, 4.1, 4.3, 4.4, 3.9, 4.3, 4.2, 4.1, 3.7, 3.6, 3.7, 3.4, 3.9, 4.2, 4.0, 4.4, 4.1, 4.4, 4.4, 4.2, 4.3, 4.1, 4.2, 4.4, 4.5, 4.3, 4.2, 4.3, 4.5, 4.3, 4.0, 4.5, 4.5, 4.2, 4.3, 4.5, 4.3, 4.4, 4.3, 4.4, 4.5, null, 4.3, 4.4, null, 4.3, 4.0, 4.1, 4.3, 4.6, 4.4, 4.0, 4.0, 4.6, 4.3, 4.5, 4.2, 4.4, 4.2, 4.3, 4.3, 4.5, 3.9, 4.4, 4.3, 4.5, 4.3, 4.4, 4.5, 4.2, 4.3, 4.4, 4.2, 4.0, 4.6, 4.5, 4.5, 4.5, 4.3, 4.0, 4.0, 4.3, 4.2, 4.0, 4.1, 4.0, 4.4, 4.3, 4.3, 4.1, 4.1, 4.2, 4.3, 4.0, 4.3, 4.3, 4.1, 3.5, 4.2, 4.2, 4.5, 4.1, 3.8, 3.9, 4.3, 1.8, 3.4, 1.9, 3.1, 4.0, 4.4, 4.2, 4.3, 3.7, 4.2, 4.4, 4.5, 4.6, 4.3, 4.4, 4.5, 4.8, 4.4, 4.4, 4.6, 4.3, 4.1, 4.2, 4.4, 4.3, 4.1, 3.8, 4.3, 4.0, 4.2, 3.9, 4.2, 4.0, 4.0, 4.5, 3.9, 4.1, 4.1, 4.0, 4.0, 4.1, 3.0, 2.9, 2.5, 3.8, 3.2, 4.0, 3.8, 4.0, 1.9, 3.6, 4.3, 4.3, 3.8, 4.1, 4.0, 4.1, 3.8, 4.7, 3.6, 4.1, 4.4, 4.5, 1.8, 4.3, 4.0, 3.5, 3.9, 3.9, 3.5, 4.3, 4.6, 4.2, 3.9, 4.5, 4.7, 4.2, 4.6, 4.3, 4.2, 4.0, 4.0, 3.8, 4.2, 4.2, 4.2, 4.3, 4.2, 4.1, 3.9, 4.0, 4.4, 4.0, 4.3, 2.6, 4.6, 4.2, 4.8, 4.3, 4.6, 4.4, 4.7, 4.5, 4.3, 4.6, 4.5, 4.5, 4.5, 4.8, 4.6, 4.6, 4.4, 4.6, 4.6, 4.4, 4.1, 4.2, 4.0, 4.0, 4.2, 4.4, 4.2, 4.2, 4.0, 4.1, 4.2, 4.0, 4.4, 4.5, 3.8, 4.4, 3.9, 4.3, 4.3, 4.2, 3.8, 4.0, 4.0, 4.0, 3.8, 4.1, 4.0, 4.1, 3.9, 4.1, 4.1, 4.0, 4.4, 4.4, 4.2, 3.9, 3.9, 4.4, 3.7, 3.6, 3.9, 4.5, 3.9, 3.9, 4.1, 4.1, 4.3, 4.7, 4.6, 4.4, 4.6, 4.0, 4.3, 4.3, 4.4, 4.6, 4.4, 4.3, 4.3, 4.1, 4.1, 4.2, 4.4, 4.6, 4.4, 4.5, 4.0, 4.3, 4.6, 4.1, 4.2, 3.4, 4.1, 4.6, 4.0, 4.4, 4.1, 4.4, 4.4, 4.5, 2.9, 4.4, 4.3, 4.2, 4.3, 4.1, 3.0, 3.9, 4.0, 4.2, 4.4, 4.5, 4.8, 4.7, 3.9, 4.2, 4.5, 4.5, 4.6, 4.4, 4.8, 4.6, 4.3, 4.4, 4.7, 4.4, null, 4.5, 4.1, 4.4, 4.6, 4.2, 4.3, 4.7, 4.5, 4.6, 4.8, 4.5, 4.6, 4.4, 4.4, 4.6, 4.7, 4.5, 4.6, 4.6, 4.4, 4.4, 4.6, 4.7, 4.5, 4.7, 4.1, 4.2, 4.2, 4.6, 4.5, 4.6, 4.4, 4.6, 4.6, 4.6, 4.6, 4.2, 4.5, 4.4, 4.4, 4.1, 4.7, 3.8, 4.7, 4.3, 4.4, 4.4, 4.3, 4.3, 4.2, 4.5, 4.6, 4.3, 4.5, 4.5, 4.4, 4.3, 4.6, 4.5, 4.5, 4.6, 4.5, 4.4, 4.3, 4.3, 4.7, 4.6, 4.2, 4.2, 4.4, 4.4, 4.2, 4.2, 4.0, 4.1, 4.4, 4.2, 3.4, 4.4, 4.4, 4.5, 4.2, 4.4, 4.1, 4.4, 4.2, 4.6, 4.1, 4.4, null, 4.4, 4.2, 4.1, 4.2, 4.3, 4.1, 4.3, 4.5, 4.6, 3.6, 4.4, 4.5, 4.3, 4.1, 3.9, 4.2, 4.4, 4.4, 4.5, 4.8, 4.4, 4.6, 3.8, 4.4, 4.2, 4.4, 4.5, 3.8, 4.5, 4.3, 4.3, 4.3, 3.9, 4.5, 3.9, null, 3.9, 4.4, 4.0, 4.2, 4.7, 4.3, 3.9, 3.5, 3.8, 4.6, 4.4, 4.6, 4.6, 4.5, 4.3, 3.9, 4.3, null, 4.0, 4.4, 4.6, 4.5, 4.0, 4.1, 4.7, 4.6, 4.6, 3.8, 4.3, 4.2, 4.6, 4.6, 4.3, 4.6, 4.3, 3.8, 4.3, 4.5, 4.3, 4.2, 4.2, 4.4, 4.4, 4.1, 4.4, 4.2, 4.4, 4.4, 4.6, 4.4, 4.2, 4.4, 4.0, 4.4, 4.6, 4.4, 4.4, 4.4, 4.3, 4.3, 4.4, 4.1, 4.3, 3.9, 4.0, 4.1, 4.1, 4.4, 4.1, 4.0, 3.9, 4.3, 4.8, 4.5, 4.2, 4.2, 4.4, 4.4, 4.5, 4.5, 4.3, 4.2, 3.7, 3.9, 3.4, 3.6, 3.8, 3.9, 3.9, 4.3, 4.3, 4.0, 3.6, 3.8, 3.4, 4.2, 4.0, 4.3, 4.0, 3.9, null, 4.1, 3.2, 4.4, 4.3, 4.7, 4.0, 4.0, 4.1, 3.7, 3.6, 4.5, 4.5, 4.1, 4.1, 4.1, 4.0, 4.0, 4.1, 4.0, 4.2, 4.7, 4.8, 4.5, 4.5, 4.0, 4.4, 4.0, 3.2, 4.2, 3.6, 4.4, 4.2, 3.9, 4.0, 4.3, 4.5, 4.2, 4.3, 4.7, 4.1, 4.2, 4.4, 3.8, 4.4, 4.0, 4.3, 4.1, 3.9, 4.3, 4.5, 4.5, 4.4, 4.5, 4.5, 4.8, 3.9, 4.4, 4.4, 4.3, 4.4, 4.5, 4.4, 3.8, 4.5, 4.0, 4.1, 4.1, 4.4, 4.4, 4.8, 4.3, 4.3, 4.5, 4.7, 4.3, 4.3, 4.3, 4.2, 4.4, 4.7, 4.9, 4.5, 4.4, 4.4, 4.5, 4.3, 4.6, 4.6, 4.5, 4.2, 3.9, 4.2, 4.2, 4.1, 4.3, 4.2, 4.2, 4.4, 4.2, 4.5, 3.6, 4.7, 4.3, 4.0, 3.9, 4.0, 3.9, 4.4, 2.8, 4.8, 3.9, 4.1, 3.8, 3.7, 3.4, 4.1, 4.2, 4.1, 4.1, 3.5, 4.3, 4.3, 4.4, 3.2, 3.7, 3.2, 4.1, 3.9, 4.4, 3.7, 3.8, 4.4, 4.6, 2.9, 3.6, 4.2, 3.2, 4.4, 3.9, 4.6, 4.7, 3.8, 3.0, 4.6, 4.7, 4.0, 4.1, 4.3, 4.2, 3.8, 3.9, 3.8, 4.0, 4.6, 4.3, 4.5, null, 3.4, 3.6, 4.5, 4.2, 3.5, 4.8, 4.9, 4.3, 4.6, 4.6, 4.5, 3.7, 3.9, 4.5, 4.5, 4.0, 4.2, 4.2, 4.4, 4.6, null, 4.3, 4.2, 4.2, 4.1, 4.4, 4.1, 2.2, 4.9, 4.6, 4.7, 4.5, 4.6, 4.6, 4.7, 4.4, 4.5, 3.7, 4.7, 4.3, 4.6, 4.8, 4.4, 4.1, 4.5, 4.7, 4.6, 4.7, 4.6, 4.6, 3.6, 4.4, 4.5, 4.7, 4.6, 4.4, 4.5, 4.3, 4.1, 4.2, 4.6, 4.3, 4.8, 4.6, 4.6, 4.6, 4.4, 4.4, 2.7, 4.5, 4.6, 4.5, 4.1, 4.7, 4.5, 3.5, 3.9, 4.4, 4.2, 2.8, 4.1, 4.3, 3.8, 4.3, 4.3, 3.7, 4.2, 4.0, 4.5, 4.0, 4.2, 4.3, 4.1, 4.0, 4.7, 4.3, 4.4, 4.0, 4.3, 3.6, 4.1, 2.9, 3.9, 3.5, 4.2, 4.0, 4.7, 4.5, 4.1, 4.2, 4.6, 4.1, 4.5, 4.4, 4.5, 4.8, 4.5, 4.4, 4.6, 4.5, 3.9, 4.0, 4.3, 3.9, 4.1, 4.2, 4.0, 4.3, 4.1, 4.7, 4.4, 4.4, 4.5, 4.5, 4.5, 4.4, 4.3, 4.5, 4.4, 4.7, 4.6, 4.1, 4.3, 4.5, 4.4, 4.4, 4.7, 4.1, 4.4, 4.6, 4.3, 4.2, 4.3, 4.3, 4.3, 4.0, 4.3, 4.4, 3.8, 4.4, 4.5, 4.6, 4.3, 4.7, 4.7, 4.4, 4.5, 4.3, 4.4, 4.6, 4.4, 4.3, 4.3, 4.5, 4.5, 4.5, 4.2, 3.4, 4.5, 4.4, 4.4, 4.3, 4.4, 4.0, 4.4, 4.3, 4.7, 4.4, 4.7, 4.6, 4.4, 4.7, 4.5, 4.7, 4.6, 4.5, 4.2, 4.5, 4.6, 4.5, 4.6, 4.4, 4.6, 4.6, 4.5, 4.5, 4.3, 4.2, 4.4, 4.6, 4.4, 4.5, 4.4, 4.2, 4.3, 4.4, 4.5, 4.6, 4.5, 4.6, 4.3, 4.4, 4.5, 4.5, 4.3, 4.5, 4.2, 4.5, 4.6, 4.4, 4.3, 4.6, 4.4, 3.9, 4.1, 4.4, 4.3, 4.7, 4.1, 4.4, 4.6, 4.2, 4.2, 4.2, 4.5, 3.8, 4.4, 4.3, 4.6, 4.6, 4.4, 4.7, 4.3, 4.5, 4.6, 4.1, 4.6, 4.3, 4.2, 4.2, 4.3, 4.5, 4.5, 4.5, 4.4, 4.6, 4.1, 4.5, 4.5, 4.1, 4.4, 4.3, 4.5, 4.3, 4.0, 4.5, 4.0, 4.6, 4.3, 4.5, 4.5, 4.3, 4.5, 4.4, 4.4, 4.6, 4.4, 4.4, 3.8, 3.8, 4.4, 4.4, 4.2, 4.5, 4.2, 4.0, 4.3, 4.0, 4.3, 3.8, 4.8, 4.4, 2.4, 3.7, 3.3, 4.4, 4.2, 3.6, 4.3, 4.6, 4.2, 4.1, 4.5, 4.2, 4.4, 4.5, 4.5, 4.2, 3.7, 4.6, 3.9, 4.5, 4.4, 4.5, 4.1, 4.7, 4.5, 4.2, 4.7, 4.5, 3.9, 4.8, 4.1, 4.1, 4.2, 4.0, 4.2, 4.0, 4.4, 4.3, 4.2, 4.4, 4.3, 4.4, 4.3, 4.2, 4.5, 4.3, 4.3, 4.4, 4.6, 4.5, 4.9, 4.6, 4.3, 3.6, 4.5, 3.5, 4.6, 4.5, 4.3, 4.2, 4.2, 4.5, 4.1, 4.3, 3.6, 4.3, 4.7, 3.4, 4.3, 4.3, 3.5, 4.2, 4.3, 4.0, 4.2, 3.0, 3.2, 4.6, 4.7, 4.7, 4.1, 4.5, 4.5, 4.3, 4.4, 4.3, 3.6, 3.7, 4.7, 4.8, 4.3, 3.7, 4.5, 4.4, 4.4, 3.4, 4.5, 4.8, 4.5, 4.1, 4.5, 4.6, 4.2, 3.3, 4.7, 3.9, 3.5, 4.4, 4.6, 4.1, 4.6, 4.6, 4.3, 4.3, 4.5, 4.7, 4.2, 4.6, 4.6, 4.0, 4.6, 4.4, 4.7, 4.3, 4.4, 4.7, 4.5, 4.5, 3.9, 4.0, 4.2, 4.0, 4.1, 4.3, 4.4, 4.3, 3.9, 4.6, 3.8, 3.2, 4.1, 3.7, 4.1, 3.0, 4.4, 3.3, 3.9, 4.2, 4.5, 3.6, 4.3, 4.2, 4.4, 3.8, 4.7, 4.6, 4.3, 4.4, 4.1, 4.1, 4.5, 4.5, 3.3, 3.8, 4.5, 4.4, 4.5, 4.0, 4.5, 4.8, 4.6, 4.3, 4.3, 4.1, 4.2, 4.5, 4.6, 4.5, 4.4, 4.0, 3.5, 4.0, 3.1, 4.2, 4.3, 4.6, 4.0, 3.7, 3.4, 3.6, 4.4, 5.0, 4.9, 4.4, 3.9, 4.0, 4.0, 4.3, 3.3, 4.6, 4.2, 3.9, 4.1, 4.5, 4.4, 4.2, 4.0, 4.2, 3.2, 4.4, 4.5, 3.7, 3.7, null, 4.0, 4.5, 4.7, 4.4, 4.5, 4.2, 4.0, 4.0, 4.2, 4.0, 4.6, 4.1, 4.3, 4.2, 4.3, 4.2, 4.2, 4.4, 4.1, 4.2, 4.1, 4.6, 3.5, 4.2, 4.2, 3.8, 3.8, 4.7, 4.3, 4.2, 4.5, 4.4, 3.9, 4.7, null, 4.2, 4.1, 4.0, 4.7, 4.4, 4.0, null, 4.3, 5.0, 4.2, 4.5, 4.4, 4.5, 4.4, 4.2, 2.6, 2.9, 4.2, 4.0, 4.5, 4.7, 3.9, 4.1, 3.9, 4.5, 4.4, 4.2, 3.4, 3.6, 4.2, 4.2, 3.5, 4.6, 3.8, 3.3, 4.3, 4.4, 3.9, 3.7, 4.5, 4.5, 3.6, 3.8, 3.6, 4.3, 4.5, 4.3, 4.2, 4.3, 4.6, 4.4, 4.4, 4.2, 4.7, 3.7, 3.8, 2.1, 4.2, 2.9, 2.7, 3.5, 4.1, 4.7, 4.4, 3.7, 4.4, 4.3, 2.7, 4.6, 4.1, 3.0, 3.1, 3.7, 2.6, 3.4, 4.5, 4.4, 4.2, 4.1, 4.4, 3.3, 3.8, 4.4, 4.2, 3.8, 3.4, 4.2, 3.8, 4.4, 3.9, 3.3, 3.3, 4.7, 4.5, 4.6, 4.0, 4.2, 4.7, 4.4, 4.3, 4.4, 4.2, 4.0, 4.6, 3.5, 3.9, 4.5, 4.3, 4.3, 4.2, 4.5, 4.0, 4.0, 4.3, 4.5, 4.1, 4.2, 4.5, 4.5, 4.1, 4.0, 4.2, 4.5, 4.1, 4.2, 4.6, 4.4, 3.9, 4.2, 4.5, 4.3, 3.0, 4.8, 4.0, 4.1, 4.3, 4.1, 4.6, 4.6, 3.4, 4.3, 4.5, 4.2, 4.8, 4.1, 4.5, 4.4, 4.1, 3.3, 4.5, 4.5, 4.4, 4.4, 4.4, 4.8, 3.8, 4.2, 4.3, 4.4, 4.2, 4.7, 4.7, 4.8, 4.5, 4.6, 4.7, 4.5, 4.6, 4.7, 3.0, 4.6, 4.3, 4.6, 3.8, 4.0, 4.4, 4.3, 3.8, 4.3, 4.2, 4.0, 4.5, 4.2, 4.6, 4.7, 4.6, 4.4, 4.5, 4.7, 4.8, 4.6, 4.5, 4.5, 4.6, 4.0, 4.5, 4.2, 4.7, 4.1, 4.3, 4.3, 4.2, 4.3, 4.5, 4.2, 4.5, 4.5, 4.3, 4.5, 4.4, 4.6, 4.5, 4.4, 4.6, 4.6, 4.6, 4.2, 4.6, 4.6, 4.6, 4.6, 4.0, 4.2, 4.7, 4.6, 4.1, 4.1, 4.3, 4.5, 4.3, 4.1, 4.5, 4.5, 4.2, 4.4, 4.6, 4.3, 4.5, 4.7, 4.6, 4.7, 4.4, 4.6, 4.5, 4.2, 4.4, 4.7, 4.5, 4.1, 4.4, 4.2, 4.8, 4.5, 4.5, 4.0, 4.1, 4.4, 4.2, 4.4, 4.5, 4.3, 4.0, 4.2, 4.2, 4.0, 4.4, 4.2, 4.1, 4.4, 4.6, 4.3, 4.1, 4.3, 4.4, 4.1, 3.9, 4.6, 4.4, 4.7, 4.5, 4.4, 4.3, 4.4, 4.5, 4.4, 4.4, 4.5, 4.2, 4.3, 4.2, 4.3, 4.3, 4.1, 4.3, 3.8, 4.2, 4.1, 4.0, 4.4, 4.4, 4.3, 4.4, 4.4, 4.4, 4.0, 4.0, 4.4, 4.2, 3.9, 3.8, 4.3, 4.8, 4.1, 4.3, 4.3, 4.1, 4.4, 4.4, 4.3, 3.7, 4.0, 4.6, 4.0, 4.0, 4.0, 4.7, 4.5, 4.1, 4.3, 4.0, 4.1, 4.0, 3.9, 4.2, 4.3, 3.9, 4.4, 4.7, 4.1, 3.2, 4.3, 4.6, 3.7, 4.1, 4.0, 4.3, 4.4, 4.3, 4.5, 4.3, 4.5, 4.5, 4.2, 4.4, 3.8, 4.6, 4.3, 4.5, 3.8, 4.2, 3.9, 3.6, 4.0, 4.1, 4.3, 4.6, 4.4, 4.3, 4.2, 4.3, 4.3, 4.3, 4.4, 3.9, 3.7, 4.2, 4.4, 4.3, 3.7, 4.6, 4.2, 4.4, 4.2, 4.3, 4.5, 4.3, 3.8, 4.3, 4.6, 4.0, 4.4, 4.4, 4.5, 3.6, 4.6, 4.5, 4.5, 4.0, 4.2, 4.4, 4.5, 4.5, 4.5, 4.2, 4.4, 4.3, 4.5, 4.5, 4.4, 4.0, 4.8, 4.6, 4.3, 4.1, 4.3, 4.3, 4.3, 4.3, 4.6, 4.6, 4.4, 4.4, 4.3, 4.3, 4.5, 4.0, 4.3, 4.5, 4.3, 4.4, 4.3, 4.4, 4.6, 4.6, 4.3, 4.2, 4.6, 4.3, 4.4, 4.4, 4.3, 4.4, 4.5, 4.0, 4.8, 4.1, 4.3, 4.0, 4.4, 4.1, 4.2, 4.3, 4.3, 4.0, 4.1, 4.2, 3.9, 4.3, 4.6, 4.4, 4.3, 4.4, 4.1, 4.4, 3.8, 4.2, 4.5, 4.5, 4.3, 4.2, 4.6, 4.8, 4.0, 4.6, 4.2, 4.6, 4.6, 4.5, 4.6, 4.6, 4.1, 4.5, 4.4, 4.8, 4.7, 4.9, 4.5, 4.6, 4.9, 4.6, 4.7, 4.6, 4.5, 4.6, 4.9, 4.3, 4.4, 4.9, 4.3, 4.4, 4.7, 4.3, 4.2, 4.4, 4.3, 4.5, 4.1, 4.5, 4.3, 4.7, 4.2, 4.6, 4.3, 4.6, 4.3, 4.5, 4.4, 4.3, 4.6, 4.7, 4.4, 4.5, 4.2, 3.7, 4.6, 4.4, 4.4, 4.4, 4.3, 4.0, 4.4, 4.2, 4.6, 4.4, 4.4, 4.4, 4.4, 4.6, 4.7, 4.2, 4.5, 4.6, 4.5, 4.4, 4.4, 4.4, 4.2, 4.6, 4.5, 4.6, 4.5, 4.5, 4.7, 4.4, 4.0, 4.4, 4.6, 4.5, 4.5, 4.4, 4.6, 4.5, 4.6, 4.4, 4.1, 4.5, 4.5, 4.4, 4.8, 4.3, 4.5, 4.3, 4.3, 4.3, 4.5, 4.4, 4.5, 4.6, 4.5, 4.5, 4.1, 4.3, 4.5, 4.6, 4.6, 4.5, 4.5, 4.4, 4.6, 4.5, 4.4, 4.5, 4.6, 4.4, 4.4, 4.2, 4.4, 4.8, 4.5, 4.6, 4.5, 4.5, 4.1, 4.3, 4.8, 4.2, 4.5, 4.6, 4.3, 4.5, 4.6, 4.5, 4.6, 4.6, 4.7, 4.6, 4.4, 4.5, 4.4, 4.6, 4.3, 4.2, 4.5, 4.4, 4.4, 4.7, 4.4, 4.7, 4.3, 4.5, 4.1, 4.4, 4.4, 4.5, 4.2, 4.4, 4.4, 4.3, 4.4, 4.0, 4.5, 4.5, 4.5, 4.3, 4.8, 4.7, 4.3, 3.9, 4.5, 4.6, 4.2, 4.2, 4.2, 4.7, 4.4, 4.4, 4.4, 3.8, 4.6, 4.6, 4.4, 4.1, 4.2, 4.3, 4.2, 4.5, 4.0, 4.1, 4.3, 4.5, 4.6, 4.4, 4.2, 4.4, 4.3, 4.2, 4.1, 4.3, 4.0, 3.9, 4.5, 4.1, 4.4, 4.2, 4.0, 4.3, 4.4, 4.0, 4.5, 4.1, 4.0, 4.4, 4.6, 4.5, 4.5, 4.2, 4.4, 4.7, 4.4, 4.4, 4.3, 3.9, 4.4, 4.5, 4.1, 4.7, 4.5, 4.2, 4.7, 4.3, 4.4, 4.3, 4.8, 4.8, 4.7, 4.5, 4.4, 4.6, 4.2, 4.7, 4.4, 4.6, 4.8, 4.8, 4.5, 4.8, 4.4, 4.5, 4.0, 4.5, 4.3, 4.2, 4.0, 3.9, 4.6, 4.4, 4.0, 4.2, 4.4, 3.8, 4.4, 4.2, 4.7, 4.3, 4.2, 3.9, null, null, 4.7, null, 4.1, 4.4, 4.4, 4.4, 4.0, 4.2, 4.7, 4.4, 4.4, 4.6, 4.6, 4.5, 4.3, 4.3, 4.0, 4.5, 3.6, 4.4, 4.3, 4.0, 4.2, 4.0, 4.3, 4.7, 4.6, 4.7, 4.5, 4.2, 4.3, 4.7, 4.7, 4.8, 4.7, 4.3, 4.0, 4.0, 4.8, 4.8, 4.8, 4.7, 4.8, 4.8, 4.2, 4.7, 4.6, 4.8, 4.4, 4.3, 4.2, 4.2, 4.3, 4.5, 4.2, 4.0, 4.0, 4.2, 4.4, 4.2, 4.5, 3.7, 4.0, 4.2, 3.8, 4.0, 3.6, 4.1, 4.1, 4.3, 4.5, 4.4, 4.5, 4.2, 4.1, 4.2, 4.0, 4.3, 4.2, 4.5, 4.0, 4.5, 4.3, 4.5, 4.2, 4.6, 4.6, 4.6, 4.1, 4.1, 4.4, 4.5, 4.1, 4.3, 4.5, 4.2, 4.0, 3.9, 3.5, 4.6, 4.0, 3.9, 3.9, 4.2, 4.3, 4.2, 4.3, 4.0, 4.3, 4.1, 4.4, 4.2, 4.1, 4.0, 3.6, 3.9, 4.2, 4.5, 4.3, 4.1, 4.0, 4.4, 4.3, 4.4, 4.3, 4.2, 4.3, 4.5, 4.2, 4.2, 4.6, 4.7, 4.0, 4.5, 4.1, 4.3, 4.1, 4.1, 4.3, 4.6, 3.6, 4.0, 4.4, 4.4, 3.5, 4.7, 4.2, 5.0, 3.6, 3.8, 4.0, 4.3, 3.8, 4.5, 3.9, 3.4, 4.6, 4.5, 4.7, 4.1, 4.4, 4.4, 4.6, 4.6, 4.6, 4.0, 4.8, 4.6, 4.1, 4.0, 3.8, 4.3, 4.0, 3.9, 4.2, 4.6, 4.7, 4.0, 4.2, 4.6, 3.4, 4.7, 3.7, 4.5, 4.5, 4.5, 2.9, 4.5, 4.6, 3.6, 4.6, 4.4, 4.6, 3.9, 4.7, 4.3, 4.5, 4.6, 4.8, 2.8, 4.1, 4.7, 4.2, 4.6, 3.1, 4.6, 3.1, 3.8, 3.7, 3.5, 3.5, 4.4, 4.5, 3.8, 3.9, 4.2, 4.2, 3.3, 4.4, 3.4, 3.0, 4.3, 3.9, 3.9, 4.0, 4.1, 4.3, 3.7, 2.7, 3.1, 3.7, 3.1, 3.8, 4.3, 4.3, 4.4, 3.9, 4.4, 4.0, 3.6, 3.7, 3.4, 3.7, 4.7, 4.8, 4.2, 3.7, 4.5, 4.7, 3.3, 4.6, 4.2, 4.1, 4.1, 4.1, 4.7, 4.8, 4.7, 4.2, 4.8, 3.9, 4.7, 4.6, 3.9, 4.6, 3.0, 4.3, 4.4, 4.3, 4.7, 4.4, 4.4, 4.6, 4.6, 4.6, 4.6, 4.2, 4.9, 4.6, 4.8, 4.3, 4.1, 3.7, 4.6, 4.2, 3.3, 4.4, 4.3, 4.6, 4.5, 4.3, 3.7, 4.3, 4.4, 4.2, 4.5, 4.3, 4.3, 4.6, 4.7, 4.0, 4.5, 4.0, 3.8, 4.4, 4.5, 2.1, 4.0, 4.6, 2.6, 4.3, 4.8, 4.5, 4.4, 4.6, 4.6, 4.2, 3.8, 4.6, 4.5, 4.5, 4.3, 4.0, 4.6, 4.2, 4.1, 3.6, 4.1, 4.7, 3.8, 4.4, 4.3, 4.4, 4.2, 4.6, 3.8, 4.5, 3.8, 4.5, 4.1, 3.3, 2.5, 4.1, 3.5, 3.1, 3.8, 4.6, 3.3, 4.6, 4.4, 3.8, 4.0, 3.9, 3.4, 4.6, 3.0, 2.2, 2.9, 3.5, 3.4, 4.1, 4.5, 4.1, 2.8, 2.7, 3.9, 3.9, 4.6, 4.3, 4.1, 2.9, 4.2, 2.1, 3.4, 4.5, 3.3, 4.0, 3.3, 4.3, 4.5, 4.4, 4.2, 4.3, 4.1], \"xbins\": {\"end\": 5, \"size\": 0.1, \"start\": 1}}],                        {\"font\": {\"color\": \"RebeccaPurple\", \"family\": \"Courier New, monospace\", \"size\": 18}, \"template\": {\"data\": {\"bar\": [{\"error_x\": {\"color\": \"#2a3f5f\"}, \"error_y\": {\"color\": \"#2a3f5f\"}, \"marker\": {\"line\": {\"color\": \"#E5ECF6\", \"width\": 0.5}}, \"type\": \"bar\"}], \"barpolar\": [{\"marker\": {\"line\": {\"color\": \"#E5ECF6\", \"width\": 0.5}}, \"type\": \"barpolar\"}], \"carpet\": [{\"aaxis\": {\"endlinecolor\": \"#2a3f5f\", \"gridcolor\": \"white\", \"linecolor\": \"white\", \"minorgridcolor\": \"white\", \"startlinecolor\": \"#2a3f5f\"}, \"baxis\": {\"endlinecolor\": \"#2a3f5f\", \"gridcolor\": \"white\", \"linecolor\": \"white\", \"minorgridcolor\": \"white\", \"startlinecolor\": \"#2a3f5f\"}, \"type\": \"carpet\"}], \"choropleth\": [{\"colorbar\": {\"outlinewidth\": 0, \"ticks\": \"\"}, \"type\": \"choropleth\"}], \"contour\": [{\"colorbar\": {\"outlinewidth\": 0, \"ticks\": \"\"}, \"colorscale\": [[0.0, \"#0d0887\"], [0.1111111111111111, \"#46039f\"], [0.2222222222222222, \"#7201a8\"], [0.3333333333333333, \"#9c179e\"], [0.4444444444444444, \"#bd3786\"], [0.5555555555555556, \"#d8576b\"], [0.6666666666666666, \"#ed7953\"], [0.7777777777777778, \"#fb9f3a\"], [0.8888888888888888, \"#fdca26\"], [1.0, \"#f0f921\"]], \"type\": \"contour\"}], \"contourcarpet\": [{\"colorbar\": {\"outlinewidth\": 0, \"ticks\": \"\"}, \"type\": \"contourcarpet\"}], \"heatmap\": [{\"colorbar\": {\"outlinewidth\": 0, \"ticks\": \"\"}, \"colorscale\": [[0.0, \"#0d0887\"], [0.1111111111111111, \"#46039f\"], [0.2222222222222222, \"#7201a8\"], [0.3333333333333333, \"#9c179e\"], [0.4444444444444444, \"#bd3786\"], [0.5555555555555556, \"#d8576b\"], [0.6666666666666666, \"#ed7953\"], [0.7777777777777778, \"#fb9f3a\"], [0.8888888888888888, \"#fdca26\"], [1.0, \"#f0f921\"]], \"type\": \"heatmap\"}], \"heatmapgl\": [{\"colorbar\": {\"outlinewidth\": 0, \"ticks\": \"\"}, \"colorscale\": [[0.0, \"#0d0887\"], [0.1111111111111111, \"#46039f\"], [0.2222222222222222, \"#7201a8\"], [0.3333333333333333, \"#9c179e\"], [0.4444444444444444, \"#bd3786\"], [0.5555555555555556, \"#d8576b\"], [0.6666666666666666, \"#ed7953\"], [0.7777777777777778, \"#fb9f3a\"], [0.8888888888888888, \"#fdca26\"], [1.0, \"#f0f921\"]], \"type\": \"heatmapgl\"}], \"histogram\": [{\"marker\": {\"colorbar\": {\"outlinewidth\": 0, \"ticks\": \"\"}}, \"type\": \"histogram\"}], \"histogram2d\": [{\"colorbar\": {\"outlinewidth\": 0, \"ticks\": \"\"}, \"colorscale\": [[0.0, \"#0d0887\"], [0.1111111111111111, \"#46039f\"], [0.2222222222222222, \"#7201a8\"], [0.3333333333333333, \"#9c179e\"], [0.4444444444444444, \"#bd3786\"], [0.5555555555555556, \"#d8576b\"], [0.6666666666666666, \"#ed7953\"], [0.7777777777777778, \"#fb9f3a\"], [0.8888888888888888, \"#fdca26\"], [1.0, \"#f0f921\"]], \"type\": \"histogram2d\"}], \"histogram2dcontour\": [{\"colorbar\": {\"outlinewidth\": 0, \"ticks\": \"\"}, \"colorscale\": [[0.0, \"#0d0887\"], [0.1111111111111111, \"#46039f\"], [0.2222222222222222, \"#7201a8\"], [0.3333333333333333, \"#9c179e\"], [0.4444444444444444, \"#bd3786\"], [0.5555555555555556, \"#d8576b\"], [0.6666666666666666, \"#ed7953\"], [0.7777777777777778, \"#fb9f3a\"], [0.8888888888888888, \"#fdca26\"], [1.0, \"#f0f921\"]], \"type\": \"histogram2dcontour\"}], \"mesh3d\": [{\"colorbar\": {\"outlinewidth\": 0, \"ticks\": \"\"}, \"type\": \"mesh3d\"}], \"parcoords\": [{\"line\": {\"colorbar\": {\"outlinewidth\": 0, \"ticks\": \"\"}}, \"type\": \"parcoords\"}], \"pie\": [{\"automargin\": true, \"type\": \"pie\"}], \"scatter\": [{\"marker\": {\"colorbar\": {\"outlinewidth\": 0, \"ticks\": \"\"}}, \"type\": \"scatter\"}], \"scatter3d\": [{\"line\": {\"colorbar\": {\"outlinewidth\": 0, \"ticks\": \"\"}}, \"marker\": {\"colorbar\": {\"outlinewidth\": 0, \"ticks\": \"\"}}, \"type\": \"scatter3d\"}], \"scattercarpet\": [{\"marker\": {\"colorbar\": {\"outlinewidth\": 0, \"ticks\": \"\"}}, \"type\": \"scattercarpet\"}], \"scattergeo\": [{\"marker\": {\"colorbar\": {\"outlinewidth\": 0, \"ticks\": \"\"}}, \"type\": \"scattergeo\"}], \"scattergl\": [{\"marker\": {\"colorbar\": {\"outlinewidth\": 0, \"ticks\": \"\"}}, \"type\": \"scattergl\"}], \"scattermapbox\": [{\"marker\": {\"colorbar\": {\"outlinewidth\": 0, \"ticks\": \"\"}}, \"type\": \"scattermapbox\"}], \"scatterpolar\": [{\"marker\": {\"colorbar\": {\"outlinewidth\": 0, \"ticks\": \"\"}}, \"type\": \"scatterpolar\"}], \"scatterpolargl\": [{\"marker\": {\"colorbar\": {\"outlinewidth\": 0, \"ticks\": \"\"}}, \"type\": \"scatterpolargl\"}], \"scatterternary\": [{\"marker\": {\"colorbar\": {\"outlinewidth\": 0, \"ticks\": \"\"}}, \"type\": \"scatterternary\"}], \"surface\": [{\"colorbar\": {\"outlinewidth\": 0, \"ticks\": \"\"}, \"colorscale\": [[0.0, \"#0d0887\"], [0.1111111111111111, \"#46039f\"], [0.2222222222222222, \"#7201a8\"], [0.3333333333333333, \"#9c179e\"], [0.4444444444444444, \"#bd3786\"], [0.5555555555555556, \"#d8576b\"], [0.6666666666666666, \"#ed7953\"], [0.7777777777777778, \"#fb9f3a\"], [0.8888888888888888, \"#fdca26\"], [1.0, \"#f0f921\"]], \"type\": \"surface\"}], \"table\": [{\"cells\": {\"fill\": {\"color\": \"#EBF0F8\"}, \"line\": {\"color\": \"white\"}}, \"header\": {\"fill\": {\"color\": \"#C8D4E3\"}, \"line\": {\"color\": \"white\"}}, \"type\": \"table\"}]}, \"layout\": {\"annotationdefaults\": {\"arrowcolor\": \"#2a3f5f\", \"arrowhead\": 0, \"arrowwidth\": 1}, \"coloraxis\": {\"colorbar\": {\"outlinewidth\": 0, \"ticks\": \"\"}}, \"colorscale\": {\"diverging\": [[0, \"#8e0152\"], [0.1, \"#c51b7d\"], [0.2, \"#de77ae\"], [0.3, \"#f1b6da\"], [0.4, \"#fde0ef\"], [0.5, \"#f7f7f7\"], [0.6, \"#e6f5d0\"], [0.7, \"#b8e186\"], [0.8, \"#7fbc41\"], [0.9, \"#4d9221\"], [1, \"#276419\"]], \"sequential\": [[0.0, \"#0d0887\"], [0.1111111111111111, \"#46039f\"], [0.2222222222222222, \"#7201a8\"], [0.3333333333333333, \"#9c179e\"], [0.4444444444444444, \"#bd3786\"], [0.5555555555555556, \"#d8576b\"], [0.6666666666666666, \"#ed7953\"], [0.7777777777777778, \"#fb9f3a\"], [0.8888888888888888, \"#fdca26\"], [1.0, \"#f0f921\"]], \"sequentialminus\": [[0.0, \"#0d0887\"], [0.1111111111111111, \"#46039f\"], [0.2222222222222222, \"#7201a8\"], [0.3333333333333333, \"#9c179e\"], [0.4444444444444444, \"#bd3786\"], [0.5555555555555556, \"#d8576b\"], [0.6666666666666666, \"#ed7953\"], [0.7777777777777778, \"#fb9f3a\"], [0.8888888888888888, \"#fdca26\"], [1.0, \"#f0f921\"]]}, \"colorway\": [\"#636efa\", \"#EF553B\", \"#00cc96\", \"#ab63fa\", \"#FFA15A\", \"#19d3f3\", \"#FF6692\", \"#B6E880\", \"#FF97FF\", \"#FECB52\"], \"font\": {\"color\": \"#2a3f5f\"}, \"geo\": {\"bgcolor\": \"white\", \"lakecolor\": \"white\", \"landcolor\": \"#E5ECF6\", \"showlakes\": true, \"showland\": true, \"subunitcolor\": \"white\"}, \"hoverlabel\": {\"align\": \"left\"}, \"hovermode\": \"closest\", \"mapbox\": {\"style\": \"light\"}, \"paper_bgcolor\": \"white\", \"plot_bgcolor\": \"#E5ECF6\", \"polar\": {\"angularaxis\": {\"gridcolor\": \"white\", \"linecolor\": \"white\", \"ticks\": \"\"}, \"bgcolor\": \"#E5ECF6\", \"radialaxis\": {\"gridcolor\": \"white\", \"linecolor\": \"white\", \"ticks\": \"\"}}, \"scene\": {\"xaxis\": {\"backgroundcolor\": \"#E5ECF6\", \"gridcolor\": \"white\", \"gridwidth\": 2, \"linecolor\": \"white\", \"showbackground\": true, \"ticks\": \"\", \"zerolinecolor\": \"white\"}, \"yaxis\": {\"backgroundcolor\": \"#E5ECF6\", \"gridcolor\": \"white\", \"gridwidth\": 2, \"linecolor\": \"white\", \"showbackground\": true, \"ticks\": \"\", \"zerolinecolor\": \"white\"}, \"zaxis\": {\"backgroundcolor\": \"#E5ECF6\", \"gridcolor\": \"white\", \"gridwidth\": 2, \"linecolor\": \"white\", \"showbackground\": true, \"ticks\": \"\", \"zerolinecolor\": \"white\"}}, \"shapedefaults\": {\"line\": {\"color\": \"#2a3f5f\"}}, \"ternary\": {\"aaxis\": {\"gridcolor\": \"white\", \"linecolor\": \"white\", \"ticks\": \"\"}, \"baxis\": {\"gridcolor\": \"white\", \"linecolor\": \"white\", \"ticks\": \"\"}, \"bgcolor\": \"#E5ECF6\", \"caxis\": {\"gridcolor\": \"white\", \"linecolor\": \"white\", \"ticks\": \"\"}}, \"title\": {\"x\": 0.05}, \"xaxis\": {\"automargin\": true, \"gridcolor\": \"white\", \"linecolor\": \"white\", \"ticks\": \"\", \"title\": {\"standoff\": 15}, \"zerolinecolor\": \"white\", \"zerolinewidth\": 2}, \"yaxis\": {\"automargin\": true, \"gridcolor\": \"white\", \"linecolor\": \"white\", \"ticks\": \"\", \"title\": {\"standoff\": 15}, \"zerolinecolor\": \"white\", \"zerolinewidth\": 2}}}, \"title\": {\"text\": \"Overall rating distribution\"}, \"xaxis\": {\"title\": {\"text\": \"Rating\"}}, \"yaxis\": {\"title\": {\"text\": \"Number of app\"}}},                        {\"responsive\": true}                    ).then(function(){\n",
       "                            \n",
       "var gd = document.getElementById('089b43eb-76a2-418a-87a8-7e2a21728c5f');\n",
       "var x = new MutationObserver(function (mutations, observer) {{\n",
       "        var display = window.getComputedStyle(gd).display;\n",
       "        if (!display || display === 'none') {{\n",
       "            console.log([gd, 'removed!']);\n",
       "            Plotly.purge(gd);\n",
       "            observer.disconnect();\n",
       "        }}\n",
       "}});\n",
       "\n",
       "// Listen for the removal of the full notebook cells\n",
       "var notebookContainer = gd.closest('#notebook-container');\n",
       "if (notebookContainer) {{\n",
       "    x.observe(notebookContainer, {childList: true});\n",
       "}}\n",
       "\n",
       "// Listen for the clearing of the current output cell\n",
       "var outputEl = gd.closest('.output');\n",
       "if (outputEl) {{\n",
       "    x.observe(outputEl, {childList: true});\n",
       "}}\n",
       "\n",
       "                        })                };                });            </script>        </div>"
      ]
     },
     "metadata": {},
     "output_type": "display_data"
    }
   ],
   "source": [
    "data = [go.Histogram(\n",
    "        x = df.score,\n",
    "        xbins = {'start': 1, 'size': 0.1, 'end' :5}\n",
    ")]\n",
    "\n",
    "layout = go.Layout(\n",
    "    title=\"Overall rating distribution\",\n",
    "    xaxis_title=\"Rating\",\n",
    "    yaxis_title=\"Number of app\",\n",
    "    font=dict(\n",
    "        family=\"Courier New, monospace\",\n",
    "        size=18,\n",
    "        color=\"RebeccaPurple\"\n",
    "    )\n",
    ") \n",
    "\n",
    "fig = go.Figure(data=data, layout=layout)\n",
    "\n",
    "print('Average app rating = ', np.mean(df['score']))\n",
    "plotly.offline.iplot(fig, filename='overall_rating_distribution')"
   ]
  },
  {
   "cell_type": "markdown",
   "metadata": {},
   "source": [
    "Từ sự phân bố trên em sẽ chia tách dữ liệu thành 3 lớp chủ yếu để phân tích:\n",
    "- 0-3: Đánh giá thấp\n",
    "- 3-4: Đánh giá trung bình\n",
    "- 4-5: Đánh giá cao"
   ]
  },
  {
   "cell_type": "code",
   "execution_count": 30,
   "metadata": {},
   "outputs": [],
   "source": [
    "def rating_group(rating):\n",
    "\n",
    "    try:\n",
    "        rating = round(rating)\n",
    "        if int(rating) in range(0,3):\n",
    "            return 'Low'\n",
    "        elif int(rating) in range(3,5):\n",
    "            return 'Average'\n",
    "        elif int(rating) in range(4,6):\n",
    "            return 'High'\n",
    "    except ValueError as error:\n",
    "        return 'none'\n",
    "\n",
    "play_store = df.copy()   \n",
    "play_store['rating_group'] = play_store['score'].apply(rating_group)"
   ]
  },
  {
   "cell_type": "code",
   "execution_count": 31,
   "metadata": {},
   "outputs": [],
   "source": [
    "play_store = play_store.drop(['comments', 'androidVersion', 'currentVersion'], axis = 1)"
   ]
  },
  {
   "cell_type": "code",
   "execution_count": 32,
   "metadata": {},
   "outputs": [
    {
     "data": {
      "text/plain": [
       "Average    10366\n",
       "High        2606\n",
       "Low          119\n",
       "none          99\n",
       "Name: rating_group, dtype: int64"
      ]
     },
     "execution_count": 32,
     "metadata": {},
     "output_type": "execute_result"
    }
   ],
   "source": [
    "play_store['rating_group'].value_counts()"
   ]
  },
  {
   "cell_type": "code",
   "execution_count": 33,
   "metadata": {},
   "outputs": [
    {
     "data": {
      "application/vnd.plotly.v1+json": {
       "config": {
        "linkText": "Export to plot.ly",
        "plotlyServerURL": "https://plot.ly",
        "showLink": false
       },
       "data": [
        {
         "type": "bar",
         "x": [
          "Average",
          "High",
          "Low",
          "none"
         ],
         "y": [
          10366,
          2606,
          119,
          99
         ]
        }
       ],
       "layout": {
        "font": {
         "color": "RebeccaPurple",
         "family": "Courier New, monospace",
         "size": 18
        },
        "template": {
         "data": {
          "bar": [
           {
            "error_x": {
             "color": "#2a3f5f"
            },
            "error_y": {
             "color": "#2a3f5f"
            },
            "marker": {
             "line": {
              "color": "#E5ECF6",
              "width": 0.5
             }
            },
            "type": "bar"
           }
          ],
          "barpolar": [
           {
            "marker": {
             "line": {
              "color": "#E5ECF6",
              "width": 0.5
             }
            },
            "type": "barpolar"
           }
          ],
          "carpet": [
           {
            "aaxis": {
             "endlinecolor": "#2a3f5f",
             "gridcolor": "white",
             "linecolor": "white",
             "minorgridcolor": "white",
             "startlinecolor": "#2a3f5f"
            },
            "baxis": {
             "endlinecolor": "#2a3f5f",
             "gridcolor": "white",
             "linecolor": "white",
             "minorgridcolor": "white",
             "startlinecolor": "#2a3f5f"
            },
            "type": "carpet"
           }
          ],
          "choropleth": [
           {
            "colorbar": {
             "outlinewidth": 0,
             "ticks": ""
            },
            "type": "choropleth"
           }
          ],
          "contour": [
           {
            "colorbar": {
             "outlinewidth": 0,
             "ticks": ""
            },
            "colorscale": [
             [
              0,
              "#0d0887"
             ],
             [
              0.1111111111111111,
              "#46039f"
             ],
             [
              0.2222222222222222,
              "#7201a8"
             ],
             [
              0.3333333333333333,
              "#9c179e"
             ],
             [
              0.4444444444444444,
              "#bd3786"
             ],
             [
              0.5555555555555556,
              "#d8576b"
             ],
             [
              0.6666666666666666,
              "#ed7953"
             ],
             [
              0.7777777777777778,
              "#fb9f3a"
             ],
             [
              0.8888888888888888,
              "#fdca26"
             ],
             [
              1,
              "#f0f921"
             ]
            ],
            "type": "contour"
           }
          ],
          "contourcarpet": [
           {
            "colorbar": {
             "outlinewidth": 0,
             "ticks": ""
            },
            "type": "contourcarpet"
           }
          ],
          "heatmap": [
           {
            "colorbar": {
             "outlinewidth": 0,
             "ticks": ""
            },
            "colorscale": [
             [
              0,
              "#0d0887"
             ],
             [
              0.1111111111111111,
              "#46039f"
             ],
             [
              0.2222222222222222,
              "#7201a8"
             ],
             [
              0.3333333333333333,
              "#9c179e"
             ],
             [
              0.4444444444444444,
              "#bd3786"
             ],
             [
              0.5555555555555556,
              "#d8576b"
             ],
             [
              0.6666666666666666,
              "#ed7953"
             ],
             [
              0.7777777777777778,
              "#fb9f3a"
             ],
             [
              0.8888888888888888,
              "#fdca26"
             ],
             [
              1,
              "#f0f921"
             ]
            ],
            "type": "heatmap"
           }
          ],
          "heatmapgl": [
           {
            "colorbar": {
             "outlinewidth": 0,
             "ticks": ""
            },
            "colorscale": [
             [
              0,
              "#0d0887"
             ],
             [
              0.1111111111111111,
              "#46039f"
             ],
             [
              0.2222222222222222,
              "#7201a8"
             ],
             [
              0.3333333333333333,
              "#9c179e"
             ],
             [
              0.4444444444444444,
              "#bd3786"
             ],
             [
              0.5555555555555556,
              "#d8576b"
             ],
             [
              0.6666666666666666,
              "#ed7953"
             ],
             [
              0.7777777777777778,
              "#fb9f3a"
             ],
             [
              0.8888888888888888,
              "#fdca26"
             ],
             [
              1,
              "#f0f921"
             ]
            ],
            "type": "heatmapgl"
           }
          ],
          "histogram": [
           {
            "marker": {
             "colorbar": {
              "outlinewidth": 0,
              "ticks": ""
             }
            },
            "type": "histogram"
           }
          ],
          "histogram2d": [
           {
            "colorbar": {
             "outlinewidth": 0,
             "ticks": ""
            },
            "colorscale": [
             [
              0,
              "#0d0887"
             ],
             [
              0.1111111111111111,
              "#46039f"
             ],
             [
              0.2222222222222222,
              "#7201a8"
             ],
             [
              0.3333333333333333,
              "#9c179e"
             ],
             [
              0.4444444444444444,
              "#bd3786"
             ],
             [
              0.5555555555555556,
              "#d8576b"
             ],
             [
              0.6666666666666666,
              "#ed7953"
             ],
             [
              0.7777777777777778,
              "#fb9f3a"
             ],
             [
              0.8888888888888888,
              "#fdca26"
             ],
             [
              1,
              "#f0f921"
             ]
            ],
            "type": "histogram2d"
           }
          ],
          "histogram2dcontour": [
           {
            "colorbar": {
             "outlinewidth": 0,
             "ticks": ""
            },
            "colorscale": [
             [
              0,
              "#0d0887"
             ],
             [
              0.1111111111111111,
              "#46039f"
             ],
             [
              0.2222222222222222,
              "#7201a8"
             ],
             [
              0.3333333333333333,
              "#9c179e"
             ],
             [
              0.4444444444444444,
              "#bd3786"
             ],
             [
              0.5555555555555556,
              "#d8576b"
             ],
             [
              0.6666666666666666,
              "#ed7953"
             ],
             [
              0.7777777777777778,
              "#fb9f3a"
             ],
             [
              0.8888888888888888,
              "#fdca26"
             ],
             [
              1,
              "#f0f921"
             ]
            ],
            "type": "histogram2dcontour"
           }
          ],
          "mesh3d": [
           {
            "colorbar": {
             "outlinewidth": 0,
             "ticks": ""
            },
            "type": "mesh3d"
           }
          ],
          "parcoords": [
           {
            "line": {
             "colorbar": {
              "outlinewidth": 0,
              "ticks": ""
             }
            },
            "type": "parcoords"
           }
          ],
          "pie": [
           {
            "automargin": true,
            "type": "pie"
           }
          ],
          "scatter": [
           {
            "marker": {
             "colorbar": {
              "outlinewidth": 0,
              "ticks": ""
             }
            },
            "type": "scatter"
           }
          ],
          "scatter3d": [
           {
            "line": {
             "colorbar": {
              "outlinewidth": 0,
              "ticks": ""
             }
            },
            "marker": {
             "colorbar": {
              "outlinewidth": 0,
              "ticks": ""
             }
            },
            "type": "scatter3d"
           }
          ],
          "scattercarpet": [
           {
            "marker": {
             "colorbar": {
              "outlinewidth": 0,
              "ticks": ""
             }
            },
            "type": "scattercarpet"
           }
          ],
          "scattergeo": [
           {
            "marker": {
             "colorbar": {
              "outlinewidth": 0,
              "ticks": ""
             }
            },
            "type": "scattergeo"
           }
          ],
          "scattergl": [
           {
            "marker": {
             "colorbar": {
              "outlinewidth": 0,
              "ticks": ""
             }
            },
            "type": "scattergl"
           }
          ],
          "scattermapbox": [
           {
            "marker": {
             "colorbar": {
              "outlinewidth": 0,
              "ticks": ""
             }
            },
            "type": "scattermapbox"
           }
          ],
          "scatterpolar": [
           {
            "marker": {
             "colorbar": {
              "outlinewidth": 0,
              "ticks": ""
             }
            },
            "type": "scatterpolar"
           }
          ],
          "scatterpolargl": [
           {
            "marker": {
             "colorbar": {
              "outlinewidth": 0,
              "ticks": ""
             }
            },
            "type": "scatterpolargl"
           }
          ],
          "scatterternary": [
           {
            "marker": {
             "colorbar": {
              "outlinewidth": 0,
              "ticks": ""
             }
            },
            "type": "scatterternary"
           }
          ],
          "surface": [
           {
            "colorbar": {
             "outlinewidth": 0,
             "ticks": ""
            },
            "colorscale": [
             [
              0,
              "#0d0887"
             ],
             [
              0.1111111111111111,
              "#46039f"
             ],
             [
              0.2222222222222222,
              "#7201a8"
             ],
             [
              0.3333333333333333,
              "#9c179e"
             ],
             [
              0.4444444444444444,
              "#bd3786"
             ],
             [
              0.5555555555555556,
              "#d8576b"
             ],
             [
              0.6666666666666666,
              "#ed7953"
             ],
             [
              0.7777777777777778,
              "#fb9f3a"
             ],
             [
              0.8888888888888888,
              "#fdca26"
             ],
             [
              1,
              "#f0f921"
             ]
            ],
            "type": "surface"
           }
          ],
          "table": [
           {
            "cells": {
             "fill": {
              "color": "#EBF0F8"
             },
             "line": {
              "color": "white"
             }
            },
            "header": {
             "fill": {
              "color": "#C8D4E3"
             },
             "line": {
              "color": "white"
             }
            },
            "type": "table"
           }
          ]
         },
         "layout": {
          "annotationdefaults": {
           "arrowcolor": "#2a3f5f",
           "arrowhead": 0,
           "arrowwidth": 1
          },
          "coloraxis": {
           "colorbar": {
            "outlinewidth": 0,
            "ticks": ""
           }
          },
          "colorscale": {
           "diverging": [
            [
             0,
             "#8e0152"
            ],
            [
             0.1,
             "#c51b7d"
            ],
            [
             0.2,
             "#de77ae"
            ],
            [
             0.3,
             "#f1b6da"
            ],
            [
             0.4,
             "#fde0ef"
            ],
            [
             0.5,
             "#f7f7f7"
            ],
            [
             0.6,
             "#e6f5d0"
            ],
            [
             0.7,
             "#b8e186"
            ],
            [
             0.8,
             "#7fbc41"
            ],
            [
             0.9,
             "#4d9221"
            ],
            [
             1,
             "#276419"
            ]
           ],
           "sequential": [
            [
             0,
             "#0d0887"
            ],
            [
             0.1111111111111111,
             "#46039f"
            ],
            [
             0.2222222222222222,
             "#7201a8"
            ],
            [
             0.3333333333333333,
             "#9c179e"
            ],
            [
             0.4444444444444444,
             "#bd3786"
            ],
            [
             0.5555555555555556,
             "#d8576b"
            ],
            [
             0.6666666666666666,
             "#ed7953"
            ],
            [
             0.7777777777777778,
             "#fb9f3a"
            ],
            [
             0.8888888888888888,
             "#fdca26"
            ],
            [
             1,
             "#f0f921"
            ]
           ],
           "sequentialminus": [
            [
             0,
             "#0d0887"
            ],
            [
             0.1111111111111111,
             "#46039f"
            ],
            [
             0.2222222222222222,
             "#7201a8"
            ],
            [
             0.3333333333333333,
             "#9c179e"
            ],
            [
             0.4444444444444444,
             "#bd3786"
            ],
            [
             0.5555555555555556,
             "#d8576b"
            ],
            [
             0.6666666666666666,
             "#ed7953"
            ],
            [
             0.7777777777777778,
             "#fb9f3a"
            ],
            [
             0.8888888888888888,
             "#fdca26"
            ],
            [
             1,
             "#f0f921"
            ]
           ]
          },
          "colorway": [
           "#636efa",
           "#EF553B",
           "#00cc96",
           "#ab63fa",
           "#FFA15A",
           "#19d3f3",
           "#FF6692",
           "#B6E880",
           "#FF97FF",
           "#FECB52"
          ],
          "font": {
           "color": "#2a3f5f"
          },
          "geo": {
           "bgcolor": "white",
           "lakecolor": "white",
           "landcolor": "#E5ECF6",
           "showlakes": true,
           "showland": true,
           "subunitcolor": "white"
          },
          "hoverlabel": {
           "align": "left"
          },
          "hovermode": "closest",
          "mapbox": {
           "style": "light"
          },
          "paper_bgcolor": "white",
          "plot_bgcolor": "#E5ECF6",
          "polar": {
           "angularaxis": {
            "gridcolor": "white",
            "linecolor": "white",
            "ticks": ""
           },
           "bgcolor": "#E5ECF6",
           "radialaxis": {
            "gridcolor": "white",
            "linecolor": "white",
            "ticks": ""
           }
          },
          "scene": {
           "xaxis": {
            "backgroundcolor": "#E5ECF6",
            "gridcolor": "white",
            "gridwidth": 2,
            "linecolor": "white",
            "showbackground": true,
            "ticks": "",
            "zerolinecolor": "white"
           },
           "yaxis": {
            "backgroundcolor": "#E5ECF6",
            "gridcolor": "white",
            "gridwidth": 2,
            "linecolor": "white",
            "showbackground": true,
            "ticks": "",
            "zerolinecolor": "white"
           },
           "zaxis": {
            "backgroundcolor": "#E5ECF6",
            "gridcolor": "white",
            "gridwidth": 2,
            "linecolor": "white",
            "showbackground": true,
            "ticks": "",
            "zerolinecolor": "white"
           }
          },
          "shapedefaults": {
           "line": {
            "color": "#2a3f5f"
           }
          },
          "ternary": {
           "aaxis": {
            "gridcolor": "white",
            "linecolor": "white",
            "ticks": ""
           },
           "baxis": {
            "gridcolor": "white",
            "linecolor": "white",
            "ticks": ""
           },
           "bgcolor": "#E5ECF6",
           "caxis": {
            "gridcolor": "white",
            "linecolor": "white",
            "ticks": ""
           }
          },
          "title": {
           "x": 0.05
          },
          "xaxis": {
           "automargin": true,
           "gridcolor": "white",
           "linecolor": "white",
           "ticks": "",
           "title": {
            "standoff": 15
           },
           "zerolinecolor": "white",
           "zerolinewidth": 2
          },
          "yaxis": {
           "automargin": true,
           "gridcolor": "white",
           "linecolor": "white",
           "ticks": "",
           "title": {
            "standoff": 15
           },
           "zerolinecolor": "white",
           "zerolinewidth": 2
          }
         }
        },
        "title": {
         "text": "Rating Category"
        },
        "xaxis": {
         "title": {
          "text": "Rating"
         }
        },
        "yaxis": {
         "title": {
          "text": "Number of app"
         }
        }
       }
      },
      "text/html": [
       "<div>                            <div id=\"ef96785c-69dc-4f46-9eeb-07085a3fdae8\" class=\"plotly-graph-div\" style=\"height:525px; width:100%;\"></div>            <script type=\"text/javascript\">                require([\"plotly\"], function(Plotly) {                    window.PLOTLYENV=window.PLOTLYENV || {};                                    if (document.getElementById(\"ef96785c-69dc-4f46-9eeb-07085a3fdae8\")) {                    Plotly.newPlot(                        \"ef96785c-69dc-4f46-9eeb-07085a3fdae8\",                        [{\"type\": \"bar\", \"x\": [\"Average\", \"High\", \"Low\", \"none\"], \"y\": [10366, 2606, 119, 99]}],                        {\"font\": {\"color\": \"RebeccaPurple\", \"family\": \"Courier New, monospace\", \"size\": 18}, \"template\": {\"data\": {\"bar\": [{\"error_x\": {\"color\": \"#2a3f5f\"}, \"error_y\": {\"color\": \"#2a3f5f\"}, \"marker\": {\"line\": {\"color\": \"#E5ECF6\", \"width\": 0.5}}, \"type\": \"bar\"}], \"barpolar\": [{\"marker\": {\"line\": {\"color\": \"#E5ECF6\", \"width\": 0.5}}, \"type\": \"barpolar\"}], \"carpet\": [{\"aaxis\": {\"endlinecolor\": \"#2a3f5f\", \"gridcolor\": \"white\", \"linecolor\": \"white\", \"minorgridcolor\": \"white\", \"startlinecolor\": \"#2a3f5f\"}, \"baxis\": {\"endlinecolor\": \"#2a3f5f\", \"gridcolor\": \"white\", \"linecolor\": \"white\", \"minorgridcolor\": \"white\", \"startlinecolor\": \"#2a3f5f\"}, \"type\": \"carpet\"}], \"choropleth\": [{\"colorbar\": {\"outlinewidth\": 0, \"ticks\": \"\"}, \"type\": \"choropleth\"}], \"contour\": [{\"colorbar\": {\"outlinewidth\": 0, \"ticks\": \"\"}, \"colorscale\": [[0.0, \"#0d0887\"], [0.1111111111111111, \"#46039f\"], [0.2222222222222222, \"#7201a8\"], [0.3333333333333333, \"#9c179e\"], [0.4444444444444444, \"#bd3786\"], [0.5555555555555556, \"#d8576b\"], [0.6666666666666666, \"#ed7953\"], [0.7777777777777778, \"#fb9f3a\"], [0.8888888888888888, \"#fdca26\"], [1.0, \"#f0f921\"]], \"type\": \"contour\"}], \"contourcarpet\": [{\"colorbar\": {\"outlinewidth\": 0, \"ticks\": \"\"}, \"type\": \"contourcarpet\"}], \"heatmap\": [{\"colorbar\": {\"outlinewidth\": 0, \"ticks\": \"\"}, \"colorscale\": [[0.0, \"#0d0887\"], [0.1111111111111111, \"#46039f\"], [0.2222222222222222, \"#7201a8\"], [0.3333333333333333, \"#9c179e\"], [0.4444444444444444, \"#bd3786\"], [0.5555555555555556, \"#d8576b\"], [0.6666666666666666, \"#ed7953\"], [0.7777777777777778, \"#fb9f3a\"], [0.8888888888888888, \"#fdca26\"], [1.0, \"#f0f921\"]], \"type\": \"heatmap\"}], \"heatmapgl\": [{\"colorbar\": {\"outlinewidth\": 0, \"ticks\": \"\"}, \"colorscale\": [[0.0, \"#0d0887\"], [0.1111111111111111, \"#46039f\"], [0.2222222222222222, \"#7201a8\"], [0.3333333333333333, \"#9c179e\"], [0.4444444444444444, \"#bd3786\"], [0.5555555555555556, \"#d8576b\"], [0.6666666666666666, \"#ed7953\"], [0.7777777777777778, \"#fb9f3a\"], [0.8888888888888888, \"#fdca26\"], [1.0, \"#f0f921\"]], \"type\": \"heatmapgl\"}], \"histogram\": [{\"marker\": {\"colorbar\": {\"outlinewidth\": 0, \"ticks\": \"\"}}, \"type\": \"histogram\"}], \"histogram2d\": [{\"colorbar\": {\"outlinewidth\": 0, \"ticks\": \"\"}, \"colorscale\": [[0.0, \"#0d0887\"], [0.1111111111111111, \"#46039f\"], [0.2222222222222222, \"#7201a8\"], [0.3333333333333333, \"#9c179e\"], [0.4444444444444444, \"#bd3786\"], [0.5555555555555556, \"#d8576b\"], [0.6666666666666666, \"#ed7953\"], [0.7777777777777778, \"#fb9f3a\"], [0.8888888888888888, \"#fdca26\"], [1.0, \"#f0f921\"]], \"type\": \"histogram2d\"}], \"histogram2dcontour\": [{\"colorbar\": {\"outlinewidth\": 0, \"ticks\": \"\"}, \"colorscale\": [[0.0, \"#0d0887\"], [0.1111111111111111, \"#46039f\"], [0.2222222222222222, \"#7201a8\"], [0.3333333333333333, \"#9c179e\"], [0.4444444444444444, \"#bd3786\"], [0.5555555555555556, \"#d8576b\"], [0.6666666666666666, \"#ed7953\"], [0.7777777777777778, \"#fb9f3a\"], [0.8888888888888888, \"#fdca26\"], [1.0, \"#f0f921\"]], \"type\": \"histogram2dcontour\"}], \"mesh3d\": [{\"colorbar\": {\"outlinewidth\": 0, \"ticks\": \"\"}, \"type\": \"mesh3d\"}], \"parcoords\": [{\"line\": {\"colorbar\": {\"outlinewidth\": 0, \"ticks\": \"\"}}, \"type\": \"parcoords\"}], \"pie\": [{\"automargin\": true, \"type\": \"pie\"}], \"scatter\": [{\"marker\": {\"colorbar\": {\"outlinewidth\": 0, \"ticks\": \"\"}}, \"type\": \"scatter\"}], \"scatter3d\": [{\"line\": {\"colorbar\": {\"outlinewidth\": 0, \"ticks\": \"\"}}, \"marker\": {\"colorbar\": {\"outlinewidth\": 0, \"ticks\": \"\"}}, \"type\": \"scatter3d\"}], \"scattercarpet\": [{\"marker\": {\"colorbar\": {\"outlinewidth\": 0, \"ticks\": \"\"}}, \"type\": \"scattercarpet\"}], \"scattergeo\": [{\"marker\": {\"colorbar\": {\"outlinewidth\": 0, \"ticks\": \"\"}}, \"type\": \"scattergeo\"}], \"scattergl\": [{\"marker\": {\"colorbar\": {\"outlinewidth\": 0, \"ticks\": \"\"}}, \"type\": \"scattergl\"}], \"scattermapbox\": [{\"marker\": {\"colorbar\": {\"outlinewidth\": 0, \"ticks\": \"\"}}, \"type\": \"scattermapbox\"}], \"scatterpolar\": [{\"marker\": {\"colorbar\": {\"outlinewidth\": 0, \"ticks\": \"\"}}, \"type\": \"scatterpolar\"}], \"scatterpolargl\": [{\"marker\": {\"colorbar\": {\"outlinewidth\": 0, \"ticks\": \"\"}}, \"type\": \"scatterpolargl\"}], \"scatterternary\": [{\"marker\": {\"colorbar\": {\"outlinewidth\": 0, \"ticks\": \"\"}}, \"type\": \"scatterternary\"}], \"surface\": [{\"colorbar\": {\"outlinewidth\": 0, \"ticks\": \"\"}, \"colorscale\": [[0.0, \"#0d0887\"], [0.1111111111111111, \"#46039f\"], [0.2222222222222222, \"#7201a8\"], [0.3333333333333333, \"#9c179e\"], [0.4444444444444444, \"#bd3786\"], [0.5555555555555556, \"#d8576b\"], [0.6666666666666666, \"#ed7953\"], [0.7777777777777778, \"#fb9f3a\"], [0.8888888888888888, \"#fdca26\"], [1.0, \"#f0f921\"]], \"type\": \"surface\"}], \"table\": [{\"cells\": {\"fill\": {\"color\": \"#EBF0F8\"}, \"line\": {\"color\": \"white\"}}, \"header\": {\"fill\": {\"color\": \"#C8D4E3\"}, \"line\": {\"color\": \"white\"}}, \"type\": \"table\"}]}, \"layout\": {\"annotationdefaults\": {\"arrowcolor\": \"#2a3f5f\", \"arrowhead\": 0, \"arrowwidth\": 1}, \"coloraxis\": {\"colorbar\": {\"outlinewidth\": 0, \"ticks\": \"\"}}, \"colorscale\": {\"diverging\": [[0, \"#8e0152\"], [0.1, \"#c51b7d\"], [0.2, \"#de77ae\"], [0.3, \"#f1b6da\"], [0.4, \"#fde0ef\"], [0.5, \"#f7f7f7\"], [0.6, \"#e6f5d0\"], [0.7, \"#b8e186\"], [0.8, \"#7fbc41\"], [0.9, \"#4d9221\"], [1, \"#276419\"]], \"sequential\": [[0.0, \"#0d0887\"], [0.1111111111111111, \"#46039f\"], [0.2222222222222222, \"#7201a8\"], [0.3333333333333333, \"#9c179e\"], [0.4444444444444444, \"#bd3786\"], [0.5555555555555556, \"#d8576b\"], [0.6666666666666666, \"#ed7953\"], [0.7777777777777778, \"#fb9f3a\"], [0.8888888888888888, \"#fdca26\"], [1.0, \"#f0f921\"]], \"sequentialminus\": [[0.0, \"#0d0887\"], [0.1111111111111111, \"#46039f\"], [0.2222222222222222, \"#7201a8\"], [0.3333333333333333, \"#9c179e\"], [0.4444444444444444, \"#bd3786\"], [0.5555555555555556, \"#d8576b\"], [0.6666666666666666, \"#ed7953\"], [0.7777777777777778, \"#fb9f3a\"], [0.8888888888888888, \"#fdca26\"], [1.0, \"#f0f921\"]]}, \"colorway\": [\"#636efa\", \"#EF553B\", \"#00cc96\", \"#ab63fa\", \"#FFA15A\", \"#19d3f3\", \"#FF6692\", \"#B6E880\", \"#FF97FF\", \"#FECB52\"], \"font\": {\"color\": \"#2a3f5f\"}, \"geo\": {\"bgcolor\": \"white\", \"lakecolor\": \"white\", \"landcolor\": \"#E5ECF6\", \"showlakes\": true, \"showland\": true, \"subunitcolor\": \"white\"}, \"hoverlabel\": {\"align\": \"left\"}, \"hovermode\": \"closest\", \"mapbox\": {\"style\": \"light\"}, \"paper_bgcolor\": \"white\", \"plot_bgcolor\": \"#E5ECF6\", \"polar\": {\"angularaxis\": {\"gridcolor\": \"white\", \"linecolor\": \"white\", \"ticks\": \"\"}, \"bgcolor\": \"#E5ECF6\", \"radialaxis\": {\"gridcolor\": \"white\", \"linecolor\": \"white\", \"ticks\": \"\"}}, \"scene\": {\"xaxis\": {\"backgroundcolor\": \"#E5ECF6\", \"gridcolor\": \"white\", \"gridwidth\": 2, \"linecolor\": \"white\", \"showbackground\": true, \"ticks\": \"\", \"zerolinecolor\": \"white\"}, \"yaxis\": {\"backgroundcolor\": \"#E5ECF6\", \"gridcolor\": \"white\", \"gridwidth\": 2, \"linecolor\": \"white\", \"showbackground\": true, \"ticks\": \"\", \"zerolinecolor\": \"white\"}, \"zaxis\": {\"backgroundcolor\": \"#E5ECF6\", \"gridcolor\": \"white\", \"gridwidth\": 2, \"linecolor\": \"white\", \"showbackground\": true, \"ticks\": \"\", \"zerolinecolor\": \"white\"}}, \"shapedefaults\": {\"line\": {\"color\": \"#2a3f5f\"}}, \"ternary\": {\"aaxis\": {\"gridcolor\": \"white\", \"linecolor\": \"white\", \"ticks\": \"\"}, \"baxis\": {\"gridcolor\": \"white\", \"linecolor\": \"white\", \"ticks\": \"\"}, \"bgcolor\": \"#E5ECF6\", \"caxis\": {\"gridcolor\": \"white\", \"linecolor\": \"white\", \"ticks\": \"\"}}, \"title\": {\"x\": 0.05}, \"xaxis\": {\"automargin\": true, \"gridcolor\": \"white\", \"linecolor\": \"white\", \"ticks\": \"\", \"title\": {\"standoff\": 15}, \"zerolinecolor\": \"white\", \"zerolinewidth\": 2}, \"yaxis\": {\"automargin\": true, \"gridcolor\": \"white\", \"linecolor\": \"white\", \"ticks\": \"\", \"title\": {\"standoff\": 15}, \"zerolinecolor\": \"white\", \"zerolinewidth\": 2}}}, \"title\": {\"text\": \"Rating Category\"}, \"xaxis\": {\"title\": {\"text\": \"Rating\"}}, \"yaxis\": {\"title\": {\"text\": \"Number of app\"}}},                        {\"responsive\": true}                    ).then(function(){\n",
       "                            \n",
       "var gd = document.getElementById('ef96785c-69dc-4f46-9eeb-07085a3fdae8');\n",
       "var x = new MutationObserver(function (mutations, observer) {{\n",
       "        var display = window.getComputedStyle(gd).display;\n",
       "        if (!display || display === 'none') {{\n",
       "            console.log([gd, 'removed!']);\n",
       "            Plotly.purge(gd);\n",
       "            observer.disconnect();\n",
       "        }}\n",
       "}});\n",
       "\n",
       "// Listen for the removal of the full notebook cells\n",
       "var notebookContainer = gd.closest('#notebook-container');\n",
       "if (notebookContainer) {{\n",
       "    x.observe(notebookContainer, {childList: true});\n",
       "}}\n",
       "\n",
       "// Listen for the clearing of the current output cell\n",
       "var outputEl = gd.closest('.output');\n",
       "if (outputEl) {{\n",
       "    x.observe(outputEl, {childList: true});\n",
       "}}\n",
       "\n",
       "                        })                };                });            </script>        </div>"
      ]
     },
     "metadata": {},
     "output_type": "display_data"
    }
   ],
   "source": [
    "data = [go.Bar(\n",
    "        x=play_store['rating_group'].value_counts().index,\n",
    "        y=play_store['rating_group'].value_counts().values\n",
    ")]\n",
    "\n",
    "layout = go.Layout(\n",
    "    title=\"Rating Category\",\n",
    "    xaxis_title=\"Rating\",\n",
    "    yaxis_title=\"Number of app\",\n",
    "    font=dict(\n",
    "        family=\"Courier New, monospace\",\n",
    "        size=18,\n",
    "        color=\"RebeccaPurple\"\n",
    "    )\n",
    ") \n",
    "\n",
    "fig = go.Figure(data=data, layout=layout)\n",
    "\n",
    "plotly.offline.iplot(fig, filename='Rating Category')"
   ]
  },
  {
   "cell_type": "code",
   "execution_count": 34,
   "metadata": {},
   "outputs": [
    {
     "data": {
      "text/html": [
       "<div>\n",
       "<style scoped>\n",
       "    .dataframe tbody tr th:only-of-type {\n",
       "        vertical-align: middle;\n",
       "    }\n",
       "\n",
       "    .dataframe tbody tr th {\n",
       "        vertical-align: top;\n",
       "    }\n",
       "\n",
       "    .dataframe thead th {\n",
       "        text-align: right;\n",
       "    }\n",
       "</style>\n",
       "<table border=\"1\" class=\"dataframe\">\n",
       "  <thead>\n",
       "    <tr style=\"text-align: right;\">\n",
       "      <th></th>\n",
       "      <th>title</th>\n",
       "      <th>size</th>\n",
       "      <th>installs</th>\n",
       "      <th>reviews</th>\n",
       "      <th>price</th>\n",
       "      <th>category</th>\n",
       "      <th>contentRating</th>\n",
       "      <th>score</th>\n",
       "      <th>UpdatedAt</th>\n",
       "      <th>rating_group</th>\n",
       "    </tr>\n",
       "  </thead>\n",
       "  <tbody>\n",
       "    <tr>\n",
       "      <th>1</th>\n",
       "      <td>X Launcher Lite: With OS13 Style Theme &amp; Wallp...</td>\n",
       "      <td>NaN</td>\n",
       "      <td>5000000.0</td>\n",
       "      <td>53707.0</td>\n",
       "      <td>0.0</td>\n",
       "      <td>Art &amp; Design</td>\n",
       "      <td>Rated for 3+</td>\n",
       "      <td>4.5</td>\n",
       "      <td>2</td>\n",
       "      <td>Average</td>\n",
       "    </tr>\n",
       "    <tr>\n",
       "      <th>12</th>\n",
       "      <td>Moto Rider GO: Highway Traffic</td>\n",
       "      <td>NaN</td>\n",
       "      <td>100000000.0</td>\n",
       "      <td>670760.0</td>\n",
       "      <td>0.0</td>\n",
       "      <td>Racing</td>\n",
       "      <td>Rated for 3+</td>\n",
       "      <td>4.3</td>\n",
       "      <td>2</td>\n",
       "      <td>Average</td>\n",
       "    </tr>\n",
       "    <tr>\n",
       "      <th>13</th>\n",
       "      <td>Ultimate Car Driving Simulator</td>\n",
       "      <td>83.0</td>\n",
       "      <td>50000000.0</td>\n",
       "      <td>425068.0</td>\n",
       "      <td>0.0</td>\n",
       "      <td>Racing</td>\n",
       "      <td>Rated for 3+</td>\n",
       "      <td>4.2</td>\n",
       "      <td>9</td>\n",
       "      <td>Average</td>\n",
       "    </tr>\n",
       "  </tbody>\n",
       "</table>\n",
       "</div>"
      ],
      "text/plain": [
       "                                                title  size     installs  \\\n",
       "1   X Launcher Lite: With OS13 Style Theme & Wallp...   NaN    5000000.0   \n",
       "12                     Moto Rider GO: Highway Traffic   NaN  100000000.0   \n",
       "13                     Ultimate Car Driving Simulator  83.0   50000000.0   \n",
       "\n",
       "     reviews  price      category contentRating  score  UpdatedAt rating_group  \n",
       "1    53707.0    0.0  Art & Design  Rated for 3+    4.5          2      Average  \n",
       "12  670760.0    0.0        Racing  Rated for 3+    4.3          2      Average  \n",
       "13  425068.0    0.0        Racing  Rated for 3+    4.2          9      Average  "
      ]
     },
     "execution_count": 34,
     "metadata": {},
     "output_type": "execute_result"
    }
   ],
   "source": [
    "play_store.head(3)"
   ]
  },
  {
   "cell_type": "code",
   "execution_count": 35,
   "metadata": {},
   "outputs": [],
   "source": [
    "def get_type(x):\n",
    "    try:\n",
    "        if int(x) == 0:\n",
    "            return \"Free\"\n",
    "        if int(x) > 0:\n",
    "            return \"Paid\"\n",
    "        else:\n",
    "            return np.nan\n",
    "    except:\n",
    "        return np.nan\n",
    "\n",
    "play_store['Type'] = play_store['price'].apply(get_type)"
   ]
  },
  {
   "cell_type": "code",
   "execution_count": 36,
   "metadata": {},
   "outputs": [
    {
     "data": {
      "text/plain": [
       "Free    12483\n",
       "Paid      706\n",
       "Name: Type, dtype: int64"
      ]
     },
     "execution_count": 36,
     "metadata": {},
     "output_type": "execute_result"
    }
   ],
   "source": [
    "play_store['Type'].value_counts()"
   ]
  },
  {
   "cell_type": "code",
   "execution_count": 37,
   "metadata": {},
   "outputs": [
    {
     "data": {
      "application/vnd.plotly.v1+json": {
       "config": {
        "linkText": "Export to plot.ly",
        "plotlyServerURL": "https://plot.ly",
        "showLink": false
       },
       "data": [
        {
         "type": "bar",
         "x": [
          "Average",
          "High",
          "Low",
          "none"
         ],
         "y": [
          9909,
          2395,
          113,
          66
         ]
        }
       ],
       "layout": {
        "font": {
         "color": "RebeccaPurple",
         "family": "Courier New, monospace",
         "size": 18
        },
        "template": {
         "data": {
          "bar": [
           {
            "error_x": {
             "color": "#2a3f5f"
            },
            "error_y": {
             "color": "#2a3f5f"
            },
            "marker": {
             "line": {
              "color": "#E5ECF6",
              "width": 0.5
             }
            },
            "type": "bar"
           }
          ],
          "barpolar": [
           {
            "marker": {
             "line": {
              "color": "#E5ECF6",
              "width": 0.5
             }
            },
            "type": "barpolar"
           }
          ],
          "carpet": [
           {
            "aaxis": {
             "endlinecolor": "#2a3f5f",
             "gridcolor": "white",
             "linecolor": "white",
             "minorgridcolor": "white",
             "startlinecolor": "#2a3f5f"
            },
            "baxis": {
             "endlinecolor": "#2a3f5f",
             "gridcolor": "white",
             "linecolor": "white",
             "minorgridcolor": "white",
             "startlinecolor": "#2a3f5f"
            },
            "type": "carpet"
           }
          ],
          "choropleth": [
           {
            "colorbar": {
             "outlinewidth": 0,
             "ticks": ""
            },
            "type": "choropleth"
           }
          ],
          "contour": [
           {
            "colorbar": {
             "outlinewidth": 0,
             "ticks": ""
            },
            "colorscale": [
             [
              0,
              "#0d0887"
             ],
             [
              0.1111111111111111,
              "#46039f"
             ],
             [
              0.2222222222222222,
              "#7201a8"
             ],
             [
              0.3333333333333333,
              "#9c179e"
             ],
             [
              0.4444444444444444,
              "#bd3786"
             ],
             [
              0.5555555555555556,
              "#d8576b"
             ],
             [
              0.6666666666666666,
              "#ed7953"
             ],
             [
              0.7777777777777778,
              "#fb9f3a"
             ],
             [
              0.8888888888888888,
              "#fdca26"
             ],
             [
              1,
              "#f0f921"
             ]
            ],
            "type": "contour"
           }
          ],
          "contourcarpet": [
           {
            "colorbar": {
             "outlinewidth": 0,
             "ticks": ""
            },
            "type": "contourcarpet"
           }
          ],
          "heatmap": [
           {
            "colorbar": {
             "outlinewidth": 0,
             "ticks": ""
            },
            "colorscale": [
             [
              0,
              "#0d0887"
             ],
             [
              0.1111111111111111,
              "#46039f"
             ],
             [
              0.2222222222222222,
              "#7201a8"
             ],
             [
              0.3333333333333333,
              "#9c179e"
             ],
             [
              0.4444444444444444,
              "#bd3786"
             ],
             [
              0.5555555555555556,
              "#d8576b"
             ],
             [
              0.6666666666666666,
              "#ed7953"
             ],
             [
              0.7777777777777778,
              "#fb9f3a"
             ],
             [
              0.8888888888888888,
              "#fdca26"
             ],
             [
              1,
              "#f0f921"
             ]
            ],
            "type": "heatmap"
           }
          ],
          "heatmapgl": [
           {
            "colorbar": {
             "outlinewidth": 0,
             "ticks": ""
            },
            "colorscale": [
             [
              0,
              "#0d0887"
             ],
             [
              0.1111111111111111,
              "#46039f"
             ],
             [
              0.2222222222222222,
              "#7201a8"
             ],
             [
              0.3333333333333333,
              "#9c179e"
             ],
             [
              0.4444444444444444,
              "#bd3786"
             ],
             [
              0.5555555555555556,
              "#d8576b"
             ],
             [
              0.6666666666666666,
              "#ed7953"
             ],
             [
              0.7777777777777778,
              "#fb9f3a"
             ],
             [
              0.8888888888888888,
              "#fdca26"
             ],
             [
              1,
              "#f0f921"
             ]
            ],
            "type": "heatmapgl"
           }
          ],
          "histogram": [
           {
            "marker": {
             "colorbar": {
              "outlinewidth": 0,
              "ticks": ""
             }
            },
            "type": "histogram"
           }
          ],
          "histogram2d": [
           {
            "colorbar": {
             "outlinewidth": 0,
             "ticks": ""
            },
            "colorscale": [
             [
              0,
              "#0d0887"
             ],
             [
              0.1111111111111111,
              "#46039f"
             ],
             [
              0.2222222222222222,
              "#7201a8"
             ],
             [
              0.3333333333333333,
              "#9c179e"
             ],
             [
              0.4444444444444444,
              "#bd3786"
             ],
             [
              0.5555555555555556,
              "#d8576b"
             ],
             [
              0.6666666666666666,
              "#ed7953"
             ],
             [
              0.7777777777777778,
              "#fb9f3a"
             ],
             [
              0.8888888888888888,
              "#fdca26"
             ],
             [
              1,
              "#f0f921"
             ]
            ],
            "type": "histogram2d"
           }
          ],
          "histogram2dcontour": [
           {
            "colorbar": {
             "outlinewidth": 0,
             "ticks": ""
            },
            "colorscale": [
             [
              0,
              "#0d0887"
             ],
             [
              0.1111111111111111,
              "#46039f"
             ],
             [
              0.2222222222222222,
              "#7201a8"
             ],
             [
              0.3333333333333333,
              "#9c179e"
             ],
             [
              0.4444444444444444,
              "#bd3786"
             ],
             [
              0.5555555555555556,
              "#d8576b"
             ],
             [
              0.6666666666666666,
              "#ed7953"
             ],
             [
              0.7777777777777778,
              "#fb9f3a"
             ],
             [
              0.8888888888888888,
              "#fdca26"
             ],
             [
              1,
              "#f0f921"
             ]
            ],
            "type": "histogram2dcontour"
           }
          ],
          "mesh3d": [
           {
            "colorbar": {
             "outlinewidth": 0,
             "ticks": ""
            },
            "type": "mesh3d"
           }
          ],
          "parcoords": [
           {
            "line": {
             "colorbar": {
              "outlinewidth": 0,
              "ticks": ""
             }
            },
            "type": "parcoords"
           }
          ],
          "pie": [
           {
            "automargin": true,
            "type": "pie"
           }
          ],
          "scatter": [
           {
            "marker": {
             "colorbar": {
              "outlinewidth": 0,
              "ticks": ""
             }
            },
            "type": "scatter"
           }
          ],
          "scatter3d": [
           {
            "line": {
             "colorbar": {
              "outlinewidth": 0,
              "ticks": ""
             }
            },
            "marker": {
             "colorbar": {
              "outlinewidth": 0,
              "ticks": ""
             }
            },
            "type": "scatter3d"
           }
          ],
          "scattercarpet": [
           {
            "marker": {
             "colorbar": {
              "outlinewidth": 0,
              "ticks": ""
             }
            },
            "type": "scattercarpet"
           }
          ],
          "scattergeo": [
           {
            "marker": {
             "colorbar": {
              "outlinewidth": 0,
              "ticks": ""
             }
            },
            "type": "scattergeo"
           }
          ],
          "scattergl": [
           {
            "marker": {
             "colorbar": {
              "outlinewidth": 0,
              "ticks": ""
             }
            },
            "type": "scattergl"
           }
          ],
          "scattermapbox": [
           {
            "marker": {
             "colorbar": {
              "outlinewidth": 0,
              "ticks": ""
             }
            },
            "type": "scattermapbox"
           }
          ],
          "scatterpolar": [
           {
            "marker": {
             "colorbar": {
              "outlinewidth": 0,
              "ticks": ""
             }
            },
            "type": "scatterpolar"
           }
          ],
          "scatterpolargl": [
           {
            "marker": {
             "colorbar": {
              "outlinewidth": 0,
              "ticks": ""
             }
            },
            "type": "scatterpolargl"
           }
          ],
          "scatterternary": [
           {
            "marker": {
             "colorbar": {
              "outlinewidth": 0,
              "ticks": ""
             }
            },
            "type": "scatterternary"
           }
          ],
          "surface": [
           {
            "colorbar": {
             "outlinewidth": 0,
             "ticks": ""
            },
            "colorscale": [
             [
              0,
              "#0d0887"
             ],
             [
              0.1111111111111111,
              "#46039f"
             ],
             [
              0.2222222222222222,
              "#7201a8"
             ],
             [
              0.3333333333333333,
              "#9c179e"
             ],
             [
              0.4444444444444444,
              "#bd3786"
             ],
             [
              0.5555555555555556,
              "#d8576b"
             ],
             [
              0.6666666666666666,
              "#ed7953"
             ],
             [
              0.7777777777777778,
              "#fb9f3a"
             ],
             [
              0.8888888888888888,
              "#fdca26"
             ],
             [
              1,
              "#f0f921"
             ]
            ],
            "type": "surface"
           }
          ],
          "table": [
           {
            "cells": {
             "fill": {
              "color": "#EBF0F8"
             },
             "line": {
              "color": "white"
             }
            },
            "header": {
             "fill": {
              "color": "#C8D4E3"
             },
             "line": {
              "color": "white"
             }
            },
            "type": "table"
           }
          ]
         },
         "layout": {
          "annotationdefaults": {
           "arrowcolor": "#2a3f5f",
           "arrowhead": 0,
           "arrowwidth": 1
          },
          "coloraxis": {
           "colorbar": {
            "outlinewidth": 0,
            "ticks": ""
           }
          },
          "colorscale": {
           "diverging": [
            [
             0,
             "#8e0152"
            ],
            [
             0.1,
             "#c51b7d"
            ],
            [
             0.2,
             "#de77ae"
            ],
            [
             0.3,
             "#f1b6da"
            ],
            [
             0.4,
             "#fde0ef"
            ],
            [
             0.5,
             "#f7f7f7"
            ],
            [
             0.6,
             "#e6f5d0"
            ],
            [
             0.7,
             "#b8e186"
            ],
            [
             0.8,
             "#7fbc41"
            ],
            [
             0.9,
             "#4d9221"
            ],
            [
             1,
             "#276419"
            ]
           ],
           "sequential": [
            [
             0,
             "#0d0887"
            ],
            [
             0.1111111111111111,
             "#46039f"
            ],
            [
             0.2222222222222222,
             "#7201a8"
            ],
            [
             0.3333333333333333,
             "#9c179e"
            ],
            [
             0.4444444444444444,
             "#bd3786"
            ],
            [
             0.5555555555555556,
             "#d8576b"
            ],
            [
             0.6666666666666666,
             "#ed7953"
            ],
            [
             0.7777777777777778,
             "#fb9f3a"
            ],
            [
             0.8888888888888888,
             "#fdca26"
            ],
            [
             1,
             "#f0f921"
            ]
           ],
           "sequentialminus": [
            [
             0,
             "#0d0887"
            ],
            [
             0.1111111111111111,
             "#46039f"
            ],
            [
             0.2222222222222222,
             "#7201a8"
            ],
            [
             0.3333333333333333,
             "#9c179e"
            ],
            [
             0.4444444444444444,
             "#bd3786"
            ],
            [
             0.5555555555555556,
             "#d8576b"
            ],
            [
             0.6666666666666666,
             "#ed7953"
            ],
            [
             0.7777777777777778,
             "#fb9f3a"
            ],
            [
             0.8888888888888888,
             "#fdca26"
            ],
            [
             1,
             "#f0f921"
            ]
           ]
          },
          "colorway": [
           "#636efa",
           "#EF553B",
           "#00cc96",
           "#ab63fa",
           "#FFA15A",
           "#19d3f3",
           "#FF6692",
           "#B6E880",
           "#FF97FF",
           "#FECB52"
          ],
          "font": {
           "color": "#2a3f5f"
          },
          "geo": {
           "bgcolor": "white",
           "lakecolor": "white",
           "landcolor": "#E5ECF6",
           "showlakes": true,
           "showland": true,
           "subunitcolor": "white"
          },
          "hoverlabel": {
           "align": "left"
          },
          "hovermode": "closest",
          "mapbox": {
           "style": "light"
          },
          "paper_bgcolor": "white",
          "plot_bgcolor": "#E5ECF6",
          "polar": {
           "angularaxis": {
            "gridcolor": "white",
            "linecolor": "white",
            "ticks": ""
           },
           "bgcolor": "#E5ECF6",
           "radialaxis": {
            "gridcolor": "white",
            "linecolor": "white",
            "ticks": ""
           }
          },
          "scene": {
           "xaxis": {
            "backgroundcolor": "#E5ECF6",
            "gridcolor": "white",
            "gridwidth": 2,
            "linecolor": "white",
            "showbackground": true,
            "ticks": "",
            "zerolinecolor": "white"
           },
           "yaxis": {
            "backgroundcolor": "#E5ECF6",
            "gridcolor": "white",
            "gridwidth": 2,
            "linecolor": "white",
            "showbackground": true,
            "ticks": "",
            "zerolinecolor": "white"
           },
           "zaxis": {
            "backgroundcolor": "#E5ECF6",
            "gridcolor": "white",
            "gridwidth": 2,
            "linecolor": "white",
            "showbackground": true,
            "ticks": "",
            "zerolinecolor": "white"
           }
          },
          "shapedefaults": {
           "line": {
            "color": "#2a3f5f"
           }
          },
          "ternary": {
           "aaxis": {
            "gridcolor": "white",
            "linecolor": "white",
            "ticks": ""
           },
           "baxis": {
            "gridcolor": "white",
            "linecolor": "white",
            "ticks": ""
           },
           "bgcolor": "#E5ECF6",
           "caxis": {
            "gridcolor": "white",
            "linecolor": "white",
            "ticks": ""
           }
          },
          "title": {
           "x": 0.05
          },
          "xaxis": {
           "automargin": true,
           "gridcolor": "white",
           "linecolor": "white",
           "ticks": "",
           "title": {
            "standoff": 15
           },
           "zerolinecolor": "white",
           "zerolinewidth": 2
          },
          "yaxis": {
           "automargin": true,
           "gridcolor": "white",
           "linecolor": "white",
           "ticks": "",
           "title": {
            "standoff": 15
           },
           "zerolinecolor": "white",
           "zerolinewidth": 2
          }
         }
        },
        "title": {
         "text": "Free app version"
        },
        "xaxis": {
         "title": {
          "text": "Rating"
         }
        },
        "yaxis": {
         "title": {
          "text": "Number of app"
         }
        }
       }
      },
      "text/html": [
       "<div>                            <div id=\"1977d9ca-774b-4117-a05f-eab20418a863\" class=\"plotly-graph-div\" style=\"height:525px; width:100%;\"></div>            <script type=\"text/javascript\">                require([\"plotly\"], function(Plotly) {                    window.PLOTLYENV=window.PLOTLYENV || {};                                    if (document.getElementById(\"1977d9ca-774b-4117-a05f-eab20418a863\")) {                    Plotly.newPlot(                        \"1977d9ca-774b-4117-a05f-eab20418a863\",                        [{\"type\": \"bar\", \"x\": [\"Average\", \"High\", \"Low\", \"none\"], \"y\": [9909, 2395, 113, 66]}],                        {\"font\": {\"color\": \"RebeccaPurple\", \"family\": \"Courier New, monospace\", \"size\": 18}, \"template\": {\"data\": {\"bar\": [{\"error_x\": {\"color\": \"#2a3f5f\"}, \"error_y\": {\"color\": \"#2a3f5f\"}, \"marker\": {\"line\": {\"color\": \"#E5ECF6\", \"width\": 0.5}}, \"type\": \"bar\"}], \"barpolar\": [{\"marker\": {\"line\": {\"color\": \"#E5ECF6\", \"width\": 0.5}}, \"type\": \"barpolar\"}], \"carpet\": [{\"aaxis\": {\"endlinecolor\": \"#2a3f5f\", \"gridcolor\": \"white\", \"linecolor\": \"white\", \"minorgridcolor\": \"white\", \"startlinecolor\": \"#2a3f5f\"}, \"baxis\": {\"endlinecolor\": \"#2a3f5f\", \"gridcolor\": \"white\", \"linecolor\": \"white\", \"minorgridcolor\": \"white\", \"startlinecolor\": \"#2a3f5f\"}, \"type\": \"carpet\"}], \"choropleth\": [{\"colorbar\": {\"outlinewidth\": 0, \"ticks\": \"\"}, \"type\": \"choropleth\"}], \"contour\": [{\"colorbar\": {\"outlinewidth\": 0, \"ticks\": \"\"}, \"colorscale\": [[0.0, \"#0d0887\"], [0.1111111111111111, \"#46039f\"], [0.2222222222222222, \"#7201a8\"], [0.3333333333333333, \"#9c179e\"], [0.4444444444444444, \"#bd3786\"], [0.5555555555555556, \"#d8576b\"], [0.6666666666666666, \"#ed7953\"], [0.7777777777777778, \"#fb9f3a\"], [0.8888888888888888, \"#fdca26\"], [1.0, \"#f0f921\"]], \"type\": \"contour\"}], \"contourcarpet\": [{\"colorbar\": {\"outlinewidth\": 0, \"ticks\": \"\"}, \"type\": \"contourcarpet\"}], \"heatmap\": [{\"colorbar\": {\"outlinewidth\": 0, \"ticks\": \"\"}, \"colorscale\": [[0.0, \"#0d0887\"], [0.1111111111111111, \"#46039f\"], [0.2222222222222222, \"#7201a8\"], [0.3333333333333333, \"#9c179e\"], [0.4444444444444444, \"#bd3786\"], [0.5555555555555556, \"#d8576b\"], [0.6666666666666666, \"#ed7953\"], [0.7777777777777778, \"#fb9f3a\"], [0.8888888888888888, \"#fdca26\"], [1.0, \"#f0f921\"]], \"type\": \"heatmap\"}], \"heatmapgl\": [{\"colorbar\": {\"outlinewidth\": 0, \"ticks\": \"\"}, \"colorscale\": [[0.0, \"#0d0887\"], [0.1111111111111111, \"#46039f\"], [0.2222222222222222, \"#7201a8\"], [0.3333333333333333, \"#9c179e\"], [0.4444444444444444, \"#bd3786\"], [0.5555555555555556, \"#d8576b\"], [0.6666666666666666, \"#ed7953\"], [0.7777777777777778, \"#fb9f3a\"], [0.8888888888888888, \"#fdca26\"], [1.0, \"#f0f921\"]], \"type\": \"heatmapgl\"}], \"histogram\": [{\"marker\": {\"colorbar\": {\"outlinewidth\": 0, \"ticks\": \"\"}}, \"type\": \"histogram\"}], \"histogram2d\": [{\"colorbar\": {\"outlinewidth\": 0, \"ticks\": \"\"}, \"colorscale\": [[0.0, \"#0d0887\"], [0.1111111111111111, \"#46039f\"], [0.2222222222222222, \"#7201a8\"], [0.3333333333333333, \"#9c179e\"], [0.4444444444444444, \"#bd3786\"], [0.5555555555555556, \"#d8576b\"], [0.6666666666666666, \"#ed7953\"], [0.7777777777777778, \"#fb9f3a\"], [0.8888888888888888, \"#fdca26\"], [1.0, \"#f0f921\"]], \"type\": \"histogram2d\"}], \"histogram2dcontour\": [{\"colorbar\": {\"outlinewidth\": 0, \"ticks\": \"\"}, \"colorscale\": [[0.0, \"#0d0887\"], [0.1111111111111111, \"#46039f\"], [0.2222222222222222, \"#7201a8\"], [0.3333333333333333, \"#9c179e\"], [0.4444444444444444, \"#bd3786\"], [0.5555555555555556, \"#d8576b\"], [0.6666666666666666, \"#ed7953\"], [0.7777777777777778, \"#fb9f3a\"], [0.8888888888888888, \"#fdca26\"], [1.0, \"#f0f921\"]], \"type\": \"histogram2dcontour\"}], \"mesh3d\": [{\"colorbar\": {\"outlinewidth\": 0, \"ticks\": \"\"}, \"type\": \"mesh3d\"}], \"parcoords\": [{\"line\": {\"colorbar\": {\"outlinewidth\": 0, \"ticks\": \"\"}}, \"type\": \"parcoords\"}], \"pie\": [{\"automargin\": true, \"type\": \"pie\"}], \"scatter\": [{\"marker\": {\"colorbar\": {\"outlinewidth\": 0, \"ticks\": \"\"}}, \"type\": \"scatter\"}], \"scatter3d\": [{\"line\": {\"colorbar\": {\"outlinewidth\": 0, \"ticks\": \"\"}}, \"marker\": {\"colorbar\": {\"outlinewidth\": 0, \"ticks\": \"\"}}, \"type\": \"scatter3d\"}], \"scattercarpet\": [{\"marker\": {\"colorbar\": {\"outlinewidth\": 0, \"ticks\": \"\"}}, \"type\": \"scattercarpet\"}], \"scattergeo\": [{\"marker\": {\"colorbar\": {\"outlinewidth\": 0, \"ticks\": \"\"}}, \"type\": \"scattergeo\"}], \"scattergl\": [{\"marker\": {\"colorbar\": {\"outlinewidth\": 0, \"ticks\": \"\"}}, \"type\": \"scattergl\"}], \"scattermapbox\": [{\"marker\": {\"colorbar\": {\"outlinewidth\": 0, \"ticks\": \"\"}}, \"type\": \"scattermapbox\"}], \"scatterpolar\": [{\"marker\": {\"colorbar\": {\"outlinewidth\": 0, \"ticks\": \"\"}}, \"type\": \"scatterpolar\"}], \"scatterpolargl\": [{\"marker\": {\"colorbar\": {\"outlinewidth\": 0, \"ticks\": \"\"}}, \"type\": \"scatterpolargl\"}], \"scatterternary\": [{\"marker\": {\"colorbar\": {\"outlinewidth\": 0, \"ticks\": \"\"}}, \"type\": \"scatterternary\"}], \"surface\": [{\"colorbar\": {\"outlinewidth\": 0, \"ticks\": \"\"}, \"colorscale\": [[0.0, \"#0d0887\"], [0.1111111111111111, \"#46039f\"], [0.2222222222222222, \"#7201a8\"], [0.3333333333333333, \"#9c179e\"], [0.4444444444444444, \"#bd3786\"], [0.5555555555555556, \"#d8576b\"], [0.6666666666666666, \"#ed7953\"], [0.7777777777777778, \"#fb9f3a\"], [0.8888888888888888, \"#fdca26\"], [1.0, \"#f0f921\"]], \"type\": \"surface\"}], \"table\": [{\"cells\": {\"fill\": {\"color\": \"#EBF0F8\"}, \"line\": {\"color\": \"white\"}}, \"header\": {\"fill\": {\"color\": \"#C8D4E3\"}, \"line\": {\"color\": \"white\"}}, \"type\": \"table\"}]}, \"layout\": {\"annotationdefaults\": {\"arrowcolor\": \"#2a3f5f\", \"arrowhead\": 0, \"arrowwidth\": 1}, \"coloraxis\": {\"colorbar\": {\"outlinewidth\": 0, \"ticks\": \"\"}}, \"colorscale\": {\"diverging\": [[0, \"#8e0152\"], [0.1, \"#c51b7d\"], [0.2, \"#de77ae\"], [0.3, \"#f1b6da\"], [0.4, \"#fde0ef\"], [0.5, \"#f7f7f7\"], [0.6, \"#e6f5d0\"], [0.7, \"#b8e186\"], [0.8, \"#7fbc41\"], [0.9, \"#4d9221\"], [1, \"#276419\"]], \"sequential\": [[0.0, \"#0d0887\"], [0.1111111111111111, \"#46039f\"], [0.2222222222222222, \"#7201a8\"], [0.3333333333333333, \"#9c179e\"], [0.4444444444444444, \"#bd3786\"], [0.5555555555555556, \"#d8576b\"], [0.6666666666666666, \"#ed7953\"], [0.7777777777777778, \"#fb9f3a\"], [0.8888888888888888, \"#fdca26\"], [1.0, \"#f0f921\"]], \"sequentialminus\": [[0.0, \"#0d0887\"], [0.1111111111111111, \"#46039f\"], [0.2222222222222222, \"#7201a8\"], [0.3333333333333333, \"#9c179e\"], [0.4444444444444444, \"#bd3786\"], [0.5555555555555556, \"#d8576b\"], [0.6666666666666666, \"#ed7953\"], [0.7777777777777778, \"#fb9f3a\"], [0.8888888888888888, \"#fdca26\"], [1.0, \"#f0f921\"]]}, \"colorway\": [\"#636efa\", \"#EF553B\", \"#00cc96\", \"#ab63fa\", \"#FFA15A\", \"#19d3f3\", \"#FF6692\", \"#B6E880\", \"#FF97FF\", \"#FECB52\"], \"font\": {\"color\": \"#2a3f5f\"}, \"geo\": {\"bgcolor\": \"white\", \"lakecolor\": \"white\", \"landcolor\": \"#E5ECF6\", \"showlakes\": true, \"showland\": true, \"subunitcolor\": \"white\"}, \"hoverlabel\": {\"align\": \"left\"}, \"hovermode\": \"closest\", \"mapbox\": {\"style\": \"light\"}, \"paper_bgcolor\": \"white\", \"plot_bgcolor\": \"#E5ECF6\", \"polar\": {\"angularaxis\": {\"gridcolor\": \"white\", \"linecolor\": \"white\", \"ticks\": \"\"}, \"bgcolor\": \"#E5ECF6\", \"radialaxis\": {\"gridcolor\": \"white\", \"linecolor\": \"white\", \"ticks\": \"\"}}, \"scene\": {\"xaxis\": {\"backgroundcolor\": \"#E5ECF6\", \"gridcolor\": \"white\", \"gridwidth\": 2, \"linecolor\": \"white\", \"showbackground\": true, \"ticks\": \"\", \"zerolinecolor\": \"white\"}, \"yaxis\": {\"backgroundcolor\": \"#E5ECF6\", \"gridcolor\": \"white\", \"gridwidth\": 2, \"linecolor\": \"white\", \"showbackground\": true, \"ticks\": \"\", \"zerolinecolor\": \"white\"}, \"zaxis\": {\"backgroundcolor\": \"#E5ECF6\", \"gridcolor\": \"white\", \"gridwidth\": 2, \"linecolor\": \"white\", \"showbackground\": true, \"ticks\": \"\", \"zerolinecolor\": \"white\"}}, \"shapedefaults\": {\"line\": {\"color\": \"#2a3f5f\"}}, \"ternary\": {\"aaxis\": {\"gridcolor\": \"white\", \"linecolor\": \"white\", \"ticks\": \"\"}, \"baxis\": {\"gridcolor\": \"white\", \"linecolor\": \"white\", \"ticks\": \"\"}, \"bgcolor\": \"#E5ECF6\", \"caxis\": {\"gridcolor\": \"white\", \"linecolor\": \"white\", \"ticks\": \"\"}}, \"title\": {\"x\": 0.05}, \"xaxis\": {\"automargin\": true, \"gridcolor\": \"white\", \"linecolor\": \"white\", \"ticks\": \"\", \"title\": {\"standoff\": 15}, \"zerolinecolor\": \"white\", \"zerolinewidth\": 2}, \"yaxis\": {\"automargin\": true, \"gridcolor\": \"white\", \"linecolor\": \"white\", \"ticks\": \"\", \"title\": {\"standoff\": 15}, \"zerolinecolor\": \"white\", \"zerolinewidth\": 2}}}, \"title\": {\"text\": \"Free app version\"}, \"xaxis\": {\"title\": {\"text\": \"Rating\"}}, \"yaxis\": {\"title\": {\"text\": \"Number of app\"}}},                        {\"responsive\": true}                    ).then(function(){\n",
       "                            \n",
       "var gd = document.getElementById('1977d9ca-774b-4117-a05f-eab20418a863');\n",
       "var x = new MutationObserver(function (mutations, observer) {{\n",
       "        var display = window.getComputedStyle(gd).display;\n",
       "        if (!display || display === 'none') {{\n",
       "            console.log([gd, 'removed!']);\n",
       "            Plotly.purge(gd);\n",
       "            observer.disconnect();\n",
       "        }}\n",
       "}});\n",
       "\n",
       "// Listen for the removal of the full notebook cells\n",
       "var notebookContainer = gd.closest('#notebook-container');\n",
       "if (notebookContainer) {{\n",
       "    x.observe(notebookContainer, {childList: true});\n",
       "}}\n",
       "\n",
       "// Listen for the clearing of the current output cell\n",
       "var outputEl = gd.closest('.output');\n",
       "if (outputEl) {{\n",
       "    x.observe(outputEl, {childList: true});\n",
       "}}\n",
       "\n",
       "                        })                };                });            </script>        </div>"
      ]
     },
     "metadata": {},
     "output_type": "display_data"
    }
   ],
   "source": [
    "app_free = play_store[play_store.Type == 'Free']['rating_group'].value_counts()\n",
    "\n",
    "data = [go.Bar(\n",
    "        x=app_free.index,\n",
    "        y=app_free.values\n",
    ")]\n",
    "\n",
    "layout = go.Layout(\n",
    "    title=\"Free app version\",\n",
    "    xaxis_title=\"Rating\",\n",
    "    yaxis_title=\"Number of app\",\n",
    "    font=dict(\n",
    "        family=\"Courier New, monospace\",\n",
    "        size=18,\n",
    "        color=\"RebeccaPurple\"\n",
    "    )\n",
    ") \n",
    "\n",
    "fig = go.Figure(data=data, layout=layout)\n",
    "\n",
    "plotly.offline.iplot(fig, filename='free_app_distribute')"
   ]
  },
  {
   "cell_type": "markdown",
   "metadata": {},
   "source": [
    "Có **9909** ứng dụng được người dùng xếp hạng trung bình từ 3-5 và **2395** ứng dụng được người dùng đánh giá cao gần đạt 5/5."
   ]
  },
  {
   "cell_type": "markdown",
   "metadata": {},
   "source": [
    "# Các phân tích với App có đánh giá cao\n",
    "\n",
    "## Thể loại"
   ]
  },
  {
   "cell_type": "code",
   "execution_count": 38,
   "metadata": {},
   "outputs": [
    {
     "data": {
      "application/vnd.plotly.v1+json": {
       "config": {
        "linkText": "Export to plot.ly",
        "plotlyServerURL": "https://plot.ly",
        "showLink": false
       },
       "data": [
        {
         "type": "bar",
         "x": [
          "Music & Audio",
          "Sports",
          "Shopping",
          "Photography",
          "Word",
          "Travel & Local",
          "Productivity",
          "Tools",
          "Education",
          "Video Players & Editors",
          "Lifestyle",
          "Card",
          "Casino",
          "Finance",
          "Puzzle",
          "Auto & Vehicles",
          "Parenting",
          "Casual",
          "News & Magazines",
          "Maps & Navigation",
          "Health & Fitness",
          "Personalization",
          "Weather",
          "Simulation",
          "Art & Design",
          "Medical",
          "Social",
          "Entertainment",
          "Board",
          "Action",
          "Arcade",
          "Strategy",
          "Business",
          "Adventure",
          "Books & Reference",
          "Events",
          "Food & Drink",
          "Role Playing",
          "Music",
          "House & Home",
          "Trivia",
          "Dating",
          "Comics",
          "Communication",
          "Racing",
          "Educational",
          "Beauty",
          "Libraries & Demo"
         ],
         "y": [
          161,
          122,
          122,
          115,
          110,
          94,
          93,
          93,
          83,
          81,
          79,
          76,
          70,
          68,
          67,
          66,
          64,
          62,
          62,
          61,
          59,
          58,
          54,
          52,
          49,
          46,
          44,
          39,
          39,
          39,
          38,
          37,
          33,
          31,
          30,
          30,
          30,
          24,
          22,
          21,
          20,
          12,
          11,
          10,
          8,
          8,
          7,
          6
         ]
        }
       ],
       "layout": {
        "font": {
         "color": "RebeccaPurple",
         "family": "Courier New, monospace",
         "size": 14
        },
        "template": {
         "data": {
          "bar": [
           {
            "error_x": {
             "color": "#2a3f5f"
            },
            "error_y": {
             "color": "#2a3f5f"
            },
            "marker": {
             "line": {
              "color": "#E5ECF6",
              "width": 0.5
             }
            },
            "type": "bar"
           }
          ],
          "barpolar": [
           {
            "marker": {
             "line": {
              "color": "#E5ECF6",
              "width": 0.5
             }
            },
            "type": "barpolar"
           }
          ],
          "carpet": [
           {
            "aaxis": {
             "endlinecolor": "#2a3f5f",
             "gridcolor": "white",
             "linecolor": "white",
             "minorgridcolor": "white",
             "startlinecolor": "#2a3f5f"
            },
            "baxis": {
             "endlinecolor": "#2a3f5f",
             "gridcolor": "white",
             "linecolor": "white",
             "minorgridcolor": "white",
             "startlinecolor": "#2a3f5f"
            },
            "type": "carpet"
           }
          ],
          "choropleth": [
           {
            "colorbar": {
             "outlinewidth": 0,
             "ticks": ""
            },
            "type": "choropleth"
           }
          ],
          "contour": [
           {
            "colorbar": {
             "outlinewidth": 0,
             "ticks": ""
            },
            "colorscale": [
             [
              0,
              "#0d0887"
             ],
             [
              0.1111111111111111,
              "#46039f"
             ],
             [
              0.2222222222222222,
              "#7201a8"
             ],
             [
              0.3333333333333333,
              "#9c179e"
             ],
             [
              0.4444444444444444,
              "#bd3786"
             ],
             [
              0.5555555555555556,
              "#d8576b"
             ],
             [
              0.6666666666666666,
              "#ed7953"
             ],
             [
              0.7777777777777778,
              "#fb9f3a"
             ],
             [
              0.8888888888888888,
              "#fdca26"
             ],
             [
              1,
              "#f0f921"
             ]
            ],
            "type": "contour"
           }
          ],
          "contourcarpet": [
           {
            "colorbar": {
             "outlinewidth": 0,
             "ticks": ""
            },
            "type": "contourcarpet"
           }
          ],
          "heatmap": [
           {
            "colorbar": {
             "outlinewidth": 0,
             "ticks": ""
            },
            "colorscale": [
             [
              0,
              "#0d0887"
             ],
             [
              0.1111111111111111,
              "#46039f"
             ],
             [
              0.2222222222222222,
              "#7201a8"
             ],
             [
              0.3333333333333333,
              "#9c179e"
             ],
             [
              0.4444444444444444,
              "#bd3786"
             ],
             [
              0.5555555555555556,
              "#d8576b"
             ],
             [
              0.6666666666666666,
              "#ed7953"
             ],
             [
              0.7777777777777778,
              "#fb9f3a"
             ],
             [
              0.8888888888888888,
              "#fdca26"
             ],
             [
              1,
              "#f0f921"
             ]
            ],
            "type": "heatmap"
           }
          ],
          "heatmapgl": [
           {
            "colorbar": {
             "outlinewidth": 0,
             "ticks": ""
            },
            "colorscale": [
             [
              0,
              "#0d0887"
             ],
             [
              0.1111111111111111,
              "#46039f"
             ],
             [
              0.2222222222222222,
              "#7201a8"
             ],
             [
              0.3333333333333333,
              "#9c179e"
             ],
             [
              0.4444444444444444,
              "#bd3786"
             ],
             [
              0.5555555555555556,
              "#d8576b"
             ],
             [
              0.6666666666666666,
              "#ed7953"
             ],
             [
              0.7777777777777778,
              "#fb9f3a"
             ],
             [
              0.8888888888888888,
              "#fdca26"
             ],
             [
              1,
              "#f0f921"
             ]
            ],
            "type": "heatmapgl"
           }
          ],
          "histogram": [
           {
            "marker": {
             "colorbar": {
              "outlinewidth": 0,
              "ticks": ""
             }
            },
            "type": "histogram"
           }
          ],
          "histogram2d": [
           {
            "colorbar": {
             "outlinewidth": 0,
             "ticks": ""
            },
            "colorscale": [
             [
              0,
              "#0d0887"
             ],
             [
              0.1111111111111111,
              "#46039f"
             ],
             [
              0.2222222222222222,
              "#7201a8"
             ],
             [
              0.3333333333333333,
              "#9c179e"
             ],
             [
              0.4444444444444444,
              "#bd3786"
             ],
             [
              0.5555555555555556,
              "#d8576b"
             ],
             [
              0.6666666666666666,
              "#ed7953"
             ],
             [
              0.7777777777777778,
              "#fb9f3a"
             ],
             [
              0.8888888888888888,
              "#fdca26"
             ],
             [
              1,
              "#f0f921"
             ]
            ],
            "type": "histogram2d"
           }
          ],
          "histogram2dcontour": [
           {
            "colorbar": {
             "outlinewidth": 0,
             "ticks": ""
            },
            "colorscale": [
             [
              0,
              "#0d0887"
             ],
             [
              0.1111111111111111,
              "#46039f"
             ],
             [
              0.2222222222222222,
              "#7201a8"
             ],
             [
              0.3333333333333333,
              "#9c179e"
             ],
             [
              0.4444444444444444,
              "#bd3786"
             ],
             [
              0.5555555555555556,
              "#d8576b"
             ],
             [
              0.6666666666666666,
              "#ed7953"
             ],
             [
              0.7777777777777778,
              "#fb9f3a"
             ],
             [
              0.8888888888888888,
              "#fdca26"
             ],
             [
              1,
              "#f0f921"
             ]
            ],
            "type": "histogram2dcontour"
           }
          ],
          "mesh3d": [
           {
            "colorbar": {
             "outlinewidth": 0,
             "ticks": ""
            },
            "type": "mesh3d"
           }
          ],
          "parcoords": [
           {
            "line": {
             "colorbar": {
              "outlinewidth": 0,
              "ticks": ""
             }
            },
            "type": "parcoords"
           }
          ],
          "pie": [
           {
            "automargin": true,
            "type": "pie"
           }
          ],
          "scatter": [
           {
            "marker": {
             "colorbar": {
              "outlinewidth": 0,
              "ticks": ""
             }
            },
            "type": "scatter"
           }
          ],
          "scatter3d": [
           {
            "line": {
             "colorbar": {
              "outlinewidth": 0,
              "ticks": ""
             }
            },
            "marker": {
             "colorbar": {
              "outlinewidth": 0,
              "ticks": ""
             }
            },
            "type": "scatter3d"
           }
          ],
          "scattercarpet": [
           {
            "marker": {
             "colorbar": {
              "outlinewidth": 0,
              "ticks": ""
             }
            },
            "type": "scattercarpet"
           }
          ],
          "scattergeo": [
           {
            "marker": {
             "colorbar": {
              "outlinewidth": 0,
              "ticks": ""
             }
            },
            "type": "scattergeo"
           }
          ],
          "scattergl": [
           {
            "marker": {
             "colorbar": {
              "outlinewidth": 0,
              "ticks": ""
             }
            },
            "type": "scattergl"
           }
          ],
          "scattermapbox": [
           {
            "marker": {
             "colorbar": {
              "outlinewidth": 0,
              "ticks": ""
             }
            },
            "type": "scattermapbox"
           }
          ],
          "scatterpolar": [
           {
            "marker": {
             "colorbar": {
              "outlinewidth": 0,
              "ticks": ""
             }
            },
            "type": "scatterpolar"
           }
          ],
          "scatterpolargl": [
           {
            "marker": {
             "colorbar": {
              "outlinewidth": 0,
              "ticks": ""
             }
            },
            "type": "scatterpolargl"
           }
          ],
          "scatterternary": [
           {
            "marker": {
             "colorbar": {
              "outlinewidth": 0,
              "ticks": ""
             }
            },
            "type": "scatterternary"
           }
          ],
          "surface": [
           {
            "colorbar": {
             "outlinewidth": 0,
             "ticks": ""
            },
            "colorscale": [
             [
              0,
              "#0d0887"
             ],
             [
              0.1111111111111111,
              "#46039f"
             ],
             [
              0.2222222222222222,
              "#7201a8"
             ],
             [
              0.3333333333333333,
              "#9c179e"
             ],
             [
              0.4444444444444444,
              "#bd3786"
             ],
             [
              0.5555555555555556,
              "#d8576b"
             ],
             [
              0.6666666666666666,
              "#ed7953"
             ],
             [
              0.7777777777777778,
              "#fb9f3a"
             ],
             [
              0.8888888888888888,
              "#fdca26"
             ],
             [
              1,
              "#f0f921"
             ]
            ],
            "type": "surface"
           }
          ],
          "table": [
           {
            "cells": {
             "fill": {
              "color": "#EBF0F8"
             },
             "line": {
              "color": "white"
             }
            },
            "header": {
             "fill": {
              "color": "#C8D4E3"
             },
             "line": {
              "color": "white"
             }
            },
            "type": "table"
           }
          ]
         },
         "layout": {
          "annotationdefaults": {
           "arrowcolor": "#2a3f5f",
           "arrowhead": 0,
           "arrowwidth": 1
          },
          "coloraxis": {
           "colorbar": {
            "outlinewidth": 0,
            "ticks": ""
           }
          },
          "colorscale": {
           "diverging": [
            [
             0,
             "#8e0152"
            ],
            [
             0.1,
             "#c51b7d"
            ],
            [
             0.2,
             "#de77ae"
            ],
            [
             0.3,
             "#f1b6da"
            ],
            [
             0.4,
             "#fde0ef"
            ],
            [
             0.5,
             "#f7f7f7"
            ],
            [
             0.6,
             "#e6f5d0"
            ],
            [
             0.7,
             "#b8e186"
            ],
            [
             0.8,
             "#7fbc41"
            ],
            [
             0.9,
             "#4d9221"
            ],
            [
             1,
             "#276419"
            ]
           ],
           "sequential": [
            [
             0,
             "#0d0887"
            ],
            [
             0.1111111111111111,
             "#46039f"
            ],
            [
             0.2222222222222222,
             "#7201a8"
            ],
            [
             0.3333333333333333,
             "#9c179e"
            ],
            [
             0.4444444444444444,
             "#bd3786"
            ],
            [
             0.5555555555555556,
             "#d8576b"
            ],
            [
             0.6666666666666666,
             "#ed7953"
            ],
            [
             0.7777777777777778,
             "#fb9f3a"
            ],
            [
             0.8888888888888888,
             "#fdca26"
            ],
            [
             1,
             "#f0f921"
            ]
           ],
           "sequentialminus": [
            [
             0,
             "#0d0887"
            ],
            [
             0.1111111111111111,
             "#46039f"
            ],
            [
             0.2222222222222222,
             "#7201a8"
            ],
            [
             0.3333333333333333,
             "#9c179e"
            ],
            [
             0.4444444444444444,
             "#bd3786"
            ],
            [
             0.5555555555555556,
             "#d8576b"
            ],
            [
             0.6666666666666666,
             "#ed7953"
            ],
            [
             0.7777777777777778,
             "#fb9f3a"
            ],
            [
             0.8888888888888888,
             "#fdca26"
            ],
            [
             1,
             "#f0f921"
            ]
           ]
          },
          "colorway": [
           "#636efa",
           "#EF553B",
           "#00cc96",
           "#ab63fa",
           "#FFA15A",
           "#19d3f3",
           "#FF6692",
           "#B6E880",
           "#FF97FF",
           "#FECB52"
          ],
          "font": {
           "color": "#2a3f5f"
          },
          "geo": {
           "bgcolor": "white",
           "lakecolor": "white",
           "landcolor": "#E5ECF6",
           "showlakes": true,
           "showland": true,
           "subunitcolor": "white"
          },
          "hoverlabel": {
           "align": "left"
          },
          "hovermode": "closest",
          "mapbox": {
           "style": "light"
          },
          "paper_bgcolor": "white",
          "plot_bgcolor": "#E5ECF6",
          "polar": {
           "angularaxis": {
            "gridcolor": "white",
            "linecolor": "white",
            "ticks": ""
           },
           "bgcolor": "#E5ECF6",
           "radialaxis": {
            "gridcolor": "white",
            "linecolor": "white",
            "ticks": ""
           }
          },
          "scene": {
           "xaxis": {
            "backgroundcolor": "#E5ECF6",
            "gridcolor": "white",
            "gridwidth": 2,
            "linecolor": "white",
            "showbackground": true,
            "ticks": "",
            "zerolinecolor": "white"
           },
           "yaxis": {
            "backgroundcolor": "#E5ECF6",
            "gridcolor": "white",
            "gridwidth": 2,
            "linecolor": "white",
            "showbackground": true,
            "ticks": "",
            "zerolinecolor": "white"
           },
           "zaxis": {
            "backgroundcolor": "#E5ECF6",
            "gridcolor": "white",
            "gridwidth": 2,
            "linecolor": "white",
            "showbackground": true,
            "ticks": "",
            "zerolinecolor": "white"
           }
          },
          "shapedefaults": {
           "line": {
            "color": "#2a3f5f"
           }
          },
          "ternary": {
           "aaxis": {
            "gridcolor": "white",
            "linecolor": "white",
            "ticks": ""
           },
           "baxis": {
            "gridcolor": "white",
            "linecolor": "white",
            "ticks": ""
           },
           "bgcolor": "#E5ECF6",
           "caxis": {
            "gridcolor": "white",
            "linecolor": "white",
            "ticks": ""
           }
          },
          "title": {
           "x": 0.05
          },
          "xaxis": {
           "automargin": true,
           "gridcolor": "white",
           "linecolor": "white",
           "ticks": "",
           "title": {
            "standoff": 15
           },
           "zerolinecolor": "white",
           "zerolinewidth": 2
          },
          "yaxis": {
           "automargin": true,
           "gridcolor": "white",
           "linecolor": "white",
           "ticks": "",
           "title": {
            "standoff": 15
           },
           "zerolinecolor": "white",
           "zerolinewidth": 2
          }
         }
        },
        "title": {
         "text": "High rating app"
        },
        "xaxis": {
         "title": {
          "text": "Category"
         }
        },
        "yaxis": {
         "title": {
          "text": "Number of High Reviews app"
         }
        }
       }
      },
      "text/html": [
       "<div>                            <div id=\"849268bc-04c8-417e-b9e9-e84457d70056\" class=\"plotly-graph-div\" style=\"height:525px; width:100%;\"></div>            <script type=\"text/javascript\">                require([\"plotly\"], function(Plotly) {                    window.PLOTLYENV=window.PLOTLYENV || {};                                    if (document.getElementById(\"849268bc-04c8-417e-b9e9-e84457d70056\")) {                    Plotly.newPlot(                        \"849268bc-04c8-417e-b9e9-e84457d70056\",                        [{\"type\": \"bar\", \"x\": [\"Music & Audio\", \"Sports\", \"Shopping\", \"Photography\", \"Word\", \"Travel & Local\", \"Productivity\", \"Tools\", \"Education\", \"Video Players & Editors\", \"Lifestyle\", \"Card\", \"Casino\", \"Finance\", \"Puzzle\", \"Auto & Vehicles\", \"Parenting\", \"Casual\", \"News & Magazines\", \"Maps & Navigation\", \"Health & Fitness\", \"Personalization\", \"Weather\", \"Simulation\", \"Art & Design\", \"Medical\", \"Social\", \"Entertainment\", \"Board\", \"Action\", \"Arcade\", \"Strategy\", \"Business\", \"Adventure\", \"Books & Reference\", \"Events\", \"Food & Drink\", \"Role Playing\", \"Music\", \"House & Home\", \"Trivia\", \"Dating\", \"Comics\", \"Communication\", \"Racing\", \"Educational\", \"Beauty\", \"Libraries & Demo\"], \"y\": [161, 122, 122, 115, 110, 94, 93, 93, 83, 81, 79, 76, 70, 68, 67, 66, 64, 62, 62, 61, 59, 58, 54, 52, 49, 46, 44, 39, 39, 39, 38, 37, 33, 31, 30, 30, 30, 24, 22, 21, 20, 12, 11, 10, 8, 8, 7, 6]}],                        {\"font\": {\"color\": \"RebeccaPurple\", \"family\": \"Courier New, monospace\", \"size\": 14}, \"template\": {\"data\": {\"bar\": [{\"error_x\": {\"color\": \"#2a3f5f\"}, \"error_y\": {\"color\": \"#2a3f5f\"}, \"marker\": {\"line\": {\"color\": \"#E5ECF6\", \"width\": 0.5}}, \"type\": \"bar\"}], \"barpolar\": [{\"marker\": {\"line\": {\"color\": \"#E5ECF6\", \"width\": 0.5}}, \"type\": \"barpolar\"}], \"carpet\": [{\"aaxis\": {\"endlinecolor\": \"#2a3f5f\", \"gridcolor\": \"white\", \"linecolor\": \"white\", \"minorgridcolor\": \"white\", \"startlinecolor\": \"#2a3f5f\"}, \"baxis\": {\"endlinecolor\": \"#2a3f5f\", \"gridcolor\": \"white\", \"linecolor\": \"white\", \"minorgridcolor\": \"white\", \"startlinecolor\": \"#2a3f5f\"}, \"type\": \"carpet\"}], \"choropleth\": [{\"colorbar\": {\"outlinewidth\": 0, \"ticks\": \"\"}, \"type\": \"choropleth\"}], \"contour\": [{\"colorbar\": {\"outlinewidth\": 0, \"ticks\": \"\"}, \"colorscale\": [[0.0, \"#0d0887\"], [0.1111111111111111, \"#46039f\"], [0.2222222222222222, \"#7201a8\"], [0.3333333333333333, \"#9c179e\"], [0.4444444444444444, \"#bd3786\"], [0.5555555555555556, \"#d8576b\"], [0.6666666666666666, \"#ed7953\"], [0.7777777777777778, \"#fb9f3a\"], [0.8888888888888888, \"#fdca26\"], [1.0, \"#f0f921\"]], \"type\": \"contour\"}], \"contourcarpet\": [{\"colorbar\": {\"outlinewidth\": 0, \"ticks\": \"\"}, \"type\": \"contourcarpet\"}], \"heatmap\": [{\"colorbar\": {\"outlinewidth\": 0, \"ticks\": \"\"}, \"colorscale\": [[0.0, \"#0d0887\"], [0.1111111111111111, \"#46039f\"], [0.2222222222222222, \"#7201a8\"], [0.3333333333333333, \"#9c179e\"], [0.4444444444444444, \"#bd3786\"], [0.5555555555555556, \"#d8576b\"], [0.6666666666666666, \"#ed7953\"], [0.7777777777777778, \"#fb9f3a\"], [0.8888888888888888, \"#fdca26\"], [1.0, \"#f0f921\"]], \"type\": \"heatmap\"}], \"heatmapgl\": [{\"colorbar\": {\"outlinewidth\": 0, \"ticks\": \"\"}, \"colorscale\": [[0.0, \"#0d0887\"], [0.1111111111111111, \"#46039f\"], [0.2222222222222222, \"#7201a8\"], [0.3333333333333333, \"#9c179e\"], [0.4444444444444444, \"#bd3786\"], [0.5555555555555556, \"#d8576b\"], [0.6666666666666666, \"#ed7953\"], [0.7777777777777778, \"#fb9f3a\"], [0.8888888888888888, \"#fdca26\"], [1.0, \"#f0f921\"]], \"type\": \"heatmapgl\"}], \"histogram\": [{\"marker\": {\"colorbar\": {\"outlinewidth\": 0, \"ticks\": \"\"}}, \"type\": \"histogram\"}], \"histogram2d\": [{\"colorbar\": {\"outlinewidth\": 0, \"ticks\": \"\"}, \"colorscale\": [[0.0, \"#0d0887\"], [0.1111111111111111, \"#46039f\"], [0.2222222222222222, \"#7201a8\"], [0.3333333333333333, \"#9c179e\"], [0.4444444444444444, \"#bd3786\"], [0.5555555555555556, \"#d8576b\"], [0.6666666666666666, \"#ed7953\"], [0.7777777777777778, \"#fb9f3a\"], [0.8888888888888888, \"#fdca26\"], [1.0, \"#f0f921\"]], \"type\": \"histogram2d\"}], \"histogram2dcontour\": [{\"colorbar\": {\"outlinewidth\": 0, \"ticks\": \"\"}, \"colorscale\": [[0.0, \"#0d0887\"], [0.1111111111111111, \"#46039f\"], [0.2222222222222222, \"#7201a8\"], [0.3333333333333333, \"#9c179e\"], [0.4444444444444444, \"#bd3786\"], [0.5555555555555556, \"#d8576b\"], [0.6666666666666666, \"#ed7953\"], [0.7777777777777778, \"#fb9f3a\"], [0.8888888888888888, \"#fdca26\"], [1.0, \"#f0f921\"]], \"type\": \"histogram2dcontour\"}], \"mesh3d\": [{\"colorbar\": {\"outlinewidth\": 0, \"ticks\": \"\"}, \"type\": \"mesh3d\"}], \"parcoords\": [{\"line\": {\"colorbar\": {\"outlinewidth\": 0, \"ticks\": \"\"}}, \"type\": \"parcoords\"}], \"pie\": [{\"automargin\": true, \"type\": \"pie\"}], \"scatter\": [{\"marker\": {\"colorbar\": {\"outlinewidth\": 0, \"ticks\": \"\"}}, \"type\": \"scatter\"}], \"scatter3d\": [{\"line\": {\"colorbar\": {\"outlinewidth\": 0, \"ticks\": \"\"}}, \"marker\": {\"colorbar\": {\"outlinewidth\": 0, \"ticks\": \"\"}}, \"type\": \"scatter3d\"}], \"scattercarpet\": [{\"marker\": {\"colorbar\": {\"outlinewidth\": 0, \"ticks\": \"\"}}, \"type\": \"scattercarpet\"}], \"scattergeo\": [{\"marker\": {\"colorbar\": {\"outlinewidth\": 0, \"ticks\": \"\"}}, \"type\": \"scattergeo\"}], \"scattergl\": [{\"marker\": {\"colorbar\": {\"outlinewidth\": 0, \"ticks\": \"\"}}, \"type\": \"scattergl\"}], \"scattermapbox\": [{\"marker\": {\"colorbar\": {\"outlinewidth\": 0, \"ticks\": \"\"}}, \"type\": \"scattermapbox\"}], \"scatterpolar\": [{\"marker\": {\"colorbar\": {\"outlinewidth\": 0, \"ticks\": \"\"}}, \"type\": \"scatterpolar\"}], \"scatterpolargl\": [{\"marker\": {\"colorbar\": {\"outlinewidth\": 0, \"ticks\": \"\"}}, \"type\": \"scatterpolargl\"}], \"scatterternary\": [{\"marker\": {\"colorbar\": {\"outlinewidth\": 0, \"ticks\": \"\"}}, \"type\": \"scatterternary\"}], \"surface\": [{\"colorbar\": {\"outlinewidth\": 0, \"ticks\": \"\"}, \"colorscale\": [[0.0, \"#0d0887\"], [0.1111111111111111, \"#46039f\"], [0.2222222222222222, \"#7201a8\"], [0.3333333333333333, \"#9c179e\"], [0.4444444444444444, \"#bd3786\"], [0.5555555555555556, \"#d8576b\"], [0.6666666666666666, \"#ed7953\"], [0.7777777777777778, \"#fb9f3a\"], [0.8888888888888888, \"#fdca26\"], [1.0, \"#f0f921\"]], \"type\": \"surface\"}], \"table\": [{\"cells\": {\"fill\": {\"color\": \"#EBF0F8\"}, \"line\": {\"color\": \"white\"}}, \"header\": {\"fill\": {\"color\": \"#C8D4E3\"}, \"line\": {\"color\": \"white\"}}, \"type\": \"table\"}]}, \"layout\": {\"annotationdefaults\": {\"arrowcolor\": \"#2a3f5f\", \"arrowhead\": 0, \"arrowwidth\": 1}, \"coloraxis\": {\"colorbar\": {\"outlinewidth\": 0, \"ticks\": \"\"}}, \"colorscale\": {\"diverging\": [[0, \"#8e0152\"], [0.1, \"#c51b7d\"], [0.2, \"#de77ae\"], [0.3, \"#f1b6da\"], [0.4, \"#fde0ef\"], [0.5, \"#f7f7f7\"], [0.6, \"#e6f5d0\"], [0.7, \"#b8e186\"], [0.8, \"#7fbc41\"], [0.9, \"#4d9221\"], [1, \"#276419\"]], \"sequential\": [[0.0, \"#0d0887\"], [0.1111111111111111, \"#46039f\"], [0.2222222222222222, \"#7201a8\"], [0.3333333333333333, \"#9c179e\"], [0.4444444444444444, \"#bd3786\"], [0.5555555555555556, \"#d8576b\"], [0.6666666666666666, \"#ed7953\"], [0.7777777777777778, \"#fb9f3a\"], [0.8888888888888888, \"#fdca26\"], [1.0, \"#f0f921\"]], \"sequentialminus\": [[0.0, \"#0d0887\"], [0.1111111111111111, \"#46039f\"], [0.2222222222222222, \"#7201a8\"], [0.3333333333333333, \"#9c179e\"], [0.4444444444444444, \"#bd3786\"], [0.5555555555555556, \"#d8576b\"], [0.6666666666666666, \"#ed7953\"], [0.7777777777777778, \"#fb9f3a\"], [0.8888888888888888, \"#fdca26\"], [1.0, \"#f0f921\"]]}, \"colorway\": [\"#636efa\", \"#EF553B\", \"#00cc96\", \"#ab63fa\", \"#FFA15A\", \"#19d3f3\", \"#FF6692\", \"#B6E880\", \"#FF97FF\", \"#FECB52\"], \"font\": {\"color\": \"#2a3f5f\"}, \"geo\": {\"bgcolor\": \"white\", \"lakecolor\": \"white\", \"landcolor\": \"#E5ECF6\", \"showlakes\": true, \"showland\": true, \"subunitcolor\": \"white\"}, \"hoverlabel\": {\"align\": \"left\"}, \"hovermode\": \"closest\", \"mapbox\": {\"style\": \"light\"}, \"paper_bgcolor\": \"white\", \"plot_bgcolor\": \"#E5ECF6\", \"polar\": {\"angularaxis\": {\"gridcolor\": \"white\", \"linecolor\": \"white\", \"ticks\": \"\"}, \"bgcolor\": \"#E5ECF6\", \"radialaxis\": {\"gridcolor\": \"white\", \"linecolor\": \"white\", \"ticks\": \"\"}}, \"scene\": {\"xaxis\": {\"backgroundcolor\": \"#E5ECF6\", \"gridcolor\": \"white\", \"gridwidth\": 2, \"linecolor\": \"white\", \"showbackground\": true, \"ticks\": \"\", \"zerolinecolor\": \"white\"}, \"yaxis\": {\"backgroundcolor\": \"#E5ECF6\", \"gridcolor\": \"white\", \"gridwidth\": 2, \"linecolor\": \"white\", \"showbackground\": true, \"ticks\": \"\", \"zerolinecolor\": \"white\"}, \"zaxis\": {\"backgroundcolor\": \"#E5ECF6\", \"gridcolor\": \"white\", \"gridwidth\": 2, \"linecolor\": \"white\", \"showbackground\": true, \"ticks\": \"\", \"zerolinecolor\": \"white\"}}, \"shapedefaults\": {\"line\": {\"color\": \"#2a3f5f\"}}, \"ternary\": {\"aaxis\": {\"gridcolor\": \"white\", \"linecolor\": \"white\", \"ticks\": \"\"}, \"baxis\": {\"gridcolor\": \"white\", \"linecolor\": \"white\", \"ticks\": \"\"}, \"bgcolor\": \"#E5ECF6\", \"caxis\": {\"gridcolor\": \"white\", \"linecolor\": \"white\", \"ticks\": \"\"}}, \"title\": {\"x\": 0.05}, \"xaxis\": {\"automargin\": true, \"gridcolor\": \"white\", \"linecolor\": \"white\", \"ticks\": \"\", \"title\": {\"standoff\": 15}, \"zerolinecolor\": \"white\", \"zerolinewidth\": 2}, \"yaxis\": {\"automargin\": true, \"gridcolor\": \"white\", \"linecolor\": \"white\", \"ticks\": \"\", \"title\": {\"standoff\": 15}, \"zerolinecolor\": \"white\", \"zerolinewidth\": 2}}}, \"title\": {\"text\": \"High rating app\"}, \"xaxis\": {\"title\": {\"text\": \"Category\"}}, \"yaxis\": {\"title\": {\"text\": \"Number of High Reviews app\"}}},                        {\"responsive\": true}                    ).then(function(){\n",
       "                            \n",
       "var gd = document.getElementById('849268bc-04c8-417e-b9e9-e84457d70056');\n",
       "var x = new MutationObserver(function (mutations, observer) {{\n",
       "        var display = window.getComputedStyle(gd).display;\n",
       "        if (!display || display === 'none') {{\n",
       "            console.log([gd, 'removed!']);\n",
       "            Plotly.purge(gd);\n",
       "            observer.disconnect();\n",
       "        }}\n",
       "}});\n",
       "\n",
       "// Listen for the removal of the full notebook cells\n",
       "var notebookContainer = gd.closest('#notebook-container');\n",
       "if (notebookContainer) {{\n",
       "    x.observe(notebookContainer, {childList: true});\n",
       "}}\n",
       "\n",
       "// Listen for the clearing of the current output cell\n",
       "var outputEl = gd.closest('.output');\n",
       "if (outputEl) {{\n",
       "    x.observe(outputEl, {childList: true});\n",
       "}}\n",
       "\n",
       "                        })                };                });            </script>        </div>"
      ]
     },
     "metadata": {},
     "output_type": "display_data"
    }
   ],
   "source": [
    "app_free = play_store[play_store['rating_group'] == 'High']['category'].value_counts()\n",
    "data = [go.Bar(\n",
    "        x=app_free.index,\n",
    "        y=app_free.values\n",
    ")]\n",
    "\n",
    "layout = go.Layout(\n",
    "    title=\"High rating app\",\n",
    "    xaxis_title=\"Category\",\n",
    "    yaxis_title=\"Number of High Reviews app\",\n",
    "    font=dict(\n",
    "        family=\"Courier New, monospace\",\n",
    "        size=14,\n",
    "        color=\"RebeccaPurple\"\n",
    "    )\n",
    ") \n",
    "\n",
    "fig = go.Figure(data=data, layout=layout)\n",
    "\n",
    "plotly.offline.iplot(fig, filename='app_category')"
   ]
  },
  {
   "cell_type": "markdown",
   "metadata": {},
   "source": [
    "Quan sát thấy các ứng dụng thuộc thể loại **Music & Audio, Sports và Shopping** có xếp hạng cao\n",
    "\n",
    "Các nhà phát triển có thể cân nhắc lĩnh vực này trong qúa trình nên ý tưởng và phát triển ứng dụng Android"
   ]
  },
  {
   "cell_type": "code",
   "execution_count": 39,
   "metadata": {},
   "outputs": [
    {
     "data": {
      "text/html": [
       "<div>\n",
       "<style scoped>\n",
       "    .dataframe tbody tr th:only-of-type {\n",
       "        vertical-align: middle;\n",
       "    }\n",
       "\n",
       "    .dataframe tbody tr th {\n",
       "        vertical-align: top;\n",
       "    }\n",
       "\n",
       "    .dataframe thead th {\n",
       "        text-align: right;\n",
       "    }\n",
       "</style>\n",
       "<table border=\"1\" class=\"dataframe\">\n",
       "  <thead>\n",
       "    <tr style=\"text-align: right;\">\n",
       "      <th></th>\n",
       "      <th>title</th>\n",
       "      <th>size</th>\n",
       "      <th>installs</th>\n",
       "      <th>reviews</th>\n",
       "      <th>price</th>\n",
       "      <th>category</th>\n",
       "      <th>contentRating</th>\n",
       "      <th>score</th>\n",
       "      <th>UpdatedAt</th>\n",
       "      <th>rating_group</th>\n",
       "      <th>Type</th>\n",
       "    </tr>\n",
       "  </thead>\n",
       "  <tbody>\n",
       "    <tr>\n",
       "      <th>3388</th>\n",
       "      <td>Loop Habit Tracker</td>\n",
       "      <td>3.4</td>\n",
       "      <td>1000000.0</td>\n",
       "      <td>37948.0</td>\n",
       "      <td>0.0</td>\n",
       "      <td>Productivity</td>\n",
       "      <td>Rated for 3+</td>\n",
       "      <td>4.6</td>\n",
       "      <td>1</td>\n",
       "      <td>High</td>\n",
       "      <td>Free</td>\n",
       "    </tr>\n",
       "    <tr>\n",
       "      <th>5941</th>\n",
       "      <td>Kopi Kenangan - Asli Indonesia - Grab &amp; Go Coffee</td>\n",
       "      <td>39.0</td>\n",
       "      <td>500000.0</td>\n",
       "      <td>22333.0</td>\n",
       "      <td>0.0</td>\n",
       "      <td>Food &amp; Drink</td>\n",
       "      <td>Rated for 3+</td>\n",
       "      <td>4.9</td>\n",
       "      <td>1</td>\n",
       "      <td>High</td>\n",
       "      <td>Free</td>\n",
       "    </tr>\n",
       "    <tr>\n",
       "      <th>7911</th>\n",
       "      <td>Rhino Robot Car transforming games – City battle</td>\n",
       "      <td>45.0</td>\n",
       "      <td>5000000.0</td>\n",
       "      <td>6568.0</td>\n",
       "      <td>0.0</td>\n",
       "      <td>Sports</td>\n",
       "      <td>Rated for 12+</td>\n",
       "      <td>4.8</td>\n",
       "      <td>4</td>\n",
       "      <td>High</td>\n",
       "      <td>Free</td>\n",
       "    </tr>\n",
       "    <tr>\n",
       "      <th>9641</th>\n",
       "      <td>MyKirana – Online Grocery Shopping App</td>\n",
       "      <td>11.0</td>\n",
       "      <td>1000000.0</td>\n",
       "      <td>13454.0</td>\n",
       "      <td>0.0</td>\n",
       "      <td>Shopping</td>\n",
       "      <td>Rated for 3+</td>\n",
       "      <td>4.8</td>\n",
       "      <td>3</td>\n",
       "      <td>High</td>\n",
       "      <td>Free</td>\n",
       "    </tr>\n",
       "  </tbody>\n",
       "</table>\n",
       "</div>"
      ],
      "text/plain": [
       "                                                  title  size   installs  \\\n",
       "3388                                 Loop Habit Tracker   3.4  1000000.0   \n",
       "5941  Kopi Kenangan - Asli Indonesia - Grab & Go Coffee  39.0   500000.0   \n",
       "7911   Rhino Robot Car transforming games – City battle  45.0  5000000.0   \n",
       "9641             MyKirana – Online Grocery Shopping App  11.0  1000000.0   \n",
       "\n",
       "      reviews  price      category  contentRating  score  UpdatedAt  \\\n",
       "3388  37948.0    0.0  Productivity   Rated for 3+    4.6          1   \n",
       "5941  22333.0    0.0  Food & Drink   Rated for 3+    4.9          1   \n",
       "7911   6568.0    0.0        Sports  Rated for 12+    4.8          4   \n",
       "9641  13454.0    0.0      Shopping   Rated for 3+    4.8          3   \n",
       "\n",
       "     rating_group  Type  \n",
       "3388         High  Free  \n",
       "5941         High  Free  \n",
       "7911         High  Free  \n",
       "9641         High  Free  "
      ]
     },
     "execution_count": 39,
     "metadata": {},
     "output_type": "execute_result"
    }
   ],
   "source": [
    "high_rating_app = play_store[play_store['rating_group'] == 'High']\n",
    "high_rating_app.sample(4)"
   ]
  },
  {
   "cell_type": "code",
   "execution_count": 40,
   "metadata": {},
   "outputs": [
    {
     "data": {
      "text/plain": [
       "110                          Guitar and Violin Tuner\n",
       "132                                 Top Music Player\n",
       "1536                      myTuner Radio and Podcasts\n",
       "2659    Télécharger Musique Gratuite Sound 🔥 Defnowy\n",
       "2663                  WOW Radio - Korea Radio (KPOP)\n",
       "Name: title, dtype: object"
      ]
     },
     "execution_count": 40,
     "metadata": {},
     "output_type": "execute_result"
    }
   ],
   "source": [
    "high_rating_app[high_rating_app.category == 'Music & Audio']['title'][:5]"
   ]
  },
  {
   "cell_type": "markdown",
   "metadata": {},
   "source": [
    "Chúng ta có thể thấy các ứng dụng tập trung chủ yếu là các ứng dụng chơi và phát nhạc. Các ứng dụng như Top Music Player, myTuner Radio and Podcasts, ... "
   ]
  },
  {
   "cell_type": "code",
   "execution_count": 41,
   "metadata": {},
   "outputs": [
    {
     "data": {
      "application/vnd.plotly.v1+json": {
       "config": {
        "linkText": "Export to plot.ly",
        "plotlyServerURL": "https://plot.ly",
        "showLink": false
       },
       "data": [
        {
         "labels": [
          "Rated for 3+",
          "Rated for 12+",
          "Rated for 7+",
          "Rated for 18+",
          "Rated for 16+"
         ],
         "textinfo": "label+percent",
         "type": "pie",
         "values": [
          2102,
          376,
          63,
          35,
          29
         ]
        }
       ],
       "layout": {
        "font": {
         "color": "RebeccaPurple",
         "family": "Courier New, monospace",
         "size": 14
        },
        "template": {
         "data": {
          "bar": [
           {
            "error_x": {
             "color": "#2a3f5f"
            },
            "error_y": {
             "color": "#2a3f5f"
            },
            "marker": {
             "line": {
              "color": "#E5ECF6",
              "width": 0.5
             }
            },
            "type": "bar"
           }
          ],
          "barpolar": [
           {
            "marker": {
             "line": {
              "color": "#E5ECF6",
              "width": 0.5
             }
            },
            "type": "barpolar"
           }
          ],
          "carpet": [
           {
            "aaxis": {
             "endlinecolor": "#2a3f5f",
             "gridcolor": "white",
             "linecolor": "white",
             "minorgridcolor": "white",
             "startlinecolor": "#2a3f5f"
            },
            "baxis": {
             "endlinecolor": "#2a3f5f",
             "gridcolor": "white",
             "linecolor": "white",
             "minorgridcolor": "white",
             "startlinecolor": "#2a3f5f"
            },
            "type": "carpet"
           }
          ],
          "choropleth": [
           {
            "colorbar": {
             "outlinewidth": 0,
             "ticks": ""
            },
            "type": "choropleth"
           }
          ],
          "contour": [
           {
            "colorbar": {
             "outlinewidth": 0,
             "ticks": ""
            },
            "colorscale": [
             [
              0,
              "#0d0887"
             ],
             [
              0.1111111111111111,
              "#46039f"
             ],
             [
              0.2222222222222222,
              "#7201a8"
             ],
             [
              0.3333333333333333,
              "#9c179e"
             ],
             [
              0.4444444444444444,
              "#bd3786"
             ],
             [
              0.5555555555555556,
              "#d8576b"
             ],
             [
              0.6666666666666666,
              "#ed7953"
             ],
             [
              0.7777777777777778,
              "#fb9f3a"
             ],
             [
              0.8888888888888888,
              "#fdca26"
             ],
             [
              1,
              "#f0f921"
             ]
            ],
            "type": "contour"
           }
          ],
          "contourcarpet": [
           {
            "colorbar": {
             "outlinewidth": 0,
             "ticks": ""
            },
            "type": "contourcarpet"
           }
          ],
          "heatmap": [
           {
            "colorbar": {
             "outlinewidth": 0,
             "ticks": ""
            },
            "colorscale": [
             [
              0,
              "#0d0887"
             ],
             [
              0.1111111111111111,
              "#46039f"
             ],
             [
              0.2222222222222222,
              "#7201a8"
             ],
             [
              0.3333333333333333,
              "#9c179e"
             ],
             [
              0.4444444444444444,
              "#bd3786"
             ],
             [
              0.5555555555555556,
              "#d8576b"
             ],
             [
              0.6666666666666666,
              "#ed7953"
             ],
             [
              0.7777777777777778,
              "#fb9f3a"
             ],
             [
              0.8888888888888888,
              "#fdca26"
             ],
             [
              1,
              "#f0f921"
             ]
            ],
            "type": "heatmap"
           }
          ],
          "heatmapgl": [
           {
            "colorbar": {
             "outlinewidth": 0,
             "ticks": ""
            },
            "colorscale": [
             [
              0,
              "#0d0887"
             ],
             [
              0.1111111111111111,
              "#46039f"
             ],
             [
              0.2222222222222222,
              "#7201a8"
             ],
             [
              0.3333333333333333,
              "#9c179e"
             ],
             [
              0.4444444444444444,
              "#bd3786"
             ],
             [
              0.5555555555555556,
              "#d8576b"
             ],
             [
              0.6666666666666666,
              "#ed7953"
             ],
             [
              0.7777777777777778,
              "#fb9f3a"
             ],
             [
              0.8888888888888888,
              "#fdca26"
             ],
             [
              1,
              "#f0f921"
             ]
            ],
            "type": "heatmapgl"
           }
          ],
          "histogram": [
           {
            "marker": {
             "colorbar": {
              "outlinewidth": 0,
              "ticks": ""
             }
            },
            "type": "histogram"
           }
          ],
          "histogram2d": [
           {
            "colorbar": {
             "outlinewidth": 0,
             "ticks": ""
            },
            "colorscale": [
             [
              0,
              "#0d0887"
             ],
             [
              0.1111111111111111,
              "#46039f"
             ],
             [
              0.2222222222222222,
              "#7201a8"
             ],
             [
              0.3333333333333333,
              "#9c179e"
             ],
             [
              0.4444444444444444,
              "#bd3786"
             ],
             [
              0.5555555555555556,
              "#d8576b"
             ],
             [
              0.6666666666666666,
              "#ed7953"
             ],
             [
              0.7777777777777778,
              "#fb9f3a"
             ],
             [
              0.8888888888888888,
              "#fdca26"
             ],
             [
              1,
              "#f0f921"
             ]
            ],
            "type": "histogram2d"
           }
          ],
          "histogram2dcontour": [
           {
            "colorbar": {
             "outlinewidth": 0,
             "ticks": ""
            },
            "colorscale": [
             [
              0,
              "#0d0887"
             ],
             [
              0.1111111111111111,
              "#46039f"
             ],
             [
              0.2222222222222222,
              "#7201a8"
             ],
             [
              0.3333333333333333,
              "#9c179e"
             ],
             [
              0.4444444444444444,
              "#bd3786"
             ],
             [
              0.5555555555555556,
              "#d8576b"
             ],
             [
              0.6666666666666666,
              "#ed7953"
             ],
             [
              0.7777777777777778,
              "#fb9f3a"
             ],
             [
              0.8888888888888888,
              "#fdca26"
             ],
             [
              1,
              "#f0f921"
             ]
            ],
            "type": "histogram2dcontour"
           }
          ],
          "mesh3d": [
           {
            "colorbar": {
             "outlinewidth": 0,
             "ticks": ""
            },
            "type": "mesh3d"
           }
          ],
          "parcoords": [
           {
            "line": {
             "colorbar": {
              "outlinewidth": 0,
              "ticks": ""
             }
            },
            "type": "parcoords"
           }
          ],
          "pie": [
           {
            "automargin": true,
            "type": "pie"
           }
          ],
          "scatter": [
           {
            "marker": {
             "colorbar": {
              "outlinewidth": 0,
              "ticks": ""
             }
            },
            "type": "scatter"
           }
          ],
          "scatter3d": [
           {
            "line": {
             "colorbar": {
              "outlinewidth": 0,
              "ticks": ""
             }
            },
            "marker": {
             "colorbar": {
              "outlinewidth": 0,
              "ticks": ""
             }
            },
            "type": "scatter3d"
           }
          ],
          "scattercarpet": [
           {
            "marker": {
             "colorbar": {
              "outlinewidth": 0,
              "ticks": ""
             }
            },
            "type": "scattercarpet"
           }
          ],
          "scattergeo": [
           {
            "marker": {
             "colorbar": {
              "outlinewidth": 0,
              "ticks": ""
             }
            },
            "type": "scattergeo"
           }
          ],
          "scattergl": [
           {
            "marker": {
             "colorbar": {
              "outlinewidth": 0,
              "ticks": ""
             }
            },
            "type": "scattergl"
           }
          ],
          "scattermapbox": [
           {
            "marker": {
             "colorbar": {
              "outlinewidth": 0,
              "ticks": ""
             }
            },
            "type": "scattermapbox"
           }
          ],
          "scatterpolar": [
           {
            "marker": {
             "colorbar": {
              "outlinewidth": 0,
              "ticks": ""
             }
            },
            "type": "scatterpolar"
           }
          ],
          "scatterpolargl": [
           {
            "marker": {
             "colorbar": {
              "outlinewidth": 0,
              "ticks": ""
             }
            },
            "type": "scatterpolargl"
           }
          ],
          "scatterternary": [
           {
            "marker": {
             "colorbar": {
              "outlinewidth": 0,
              "ticks": ""
             }
            },
            "type": "scatterternary"
           }
          ],
          "surface": [
           {
            "colorbar": {
             "outlinewidth": 0,
             "ticks": ""
            },
            "colorscale": [
             [
              0,
              "#0d0887"
             ],
             [
              0.1111111111111111,
              "#46039f"
             ],
             [
              0.2222222222222222,
              "#7201a8"
             ],
             [
              0.3333333333333333,
              "#9c179e"
             ],
             [
              0.4444444444444444,
              "#bd3786"
             ],
             [
              0.5555555555555556,
              "#d8576b"
             ],
             [
              0.6666666666666666,
              "#ed7953"
             ],
             [
              0.7777777777777778,
              "#fb9f3a"
             ],
             [
              0.8888888888888888,
              "#fdca26"
             ],
             [
              1,
              "#f0f921"
             ]
            ],
            "type": "surface"
           }
          ],
          "table": [
           {
            "cells": {
             "fill": {
              "color": "#EBF0F8"
             },
             "line": {
              "color": "white"
             }
            },
            "header": {
             "fill": {
              "color": "#C8D4E3"
             },
             "line": {
              "color": "white"
             }
            },
            "type": "table"
           }
          ]
         },
         "layout": {
          "annotationdefaults": {
           "arrowcolor": "#2a3f5f",
           "arrowhead": 0,
           "arrowwidth": 1
          },
          "coloraxis": {
           "colorbar": {
            "outlinewidth": 0,
            "ticks": ""
           }
          },
          "colorscale": {
           "diverging": [
            [
             0,
             "#8e0152"
            ],
            [
             0.1,
             "#c51b7d"
            ],
            [
             0.2,
             "#de77ae"
            ],
            [
             0.3,
             "#f1b6da"
            ],
            [
             0.4,
             "#fde0ef"
            ],
            [
             0.5,
             "#f7f7f7"
            ],
            [
             0.6,
             "#e6f5d0"
            ],
            [
             0.7,
             "#b8e186"
            ],
            [
             0.8,
             "#7fbc41"
            ],
            [
             0.9,
             "#4d9221"
            ],
            [
             1,
             "#276419"
            ]
           ],
           "sequential": [
            [
             0,
             "#0d0887"
            ],
            [
             0.1111111111111111,
             "#46039f"
            ],
            [
             0.2222222222222222,
             "#7201a8"
            ],
            [
             0.3333333333333333,
             "#9c179e"
            ],
            [
             0.4444444444444444,
             "#bd3786"
            ],
            [
             0.5555555555555556,
             "#d8576b"
            ],
            [
             0.6666666666666666,
             "#ed7953"
            ],
            [
             0.7777777777777778,
             "#fb9f3a"
            ],
            [
             0.8888888888888888,
             "#fdca26"
            ],
            [
             1,
             "#f0f921"
            ]
           ],
           "sequentialminus": [
            [
             0,
             "#0d0887"
            ],
            [
             0.1111111111111111,
             "#46039f"
            ],
            [
             0.2222222222222222,
             "#7201a8"
            ],
            [
             0.3333333333333333,
             "#9c179e"
            ],
            [
             0.4444444444444444,
             "#bd3786"
            ],
            [
             0.5555555555555556,
             "#d8576b"
            ],
            [
             0.6666666666666666,
             "#ed7953"
            ],
            [
             0.7777777777777778,
             "#fb9f3a"
            ],
            [
             0.8888888888888888,
             "#fdca26"
            ],
            [
             1,
             "#f0f921"
            ]
           ]
          },
          "colorway": [
           "#636efa",
           "#EF553B",
           "#00cc96",
           "#ab63fa",
           "#FFA15A",
           "#19d3f3",
           "#FF6692",
           "#B6E880",
           "#FF97FF",
           "#FECB52"
          ],
          "font": {
           "color": "#2a3f5f"
          },
          "geo": {
           "bgcolor": "white",
           "lakecolor": "white",
           "landcolor": "#E5ECF6",
           "showlakes": true,
           "showland": true,
           "subunitcolor": "white"
          },
          "hoverlabel": {
           "align": "left"
          },
          "hovermode": "closest",
          "mapbox": {
           "style": "light"
          },
          "paper_bgcolor": "white",
          "plot_bgcolor": "#E5ECF6",
          "polar": {
           "angularaxis": {
            "gridcolor": "white",
            "linecolor": "white",
            "ticks": ""
           },
           "bgcolor": "#E5ECF6",
           "radialaxis": {
            "gridcolor": "white",
            "linecolor": "white",
            "ticks": ""
           }
          },
          "scene": {
           "xaxis": {
            "backgroundcolor": "#E5ECF6",
            "gridcolor": "white",
            "gridwidth": 2,
            "linecolor": "white",
            "showbackground": true,
            "ticks": "",
            "zerolinecolor": "white"
           },
           "yaxis": {
            "backgroundcolor": "#E5ECF6",
            "gridcolor": "white",
            "gridwidth": 2,
            "linecolor": "white",
            "showbackground": true,
            "ticks": "",
            "zerolinecolor": "white"
           },
           "zaxis": {
            "backgroundcolor": "#E5ECF6",
            "gridcolor": "white",
            "gridwidth": 2,
            "linecolor": "white",
            "showbackground": true,
            "ticks": "",
            "zerolinecolor": "white"
           }
          },
          "shapedefaults": {
           "line": {
            "color": "#2a3f5f"
           }
          },
          "ternary": {
           "aaxis": {
            "gridcolor": "white",
            "linecolor": "white",
            "ticks": ""
           },
           "baxis": {
            "gridcolor": "white",
            "linecolor": "white",
            "ticks": ""
           },
           "bgcolor": "#E5ECF6",
           "caxis": {
            "gridcolor": "white",
            "linecolor": "white",
            "ticks": ""
           }
          },
          "title": {
           "x": 0.05
          },
          "xaxis": {
           "automargin": true,
           "gridcolor": "white",
           "linecolor": "white",
           "ticks": "",
           "title": {
            "standoff": 15
           },
           "zerolinecolor": "white",
           "zerolinewidth": 2
          },
          "yaxis": {
           "automargin": true,
           "gridcolor": "white",
           "linecolor": "white",
           "ticks": "",
           "title": {
            "standoff": 15
           },
           "zerolinecolor": "white",
           "zerolinewidth": 2
          }
         }
        },
        "title": {
         "text": "High rating app"
        }
       }
      },
      "text/html": [
       "<div>                            <div id=\"8a446fa6-a0e3-40a1-a5cf-099afcd6a287\" class=\"plotly-graph-div\" style=\"height:525px; width:100%;\"></div>            <script type=\"text/javascript\">                require([\"plotly\"], function(Plotly) {                    window.PLOTLYENV=window.PLOTLYENV || {};                                    if (document.getElementById(\"8a446fa6-a0e3-40a1-a5cf-099afcd6a287\")) {                    Plotly.newPlot(                        \"8a446fa6-a0e3-40a1-a5cf-099afcd6a287\",                        [{\"labels\": [\"Rated for 3+\", \"Rated for 12+\", \"Rated for 7+\", \"Rated for 18+\", \"Rated for 16+\"], \"textinfo\": \"label+percent\", \"type\": \"pie\", \"values\": [2102, 376, 63, 35, 29]}],                        {\"font\": {\"color\": \"RebeccaPurple\", \"family\": \"Courier New, monospace\", \"size\": 14}, \"template\": {\"data\": {\"bar\": [{\"error_x\": {\"color\": \"#2a3f5f\"}, \"error_y\": {\"color\": \"#2a3f5f\"}, \"marker\": {\"line\": {\"color\": \"#E5ECF6\", \"width\": 0.5}}, \"type\": \"bar\"}], \"barpolar\": [{\"marker\": {\"line\": {\"color\": \"#E5ECF6\", \"width\": 0.5}}, \"type\": \"barpolar\"}], \"carpet\": [{\"aaxis\": {\"endlinecolor\": \"#2a3f5f\", \"gridcolor\": \"white\", \"linecolor\": \"white\", \"minorgridcolor\": \"white\", \"startlinecolor\": \"#2a3f5f\"}, \"baxis\": {\"endlinecolor\": \"#2a3f5f\", \"gridcolor\": \"white\", \"linecolor\": \"white\", \"minorgridcolor\": \"white\", \"startlinecolor\": \"#2a3f5f\"}, \"type\": \"carpet\"}], \"choropleth\": [{\"colorbar\": {\"outlinewidth\": 0, \"ticks\": \"\"}, \"type\": \"choropleth\"}], \"contour\": [{\"colorbar\": {\"outlinewidth\": 0, \"ticks\": \"\"}, \"colorscale\": [[0.0, \"#0d0887\"], [0.1111111111111111, \"#46039f\"], [0.2222222222222222, \"#7201a8\"], [0.3333333333333333, \"#9c179e\"], [0.4444444444444444, \"#bd3786\"], [0.5555555555555556, \"#d8576b\"], [0.6666666666666666, \"#ed7953\"], [0.7777777777777778, \"#fb9f3a\"], [0.8888888888888888, \"#fdca26\"], [1.0, \"#f0f921\"]], \"type\": \"contour\"}], \"contourcarpet\": [{\"colorbar\": {\"outlinewidth\": 0, \"ticks\": \"\"}, \"type\": \"contourcarpet\"}], \"heatmap\": [{\"colorbar\": {\"outlinewidth\": 0, \"ticks\": \"\"}, \"colorscale\": [[0.0, \"#0d0887\"], [0.1111111111111111, \"#46039f\"], [0.2222222222222222, \"#7201a8\"], [0.3333333333333333, \"#9c179e\"], [0.4444444444444444, \"#bd3786\"], [0.5555555555555556, \"#d8576b\"], [0.6666666666666666, \"#ed7953\"], [0.7777777777777778, \"#fb9f3a\"], [0.8888888888888888, \"#fdca26\"], [1.0, \"#f0f921\"]], \"type\": \"heatmap\"}], \"heatmapgl\": [{\"colorbar\": {\"outlinewidth\": 0, \"ticks\": \"\"}, \"colorscale\": [[0.0, \"#0d0887\"], [0.1111111111111111, \"#46039f\"], [0.2222222222222222, \"#7201a8\"], [0.3333333333333333, \"#9c179e\"], [0.4444444444444444, \"#bd3786\"], [0.5555555555555556, \"#d8576b\"], [0.6666666666666666, \"#ed7953\"], [0.7777777777777778, \"#fb9f3a\"], [0.8888888888888888, \"#fdca26\"], [1.0, \"#f0f921\"]], \"type\": \"heatmapgl\"}], \"histogram\": [{\"marker\": {\"colorbar\": {\"outlinewidth\": 0, \"ticks\": \"\"}}, \"type\": \"histogram\"}], \"histogram2d\": [{\"colorbar\": {\"outlinewidth\": 0, \"ticks\": \"\"}, \"colorscale\": [[0.0, \"#0d0887\"], [0.1111111111111111, \"#46039f\"], [0.2222222222222222, \"#7201a8\"], [0.3333333333333333, \"#9c179e\"], [0.4444444444444444, \"#bd3786\"], [0.5555555555555556, \"#d8576b\"], [0.6666666666666666, \"#ed7953\"], [0.7777777777777778, \"#fb9f3a\"], [0.8888888888888888, \"#fdca26\"], [1.0, \"#f0f921\"]], \"type\": \"histogram2d\"}], \"histogram2dcontour\": [{\"colorbar\": {\"outlinewidth\": 0, \"ticks\": \"\"}, \"colorscale\": [[0.0, \"#0d0887\"], [0.1111111111111111, \"#46039f\"], [0.2222222222222222, \"#7201a8\"], [0.3333333333333333, \"#9c179e\"], [0.4444444444444444, \"#bd3786\"], [0.5555555555555556, \"#d8576b\"], [0.6666666666666666, \"#ed7953\"], [0.7777777777777778, \"#fb9f3a\"], [0.8888888888888888, \"#fdca26\"], [1.0, \"#f0f921\"]], \"type\": \"histogram2dcontour\"}], \"mesh3d\": [{\"colorbar\": {\"outlinewidth\": 0, \"ticks\": \"\"}, \"type\": \"mesh3d\"}], \"parcoords\": [{\"line\": {\"colorbar\": {\"outlinewidth\": 0, \"ticks\": \"\"}}, \"type\": \"parcoords\"}], \"pie\": [{\"automargin\": true, \"type\": \"pie\"}], \"scatter\": [{\"marker\": {\"colorbar\": {\"outlinewidth\": 0, \"ticks\": \"\"}}, \"type\": \"scatter\"}], \"scatter3d\": [{\"line\": {\"colorbar\": {\"outlinewidth\": 0, \"ticks\": \"\"}}, \"marker\": {\"colorbar\": {\"outlinewidth\": 0, \"ticks\": \"\"}}, \"type\": \"scatter3d\"}], \"scattercarpet\": [{\"marker\": {\"colorbar\": {\"outlinewidth\": 0, \"ticks\": \"\"}}, \"type\": \"scattercarpet\"}], \"scattergeo\": [{\"marker\": {\"colorbar\": {\"outlinewidth\": 0, \"ticks\": \"\"}}, \"type\": \"scattergeo\"}], \"scattergl\": [{\"marker\": {\"colorbar\": {\"outlinewidth\": 0, \"ticks\": \"\"}}, \"type\": \"scattergl\"}], \"scattermapbox\": [{\"marker\": {\"colorbar\": {\"outlinewidth\": 0, \"ticks\": \"\"}}, \"type\": \"scattermapbox\"}], \"scatterpolar\": [{\"marker\": {\"colorbar\": {\"outlinewidth\": 0, \"ticks\": \"\"}}, \"type\": \"scatterpolar\"}], \"scatterpolargl\": [{\"marker\": {\"colorbar\": {\"outlinewidth\": 0, \"ticks\": \"\"}}, \"type\": \"scatterpolargl\"}], \"scatterternary\": [{\"marker\": {\"colorbar\": {\"outlinewidth\": 0, \"ticks\": \"\"}}, \"type\": \"scatterternary\"}], \"surface\": [{\"colorbar\": {\"outlinewidth\": 0, \"ticks\": \"\"}, \"colorscale\": [[0.0, \"#0d0887\"], [0.1111111111111111, \"#46039f\"], [0.2222222222222222, \"#7201a8\"], [0.3333333333333333, \"#9c179e\"], [0.4444444444444444, \"#bd3786\"], [0.5555555555555556, \"#d8576b\"], [0.6666666666666666, \"#ed7953\"], [0.7777777777777778, \"#fb9f3a\"], [0.8888888888888888, \"#fdca26\"], [1.0, \"#f0f921\"]], \"type\": \"surface\"}], \"table\": [{\"cells\": {\"fill\": {\"color\": \"#EBF0F8\"}, \"line\": {\"color\": \"white\"}}, \"header\": {\"fill\": {\"color\": \"#C8D4E3\"}, \"line\": {\"color\": \"white\"}}, \"type\": \"table\"}]}, \"layout\": {\"annotationdefaults\": {\"arrowcolor\": \"#2a3f5f\", \"arrowhead\": 0, \"arrowwidth\": 1}, \"coloraxis\": {\"colorbar\": {\"outlinewidth\": 0, \"ticks\": \"\"}}, \"colorscale\": {\"diverging\": [[0, \"#8e0152\"], [0.1, \"#c51b7d\"], [0.2, \"#de77ae\"], [0.3, \"#f1b6da\"], [0.4, \"#fde0ef\"], [0.5, \"#f7f7f7\"], [0.6, \"#e6f5d0\"], [0.7, \"#b8e186\"], [0.8, \"#7fbc41\"], [0.9, \"#4d9221\"], [1, \"#276419\"]], \"sequential\": [[0.0, \"#0d0887\"], [0.1111111111111111, \"#46039f\"], [0.2222222222222222, \"#7201a8\"], [0.3333333333333333, \"#9c179e\"], [0.4444444444444444, \"#bd3786\"], [0.5555555555555556, \"#d8576b\"], [0.6666666666666666, \"#ed7953\"], [0.7777777777777778, \"#fb9f3a\"], [0.8888888888888888, \"#fdca26\"], [1.0, \"#f0f921\"]], \"sequentialminus\": [[0.0, \"#0d0887\"], [0.1111111111111111, \"#46039f\"], [0.2222222222222222, \"#7201a8\"], [0.3333333333333333, \"#9c179e\"], [0.4444444444444444, \"#bd3786\"], [0.5555555555555556, \"#d8576b\"], [0.6666666666666666, \"#ed7953\"], [0.7777777777777778, \"#fb9f3a\"], [0.8888888888888888, \"#fdca26\"], [1.0, \"#f0f921\"]]}, \"colorway\": [\"#636efa\", \"#EF553B\", \"#00cc96\", \"#ab63fa\", \"#FFA15A\", \"#19d3f3\", \"#FF6692\", \"#B6E880\", \"#FF97FF\", \"#FECB52\"], \"font\": {\"color\": \"#2a3f5f\"}, \"geo\": {\"bgcolor\": \"white\", \"lakecolor\": \"white\", \"landcolor\": \"#E5ECF6\", \"showlakes\": true, \"showland\": true, \"subunitcolor\": \"white\"}, \"hoverlabel\": {\"align\": \"left\"}, \"hovermode\": \"closest\", \"mapbox\": {\"style\": \"light\"}, \"paper_bgcolor\": \"white\", \"plot_bgcolor\": \"#E5ECF6\", \"polar\": {\"angularaxis\": {\"gridcolor\": \"white\", \"linecolor\": \"white\", \"ticks\": \"\"}, \"bgcolor\": \"#E5ECF6\", \"radialaxis\": {\"gridcolor\": \"white\", \"linecolor\": \"white\", \"ticks\": \"\"}}, \"scene\": {\"xaxis\": {\"backgroundcolor\": \"#E5ECF6\", \"gridcolor\": \"white\", \"gridwidth\": 2, \"linecolor\": \"white\", \"showbackground\": true, \"ticks\": \"\", \"zerolinecolor\": \"white\"}, \"yaxis\": {\"backgroundcolor\": \"#E5ECF6\", \"gridcolor\": \"white\", \"gridwidth\": 2, \"linecolor\": \"white\", \"showbackground\": true, \"ticks\": \"\", \"zerolinecolor\": \"white\"}, \"zaxis\": {\"backgroundcolor\": \"#E5ECF6\", \"gridcolor\": \"white\", \"gridwidth\": 2, \"linecolor\": \"white\", \"showbackground\": true, \"ticks\": \"\", \"zerolinecolor\": \"white\"}}, \"shapedefaults\": {\"line\": {\"color\": \"#2a3f5f\"}}, \"ternary\": {\"aaxis\": {\"gridcolor\": \"white\", \"linecolor\": \"white\", \"ticks\": \"\"}, \"baxis\": {\"gridcolor\": \"white\", \"linecolor\": \"white\", \"ticks\": \"\"}, \"bgcolor\": \"#E5ECF6\", \"caxis\": {\"gridcolor\": \"white\", \"linecolor\": \"white\", \"ticks\": \"\"}}, \"title\": {\"x\": 0.05}, \"xaxis\": {\"automargin\": true, \"gridcolor\": \"white\", \"linecolor\": \"white\", \"ticks\": \"\", \"title\": {\"standoff\": 15}, \"zerolinecolor\": \"white\", \"zerolinewidth\": 2}, \"yaxis\": {\"automargin\": true, \"gridcolor\": \"white\", \"linecolor\": \"white\", \"ticks\": \"\", \"title\": {\"standoff\": 15}, \"zerolinecolor\": \"white\", \"zerolinewidth\": 2}}}, \"title\": {\"text\": \"High rating app\"}},                        {\"responsive\": true}                    ).then(function(){\n",
       "                            \n",
       "var gd = document.getElementById('8a446fa6-a0e3-40a1-a5cf-099afcd6a287');\n",
       "var x = new MutationObserver(function (mutations, observer) {{\n",
       "        var display = window.getComputedStyle(gd).display;\n",
       "        if (!display || display === 'none') {{\n",
       "            console.log([gd, 'removed!']);\n",
       "            Plotly.purge(gd);\n",
       "            observer.disconnect();\n",
       "        }}\n",
       "}});\n",
       "\n",
       "// Listen for the removal of the full notebook cells\n",
       "var notebookContainer = gd.closest('#notebook-container');\n",
       "if (notebookContainer) {{\n",
       "    x.observe(notebookContainer, {childList: true});\n",
       "}}\n",
       "\n",
       "// Listen for the clearing of the current output cell\n",
       "var outputEl = gd.closest('.output');\n",
       "if (outputEl) {{\n",
       "    x.observe(outputEl, {childList: true});\n",
       "}}\n",
       "\n",
       "                        })                };                });            </script>        </div>"
      ]
     },
     "metadata": {},
     "output_type": "display_data"
    }
   ],
   "source": [
    "app_free = high_rating_app['contentRating'].value_counts()\n",
    "data=[go.Pie(labels=app_free.index,\n",
    "    values=app_free.values,\n",
    "    textinfo = 'label + percent')]\n",
    "\n",
    "layout = go.Layout(\n",
    "    title=\"High rating app\",\n",
    "    font=dict(\n",
    "        family=\"Courier New, monospace\",\n",
    "        size=14,\n",
    "        color=\"RebeccaPurple\"\n",
    "    )\n",
    ") \n",
    "\n",
    "fig = go.Figure(data=data, layout=layout)\n",
    "\n",
    "plotly.offline.iplot(fig, filename='app_category')"
   ]
  },
  {
   "cell_type": "markdown",
   "metadata": {},
   "source": [
    "Hơn 80% các ứng dụng dàng cho mọi người và một phần ứng dụng còn lại giới hạn độ tuổi người sử dụng."
   ]
  },
  {
   "cell_type": "code",
   "execution_count": 42,
   "metadata": {},
   "outputs": [
    {
     "data": {
      "application/vnd.plotly.v1+json": {
       "config": {
        "linkText": "Export to plot.ly",
        "plotlyServerURL": "https://plot.ly",
        "showLink": false
       },
       "data": [
        {
         "type": "bar",
         "x": [
          "100+",
          "500+",
          "1000+",
          "5000+",
          "10000+",
          "50000+",
          "100000+",
          "500000+",
          "1000000+",
          "5000000+",
          "10000000+",
          "50000000+",
          "100000000+",
          "500000000+",
          "1000000000+"
         ],
         "y": [
          4,
          5,
          47,
          49,
          182,
          124,
          420,
          285,
          670,
          283,
          386,
          81,
          62,
          5,
          3
         ]
        }
       ],
       "layout": {
        "font": {
         "color": "RebeccaPurple",
         "family": "Courier New, monospace",
         "size": 14
        },
        "template": {
         "data": {
          "bar": [
           {
            "error_x": {
             "color": "#2a3f5f"
            },
            "error_y": {
             "color": "#2a3f5f"
            },
            "marker": {
             "line": {
              "color": "#E5ECF6",
              "width": 0.5
             }
            },
            "type": "bar"
           }
          ],
          "barpolar": [
           {
            "marker": {
             "line": {
              "color": "#E5ECF6",
              "width": 0.5
             }
            },
            "type": "barpolar"
           }
          ],
          "carpet": [
           {
            "aaxis": {
             "endlinecolor": "#2a3f5f",
             "gridcolor": "white",
             "linecolor": "white",
             "minorgridcolor": "white",
             "startlinecolor": "#2a3f5f"
            },
            "baxis": {
             "endlinecolor": "#2a3f5f",
             "gridcolor": "white",
             "linecolor": "white",
             "minorgridcolor": "white",
             "startlinecolor": "#2a3f5f"
            },
            "type": "carpet"
           }
          ],
          "choropleth": [
           {
            "colorbar": {
             "outlinewidth": 0,
             "ticks": ""
            },
            "type": "choropleth"
           }
          ],
          "contour": [
           {
            "colorbar": {
             "outlinewidth": 0,
             "ticks": ""
            },
            "colorscale": [
             [
              0,
              "#0d0887"
             ],
             [
              0.1111111111111111,
              "#46039f"
             ],
             [
              0.2222222222222222,
              "#7201a8"
             ],
             [
              0.3333333333333333,
              "#9c179e"
             ],
             [
              0.4444444444444444,
              "#bd3786"
             ],
             [
              0.5555555555555556,
              "#d8576b"
             ],
             [
              0.6666666666666666,
              "#ed7953"
             ],
             [
              0.7777777777777778,
              "#fb9f3a"
             ],
             [
              0.8888888888888888,
              "#fdca26"
             ],
             [
              1,
              "#f0f921"
             ]
            ],
            "type": "contour"
           }
          ],
          "contourcarpet": [
           {
            "colorbar": {
             "outlinewidth": 0,
             "ticks": ""
            },
            "type": "contourcarpet"
           }
          ],
          "heatmap": [
           {
            "colorbar": {
             "outlinewidth": 0,
             "ticks": ""
            },
            "colorscale": [
             [
              0,
              "#0d0887"
             ],
             [
              0.1111111111111111,
              "#46039f"
             ],
             [
              0.2222222222222222,
              "#7201a8"
             ],
             [
              0.3333333333333333,
              "#9c179e"
             ],
             [
              0.4444444444444444,
              "#bd3786"
             ],
             [
              0.5555555555555556,
              "#d8576b"
             ],
             [
              0.6666666666666666,
              "#ed7953"
             ],
             [
              0.7777777777777778,
              "#fb9f3a"
             ],
             [
              0.8888888888888888,
              "#fdca26"
             ],
             [
              1,
              "#f0f921"
             ]
            ],
            "type": "heatmap"
           }
          ],
          "heatmapgl": [
           {
            "colorbar": {
             "outlinewidth": 0,
             "ticks": ""
            },
            "colorscale": [
             [
              0,
              "#0d0887"
             ],
             [
              0.1111111111111111,
              "#46039f"
             ],
             [
              0.2222222222222222,
              "#7201a8"
             ],
             [
              0.3333333333333333,
              "#9c179e"
             ],
             [
              0.4444444444444444,
              "#bd3786"
             ],
             [
              0.5555555555555556,
              "#d8576b"
             ],
             [
              0.6666666666666666,
              "#ed7953"
             ],
             [
              0.7777777777777778,
              "#fb9f3a"
             ],
             [
              0.8888888888888888,
              "#fdca26"
             ],
             [
              1,
              "#f0f921"
             ]
            ],
            "type": "heatmapgl"
           }
          ],
          "histogram": [
           {
            "marker": {
             "colorbar": {
              "outlinewidth": 0,
              "ticks": ""
             }
            },
            "type": "histogram"
           }
          ],
          "histogram2d": [
           {
            "colorbar": {
             "outlinewidth": 0,
             "ticks": ""
            },
            "colorscale": [
             [
              0,
              "#0d0887"
             ],
             [
              0.1111111111111111,
              "#46039f"
             ],
             [
              0.2222222222222222,
              "#7201a8"
             ],
             [
              0.3333333333333333,
              "#9c179e"
             ],
             [
              0.4444444444444444,
              "#bd3786"
             ],
             [
              0.5555555555555556,
              "#d8576b"
             ],
             [
              0.6666666666666666,
              "#ed7953"
             ],
             [
              0.7777777777777778,
              "#fb9f3a"
             ],
             [
              0.8888888888888888,
              "#fdca26"
             ],
             [
              1,
              "#f0f921"
             ]
            ],
            "type": "histogram2d"
           }
          ],
          "histogram2dcontour": [
           {
            "colorbar": {
             "outlinewidth": 0,
             "ticks": ""
            },
            "colorscale": [
             [
              0,
              "#0d0887"
             ],
             [
              0.1111111111111111,
              "#46039f"
             ],
             [
              0.2222222222222222,
              "#7201a8"
             ],
             [
              0.3333333333333333,
              "#9c179e"
             ],
             [
              0.4444444444444444,
              "#bd3786"
             ],
             [
              0.5555555555555556,
              "#d8576b"
             ],
             [
              0.6666666666666666,
              "#ed7953"
             ],
             [
              0.7777777777777778,
              "#fb9f3a"
             ],
             [
              0.8888888888888888,
              "#fdca26"
             ],
             [
              1,
              "#f0f921"
             ]
            ],
            "type": "histogram2dcontour"
           }
          ],
          "mesh3d": [
           {
            "colorbar": {
             "outlinewidth": 0,
             "ticks": ""
            },
            "type": "mesh3d"
           }
          ],
          "parcoords": [
           {
            "line": {
             "colorbar": {
              "outlinewidth": 0,
              "ticks": ""
             }
            },
            "type": "parcoords"
           }
          ],
          "pie": [
           {
            "automargin": true,
            "type": "pie"
           }
          ],
          "scatter": [
           {
            "marker": {
             "colorbar": {
              "outlinewidth": 0,
              "ticks": ""
             }
            },
            "type": "scatter"
           }
          ],
          "scatter3d": [
           {
            "line": {
             "colorbar": {
              "outlinewidth": 0,
              "ticks": ""
             }
            },
            "marker": {
             "colorbar": {
              "outlinewidth": 0,
              "ticks": ""
             }
            },
            "type": "scatter3d"
           }
          ],
          "scattercarpet": [
           {
            "marker": {
             "colorbar": {
              "outlinewidth": 0,
              "ticks": ""
             }
            },
            "type": "scattercarpet"
           }
          ],
          "scattergeo": [
           {
            "marker": {
             "colorbar": {
              "outlinewidth": 0,
              "ticks": ""
             }
            },
            "type": "scattergeo"
           }
          ],
          "scattergl": [
           {
            "marker": {
             "colorbar": {
              "outlinewidth": 0,
              "ticks": ""
             }
            },
            "type": "scattergl"
           }
          ],
          "scattermapbox": [
           {
            "marker": {
             "colorbar": {
              "outlinewidth": 0,
              "ticks": ""
             }
            },
            "type": "scattermapbox"
           }
          ],
          "scatterpolar": [
           {
            "marker": {
             "colorbar": {
              "outlinewidth": 0,
              "ticks": ""
             }
            },
            "type": "scatterpolar"
           }
          ],
          "scatterpolargl": [
           {
            "marker": {
             "colorbar": {
              "outlinewidth": 0,
              "ticks": ""
             }
            },
            "type": "scatterpolargl"
           }
          ],
          "scatterternary": [
           {
            "marker": {
             "colorbar": {
              "outlinewidth": 0,
              "ticks": ""
             }
            },
            "type": "scatterternary"
           }
          ],
          "surface": [
           {
            "colorbar": {
             "outlinewidth": 0,
             "ticks": ""
            },
            "colorscale": [
             [
              0,
              "#0d0887"
             ],
             [
              0.1111111111111111,
              "#46039f"
             ],
             [
              0.2222222222222222,
              "#7201a8"
             ],
             [
              0.3333333333333333,
              "#9c179e"
             ],
             [
              0.4444444444444444,
              "#bd3786"
             ],
             [
              0.5555555555555556,
              "#d8576b"
             ],
             [
              0.6666666666666666,
              "#ed7953"
             ],
             [
              0.7777777777777778,
              "#fb9f3a"
             ],
             [
              0.8888888888888888,
              "#fdca26"
             ],
             [
              1,
              "#f0f921"
             ]
            ],
            "type": "surface"
           }
          ],
          "table": [
           {
            "cells": {
             "fill": {
              "color": "#EBF0F8"
             },
             "line": {
              "color": "white"
             }
            },
            "header": {
             "fill": {
              "color": "#C8D4E3"
             },
             "line": {
              "color": "white"
             }
            },
            "type": "table"
           }
          ]
         },
         "layout": {
          "annotationdefaults": {
           "arrowcolor": "#2a3f5f",
           "arrowhead": 0,
           "arrowwidth": 1
          },
          "coloraxis": {
           "colorbar": {
            "outlinewidth": 0,
            "ticks": ""
           }
          },
          "colorscale": {
           "diverging": [
            [
             0,
             "#8e0152"
            ],
            [
             0.1,
             "#c51b7d"
            ],
            [
             0.2,
             "#de77ae"
            ],
            [
             0.3,
             "#f1b6da"
            ],
            [
             0.4,
             "#fde0ef"
            ],
            [
             0.5,
             "#f7f7f7"
            ],
            [
             0.6,
             "#e6f5d0"
            ],
            [
             0.7,
             "#b8e186"
            ],
            [
             0.8,
             "#7fbc41"
            ],
            [
             0.9,
             "#4d9221"
            ],
            [
             1,
             "#276419"
            ]
           ],
           "sequential": [
            [
             0,
             "#0d0887"
            ],
            [
             0.1111111111111111,
             "#46039f"
            ],
            [
             0.2222222222222222,
             "#7201a8"
            ],
            [
             0.3333333333333333,
             "#9c179e"
            ],
            [
             0.4444444444444444,
             "#bd3786"
            ],
            [
             0.5555555555555556,
             "#d8576b"
            ],
            [
             0.6666666666666666,
             "#ed7953"
            ],
            [
             0.7777777777777778,
             "#fb9f3a"
            ],
            [
             0.8888888888888888,
             "#fdca26"
            ],
            [
             1,
             "#f0f921"
            ]
           ],
           "sequentialminus": [
            [
             0,
             "#0d0887"
            ],
            [
             0.1111111111111111,
             "#46039f"
            ],
            [
             0.2222222222222222,
             "#7201a8"
            ],
            [
             0.3333333333333333,
             "#9c179e"
            ],
            [
             0.4444444444444444,
             "#bd3786"
            ],
            [
             0.5555555555555556,
             "#d8576b"
            ],
            [
             0.6666666666666666,
             "#ed7953"
            ],
            [
             0.7777777777777778,
             "#fb9f3a"
            ],
            [
             0.8888888888888888,
             "#fdca26"
            ],
            [
             1,
             "#f0f921"
            ]
           ]
          },
          "colorway": [
           "#636efa",
           "#EF553B",
           "#00cc96",
           "#ab63fa",
           "#FFA15A",
           "#19d3f3",
           "#FF6692",
           "#B6E880",
           "#FF97FF",
           "#FECB52"
          ],
          "font": {
           "color": "#2a3f5f"
          },
          "geo": {
           "bgcolor": "white",
           "lakecolor": "white",
           "landcolor": "#E5ECF6",
           "showlakes": true,
           "showland": true,
           "subunitcolor": "white"
          },
          "hoverlabel": {
           "align": "left"
          },
          "hovermode": "closest",
          "mapbox": {
           "style": "light"
          },
          "paper_bgcolor": "white",
          "plot_bgcolor": "#E5ECF6",
          "polar": {
           "angularaxis": {
            "gridcolor": "white",
            "linecolor": "white",
            "ticks": ""
           },
           "bgcolor": "#E5ECF6",
           "radialaxis": {
            "gridcolor": "white",
            "linecolor": "white",
            "ticks": ""
           }
          },
          "scene": {
           "xaxis": {
            "backgroundcolor": "#E5ECF6",
            "gridcolor": "white",
            "gridwidth": 2,
            "linecolor": "white",
            "showbackground": true,
            "ticks": "",
            "zerolinecolor": "white"
           },
           "yaxis": {
            "backgroundcolor": "#E5ECF6",
            "gridcolor": "white",
            "gridwidth": 2,
            "linecolor": "white",
            "showbackground": true,
            "ticks": "",
            "zerolinecolor": "white"
           },
           "zaxis": {
            "backgroundcolor": "#E5ECF6",
            "gridcolor": "white",
            "gridwidth": 2,
            "linecolor": "white",
            "showbackground": true,
            "ticks": "",
            "zerolinecolor": "white"
           }
          },
          "shapedefaults": {
           "line": {
            "color": "#2a3f5f"
           }
          },
          "ternary": {
           "aaxis": {
            "gridcolor": "white",
            "linecolor": "white",
            "ticks": ""
           },
           "baxis": {
            "gridcolor": "white",
            "linecolor": "white",
            "ticks": ""
           },
           "bgcolor": "#E5ECF6",
           "caxis": {
            "gridcolor": "white",
            "linecolor": "white",
            "ticks": ""
           }
          },
          "title": {
           "x": 0.05
          },
          "xaxis": {
           "automargin": true,
           "gridcolor": "white",
           "linecolor": "white",
           "ticks": "",
           "title": {
            "standoff": 15
           },
           "zerolinecolor": "white",
           "zerolinewidth": 2
          },
          "yaxis": {
           "automargin": true,
           "gridcolor": "white",
           "linecolor": "white",
           "ticks": "",
           "title": {
            "standoff": 15
           },
           "zerolinecolor": "white",
           "zerolinewidth": 2
          }
         }
        },
        "title": {
         "text": "App categoryFree app version"
        },
        "xaxis": {
         "title": {
          "text": "Category"
         }
        },
        "yaxis": {
         "title": {
          "text": "Number of High Reviews app"
         }
        }
       }
      },
      "text/html": [
       "<div>                            <div id=\"55d73bee-b75e-47cf-bcec-3267a1c04830\" class=\"plotly-graph-div\" style=\"height:525px; width:100%;\"></div>            <script type=\"text/javascript\">                require([\"plotly\"], function(Plotly) {                    window.PLOTLYENV=window.PLOTLYENV || {};                                    if (document.getElementById(\"55d73bee-b75e-47cf-bcec-3267a1c04830\")) {                    Plotly.newPlot(                        \"55d73bee-b75e-47cf-bcec-3267a1c04830\",                        [{\"type\": \"bar\", \"x\": [\"100+\", \"500+\", \"1000+\", \"5000+\", \"10000+\", \"50000+\", \"100000+\", \"500000+\", \"1000000+\", \"5000000+\", \"10000000+\", \"50000000+\", \"100000000+\", \"500000000+\", \"1000000000+\"], \"y\": [4, 5, 47, 49, 182, 124, 420, 285, 670, 283, 386, 81, 62, 5, 3]}],                        {\"font\": {\"color\": \"RebeccaPurple\", \"family\": \"Courier New, monospace\", \"size\": 14}, \"template\": {\"data\": {\"bar\": [{\"error_x\": {\"color\": \"#2a3f5f\"}, \"error_y\": {\"color\": \"#2a3f5f\"}, \"marker\": {\"line\": {\"color\": \"#E5ECF6\", \"width\": 0.5}}, \"type\": \"bar\"}], \"barpolar\": [{\"marker\": {\"line\": {\"color\": \"#E5ECF6\", \"width\": 0.5}}, \"type\": \"barpolar\"}], \"carpet\": [{\"aaxis\": {\"endlinecolor\": \"#2a3f5f\", \"gridcolor\": \"white\", \"linecolor\": \"white\", \"minorgridcolor\": \"white\", \"startlinecolor\": \"#2a3f5f\"}, \"baxis\": {\"endlinecolor\": \"#2a3f5f\", \"gridcolor\": \"white\", \"linecolor\": \"white\", \"minorgridcolor\": \"white\", \"startlinecolor\": \"#2a3f5f\"}, \"type\": \"carpet\"}], \"choropleth\": [{\"colorbar\": {\"outlinewidth\": 0, \"ticks\": \"\"}, \"type\": \"choropleth\"}], \"contour\": [{\"colorbar\": {\"outlinewidth\": 0, \"ticks\": \"\"}, \"colorscale\": [[0.0, \"#0d0887\"], [0.1111111111111111, \"#46039f\"], [0.2222222222222222, \"#7201a8\"], [0.3333333333333333, \"#9c179e\"], [0.4444444444444444, \"#bd3786\"], [0.5555555555555556, \"#d8576b\"], [0.6666666666666666, \"#ed7953\"], [0.7777777777777778, \"#fb9f3a\"], [0.8888888888888888, \"#fdca26\"], [1.0, \"#f0f921\"]], \"type\": \"contour\"}], \"contourcarpet\": [{\"colorbar\": {\"outlinewidth\": 0, \"ticks\": \"\"}, \"type\": \"contourcarpet\"}], \"heatmap\": [{\"colorbar\": {\"outlinewidth\": 0, \"ticks\": \"\"}, \"colorscale\": [[0.0, \"#0d0887\"], [0.1111111111111111, \"#46039f\"], [0.2222222222222222, \"#7201a8\"], [0.3333333333333333, \"#9c179e\"], [0.4444444444444444, \"#bd3786\"], [0.5555555555555556, \"#d8576b\"], [0.6666666666666666, \"#ed7953\"], [0.7777777777777778, \"#fb9f3a\"], [0.8888888888888888, \"#fdca26\"], [1.0, \"#f0f921\"]], \"type\": \"heatmap\"}], \"heatmapgl\": [{\"colorbar\": {\"outlinewidth\": 0, \"ticks\": \"\"}, \"colorscale\": [[0.0, \"#0d0887\"], [0.1111111111111111, \"#46039f\"], [0.2222222222222222, \"#7201a8\"], [0.3333333333333333, \"#9c179e\"], [0.4444444444444444, \"#bd3786\"], [0.5555555555555556, \"#d8576b\"], [0.6666666666666666, \"#ed7953\"], [0.7777777777777778, \"#fb9f3a\"], [0.8888888888888888, \"#fdca26\"], [1.0, \"#f0f921\"]], \"type\": \"heatmapgl\"}], \"histogram\": [{\"marker\": {\"colorbar\": {\"outlinewidth\": 0, \"ticks\": \"\"}}, \"type\": \"histogram\"}], \"histogram2d\": [{\"colorbar\": {\"outlinewidth\": 0, \"ticks\": \"\"}, \"colorscale\": [[0.0, \"#0d0887\"], [0.1111111111111111, \"#46039f\"], [0.2222222222222222, \"#7201a8\"], [0.3333333333333333, \"#9c179e\"], [0.4444444444444444, \"#bd3786\"], [0.5555555555555556, \"#d8576b\"], [0.6666666666666666, \"#ed7953\"], [0.7777777777777778, \"#fb9f3a\"], [0.8888888888888888, \"#fdca26\"], [1.0, \"#f0f921\"]], \"type\": \"histogram2d\"}], \"histogram2dcontour\": [{\"colorbar\": {\"outlinewidth\": 0, \"ticks\": \"\"}, \"colorscale\": [[0.0, \"#0d0887\"], [0.1111111111111111, \"#46039f\"], [0.2222222222222222, \"#7201a8\"], [0.3333333333333333, \"#9c179e\"], [0.4444444444444444, \"#bd3786\"], [0.5555555555555556, \"#d8576b\"], [0.6666666666666666, \"#ed7953\"], [0.7777777777777778, \"#fb9f3a\"], [0.8888888888888888, \"#fdca26\"], [1.0, \"#f0f921\"]], \"type\": \"histogram2dcontour\"}], \"mesh3d\": [{\"colorbar\": {\"outlinewidth\": 0, \"ticks\": \"\"}, \"type\": \"mesh3d\"}], \"parcoords\": [{\"line\": {\"colorbar\": {\"outlinewidth\": 0, \"ticks\": \"\"}}, \"type\": \"parcoords\"}], \"pie\": [{\"automargin\": true, \"type\": \"pie\"}], \"scatter\": [{\"marker\": {\"colorbar\": {\"outlinewidth\": 0, \"ticks\": \"\"}}, \"type\": \"scatter\"}], \"scatter3d\": [{\"line\": {\"colorbar\": {\"outlinewidth\": 0, \"ticks\": \"\"}}, \"marker\": {\"colorbar\": {\"outlinewidth\": 0, \"ticks\": \"\"}}, \"type\": \"scatter3d\"}], \"scattercarpet\": [{\"marker\": {\"colorbar\": {\"outlinewidth\": 0, \"ticks\": \"\"}}, \"type\": \"scattercarpet\"}], \"scattergeo\": [{\"marker\": {\"colorbar\": {\"outlinewidth\": 0, \"ticks\": \"\"}}, \"type\": \"scattergeo\"}], \"scattergl\": [{\"marker\": {\"colorbar\": {\"outlinewidth\": 0, \"ticks\": \"\"}}, \"type\": \"scattergl\"}], \"scattermapbox\": [{\"marker\": {\"colorbar\": {\"outlinewidth\": 0, \"ticks\": \"\"}}, \"type\": \"scattermapbox\"}], \"scatterpolar\": [{\"marker\": {\"colorbar\": {\"outlinewidth\": 0, \"ticks\": \"\"}}, \"type\": \"scatterpolar\"}], \"scatterpolargl\": [{\"marker\": {\"colorbar\": {\"outlinewidth\": 0, \"ticks\": \"\"}}, \"type\": \"scatterpolargl\"}], \"scatterternary\": [{\"marker\": {\"colorbar\": {\"outlinewidth\": 0, \"ticks\": \"\"}}, \"type\": \"scatterternary\"}], \"surface\": [{\"colorbar\": {\"outlinewidth\": 0, \"ticks\": \"\"}, \"colorscale\": [[0.0, \"#0d0887\"], [0.1111111111111111, \"#46039f\"], [0.2222222222222222, \"#7201a8\"], [0.3333333333333333, \"#9c179e\"], [0.4444444444444444, \"#bd3786\"], [0.5555555555555556, \"#d8576b\"], [0.6666666666666666, \"#ed7953\"], [0.7777777777777778, \"#fb9f3a\"], [0.8888888888888888, \"#fdca26\"], [1.0, \"#f0f921\"]], \"type\": \"surface\"}], \"table\": [{\"cells\": {\"fill\": {\"color\": \"#EBF0F8\"}, \"line\": {\"color\": \"white\"}}, \"header\": {\"fill\": {\"color\": \"#C8D4E3\"}, \"line\": {\"color\": \"white\"}}, \"type\": \"table\"}]}, \"layout\": {\"annotationdefaults\": {\"arrowcolor\": \"#2a3f5f\", \"arrowhead\": 0, \"arrowwidth\": 1}, \"coloraxis\": {\"colorbar\": {\"outlinewidth\": 0, \"ticks\": \"\"}}, \"colorscale\": {\"diverging\": [[0, \"#8e0152\"], [0.1, \"#c51b7d\"], [0.2, \"#de77ae\"], [0.3, \"#f1b6da\"], [0.4, \"#fde0ef\"], [0.5, \"#f7f7f7\"], [0.6, \"#e6f5d0\"], [0.7, \"#b8e186\"], [0.8, \"#7fbc41\"], [0.9, \"#4d9221\"], [1, \"#276419\"]], \"sequential\": [[0.0, \"#0d0887\"], [0.1111111111111111, \"#46039f\"], [0.2222222222222222, \"#7201a8\"], [0.3333333333333333, \"#9c179e\"], [0.4444444444444444, \"#bd3786\"], [0.5555555555555556, \"#d8576b\"], [0.6666666666666666, \"#ed7953\"], [0.7777777777777778, \"#fb9f3a\"], [0.8888888888888888, \"#fdca26\"], [1.0, \"#f0f921\"]], \"sequentialminus\": [[0.0, \"#0d0887\"], [0.1111111111111111, \"#46039f\"], [0.2222222222222222, \"#7201a8\"], [0.3333333333333333, \"#9c179e\"], [0.4444444444444444, \"#bd3786\"], [0.5555555555555556, \"#d8576b\"], [0.6666666666666666, \"#ed7953\"], [0.7777777777777778, \"#fb9f3a\"], [0.8888888888888888, \"#fdca26\"], [1.0, \"#f0f921\"]]}, \"colorway\": [\"#636efa\", \"#EF553B\", \"#00cc96\", \"#ab63fa\", \"#FFA15A\", \"#19d3f3\", \"#FF6692\", \"#B6E880\", \"#FF97FF\", \"#FECB52\"], \"font\": {\"color\": \"#2a3f5f\"}, \"geo\": {\"bgcolor\": \"white\", \"lakecolor\": \"white\", \"landcolor\": \"#E5ECF6\", \"showlakes\": true, \"showland\": true, \"subunitcolor\": \"white\"}, \"hoverlabel\": {\"align\": \"left\"}, \"hovermode\": \"closest\", \"mapbox\": {\"style\": \"light\"}, \"paper_bgcolor\": \"white\", \"plot_bgcolor\": \"#E5ECF6\", \"polar\": {\"angularaxis\": {\"gridcolor\": \"white\", \"linecolor\": \"white\", \"ticks\": \"\"}, \"bgcolor\": \"#E5ECF6\", \"radialaxis\": {\"gridcolor\": \"white\", \"linecolor\": \"white\", \"ticks\": \"\"}}, \"scene\": {\"xaxis\": {\"backgroundcolor\": \"#E5ECF6\", \"gridcolor\": \"white\", \"gridwidth\": 2, \"linecolor\": \"white\", \"showbackground\": true, \"ticks\": \"\", \"zerolinecolor\": \"white\"}, \"yaxis\": {\"backgroundcolor\": \"#E5ECF6\", \"gridcolor\": \"white\", \"gridwidth\": 2, \"linecolor\": \"white\", \"showbackground\": true, \"ticks\": \"\", \"zerolinecolor\": \"white\"}, \"zaxis\": {\"backgroundcolor\": \"#E5ECF6\", \"gridcolor\": \"white\", \"gridwidth\": 2, \"linecolor\": \"white\", \"showbackground\": true, \"ticks\": \"\", \"zerolinecolor\": \"white\"}}, \"shapedefaults\": {\"line\": {\"color\": \"#2a3f5f\"}}, \"ternary\": {\"aaxis\": {\"gridcolor\": \"white\", \"linecolor\": \"white\", \"ticks\": \"\"}, \"baxis\": {\"gridcolor\": \"white\", \"linecolor\": \"white\", \"ticks\": \"\"}, \"bgcolor\": \"#E5ECF6\", \"caxis\": {\"gridcolor\": \"white\", \"linecolor\": \"white\", \"ticks\": \"\"}}, \"title\": {\"x\": 0.05}, \"xaxis\": {\"automargin\": true, \"gridcolor\": \"white\", \"linecolor\": \"white\", \"ticks\": \"\", \"title\": {\"standoff\": 15}, \"zerolinecolor\": \"white\", \"zerolinewidth\": 2}, \"yaxis\": {\"automargin\": true, \"gridcolor\": \"white\", \"linecolor\": \"white\", \"ticks\": \"\", \"title\": {\"standoff\": 15}, \"zerolinecolor\": \"white\", \"zerolinewidth\": 2}}}, \"title\": {\"text\": \"App categoryFree app version\"}, \"xaxis\": {\"title\": {\"text\": \"Category\"}}, \"yaxis\": {\"title\": {\"text\": \"Number of High Reviews app\"}}},                        {\"responsive\": true}                    ).then(function(){\n",
       "                            \n",
       "var gd = document.getElementById('55d73bee-b75e-47cf-bcec-3267a1c04830');\n",
       "var x = new MutationObserver(function (mutations, observer) {{\n",
       "        var display = window.getComputedStyle(gd).display;\n",
       "        if (!display || display === 'none') {{\n",
       "            console.log([gd, 'removed!']);\n",
       "            Plotly.purge(gd);\n",
       "            observer.disconnect();\n",
       "        }}\n",
       "}});\n",
       "\n",
       "// Listen for the removal of the full notebook cells\n",
       "var notebookContainer = gd.closest('#notebook-container');\n",
       "if (notebookContainer) {{\n",
       "    x.observe(notebookContainer, {childList: true});\n",
       "}}\n",
       "\n",
       "// Listen for the clearing of the current output cell\n",
       "var outputEl = gd.closest('.output');\n",
       "if (outputEl) {{\n",
       "    x.observe(outputEl, {childList: true});\n",
       "}}\n",
       "\n",
       "                        })                };                });            </script>        </div>"
      ]
     },
     "metadata": {},
     "output_type": "display_data"
    }
   ],
   "source": [
    "app_free = high_rating_app['installs'].value_counts().sort_index()\n",
    "data = [go.Bar(\n",
    "        x=[str(x)[:-2]+'+' for x in app_free.index],\n",
    "        y=app_free.values\n",
    ")]\n",
    "\n",
    "layout = go.Layout(\n",
    "    title=\"App categoryFree app version\",\n",
    "    xaxis_title=\"Category\",\n",
    "    yaxis_title=\"Number of High Reviews app\",\n",
    "    font=dict(\n",
    "        family=\"Courier New, monospace\",\n",
    "        size=14,\n",
    "        color=\"RebeccaPurple\"\n",
    "    )\n",
    ") \n",
    "\n",
    "fig = go.Figure(data=data, layout=layout)\n",
    "\n",
    "plotly.offline.iplot(fig, filename='app_category')"
   ]
  },
  {
   "cell_type": "markdown",
   "metadata": {},
   "source": [
    "Có tất các 3 ứng dụng đạt hơn 1 tỷ lượt tải và 5 ứng dụng đạt hơn 500 triệu lượt tải. Sau đây em xin đưa ra 6 ứng dụng này"
   ]
  },
  {
   "cell_type": "code",
   "execution_count": 43,
   "metadata": {},
   "outputs": [
    {
     "name": "stdout",
     "output_type": "stream",
     "text": [
      "\n",
      "\n",
      "APP with 500 Millions Downloads\n",
      "\n",
      "\n",
      "App:  ShareMe  - #1 file sharing & data transfer app\n",
      "App:  Adobe Acrobat Reader: PDF Viewer, Editor & Creator\n",
      "App:  Pinterest\n",
      "App:  Adobe Acrobat Reader: PDF Viewer, Editor & Creator\n",
      "App:  File Manager : free and easily\n",
      "\n",
      "\n",
      "APP with 1 Billions Downloads\n",
      "\n",
      "\n",
      "App:  Samsung Calculator\n",
      "App:  Candy Crush Saga\n",
      "App:  Samsung Gallery\n"
     ]
    }
   ],
   "source": [
    "App_Name = high_rating_app[high_rating_app['installs'] == 500000000]['title']\n",
    "print(\"\\n\\nAPP with 500 Millions Downloads\\n\\n\")\n",
    "for app in App_Name:\n",
    "    print(\"App:  {}\".format(app))\n",
    "\n",
    "App_Name = high_rating_app[high_rating_app['installs'] == 1000000000]['title']\n",
    "print(\"\\n\\nAPP with 1 Billions Downloads\\n\\n\")\n",
    "for app in App_Name:\n",
    "    print(\"App:  {}\".format(app))"
   ]
  },
  {
   "cell_type": "markdown",
   "metadata": {},
   "source": [
    "Các ứng dụng có nhiều lượt tải là các ứng dụng công cụ là chủ yếu. Ngoài ra còn có ứng dụng game và giải trí như như Candy Crush Saga. Nhìn chung thì đây là một điều khá bất ngờ khi các ứng dụng có số lượt tải nhiều không chiếm đa số bởi các ứng dụng thể thao, giải trí."
   ]
  },
  {
   "cell_type": "code",
   "execution_count": 44,
   "metadata": {},
   "outputs": [
    {
     "data": {
      "text/plain": [
       "price\n",
       "0.0         23.806918\n",
       "9000.0      16.123083\n",
       "69000.0     15.991511\n",
       "6000.0      14.978974\n",
       "23000.0     14.812828\n",
       "109000.0    14.562199\n",
       "116000.0    13.924365\n",
       "26000.0     13.910821\n",
       "45000.0     13.884103\n",
       "12000.0     13.815511\n",
       "Name: installs, dtype: float64"
      ]
     },
     "execution_count": 44,
     "metadata": {},
     "output_type": "execute_result"
    }
   ],
   "source": [
    "high_rating_app.groupby('price').sum().nlargest(10, 'installs')['installs'].apply(lambda x: np.log(x))"
   ]
  },
  {
   "cell_type": "markdown",
   "metadata": {},
   "source": [
    "Các ứng dụng có mức giá dưới 9000 đồng được người dùng quan tâm hơn. Các nhà phát triển có thể cân nhắc đến cho ứng dụng của mình."
   ]
  },
  {
   "cell_type": "markdown",
   "metadata": {},
   "source": [
    "# Các phân tích với App có đánh giá thấp\n",
    "\n",
    "## Thể loại"
   ]
  },
  {
   "cell_type": "code",
   "execution_count": 45,
   "metadata": {},
   "outputs": [
    {
     "data": {
      "text/html": [
       "<div>\n",
       "<style scoped>\n",
       "    .dataframe tbody tr th:only-of-type {\n",
       "        vertical-align: middle;\n",
       "    }\n",
       "\n",
       "    .dataframe tbody tr th {\n",
       "        vertical-align: top;\n",
       "    }\n",
       "\n",
       "    .dataframe thead th {\n",
       "        text-align: right;\n",
       "    }\n",
       "</style>\n",
       "<table border=\"1\" class=\"dataframe\">\n",
       "  <thead>\n",
       "    <tr style=\"text-align: right;\">\n",
       "      <th></th>\n",
       "      <th>title</th>\n",
       "      <th>size</th>\n",
       "      <th>installs</th>\n",
       "      <th>reviews</th>\n",
       "      <th>price</th>\n",
       "      <th>category</th>\n",
       "      <th>contentRating</th>\n",
       "      <th>score</th>\n",
       "      <th>UpdatedAt</th>\n",
       "      <th>rating_group</th>\n",
       "      <th>Type</th>\n",
       "    </tr>\n",
       "  </thead>\n",
       "  <tbody>\n",
       "    <tr>\n",
       "      <th>165</th>\n",
       "      <td>YouTube Kids for Android TV</td>\n",
       "      <td>NaN</td>\n",
       "      <td>10000000.0</td>\n",
       "      <td>33.0</td>\n",
       "      <td>0.0</td>\n",
       "      <td>Entertainment</td>\n",
       "      <td>Rated for 3+</td>\n",
       "      <td>2.5</td>\n",
       "      <td>1</td>\n",
       "      <td>Low</td>\n",
       "      <td>Free</td>\n",
       "    </tr>\n",
       "    <tr>\n",
       "      <th>172</th>\n",
       "      <td>Edpuzzle</td>\n",
       "      <td>20.0</td>\n",
       "      <td>1000000.0</td>\n",
       "      <td>6216.0</td>\n",
       "      <td>0.0</td>\n",
       "      <td>Education</td>\n",
       "      <td>Rated for 3+</td>\n",
       "      <td>2.3</td>\n",
       "      <td>2</td>\n",
       "      <td>Low</td>\n",
       "      <td>Free</td>\n",
       "    </tr>\n",
       "    <tr>\n",
       "      <th>1289</th>\n",
       "      <td>Tennis Channel</td>\n",
       "      <td>NaN</td>\n",
       "      <td>100000.0</td>\n",
       "      <td>1367.0</td>\n",
       "      <td>0.0</td>\n",
       "      <td>Sports</td>\n",
       "      <td>Rated for 3+</td>\n",
       "      <td>1.9</td>\n",
       "      <td>3</td>\n",
       "      <td>Low</td>\n",
       "      <td>Free</td>\n",
       "    </tr>\n",
       "    <tr>\n",
       "      <th>1982</th>\n",
       "      <td>lastminute.com - Holidays, Flight &amp; Hotel Deals</td>\n",
       "      <td>105.0</td>\n",
       "      <td>1000000.0</td>\n",
       "      <td>2700.0</td>\n",
       "      <td>0.0</td>\n",
       "      <td>Travel &amp; Local</td>\n",
       "      <td>Rated for 3+</td>\n",
       "      <td>2.2</td>\n",
       "      <td>1</td>\n",
       "      <td>Low</td>\n",
       "      <td>Free</td>\n",
       "    </tr>\n",
       "  </tbody>\n",
       "</table>\n",
       "</div>"
      ],
      "text/plain": [
       "                                                title   size    installs  \\\n",
       "165                       YouTube Kids for Android TV    NaN  10000000.0   \n",
       "172                                          Edpuzzle   20.0   1000000.0   \n",
       "1289                                   Tennis Channel    NaN    100000.0   \n",
       "1982  lastminute.com - Holidays, Flight & Hotel Deals  105.0   1000000.0   \n",
       "\n",
       "      reviews  price        category contentRating  score  UpdatedAt  \\\n",
       "165      33.0    0.0   Entertainment  Rated for 3+    2.5          1   \n",
       "172    6216.0    0.0       Education  Rated for 3+    2.3          2   \n",
       "1289   1367.0    0.0          Sports  Rated for 3+    1.9          3   \n",
       "1982   2700.0    0.0  Travel & Local  Rated for 3+    2.2          1   \n",
       "\n",
       "     rating_group  Type  \n",
       "165           Low  Free  \n",
       "172           Low  Free  \n",
       "1289          Low  Free  \n",
       "1982          Low  Free  "
      ]
     },
     "execution_count": 45,
     "metadata": {},
     "output_type": "execute_result"
    }
   ],
   "source": [
    "low_rating_app = play_store[play_store['rating_group'] == 'Low']\n",
    "low_rating_app.head(4)"
   ]
  },
  {
   "cell_type": "code",
   "execution_count": 46,
   "metadata": {},
   "outputs": [
    {
     "data": {
      "application/vnd.plotly.v1+json": {
       "config": {
        "linkText": "Export to plot.ly",
        "plotlyServerURL": "https://plot.ly",
        "showLink": false
       },
       "data": [
        {
         "type": "bar",
         "x": [
          "News & Magazines",
          "Finance",
          "Education",
          "Entertainment",
          "Maps & Navigation",
          "Sports",
          "Lifestyle",
          "Travel & Local",
          "Shopping",
          "Medical",
          "Social",
          "Music & Audio",
          "Parenting",
          "Photography",
          "Video Players & Editors",
          "Food & Drink",
          "Productivity",
          "Business",
          "Personalization",
          "Communication",
          "Auto & Vehicles",
          "Art & Design",
          "Books & Reference",
          "Trivia",
          "Events",
          "Casual",
          "Word",
          "Casino",
          "Card",
          "Board",
          "Beauty",
          "Arcade",
          "Adventure",
          "Comics",
          "Libraries & Demo",
          "Dating",
          "Educational",
          "Health & Fitness",
          "House & Home",
          "Weather",
          "Music",
          "Puzzle",
          "Racing",
          "Role Playing",
          "Simulation",
          "Strategy",
          "Tools",
          "Action"
         ],
         "y": [
          13,
          11,
          11,
          10,
          9,
          9,
          7,
          6,
          6,
          5,
          5,
          4,
          4,
          3,
          3,
          2,
          2,
          2,
          1,
          1,
          1,
          1,
          1,
          1,
          1,
          0,
          0,
          0,
          0,
          0,
          0,
          0,
          0,
          0,
          0,
          0,
          0,
          0,
          0,
          0,
          0,
          0,
          0,
          0,
          0,
          0,
          0,
          0
         ]
        }
       ],
       "layout": {
        "font": {
         "color": "RebeccaPurple",
         "family": "Courier New, monospace",
         "size": 14
        },
        "template": {
         "data": {
          "bar": [
           {
            "error_x": {
             "color": "#2a3f5f"
            },
            "error_y": {
             "color": "#2a3f5f"
            },
            "marker": {
             "line": {
              "color": "#E5ECF6",
              "width": 0.5
             }
            },
            "type": "bar"
           }
          ],
          "barpolar": [
           {
            "marker": {
             "line": {
              "color": "#E5ECF6",
              "width": 0.5
             }
            },
            "type": "barpolar"
           }
          ],
          "carpet": [
           {
            "aaxis": {
             "endlinecolor": "#2a3f5f",
             "gridcolor": "white",
             "linecolor": "white",
             "minorgridcolor": "white",
             "startlinecolor": "#2a3f5f"
            },
            "baxis": {
             "endlinecolor": "#2a3f5f",
             "gridcolor": "white",
             "linecolor": "white",
             "minorgridcolor": "white",
             "startlinecolor": "#2a3f5f"
            },
            "type": "carpet"
           }
          ],
          "choropleth": [
           {
            "colorbar": {
             "outlinewidth": 0,
             "ticks": ""
            },
            "type": "choropleth"
           }
          ],
          "contour": [
           {
            "colorbar": {
             "outlinewidth": 0,
             "ticks": ""
            },
            "colorscale": [
             [
              0,
              "#0d0887"
             ],
             [
              0.1111111111111111,
              "#46039f"
             ],
             [
              0.2222222222222222,
              "#7201a8"
             ],
             [
              0.3333333333333333,
              "#9c179e"
             ],
             [
              0.4444444444444444,
              "#bd3786"
             ],
             [
              0.5555555555555556,
              "#d8576b"
             ],
             [
              0.6666666666666666,
              "#ed7953"
             ],
             [
              0.7777777777777778,
              "#fb9f3a"
             ],
             [
              0.8888888888888888,
              "#fdca26"
             ],
             [
              1,
              "#f0f921"
             ]
            ],
            "type": "contour"
           }
          ],
          "contourcarpet": [
           {
            "colorbar": {
             "outlinewidth": 0,
             "ticks": ""
            },
            "type": "contourcarpet"
           }
          ],
          "heatmap": [
           {
            "colorbar": {
             "outlinewidth": 0,
             "ticks": ""
            },
            "colorscale": [
             [
              0,
              "#0d0887"
             ],
             [
              0.1111111111111111,
              "#46039f"
             ],
             [
              0.2222222222222222,
              "#7201a8"
             ],
             [
              0.3333333333333333,
              "#9c179e"
             ],
             [
              0.4444444444444444,
              "#bd3786"
             ],
             [
              0.5555555555555556,
              "#d8576b"
             ],
             [
              0.6666666666666666,
              "#ed7953"
             ],
             [
              0.7777777777777778,
              "#fb9f3a"
             ],
             [
              0.8888888888888888,
              "#fdca26"
             ],
             [
              1,
              "#f0f921"
             ]
            ],
            "type": "heatmap"
           }
          ],
          "heatmapgl": [
           {
            "colorbar": {
             "outlinewidth": 0,
             "ticks": ""
            },
            "colorscale": [
             [
              0,
              "#0d0887"
             ],
             [
              0.1111111111111111,
              "#46039f"
             ],
             [
              0.2222222222222222,
              "#7201a8"
             ],
             [
              0.3333333333333333,
              "#9c179e"
             ],
             [
              0.4444444444444444,
              "#bd3786"
             ],
             [
              0.5555555555555556,
              "#d8576b"
             ],
             [
              0.6666666666666666,
              "#ed7953"
             ],
             [
              0.7777777777777778,
              "#fb9f3a"
             ],
             [
              0.8888888888888888,
              "#fdca26"
             ],
             [
              1,
              "#f0f921"
             ]
            ],
            "type": "heatmapgl"
           }
          ],
          "histogram": [
           {
            "marker": {
             "colorbar": {
              "outlinewidth": 0,
              "ticks": ""
             }
            },
            "type": "histogram"
           }
          ],
          "histogram2d": [
           {
            "colorbar": {
             "outlinewidth": 0,
             "ticks": ""
            },
            "colorscale": [
             [
              0,
              "#0d0887"
             ],
             [
              0.1111111111111111,
              "#46039f"
             ],
             [
              0.2222222222222222,
              "#7201a8"
             ],
             [
              0.3333333333333333,
              "#9c179e"
             ],
             [
              0.4444444444444444,
              "#bd3786"
             ],
             [
              0.5555555555555556,
              "#d8576b"
             ],
             [
              0.6666666666666666,
              "#ed7953"
             ],
             [
              0.7777777777777778,
              "#fb9f3a"
             ],
             [
              0.8888888888888888,
              "#fdca26"
             ],
             [
              1,
              "#f0f921"
             ]
            ],
            "type": "histogram2d"
           }
          ],
          "histogram2dcontour": [
           {
            "colorbar": {
             "outlinewidth": 0,
             "ticks": ""
            },
            "colorscale": [
             [
              0,
              "#0d0887"
             ],
             [
              0.1111111111111111,
              "#46039f"
             ],
             [
              0.2222222222222222,
              "#7201a8"
             ],
             [
              0.3333333333333333,
              "#9c179e"
             ],
             [
              0.4444444444444444,
              "#bd3786"
             ],
             [
              0.5555555555555556,
              "#d8576b"
             ],
             [
              0.6666666666666666,
              "#ed7953"
             ],
             [
              0.7777777777777778,
              "#fb9f3a"
             ],
             [
              0.8888888888888888,
              "#fdca26"
             ],
             [
              1,
              "#f0f921"
             ]
            ],
            "type": "histogram2dcontour"
           }
          ],
          "mesh3d": [
           {
            "colorbar": {
             "outlinewidth": 0,
             "ticks": ""
            },
            "type": "mesh3d"
           }
          ],
          "parcoords": [
           {
            "line": {
             "colorbar": {
              "outlinewidth": 0,
              "ticks": ""
             }
            },
            "type": "parcoords"
           }
          ],
          "pie": [
           {
            "automargin": true,
            "type": "pie"
           }
          ],
          "scatter": [
           {
            "marker": {
             "colorbar": {
              "outlinewidth": 0,
              "ticks": ""
             }
            },
            "type": "scatter"
           }
          ],
          "scatter3d": [
           {
            "line": {
             "colorbar": {
              "outlinewidth": 0,
              "ticks": ""
             }
            },
            "marker": {
             "colorbar": {
              "outlinewidth": 0,
              "ticks": ""
             }
            },
            "type": "scatter3d"
           }
          ],
          "scattercarpet": [
           {
            "marker": {
             "colorbar": {
              "outlinewidth": 0,
              "ticks": ""
             }
            },
            "type": "scattercarpet"
           }
          ],
          "scattergeo": [
           {
            "marker": {
             "colorbar": {
              "outlinewidth": 0,
              "ticks": ""
             }
            },
            "type": "scattergeo"
           }
          ],
          "scattergl": [
           {
            "marker": {
             "colorbar": {
              "outlinewidth": 0,
              "ticks": ""
             }
            },
            "type": "scattergl"
           }
          ],
          "scattermapbox": [
           {
            "marker": {
             "colorbar": {
              "outlinewidth": 0,
              "ticks": ""
             }
            },
            "type": "scattermapbox"
           }
          ],
          "scatterpolar": [
           {
            "marker": {
             "colorbar": {
              "outlinewidth": 0,
              "ticks": ""
             }
            },
            "type": "scatterpolar"
           }
          ],
          "scatterpolargl": [
           {
            "marker": {
             "colorbar": {
              "outlinewidth": 0,
              "ticks": ""
             }
            },
            "type": "scatterpolargl"
           }
          ],
          "scatterternary": [
           {
            "marker": {
             "colorbar": {
              "outlinewidth": 0,
              "ticks": ""
             }
            },
            "type": "scatterternary"
           }
          ],
          "surface": [
           {
            "colorbar": {
             "outlinewidth": 0,
             "ticks": ""
            },
            "colorscale": [
             [
              0,
              "#0d0887"
             ],
             [
              0.1111111111111111,
              "#46039f"
             ],
             [
              0.2222222222222222,
              "#7201a8"
             ],
             [
              0.3333333333333333,
              "#9c179e"
             ],
             [
              0.4444444444444444,
              "#bd3786"
             ],
             [
              0.5555555555555556,
              "#d8576b"
             ],
             [
              0.6666666666666666,
              "#ed7953"
             ],
             [
              0.7777777777777778,
              "#fb9f3a"
             ],
             [
              0.8888888888888888,
              "#fdca26"
             ],
             [
              1,
              "#f0f921"
             ]
            ],
            "type": "surface"
           }
          ],
          "table": [
           {
            "cells": {
             "fill": {
              "color": "#EBF0F8"
             },
             "line": {
              "color": "white"
             }
            },
            "header": {
             "fill": {
              "color": "#C8D4E3"
             },
             "line": {
              "color": "white"
             }
            },
            "type": "table"
           }
          ]
         },
         "layout": {
          "annotationdefaults": {
           "arrowcolor": "#2a3f5f",
           "arrowhead": 0,
           "arrowwidth": 1
          },
          "coloraxis": {
           "colorbar": {
            "outlinewidth": 0,
            "ticks": ""
           }
          },
          "colorscale": {
           "diverging": [
            [
             0,
             "#8e0152"
            ],
            [
             0.1,
             "#c51b7d"
            ],
            [
             0.2,
             "#de77ae"
            ],
            [
             0.3,
             "#f1b6da"
            ],
            [
             0.4,
             "#fde0ef"
            ],
            [
             0.5,
             "#f7f7f7"
            ],
            [
             0.6,
             "#e6f5d0"
            ],
            [
             0.7,
             "#b8e186"
            ],
            [
             0.8,
             "#7fbc41"
            ],
            [
             0.9,
             "#4d9221"
            ],
            [
             1,
             "#276419"
            ]
           ],
           "sequential": [
            [
             0,
             "#0d0887"
            ],
            [
             0.1111111111111111,
             "#46039f"
            ],
            [
             0.2222222222222222,
             "#7201a8"
            ],
            [
             0.3333333333333333,
             "#9c179e"
            ],
            [
             0.4444444444444444,
             "#bd3786"
            ],
            [
             0.5555555555555556,
             "#d8576b"
            ],
            [
             0.6666666666666666,
             "#ed7953"
            ],
            [
             0.7777777777777778,
             "#fb9f3a"
            ],
            [
             0.8888888888888888,
             "#fdca26"
            ],
            [
             1,
             "#f0f921"
            ]
           ],
           "sequentialminus": [
            [
             0,
             "#0d0887"
            ],
            [
             0.1111111111111111,
             "#46039f"
            ],
            [
             0.2222222222222222,
             "#7201a8"
            ],
            [
             0.3333333333333333,
             "#9c179e"
            ],
            [
             0.4444444444444444,
             "#bd3786"
            ],
            [
             0.5555555555555556,
             "#d8576b"
            ],
            [
             0.6666666666666666,
             "#ed7953"
            ],
            [
             0.7777777777777778,
             "#fb9f3a"
            ],
            [
             0.8888888888888888,
             "#fdca26"
            ],
            [
             1,
             "#f0f921"
            ]
           ]
          },
          "colorway": [
           "#636efa",
           "#EF553B",
           "#00cc96",
           "#ab63fa",
           "#FFA15A",
           "#19d3f3",
           "#FF6692",
           "#B6E880",
           "#FF97FF",
           "#FECB52"
          ],
          "font": {
           "color": "#2a3f5f"
          },
          "geo": {
           "bgcolor": "white",
           "lakecolor": "white",
           "landcolor": "#E5ECF6",
           "showlakes": true,
           "showland": true,
           "subunitcolor": "white"
          },
          "hoverlabel": {
           "align": "left"
          },
          "hovermode": "closest",
          "mapbox": {
           "style": "light"
          },
          "paper_bgcolor": "white",
          "plot_bgcolor": "#E5ECF6",
          "polar": {
           "angularaxis": {
            "gridcolor": "white",
            "linecolor": "white",
            "ticks": ""
           },
           "bgcolor": "#E5ECF6",
           "radialaxis": {
            "gridcolor": "white",
            "linecolor": "white",
            "ticks": ""
           }
          },
          "scene": {
           "xaxis": {
            "backgroundcolor": "#E5ECF6",
            "gridcolor": "white",
            "gridwidth": 2,
            "linecolor": "white",
            "showbackground": true,
            "ticks": "",
            "zerolinecolor": "white"
           },
           "yaxis": {
            "backgroundcolor": "#E5ECF6",
            "gridcolor": "white",
            "gridwidth": 2,
            "linecolor": "white",
            "showbackground": true,
            "ticks": "",
            "zerolinecolor": "white"
           },
           "zaxis": {
            "backgroundcolor": "#E5ECF6",
            "gridcolor": "white",
            "gridwidth": 2,
            "linecolor": "white",
            "showbackground": true,
            "ticks": "",
            "zerolinecolor": "white"
           }
          },
          "shapedefaults": {
           "line": {
            "color": "#2a3f5f"
           }
          },
          "ternary": {
           "aaxis": {
            "gridcolor": "white",
            "linecolor": "white",
            "ticks": ""
           },
           "baxis": {
            "gridcolor": "white",
            "linecolor": "white",
            "ticks": ""
           },
           "bgcolor": "#E5ECF6",
           "caxis": {
            "gridcolor": "white",
            "linecolor": "white",
            "ticks": ""
           }
          },
          "title": {
           "x": 0.05
          },
          "xaxis": {
           "automargin": true,
           "gridcolor": "white",
           "linecolor": "white",
           "ticks": "",
           "title": {
            "standoff": 15
           },
           "zerolinecolor": "white",
           "zerolinewidth": 2
          },
          "yaxis": {
           "automargin": true,
           "gridcolor": "white",
           "linecolor": "white",
           "ticks": "",
           "title": {
            "standoff": 15
           },
           "zerolinecolor": "white",
           "zerolinewidth": 2
          }
         }
        },
        "title": {
         "text": "Low rating app"
        },
        "xaxis": {
         "title": {
          "text": "Category"
         }
        },
        "yaxis": {
         "title": {
          "text": "Number of Low Reviews app"
         }
        }
       }
      },
      "text/html": [
       "<div>                            <div id=\"66ad94bb-de7a-41f0-b44b-1f0c5f54dae3\" class=\"plotly-graph-div\" style=\"height:525px; width:100%;\"></div>            <script type=\"text/javascript\">                require([\"plotly\"], function(Plotly) {                    window.PLOTLYENV=window.PLOTLYENV || {};                                    if (document.getElementById(\"66ad94bb-de7a-41f0-b44b-1f0c5f54dae3\")) {                    Plotly.newPlot(                        \"66ad94bb-de7a-41f0-b44b-1f0c5f54dae3\",                        [{\"type\": \"bar\", \"x\": [\"News & Magazines\", \"Finance\", \"Education\", \"Entertainment\", \"Maps & Navigation\", \"Sports\", \"Lifestyle\", \"Travel & Local\", \"Shopping\", \"Medical\", \"Social\", \"Music & Audio\", \"Parenting\", \"Photography\", \"Video Players & Editors\", \"Food & Drink\", \"Productivity\", \"Business\", \"Personalization\", \"Communication\", \"Auto & Vehicles\", \"Art & Design\", \"Books & Reference\", \"Trivia\", \"Events\", \"Casual\", \"Word\", \"Casino\", \"Card\", \"Board\", \"Beauty\", \"Arcade\", \"Adventure\", \"Comics\", \"Libraries & Demo\", \"Dating\", \"Educational\", \"Health & Fitness\", \"House & Home\", \"Weather\", \"Music\", \"Puzzle\", \"Racing\", \"Role Playing\", \"Simulation\", \"Strategy\", \"Tools\", \"Action\"], \"y\": [13, 11, 11, 10, 9, 9, 7, 6, 6, 5, 5, 4, 4, 3, 3, 2, 2, 2, 1, 1, 1, 1, 1, 1, 1, 0, 0, 0, 0, 0, 0, 0, 0, 0, 0, 0, 0, 0, 0, 0, 0, 0, 0, 0, 0, 0, 0, 0]}],                        {\"font\": {\"color\": \"RebeccaPurple\", \"family\": \"Courier New, monospace\", \"size\": 14}, \"template\": {\"data\": {\"bar\": [{\"error_x\": {\"color\": \"#2a3f5f\"}, \"error_y\": {\"color\": \"#2a3f5f\"}, \"marker\": {\"line\": {\"color\": \"#E5ECF6\", \"width\": 0.5}}, \"type\": \"bar\"}], \"barpolar\": [{\"marker\": {\"line\": {\"color\": \"#E5ECF6\", \"width\": 0.5}}, \"type\": \"barpolar\"}], \"carpet\": [{\"aaxis\": {\"endlinecolor\": \"#2a3f5f\", \"gridcolor\": \"white\", \"linecolor\": \"white\", \"minorgridcolor\": \"white\", \"startlinecolor\": \"#2a3f5f\"}, \"baxis\": {\"endlinecolor\": \"#2a3f5f\", \"gridcolor\": \"white\", \"linecolor\": \"white\", \"minorgridcolor\": \"white\", \"startlinecolor\": \"#2a3f5f\"}, \"type\": \"carpet\"}], \"choropleth\": [{\"colorbar\": {\"outlinewidth\": 0, \"ticks\": \"\"}, \"type\": \"choropleth\"}], \"contour\": [{\"colorbar\": {\"outlinewidth\": 0, \"ticks\": \"\"}, \"colorscale\": [[0.0, \"#0d0887\"], [0.1111111111111111, \"#46039f\"], [0.2222222222222222, \"#7201a8\"], [0.3333333333333333, \"#9c179e\"], [0.4444444444444444, \"#bd3786\"], [0.5555555555555556, \"#d8576b\"], [0.6666666666666666, \"#ed7953\"], [0.7777777777777778, \"#fb9f3a\"], [0.8888888888888888, \"#fdca26\"], [1.0, \"#f0f921\"]], \"type\": \"contour\"}], \"contourcarpet\": [{\"colorbar\": {\"outlinewidth\": 0, \"ticks\": \"\"}, \"type\": \"contourcarpet\"}], \"heatmap\": [{\"colorbar\": {\"outlinewidth\": 0, \"ticks\": \"\"}, \"colorscale\": [[0.0, \"#0d0887\"], [0.1111111111111111, \"#46039f\"], [0.2222222222222222, \"#7201a8\"], [0.3333333333333333, \"#9c179e\"], [0.4444444444444444, \"#bd3786\"], [0.5555555555555556, \"#d8576b\"], [0.6666666666666666, \"#ed7953\"], [0.7777777777777778, \"#fb9f3a\"], [0.8888888888888888, \"#fdca26\"], [1.0, \"#f0f921\"]], \"type\": \"heatmap\"}], \"heatmapgl\": [{\"colorbar\": {\"outlinewidth\": 0, \"ticks\": \"\"}, \"colorscale\": [[0.0, \"#0d0887\"], [0.1111111111111111, \"#46039f\"], [0.2222222222222222, \"#7201a8\"], [0.3333333333333333, \"#9c179e\"], [0.4444444444444444, \"#bd3786\"], [0.5555555555555556, \"#d8576b\"], [0.6666666666666666, \"#ed7953\"], [0.7777777777777778, \"#fb9f3a\"], [0.8888888888888888, \"#fdca26\"], [1.0, \"#f0f921\"]], \"type\": \"heatmapgl\"}], \"histogram\": [{\"marker\": {\"colorbar\": {\"outlinewidth\": 0, \"ticks\": \"\"}}, \"type\": \"histogram\"}], \"histogram2d\": [{\"colorbar\": {\"outlinewidth\": 0, \"ticks\": \"\"}, \"colorscale\": [[0.0, \"#0d0887\"], [0.1111111111111111, \"#46039f\"], [0.2222222222222222, \"#7201a8\"], [0.3333333333333333, \"#9c179e\"], [0.4444444444444444, \"#bd3786\"], [0.5555555555555556, \"#d8576b\"], [0.6666666666666666, \"#ed7953\"], [0.7777777777777778, \"#fb9f3a\"], [0.8888888888888888, \"#fdca26\"], [1.0, \"#f0f921\"]], \"type\": \"histogram2d\"}], \"histogram2dcontour\": [{\"colorbar\": {\"outlinewidth\": 0, \"ticks\": \"\"}, \"colorscale\": [[0.0, \"#0d0887\"], [0.1111111111111111, \"#46039f\"], [0.2222222222222222, \"#7201a8\"], [0.3333333333333333, \"#9c179e\"], [0.4444444444444444, \"#bd3786\"], [0.5555555555555556, \"#d8576b\"], [0.6666666666666666, \"#ed7953\"], [0.7777777777777778, \"#fb9f3a\"], [0.8888888888888888, \"#fdca26\"], [1.0, \"#f0f921\"]], \"type\": \"histogram2dcontour\"}], \"mesh3d\": [{\"colorbar\": {\"outlinewidth\": 0, \"ticks\": \"\"}, \"type\": \"mesh3d\"}], \"parcoords\": [{\"line\": {\"colorbar\": {\"outlinewidth\": 0, \"ticks\": \"\"}}, \"type\": \"parcoords\"}], \"pie\": [{\"automargin\": true, \"type\": \"pie\"}], \"scatter\": [{\"marker\": {\"colorbar\": {\"outlinewidth\": 0, \"ticks\": \"\"}}, \"type\": \"scatter\"}], \"scatter3d\": [{\"line\": {\"colorbar\": {\"outlinewidth\": 0, \"ticks\": \"\"}}, \"marker\": {\"colorbar\": {\"outlinewidth\": 0, \"ticks\": \"\"}}, \"type\": \"scatter3d\"}], \"scattercarpet\": [{\"marker\": {\"colorbar\": {\"outlinewidth\": 0, \"ticks\": \"\"}}, \"type\": \"scattercarpet\"}], \"scattergeo\": [{\"marker\": {\"colorbar\": {\"outlinewidth\": 0, \"ticks\": \"\"}}, \"type\": \"scattergeo\"}], \"scattergl\": [{\"marker\": {\"colorbar\": {\"outlinewidth\": 0, \"ticks\": \"\"}}, \"type\": \"scattergl\"}], \"scattermapbox\": [{\"marker\": {\"colorbar\": {\"outlinewidth\": 0, \"ticks\": \"\"}}, \"type\": \"scattermapbox\"}], \"scatterpolar\": [{\"marker\": {\"colorbar\": {\"outlinewidth\": 0, \"ticks\": \"\"}}, \"type\": \"scatterpolar\"}], \"scatterpolargl\": [{\"marker\": {\"colorbar\": {\"outlinewidth\": 0, \"ticks\": \"\"}}, \"type\": \"scatterpolargl\"}], \"scatterternary\": [{\"marker\": {\"colorbar\": {\"outlinewidth\": 0, \"ticks\": \"\"}}, \"type\": \"scatterternary\"}], \"surface\": [{\"colorbar\": {\"outlinewidth\": 0, \"ticks\": \"\"}, \"colorscale\": [[0.0, \"#0d0887\"], [0.1111111111111111, \"#46039f\"], [0.2222222222222222, \"#7201a8\"], [0.3333333333333333, \"#9c179e\"], [0.4444444444444444, \"#bd3786\"], [0.5555555555555556, \"#d8576b\"], [0.6666666666666666, \"#ed7953\"], [0.7777777777777778, \"#fb9f3a\"], [0.8888888888888888, \"#fdca26\"], [1.0, \"#f0f921\"]], \"type\": \"surface\"}], \"table\": [{\"cells\": {\"fill\": {\"color\": \"#EBF0F8\"}, \"line\": {\"color\": \"white\"}}, \"header\": {\"fill\": {\"color\": \"#C8D4E3\"}, \"line\": {\"color\": \"white\"}}, \"type\": \"table\"}]}, \"layout\": {\"annotationdefaults\": {\"arrowcolor\": \"#2a3f5f\", \"arrowhead\": 0, \"arrowwidth\": 1}, \"coloraxis\": {\"colorbar\": {\"outlinewidth\": 0, \"ticks\": \"\"}}, \"colorscale\": {\"diverging\": [[0, \"#8e0152\"], [0.1, \"#c51b7d\"], [0.2, \"#de77ae\"], [0.3, \"#f1b6da\"], [0.4, \"#fde0ef\"], [0.5, \"#f7f7f7\"], [0.6, \"#e6f5d0\"], [0.7, \"#b8e186\"], [0.8, \"#7fbc41\"], [0.9, \"#4d9221\"], [1, \"#276419\"]], \"sequential\": [[0.0, \"#0d0887\"], [0.1111111111111111, \"#46039f\"], [0.2222222222222222, \"#7201a8\"], [0.3333333333333333, \"#9c179e\"], [0.4444444444444444, \"#bd3786\"], [0.5555555555555556, \"#d8576b\"], [0.6666666666666666, \"#ed7953\"], [0.7777777777777778, \"#fb9f3a\"], [0.8888888888888888, \"#fdca26\"], [1.0, \"#f0f921\"]], \"sequentialminus\": [[0.0, \"#0d0887\"], [0.1111111111111111, \"#46039f\"], [0.2222222222222222, \"#7201a8\"], [0.3333333333333333, \"#9c179e\"], [0.4444444444444444, \"#bd3786\"], [0.5555555555555556, \"#d8576b\"], [0.6666666666666666, \"#ed7953\"], [0.7777777777777778, \"#fb9f3a\"], [0.8888888888888888, \"#fdca26\"], [1.0, \"#f0f921\"]]}, \"colorway\": [\"#636efa\", \"#EF553B\", \"#00cc96\", \"#ab63fa\", \"#FFA15A\", \"#19d3f3\", \"#FF6692\", \"#B6E880\", \"#FF97FF\", \"#FECB52\"], \"font\": {\"color\": \"#2a3f5f\"}, \"geo\": {\"bgcolor\": \"white\", \"lakecolor\": \"white\", \"landcolor\": \"#E5ECF6\", \"showlakes\": true, \"showland\": true, \"subunitcolor\": \"white\"}, \"hoverlabel\": {\"align\": \"left\"}, \"hovermode\": \"closest\", \"mapbox\": {\"style\": \"light\"}, \"paper_bgcolor\": \"white\", \"plot_bgcolor\": \"#E5ECF6\", \"polar\": {\"angularaxis\": {\"gridcolor\": \"white\", \"linecolor\": \"white\", \"ticks\": \"\"}, \"bgcolor\": \"#E5ECF6\", \"radialaxis\": {\"gridcolor\": \"white\", \"linecolor\": \"white\", \"ticks\": \"\"}}, \"scene\": {\"xaxis\": {\"backgroundcolor\": \"#E5ECF6\", \"gridcolor\": \"white\", \"gridwidth\": 2, \"linecolor\": \"white\", \"showbackground\": true, \"ticks\": \"\", \"zerolinecolor\": \"white\"}, \"yaxis\": {\"backgroundcolor\": \"#E5ECF6\", \"gridcolor\": \"white\", \"gridwidth\": 2, \"linecolor\": \"white\", \"showbackground\": true, \"ticks\": \"\", \"zerolinecolor\": \"white\"}, \"zaxis\": {\"backgroundcolor\": \"#E5ECF6\", \"gridcolor\": \"white\", \"gridwidth\": 2, \"linecolor\": \"white\", \"showbackground\": true, \"ticks\": \"\", \"zerolinecolor\": \"white\"}}, \"shapedefaults\": {\"line\": {\"color\": \"#2a3f5f\"}}, \"ternary\": {\"aaxis\": {\"gridcolor\": \"white\", \"linecolor\": \"white\", \"ticks\": \"\"}, \"baxis\": {\"gridcolor\": \"white\", \"linecolor\": \"white\", \"ticks\": \"\"}, \"bgcolor\": \"#E5ECF6\", \"caxis\": {\"gridcolor\": \"white\", \"linecolor\": \"white\", \"ticks\": \"\"}}, \"title\": {\"x\": 0.05}, \"xaxis\": {\"automargin\": true, \"gridcolor\": \"white\", \"linecolor\": \"white\", \"ticks\": \"\", \"title\": {\"standoff\": 15}, \"zerolinecolor\": \"white\", \"zerolinewidth\": 2}, \"yaxis\": {\"automargin\": true, \"gridcolor\": \"white\", \"linecolor\": \"white\", \"ticks\": \"\", \"title\": {\"standoff\": 15}, \"zerolinecolor\": \"white\", \"zerolinewidth\": 2}}}, \"title\": {\"text\": \"Low rating app\"}, \"xaxis\": {\"title\": {\"text\": \"Category\"}}, \"yaxis\": {\"title\": {\"text\": \"Number of Low Reviews app\"}}},                        {\"responsive\": true}                    ).then(function(){\n",
       "                            \n",
       "var gd = document.getElementById('66ad94bb-de7a-41f0-b44b-1f0c5f54dae3');\n",
       "var x = new MutationObserver(function (mutations, observer) {{\n",
       "        var display = window.getComputedStyle(gd).display;\n",
       "        if (!display || display === 'none') {{\n",
       "            console.log([gd, 'removed!']);\n",
       "            Plotly.purge(gd);\n",
       "            observer.disconnect();\n",
       "        }}\n",
       "}});\n",
       "\n",
       "// Listen for the removal of the full notebook cells\n",
       "var notebookContainer = gd.closest('#notebook-container');\n",
       "if (notebookContainer) {{\n",
       "    x.observe(notebookContainer, {childList: true});\n",
       "}}\n",
       "\n",
       "// Listen for the clearing of the current output cell\n",
       "var outputEl = gd.closest('.output');\n",
       "if (outputEl) {{\n",
       "    x.observe(outputEl, {childList: true});\n",
       "}}\n",
       "\n",
       "                        })                };                });            </script>        </div>"
      ]
     },
     "metadata": {},
     "output_type": "display_data"
    }
   ],
   "source": [
    "app_free = low_rating_app['category'].value_counts()\n",
    "data = [go.Bar(\n",
    "        x=app_free.index,\n",
    "        y=app_free.values\n",
    ")]\n",
    "\n",
    "layout = go.Layout(\n",
    "    title=\"Low rating app\",\n",
    "    xaxis_title=\"Category\",\n",
    "    yaxis_title=\"Number of Low Reviews app\",\n",
    "    font=dict(\n",
    "        family=\"Courier New, monospace\",\n",
    "        size=14,\n",
    "        color=\"RebeccaPurple\"\n",
    "    )\n",
    ") \n",
    "\n",
    "fig = go.Figure(data=data, layout=layout)\n",
    "\n",
    "plotly.offline.iplot(fig, filename='app_category')"
   ]
  },
  {
   "cell_type": "markdown",
   "metadata": {},
   "source": [
    "Quan sát thấy các ứng dụng thuộc thể loại **News & Magazines** có xếp hạng thấp."
   ]
  },
  {
   "cell_type": "code",
   "execution_count": 47,
   "metadata": {},
   "outputs": [
    {
     "data": {
      "text/plain": [
       "10870    Obozrevatel: Ukrainian & world news. Online radio\n",
       "10951                                              KATWARN\n",
       "10960                          NINA - Die Warn-App des BBK\n",
       "10980                      Keskisuomalainen – päivän lehti\n",
       "11005    כאן תאגיד השידור הישראלי |  דיגיטל, רדיו וטלוו...\n",
       "11038                               Challenges le magazine\n",
       "11040                                Sydsvenskan E-tidning\n",
       "11056                                    The Week magazine\n",
       "11064                                                TEMPO\n",
       "11065                                 The Week Magazine US\n",
       "11072                                                 VEJA\n",
       "11077          BBC History Magazine - International Topics\n",
       "11121      Asianet News Official: Latest News, Live TV App\n",
       "Name: title, dtype: object"
      ]
     },
     "execution_count": 47,
     "metadata": {},
     "output_type": "execute_result"
    }
   ],
   "source": [
    "low_rating_app[low_rating_app['category'] == 'News & Magazines']['title']"
   ]
  },
  {
   "cell_type": "code",
   "execution_count": 48,
   "metadata": {},
   "outputs": [
    {
     "data": {
      "application/vnd.plotly.v1+json": {
       "config": {
        "linkText": "Export to plot.ly",
        "plotlyServerURL": "https://plot.ly",
        "showLink": false
       },
       "data": [
        {
         "labels": [
          "Rated for 3+",
          "Rated for 12+"
         ],
         "textinfo": "label+percent",
         "type": "pie",
         "values": [
          107,
          12
         ]
        }
       ],
       "layout": {
        "font": {
         "color": "RebeccaPurple",
         "family": "Courier New, monospace",
         "size": 14
        },
        "template": {
         "data": {
          "bar": [
           {
            "error_x": {
             "color": "#2a3f5f"
            },
            "error_y": {
             "color": "#2a3f5f"
            },
            "marker": {
             "line": {
              "color": "#E5ECF6",
              "width": 0.5
             }
            },
            "type": "bar"
           }
          ],
          "barpolar": [
           {
            "marker": {
             "line": {
              "color": "#E5ECF6",
              "width": 0.5
             }
            },
            "type": "barpolar"
           }
          ],
          "carpet": [
           {
            "aaxis": {
             "endlinecolor": "#2a3f5f",
             "gridcolor": "white",
             "linecolor": "white",
             "minorgridcolor": "white",
             "startlinecolor": "#2a3f5f"
            },
            "baxis": {
             "endlinecolor": "#2a3f5f",
             "gridcolor": "white",
             "linecolor": "white",
             "minorgridcolor": "white",
             "startlinecolor": "#2a3f5f"
            },
            "type": "carpet"
           }
          ],
          "choropleth": [
           {
            "colorbar": {
             "outlinewidth": 0,
             "ticks": ""
            },
            "type": "choropleth"
           }
          ],
          "contour": [
           {
            "colorbar": {
             "outlinewidth": 0,
             "ticks": ""
            },
            "colorscale": [
             [
              0,
              "#0d0887"
             ],
             [
              0.1111111111111111,
              "#46039f"
             ],
             [
              0.2222222222222222,
              "#7201a8"
             ],
             [
              0.3333333333333333,
              "#9c179e"
             ],
             [
              0.4444444444444444,
              "#bd3786"
             ],
             [
              0.5555555555555556,
              "#d8576b"
             ],
             [
              0.6666666666666666,
              "#ed7953"
             ],
             [
              0.7777777777777778,
              "#fb9f3a"
             ],
             [
              0.8888888888888888,
              "#fdca26"
             ],
             [
              1,
              "#f0f921"
             ]
            ],
            "type": "contour"
           }
          ],
          "contourcarpet": [
           {
            "colorbar": {
             "outlinewidth": 0,
             "ticks": ""
            },
            "type": "contourcarpet"
           }
          ],
          "heatmap": [
           {
            "colorbar": {
             "outlinewidth": 0,
             "ticks": ""
            },
            "colorscale": [
             [
              0,
              "#0d0887"
             ],
             [
              0.1111111111111111,
              "#46039f"
             ],
             [
              0.2222222222222222,
              "#7201a8"
             ],
             [
              0.3333333333333333,
              "#9c179e"
             ],
             [
              0.4444444444444444,
              "#bd3786"
             ],
             [
              0.5555555555555556,
              "#d8576b"
             ],
             [
              0.6666666666666666,
              "#ed7953"
             ],
             [
              0.7777777777777778,
              "#fb9f3a"
             ],
             [
              0.8888888888888888,
              "#fdca26"
             ],
             [
              1,
              "#f0f921"
             ]
            ],
            "type": "heatmap"
           }
          ],
          "heatmapgl": [
           {
            "colorbar": {
             "outlinewidth": 0,
             "ticks": ""
            },
            "colorscale": [
             [
              0,
              "#0d0887"
             ],
             [
              0.1111111111111111,
              "#46039f"
             ],
             [
              0.2222222222222222,
              "#7201a8"
             ],
             [
              0.3333333333333333,
              "#9c179e"
             ],
             [
              0.4444444444444444,
              "#bd3786"
             ],
             [
              0.5555555555555556,
              "#d8576b"
             ],
             [
              0.6666666666666666,
              "#ed7953"
             ],
             [
              0.7777777777777778,
              "#fb9f3a"
             ],
             [
              0.8888888888888888,
              "#fdca26"
             ],
             [
              1,
              "#f0f921"
             ]
            ],
            "type": "heatmapgl"
           }
          ],
          "histogram": [
           {
            "marker": {
             "colorbar": {
              "outlinewidth": 0,
              "ticks": ""
             }
            },
            "type": "histogram"
           }
          ],
          "histogram2d": [
           {
            "colorbar": {
             "outlinewidth": 0,
             "ticks": ""
            },
            "colorscale": [
             [
              0,
              "#0d0887"
             ],
             [
              0.1111111111111111,
              "#46039f"
             ],
             [
              0.2222222222222222,
              "#7201a8"
             ],
             [
              0.3333333333333333,
              "#9c179e"
             ],
             [
              0.4444444444444444,
              "#bd3786"
             ],
             [
              0.5555555555555556,
              "#d8576b"
             ],
             [
              0.6666666666666666,
              "#ed7953"
             ],
             [
              0.7777777777777778,
              "#fb9f3a"
             ],
             [
              0.8888888888888888,
              "#fdca26"
             ],
             [
              1,
              "#f0f921"
             ]
            ],
            "type": "histogram2d"
           }
          ],
          "histogram2dcontour": [
           {
            "colorbar": {
             "outlinewidth": 0,
             "ticks": ""
            },
            "colorscale": [
             [
              0,
              "#0d0887"
             ],
             [
              0.1111111111111111,
              "#46039f"
             ],
             [
              0.2222222222222222,
              "#7201a8"
             ],
             [
              0.3333333333333333,
              "#9c179e"
             ],
             [
              0.4444444444444444,
              "#bd3786"
             ],
             [
              0.5555555555555556,
              "#d8576b"
             ],
             [
              0.6666666666666666,
              "#ed7953"
             ],
             [
              0.7777777777777778,
              "#fb9f3a"
             ],
             [
              0.8888888888888888,
              "#fdca26"
             ],
             [
              1,
              "#f0f921"
             ]
            ],
            "type": "histogram2dcontour"
           }
          ],
          "mesh3d": [
           {
            "colorbar": {
             "outlinewidth": 0,
             "ticks": ""
            },
            "type": "mesh3d"
           }
          ],
          "parcoords": [
           {
            "line": {
             "colorbar": {
              "outlinewidth": 0,
              "ticks": ""
             }
            },
            "type": "parcoords"
           }
          ],
          "pie": [
           {
            "automargin": true,
            "type": "pie"
           }
          ],
          "scatter": [
           {
            "marker": {
             "colorbar": {
              "outlinewidth": 0,
              "ticks": ""
             }
            },
            "type": "scatter"
           }
          ],
          "scatter3d": [
           {
            "line": {
             "colorbar": {
              "outlinewidth": 0,
              "ticks": ""
             }
            },
            "marker": {
             "colorbar": {
              "outlinewidth": 0,
              "ticks": ""
             }
            },
            "type": "scatter3d"
           }
          ],
          "scattercarpet": [
           {
            "marker": {
             "colorbar": {
              "outlinewidth": 0,
              "ticks": ""
             }
            },
            "type": "scattercarpet"
           }
          ],
          "scattergeo": [
           {
            "marker": {
             "colorbar": {
              "outlinewidth": 0,
              "ticks": ""
             }
            },
            "type": "scattergeo"
           }
          ],
          "scattergl": [
           {
            "marker": {
             "colorbar": {
              "outlinewidth": 0,
              "ticks": ""
             }
            },
            "type": "scattergl"
           }
          ],
          "scattermapbox": [
           {
            "marker": {
             "colorbar": {
              "outlinewidth": 0,
              "ticks": ""
             }
            },
            "type": "scattermapbox"
           }
          ],
          "scatterpolar": [
           {
            "marker": {
             "colorbar": {
              "outlinewidth": 0,
              "ticks": ""
             }
            },
            "type": "scatterpolar"
           }
          ],
          "scatterpolargl": [
           {
            "marker": {
             "colorbar": {
              "outlinewidth": 0,
              "ticks": ""
             }
            },
            "type": "scatterpolargl"
           }
          ],
          "scatterternary": [
           {
            "marker": {
             "colorbar": {
              "outlinewidth": 0,
              "ticks": ""
             }
            },
            "type": "scatterternary"
           }
          ],
          "surface": [
           {
            "colorbar": {
             "outlinewidth": 0,
             "ticks": ""
            },
            "colorscale": [
             [
              0,
              "#0d0887"
             ],
             [
              0.1111111111111111,
              "#46039f"
             ],
             [
              0.2222222222222222,
              "#7201a8"
             ],
             [
              0.3333333333333333,
              "#9c179e"
             ],
             [
              0.4444444444444444,
              "#bd3786"
             ],
             [
              0.5555555555555556,
              "#d8576b"
             ],
             [
              0.6666666666666666,
              "#ed7953"
             ],
             [
              0.7777777777777778,
              "#fb9f3a"
             ],
             [
              0.8888888888888888,
              "#fdca26"
             ],
             [
              1,
              "#f0f921"
             ]
            ],
            "type": "surface"
           }
          ],
          "table": [
           {
            "cells": {
             "fill": {
              "color": "#EBF0F8"
             },
             "line": {
              "color": "white"
             }
            },
            "header": {
             "fill": {
              "color": "#C8D4E3"
             },
             "line": {
              "color": "white"
             }
            },
            "type": "table"
           }
          ]
         },
         "layout": {
          "annotationdefaults": {
           "arrowcolor": "#2a3f5f",
           "arrowhead": 0,
           "arrowwidth": 1
          },
          "coloraxis": {
           "colorbar": {
            "outlinewidth": 0,
            "ticks": ""
           }
          },
          "colorscale": {
           "diverging": [
            [
             0,
             "#8e0152"
            ],
            [
             0.1,
             "#c51b7d"
            ],
            [
             0.2,
             "#de77ae"
            ],
            [
             0.3,
             "#f1b6da"
            ],
            [
             0.4,
             "#fde0ef"
            ],
            [
             0.5,
             "#f7f7f7"
            ],
            [
             0.6,
             "#e6f5d0"
            ],
            [
             0.7,
             "#b8e186"
            ],
            [
             0.8,
             "#7fbc41"
            ],
            [
             0.9,
             "#4d9221"
            ],
            [
             1,
             "#276419"
            ]
           ],
           "sequential": [
            [
             0,
             "#0d0887"
            ],
            [
             0.1111111111111111,
             "#46039f"
            ],
            [
             0.2222222222222222,
             "#7201a8"
            ],
            [
             0.3333333333333333,
             "#9c179e"
            ],
            [
             0.4444444444444444,
             "#bd3786"
            ],
            [
             0.5555555555555556,
             "#d8576b"
            ],
            [
             0.6666666666666666,
             "#ed7953"
            ],
            [
             0.7777777777777778,
             "#fb9f3a"
            ],
            [
             0.8888888888888888,
             "#fdca26"
            ],
            [
             1,
             "#f0f921"
            ]
           ],
           "sequentialminus": [
            [
             0,
             "#0d0887"
            ],
            [
             0.1111111111111111,
             "#46039f"
            ],
            [
             0.2222222222222222,
             "#7201a8"
            ],
            [
             0.3333333333333333,
             "#9c179e"
            ],
            [
             0.4444444444444444,
             "#bd3786"
            ],
            [
             0.5555555555555556,
             "#d8576b"
            ],
            [
             0.6666666666666666,
             "#ed7953"
            ],
            [
             0.7777777777777778,
             "#fb9f3a"
            ],
            [
             0.8888888888888888,
             "#fdca26"
            ],
            [
             1,
             "#f0f921"
            ]
           ]
          },
          "colorway": [
           "#636efa",
           "#EF553B",
           "#00cc96",
           "#ab63fa",
           "#FFA15A",
           "#19d3f3",
           "#FF6692",
           "#B6E880",
           "#FF97FF",
           "#FECB52"
          ],
          "font": {
           "color": "#2a3f5f"
          },
          "geo": {
           "bgcolor": "white",
           "lakecolor": "white",
           "landcolor": "#E5ECF6",
           "showlakes": true,
           "showland": true,
           "subunitcolor": "white"
          },
          "hoverlabel": {
           "align": "left"
          },
          "hovermode": "closest",
          "mapbox": {
           "style": "light"
          },
          "paper_bgcolor": "white",
          "plot_bgcolor": "#E5ECF6",
          "polar": {
           "angularaxis": {
            "gridcolor": "white",
            "linecolor": "white",
            "ticks": ""
           },
           "bgcolor": "#E5ECF6",
           "radialaxis": {
            "gridcolor": "white",
            "linecolor": "white",
            "ticks": ""
           }
          },
          "scene": {
           "xaxis": {
            "backgroundcolor": "#E5ECF6",
            "gridcolor": "white",
            "gridwidth": 2,
            "linecolor": "white",
            "showbackground": true,
            "ticks": "",
            "zerolinecolor": "white"
           },
           "yaxis": {
            "backgroundcolor": "#E5ECF6",
            "gridcolor": "white",
            "gridwidth": 2,
            "linecolor": "white",
            "showbackground": true,
            "ticks": "",
            "zerolinecolor": "white"
           },
           "zaxis": {
            "backgroundcolor": "#E5ECF6",
            "gridcolor": "white",
            "gridwidth": 2,
            "linecolor": "white",
            "showbackground": true,
            "ticks": "",
            "zerolinecolor": "white"
           }
          },
          "shapedefaults": {
           "line": {
            "color": "#2a3f5f"
           }
          },
          "ternary": {
           "aaxis": {
            "gridcolor": "white",
            "linecolor": "white",
            "ticks": ""
           },
           "baxis": {
            "gridcolor": "white",
            "linecolor": "white",
            "ticks": ""
           },
           "bgcolor": "#E5ECF6",
           "caxis": {
            "gridcolor": "white",
            "linecolor": "white",
            "ticks": ""
           }
          },
          "title": {
           "x": 0.05
          },
          "xaxis": {
           "automargin": true,
           "gridcolor": "white",
           "linecolor": "white",
           "ticks": "",
           "title": {
            "standoff": 15
           },
           "zerolinecolor": "white",
           "zerolinewidth": 2
          },
          "yaxis": {
           "automargin": true,
           "gridcolor": "white",
           "linecolor": "white",
           "ticks": "",
           "title": {
            "standoff": 15
           },
           "zerolinecolor": "white",
           "zerolinewidth": 2
          }
         }
        },
        "title": {
         "text": "Low rating app"
        }
       }
      },
      "text/html": [
       "<div>                            <div id=\"58912ed4-64b4-44f4-a527-8f24572990bb\" class=\"plotly-graph-div\" style=\"height:525px; width:100%;\"></div>            <script type=\"text/javascript\">                require([\"plotly\"], function(Plotly) {                    window.PLOTLYENV=window.PLOTLYENV || {};                                    if (document.getElementById(\"58912ed4-64b4-44f4-a527-8f24572990bb\")) {                    Plotly.newPlot(                        \"58912ed4-64b4-44f4-a527-8f24572990bb\",                        [{\"labels\": [\"Rated for 3+\", \"Rated for 12+\"], \"textinfo\": \"label+percent\", \"type\": \"pie\", \"values\": [107, 12]}],                        {\"font\": {\"color\": \"RebeccaPurple\", \"family\": \"Courier New, monospace\", \"size\": 14}, \"template\": {\"data\": {\"bar\": [{\"error_x\": {\"color\": \"#2a3f5f\"}, \"error_y\": {\"color\": \"#2a3f5f\"}, \"marker\": {\"line\": {\"color\": \"#E5ECF6\", \"width\": 0.5}}, \"type\": \"bar\"}], \"barpolar\": [{\"marker\": {\"line\": {\"color\": \"#E5ECF6\", \"width\": 0.5}}, \"type\": \"barpolar\"}], \"carpet\": [{\"aaxis\": {\"endlinecolor\": \"#2a3f5f\", \"gridcolor\": \"white\", \"linecolor\": \"white\", \"minorgridcolor\": \"white\", \"startlinecolor\": \"#2a3f5f\"}, \"baxis\": {\"endlinecolor\": \"#2a3f5f\", \"gridcolor\": \"white\", \"linecolor\": \"white\", \"minorgridcolor\": \"white\", \"startlinecolor\": \"#2a3f5f\"}, \"type\": \"carpet\"}], \"choropleth\": [{\"colorbar\": {\"outlinewidth\": 0, \"ticks\": \"\"}, \"type\": \"choropleth\"}], \"contour\": [{\"colorbar\": {\"outlinewidth\": 0, \"ticks\": \"\"}, \"colorscale\": [[0.0, \"#0d0887\"], [0.1111111111111111, \"#46039f\"], [0.2222222222222222, \"#7201a8\"], [0.3333333333333333, \"#9c179e\"], [0.4444444444444444, \"#bd3786\"], [0.5555555555555556, \"#d8576b\"], [0.6666666666666666, \"#ed7953\"], [0.7777777777777778, \"#fb9f3a\"], [0.8888888888888888, \"#fdca26\"], [1.0, \"#f0f921\"]], \"type\": \"contour\"}], \"contourcarpet\": [{\"colorbar\": {\"outlinewidth\": 0, \"ticks\": \"\"}, \"type\": \"contourcarpet\"}], \"heatmap\": [{\"colorbar\": {\"outlinewidth\": 0, \"ticks\": \"\"}, \"colorscale\": [[0.0, \"#0d0887\"], [0.1111111111111111, \"#46039f\"], [0.2222222222222222, \"#7201a8\"], [0.3333333333333333, \"#9c179e\"], [0.4444444444444444, \"#bd3786\"], [0.5555555555555556, \"#d8576b\"], [0.6666666666666666, \"#ed7953\"], [0.7777777777777778, \"#fb9f3a\"], [0.8888888888888888, \"#fdca26\"], [1.0, \"#f0f921\"]], \"type\": \"heatmap\"}], \"heatmapgl\": [{\"colorbar\": {\"outlinewidth\": 0, \"ticks\": \"\"}, \"colorscale\": [[0.0, \"#0d0887\"], [0.1111111111111111, \"#46039f\"], [0.2222222222222222, \"#7201a8\"], [0.3333333333333333, \"#9c179e\"], [0.4444444444444444, \"#bd3786\"], [0.5555555555555556, \"#d8576b\"], [0.6666666666666666, \"#ed7953\"], [0.7777777777777778, \"#fb9f3a\"], [0.8888888888888888, \"#fdca26\"], [1.0, \"#f0f921\"]], \"type\": \"heatmapgl\"}], \"histogram\": [{\"marker\": {\"colorbar\": {\"outlinewidth\": 0, \"ticks\": \"\"}}, \"type\": \"histogram\"}], \"histogram2d\": [{\"colorbar\": {\"outlinewidth\": 0, \"ticks\": \"\"}, \"colorscale\": [[0.0, \"#0d0887\"], [0.1111111111111111, \"#46039f\"], [0.2222222222222222, \"#7201a8\"], [0.3333333333333333, \"#9c179e\"], [0.4444444444444444, \"#bd3786\"], [0.5555555555555556, \"#d8576b\"], [0.6666666666666666, \"#ed7953\"], [0.7777777777777778, \"#fb9f3a\"], [0.8888888888888888, \"#fdca26\"], [1.0, \"#f0f921\"]], \"type\": \"histogram2d\"}], \"histogram2dcontour\": [{\"colorbar\": {\"outlinewidth\": 0, \"ticks\": \"\"}, \"colorscale\": [[0.0, \"#0d0887\"], [0.1111111111111111, \"#46039f\"], [0.2222222222222222, \"#7201a8\"], [0.3333333333333333, \"#9c179e\"], [0.4444444444444444, \"#bd3786\"], [0.5555555555555556, \"#d8576b\"], [0.6666666666666666, \"#ed7953\"], [0.7777777777777778, \"#fb9f3a\"], [0.8888888888888888, \"#fdca26\"], [1.0, \"#f0f921\"]], \"type\": \"histogram2dcontour\"}], \"mesh3d\": [{\"colorbar\": {\"outlinewidth\": 0, \"ticks\": \"\"}, \"type\": \"mesh3d\"}], \"parcoords\": [{\"line\": {\"colorbar\": {\"outlinewidth\": 0, \"ticks\": \"\"}}, \"type\": \"parcoords\"}], \"pie\": [{\"automargin\": true, \"type\": \"pie\"}], \"scatter\": [{\"marker\": {\"colorbar\": {\"outlinewidth\": 0, \"ticks\": \"\"}}, \"type\": \"scatter\"}], \"scatter3d\": [{\"line\": {\"colorbar\": {\"outlinewidth\": 0, \"ticks\": \"\"}}, \"marker\": {\"colorbar\": {\"outlinewidth\": 0, \"ticks\": \"\"}}, \"type\": \"scatter3d\"}], \"scattercarpet\": [{\"marker\": {\"colorbar\": {\"outlinewidth\": 0, \"ticks\": \"\"}}, \"type\": \"scattercarpet\"}], \"scattergeo\": [{\"marker\": {\"colorbar\": {\"outlinewidth\": 0, \"ticks\": \"\"}}, \"type\": \"scattergeo\"}], \"scattergl\": [{\"marker\": {\"colorbar\": {\"outlinewidth\": 0, \"ticks\": \"\"}}, \"type\": \"scattergl\"}], \"scattermapbox\": [{\"marker\": {\"colorbar\": {\"outlinewidth\": 0, \"ticks\": \"\"}}, \"type\": \"scattermapbox\"}], \"scatterpolar\": [{\"marker\": {\"colorbar\": {\"outlinewidth\": 0, \"ticks\": \"\"}}, \"type\": \"scatterpolar\"}], \"scatterpolargl\": [{\"marker\": {\"colorbar\": {\"outlinewidth\": 0, \"ticks\": \"\"}}, \"type\": \"scatterpolargl\"}], \"scatterternary\": [{\"marker\": {\"colorbar\": {\"outlinewidth\": 0, \"ticks\": \"\"}}, \"type\": \"scatterternary\"}], \"surface\": [{\"colorbar\": {\"outlinewidth\": 0, \"ticks\": \"\"}, \"colorscale\": [[0.0, \"#0d0887\"], [0.1111111111111111, \"#46039f\"], [0.2222222222222222, \"#7201a8\"], [0.3333333333333333, \"#9c179e\"], [0.4444444444444444, \"#bd3786\"], [0.5555555555555556, \"#d8576b\"], [0.6666666666666666, \"#ed7953\"], [0.7777777777777778, \"#fb9f3a\"], [0.8888888888888888, \"#fdca26\"], [1.0, \"#f0f921\"]], \"type\": \"surface\"}], \"table\": [{\"cells\": {\"fill\": {\"color\": \"#EBF0F8\"}, \"line\": {\"color\": \"white\"}}, \"header\": {\"fill\": {\"color\": \"#C8D4E3\"}, \"line\": {\"color\": \"white\"}}, \"type\": \"table\"}]}, \"layout\": {\"annotationdefaults\": {\"arrowcolor\": \"#2a3f5f\", \"arrowhead\": 0, \"arrowwidth\": 1}, \"coloraxis\": {\"colorbar\": {\"outlinewidth\": 0, \"ticks\": \"\"}}, \"colorscale\": {\"diverging\": [[0, \"#8e0152\"], [0.1, \"#c51b7d\"], [0.2, \"#de77ae\"], [0.3, \"#f1b6da\"], [0.4, \"#fde0ef\"], [0.5, \"#f7f7f7\"], [0.6, \"#e6f5d0\"], [0.7, \"#b8e186\"], [0.8, \"#7fbc41\"], [0.9, \"#4d9221\"], [1, \"#276419\"]], \"sequential\": [[0.0, \"#0d0887\"], [0.1111111111111111, \"#46039f\"], [0.2222222222222222, \"#7201a8\"], [0.3333333333333333, \"#9c179e\"], [0.4444444444444444, \"#bd3786\"], [0.5555555555555556, \"#d8576b\"], [0.6666666666666666, \"#ed7953\"], [0.7777777777777778, \"#fb9f3a\"], [0.8888888888888888, \"#fdca26\"], [1.0, \"#f0f921\"]], \"sequentialminus\": [[0.0, \"#0d0887\"], [0.1111111111111111, \"#46039f\"], [0.2222222222222222, \"#7201a8\"], [0.3333333333333333, \"#9c179e\"], [0.4444444444444444, \"#bd3786\"], [0.5555555555555556, \"#d8576b\"], [0.6666666666666666, \"#ed7953\"], [0.7777777777777778, \"#fb9f3a\"], [0.8888888888888888, \"#fdca26\"], [1.0, \"#f0f921\"]]}, \"colorway\": [\"#636efa\", \"#EF553B\", \"#00cc96\", \"#ab63fa\", \"#FFA15A\", \"#19d3f3\", \"#FF6692\", \"#B6E880\", \"#FF97FF\", \"#FECB52\"], \"font\": {\"color\": \"#2a3f5f\"}, \"geo\": {\"bgcolor\": \"white\", \"lakecolor\": \"white\", \"landcolor\": \"#E5ECF6\", \"showlakes\": true, \"showland\": true, \"subunitcolor\": \"white\"}, \"hoverlabel\": {\"align\": \"left\"}, \"hovermode\": \"closest\", \"mapbox\": {\"style\": \"light\"}, \"paper_bgcolor\": \"white\", \"plot_bgcolor\": \"#E5ECF6\", \"polar\": {\"angularaxis\": {\"gridcolor\": \"white\", \"linecolor\": \"white\", \"ticks\": \"\"}, \"bgcolor\": \"#E5ECF6\", \"radialaxis\": {\"gridcolor\": \"white\", \"linecolor\": \"white\", \"ticks\": \"\"}}, \"scene\": {\"xaxis\": {\"backgroundcolor\": \"#E5ECF6\", \"gridcolor\": \"white\", \"gridwidth\": 2, \"linecolor\": \"white\", \"showbackground\": true, \"ticks\": \"\", \"zerolinecolor\": \"white\"}, \"yaxis\": {\"backgroundcolor\": \"#E5ECF6\", \"gridcolor\": \"white\", \"gridwidth\": 2, \"linecolor\": \"white\", \"showbackground\": true, \"ticks\": \"\", \"zerolinecolor\": \"white\"}, \"zaxis\": {\"backgroundcolor\": \"#E5ECF6\", \"gridcolor\": \"white\", \"gridwidth\": 2, \"linecolor\": \"white\", \"showbackground\": true, \"ticks\": \"\", \"zerolinecolor\": \"white\"}}, \"shapedefaults\": {\"line\": {\"color\": \"#2a3f5f\"}}, \"ternary\": {\"aaxis\": {\"gridcolor\": \"white\", \"linecolor\": \"white\", \"ticks\": \"\"}, \"baxis\": {\"gridcolor\": \"white\", \"linecolor\": \"white\", \"ticks\": \"\"}, \"bgcolor\": \"#E5ECF6\", \"caxis\": {\"gridcolor\": \"white\", \"linecolor\": \"white\", \"ticks\": \"\"}}, \"title\": {\"x\": 0.05}, \"xaxis\": {\"automargin\": true, \"gridcolor\": \"white\", \"linecolor\": \"white\", \"ticks\": \"\", \"title\": {\"standoff\": 15}, \"zerolinecolor\": \"white\", \"zerolinewidth\": 2}, \"yaxis\": {\"automargin\": true, \"gridcolor\": \"white\", \"linecolor\": \"white\", \"ticks\": \"\", \"title\": {\"standoff\": 15}, \"zerolinecolor\": \"white\", \"zerolinewidth\": 2}}}, \"title\": {\"text\": \"Low rating app\"}},                        {\"responsive\": true}                    ).then(function(){\n",
       "                            \n",
       "var gd = document.getElementById('58912ed4-64b4-44f4-a527-8f24572990bb');\n",
       "var x = new MutationObserver(function (mutations, observer) {{\n",
       "        var display = window.getComputedStyle(gd).display;\n",
       "        if (!display || display === 'none') {{\n",
       "            console.log([gd, 'removed!']);\n",
       "            Plotly.purge(gd);\n",
       "            observer.disconnect();\n",
       "        }}\n",
       "}});\n",
       "\n",
       "// Listen for the removal of the full notebook cells\n",
       "var notebookContainer = gd.closest('#notebook-container');\n",
       "if (notebookContainer) {{\n",
       "    x.observe(notebookContainer, {childList: true});\n",
       "}}\n",
       "\n",
       "// Listen for the clearing of the current output cell\n",
       "var outputEl = gd.closest('.output');\n",
       "if (outputEl) {{\n",
       "    x.observe(outputEl, {childList: true});\n",
       "}}\n",
       "\n",
       "                        })                };                });            </script>        </div>"
      ]
     },
     "metadata": {},
     "output_type": "display_data"
    }
   ],
   "source": [
    "app_free = low_rating_app['contentRating'].value_counts()\n",
    "data=[go.Pie(labels=app_free.index,\n",
    "    values=app_free.values,\n",
    "    textinfo = 'label + percent')]\n",
    "\n",
    "layout = go.Layout(\n",
    "    title=\"Low rating app\",\n",
    "    font=dict(\n",
    "        family=\"Courier New, monospace\",\n",
    "        size=14,\n",
    "        color=\"RebeccaPurple\"\n",
    "    )\n",
    ") \n",
    "\n",
    "fig = go.Figure(data=data, layout=layout)\n",
    "\n",
    "plotly.offline.iplot(fig, filename='app_category')\n"
   ]
  },
  {
   "cell_type": "markdown",
   "metadata": {},
   "source": [
    "Gần 90% các ứng dụng dành cho đa số mọi người, phần còn lại với nội dung dành cho người trên 12 tuổi"
   ]
  },
  {
   "cell_type": "code",
   "execution_count": 49,
   "metadata": {},
   "outputs": [
    {
     "data": {
      "application/vnd.plotly.v1+json": {
       "config": {
        "linkText": "Export to plot.ly",
        "plotlyServerURL": "https://plot.ly",
        "showLink": false
       },
       "data": [
        {
         "type": "bar",
         "x": [
          "1000+",
          "5000+",
          "10000+",
          "50000+",
          "100000+",
          "500000+",
          "1000000+",
          "5000000+",
          "10000000+",
          "100000000+"
         ],
         "y": [
          2,
          5,
          14,
          12,
          25,
          17,
          31,
          4,
          8,
          1
         ]
        }
       ],
       "layout": {
        "font": {
         "color": "RebeccaPurple",
         "family": "Courier New, monospace",
         "size": 14
        },
        "template": {
         "data": {
          "bar": [
           {
            "error_x": {
             "color": "#2a3f5f"
            },
            "error_y": {
             "color": "#2a3f5f"
            },
            "marker": {
             "line": {
              "color": "#E5ECF6",
              "width": 0.5
             }
            },
            "type": "bar"
           }
          ],
          "barpolar": [
           {
            "marker": {
             "line": {
              "color": "#E5ECF6",
              "width": 0.5
             }
            },
            "type": "barpolar"
           }
          ],
          "carpet": [
           {
            "aaxis": {
             "endlinecolor": "#2a3f5f",
             "gridcolor": "white",
             "linecolor": "white",
             "minorgridcolor": "white",
             "startlinecolor": "#2a3f5f"
            },
            "baxis": {
             "endlinecolor": "#2a3f5f",
             "gridcolor": "white",
             "linecolor": "white",
             "minorgridcolor": "white",
             "startlinecolor": "#2a3f5f"
            },
            "type": "carpet"
           }
          ],
          "choropleth": [
           {
            "colorbar": {
             "outlinewidth": 0,
             "ticks": ""
            },
            "type": "choropleth"
           }
          ],
          "contour": [
           {
            "colorbar": {
             "outlinewidth": 0,
             "ticks": ""
            },
            "colorscale": [
             [
              0,
              "#0d0887"
             ],
             [
              0.1111111111111111,
              "#46039f"
             ],
             [
              0.2222222222222222,
              "#7201a8"
             ],
             [
              0.3333333333333333,
              "#9c179e"
             ],
             [
              0.4444444444444444,
              "#bd3786"
             ],
             [
              0.5555555555555556,
              "#d8576b"
             ],
             [
              0.6666666666666666,
              "#ed7953"
             ],
             [
              0.7777777777777778,
              "#fb9f3a"
             ],
             [
              0.8888888888888888,
              "#fdca26"
             ],
             [
              1,
              "#f0f921"
             ]
            ],
            "type": "contour"
           }
          ],
          "contourcarpet": [
           {
            "colorbar": {
             "outlinewidth": 0,
             "ticks": ""
            },
            "type": "contourcarpet"
           }
          ],
          "heatmap": [
           {
            "colorbar": {
             "outlinewidth": 0,
             "ticks": ""
            },
            "colorscale": [
             [
              0,
              "#0d0887"
             ],
             [
              0.1111111111111111,
              "#46039f"
             ],
             [
              0.2222222222222222,
              "#7201a8"
             ],
             [
              0.3333333333333333,
              "#9c179e"
             ],
             [
              0.4444444444444444,
              "#bd3786"
             ],
             [
              0.5555555555555556,
              "#d8576b"
             ],
             [
              0.6666666666666666,
              "#ed7953"
             ],
             [
              0.7777777777777778,
              "#fb9f3a"
             ],
             [
              0.8888888888888888,
              "#fdca26"
             ],
             [
              1,
              "#f0f921"
             ]
            ],
            "type": "heatmap"
           }
          ],
          "heatmapgl": [
           {
            "colorbar": {
             "outlinewidth": 0,
             "ticks": ""
            },
            "colorscale": [
             [
              0,
              "#0d0887"
             ],
             [
              0.1111111111111111,
              "#46039f"
             ],
             [
              0.2222222222222222,
              "#7201a8"
             ],
             [
              0.3333333333333333,
              "#9c179e"
             ],
             [
              0.4444444444444444,
              "#bd3786"
             ],
             [
              0.5555555555555556,
              "#d8576b"
             ],
             [
              0.6666666666666666,
              "#ed7953"
             ],
             [
              0.7777777777777778,
              "#fb9f3a"
             ],
             [
              0.8888888888888888,
              "#fdca26"
             ],
             [
              1,
              "#f0f921"
             ]
            ],
            "type": "heatmapgl"
           }
          ],
          "histogram": [
           {
            "marker": {
             "colorbar": {
              "outlinewidth": 0,
              "ticks": ""
             }
            },
            "type": "histogram"
           }
          ],
          "histogram2d": [
           {
            "colorbar": {
             "outlinewidth": 0,
             "ticks": ""
            },
            "colorscale": [
             [
              0,
              "#0d0887"
             ],
             [
              0.1111111111111111,
              "#46039f"
             ],
             [
              0.2222222222222222,
              "#7201a8"
             ],
             [
              0.3333333333333333,
              "#9c179e"
             ],
             [
              0.4444444444444444,
              "#bd3786"
             ],
             [
              0.5555555555555556,
              "#d8576b"
             ],
             [
              0.6666666666666666,
              "#ed7953"
             ],
             [
              0.7777777777777778,
              "#fb9f3a"
             ],
             [
              0.8888888888888888,
              "#fdca26"
             ],
             [
              1,
              "#f0f921"
             ]
            ],
            "type": "histogram2d"
           }
          ],
          "histogram2dcontour": [
           {
            "colorbar": {
             "outlinewidth": 0,
             "ticks": ""
            },
            "colorscale": [
             [
              0,
              "#0d0887"
             ],
             [
              0.1111111111111111,
              "#46039f"
             ],
             [
              0.2222222222222222,
              "#7201a8"
             ],
             [
              0.3333333333333333,
              "#9c179e"
             ],
             [
              0.4444444444444444,
              "#bd3786"
             ],
             [
              0.5555555555555556,
              "#d8576b"
             ],
             [
              0.6666666666666666,
              "#ed7953"
             ],
             [
              0.7777777777777778,
              "#fb9f3a"
             ],
             [
              0.8888888888888888,
              "#fdca26"
             ],
             [
              1,
              "#f0f921"
             ]
            ],
            "type": "histogram2dcontour"
           }
          ],
          "mesh3d": [
           {
            "colorbar": {
             "outlinewidth": 0,
             "ticks": ""
            },
            "type": "mesh3d"
           }
          ],
          "parcoords": [
           {
            "line": {
             "colorbar": {
              "outlinewidth": 0,
              "ticks": ""
             }
            },
            "type": "parcoords"
           }
          ],
          "pie": [
           {
            "automargin": true,
            "type": "pie"
           }
          ],
          "scatter": [
           {
            "marker": {
             "colorbar": {
              "outlinewidth": 0,
              "ticks": ""
             }
            },
            "type": "scatter"
           }
          ],
          "scatter3d": [
           {
            "line": {
             "colorbar": {
              "outlinewidth": 0,
              "ticks": ""
             }
            },
            "marker": {
             "colorbar": {
              "outlinewidth": 0,
              "ticks": ""
             }
            },
            "type": "scatter3d"
           }
          ],
          "scattercarpet": [
           {
            "marker": {
             "colorbar": {
              "outlinewidth": 0,
              "ticks": ""
             }
            },
            "type": "scattercarpet"
           }
          ],
          "scattergeo": [
           {
            "marker": {
             "colorbar": {
              "outlinewidth": 0,
              "ticks": ""
             }
            },
            "type": "scattergeo"
           }
          ],
          "scattergl": [
           {
            "marker": {
             "colorbar": {
              "outlinewidth": 0,
              "ticks": ""
             }
            },
            "type": "scattergl"
           }
          ],
          "scattermapbox": [
           {
            "marker": {
             "colorbar": {
              "outlinewidth": 0,
              "ticks": ""
             }
            },
            "type": "scattermapbox"
           }
          ],
          "scatterpolar": [
           {
            "marker": {
             "colorbar": {
              "outlinewidth": 0,
              "ticks": ""
             }
            },
            "type": "scatterpolar"
           }
          ],
          "scatterpolargl": [
           {
            "marker": {
             "colorbar": {
              "outlinewidth": 0,
              "ticks": ""
             }
            },
            "type": "scatterpolargl"
           }
          ],
          "scatterternary": [
           {
            "marker": {
             "colorbar": {
              "outlinewidth": 0,
              "ticks": ""
             }
            },
            "type": "scatterternary"
           }
          ],
          "surface": [
           {
            "colorbar": {
             "outlinewidth": 0,
             "ticks": ""
            },
            "colorscale": [
             [
              0,
              "#0d0887"
             ],
             [
              0.1111111111111111,
              "#46039f"
             ],
             [
              0.2222222222222222,
              "#7201a8"
             ],
             [
              0.3333333333333333,
              "#9c179e"
             ],
             [
              0.4444444444444444,
              "#bd3786"
             ],
             [
              0.5555555555555556,
              "#d8576b"
             ],
             [
              0.6666666666666666,
              "#ed7953"
             ],
             [
              0.7777777777777778,
              "#fb9f3a"
             ],
             [
              0.8888888888888888,
              "#fdca26"
             ],
             [
              1,
              "#f0f921"
             ]
            ],
            "type": "surface"
           }
          ],
          "table": [
           {
            "cells": {
             "fill": {
              "color": "#EBF0F8"
             },
             "line": {
              "color": "white"
             }
            },
            "header": {
             "fill": {
              "color": "#C8D4E3"
             },
             "line": {
              "color": "white"
             }
            },
            "type": "table"
           }
          ]
         },
         "layout": {
          "annotationdefaults": {
           "arrowcolor": "#2a3f5f",
           "arrowhead": 0,
           "arrowwidth": 1
          },
          "coloraxis": {
           "colorbar": {
            "outlinewidth": 0,
            "ticks": ""
           }
          },
          "colorscale": {
           "diverging": [
            [
             0,
             "#8e0152"
            ],
            [
             0.1,
             "#c51b7d"
            ],
            [
             0.2,
             "#de77ae"
            ],
            [
             0.3,
             "#f1b6da"
            ],
            [
             0.4,
             "#fde0ef"
            ],
            [
             0.5,
             "#f7f7f7"
            ],
            [
             0.6,
             "#e6f5d0"
            ],
            [
             0.7,
             "#b8e186"
            ],
            [
             0.8,
             "#7fbc41"
            ],
            [
             0.9,
             "#4d9221"
            ],
            [
             1,
             "#276419"
            ]
           ],
           "sequential": [
            [
             0,
             "#0d0887"
            ],
            [
             0.1111111111111111,
             "#46039f"
            ],
            [
             0.2222222222222222,
             "#7201a8"
            ],
            [
             0.3333333333333333,
             "#9c179e"
            ],
            [
             0.4444444444444444,
             "#bd3786"
            ],
            [
             0.5555555555555556,
             "#d8576b"
            ],
            [
             0.6666666666666666,
             "#ed7953"
            ],
            [
             0.7777777777777778,
             "#fb9f3a"
            ],
            [
             0.8888888888888888,
             "#fdca26"
            ],
            [
             1,
             "#f0f921"
            ]
           ],
           "sequentialminus": [
            [
             0,
             "#0d0887"
            ],
            [
             0.1111111111111111,
             "#46039f"
            ],
            [
             0.2222222222222222,
             "#7201a8"
            ],
            [
             0.3333333333333333,
             "#9c179e"
            ],
            [
             0.4444444444444444,
             "#bd3786"
            ],
            [
             0.5555555555555556,
             "#d8576b"
            ],
            [
             0.6666666666666666,
             "#ed7953"
            ],
            [
             0.7777777777777778,
             "#fb9f3a"
            ],
            [
             0.8888888888888888,
             "#fdca26"
            ],
            [
             1,
             "#f0f921"
            ]
           ]
          },
          "colorway": [
           "#636efa",
           "#EF553B",
           "#00cc96",
           "#ab63fa",
           "#FFA15A",
           "#19d3f3",
           "#FF6692",
           "#B6E880",
           "#FF97FF",
           "#FECB52"
          ],
          "font": {
           "color": "#2a3f5f"
          },
          "geo": {
           "bgcolor": "white",
           "lakecolor": "white",
           "landcolor": "#E5ECF6",
           "showlakes": true,
           "showland": true,
           "subunitcolor": "white"
          },
          "hoverlabel": {
           "align": "left"
          },
          "hovermode": "closest",
          "mapbox": {
           "style": "light"
          },
          "paper_bgcolor": "white",
          "plot_bgcolor": "#E5ECF6",
          "polar": {
           "angularaxis": {
            "gridcolor": "white",
            "linecolor": "white",
            "ticks": ""
           },
           "bgcolor": "#E5ECF6",
           "radialaxis": {
            "gridcolor": "white",
            "linecolor": "white",
            "ticks": ""
           }
          },
          "scene": {
           "xaxis": {
            "backgroundcolor": "#E5ECF6",
            "gridcolor": "white",
            "gridwidth": 2,
            "linecolor": "white",
            "showbackground": true,
            "ticks": "",
            "zerolinecolor": "white"
           },
           "yaxis": {
            "backgroundcolor": "#E5ECF6",
            "gridcolor": "white",
            "gridwidth": 2,
            "linecolor": "white",
            "showbackground": true,
            "ticks": "",
            "zerolinecolor": "white"
           },
           "zaxis": {
            "backgroundcolor": "#E5ECF6",
            "gridcolor": "white",
            "gridwidth": 2,
            "linecolor": "white",
            "showbackground": true,
            "ticks": "",
            "zerolinecolor": "white"
           }
          },
          "shapedefaults": {
           "line": {
            "color": "#2a3f5f"
           }
          },
          "ternary": {
           "aaxis": {
            "gridcolor": "white",
            "linecolor": "white",
            "ticks": ""
           },
           "baxis": {
            "gridcolor": "white",
            "linecolor": "white",
            "ticks": ""
           },
           "bgcolor": "#E5ECF6",
           "caxis": {
            "gridcolor": "white",
            "linecolor": "white",
            "ticks": ""
           }
          },
          "title": {
           "x": 0.05
          },
          "xaxis": {
           "automargin": true,
           "gridcolor": "white",
           "linecolor": "white",
           "ticks": "",
           "title": {
            "standoff": 15
           },
           "zerolinecolor": "white",
           "zerolinewidth": 2
          },
          "yaxis": {
           "automargin": true,
           "gridcolor": "white",
           "linecolor": "white",
           "ticks": "",
           "title": {
            "standoff": 15
           },
           "zerolinecolor": "white",
           "zerolinewidth": 2
          }
         }
        },
        "title": {
         "text": "low rating app"
        },
        "xaxis": {
         "title": {
          "text": "Category"
         }
        },
        "yaxis": {
         "title": {
          "text": "Number of low Reviews app"
         }
        }
       }
      },
      "text/html": [
       "<div>                            <div id=\"35377679-8bca-46fc-b5b0-f88fa635d5f2\" class=\"plotly-graph-div\" style=\"height:525px; width:100%;\"></div>            <script type=\"text/javascript\">                require([\"plotly\"], function(Plotly) {                    window.PLOTLYENV=window.PLOTLYENV || {};                                    if (document.getElementById(\"35377679-8bca-46fc-b5b0-f88fa635d5f2\")) {                    Plotly.newPlot(                        \"35377679-8bca-46fc-b5b0-f88fa635d5f2\",                        [{\"type\": \"bar\", \"x\": [\"1000+\", \"5000+\", \"10000+\", \"50000+\", \"100000+\", \"500000+\", \"1000000+\", \"5000000+\", \"10000000+\", \"100000000+\"], \"y\": [2, 5, 14, 12, 25, 17, 31, 4, 8, 1]}],                        {\"font\": {\"color\": \"RebeccaPurple\", \"family\": \"Courier New, monospace\", \"size\": 14}, \"template\": {\"data\": {\"bar\": [{\"error_x\": {\"color\": \"#2a3f5f\"}, \"error_y\": {\"color\": \"#2a3f5f\"}, \"marker\": {\"line\": {\"color\": \"#E5ECF6\", \"width\": 0.5}}, \"type\": \"bar\"}], \"barpolar\": [{\"marker\": {\"line\": {\"color\": \"#E5ECF6\", \"width\": 0.5}}, \"type\": \"barpolar\"}], \"carpet\": [{\"aaxis\": {\"endlinecolor\": \"#2a3f5f\", \"gridcolor\": \"white\", \"linecolor\": \"white\", \"minorgridcolor\": \"white\", \"startlinecolor\": \"#2a3f5f\"}, \"baxis\": {\"endlinecolor\": \"#2a3f5f\", \"gridcolor\": \"white\", \"linecolor\": \"white\", \"minorgridcolor\": \"white\", \"startlinecolor\": \"#2a3f5f\"}, \"type\": \"carpet\"}], \"choropleth\": [{\"colorbar\": {\"outlinewidth\": 0, \"ticks\": \"\"}, \"type\": \"choropleth\"}], \"contour\": [{\"colorbar\": {\"outlinewidth\": 0, \"ticks\": \"\"}, \"colorscale\": [[0.0, \"#0d0887\"], [0.1111111111111111, \"#46039f\"], [0.2222222222222222, \"#7201a8\"], [0.3333333333333333, \"#9c179e\"], [0.4444444444444444, \"#bd3786\"], [0.5555555555555556, \"#d8576b\"], [0.6666666666666666, \"#ed7953\"], [0.7777777777777778, \"#fb9f3a\"], [0.8888888888888888, \"#fdca26\"], [1.0, \"#f0f921\"]], \"type\": \"contour\"}], \"contourcarpet\": [{\"colorbar\": {\"outlinewidth\": 0, \"ticks\": \"\"}, \"type\": \"contourcarpet\"}], \"heatmap\": [{\"colorbar\": {\"outlinewidth\": 0, \"ticks\": \"\"}, \"colorscale\": [[0.0, \"#0d0887\"], [0.1111111111111111, \"#46039f\"], [0.2222222222222222, \"#7201a8\"], [0.3333333333333333, \"#9c179e\"], [0.4444444444444444, \"#bd3786\"], [0.5555555555555556, \"#d8576b\"], [0.6666666666666666, \"#ed7953\"], [0.7777777777777778, \"#fb9f3a\"], [0.8888888888888888, \"#fdca26\"], [1.0, \"#f0f921\"]], \"type\": \"heatmap\"}], \"heatmapgl\": [{\"colorbar\": {\"outlinewidth\": 0, \"ticks\": \"\"}, \"colorscale\": [[0.0, \"#0d0887\"], [0.1111111111111111, \"#46039f\"], [0.2222222222222222, \"#7201a8\"], [0.3333333333333333, \"#9c179e\"], [0.4444444444444444, \"#bd3786\"], [0.5555555555555556, \"#d8576b\"], [0.6666666666666666, \"#ed7953\"], [0.7777777777777778, \"#fb9f3a\"], [0.8888888888888888, \"#fdca26\"], [1.0, \"#f0f921\"]], \"type\": \"heatmapgl\"}], \"histogram\": [{\"marker\": {\"colorbar\": {\"outlinewidth\": 0, \"ticks\": \"\"}}, \"type\": \"histogram\"}], \"histogram2d\": [{\"colorbar\": {\"outlinewidth\": 0, \"ticks\": \"\"}, \"colorscale\": [[0.0, \"#0d0887\"], [0.1111111111111111, \"#46039f\"], [0.2222222222222222, \"#7201a8\"], [0.3333333333333333, \"#9c179e\"], [0.4444444444444444, \"#bd3786\"], [0.5555555555555556, \"#d8576b\"], [0.6666666666666666, \"#ed7953\"], [0.7777777777777778, \"#fb9f3a\"], [0.8888888888888888, \"#fdca26\"], [1.0, \"#f0f921\"]], \"type\": \"histogram2d\"}], \"histogram2dcontour\": [{\"colorbar\": {\"outlinewidth\": 0, \"ticks\": \"\"}, \"colorscale\": [[0.0, \"#0d0887\"], [0.1111111111111111, \"#46039f\"], [0.2222222222222222, \"#7201a8\"], [0.3333333333333333, \"#9c179e\"], [0.4444444444444444, \"#bd3786\"], [0.5555555555555556, \"#d8576b\"], [0.6666666666666666, \"#ed7953\"], [0.7777777777777778, \"#fb9f3a\"], [0.8888888888888888, \"#fdca26\"], [1.0, \"#f0f921\"]], \"type\": \"histogram2dcontour\"}], \"mesh3d\": [{\"colorbar\": {\"outlinewidth\": 0, \"ticks\": \"\"}, \"type\": \"mesh3d\"}], \"parcoords\": [{\"line\": {\"colorbar\": {\"outlinewidth\": 0, \"ticks\": \"\"}}, \"type\": \"parcoords\"}], \"pie\": [{\"automargin\": true, \"type\": \"pie\"}], \"scatter\": [{\"marker\": {\"colorbar\": {\"outlinewidth\": 0, \"ticks\": \"\"}}, \"type\": \"scatter\"}], \"scatter3d\": [{\"line\": {\"colorbar\": {\"outlinewidth\": 0, \"ticks\": \"\"}}, \"marker\": {\"colorbar\": {\"outlinewidth\": 0, \"ticks\": \"\"}}, \"type\": \"scatter3d\"}], \"scattercarpet\": [{\"marker\": {\"colorbar\": {\"outlinewidth\": 0, \"ticks\": \"\"}}, \"type\": \"scattercarpet\"}], \"scattergeo\": [{\"marker\": {\"colorbar\": {\"outlinewidth\": 0, \"ticks\": \"\"}}, \"type\": \"scattergeo\"}], \"scattergl\": [{\"marker\": {\"colorbar\": {\"outlinewidth\": 0, \"ticks\": \"\"}}, \"type\": \"scattergl\"}], \"scattermapbox\": [{\"marker\": {\"colorbar\": {\"outlinewidth\": 0, \"ticks\": \"\"}}, \"type\": \"scattermapbox\"}], \"scatterpolar\": [{\"marker\": {\"colorbar\": {\"outlinewidth\": 0, \"ticks\": \"\"}}, \"type\": \"scatterpolar\"}], \"scatterpolargl\": [{\"marker\": {\"colorbar\": {\"outlinewidth\": 0, \"ticks\": \"\"}}, \"type\": \"scatterpolargl\"}], \"scatterternary\": [{\"marker\": {\"colorbar\": {\"outlinewidth\": 0, \"ticks\": \"\"}}, \"type\": \"scatterternary\"}], \"surface\": [{\"colorbar\": {\"outlinewidth\": 0, \"ticks\": \"\"}, \"colorscale\": [[0.0, \"#0d0887\"], [0.1111111111111111, \"#46039f\"], [0.2222222222222222, \"#7201a8\"], [0.3333333333333333, \"#9c179e\"], [0.4444444444444444, \"#bd3786\"], [0.5555555555555556, \"#d8576b\"], [0.6666666666666666, \"#ed7953\"], [0.7777777777777778, \"#fb9f3a\"], [0.8888888888888888, \"#fdca26\"], [1.0, \"#f0f921\"]], \"type\": \"surface\"}], \"table\": [{\"cells\": {\"fill\": {\"color\": \"#EBF0F8\"}, \"line\": {\"color\": \"white\"}}, \"header\": {\"fill\": {\"color\": \"#C8D4E3\"}, \"line\": {\"color\": \"white\"}}, \"type\": \"table\"}]}, \"layout\": {\"annotationdefaults\": {\"arrowcolor\": \"#2a3f5f\", \"arrowhead\": 0, \"arrowwidth\": 1}, \"coloraxis\": {\"colorbar\": {\"outlinewidth\": 0, \"ticks\": \"\"}}, \"colorscale\": {\"diverging\": [[0, \"#8e0152\"], [0.1, \"#c51b7d\"], [0.2, \"#de77ae\"], [0.3, \"#f1b6da\"], [0.4, \"#fde0ef\"], [0.5, \"#f7f7f7\"], [0.6, \"#e6f5d0\"], [0.7, \"#b8e186\"], [0.8, \"#7fbc41\"], [0.9, \"#4d9221\"], [1, \"#276419\"]], \"sequential\": [[0.0, \"#0d0887\"], [0.1111111111111111, \"#46039f\"], [0.2222222222222222, \"#7201a8\"], [0.3333333333333333, \"#9c179e\"], [0.4444444444444444, \"#bd3786\"], [0.5555555555555556, \"#d8576b\"], [0.6666666666666666, \"#ed7953\"], [0.7777777777777778, \"#fb9f3a\"], [0.8888888888888888, \"#fdca26\"], [1.0, \"#f0f921\"]], \"sequentialminus\": [[0.0, \"#0d0887\"], [0.1111111111111111, \"#46039f\"], [0.2222222222222222, \"#7201a8\"], [0.3333333333333333, \"#9c179e\"], [0.4444444444444444, \"#bd3786\"], [0.5555555555555556, \"#d8576b\"], [0.6666666666666666, \"#ed7953\"], [0.7777777777777778, \"#fb9f3a\"], [0.8888888888888888, \"#fdca26\"], [1.0, \"#f0f921\"]]}, \"colorway\": [\"#636efa\", \"#EF553B\", \"#00cc96\", \"#ab63fa\", \"#FFA15A\", \"#19d3f3\", \"#FF6692\", \"#B6E880\", \"#FF97FF\", \"#FECB52\"], \"font\": {\"color\": \"#2a3f5f\"}, \"geo\": {\"bgcolor\": \"white\", \"lakecolor\": \"white\", \"landcolor\": \"#E5ECF6\", \"showlakes\": true, \"showland\": true, \"subunitcolor\": \"white\"}, \"hoverlabel\": {\"align\": \"left\"}, \"hovermode\": \"closest\", \"mapbox\": {\"style\": \"light\"}, \"paper_bgcolor\": \"white\", \"plot_bgcolor\": \"#E5ECF6\", \"polar\": {\"angularaxis\": {\"gridcolor\": \"white\", \"linecolor\": \"white\", \"ticks\": \"\"}, \"bgcolor\": \"#E5ECF6\", \"radialaxis\": {\"gridcolor\": \"white\", \"linecolor\": \"white\", \"ticks\": \"\"}}, \"scene\": {\"xaxis\": {\"backgroundcolor\": \"#E5ECF6\", \"gridcolor\": \"white\", \"gridwidth\": 2, \"linecolor\": \"white\", \"showbackground\": true, \"ticks\": \"\", \"zerolinecolor\": \"white\"}, \"yaxis\": {\"backgroundcolor\": \"#E5ECF6\", \"gridcolor\": \"white\", \"gridwidth\": 2, \"linecolor\": \"white\", \"showbackground\": true, \"ticks\": \"\", \"zerolinecolor\": \"white\"}, \"zaxis\": {\"backgroundcolor\": \"#E5ECF6\", \"gridcolor\": \"white\", \"gridwidth\": 2, \"linecolor\": \"white\", \"showbackground\": true, \"ticks\": \"\", \"zerolinecolor\": \"white\"}}, \"shapedefaults\": {\"line\": {\"color\": \"#2a3f5f\"}}, \"ternary\": {\"aaxis\": {\"gridcolor\": \"white\", \"linecolor\": \"white\", \"ticks\": \"\"}, \"baxis\": {\"gridcolor\": \"white\", \"linecolor\": \"white\", \"ticks\": \"\"}, \"bgcolor\": \"#E5ECF6\", \"caxis\": {\"gridcolor\": \"white\", \"linecolor\": \"white\", \"ticks\": \"\"}}, \"title\": {\"x\": 0.05}, \"xaxis\": {\"automargin\": true, \"gridcolor\": \"white\", \"linecolor\": \"white\", \"ticks\": \"\", \"title\": {\"standoff\": 15}, \"zerolinecolor\": \"white\", \"zerolinewidth\": 2}, \"yaxis\": {\"automargin\": true, \"gridcolor\": \"white\", \"linecolor\": \"white\", \"ticks\": \"\", \"title\": {\"standoff\": 15}, \"zerolinecolor\": \"white\", \"zerolinewidth\": 2}}}, \"title\": {\"text\": \"low rating app\"}, \"xaxis\": {\"title\": {\"text\": \"Category\"}}, \"yaxis\": {\"title\": {\"text\": \"Number of low Reviews app\"}}},                        {\"responsive\": true}                    ).then(function(){\n",
       "                            \n",
       "var gd = document.getElementById('35377679-8bca-46fc-b5b0-f88fa635d5f2');\n",
       "var x = new MutationObserver(function (mutations, observer) {{\n",
       "        var display = window.getComputedStyle(gd).display;\n",
       "        if (!display || display === 'none') {{\n",
       "            console.log([gd, 'removed!']);\n",
       "            Plotly.purge(gd);\n",
       "            observer.disconnect();\n",
       "        }}\n",
       "}});\n",
       "\n",
       "// Listen for the removal of the full notebook cells\n",
       "var notebookContainer = gd.closest('#notebook-container');\n",
       "if (notebookContainer) {{\n",
       "    x.observe(notebookContainer, {childList: true});\n",
       "}}\n",
       "\n",
       "// Listen for the clearing of the current output cell\n",
       "var outputEl = gd.closest('.output');\n",
       "if (outputEl) {{\n",
       "    x.observe(outputEl, {childList: true});\n",
       "}}\n",
       "\n",
       "                        })                };                });            </script>        </div>"
      ]
     },
     "metadata": {},
     "output_type": "display_data"
    }
   ],
   "source": [
    "app_free = low_rating_app['installs'].value_counts().sort_index()\n",
    "data = [go.Bar(\n",
    "        x=[str(x)[:-2]+'+' for x in app_free.index],\n",
    "        y=app_free.values\n",
    ")]\n",
    "\n",
    "layout = go.Layout(\n",
    "    title=\"low rating app\",\n",
    "    xaxis_title=\"Category\",\n",
    "    yaxis_title=\"Number of low Reviews app\",\n",
    "    font=dict(\n",
    "        family=\"Courier New, monospace\",\n",
    "        size=14,\n",
    "        color=\"RebeccaPurple\"\n",
    "    )\n",
    ") \n",
    "\n",
    "fig = go.Figure(data=data, layout=layout)\n",
    "\n",
    "plotly.offline.iplot(fig, filename='app_category')"
   ]
  },
  {
   "cell_type": "markdown",
   "metadata": {},
   "source": [
    "Có thể nhận thấy số lượng lượt tải cho các app có mức đánh giá thấp khá là nhỏ. Với chỉ có khoảng 8 ứng dụng có trên 10 triệu lượt tải, và duy nhất một ứng dụng trên 100 triểu lượt tải"
   ]
  },
  {
   "cell_type": "markdown",
   "metadata": {},
   "source": [
    "# Tổng kết\n",
    "\n",
    "- Các ứng dụng được người dùng đánh giá chủ yếu trong khoảng từ 3-5 điểm\n",
    "- Các ứng dụng phổ biến trong nhóm các ứng đụng được đánh giá cao là Âm nhạc, Thể thao và Mua sắm\n",
    "- Các ứng dụng thường phổ biến cho tất cả mọi người một số ít các ứng dụng có giới hạn độ tuổi.\n",
    "- Các ứng dụng về lưu trữ và quản lý dữ liệu được người dùng tải xuống rất nhiều, ngoài ra còn có các ứng dụng trò chơi giải trí.\n",
    "- Các ứng dụng trong nhóm bị đánh giá thấp phổ biến trong các nhóm nhứ Tin tức, tạp chí, kinh tể và giáo dục\n",
    "- Các ứng dụng trong nhóm bị đánh giá thấp có số lượt tải khá thấp."
   ]
  },
  {
   "cell_type": "code",
   "execution_count": null,
   "metadata": {},
   "outputs": [],
   "source": []
  }
 ],
 "metadata": {
  "kernelspec": {
   "display_name": "Python 3",
   "language": "python",
   "name": "python3"
  },
  "language_info": {
   "codemirror_mode": {
    "name": "ipython",
    "version": 3
   },
   "file_extension": ".py",
   "mimetype": "text/x-python",
   "name": "python",
   "nbconvert_exporter": "python",
   "pygments_lexer": "ipython3",
   "version": "3.8.5"
  }
 },
 "nbformat": 4,
 "nbformat_minor": 4
}
