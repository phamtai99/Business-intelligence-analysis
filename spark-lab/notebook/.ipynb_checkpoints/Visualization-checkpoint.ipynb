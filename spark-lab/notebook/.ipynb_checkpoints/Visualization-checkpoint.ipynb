{
 "cells": [
  {
   "cell_type": "code",
   "execution_count": null,
   "metadata": {},
   "outputs": [],
   "source": [
    "import os \n",
    "kafka = \"org.apache.spark:spark-sql-kafka-0-10_2.12:3.0.1\"\n",
    "spark = \"org.apache.spark:spark-streaming-kafka-0-8_2.11:2.1.0\"\n",
    "#\n",
    "os.environ[\"PYSPARK_SUBMIT_ARGS\"] = (\"--packages {},{} pyspark-shell\".format(kafka, spark))\n",
    "from pyspark.context import SparkContext\n",
    "from pyspark.sql.session import SparkSession\n",
    "# from pyspark.sql.functions import to_json, struct, lit\n",
    "from functools import reduce\n",
    "from pyspark.sql import DataFrame\n",
    "from pyspark.sql.functions import *\n",
    "from pyspark.sql.types import *\n",
    "from pyspark.sql import functions as func\n",
    " #self.sparkConf.set(\"spark.driver.allowMultipleContexts\", \"true\")\n",
    "sc = SparkContext('local')\n",
    "spark = SparkSession(sc)\n",
    "\n"
   ]
  },
  {
   "cell_type": "code",
   "execution_count": 2,
   "metadata": {},
   "outputs": [],
   "source": [
    "\n",
    "# df=spark.read.format(\"csv\").option(\"mode\", \"FAILFAST\")\\\n",
    "# .option(\"inferSchema\", \"true\").load(\"hdfs://namenode/user/taipt/data.csv\")  \n",
    "\n",
    "df=spark.read.format('csv').options(header='true').option(\"inferSchema\", \"true\")\\\n",
    "    .load(\"hdfs://namenode/user/taipt/data.csv\")"
   ]
  },
  {
   "cell_type": "code",
   "execution_count": 3,
   "metadata": {},
   "outputs": [
    {
     "name": "stdout",
     "output_type": "stream",
     "text": [
      "root\n",
      " |-- InvoiceNo: string (nullable = true)\n",
      " |-- StockCode: string (nullable = true)\n",
      " |-- Description: string (nullable = true)\n",
      " |-- Quantity: integer (nullable = true)\n",
      " |-- InvoiceDate: string (nullable = true)\n",
      " |-- UnitPrice: double (nullable = true)\n",
      " |-- CustomerID: integer (nullable = true)\n",
      " |-- Country: string (nullable = true)\n",
      "\n"
     ]
    }
   ],
   "source": [
    "df.printSchema()\n"
   ]
  },
  {
   "cell_type": "code",
   "execution_count": 4,
   "metadata": {},
   "outputs": [
    {
     "name": "stdout",
     "output_type": "stream",
     "text": [
      "+---------+---------+--------------------+--------+--------------+---------+----------+--------------+\n",
      "|InvoiceNo|StockCode|         Description|Quantity|   InvoiceDate|UnitPrice|CustomerID|       Country|\n",
      "+---------+---------+--------------------+--------+--------------+---------+----------+--------------+\n",
      "|   536365|   85123A|WHITE HANGING HEA...|       6|12/1/2010 8:26|     2.55|     17850|United Kingdom|\n",
      "|   536365|    71053| WHITE METAL LANTERN|       6|12/1/2010 8:26|     3.39|     17850|United Kingdom|\n",
      "|   536365|   84406B|CREAM CUPID HEART...|       8|12/1/2010 8:26|     2.75|     17850|United Kingdom|\n",
      "|   536365|   84029G|KNITTED UNION FLA...|       6|12/1/2010 8:26|     3.39|     17850|United Kingdom|\n",
      "|   536365|   84029E|RED WOOLLY HOTTIE...|       6|12/1/2010 8:26|     3.39|     17850|United Kingdom|\n",
      "|   536365|    22752|SET 7 BABUSHKA NE...|       2|12/1/2010 8:26|     7.65|     17850|United Kingdom|\n",
      "|   536365|    21730|GLASS STAR FROSTE...|       6|12/1/2010 8:26|     4.25|     17850|United Kingdom|\n",
      "|   536366|    22633|HAND WARMER UNION...|       6|12/1/2010 8:28|     1.85|     17850|United Kingdom|\n",
      "|   536366|    22632|HAND WARMER RED P...|       6|12/1/2010 8:28|     1.85|     17850|United Kingdom|\n",
      "|   536367|    84879|ASSORTED COLOUR B...|      32|12/1/2010 8:34|     1.69|     13047|United Kingdom|\n",
      "+---------+---------+--------------------+--------+--------------+---------+----------+--------------+\n",
      "only showing top 10 rows\n",
      "\n"
     ]
    }
   ],
   "source": [
    "df.show(10)"
   ]
  },
  {
   "cell_type": "code",
   "execution_count": 5,
   "metadata": {},
   "outputs": [],
   "source": [
    "# df.select((col(\"Country\").isNull()).alias(\"H\") ).groupBy(\"H\").count().show()"
   ]
  },
  {
   "cell_type": "code",
   "execution_count": 6,
   "metadata": {},
   "outputs": [
    {
     "name": "stdout",
     "output_type": "stream",
     "text": [
      "+--------------------+-----+\n",
      "|             Country|count|\n",
      "+--------------------+-----+\n",
      "|        Saudi Arabia|   10|\n",
      "|             Bahrain|   19|\n",
      "|      Czech Republic|   30|\n",
      "|              Brazil|   32|\n",
      "|           Lithuania|   35|\n",
      "|             Lebanon|   45|\n",
      "|                 RSA|   58|\n",
      "|  European Community|   61|\n",
      "|United Arab Emirates|   68|\n",
      "|               Malta|  127|\n",
      "|              Greece|  146|\n",
      "|              Canada|  151|\n",
      "|             Iceland|  182|\n",
      "|           Singapore|  229|\n",
      "|           Hong Kong|  288|\n",
      "|                 USA|  291|\n",
      "|              Israel|  297|\n",
      "|              Poland|  341|\n",
      "|               Japan|  358|\n",
      "|             Denmark|  389|\n",
      "+--------------------+-----+\n",
      "only showing top 20 rows\n",
      "\n"
     ]
    }
   ],
   "source": [
    "df.groupBy(\"Country\") \\\n",
    "    .count().orderBy(col(\"count\").asc()).show()"
   ]
  },
  {
   "cell_type": "code",
   "execution_count": 7,
   "metadata": {},
   "outputs": [],
   "source": [
    "df = df.na.drop().dropDuplicates()"
   ]
  },
  {
   "cell_type": "code",
   "execution_count": 8,
   "metadata": {},
   "outputs": [
    {
     "name": "stdout",
     "output_type": "stream",
     "text": [
      "+--------------------+-----+\n",
      "|             Country|count|\n",
      "+--------------------+-----+\n",
      "|              Sweden|  461|\n",
      "|           Singapore|  229|\n",
      "|             Germany| 9480|\n",
      "|                 RSA|   58|\n",
      "|              France| 8475|\n",
      "|              Greece|  146|\n",
      "|  European Community|   61|\n",
      "|             Belgium| 2069|\n",
      "|             Finland|  695|\n",
      "|               Malta|  127|\n",
      "|         Unspecified|  241|\n",
      "|               Italy|  803|\n",
      "|                EIRE| 7475|\n",
      "|           Lithuania|   35|\n",
      "|              Norway| 1086|\n",
      "|               Spain| 2528|\n",
      "|             Denmark|  389|\n",
      "|             Iceland|  182|\n",
      "|              Israel|  247|\n",
      "|     Channel Islands|  757|\n",
      "|                 USA|  291|\n",
      "|              Cyprus|  611|\n",
      "|        Saudi Arabia|   10|\n",
      "|         Switzerland| 1877|\n",
      "|United Arab Emirates|   68|\n",
      "+--------------------+-----+\n",
      "only showing top 25 rows\n",
      "\n"
     ]
    }
   ],
   "source": [
    "df.groupBy(\"Country\") \\\n",
    "    .count().show(25)"
   ]
  },
  {
   "cell_type": "code",
   "execution_count": 9,
   "metadata": {},
   "outputs": [],
   "source": [
    "df=df.withColumn('TotalPrice',col('UnitPrice')*col('Quantity'))"
   ]
  },
  {
   "cell_type": "code",
   "execution_count": null,
   "metadata": {},
   "outputs": [],
   "source": []
  },
  {
   "cell_type": "code",
   "execution_count": 10,
   "metadata": {},
   "outputs": [
    {
     "name": "stdout",
     "output_type": "stream",
     "text": [
      "+---------+---------+--------------------+--------+---------------+---------+----------+--------------+----------+\n",
      "|InvoiceNo|StockCode|         Description|Quantity|    InvoiceDate|UnitPrice|CustomerID|       Country|TotalPrice|\n",
      "+---------+---------+--------------------+--------+---------------+---------+----------+--------------+----------+\n",
      "|   536367|    84879|ASSORTED COLOUR B...|      32| 12/1/2010 8:34|     1.69|     13047|United Kingdom|     54.08|\n",
      "|   536392|    21891|TRADITIONAL WOODE...|      12|12/1/2010 10:29|     1.25|     13705|United Kingdom|      15.0|\n",
      "|   536464|   85231B|CINAMMON SET OF 9...|       3|12/1/2010 12:23|     0.85|     17968|United Kingdom|      2.55|\n",
      "+---------+---------+--------------------+--------+---------------+---------+----------+--------------+----------+\n",
      "only showing top 3 rows\n",
      "\n"
     ]
    }
   ],
   "source": [
    "df.show(3)"
   ]
  },
  {
   "cell_type": "code",
   "execution_count": 11,
   "metadata": {},
   "outputs": [],
   "source": [
    "df_totalByCountry=df.groupBy(\"Country\").agg(func.sum(\"TotalPrice\"))"
   ]
  },
  {
   "cell_type": "code",
   "execution_count": 12,
   "metadata": {},
   "outputs": [
    {
     "name": "stdout",
     "output_type": "stream",
     "text": [
      "+------------------+------------------+\n",
      "|           Country|   sum(TotalPrice)|\n",
      "+------------------+------------------+\n",
      "|            Sweden|          36585.41|\n",
      "|         Singapore|           9120.39|\n",
      "|           Germany|221509.46999999997|\n",
      "|               RSA|1002.3100000000001|\n",
      "|            France|196626.05000000002|\n",
      "|            Greece| 4710.519999999998|\n",
      "|European Community|1291.7500000000005|\n",
      "|           Belgium| 40910.95999999999|\n",
      "|           Finland|22326.739999999987|\n",
      "|             Malta|2505.4700000000003|\n",
      "+------------------+------------------+\n",
      "only showing top 10 rows\n",
      "\n"
     ]
    }
   ],
   "source": [
    "df_totalByCountry.show(10)\n",
    "df_affter=df "
   ]
  },
  {
   "cell_type": "code",
   "execution_count": 13,
   "metadata": {},
   "outputs": [
    {
     "name": "stdout",
     "output_type": "stream",
     "text": [
      "+---------+---------+--------------------+--------+---------------+---------+----------+--------------+------------------+\n",
      "|InvoiceNo|StockCode|         Description|Quantity|    InvoiceDate|UnitPrice|CustomerID|       Country|        TotalPrice|\n",
      "+---------+---------+--------------------+--------+---------------+---------+----------+--------------+------------------+\n",
      "|   536367|    84879|ASSORTED COLOUR B...|      32| 12/1/2010 8:34|     1.69|     13047|United Kingdom|             54.08|\n",
      "|   536392|    21891|TRADITIONAL WOODE...|      12|12/1/2010 10:29|     1.25|     13705|United Kingdom|              15.0|\n",
      "|   536464|   85231B|CINAMMON SET OF 9...|       3|12/1/2010 12:23|     0.85|     17968|United Kingdom|              2.55|\n",
      "|   536520|    22553|PLASTERS IN TIN S...|       1|12/1/2010 12:43|     1.65|     14729|United Kingdom|              1.65|\n",
      "|   536537|    20867|PINK ROSE FABRIC ...|      36|12/1/2010 13:51|     1.25|     15922|United Kingdom|              45.0|\n",
      "|   536607|    21733|RED HANGING HEART...|       6| 12/2/2010 9:29|     2.95|     17732|United Kingdom|17.700000000000003|\n",
      "|   536607|    22457|NATURAL SLATE HEA...|       6| 12/2/2010 9:29|     2.95|     17732|United Kingdom|17.700000000000003|\n",
      "|   536674|    22195|LARGE HEART MEASU...|       1|12/2/2010 12:16|     1.65|     15923|United Kingdom|              1.65|\n",
      "|   536743|    22436|12 COLOURED PARTY...|      10|12/2/2010 13:32|     0.65|     17964|United Kingdom|               6.5|\n",
      "|   536784|    22630|DOLLY GIRL LUNCH BOX|      36|12/2/2010 15:20|     1.65|     15061|United Kingdom|              59.4|\n",
      "|   536790|    71053| WHITE METAL LANTERN|      12|12/2/2010 15:26|     3.39|     17850|United Kingdom|             40.68|\n",
      "|   536805|    21069|VINTAGE BILLBOARD...|      12|12/2/2010 16:38|     1.25|     14775|United Kingdom|              15.0|\n",
      "|   536808|    21259|VICTORIAN SEWING ...|       2|12/2/2010 16:46|     5.95|     17659|United Kingdom|              11.9|\n",
      "|   536845|    21333| CLASSIC WHITE FRAME|       1|12/2/2010 19:18|     2.95|     17961|United Kingdom|              2.95|\n",
      "|   536856|    21889|WOODEN BOX OF DOM...|      12|12/3/2010 10:26|     1.25|     13370|United Kingdom|              15.0|\n",
      "|   536859|    22595|CHRISTMAS GINGHAM...|      36|12/3/2010 10:43|     0.85|     12841|United Kingdom|30.599999999999998|\n",
      "|   536975|   84849B|FAIRY SOAP SOAP H...|      12|12/3/2010 14:04|     1.69|     14911|          EIRE|             20.28|\n",
      "|   536981|    20972|PINK CREAM FELT C...|       3|12/3/2010 14:26|     1.25|     14723|United Kingdom|              3.75|\n",
      "|   536984|    21784|     SHOE SHINE BOX |       1|12/3/2010 14:35|     9.95|     17841|United Kingdom|              9.95|\n",
      "|   536987|    22292|HANGING CHICK  YE...|       1|12/3/2010 14:54|     1.45|     17198|United Kingdom|              1.45|\n",
      "+---------+---------+--------------------+--------+---------------+---------+----------+--------------+------------------+\n",
      "only showing top 20 rows\n",
      "\n"
     ]
    }
   ],
   "source": [
    "df_affter.show()"
   ]
  },
  {
   "cell_type": "code",
   "execution_count": 51,
   "metadata": {},
   "outputs": [],
   "source": [
    "spark.conf.set(\"spark.sql.legacy.timeParserPolicy\",\"LEGACY\")\n",
    "df_affter=df.withColumn('InvoiceDate',to_timestamp(\"InvoiceDate\", \"MM/dd/yyyy HH:mm\"))"
   ]
  },
  {
   "cell_type": "code",
   "execution_count": 52,
   "metadata": {},
   "outputs": [
    {
     "name": "stdout",
     "output_type": "stream",
     "text": [
      "+---------+---------+--------------------+--------+-------------------+---------+----------+--------------+------------------+\n",
      "|InvoiceNo|StockCode|         Description|Quantity|        InvoiceDate|UnitPrice|CustomerID|       Country|        TotalPrice|\n",
      "+---------+---------+--------------------+--------+-------------------+---------+----------+--------------+------------------+\n",
      "|   536367|    84879|ASSORTED COLOUR B...|      32|2010-12-01 08:34:00|     1.69|     13047|United Kingdom|             54.08|\n",
      "|   536392|    21891|TRADITIONAL WOODE...|      12|2010-12-01 10:29:00|     1.25|     13705|United Kingdom|              15.0|\n",
      "|   536464|   85231B|CINAMMON SET OF 9...|       3|2010-12-01 12:23:00|     0.85|     17968|United Kingdom|              2.55|\n",
      "|   536520|    22553|PLASTERS IN TIN S...|       1|2010-12-01 12:43:00|     1.65|     14729|United Kingdom|              1.65|\n",
      "|   536537|    20867|PINK ROSE FABRIC ...|      36|2010-12-01 13:51:00|     1.25|     15922|United Kingdom|              45.0|\n",
      "|   536607|    21733|RED HANGING HEART...|       6|2010-12-02 09:29:00|     2.95|     17732|United Kingdom|17.700000000000003|\n",
      "|   536607|    22457|NATURAL SLATE HEA...|       6|2010-12-02 09:29:00|     2.95|     17732|United Kingdom|17.700000000000003|\n",
      "|   536674|    22195|LARGE HEART MEASU...|       1|2010-12-02 12:16:00|     1.65|     15923|United Kingdom|              1.65|\n",
      "|   536743|    22436|12 COLOURED PARTY...|      10|2010-12-02 13:32:00|     0.65|     17964|United Kingdom|               6.5|\n",
      "|   536784|    22630|DOLLY GIRL LUNCH BOX|      36|2010-12-02 15:20:00|     1.65|     15061|United Kingdom|              59.4|\n",
      "+---------+---------+--------------------+--------+-------------------+---------+----------+--------------+------------------+\n",
      "only showing top 10 rows\n",
      "\n"
     ]
    }
   ],
   "source": [
    "df_affter.show(10)\n",
    "df=df_affter"
   ]
  },
  {
   "cell_type": "code",
   "execution_count": 53,
   "metadata": {},
   "outputs": [
    {
     "name": "stdout",
     "output_type": "stream",
     "text": [
      "2012-01-01 00:00:00\n"
     ]
    }
   ],
   "source": [
    "import datetime as dt\n",
    "today = dt.datetime(2012,1,1)\n",
    "print(today)"
   ]
  },
  {
   "cell_type": "code",
   "execution_count": 54,
   "metadata": {},
   "outputs": [
    {
     "name": "stdout",
     "output_type": "stream",
     "text": [
      "+---------+---------+--------------------+--------+-------------------+---------+----------+--------------+------------------+\n",
      "|InvoiceNo|StockCode|         Description|Quantity|        InvoiceDate|UnitPrice|CustomerID|       Country|        TotalPrice|\n",
      "+---------+---------+--------------------+--------+-------------------+---------+----------+--------------+------------------+\n",
      "|   536367|    84879|ASSORTED COLOUR B...|      32|2010-12-01 08:34:00|     1.69|     13047|United Kingdom|             54.08|\n",
      "|   536392|    21891|TRADITIONAL WOODE...|      12|2010-12-01 10:29:00|     1.25|     13705|United Kingdom|              15.0|\n",
      "|   536464|   85231B|CINAMMON SET OF 9...|       3|2010-12-01 12:23:00|     0.85|     17968|United Kingdom|              2.55|\n",
      "|   536520|    22553|PLASTERS IN TIN S...|       1|2010-12-01 12:43:00|     1.65|     14729|United Kingdom|              1.65|\n",
      "|   536537|    20867|PINK ROSE FABRIC ...|      36|2010-12-01 13:51:00|     1.25|     15922|United Kingdom|              45.0|\n",
      "|   536607|    21733|RED HANGING HEART...|       6|2010-12-02 09:29:00|     2.95|     17732|United Kingdom|17.700000000000003|\n",
      "|   536607|    22457|NATURAL SLATE HEA...|       6|2010-12-02 09:29:00|     2.95|     17732|United Kingdom|17.700000000000003|\n",
      "|   536674|    22195|LARGE HEART MEASU...|       1|2010-12-02 12:16:00|     1.65|     15923|United Kingdom|              1.65|\n",
      "|   536743|    22436|12 COLOURED PARTY...|      10|2010-12-02 13:32:00|     0.65|     17964|United Kingdom|               6.5|\n",
      "|   536784|    22630|DOLLY GIRL LUNCH BOX|      36|2010-12-02 15:20:00|     1.65|     15061|United Kingdom|              59.4|\n",
      "|   536790|    71053| WHITE METAL LANTERN|      12|2010-12-02 15:26:00|     3.39|     17850|United Kingdom|             40.68|\n",
      "|   536805|    21069|VINTAGE BILLBOARD...|      12|2010-12-02 16:38:00|     1.25|     14775|United Kingdom|              15.0|\n",
      "|   536808|    21259|VICTORIAN SEWING ...|       2|2010-12-02 16:46:00|     5.95|     17659|United Kingdom|              11.9|\n",
      "|   536845|    21333| CLASSIC WHITE FRAME|       1|2010-12-02 19:18:00|     2.95|     17961|United Kingdom|              2.95|\n",
      "|   536856|    21889|WOODEN BOX OF DOM...|      12|2010-12-03 10:26:00|     1.25|     13370|United Kingdom|              15.0|\n",
      "|   536859|    22595|CHRISTMAS GINGHAM...|      36|2010-12-03 10:43:00|     0.85|     12841|United Kingdom|30.599999999999998|\n",
      "|   536981|    20972|PINK CREAM FELT C...|       3|2010-12-03 14:26:00|     1.25|     14723|United Kingdom|              3.75|\n",
      "|   536984|    21784|     SHOE SHINE BOX |       1|2010-12-03 14:35:00|     9.95|     17841|United Kingdom|              9.95|\n",
      "|   536987|    22292|HANGING CHICK  YE...|       1|2010-12-03 14:54:00|     1.45|     17198|United Kingdom|              1.45|\n",
      "|   537042|    21192|WHITE BELL HONEYC...|       2|2010-12-05 10:45:00|     1.65|     13838|United Kingdom|               3.3|\n",
      "+---------+---------+--------------------+--------+-------------------+---------+----------+--------------+------------------+\n",
      "only showing top 20 rows\n",
      "\n"
     ]
    }
   ],
   "source": [
    "df = df[df['Quantity'] > 0]\n",
    "df = df[df['TotalPrice'] > 0]\n",
    "df = df[df[\"Country\"] == \"United Kingdom\"]\n",
    "df.show()"
   ]
  },
  {
   "cell_type": "code",
   "execution_count": 55,
   "metadata": {},
   "outputs": [],
   "source": [
    "# Recency and Monetary \n",
    "# df_x = df.groupby('CustomerID').agg({'TotalPrice': lambda x: x.sum(),'InvoiceDate': lambda x: (today - x.max()).days})\n",
    "df.createOrReplaceTempView(\"dfTable\")\n",
    "df_x=spark.sql('SELECT CustomerID,sum(TotalPrice) as Monetary,(DATEDIFF( now(), max(InvoiceDate))) as Recency from dfTable GROUP BY CustomerID ORDER BY CustomerID')\n"
   ]
  },
  {
   "cell_type": "code",
   "execution_count": 56,
   "metadata": {},
   "outputs": [
    {
     "name": "stdout",
     "output_type": "stream",
     "text": [
      "+----------+------------------+-------+\n",
      "|CustomerID|          Monetary|Recency|\n",
      "+----------+------------------+-------+\n",
      "|     12346|           77183.6|   3749|\n",
      "|     12747| 4196.010000000001|   3426|\n",
      "|     12748|33053.189999999995|   3424|\n",
      "|     12749|           4090.88|   3427|\n",
      "|     12820|            942.34|   3427|\n",
      "|     12821|             92.72|   3638|\n",
      "|     12822|            948.88|   3494|\n",
      "|     12823|            1759.5|   3498|\n",
      "|     12824|397.11999999999995|   3483|\n",
      "|     12826|1474.7199999999998|   3426|\n",
      "|     12827|            430.15|   3429|\n",
      "|     12828|           1018.71|   3426|\n",
      "|     12829|293.00000000000006|   3760|\n",
      "|     12830| 6814.640000000001|   3461|\n",
      "|     12831|215.04999999999998|   3686|\n",
      "|     12832|            383.03|   3456|\n",
      "|     12833|            417.38|   3569|\n",
      "|     12834|            312.38|   3706|\n",
      "|     12836|2610.3599999999997|   3483|\n",
      "|     12837|             134.1|   3597|\n",
      "+----------+------------------+-------+\n",
      "only showing top 20 rows\n",
      "\n"
     ]
    }
   ],
   "source": [
    "df_x.show()"
   ]
  },
  {
   "cell_type": "code",
   "execution_count": 57,
   "metadata": {},
   "outputs": [],
   "source": [
    "df_y=spark.sql('SELECT CustomerID,InvoiceNo,sum(TotalPrice) as TotalPrice from dfTable GROUP BY CustomerID,InvoiceNo ORDER BY CustomerID,InvoiceNo')"
   ]
  },
  {
   "cell_type": "code",
   "execution_count": 58,
   "metadata": {},
   "outputs": [
    {
     "name": "stdout",
     "output_type": "stream",
     "text": [
      "+----------+---------+------------------+\n",
      "|CustomerID|InvoiceNo|        TotalPrice|\n",
      "+----------+---------+------------------+\n",
      "|     12346|   541431|           77183.6|\n",
      "|     12747|   537215|358.55999999999995|\n",
      "|     12747|   538537|            347.71|\n",
      "|     12747|   541677|303.03999999999996|\n",
      "|     12747|   545321|            310.78|\n",
      "|     12747|   551992|442.96000000000004|\n",
      "|     12747|   554549|328.34999999999997|\n",
      "|     12747|   558265|             376.3|\n",
      "|     12747|   563949|             301.7|\n",
      "|     12747|   569397| 675.3800000000001|\n",
      "|     12747|   577104|            312.73|\n",
      "|     12747|   581163|             438.5|\n",
      "|     12748|   536521|              4.95|\n",
      "|     12748|   536641|              4.25|\n",
      "|     12748|   537136| 267.4599999999999|\n",
      "|     12748|   537140| 65.57000000000001|\n",
      "|     12748|   537142|             41.45|\n",
      "|     12748|   537155|             73.72|\n",
      "|     12748|   537213| 8.649999999999999|\n",
      "|     12748|   537225|            491.38|\n",
      "+----------+---------+------------------+\n",
      "only showing top 20 rows\n",
      "\n"
     ]
    }
   ],
   "source": [
    "df_y.show()"
   ]
  },
  {
   "cell_type": "code",
   "execution_count": 59,
   "metadata": {},
   "outputs": [],
   "source": [
    "\n",
    "from pyspark.sql.functions import count\n",
    "df_z=df_y.groupBy(\"CustomerID\").agg(\n",
    "count(\"TotalPrice\").alias(\"Frequency\"))\n"
   ]
  },
  {
   "cell_type": "code",
   "execution_count": 60,
   "metadata": {},
   "outputs": [
    {
     "name": "stdout",
     "output_type": "stream",
     "text": [
      "+----------+---------+\n",
      "|CustomerID|Frequency|\n",
      "+----------+---------+\n",
      "|     15619|        1|\n",
      "|     17389|       34|\n",
      "|     14450|        3|\n",
      "|     15727|        7|\n",
      "+----------+---------+\n",
      "only showing top 4 rows\n",
      "\n"
     ]
    }
   ],
   "source": [
    "df_z.show(4)"
   ]
  },
  {
   "cell_type": "code",
   "execution_count": 61,
   "metadata": {},
   "outputs": [
    {
     "name": "stdout",
     "output_type": "stream",
     "text": [
      "+----------+------------------+-------+---------+\n",
      "|CustomerID|          Monetary|Recency|Frequency|\n",
      "+----------+------------------+-------+---------+\n",
      "|     15727|5159.0599999999995|   3440|        7|\n",
      "|     13285| 2709.120000000001|   3447|        4|\n",
      "|     17679|           1992.11|   3476|        2|\n",
      "|     17389| 31833.68000000001|   3424|       34|\n",
      "|     12940| 899.6899999999997|   3478|        2|\n",
      "|     13623|            727.74|   3454|        5|\n",
      "|     16574| 451.4399999999999|   3495|        1|\n",
      "|     15957|            428.89|   3455|        1|\n",
      "|     15790|218.74999999999997|   3434|        1|\n",
      "|     16503|           1431.93|   3530|        4|\n",
      "|     14570|218.05999999999995|   3704|        2|\n",
      "|     17420| 598.8299999999999|   3474|        3|\n",
      "|     16386| 302.5699999999999|   3452|        2|\n",
      "|     14450|483.25000000000006|   3604|        3|\n",
      "|     16339| 94.05000000000001|   3708|        1|\n",
      "|     15619|336.40000000000003|   3434|        1|\n",
      "|     16861|173.76000000000002|   3483|        2|\n",
      "|     15447|155.17000000000002|   3754|        1|\n",
      "|     18024|            389.78|   3576|        2|\n",
      "|     13832|52.199999999999996|   3443|        1|\n",
      "+----------+------------------+-------+---------+\n",
      "only showing top 20 rows\n",
      "\n"
     ]
    }
   ],
   "source": [
    "# RFM Dataframe\n",
    "rfm_table = df_x.join(df_z, ['CustomerID'])\n",
    "rfm_table.show()\n"
   ]
  },
  {
   "cell_type": "code",
   "execution_count": 63,
   "metadata": {},
   "outputs": [
    {
     "name": "stdout",
     "output_type": "stream",
     "text": [
      "Requirement already satisfied: matplotlib in /usr/local/lib/python3.7/dist-packages (3.4.1)\n",
      "Requirement already satisfied: numpy>=1.16 in /usr/local/lib/python3.7/dist-packages (from matplotlib) (1.19.4)\n",
      "Requirement already satisfied: kiwisolver>=1.0.1 in /usr/local/lib/python3.7/dist-packages (from matplotlib) (1.3.1)\n",
      "Requirement already satisfied: pyparsing>=2.2.1 in /usr/local/lib/python3.7/dist-packages (from matplotlib) (2.4.7)\n",
      "Requirement already satisfied: python-dateutil>=2.7 in /usr/local/lib/python3.7/dist-packages (from matplotlib) (2.8.1)\n",
      "Requirement already satisfied: pillow>=6.2.0 in /usr/local/lib/python3.7/dist-packages (from matplotlib) (8.2.0)\n",
      "Requirement already satisfied: cycler>=0.10 in /usr/local/lib/python3.7/dist-packages (from matplotlib) (0.10.0)\n",
      "Requirement already satisfied: six in /usr/lib/python3/dist-packages (from cycler>=0.10->matplotlib) (1.12.0)\n",
      "Requirement already satisfied: six in /usr/lib/python3/dist-packages (from cycler>=0.10->matplotlib) (1.12.0)\n",
      "\u001b[33mWARNING: You are using pip version 20.3.1; however, version 21.0.1 is available.\n",
      "You should consider upgrading via the '/usr/bin/python3 -m pip install --upgrade pip' command.\u001b[0m\n"
     ]
    }
   ],
   "source": [
    "!pip install matplotlib\n"
   ]
  },
  {
   "cell_type": "code",
   "execution_count": 64,
   "metadata": {},
   "outputs": [
    {
     "name": "stdout",
     "output_type": "stream",
     "text": [
      "Requirement already satisfied: seaborn in /usr/local/lib/python3.7/dist-packages (0.11.1)\n",
      "Requirement already satisfied: matplotlib>=2.2 in /usr/local/lib/python3.7/dist-packages (from seaborn) (3.4.1)\n",
      "Requirement already satisfied: scipy>=1.0 in /usr/local/lib/python3.7/dist-packages (from seaborn) (1.6.2)\n",
      "Requirement already satisfied: numpy>=1.15 in /usr/local/lib/python3.7/dist-packages (from seaborn) (1.19.4)\n",
      "Requirement already satisfied: pandas>=0.23 in /usr/local/lib/python3.7/dist-packages (from seaborn) (1.1.5)\n",
      "Requirement already satisfied: python-dateutil>=2.7 in /usr/local/lib/python3.7/dist-packages (from matplotlib>=2.2->seaborn) (2.8.1)\n",
      "Requirement already satisfied: pyparsing>=2.2.1 in /usr/local/lib/python3.7/dist-packages (from matplotlib>=2.2->seaborn) (2.4.7)\n",
      "Requirement already satisfied: cycler>=0.10 in /usr/local/lib/python3.7/dist-packages (from matplotlib>=2.2->seaborn) (0.10.0)\n",
      "Requirement already satisfied: pillow>=6.2.0 in /usr/local/lib/python3.7/dist-packages (from matplotlib>=2.2->seaborn) (8.2.0)\n",
      "Requirement already satisfied: kiwisolver>=1.0.1 in /usr/local/lib/python3.7/dist-packages (from matplotlib>=2.2->seaborn) (1.3.1)\n",
      "Requirement already satisfied: numpy>=1.15 in /usr/local/lib/python3.7/dist-packages (from seaborn) (1.19.4)\n",
      "Requirement already satisfied: six in /usr/lib/python3/dist-packages (from cycler>=0.10->matplotlib>=2.2->seaborn) (1.12.0)\n",
      "Requirement already satisfied: pytz>=2017.2 in /usr/local/lib/python3.7/dist-packages (from pandas>=0.23->seaborn) (2020.4)\n",
      "Requirement already satisfied: python-dateutil>=2.7 in /usr/local/lib/python3.7/dist-packages (from matplotlib>=2.2->seaborn) (2.8.1)\n",
      "Requirement already satisfied: numpy>=1.15 in /usr/local/lib/python3.7/dist-packages (from seaborn) (1.19.4)\n",
      "Requirement already satisfied: six in /usr/lib/python3/dist-packages (from cycler>=0.10->matplotlib>=2.2->seaborn) (1.12.0)\n",
      "Requirement already satisfied: numpy>=1.15 in /usr/local/lib/python3.7/dist-packages (from seaborn) (1.19.4)\n",
      "\u001b[33mWARNING: You are using pip version 20.3.1; however, version 21.0.1 is available.\n",
      "You should consider upgrading via the '/usr/bin/python3 -m pip install --upgrade pip' command.\u001b[0m\n"
     ]
    }
   ],
   "source": [
    "!pip install seaborn"
   ]
  },
  {
   "cell_type": "code",
   "execution_count": 65,
   "metadata": {},
   "outputs": [
    {
     "name": "stdout",
     "output_type": "stream",
     "text": [
      "root\n",
      " |-- CustomerID: integer (nullable = true)\n",
      " |-- Monetary: double (nullable = true)\n",
      " |-- Recency: integer (nullable = true)\n",
      " |-- Frequency: long (nullable = false)\n",
      "\n"
     ]
    }
   ],
   "source": [
    "rfm_table.printSchema()"
   ]
  },
  {
   "cell_type": "code",
   "execution_count": 66,
   "metadata": {},
   "outputs": [],
   "source": [
    "rfm_table_pandas=rfm_table.toPandas()"
   ]
  },
  {
   "cell_type": "code",
   "execution_count": 67,
   "metadata": {},
   "outputs": [
    {
     "name": "stderr",
     "output_type": "stream",
     "text": [
      "/usr/local/lib/python3.7/dist-packages/seaborn/distributions.py:2557: FutureWarning: `distplot` is a deprecated function and will be removed in a future version. Please adapt your code to use either `displot` (a figure-level function with similar flexibility) or `histplot` (an axes-level function for histograms).\n",
      "  warnings.warn(msg, FutureWarning)\n",
      "/usr/local/lib/python3.7/dist-packages/seaborn/distributions.py:2557: FutureWarning: `distplot` is a deprecated function and will be removed in a future version. Please adapt your code to use either `displot` (a figure-level function with similar flexibility) or `histplot` (an axes-level function for histograms).\n",
      "  warnings.warn(msg, FutureWarning)\n",
      "/usr/local/lib/python3.7/dist-packages/seaborn/distributions.py:2557: FutureWarning: `distplot` is a deprecated function and will be removed in a future version. Please adapt your code to use either `displot` (a figure-level function with similar flexibility) or `histplot` (an axes-level function for histograms).\n",
      "  warnings.warn(msg, FutureWarning)\n"
     ]
    },
    {
     "data": {
      "image/png": "[encoded data removed]",
      "text/plain": [
       "<Figure size 864x720 with 3 Axes>"
      ]
     },
     "metadata": {
      "needs_background": "light"
     },
     "output_type": "display_data"
    }
   ],
   "source": [
    "from scipy.stats import norm\n",
    "import seaborn as sns\n",
    "import matplotlib.pyplot as plt\n",
    "plt.figure(figsize=(12,10))\n",
    "# Plot distribution of R\n",
    "plt.subplot(3, 1, 1); sns.distplot(rfm_table_pandas['Recency'],fit=norm)\n",
    "# Plot distribution of F\n",
    "plt.subplot(3, 1, 2); sns.distplot(rfm_table_pandas['Frequency'],fit=norm)\n",
    "# Plot distribution of M\n",
    "plt.subplot(3, 1, 3); sns.distplot(rfm_table_pandas['Monetary'],fit=norm)\n",
    "# Show the plot\n",
    "plt.show()\n"
   ]
  },
  {
   "cell_type": "markdown",
   "metadata": {},
   "source": [
    "## Normalization\n"
   ]
  },
  {
   "cell_type": "code",
   "execution_count": 68,
   "metadata": {},
   "outputs": [
    {
     "data": {
      "text/plain": [
       "Row(CustomerID=15727, Monetary=5159.0599999999995, Recency=3440, Frequency=7)"
      ]
     },
     "execution_count": 68,
     "metadata": {},
     "output_type": "execute_result"
    }
   ],
   "source": [
    "clustering_fm = rfm_table\n",
    "clustering_fm.head()"
   ]
  },
  {
   "cell_type": "code",
   "execution_count": 69,
   "metadata": {},
   "outputs": [],
   "source": [
    "from pyspark.ml.feature import MinMaxScaler,VectorAssembler\n",
    "from pyspark.ml import Pipeline \n",
    "\n",
    "columns_to_scale = [\"Monetary\", \"Recency\", \"Frequency\"]\n",
    "assemblers = VectorAssembler(inputCols= [\"Monetary\", \"Recency\", \"Frequency\"], outputCol='feature' )\n",
    "scaler =MinMaxScaler(inputCol=\"feature\", outputCol='features')\n",
    "pipeline = Pipeline(stages=[assemblers,scaler])\n",
    "scalerModel = pipeline.fit(clustering_fm)\n",
    "scaledData = scalerModel.transform(clustering_fm)\n",
    "\n",
    "# min_max_scaler = MinMaxScaler()\n",
    "# x_scaled = min_max_scaler.fit_transform(clustering_fm)\n",
    "# data_scaled2 = pd.DataFrame(x_scaled)"
   ]
  },
  {
   "cell_type": "code",
   "execution_count": 70,
   "metadata": {},
   "outputs": [
    {
     "name": "stdout",
     "output_type": "stream",
     "text": [
      "+----------+------------------+-------+---------+--------------------+--------------------+\n",
      "|CustomerID|          Monetary|Recency|Frequency|             feature|            features|\n",
      "+----------+------------------+-------+---------+--------------------+--------------------+\n",
      "|     15727|5159.0599999999995|   3440|        7|[5159.05999999999...|[0.01985457160127...|\n",
      "|     13285| 2709.120000000001|   3447|        4|[2709.12000000000...|[0.01041915275181...|\n",
      "|     17679|           1992.11|   3476|        2|[1992.11,3476.0,2.0]|[0.00765774240329...|\n",
      "|     17389| 31833.68000000001|   3424|       34|[31833.6800000000...|[0.12258615374216...|\n",
      "|     12940| 899.6899999999997|   3478|        2|[899.689999999999...|[0.00345052089601...|\n",
      "|     13623|            727.74|   3454|        5| [727.74,3454.0,5.0]|[0.00278829232259...|\n",
      "|     16574| 451.4399999999999|   3495|        1|[451.439999999999...|[0.00172418208801...|\n",
      "|     15957|            428.89|   3455|        1| [428.89,3455.0,1.0]|[0.00163733559583...|\n",
      "|     15790|218.74999999999997|   3434|        1|[218.749999999999...|[8.28026422130566...|\n",
      "|     16503|           1431.93|   3530|        4|[1431.93,3530.0,4.0]|[0.00550032918864...|\n",
      "|     14570|218.05999999999995|   3704|        2|[218.059999999999...|[8.25369035008379...|\n",
      "|     17420| 598.8299999999999|   3474|        3|[598.829999999999...|[0.00229182308503...|\n",
      "|     16386| 302.5699999999999|   3452|        2|[302.569999999999...|[0.00115084118819...|\n",
      "|     14450|483.25000000000006|   3604|        3|[483.250000000000...|[0.00184669148563...|\n",
      "|     16339| 94.05000000000001|   3708|        1|[94.0500000000000...|[3.47771097294837...|\n",
      "|     15619|336.40000000000003|   3434|        1|[336.400000000000...|[0.00128113018289...|\n",
      "|     16861|173.76000000000002|   3483|        2|[173.760000000000...|[6.54757079192639...|\n",
      "|     15447|155.17000000000002|   3754|        1|[155.170000000000...|[5.83161678320978...|\n",
      "|     18024|            389.78|   3576|        2| [389.78,3576.0,2.0]|[0.00148671181272...|\n",
      "|     13832|52.199999999999996|   3443|        1|[52.1999999999999...|[1.86594791405701...|\n",
      "+----------+------------------+-------+---------+--------------------+--------------------+\n",
      "only showing top 20 rows\n",
      "\n"
     ]
    }
   ],
   "source": [
    "scaledData.show()"
   ]
  },
  {
   "cell_type": "code",
   "execution_count": 84,
   "metadata": {},
   "outputs": [],
   "source": [
    "data_scaled=scaledData.withColumn(\"features\", col('feature')).select(\"CustomerID\",\"features\")"
   ]
  },
  {
   "cell_type": "code",
   "execution_count": 85,
   "metadata": {},
   "outputs": [
    {
     "name": "stdout",
     "output_type": "stream",
     "text": [
      "+----------+--------------------+\n",
      "|CustomerID|            features|\n",
      "+----------+--------------------+\n",
      "|     15727|[5159.05999999999...|\n",
      "|     13285|[2709.12000000000...|\n",
      "|     17679|[1992.11,3476.0,2.0]|\n",
      "|     17389|[31833.6800000000...|\n",
      "|     12940|[899.689999999999...|\n",
      "|     13623| [727.74,3454.0,5.0]|\n",
      "|     16574|[451.439999999999...|\n",
      "|     15957| [428.89,3455.0,1.0]|\n",
      "|     15790|[218.749999999999...|\n",
      "|     16503|[1431.93,3530.0,4.0]|\n",
      "|     14570|[218.059999999999...|\n",
      "|     17420|[598.829999999999...|\n",
      "|     16386|[302.569999999999...|\n",
      "|     14450|[483.250000000000...|\n",
      "|     16339|[94.0500000000000...|\n",
      "|     15619|[336.400000000000...|\n",
      "|     16861|[173.760000000000...|\n",
      "|     15447|[155.170000000000...|\n",
      "|     18024| [389.78,3576.0,2.0]|\n",
      "|     13832|[52.1999999999999...|\n",
      "+----------+--------------------+\n",
      "only showing top 20 rows\n",
      "\n"
     ]
    }
   ],
   "source": [
    "data_scaled.show()"
   ]
  },
  {
   "cell_type": "markdown",
   "metadata": {},
   "source": [
    "## Elbow Method"
   ]
  },
  {
   "cell_type": "code",
   "execution_count": 86,
   "metadata": {},
   "outputs": [],
   "source": [
    "from pyspark.ml.clustering import KMeans\n",
    "from pyspark.ml.evaluation import ClusteringEvaluator"
   ]
  },
  {
   "cell_type": "code",
   "execution_count": 87,
   "metadata": {},
   "outputs": [],
   "source": [
    "wscc = []\n",
    "for i in range(4,5):\n",
    "    kmeans = KMeans(featuresCol='features',k=i)\n",
    "    kmeans.setSeed(1)\n",
    "    model = kmeans.fit(data_scaled)\n",
    "\n",
    "    # Make predictions\n",
    "    predictions = model.transform(data_scaled)\n",
    "\n",
    "    # Evaluate clustering by computing Silhouette score\n",
    "    evaluator = ClusteringEvaluator()\n",
    "\n",
    "    silhouette = evaluator.evaluate(predictions)\n",
    "    wscc.append(silhouette)\n"
   ]
  },
  {
   "cell_type": "code",
   "execution_count": 88,
   "metadata": {},
   "outputs": [
    {
     "ename": "ValueError",
     "evalue": "x and y must have same first dimension, but have shapes (13,) and (1,)",
     "output_type": "error",
     "traceback": [
      "\u001b[0;31m---------------------------------------------------------------------------\u001b[0m",
      "\u001b[0;31mValueError\u001b[0m                                Traceback (most recent call last)",
      "\u001b[0;32m<ipython-input-88-0badb33a4351>\u001b[0m in \u001b[0;36m<module>\u001b[0;34m\u001b[0m\n\u001b[0;32m----> 1\u001b[0;31m \u001b[0mplt\u001b[0m\u001b[0;34m.\u001b[0m\u001b[0mplot\u001b[0m\u001b[0;34m(\u001b[0m\u001b[0mrange\u001b[0m\u001b[0;34m(\u001b[0m\u001b[0;36m2\u001b[0m\u001b[0;34m,\u001b[0m\u001b[0;36m15\u001b[0m\u001b[0;34m)\u001b[0m\u001b[0;34m,\u001b[0m\u001b[0mwscc\u001b[0m\u001b[0;34m,\u001b[0m\u001b[0mmarker\u001b[0m\u001b[0;34m=\u001b[0m\u001b[0;34m\"*\"\u001b[0m\u001b[0;34m,\u001b[0m\u001b[0mc\u001b[0m\u001b[0;34m=\u001b[0m\u001b[0;34m\"black\"\u001b[0m\u001b[0;34m)\u001b[0m\u001b[0;34m\u001b[0m\u001b[0;34m\u001b[0m\u001b[0m\n\u001b[0m\u001b[1;32m      2\u001b[0m \u001b[0mplt\u001b[0m\u001b[0;34m.\u001b[0m\u001b[0mtitle\u001b[0m\u001b[0;34m(\u001b[0m\u001b[0;34m\"Elbow plot for optimal number of clusters\"\u001b[0m\u001b[0;34m)\u001b[0m\u001b[0;34m\u001b[0m\u001b[0;34m\u001b[0m\u001b[0m\n",
      "\u001b[0;32m/usr/local/lib/python3.7/dist-packages/matplotlib/pyplot.py\u001b[0m in \u001b[0;36mplot\u001b[0;34m(scalex, scaley, data, *args, **kwargs)\u001b[0m\n\u001b[1;32m   2988\u001b[0m     return gca().plot(\n\u001b[1;32m   2989\u001b[0m         \u001b[0;34m*\u001b[0m\u001b[0margs\u001b[0m\u001b[0;34m,\u001b[0m \u001b[0mscalex\u001b[0m\u001b[0;34m=\u001b[0m\u001b[0mscalex\u001b[0m\u001b[0;34m,\u001b[0m \u001b[0mscaley\u001b[0m\u001b[0;34m=\u001b[0m\u001b[0mscaley\u001b[0m\u001b[0;34m,\u001b[0m\u001b[0;34m\u001b[0m\u001b[0;34m\u001b[0m\u001b[0m\n\u001b[0;32m-> 2990\u001b[0;31m         **({\"data\": data} if data is not None else {}), **kwargs)\n\u001b[0m\u001b[1;32m   2991\u001b[0m \u001b[0;34m\u001b[0m\u001b[0m\n\u001b[1;32m   2992\u001b[0m \u001b[0;34m\u001b[0m\u001b[0m\n",
      "\u001b[0;32m/usr/local/lib/python3.7/dist-packages/matplotlib/axes/_axes.py\u001b[0m in \u001b[0;36mplot\u001b[0;34m(self, scalex, scaley, data, *args, **kwargs)\u001b[0m\n\u001b[1;32m   1603\u001b[0m         \"\"\"\n\u001b[1;32m   1604\u001b[0m         \u001b[0mkwargs\u001b[0m \u001b[0;34m=\u001b[0m \u001b[0mcbook\u001b[0m\u001b[0;34m.\u001b[0m\u001b[0mnormalize_kwargs\u001b[0m\u001b[0;34m(\u001b[0m\u001b[0mkwargs\u001b[0m\u001b[0;34m,\u001b[0m \u001b[0mmlines\u001b[0m\u001b[0;34m.\u001b[0m\u001b[0mLine2D\u001b[0m\u001b[0;34m)\u001b[0m\u001b[0;34m\u001b[0m\u001b[0;34m\u001b[0m\u001b[0m\n\u001b[0;32m-> 1605\u001b[0;31m         \u001b[0mlines\u001b[0m \u001b[0;34m=\u001b[0m \u001b[0;34m[\u001b[0m\u001b[0;34m*\u001b[0m\u001b[0mself\u001b[0m\u001b[0;34m.\u001b[0m\u001b[0m_get_lines\u001b[0m\u001b[0;34m(\u001b[0m\u001b[0;34m*\u001b[0m\u001b[0margs\u001b[0m\u001b[0;34m,\u001b[0m \u001b[0mdata\u001b[0m\u001b[0;34m=\u001b[0m\u001b[0mdata\u001b[0m\u001b[0;34m,\u001b[0m \u001b[0;34m**\u001b[0m\u001b[0mkwargs\u001b[0m\u001b[0;34m)\u001b[0m\u001b[0;34m]\u001b[0m\u001b[0;34m\u001b[0m\u001b[0;34m\u001b[0m\u001b[0m\n\u001b[0m\u001b[1;32m   1606\u001b[0m         \u001b[0;32mfor\u001b[0m \u001b[0mline\u001b[0m \u001b[0;32min\u001b[0m \u001b[0mlines\u001b[0m\u001b[0;34m:\u001b[0m\u001b[0;34m\u001b[0m\u001b[0;34m\u001b[0m\u001b[0m\n\u001b[1;32m   1607\u001b[0m             \u001b[0mself\u001b[0m\u001b[0;34m.\u001b[0m\u001b[0madd_line\u001b[0m\u001b[0;34m(\u001b[0m\u001b[0mline\u001b[0m\u001b[0;34m)\u001b[0m\u001b[0;34m\u001b[0m\u001b[0;34m\u001b[0m\u001b[0m\n",
      "\u001b[0;32m/usr/local/lib/python3.7/dist-packages/matplotlib/axes/_base.py\u001b[0m in \u001b[0;36m__call__\u001b[0;34m(self, data, *args, **kwargs)\u001b[0m\n\u001b[1;32m    313\u001b[0m                 \u001b[0mthis\u001b[0m \u001b[0;34m+=\u001b[0m \u001b[0margs\u001b[0m\u001b[0;34m[\u001b[0m\u001b[0;36m0\u001b[0m\u001b[0;34m]\u001b[0m\u001b[0;34m,\u001b[0m\u001b[0;34m\u001b[0m\u001b[0;34m\u001b[0m\u001b[0m\n\u001b[1;32m    314\u001b[0m                 \u001b[0margs\u001b[0m \u001b[0;34m=\u001b[0m \u001b[0margs\u001b[0m\u001b[0;34m[\u001b[0m\u001b[0;36m1\u001b[0m\u001b[0;34m:\u001b[0m\u001b[0;34m]\u001b[0m\u001b[0;34m\u001b[0m\u001b[0;34m\u001b[0m\u001b[0m\n\u001b[0;32m--> 315\u001b[0;31m             \u001b[0;32myield\u001b[0m \u001b[0;32mfrom\u001b[0m \u001b[0mself\u001b[0m\u001b[0;34m.\u001b[0m\u001b[0m_plot_args\u001b[0m\u001b[0;34m(\u001b[0m\u001b[0mthis\u001b[0m\u001b[0;34m,\u001b[0m \u001b[0mkwargs\u001b[0m\u001b[0;34m)\u001b[0m\u001b[0;34m\u001b[0m\u001b[0;34m\u001b[0m\u001b[0m\n\u001b[0m\u001b[1;32m    316\u001b[0m \u001b[0;34m\u001b[0m\u001b[0m\n\u001b[1;32m    317\u001b[0m     \u001b[0;32mdef\u001b[0m \u001b[0mget_next_color\u001b[0m\u001b[0;34m(\u001b[0m\u001b[0mself\u001b[0m\u001b[0;34m)\u001b[0m\u001b[0;34m:\u001b[0m\u001b[0;34m\u001b[0m\u001b[0;34m\u001b[0m\u001b[0m\n",
      "\u001b[0;32m/usr/local/lib/python3.7/dist-packages/matplotlib/axes/_base.py\u001b[0m in \u001b[0;36m_plot_args\u001b[0;34m(self, tup, kwargs, return_kwargs)\u001b[0m\n\u001b[1;32m    499\u001b[0m \u001b[0;34m\u001b[0m\u001b[0m\n\u001b[1;32m    500\u001b[0m         \u001b[0;32mif\u001b[0m \u001b[0mx\u001b[0m\u001b[0;34m.\u001b[0m\u001b[0mshape\u001b[0m\u001b[0;34m[\u001b[0m\u001b[0;36m0\u001b[0m\u001b[0;34m]\u001b[0m \u001b[0;34m!=\u001b[0m \u001b[0my\u001b[0m\u001b[0;34m.\u001b[0m\u001b[0mshape\u001b[0m\u001b[0;34m[\u001b[0m\u001b[0;36m0\u001b[0m\u001b[0;34m]\u001b[0m\u001b[0;34m:\u001b[0m\u001b[0;34m\u001b[0m\u001b[0;34m\u001b[0m\u001b[0m\n\u001b[0;32m--> 501\u001b[0;31m             raise ValueError(f\"x and y must have same first dimension, but \"\n\u001b[0m\u001b[1;32m    502\u001b[0m                              f\"have shapes {x.shape} and {y.shape}\")\n\u001b[1;32m    503\u001b[0m         \u001b[0;32mif\u001b[0m \u001b[0mx\u001b[0m\u001b[0;34m.\u001b[0m\u001b[0mndim\u001b[0m \u001b[0;34m>\u001b[0m \u001b[0;36m2\u001b[0m \u001b[0;32mor\u001b[0m \u001b[0my\u001b[0m\u001b[0;34m.\u001b[0m\u001b[0mndim\u001b[0m \u001b[0;34m>\u001b[0m \u001b[0;36m2\u001b[0m\u001b[0;34m:\u001b[0m\u001b[0;34m\u001b[0m\u001b[0;34m\u001b[0m\u001b[0m\n",
      "\u001b[0;31mValueError\u001b[0m: x and y must have same first dimension, but have shapes (13,) and (1,)"
     ]
    },
    {
     "data": {
      "image/png": "[encoded data removed]",
      "text/plain": [
       "<Figure size 432x288 with 1 Axes>"
      ]
     },
     "metadata": {
      "needs_background": "light"
     },
     "output_type": "display_data"
    }
   ],
   "source": [
    "plt.plot(range(2,15),wscc,marker=\"*\",c=\"black\")\n",
    "plt.title(\"Elbow plot for optimal number of clusters\")"
   ]
  },
  {
   "cell_type": "code",
   "execution_count": null,
   "metadata": {},
   "outputs": [],
   "source": [
    "wscc"
   ]
  },
  {
   "cell_type": "code",
   "execution_count": null,
   "metadata": {},
   "outputs": [],
   "source": [
    "labels = [p.prediction for p in predictions ]"
   ]
  },
  {
   "cell_type": "code",
   "execution_count": 91,
   "metadata": {},
   "outputs": [
    {
     "name": "stdout",
     "output_type": "stream",
     "text": [
      "+----------+--------------------+----------+\n",
      "|CustomerID|            features|prediction|\n",
      "+----------+--------------------+----------+\n",
      "|     15727|[5159.05999999999...|         0|\n",
      "|     13285|[2709.12000000000...|         0|\n",
      "|     17679|[1992.11,3476.0,2.0]|         0|\n",
      "|     17389|[31833.6800000000...|         3|\n",
      "|     12940|[899.689999999999...|         0|\n",
      "|     13623| [727.74,3454.0,5.0]|         0|\n",
      "|     16574|[451.439999999999...|         0|\n",
      "|     15957| [428.89,3455.0,1.0]|         0|\n",
      "|     15790|[218.749999999999...|         0|\n",
      "|     16503|[1431.93,3530.0,4.0]|         0|\n",
      "|     14570|[218.059999999999...|         0|\n",
      "|     17420|[598.829999999999...|         0|\n",
      "|     16386|[302.569999999999...|         0|\n",
      "|     14450|[483.250000000000...|         0|\n",
      "|     16339|[94.0500000000000...|         0|\n",
      "|     15619|[336.400000000000...|         0|\n",
      "|     16861|[173.760000000000...|         0|\n",
      "|     15447|[155.170000000000...|         0|\n",
      "|     18024| [389.78,3576.0,2.0]|         0|\n",
      "|     13832|[52.1999999999999...|         0|\n",
      "+----------+--------------------+----------+\n",
      "only showing top 20 rows\n",
      "\n"
     ]
    }
   ],
   "source": [
    "predictions.show()"
   ]
  },
  {
   "cell_type": "code",
   "execution_count": 96,
   "metadata": {},
   "outputs": [],
   "source": [
    "\n",
    "df_clustered=df.join(predictions, ['CustomerID']).select('CustomerID',\"InvoiceNo\",\"Description\",\"prediction\")"
   ]
  },
  {
   "cell_type": "code",
   "execution_count": 98,
   "metadata": {},
   "outputs": [
    {
     "name": "stdout",
     "output_type": "stream",
     "text": [
      "+----------+---------+--------------------+----------+\n",
      "|CustomerID|InvoiceNo|         Description|prediction|\n",
      "+----------+---------+--------------------+----------+\n",
      "|     12940|   571270|S/12 VANILLA  BOT...|         0|\n",
      "|     12940|   566488|WHITE HANGING HEA...|         0|\n",
      "|     12940|   571270|FAMILY ALBUM WHIT...|         0|\n",
      "|     12940|   566488|VINTAGE CHRISTMAS...|         0|\n",
      "|     12940|   571270|4 VANILLA BOTANIC...|         0|\n",
      "|     12940|   566488|ASSORTED COLOUR B...|         0|\n",
      "|     12940|   571270|WHITE WOOD GARDEN...|         0|\n",
      "|     12940|   571270|CHRISTMAS RETROSP...|         0|\n",
      "|     12940|   571270|HEART OF WICKER S...|         0|\n",
      "|     12940|   571270|SMALL WHITE HEART...|         0|\n",
      "|     12940|   571270|CHRISTMAS TREE HE...|         0|\n",
      "|     12940|   571270|3 WHITE CHOC MORR...|         0|\n",
      "|     12940|   571270|SET/2 RED RETROSP...|         0|\n",
      "|     12940|   571270|SWEETHEART CREAM ...|         0|\n",
      "|     12940|   571270|4 WILDFLOWER BOTA...|         0|\n",
      "|     12940|   571270|ENCHANTED BIRD CO...|         0|\n",
      "|     12940|   571270|RED HANGING HEART...|         0|\n",
      "|     12940|   566488|IVORY DINER WALL ...|         0|\n",
      "|     12940|   571270| REGENCY SUGAR TONGS|         0|\n",
      "|     12940|   566488|       PARTY BUNTING|         0|\n",
      "+----------+---------+--------------------+----------+\n",
      "only showing top 20 rows\n",
      "\n"
     ]
    }
   ],
   "source": [
    "df_clustered.show()"
   ]
  },
  {
   "cell_type": "code",
   "execution_count": 99,
   "metadata": {},
   "outputs": [],
   "source": [
    "df_clustered.write.csv('clustered.csv')"
   ]
  },
  {
   "cell_type": "code",
   "execution_count": 103,
   "metadata": {},
   "outputs": [],
   "source": [
    "df_cluster=spark.read.format('csv').option(\"inferSchema\", \"true\")\\\n",
    "    .load(\"hdfs://namenode/user/taipt/clustered\")"
   ]
  },
  {
   "cell_type": "code",
   "execution_count": 104,
   "metadata": {},
   "outputs": [
    {
     "name": "stdout",
     "output_type": "stream",
     "text": [
      "+-----+------+--------------------+---+\n",
      "|  _c0|   _c1|                 _c2|_c3|\n",
      "+-----+------+--------------------+---+\n",
      "|13158|559308|RED GINGHAM ROSE ...|  0|\n",
      "|13158|565727|ROUND SNACK BOXES...|  0|\n",
      "|13158|563095|LUNCH BAG SUKI DE...|  0|\n",
      "|13158|565727|SET 12 KIDS COLOU...|  0|\n",
      "|13158|563095|ALARM CLOCK BAKEL...|  0|\n",
      "|13158|565727|FEATHER PEN,LIGHT...|  0|\n",
      "|13158|559308|MOUSE TOY WITH PI...|  0|\n",
      "|13158|563095|DINOSAUR HEIGHT C...|  0|\n",
      "|13158|559308|DINOSAUR KEYRINGS...|  0|\n",
      "|13158|559308|LUNCH BAG SPACEBO...|  0|\n",
      "|13158|559308|LUNCH BAG ALPHABE...|  0|\n",
      "|13158|565727|   GUMBALL COAT RACK|  0|\n",
      "|13158|541995|  PINK POLKADOT BOWL|  0|\n",
      "|13158|541995|  BLUE POLKADOT BOWL|  0|\n",
      "|13158|559308|NURSERY A,B,C PAI...|  0|\n",
      "|13158|563095|LUNCH BAG VINTAGE...|  0|\n",
      "|13158|565727|STRAWBERRY BATH S...|  0|\n",
      "|13158|565727|VINTAGE CHRISTMAS...|  0|\n",
      "|13158|541995| RED RETROSPOT PLATE|  0|\n",
      "|13158|559308|PAPER BUNTING RET...|  0|\n",
      "+-----+------+--------------------+---+\n",
      "only showing top 20 rows\n",
      "\n"
     ]
    }
   ],
   "source": [
    "df_cluster.show()"
   ]
  },
  {
   "cell_type": "code",
   "execution_count": null,
   "metadata": {},
   "outputs": [],
   "source": []
  }
 ],
 "metadata": {
  "kernelspec": {
   "display_name": "Python 3",
   "language": "python",
   "name": "python3"
  },
  "language_info": {
   "codemirror_mode": {
    "name": "ipython",
    "version": 3
   },
   "file_extension": ".py",
   "mimetype": "text/x-python",
   "name": "python",
   "nbconvert_exporter": "python",
   "pygments_lexer": "ipython3",
   "version": "3.7.3"
  }
 },
 "nbformat": 4,
 "nbformat_minor": 4
}
