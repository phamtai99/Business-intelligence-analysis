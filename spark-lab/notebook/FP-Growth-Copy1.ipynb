{
 "cells": [
  {
   "cell_type": "markdown",
   "metadata": {},
   "source": [
    "## Khởi tạo môi trường"
   ]
  },
  {
   "cell_type": "code",
   "execution_count": 1,
   "metadata": {},
   "outputs": [],
   "source": [
    "import os \n",
    "\n",
    "os.environ[\"PYSPARK_PYTHON\"]=\"python3.7\"\n",
    "os.environ[\"PYSPARK_DRIVER_PYTHON\"]=\"python3.7\""
   ]
  },
  {
   "cell_type": "markdown",
   "metadata": {},
   "source": [
    "## Tạo phiên spark"
   ]
  },
  {
   "cell_type": "code",
   "execution_count": 2,
   "metadata": {},
   "outputs": [],
   "source": [
    "from pyspark.sql import SparkSession, DataFrame\n",
    "from pyspark.sql.functions import *\n",
    "from pyspark.sql.types import *\n",
    "from pyspark.ml import PipelineModel\n",
    "from pyspark.context import SparkContext\n",
    "from pyspark.sql.session import SparkSession\n",
    "sc = SparkContext('local')\n",
    "spark = SparkSession(sc)\n",
    "# spark = SparkSession \\\n",
    "#         .builder \\\n",
    "#         .master(\"spark://spark-master:7077\") \\\n",
    "#         .appName(\"FP-Growth-coppy\") \\\n",
    "#         .getOrCreate()"
   ]
  },
  {
   "cell_type": "markdown",
   "metadata": {},
   "source": [
    "## Đọc dữ liệu từ HDFS"
   ]
  },
  {
   "cell_type": "code",
   "execution_count": 3,
   "metadata": {},
   "outputs": [],
   "source": [
    "df = spark.read.format('csv').option(\"inferSchema\", \"true\").load(\"hdfs://namenode/user/taipt/clustered\")"
   ]
  },
  {
   "cell_type": "code",
   "execution_count": 4,
   "metadata": {},
   "outputs": [],
   "source": [
    "df_date = spark.read.format('csv').option(\"inferSchema\", \"true\").load(\"hdfs://namenode/user/taipt/customerDate\")"
   ]
  },
  {
   "cell_type": "code",
   "execution_count": 5,
   "metadata": {},
   "outputs": [
    {
     "name": "stdout",
     "output_type": "stream",
     "text": [
      "root\n",
      " |-- _c0: integer (nullable = true)\n",
      " |-- _c1: timestamp (nullable = true)\n",
      "\n"
     ]
    }
   ],
   "source": [
    "df_date.printSchema()"
   ]
  },
  {
   "cell_type": "code",
   "execution_count": 6,
   "metadata": {},
   "outputs": [],
   "source": [
    "df_date=df_date.withColumn(\"InvoiceDate\", col(\"_c1\"))\n",
    "df_date=df_date.select(col('_c0'), col('InvoiceDate'))\n",
    "df_date=df_date.filter(col(\"InvoiceDate\").between('2011-06-09 00:00:00','2011-12-09 00:00:00 '))\n",
    "df_date=df_date.na.drop().dropDuplicates()"
   ]
  },
  {
   "cell_type": "code",
   "execution_count": 7,
   "metadata": {},
   "outputs": [],
   "source": [
    "df_date=df_date.select(col('_c0'), col('InvoiceDate'))"
   ]
  },
  {
   "cell_type": "code",
   "execution_count": 61,
   "metadata": {},
   "outputs": [],
   "source": [
    "df_date=df_date.filter(col(\"InvoiceDate\").between('2011-06-09 00:00:00','2011-12-09 00:00:00 '))"
   ]
  },
  {
   "cell_type": "code",
   "execution_count": 62,
   "metadata": {},
   "outputs": [],
   "source": [
    "df_date=df_date.na.drop().dropDuplicates()"
   ]
  },
  {
   "cell_type": "code",
   "execution_count": 63,
   "metadata": {},
   "outputs": [
    {
     "name": "stdout",
     "output_type": "stream",
     "text": [
      "+-----+-------------------+\n",
      "|  _c0|        InvoiceDate|\n",
      "+-----+-------------------+\n",
      "|15021|2011-06-17 12:16:00|\n",
      "|17389|2011-08-03 10:12:00|\n",
      "|17585|2011-06-22 13:28:00|\n",
      "+-----+-------------------+\n",
      "only showing top 3 rows\n",
      "\n"
     ]
    }
   ],
   "source": [
    "# df_date.show(3)"
   ]
  },
  {
   "cell_type": "code",
   "execution_count": null,
   "metadata": {},
   "outputs": [],
   "source": []
  },
  {
   "cell_type": "code",
   "execution_count": 13,
   "metadata": {},
   "outputs": [
    {
     "name": "stdout",
     "output_type": "stream",
     "text": [
      "root\n",
      " |-- _c0: integer (nullable = true)\n",
      " |-- _c1: integer (nullable = true)\n",
      " |-- _c2: string (nullable = true)\n",
      " |-- _c3: integer (nullable = true)\n",
      "\n"
     ]
    }
   ],
   "source": [
    "df.printSchema()"
   ]
  },
  {
   "cell_type": "code",
   "execution_count": 14,
   "metadata": {},
   "outputs": [
    {
     "data": {
      "text/plain": [
       "DataFrame[_c0: int, _c1: int, _c2: string, _c3: int, CustomerID: int, InvoiceNo: int, Description: string, Cluster: int]"
      ]
     },
     "execution_count": 14,
     "metadata": {},
     "output_type": "execute_result"
    }
   ],
   "source": [
    "df.withColumn(\"CustomerID\", col(\"_c0\")).withColumn(\"InvoiceNo\", col(\"_c1\")).withColumn(\"Description\", col(\"_c2\")).withColumn(\"Cluster\", col(\"_c3\"))"
   ]
  },
  {
   "cell_type": "code",
   "execution_count": 15,
   "metadata": {},
   "outputs": [],
   "source": [
    "df_after=df"
   ]
  },
  {
   "cell_type": "code",
   "execution_count": 16,
   "metadata": {},
   "outputs": [],
   "source": [
    "# df.show()"
   ]
  },
  {
   "cell_type": "code",
   "execution_count": null,
   "metadata": {},
   "outputs": [],
   "source": []
  },
  {
   "cell_type": "markdown",
   "metadata": {},
   "source": [
    "## Tiền xử lý dữ liệu"
   ]
  },
  {
   "cell_type": "code",
   "execution_count": 17,
   "metadata": {},
   "outputs": [],
   "source": [
    "df = df.groupBy(\"_c0\", \"_c1\", \"_c3\").agg(collect_set(\"_c2\").alias(\"items\"))"
   ]
  },
  {
   "cell_type": "code",
   "execution_count": 18,
   "metadata": {},
   "outputs": [],
   "source": [
    "df = df.filter((df._c3==\"0\"))"
   ]
  },
  {
   "cell_type": "code",
   "execution_count": 19,
   "metadata": {},
   "outputs": [
    {
     "name": "stdout",
     "output_type": "stream",
     "text": [
      "root\n",
      " |-- _c0: integer (nullable = true)\n",
      " |-- _c1: integer (nullable = true)\n",
      " |-- _c3: integer (nullable = true)\n",
      " |-- items: array (nullable = true)\n",
      " |    |-- element: string (containsNull = false)\n",
      "\n"
     ]
    }
   ],
   "source": [
    "df.printSchema()\n"
   ]
  },
  {
   "cell_type": "code",
   "execution_count": 20,
   "metadata": {},
   "outputs": [
    {
     "name": "stdout",
     "output_type": "stream",
     "text": [
      "+-----+------+---+--------------------+\n",
      "|  _c0|   _c1|_c3|               items|\n",
      "+-----+------+---+--------------------+\n",
      "|12951|553909|  0|[JUMBO BAG DOILEY...|\n",
      "|14037|557038|  0|[FELTCRAFT DOLL E...|\n",
      "|14483|545470|  0|[MONEY BOX BISCUI...|\n",
      "|14708|537350|  0|[MULTI COLOUR SIL...|\n",
      "|15063|552644|  0|[REGENCY TEAPOT R...|\n",
      "|15555|574673|  0|[WOODLAND MINI BA...|\n",
      "|15572|548952|  0|[EASTER TIN CHICK...|\n",
      "|16712|579686|  0|[IVORY CAFE HANGI...|\n",
      "|17315|564976|  0|[72 SWEETHEART FA...|\n",
      "|17720|576056|  0|[15CM CHRISTMAS G...|\n",
      "|17757|549572|  0|[BLUE TEA TOWEL C...|\n",
      "|17932|575729|  0|[SET OF 6 T-LIGHT...|\n",
      "|18118|555631|  0|[RIBBON REEL HEAR...|\n",
      "|14071|580876|  0|[SMALL YELLOW BAB...|\n",
      "|14409|537410|  0|[HAND WARMER BABU...|\n",
      "|14560|545989|  0|[SWEETHEART CAKES...|\n",
      "|15150|574723|  0|[SET OF 6 RIBBONS...|\n",
      "|15812|542212|  0|[EDWARDIAN PARASO...|\n",
      "|16880|555508|  0|[FANCY FONT BIRTH...|\n",
      "|17135|571641|  0|[SWISS CHALET TRE...|\n",
      "+-----+------+---+--------------------+\n",
      "only showing top 20 rows\n",
      "\n"
     ]
    }
   ],
   "source": [
    "df.show()"
   ]
  },
  {
   "cell_type": "code",
   "execution_count": 21,
   "metadata": {},
   "outputs": [],
   "source": [
    "list_item_of_user=df.select(\"items\").where(df._c0==12951).collect()"
   ]
  },
  {
   "cell_type": "code",
   "execution_count": 22,
   "metadata": {},
   "outputs": [
    {
     "data": {
      "text/plain": [
       "[Row(items=['JUMBO BAG DOILEY PATTERNS', 'SPOTTY BUNTING', 'PAPER BUNTING RETROSPOT', 'PAPER BUNTING VINTAGE PAISLEY', 'VINTAGE UNION JACK BUNTING', 'SET OF 10 LED DOLLY LIGHTS', 'RECYCLING BAG RETROSPOT', 'PAPER CHAIN KIT VINTAGE CHRISTMAS', 'WOODEN REGATTA BUNTING']),\n",
       " Row(items=['WOODEN UNION JACK BUNTING', 'STARS GIFT TAPE', 'TEA TIME PARTY BUNTING', 'VINTAGE UNION JACK BUNTING', 'PAPER BUNTING RETROSPOT', 'GROW YOUR OWN BASIL IN ENAMEL MUG']),\n",
       " Row(items=['LARGE CAKE TOWEL PINK SPOTS', 'WASHROOM METAL SIGN', 'SMALL HEART MEASURING SPOONS', 'CALENDAR PAPER CUT DESIGN', 'T-LIGHT HOLDER SILVER HEART HANDLE', 'LAUNDRY 15C METAL SIGN', 'JAM MAKING SET WITH JARS']),\n",
       " Row(items=['FELTCRAFT 6 FLOWER FRIENDS', 'PINK HEART SHAPE EGG FRYING PAN', '6 RIBBONS EMPIRE', 'ZINC WILLIE WINKIE  CANDLE STICK', 'WOODEN HAPPY BIRTHDAY GARLAND', 'HAPPY EASTER HANGING DECORATION', 'HOMEMADE JAM SCENTED CANDLES', 'ELEPHANT, BIRTHDAY CARD,', 'PINK BLUE FELT CRAFT TRINKET BOX', '10 COLOUR SPACEBOY PEN', 'SINGLE HEART ZINC T-LIGHT HOLDER', 'PINK HAPPY BIRTHDAY BUNTING', 'BLUE HARMONICA IN BOX', 'POLYESTER FILLER PAD 40x40cm']),\n",
       " Row(items=['WOODEN UNION JACK BUNTING', 'SET OF 6 T-LIGHTS TOADSTOOLS', \"CLOCK MAGNET MUM'S KITCHEN\", 'SET/5 RED RETROSPOT LID GLASS BOWLS', 'PAPER CHAIN KIT EMPIRE', 'ZINC WILLIE WINKIE  CANDLE STICK', 'RECYCLING BAG RETROSPOT', 'TOY TIDY PINK POLKADOT', 'WOODEN REGATTA BUNTING']),\n",
       " Row(items=['SET OF 6 RIBBONS VINTAGE CHRISTMAS', 'SET OF 6 T-LIGHTS TOADSTOOLS', 'HEART T-LIGHT HOLDER WILLIE WINKIE', 'CHRISTMAS CRAFT LITTLE FRIENDS', 'JUMBO BAG VINTAGE DOILY', 'JUMBO BAG VINTAGE CHRISTMAS', 'ROTATING SILVER ANGELS T-LIGHT HLDR', 'SET OF 20 VINTAGE CHRISTMAS NAPKINS', '6 RIBBONS RUSTIC CHARM', 'BOX OF 6 MINI VINTAGE CRACKERS', 'WRAP CHRISTMAS VILLAGE', '6 GIFT TAGS VINTAGE CHRISTMAS', 'NATURAL SLATE HEART CHALKBOARD', 'RECYCLING BAG RETROSPOT', 'PAPER CHAIN KIT VINTAGE CHRISTMAS', 'CHRISTMAS CRAFT TREE TOP ANGEL', 'BREAD BIN DINER STYLE IVORY', 'RETROSPOT SMALL TUBE MATCHES'])]"
      ]
     },
     "execution_count": 22,
     "metadata": {},
     "output_type": "execute_result"
    }
   ],
   "source": [
    "list_item_of_user"
   ]
  },
  {
   "cell_type": "markdown",
   "metadata": {},
   "source": [
    "## FP-Growth"
   ]
  },
  {
   "cell_type": "code",
   "execution_count": 23,
   "metadata": {},
   "outputs": [],
   "source": [
    "from pyspark.ml.fpm import FPGrowth"
   ]
  },
  {
   "cell_type": "code",
   "execution_count": 24,
   "metadata": {},
   "outputs": [],
   "source": [
    "df = df.select(\"_c0\", \"_c1\", \"items\")"
   ]
  },
  {
   "cell_type": "code",
   "execution_count": 25,
   "metadata": {},
   "outputs": [],
   "source": [
    "fpGrowth = FPGrowth(itemsCol=\"items\", minSupport=0.01, minConfidence=0.02)"
   ]
  },
  {
   "cell_type": "code",
   "execution_count": 26,
   "metadata": {},
   "outputs": [],
   "source": [
    "model = fpGrowth.fit(df)"
   ]
  },
  {
   "cell_type": "markdown",
   "metadata": {},
   "source": [
    "### Display frequent itemsets"
   ]
  },
  {
   "cell_type": "code",
   "execution_count": 27,
   "metadata": {},
   "outputs": [
    {
     "name": "stdout",
     "output_type": "stream",
     "text": [
      "+------------------------------------------------------------------------------------+----+\n",
      "|items                                                                               |freq|\n",
      "+------------------------------------------------------------------------------------+----+\n",
      "|[CANDLEHOLDER PINK HANGING HEART]                                                   |270 |\n",
      "|[CANDLEHOLDER PINK HANGING HEART, WHITE HANGING HEART T-LIGHT HOLDER]               |203 |\n",
      "|[PINK FLORAL FELTCRAFT SHOULDER BAG]                                                |184 |\n",
      "|[PINK BABY BUNTING]                                                                 |137 |\n",
      "|[WHITE HANGING HEART T-LIGHT HOLDER]                                                |1567|\n",
      "|[ASSORTED COLOUR BIRD ORNAMENT]                                                     |1109|\n",
      "|[ASSORTED COLOUR BIRD ORNAMENT, WHITE HANGING HEART T-LIGHT HOLDER]                 |221 |\n",
      "|[PLASTERS IN TIN CIRCUS PARADE]                                                     |270 |\n",
      "|[BATH BUILDING BLOCK WORD]                                                          |184 |\n",
      "|[CHILDRENS CUTLERY RETROSPOT RED]                                                   |137 |\n",
      "|[REGENCY CAKESTAND 3 TIER]                                                          |1072|\n",
      "|[REGENCY CAKESTAND 3 TIER, ASSORTED COLOUR BIRD ORNAMENT]                           |162 |\n",
      "|[REGENCY CAKESTAND 3 TIER, WHITE HANGING HEART T-LIGHT HOLDER]                      |171 |\n",
      "|[PANTRY MAGNETIC  SHOPPING LIST]                                                    |270 |\n",
      "|[CERAMIC HEART FAIRY CAKE MONEY BANK]                                               |183 |\n",
      "|[BLUE POLKADOT BOWL]                                                                |137 |\n",
      "|[POPPY'S PLAYHOUSE LIVINGROOM]                                                      |183 |\n",
      "|[POPPY'S PLAYHOUSE LIVINGROOM, POPPY'S PLAYHOUSE KITCHEN]                           |160 |\n",
      "|[POPPY'S PLAYHOUSE LIVINGROOM, POPPY'S PLAYHOUSE BEDROOM]                           |150 |\n",
      "|[POPPY'S PLAYHOUSE LIVINGROOM, POPPY'S PLAYHOUSE BEDROOM, POPPY'S PLAYHOUSE KITCHEN]|137 |\n",
      "+------------------------------------------------------------------------------------+----+\n",
      "only showing top 20 rows\n",
      "\n"
     ]
    }
   ],
   "source": [
    "model.freqItemsets.show(truncate=False)"
   ]
  },
  {
   "cell_type": "markdown",
   "metadata": {},
   "source": [
    "### Display generated association rules"
   ]
  },
  {
   "cell_type": "code",
   "execution_count": 28,
   "metadata": {},
   "outputs": [
    {
     "name": "stdout",
     "output_type": "stream",
     "text": [
      "+------------------------------------------------+-------------------------------------+-------------------+------------------+\n",
      "|antecedent                                      |consequent                           |confidence         |lift              |\n",
      "+------------------------------------------------+-------------------------------------+-------------------+------------------+\n",
      "|[HOT WATER BOTTLE KEEP CALM]                    |[SCOTTIE DOG HOT WATER BOTTLE]       |0.2807625649913345 |6.700933880278792 |\n",
      "|[HOT WATER BOTTLE KEEP CALM]                    |[CHOCOLATE HOT WATER BOTTLE]         |0.32062391681109187|7.967564374687621 |\n",
      "|[HOT WATER BOTTLE KEEP CALM]                    |[HOT WATER BOTTLE I AM SO POORLY]    |0.2616984402079723 |8.511613484215177 |\n",
      "|[HOT WATER BOTTLE KEEP CALM]                    |[HOT WATER BOTTLE TEA AND SYMPATHY]  |0.30329289428076256|10.240958542253738|\n",
      "|[HOT WATER BOTTLE KEEP CALM]                    |[LOVE HOT WATER BOTTLE]              |0.28942807625649913|10.788512842482424|\n",
      "|[IVORY DINER WALL CLOCK]                        |[RED DINER WALL CLOCK]               |0.493006993006993  |22.715981934731936|\n",
      "|[LUNCH BAG SUKI DESIGN, LUNCH BAG  BLACK SKULL.]|[LUNCH BAG SPACEBOY DESIGN]          |0.5194029850746269 |9.87460975922679  |\n",
      "|[LUNCH BAG SUKI DESIGN, LUNCH BAG  BLACK SKULL.]|[LUNCH BAG CARS BLUE]                |0.5194029850746269 |9.818344176553133 |\n",
      "|[LUNCH BAG SUKI DESIGN, LUNCH BAG  BLACK SKULL.]|[LUNCH BAG RED RETROSPOT]            |0.6                |9.45605700712589  |\n",
      "|[LUNCH BAG SUKI DESIGN, LUNCH BAG  BLACK SKULL.]|[LUNCH BAG PINK POLKADOT]            |0.5343283582089552 |10.66246212546291 |\n",
      "|[LUNCH BAG SUKI DESIGN, LUNCH BAG  BLACK SKULL.]|[LUNCH BAG APPLE DESIGN]             |0.4925373134328358 |11.588599555414417|\n",
      "|[LUNCH BAG SUKI DESIGN, LUNCH BAG  BLACK SKULL.]|[LUNCH BAG WOODLAND]                 |0.44477611940298506|10.99102254092665 |\n",
      "|[PAPER CHAIN KIT VINTAGE CHRISTMAS]             |[PAPER CHAIN KIT 50'S CHRISTMAS]     |0.6471600688468159 |10.66809206658043 |\n",
      "|[PAPER CHAIN KIT VINTAGE CHRISTMAS]             |[SET OF 20 VINTAGE CHRISTMAS NAPKINS]|0.23752151462994836|8.040588008008712 |\n",
      "|[PAPER CHAIN KIT VINTAGE CHRISTMAS]             |[60 CAKE CASES VINTAGE CHRISTMAS]    |0.23407917383820998|8.652453027390102 |\n",
      "|[JUMBO SHOPPER VINTAGE RED PAISLEY]             |[JUMBO BAG PINK POLKADOT]            |0.28214285714285714|6.313719585642014 |\n",
      "|[JUMBO SHOPPER VINTAGE RED PAISLEY]             |[JUMBO BAG RED RETROSPOT]            |0.4857142857142857 |6.109410968178741 |\n",
      "|[JUMBO SHOPPER VINTAGE RED PAISLEY]             |[JUMBO BAG VINTAGE LEAF]             |0.2714285714285714 |6.5488311688311684|\n",
      "|[JUMBO SHOPPER VINTAGE RED PAISLEY]             |[JUMBO STORAGE BAG SUKI]             |0.30357142857142855|7.65854155350353  |\n",
      "|[JUMBO SHOPPER VINTAGE RED PAISLEY]             |[JUMBO  BAG BAROQUE BLACK WHITE]     |0.29285714285714287|8.321657999388194 |\n",
      "+------------------------------------------------+-------------------------------------+-------------------+------------------+\n",
      "only showing top 20 rows\n",
      "\n"
     ]
    }
   ],
   "source": [
    "model.associationRules.show(truncate=False)"
   ]
  },
  {
   "cell_type": "code",
   "execution_count": 29,
   "metadata": {},
   "outputs": [],
   "source": [
    "df_result = model.associationRules"
   ]
  },
  {
   "cell_type": "code",
   "execution_count": 30,
   "metadata": {},
   "outputs": [
    {
     "name": "stdout",
     "output_type": "stream",
     "text": [
      "+--------------------+--------------------+-------------------+------------------+\n",
      "|          antecedent|          consequent|         confidence|              lift|\n",
      "+--------------------+--------------------+-------------------+------------------+\n",
      "|[HOT WATER BOTTLE...|[SCOTTIE DOG HOT ...| 0.2807625649913345| 6.700933880278792|\n",
      "|[HOT WATER BOTTLE...|[CHOCOLATE HOT WA...|0.32062391681109187| 7.967564374687621|\n",
      "|[HOT WATER BOTTLE...|[HOT WATER BOTTLE...| 0.2616984402079723| 8.511613484215177|\n",
      "|[HOT WATER BOTTLE...|[HOT WATER BOTTLE...|0.30329289428076256|10.240958542253738|\n",
      "|[HOT WATER BOTTLE...|[LOVE HOT WATER B...|0.28942807625649913|10.788512842482424|\n",
      "|[IVORY DINER WALL...|[RED DINER WALL C...|  0.493006993006993|22.715981934731936|\n",
      "|[LUNCH BAG SUKI D...|[LUNCH BAG SPACEB...| 0.5194029850746269|  9.87460975922679|\n",
      "|[LUNCH BAG SUKI D...|[LUNCH BAG CARS B...| 0.5194029850746269| 9.818344176553133|\n",
      "|[LUNCH BAG SUKI D...|[LUNCH BAG RED RE...|                0.6|  9.45605700712589|\n",
      "|[LUNCH BAG SUKI D...|[LUNCH BAG PINK P...| 0.5343283582089552| 10.66246212546291|\n",
      "|[LUNCH BAG SUKI D...|[LUNCH BAG APPLE ...| 0.4925373134328358|11.588599555414417|\n",
      "|[LUNCH BAG SUKI D...|[LUNCH BAG WOODLAND]|0.44477611940298506| 10.99102254092665|\n",
      "|[PAPER CHAIN KIT ...|[PAPER CHAIN KIT ...| 0.6471600688468159| 10.66809206658043|\n",
      "|[PAPER CHAIN KIT ...|[SET OF 20 VINTAG...|0.23752151462994836| 8.040588008008712|\n",
      "|[PAPER CHAIN KIT ...|[60 CAKE CASES VI...|0.23407917383820998| 8.652453027390102|\n",
      "|[JUMBO SHOPPER VI...|[JUMBO BAG PINK P...|0.28214285714285714| 6.313719585642014|\n",
      "|[JUMBO SHOPPER VI...|[JUMBO BAG RED RE...| 0.4857142857142857| 6.109410968178741|\n",
      "|[JUMBO SHOPPER VI...|[JUMBO BAG VINTAG...| 0.2714285714285714|6.5488311688311684|\n",
      "|[JUMBO SHOPPER VI...|[JUMBO STORAGE BA...|0.30357142857142855|  7.65854155350353|\n",
      "|[JUMBO SHOPPER VI...|[JUMBO  BAG BAROQ...|0.29285714285714287| 8.321657999388194|\n",
      "+--------------------+--------------------+-------------------+------------------+\n",
      "only showing top 20 rows\n",
      "\n"
     ]
    }
   ],
   "source": [
    "df_result.show()"
   ]
  },
  {
   "cell_type": "code",
   "execution_count": 31,
   "metadata": {},
   "outputs": [],
   "source": [
    "df_result.createOrReplaceTempView(\"dfTable\")\n",
    "\n",
    "\n",
    "final_result=spark.sql( \"select  consequent from dfTable \" )"
   ]
  },
  {
   "cell_type": "code",
   "execution_count": 32,
   "metadata": {},
   "outputs": [
    {
     "name": "stdout",
     "output_type": "stream",
     "text": [
      "+--------------------+\n",
      "|          consequent|\n",
      "+--------------------+\n",
      "|[SCOTTIE DOG HOT ...|\n",
      "|[CHOCOLATE HOT WA...|\n",
      "|[HOT WATER BOTTLE...|\n",
      "|[HOT WATER BOTTLE...|\n",
      "|[LOVE HOT WATER B...|\n",
      "|[RED DINER WALL C...|\n",
      "|[LUNCH BAG SPACEB...|\n",
      "|[LUNCH BAG CARS B...|\n",
      "|[LUNCH BAG RED RE...|\n",
      "|[LUNCH BAG PINK P...|\n",
      "|[LUNCH BAG APPLE ...|\n",
      "|[LUNCH BAG WOODLAND]|\n",
      "|[PAPER CHAIN KIT ...|\n",
      "|[SET OF 20 VINTAG...|\n",
      "|[60 CAKE CASES VI...|\n",
      "|[JUMBO BAG PINK P...|\n",
      "|[JUMBO BAG RED RE...|\n",
      "|[JUMBO BAG VINTAG...|\n",
      "|[JUMBO STORAGE BA...|\n",
      "|[JUMBO  BAG BAROQ...|\n",
      "+--------------------+\n",
      "only showing top 20 rows\n",
      "\n"
     ]
    }
   ],
   "source": [
    "final_result.show()"
   ]
  },
  {
   "cell_type": "markdown",
   "metadata": {},
   "source": [
    "### Transform examines the input items against all the association rules and summarize the consequents as prediction\n"
   ]
  },
  {
   "cell_type": "code",
   "execution_count": 33,
   "metadata": {},
   "outputs": [],
   "source": [
    "df_predic=model.transform(df)"
   ]
  },
  {
   "cell_type": "code",
   "execution_count": null,
   "metadata": {},
   "outputs": [],
   "source": []
  },
  {
   "cell_type": "code",
   "execution_count": 34,
   "metadata": {},
   "outputs": [],
   "source": [
    "# df_predic.show()"
   ]
  },
  {
   "cell_type": "code",
   "execution_count": 35,
   "metadata": {},
   "outputs": [],
   "source": [
    "rfm_table = df_predic.join(df_date, ['_c0'])"
   ]
  },
  {
   "cell_type": "code",
   "execution_count": 36,
   "metadata": {},
   "outputs": [],
   "source": [
    "rfm_table = rfm_table.na.drop().dropDuplicates()"
   ]
  },
  {
   "cell_type": "code",
   "execution_count": 37,
   "metadata": {},
   "outputs": [],
   "source": [
    "rfm_table.createOrReplaceTempView(\"dfTableResult\")"
   ]
  },
  {
   "cell_type": "code",
   "execution_count": 38,
   "metadata": {},
   "outputs": [],
   "source": [
    "df_x=spark.sql('SELECT  max(InvoiceDate) as date from dfTableResult ')\n"
   ]
  },
  {
   "cell_type": "code",
   "execution_count": 39,
   "metadata": {},
   "outputs": [
    {
     "name": "stdout",
     "output_type": "stream",
     "text": [
      "+-----+------+--------------------+--------------------+-------------------+\n",
      "|  _c0|   _c1|               items|          prediction|        InvoiceDate|\n",
      "+-----+------+--------------------+--------------------+-------------------+\n",
      "|12940|571270|[LAUREL HEART ANT...|[WOODEN PICTURE F...|2011-10-16 12:09:00|\n",
      "|12940|571270|[LAUREL HEART ANT...|[WOODEN PICTURE F...|2011-09-13 10:16:00|\n",
      "|12940|566488|[SET OF 3 REGENCY...|[RED DINER WALL C...|2011-10-16 12:09:00|\n",
      "|12940|566488|[SET OF 3 REGENCY...|[RED DINER WALL C...|2011-09-13 10:16:00|\n",
      "|13285|576771|[60 CAKE CASES VI...|[LUNCH BAG SPACEB...|2011-11-16 13:19:00|\n",
      "|13285|576771|[60 CAKE CASES VI...|[LUNCH BAG SPACEB...|2011-07-01 14:53:00|\n",
      "|13285|576771|[60 CAKE CASES VI...|[LUNCH BAG SPACEB...|2011-04-27 13:03:00|\n",
      "|13285|576771|[60 CAKE CASES VI...|[LUNCH BAG SPACEB...|2011-02-22 17:13:00|\n",
      "|13285|544685|[HANGING JAM JAR ...|[LUNCH BAG  BLACK...|2011-11-16 13:19:00|\n",
      "|13285|544685|[HANGING JAM JAR ...|[LUNCH BAG  BLACK...|2011-07-01 14:53:00|\n",
      "|13285|544685|[HANGING JAM JAR ...|[LUNCH BAG  BLACK...|2011-04-27 13:03:00|\n",
      "|13285|544685|[HANGING JAM JAR ...|[LUNCH BAG  BLACK...|2011-02-22 17:13:00|\n",
      "|13285|551275|[RED RETROSPOT PI...|[JUMBO BAG PINK P...|2011-11-16 13:19:00|\n",
      "|13285|551275|[RED RETROSPOT PI...|[JUMBO BAG PINK P...|2011-07-01 14:53:00|\n",
      "|13285|551275|[RED RETROSPOT PI...|[JUMBO BAG PINK P...|2011-04-27 13:03:00|\n",
      "|13285|551275|[RED RETROSPOT PI...|[JUMBO BAG PINK P...|2011-02-22 17:13:00|\n",
      "|13285|558731|[RIBBON REEL HEAR...|[LUNCH BAG  BLACK...|2011-11-16 13:19:00|\n",
      "|13285|558731|[RIBBON REEL HEAR...|[LUNCH BAG  BLACK...|2011-07-01 14:53:00|\n",
      "|13285|558731|[RIBBON REEL HEAR...|[LUNCH BAG  BLACK...|2011-04-27 13:03:00|\n",
      "|13285|558731|[RIBBON REEL HEAR...|[LUNCH BAG  BLACK...|2011-02-22 17:13:00|\n",
      "+-----+------+--------------------+--------------------+-------------------+\n",
      "only showing top 20 rows\n",
      "\n"
     ]
    }
   ],
   "source": [
    "rfm_table.show()"
   ]
  },
  {
   "cell_type": "code",
   "execution_count": 40,
   "metadata": {},
   "outputs": [],
   "source": [
    "df_result.createOrReplaceTempView(\"dfTable\")\n",
    "df_re=spark.sql(\"select * from dfTable\")\n"
   ]
  },
  {
   "cell_type": "code",
   "execution_count": 41,
   "metadata": {},
   "outputs": [
    {
     "name": "stdout",
     "output_type": "stream",
     "text": [
      "+--------------------+--------------------+-------------------+------------------+\n",
      "|          antecedent|          consequent|         confidence|              lift|\n",
      "+--------------------+--------------------+-------------------+------------------+\n",
      "|[HOT WATER BOTTLE...|[SCOTTIE DOG HOT ...| 0.2807625649913345| 6.700933880278792|\n",
      "|[HOT WATER BOTTLE...|[CHOCOLATE HOT WA...|0.32062391681109187| 7.967564374687621|\n",
      "|[HOT WATER BOTTLE...|[HOT WATER BOTTLE...| 0.2616984402079723| 8.511613484215177|\n",
      "|[HOT WATER BOTTLE...|[HOT WATER BOTTLE...|0.30329289428076256|10.240958542253738|\n",
      "|[HOT WATER BOTTLE...|[LOVE HOT WATER B...|0.28942807625649913|10.788512842482424|\n",
      "|[IVORY DINER WALL...|[RED DINER WALL C...|  0.493006993006993|22.715981934731936|\n",
      "|[LUNCH BAG SUKI D...|[LUNCH BAG SPACEB...| 0.5194029850746269|  9.87460975922679|\n",
      "|[LUNCH BAG SUKI D...|[LUNCH BAG CARS B...| 0.5194029850746269| 9.818344176553133|\n",
      "|[LUNCH BAG SUKI D...|[LUNCH BAG RED RE...|                0.6|  9.45605700712589|\n",
      "|[LUNCH BAG SUKI D...|[LUNCH BAG PINK P...| 0.5343283582089552| 10.66246212546291|\n",
      "|[LUNCH BAG SUKI D...|[LUNCH BAG APPLE ...| 0.4925373134328358|11.588599555414417|\n",
      "|[LUNCH BAG SUKI D...|[LUNCH BAG WOODLAND]|0.44477611940298506| 10.99102254092665|\n",
      "|[PAPER CHAIN KIT ...|[PAPER CHAIN KIT ...| 0.6471600688468159| 10.66809206658043|\n",
      "|[PAPER CHAIN KIT ...|[SET OF 20 VINTAG...|0.23752151462994836| 8.040588008008712|\n",
      "|[PAPER CHAIN KIT ...|[60 CAKE CASES VI...|0.23407917383820998| 8.652453027390102|\n",
      "|[JUMBO SHOPPER VI...|[JUMBO BAG PINK P...|0.28214285714285714| 6.313719585642014|\n",
      "|[JUMBO SHOPPER VI...|[JUMBO BAG RED RE...| 0.4857142857142857| 6.109410968178741|\n",
      "|[JUMBO SHOPPER VI...|[JUMBO BAG VINTAG...| 0.2714285714285714|6.5488311688311684|\n",
      "|[JUMBO SHOPPER VI...|[JUMBO STORAGE BA...|0.30357142857142855|  7.65854155350353|\n",
      "|[JUMBO SHOPPER VI...|[JUMBO  BAG BAROQ...|0.29285714285714287| 8.321657999388194|\n",
      "+--------------------+--------------------+-------------------+------------------+\n",
      "only showing top 20 rows\n",
      "\n"
     ]
    }
   ],
   "source": [
    "df_re.show()"
   ]
  },
  {
   "cell_type": "code",
   "execution_count": 42,
   "metadata": {},
   "outputs": [
    {
     "ename": "NameError",
     "evalue": "name 'np' is not defined",
     "output_type": "error",
     "traceback": [
      "\u001b[0;31m---------------------------------------------------------------------------\u001b[0m",
      "\u001b[0;31mNameError\u001b[0m                                 Traceback (most recent call last)",
      "\u001b[0;32m<ipython-input-42-5914af6f719a>\u001b[0m in \u001b[0;36m<module>\u001b[0;34m\u001b[0m\n\u001b[0;32m----> 1\u001b[0;31m \u001b[0mdf_convertArray\u001b[0m\u001b[0;34m=\u001b[0m\u001b[0mnp\u001b[0m\u001b[0;34m.\u001b[0m\u001b[0marray\u001b[0m\u001b[0;34m(\u001b[0m\u001b[0mdf_re\u001b[0m\u001b[0;34m)\u001b[0m\u001b[0;34m\u001b[0m\u001b[0;34m\u001b[0m\u001b[0m\n\u001b[0m",
      "\u001b[0;31mNameError\u001b[0m: name 'np' is not defined"
     ]
    }
   ],
   "source": [
    "df_convertArray=np.array(df_re)"
   ]
  },
  {
   "cell_type": "code",
   "execution_count": null,
   "metadata": {},
   "outputs": [],
   "source": [
    "df_after.createOrReplaceTempView(\"dfTableFirst\")"
   ]
  },
  {
   "cell_type": "code",
   "execution_count": null,
   "metadata": {},
   "outputs": [],
   "source": [
    "df_1=spark.sql(\"select  max(lift) from dfTable where antecedent in ( select _c2 from dfTableFirst where _c0='12951' ) group by antecedent  \" )\n",
    "df_1.show()"
   ]
  },
  {
   "cell_type": "code",
   "execution_count": null,
   "metadata": {},
   "outputs": [],
   "source": []
  },
  {
   "cell_type": "code",
   "execution_count": null,
   "metadata": {},
   "outputs": [],
   "source": []
  }
 ],
 "metadata": {
  "kernelspec": {
   "display_name": "Python 3",
   "language": "python",
   "name": "python3"
  },
  "language_info": {
   "codemirror_mode": {
    "name": "ipython",
    "version": 3
   },
   "file_extension": ".py",
   "mimetype": "text/x-python",
   "name": "python",
   "nbconvert_exporter": "python",
   "pygments_lexer": "ipython3",
   "version": "3.7.3"
  }
 },
 "nbformat": 4,
 "nbformat_minor": 4
}
