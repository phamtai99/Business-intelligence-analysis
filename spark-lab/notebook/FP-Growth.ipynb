{
 "cells": [
  {
   "cell_type": "markdown",
   "metadata": {},
   "source": [
    "## Khởi tạo môi trường"
   ]
  },
  {
   "cell_type": "code",
   "execution_count": 1,
   "metadata": {},
   "outputs": [],
   "source": [
    "import os \n",
    "os.environ[\"PYSPARK_PYTHON\"]=\"python3.7\"\n",
    "os.environ[\"PYSPARK_DRIVER_PYTHON\"]=\"python3.7\""
   ]
  },
  {
   "cell_type": "markdown",
   "metadata": {},
   "source": [
    "## Tạo phiên spark"
   ]
  },
  {
   "cell_type": "code",
   "execution_count": 2,
   "metadata": {},
   "outputs": [],
   "source": [
    "from pyspark.sql import SparkSession, DataFrame\n",
    "from pyspark.context import SparkContext\n",
    "from pyspark.sql.functions import *\n",
    "from pyspark.sql.types import *\n",
    "from pyspark.ml import PipelineModel\n",
    "MAX_MEMORY = '4G'\n",
    "sc = SparkContext('local')\n",
    "spark = SparkSession(sc)\n",
    "# spark = SparkSession \n",
    "#         .builder \\\n",
    "#         .master(\"spark://spark-master:7077\")\\\n",
    "#         .appName(\"FP-Growth\") \\\n",
    "#         .config(\"spark.executor.memory\", MAX_MEMORY)\\\n",
    "#         .config(\"spark.driver.memoryOverhead\",'5G')\\\n",
    "#         .config(\"spark.driver.memory\", MAX_MEMORY) \\\n",
    "#         .getOrCreate()       "
   ]
  },
  {
   "cell_type": "markdown",
   "metadata": {},
   "source": [
    "## Đọc dữ liệu từ HDFS"
   ]
  },
  {
   "cell_type": "code",
   "execution_count": 3,
   "metadata": {},
   "outputs": [],
   "source": [
    "df = spark.read.format('csv').option(\"inferSchema\", \"true\").load(\"hdfs://namenode/user/taipt/data_clustered\")"
   ]
  },
  {
   "cell_type": "code",
   "execution_count": 4,
   "metadata": {},
   "outputs": [
    {
     "name": "stdout",
     "output_type": "stream",
     "text": [
      "root\n",
      " |-- _c0: integer (nullable = true)\n",
      " |-- _c1: integer (nullable = true)\n",
      " |-- _c2: string (nullable = true)\n",
      " |-- _c3: integer (nullable = true)\n",
      "\n"
     ]
    }
   ],
   "source": [
    "df.printSchema()"
   ]
  },
  {
   "cell_type": "code",
   "execution_count": 5,
   "metadata": {},
   "outputs": [],
   "source": [
    "df = df.withColumn(\"CustomerID\", col(\"_c0\")).withColumn(\"InvoiceNo\", col(\"_c1\")).withColumn(\"Description\", col(\"_c2\")).withColumn(\"Cluster\", col(\"_c3\"))\n",
    "df = df.select(\"CustomerID\", \"InvoiceNo\", \"Description\", \"Cluster\")\n",
    "df_customer = df"
   ]
  },
  {
   "cell_type": "code",
   "execution_count": 6,
   "metadata": {},
   "outputs": [
    {
     "name": "stdout",
     "output_type": "stream",
     "text": [
      "root\n",
      " |-- CustomerID: integer (nullable = true)\n",
      " |-- InvoiceNo: integer (nullable = true)\n",
      " |-- Description: string (nullable = true)\n",
      " |-- Cluster: integer (nullable = true)\n",
      "\n"
     ]
    }
   ],
   "source": [
    "df.printSchema()"
   ]
  },
  {
   "cell_type": "markdown",
   "metadata": {},
   "source": [
    "## Tiền xử lý dữ liệu"
   ]
  },
  {
   "cell_type": "code",
   "execution_count": 7,
   "metadata": {},
   "outputs": [],
   "source": [
    "df = df.groupBy(\"CustomerID\", \"InvoiceNo\", \"Cluster\").agg(collect_set(\"Description\").alias(\"items\"))"
   ]
  },
  {
   "cell_type": "code",
   "execution_count": 8,
   "metadata": {},
   "outputs": [],
   "source": [
    "df1=df\n",
    "df2=df"
   ]
  },
  {
   "cell_type": "markdown",
   "metadata": {},
   "source": [
    "# Tìm luật kết hợp cho từng cụm "
   ]
  },
  {
   "cell_type": "markdown",
   "metadata": {},
   "source": [
    "# Tìm luật kết hợp cho cụm 0"
   ]
  },
  {
   "cell_type": "code",
   "execution_count": 9,
   "metadata": {},
   "outputs": [],
   "source": [
    "df = df.filter((df.Cluster==\"0\"))"
   ]
  },
  {
   "cell_type": "code",
   "execution_count": 10,
   "metadata": {},
   "outputs": [
    {
     "name": "stdout",
     "output_type": "stream",
     "text": [
      "root\n",
      " |-- CustomerID: integer (nullable = true)\n",
      " |-- InvoiceNo: integer (nullable = true)\n",
      " |-- Cluster: integer (nullable = true)\n",
      " |-- items: array (nullable = true)\n",
      " |    |-- element: string (containsNull = false)\n",
      "\n"
     ]
    }
   ],
   "source": [
    "df.printSchema()"
   ]
  },
  {
   "cell_type": "markdown",
   "metadata": {},
   "source": [
    "## FP-Growth"
   ]
  },
  {
   "cell_type": "code",
   "execution_count": 11,
   "metadata": {},
   "outputs": [],
   "source": [
    "from pyspark.ml.fpm import FPGrowth"
   ]
  },
  {
   "cell_type": "code",
   "execution_count": 12,
   "metadata": {},
   "outputs": [],
   "source": [
    "df = df.select(\"CustomerID\", \"InvoiceNo\", \"items\")"
   ]
  },
  {
   "cell_type": "code",
   "execution_count": 13,
   "metadata": {},
   "outputs": [],
   "source": [
    "fpGrowth = FPGrowth(itemsCol=\"items\", minSupport=0.01, minConfidence=0.2)"
   ]
  },
  {
   "cell_type": "code",
   "execution_count": 14,
   "metadata": {},
   "outputs": [],
   "source": [
    "model = fpGrowth.fit(df)"
   ]
  },
  {
   "cell_type": "markdown",
   "metadata": {},
   "source": [
    "### Display frequent itemsets"
   ]
  },
  {
   "cell_type": "code",
   "execution_count": 15,
   "metadata": {},
   "outputs": [
    {
     "name": "stdout",
     "output_type": "stream",
     "text": [
      "+------------------------------------------------------------------------+----+\n",
      "|items                                                                   |freq|\n",
      "+------------------------------------------------------------------------+----+\n",
      "|[HOT BATHS METAL SIGN]                                                  |133 |\n",
      "|[LOVEBIRD HANGING DECORATION WHITE]                                     |93  |\n",
      "|[SWALLOWS GREETING CARD]                                                |70  |\n",
      "|[WHITE HANGING HEART T-LIGHT HOLDER]                                    |738 |\n",
      "|[ASSORTED COLOUR BIRD ORNAMENT]                                         |571 |\n",
      "|[ASSORTED COLOUR BIRD ORNAMENT, WHITE HANGING HEART T-LIGHT HOLDER]     |103 |\n",
      "|[SET OF 3 WOODEN STOCKING DECORATION]                                   |133 |\n",
      "|[SET OF 3 WOODEN STOCKING DECORATION, SET OF 3 WOODEN HEART DECORATIONS]|81  |\n",
      "|[MONSTERS STENCIL CRAFT]                                                |93  |\n",
      "|[MONSTERS STENCIL CRAFT, HAPPY STENCIL CRAFT]                           |72  |\n",
      "|[COFFEE MUG PEARS  DESIGN]                                              |70  |\n",
      "|[REGENCY CAKESTAND 3 TIER]                                              |521 |\n",
      "|[REGENCY CAKESTAND 3 TIER, ASSORTED COLOUR BIRD ORNAMENT]               |88  |\n",
      "|[REGENCY CAKESTAND 3 TIER, WHITE HANGING HEART T-LIGHT HOLDER]          |86  |\n",
      "|[6 GIFT TAGS VINTAGE CHRISTMAS]                                         |133 |\n",
      "|[MINI PAINT SET VINTAGE]                                                |93  |\n",
      "|[IVORY SWEETHEART WIRE LETTER RACK]                                     |70  |\n",
      "|[CHILDRENS CUTLERY SPACEBOY]                                            |93  |\n",
      "|[VICTORIAN  METAL POSTCARD SPRING]                                      |70  |\n",
      "|[PARTY BUNTING]                                                         |459 |\n",
      "+------------------------------------------------------------------------+----+\n",
      "only showing top 20 rows\n",
      "\n"
     ]
    }
   ],
   "source": [
    "model.freqItemsets.show(truncate=False)"
   ]
  },
  {
   "cell_type": "markdown",
   "metadata": {},
   "source": [
    "### Display generated association rules"
   ]
  },
  {
   "cell_type": "code",
   "execution_count": 16,
   "metadata": {},
   "outputs": [],
   "source": [
    "df_lift = model.associationRules.orderBy(col('lift').desc())"
   ]
  },
  {
   "cell_type": "code",
   "execution_count": 17,
   "metadata": {},
   "outputs": [
    {
     "name": "stdout",
     "output_type": "stream",
     "text": [
      "+-------------------------------------------+----------------------+------------------+-----------------+\n",
      "|antecedent                                 |consequent            |confidence        |lift             |\n",
      "+-------------------------------------------+----------------------+------------------+-----------------+\n",
      "|[HERB MARKER ROSEMARY, HERB MARKER PARSLEY]|[HERB MARKER THYME]   |0.9705882352941176|84.03999999999999|\n",
      "|[HERB MARKER ROSEMARY]                     |[HERB MARKER MINT]    |0.9305555555555556|82.78120243531203|\n",
      "|[HERB MARKER MINT]                         |[HERB MARKER ROSEMARY]|0.9178082191780822|82.78120243531203|\n",
      "|[HERB MARKER THYME, HERB MARKER PARSLEY]   |[HERB MARKER ROSEMARY]|0.9166666666666666|82.67824074074075|\n",
      "|[HERB MARKER MINT, HERB MARKER THYME]      |[HERB MARKER PARSLEY] |0.9705882352941176|81.85714285714285|\n",
      "|[HERB MARKER ROSEMARY, HERB MARKER THYME]  |[HERB MARKER PARSLEY] |0.9705882352941176|81.85714285714285|\n",
      "|[HERB MARKER THYME]                        |[HERB MARKER ROSEMARY]|0.9066666666666666|81.7762962962963 |\n",
      "|[HERB MARKER ROSEMARY]                     |[HERB MARKER THYME]   |0.9444444444444444|81.7762962962963 |\n",
      "|[HERB MARKER MINT, HERB MARKER PARSLEY]    |[HERB MARKER THYME]   |0.9428571428571428|81.63885714285713|\n",
      "|[HERB MARKER THYME, HERB MARKER PARSLEY]   |[HERB MARKER MINT]    |0.9166666666666666|81.54566210045661|\n",
      "|[HERB MARKER PARSLEY]                      |[HERB MARKER THYME]   |0.935064935064935 |80.96415584415584|\n",
      "|[HERB MARKER THYME]                        |[HERB MARKER PARSLEY] |0.96              |80.96415584415584|\n",
      "|[HERB MARKER PARSLEY]                      |[HERB MARKER MINT]    |0.9090909090909091|80.8717310087173 |\n",
      "|[HERB MARKER MINT]                         |[HERB MARKER PARSLEY] |0.958904109589041 |80.8717310087173 |\n",
      "|[HERB MARKER MINT]                         |[HERB MARKER THYME]   |0.9315068493150684|80.65607305936072|\n",
      "|[HERB MARKER THYME]                        |[HERB MARKER MINT]    |0.9066666666666666|80.65607305936072|\n",
      "|[HERB MARKER PARSLEY]                      |[HERB MARKER ROSEMARY]|0.8831168831168831|79.65223665223665|\n",
      "|[HERB MARKER ROSEMARY]                     |[HERB MARKER PARSLEY] |0.9444444444444444|79.65223665223664|\n",
      "|[HERB MARKER MINT]                         |[HERB MARKER BASIL]   |0.8904109589041096|79.20998311127791|\n",
      "|[HERB MARKER BASIL]                        |[HERB MARKER MINT]    |0.8904109589041096|79.20998311127791|\n",
      "+-------------------------------------------+----------------------+------------------+-----------------+\n",
      "only showing top 20 rows\n",
      "\n"
     ]
    }
   ],
   "source": [
    "df_lift.show(truncate=False)"
   ]
  },
  {
   "cell_type": "code",
   "execution_count": 18,
   "metadata": {},
   "outputs": [],
   "source": [
    "fp = df_lift.select(\"antecedent\", \"consequent\").collect()"
   ]
  },
  {
   "cell_type": "markdown",
   "metadata": {},
   "source": [
    "# Tìm luật kết hợp cho cụm 1"
   ]
  },
  {
   "cell_type": "code",
   "execution_count": 19,
   "metadata": {},
   "outputs": [
    {
     "name": "stdout",
     "output_type": "stream",
     "text": [
      "root\n",
      " |-- CustomerID: integer (nullable = true)\n",
      " |-- InvoiceNo: integer (nullable = true)\n",
      " |-- Cluster: integer (nullable = true)\n",
      " |-- items: array (nullable = true)\n",
      " |    |-- element: string (containsNull = false)\n",
      "\n"
     ]
    }
   ],
   "source": [
    "df1 = df1.filter((df1.Cluster==\"1\"))\n",
    "df1.printSchema()"
   ]
  },
  {
   "cell_type": "code",
   "execution_count": 20,
   "metadata": {},
   "outputs": [
    {
     "name": "stdout",
     "output_type": "stream",
     "text": [
      "+--------------------------------------------------------------+----+\n",
      "|items                                                         |freq|\n",
      "+--------------------------------------------------------------+----+\n",
      "|[SAVE THE PLANET MUG]                                         |186 |\n",
      "|[HEART IVORY TRELLIS LARGE]                                   |119 |\n",
      "|[WHITE HANGING HEART T-LIGHT HOLDER]                          |959 |\n",
      "|[JUMBO BAG RED RETROSPOT]                                     |943 |\n",
      "|[JUMBO BAG RED RETROSPOT, WHITE HANGING HEART T-LIGHT HOLDER] |150 |\n",
      "|[CHRISTMAS CRAFT LITTLE FRIENDS]                              |186 |\n",
      "|[CLASSIC METAL BIRDCAGE PLANT HOLDER]                         |118 |\n",
      "|[LUNCH BAG RED RETROSPOT]                                     |762 |\n",
      "|[LUNCH BAG RED RETROSPOT, JUMBO BAG RED RETROSPOT]            |290 |\n",
      "|[LUNCH BAG RED RETROSPOT, WHITE HANGING HEART T-LIGHT HOLDER] |161 |\n",
      "|[ROUND SNACK BOXES SET OF 4 FRUITS]                           |184 |\n",
      "|[CLASSIC CAFE SUGAR DISPENSER]                                |118 |\n",
      "|[FELTCRAFT DOLL MOLLY]                                        |118 |\n",
      "|[REGENCY CAKESTAND 3 TIER]                                    |727 |\n",
      "|[REGENCY CAKESTAND 3 TIER, WHITE HANGING HEART T-LIGHT HOLDER]|110 |\n",
      "|[CHILDRENS APRON SPACEBOY DESIGN]                             |184 |\n",
      "|[PARTY BUNTING]                                               |699 |\n",
      "|[PARTY BUNTING, LUNCH BAG RED RETROSPOT]                      |117 |\n",
      "|[PARTY BUNTING, JUMBO BAG RED RETROSPOT]                      |124 |\n",
      "|[PARTY BUNTING, REGENCY CAKESTAND 3 TIER]                     |96  |\n",
      "+--------------------------------------------------------------+----+\n",
      "only showing top 20 rows\n",
      "\n"
     ]
    }
   ],
   "source": [
    "\n",
    "df1 = df1.select(\"CustomerID\", \"InvoiceNo\", \"items\")\n",
    "model = fpGrowth.fit(df1)\n",
    "model.freqItemsets.show(truncate=False)\n",
    "df_lift1 = model.associationRules.orderBy(col('lift').desc())\n",
    "fp1 = df_lift1.select(\"antecedent\", \"consequent\").collect()"
   ]
  },
  {
   "cell_type": "markdown",
   "metadata": {},
   "source": [
    "# Tìm luật kết hợp cho cụm 2"
   ]
  },
  {
   "cell_type": "code",
   "execution_count": 21,
   "metadata": {},
   "outputs": [
    {
     "name": "stdout",
     "output_type": "stream",
     "text": [
      "root\n",
      " |-- CustomerID: integer (nullable = true)\n",
      " |-- InvoiceNo: integer (nullable = true)\n",
      " |-- Cluster: integer (nullable = true)\n",
      " |-- items: array (nullable = true)\n",
      " |    |-- element: string (containsNull = false)\n",
      "\n"
     ]
    }
   ],
   "source": [
    "df2 = df2.filter((df2.Cluster==\"2\"))\n",
    "df2.printSchema()"
   ]
  },
  {
   "cell_type": "code",
   "execution_count": 22,
   "metadata": {},
   "outputs": [],
   "source": [
    "\n",
    "df2 = df2.select(\"CustomerID\", \"InvoiceNo\", \"items\")"
   ]
  },
  {
   "cell_type": "code",
   "execution_count": 23,
   "metadata": {},
   "outputs": [],
   "source": [
    "model = fpGrowth.fit(df2)"
   ]
  },
  {
   "cell_type": "code",
   "execution_count": 24,
   "metadata": {},
   "outputs": [
    {
     "name": "stdout",
     "output_type": "stream",
     "text": [
      "+-------------------------------------------------------------------+----+\n",
      "|items                                                              |freq|\n",
      "+-------------------------------------------------------------------+----+\n",
      "|[RED RETROSPOT UMBRELLA]                                           |25  |\n",
      "|[RECYCLED ACAPULCO MAT PINK]                                       |17  |\n",
      "|[WHITE HANGING HEART T-LIGHT HOLDER]                               |187 |\n",
      "|[REGENCY CAKESTAND 3 TIER]                                         |162 |\n",
      "|[REGENCY CAKESTAND 3 TIER, WHITE HANGING HEART T-LIGHT HOLDER]     |23  |\n",
      "|[SET 2 TEA TOWELS I LOVE LONDON]                                   |25  |\n",
      "|[RED SPOT CERAMIC DRAWER KNOB]                                     |17  |\n",
      "|[PARTY BUNTING]                                                    |132 |\n",
      "|[PARTY BUNTING, REGENCY CAKESTAND 3 TIER]                          |24  |\n",
      "|[PARTY BUNTING, WHITE HANGING HEART T-LIGHT HOLDER]                |22  |\n",
      "|[RED RETROSPOT MINI CASES]                                         |25  |\n",
      "|[FELTCRAFT DOLL MOLLY]                                             |17  |\n",
      "|[SPACEBOY BIRTHDAY CARD]                                           |17  |\n",
      "|[ASSORTED COLOUR BIRD ORNAMENT]                                    |109 |\n",
      "|[ASSORTED COLOUR BIRD ORNAMENT, PARTY BUNTING]                     |20  |\n",
      "|[ASSORTED COLOUR BIRD ORNAMENT, REGENCY CAKESTAND 3 TIER]          |23  |\n",
      "|[ASSORTED COLOUR BIRD ORNAMENT, WHITE HANGING HEART T-LIGHT HOLDER]|30  |\n",
      "|[HEART FILIGREE DOVE LARGE]                                        |25  |\n",
      "|[REX CASH+CARRY JUMBO SHOPPER]                                     |104 |\n",
      "|[REX CASH+CARRY JUMBO SHOPPER, WHITE HANGING HEART T-LIGHT HOLDER] |15  |\n",
      "+-------------------------------------------------------------------+----+\n",
      "only showing top 20 rows\n",
      "\n"
     ]
    }
   ],
   "source": [
    "model.freqItemsets.show(truncate=False)"
   ]
  },
  {
   "cell_type": "code",
   "execution_count": 25,
   "metadata": {},
   "outputs": [],
   "source": [
    "df_lift2= model.associationRules.orderBy(col('lift').desc())"
   ]
  },
  {
   "cell_type": "code",
   "execution_count": 26,
   "metadata": {},
   "outputs": [
    {
     "name": "stdout",
     "output_type": "stream",
     "text": [
      "+--------------------+--------------------+------------------+------------------+\n",
      "|          antecedent|          consequent|        confidence|              lift|\n",
      "+--------------------+--------------------+------------------+------------------+\n",
      "|[HERB MARKER ROSE...| [HERB MARKER THYME]|               1.0|              94.6|\n",
      "| [HERB MARKER THYME]|[HERB MARKER ROSE...|               1.0|              94.6|\n",
      "|[CHILDRENS CUTLER...|[CHILDRENS CUTLER...|              0.85| 57.43571428571429|\n",
      "|[CHILDRENS CUTLER...|[CHILDRENS CUTLER...|0.8095238095238095| 57.43571428571428|\n",
      "|[CHILDS GARDEN FO...|[CHILDS GARDEN FO...|0.7272727272727273| 54.31578947368421|\n",
      "|[CHILDS GARDEN FO...|[CHILDS GARDEN FO...|0.8421052631578947|54.315789473684205|\n",
      "|[SET/6 PINK  BUTT...|[SET/6 TURQUOISE ...|0.7142857142857143| 50.67857142857143|\n",
      "|[SET/6 TURQUOISE ...|[SET/6 PINK  BUTT...|              0.75| 50.67857142857143|\n",
      "|[POPPY'S PLAYHOUS...|[POPPY'S PLAYHOUS...|0.7272727272727273| 44.86956521739131|\n",
      "|[POPPY'S PLAYHOUS...|[POPPY'S PLAYHOUS...|0.8888888888888888|42.044444444444444|\n",
      "|[POPPY'S PLAYHOUS...|[POPPY'S PLAYHOUS...|               0.8|42.044444444444444|\n",
      "|[POPPY'S PLAYHOUS...|[POPPY'S PLAYHOUS...| 0.782608695652174|41.130434782608695|\n",
      "|[POPPY'S PLAYHOUS...|[POPPY'S PLAYHOUS...|0.8695652173913043|41.130434782608695|\n",
      "|[POPPY'S PLAYHOUS...|[POPPY'S PLAYHOUS...|0.6666666666666666|41.130434782608695|\n",
      "|[POPPY'S PLAYHOUS...|[POPPY'S PLAYHOUS...|0.6666666666666666|41.130434782608695|\n",
      "|[SET/10 PINK POLK...|[SET/10 BLUE POLK...|             0.625|           40.3125|\n",
      "|[SET/10 BLUE POLK...|[SET/10 PINK POLK...|0.9090909090909091|           40.3125|\n",
      "|[POPPY'S PLAYHOUS...|[POPPY'S PLAYHOUS...|0.7333333333333333| 38.54074074074074|\n",
      "|[POPPY'S PLAYHOUS...|[POPPY'S PLAYHOUS...|0.8148148148148148| 38.54074074074074|\n",
      "|[BATHROOM METAL S...| [TOILET METAL SIGN]|0.5151515151515151|             36.55|\n",
      "+--------------------+--------------------+------------------+------------------+\n",
      "only showing top 20 rows\n",
      "\n"
     ]
    }
   ],
   "source": [
    "df_lift2.show()"
   ]
  },
  {
   "cell_type": "code",
   "execution_count": 27,
   "metadata": {},
   "outputs": [],
   "source": [
    "fp2 = df_lift2.select(\"antecedent\", \"consequent\").collect()"
   ]
  },
  {
   "cell_type": "code",
   "execution_count": 28,
   "metadata": {},
   "outputs": [],
   "source": [
    "fp_final={\"0\":fp, \"1\":fp1,\"2\":fp2}"
   ]
  },
  {
   "cell_type": "markdown",
   "metadata": {},
   "source": [
    "### Helper recommend"
   ]
  },
  {
   "cell_type": "code",
   "execution_count": 29,
   "metadata": {},
   "outputs": [],
   "source": [
    "def addToSuggest(suggest, consequent, items):\n",
    "    for c in consequent:\n",
    "        if c not in items:\n",
    "            suggest.add(c)\n",
    "    \n",
    "    return suggest"
   ]
  },
  {
   "cell_type": "code",
   "execution_count": 30,
   "metadata": {},
   "outputs": [],
   "source": [
    "def inArray(antecedent, items):\n",
    "    flag = [1 if a in items else 0 for a in antecedent]\n",
    "    sumFlag = 0\n",
    "    \n",
    "    for f in flag:\n",
    "        sumFlag += f\n",
    "    \n",
    "    return sumFlag == len(flag)"
   ]
  },
  {
   "cell_type": "code",
   "execution_count": 31,
   "metadata": {},
   "outputs": [],
   "source": [
    "def recommend(customer, fp, id):\n",
    "    for (cID, items) in customer:\n",
    "        if id == cID:\n",
    "            suggest = set()\n",
    "            for (antecedent, consequent) in fp:\n",
    "                if inArray(antecedent, items):\n",
    "                    suggest = addToSuggest(suggest, consequent,items)\n",
    "            \n",
    "            print(suggest)"
   ]
  },
  {
   "cell_type": "markdown",
   "metadata": {},
   "source": [
    "### Recommend"
   ]
  },
  {
   "cell_type": "code",
   "execution_count": 137,
   "metadata": {},
   "outputs": [],
   "source": [
    "CUSTOMERID = 17227"
   ]
  },
  {
   "cell_type": "code",
   "execution_count": 138,
   "metadata": {},
   "outputs": [],
   "source": [
    "CLUSTER = df_customer.select(\"Cluster\").filter((df_customer.CustomerID==CUSTOMERID)).collect()[0][0]"
   ]
  },
  {
   "cell_type": "code",
   "execution_count": 139,
   "metadata": {},
   "outputs": [],
   "source": [
    "df_new_customer = df_customer.filter((df_customer.Cluster==CLUSTER))"
   ]
  },
  {
   "cell_type": "code",
   "execution_count": 140,
   "metadata": {},
   "outputs": [
    {
     "name": "stdout",
     "output_type": "stream",
     "text": [
      "root\n",
      " |-- CustomerID: integer (nullable = true)\n",
      " |-- InvoiceNo: integer (nullable = true)\n",
      " |-- Description: string (nullable = true)\n",
      " |-- Cluster: integer (nullable = true)\n",
      "\n"
     ]
    }
   ],
   "source": [
    "df_new_customer.printSchema()"
   ]
  },
  {
   "cell_type": "code",
   "execution_count": 141,
   "metadata": {},
   "outputs": [],
   "source": [
    "df_new_customer=df_new_customer.select(col('CustomerID'), col('Description'))\n",
    "#df_new_customer=df_new_customer.na.drop().dropDuplicates()"
   ]
  },
  {
   "cell_type": "code",
   "execution_count": 142,
   "metadata": {},
   "outputs": [],
   "source": [
    "df_new_customer=df_new_customer.groupBy(\"CustomerID\").agg(collect_set(\"Description\").alias(\"items\"))"
   ]
  },
  {
   "cell_type": "code",
   "execution_count": 143,
   "metadata": {},
   "outputs": [],
   "source": [
    "customer = df_new_customer.collect()"
   ]
  },
  {
   "cell_type": "markdown",
   "metadata": {},
   "source": [
    "# Dự đoán sản phẩm cho khách hàng "
   ]
  },
  {
   "cell_type": "code",
   "execution_count": 144,
   "metadata": {},
   "outputs": [
    {
     "name": "stdout",
     "output_type": "stream",
     "text": [
      "{\"PAPER CHAIN KIT 50'S CHRISTMAS\", 'PAPER CHAIN KIT VINTAGE CHRISTMAS', 'PACK OF 72 RETROSPOT CAKE CASES', '72 SWEETHEART FAIRY CAKE CASES', 'PACK OF 60 DINOSAUR CAKE CASES', 'PACK OF 60 PINK PAISLEY CAKE CASES', \"ROLL WRAP 50'S RED CHRISTMAS\"}\n"
     ]
    }
   ],
   "source": [
    "suggest = recommend(customer,fp_final[str(CLUSTER)], CUSTOMERID)"
   ]
  },
  {
   "cell_type": "markdown",
   "metadata": {},
   "source": [
    "### Transform examines the input items against all the association rules and summarize the consequents as prediction\n"
   ]
  },
  {
   "cell_type": "code",
   "execution_count": 40,
   "metadata": {},
   "outputs": [],
   "source": [
    "df_predic = model.transform(df)"
   ]
  },
  {
   "cell_type": "code",
   "execution_count": 41,
   "metadata": {},
   "outputs": [
    {
     "name": "stdout",
     "output_type": "stream",
     "text": [
      "+----------+---------+--------------------+--------------------+\n",
      "|CustomerID|InvoiceNo|               items|          prediction|\n",
      "+----------+---------+--------------------+--------------------+\n",
      "|     12828|   569577|[RETROSPOT TEA SE...|[BAKING SET SPACE...|\n",
      "|     14409|   537410|[HAND WARMER BABU...|                  []|\n",
      "|     16612|   574744|[JUMBO BAG APPLES...|[RED HANGING HEAR...|\n",
      "|     17135|   571641|[SWISS CHALET TRE...|                  []|\n",
      "|     18189|   568051|[LAUREL HEART ANT...|[JAM MAKING SET W...|\n",
      "|     13451|   546670|[PING MICROWAVE A...|[LUNCH BAG RED RE...|\n",
      "|     15253|   578309|[CHRISTMAS GINGHA...|                  []|\n",
      "|     16934|   571277|[NOEL WOODEN BLOC...|[HOME BUILDING BL...|\n",
      "|     17247|   578620|[HOME SWEET HOME ...|[PLEASE ONE PERSO...|\n",
      "|     17932|   575729|[SET OF 6 T-LIGHT...|[WHITE HANGING HE...|\n",
      "|     18149|   572036|[JUMBO BAG STRAWB...|[JUMBO  BAG BAROQ...|\n",
      "|     12951|   553909|[JUMBO BAG DOILEY...|                  []|\n",
      "|     13481|   555125|[JUMBO BAG APPLES...|[VICTORIAN GLASS ...|\n",
      "|     13637|   555549|[STRAWBERRY LUNCH...|[LUNCH BAG  BLACK...|\n",
      "|     15812|   542212|[EDWARDIAN PARASO...|                  []|\n",
      "|     16317|   544071|[RETROSPOT TEA SE...|[BAKING SET 9 PIE...|\n",
      "|     16571|   575944|[VICTORIAN GLASS ...|[PINK BLUE FELT C...|\n",
      "|     17267|   562427|[VICTORIAN GLASS ...|[ALARM CLOCK BAKE...|\n",
      "|     17994|   544634|[PINK POLKADOT BO...|[LUNCH BAG  BLACK...|\n",
      "|     13632|   549567|[JUMBO BAG SCANDI...|[RED HANGING HEAR...|\n",
      "+----------+---------+--------------------+--------------------+\n",
      "only showing top 20 rows\n",
      "\n"
     ]
    }
   ],
   "source": [
    "df_predic.show()"
   ]
  },
  {
   "cell_type": "code",
   "execution_count": null,
   "metadata": {},
   "outputs": [],
   "source": []
  }
 ],
 "metadata": {
  "kernelspec": {
   "display_name": "Python 3",
   "language": "python",
   "name": "python3"
  },
  "language_info": {
   "codemirror_mode": {
    "name": "ipython",
    "version": 3
   },
   "file_extension": ".py",
   "mimetype": "text/x-python",
   "name": "python",
   "nbconvert_exporter": "python",
   "pygments_lexer": "ipython3",
   "version": "3.7.3"
  }
 },
 "nbformat": 4,
 "nbformat_minor": 4
}
